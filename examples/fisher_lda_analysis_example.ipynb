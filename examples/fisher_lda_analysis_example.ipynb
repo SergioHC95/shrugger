{
 "cells": [
  {
   "cell_type": "markdown",
   "metadata": {},
   "source": [
    "# Fisher LDA Analysis Example\n",
    "\n",
    "This notebook demonstrates how to use the refactored Fisher LDA analysis modules to find abstention directions in language model representations.\n",
    "\n",
    "## Overview\n",
    "\n",
    "The analysis pipeline:\n",
    "1. **Load Data**: Real experimental data or synthetic demo data\n",
    "2. **Compute Directions**: Fisher LDA with Ledoit-Wolf shrinkage\n",
    "3. **Evaluate**: AUC, Cohen's d, and separation metrics\n",
    "4. **Analyze**: Find best layers and generate reports\n"
   ]
  },
  {
   "cell_type": "code",
   "execution_count": 3,
   "metadata": {},
   "outputs": [
    {
     "name": "stdout",
     "output_type": "stream",
     "text": [
      "Current working directory: /home/sergio/projects/MATS-Project/examples\n",
      "Project root: /home/sergio/projects/MATS-Project\n",
      "✓ Modules imported successfully\n"
     ]
    }
   ],
   "source": [
    "import sys\n",
    "from pathlib import Path\n",
    "\n",
    "import numpy as np\n",
    "\n",
    "# Add project root to path\n",
    "project_root = Path.cwd().parent if Path.cwd().name == 'examples' else Path.cwd()\n",
    "sys.path.insert(0, str(project_root))\n",
    "\n",
    "print(f\"Current working directory: {Path.cwd()}\")\n",
    "print(f\"Project root: {project_root}\")\n",
    "\n",
    "from abstainer.src.analysis import (\n",
    "    DirectionAnalyzer,\n",
    "    FisherLDAAnalyzer,\n",
    "    ResidualVectorLoader,\n",
    ")\n",
    "\n",
    "print(\"✓ Modules imported successfully\")"
   ]
  },
  {
   "cell_type": "markdown",
   "metadata": {},
   "source": [
    "## Step 1: Load Data\n",
    "\n",
    "Try to load real experimental data first, fall back to synthetic data for demonstration.\n"
   ]
  },
  {
   "cell_type": "code",
   "execution_count": 4,
   "metadata": {},
   "outputs": [
    {
     "name": "stdout",
     "output_type": "stream",
     "text": [
      "✓ Loaded real data with 35 layers: [0, 1, 2, 3, 4]...\n"
     ]
    }
   ],
   "source": [
    "# Try to load real experimental data\n",
    "try:\n",
    "    loader = ResidualVectorLoader(results_dir=project_root / \"results\")\n",
    "    residual_vectors = loader.load_layer_files()\n",
    "    layers = sorted(residual_vectors['positive'].keys())\n",
    "    print(f\"✓ Loaded real data with {len(layers)} layers: {layers[:5]}...\")\n",
    "    use_real_data = True\n",
    "except Exception as e:\n",
    "    print(f\"⚠ Could not load real data: {e}\")\n",
    "    print(\"Creating synthetic data for demonstration...\")\n",
    "    use_real_data = False\n"
   ]
  },
  {
   "cell_type": "code",
   "execution_count": 5,
   "metadata": {},
   "outputs": [],
   "source": [
    "if not use_real_data:\n",
    "    # Create synthetic data with clear abstention patterns\n",
    "    np.random.seed(42)\n",
    "    residual_vectors = {'positive': {}, 'negative': {}}\n",
    "\n",
    "    # Create data for layers 20-24 (typical high-performing layers)\n",
    "    for layer in [20, 21, 22, 23, 24]:\n",
    "        n_samples = 200\n",
    "        n_features = 100\n",
    "\n",
    "        # High abstention class: separation in first 10 features\n",
    "        H_pos = np.random.randn(n_samples, n_features)\n",
    "        H_pos[:, :10] += 1.5  # Clear separation signal\n",
    "\n",
    "        # Low abstention class: opposite separation\n",
    "        H_neg = np.random.randn(n_samples, n_features)\n",
    "        H_neg[:, :10] -= 1.5\n",
    "\n",
    "        residual_vectors['positive'][layer] = H_pos\n",
    "        residual_vectors['negative'][layer] = H_neg\n",
    "\n",
    "    layers = sorted(residual_vectors['positive'].keys())\n",
    "    print(f\"✓ Created synthetic data with {len(layers)} layers: {layers}\")\n",
    "    print(f\"  Data shape: {residual_vectors['positive'][layers[0]].shape}\")\n"
   ]
  },
  {
   "cell_type": "code",
   "execution_count": 10,
   "metadata": {},
   "outputs": [
    {
     "name": "stderr",
     "output_type": "stream",
     "text": [
      "Using pseudo-inverse for numerical stability\n",
      "Zero norm direction vector - classes may be identical\n"
     ]
    },
    {
     "name": "stdout",
     "output_type": "stream",
     "text": [
      "✓ Computed Fisher LDA directions for 35 layers\n",
      "  Example (layer 22): direction shape = (2560,)\n",
      "  Direction is normalized: ||v|| = 1.0000\n"
     ]
    }
   ],
   "source": [
    "# Compute Fisher LDA directions for each layer\n",
    "lda_analyzer = FisherLDAAnalyzer()\n",
    "lda_directions = lda_analyzer.compute_directions(\n",
    "    residual_vectors=residual_vectors,\n",
    "    save_incremental=False  # Don't save during demo\n",
    ")\n",
    "\n",
    "print(f\"✓ Computed Fisher LDA directions for {len(lda_directions)} layers\")\n",
    "\n",
    "# Show example direction properties\n",
    "if lda_directions:\n",
    "    example_layer = list(lda_directions.keys())[22]\n",
    "    direction = lda_directions[example_layer]\n",
    "    print(f\"  Example (layer {example_layer}): direction shape = {direction.shape}\")\n",
    "    print(f\"  Direction is normalized: ||v|| = {np.linalg.norm(direction):.4f}\")\n"
   ]
  },
  {
   "cell_type": "code",
   "execution_count": 11,
   "metadata": {},
   "outputs": [
    {
     "name": "stdout",
     "output_type": "stream",
     "text": [
      "✓ Evaluated 35 layer directions\n",
      "\n",
      "Top 5 layers by AUC:\n",
      " layer      auc  cohen_d  separation  n_pos  n_neg\n",
      "    22 0.999382 5.929088   10.455993   6865   6775\n",
      "    23 0.999304 5.875009   13.187583   6865   6775\n",
      "     9 0.999284 5.054308    0.254094   6845   6795\n",
      "    24 0.999228 5.813303   17.229907   6865   6775\n",
      "    26 0.999183 5.880976   21.420403   6865   6775\n",
      "\n",
      "Best layer: 22\n",
      "  AUC: 0.9994\n",
      "  Cohen's d: 5.9291\n",
      "  Separation: 10.4560\n",
      "  Overlap: 0.0119\n"
     ]
    }
   ],
   "source": [
    "# Evaluate direction effectiveness across all layers\n",
    "direction_analyzer = DirectionAnalyzer()\n",
    "evaluations = direction_analyzer.evaluate_all_layers(\n",
    "    residual_vectors=residual_vectors,\n",
    "    lda_directions=lda_directions\n",
    ")\n",
    "\n",
    "print(f\"✓ Evaluated {len(evaluations)} layer directions\")\n",
    "\n",
    "# Show summary of top-performing layers\n",
    "direction_analyzer.print_summary(n_top=5)\n"
   ]
  },
  {
   "cell_type": "code",
   "execution_count": 12,
   "metadata": {},
   "outputs": [
    {
     "name": "stdout",
     "output_type": "stream",
     "text": [
      "\n",
      "🎯 Best Layer: 22\n",
      "   AUC: 0.9994\n",
      "   Cohen's d: 5.9291\n",
      "   Mean separation: 10.4560\n",
      "   Examples: 6865 high-CA, 6775 low-CA\n",
      "\n",
      "📊 Projection Statistics:\n",
      "   High-CA mean: -20.5676 (±1.7823)\n",
      "   Low-CA mean: -31.0236 (±1.7445)\n",
      "   Overlap rate: 1.2%\n"
     ]
    }
   ],
   "source": [
    "# Get detailed results for the best layer\n",
    "best_layer = direction_analyzer.get_best_layer()\n",
    "best_eval = direction_analyzer.get_layer_evaluation(best_layer)\n",
    "\n",
    "if best_eval:\n",
    "    print(f\"\\n🎯 Best Layer: {best_layer}\")\n",
    "    print(f\"   AUC: {best_eval['auc']:.4f}\")\n",
    "    print(f\"   Cohen's d: {best_eval['cohen_d']:.4f}\")\n",
    "    print(f\"   Mean separation: {best_eval['separation']:.4f}\")\n",
    "    print(f\"   Examples: {best_eval['n_pos']} high-CA, {best_eval['n_neg']} low-CA\")\n",
    "\n",
    "    # Show projection statistics\n",
    "    print(\"\\n📊 Projection Statistics:\")\n",
    "    print(f\"   High-CA mean: {best_eval['mean_pos']:.4f} (±{best_eval['std_pos']:.4f})\")\n",
    "    print(f\"   Low-CA mean: {best_eval['mean_neg']:.4f} (±{best_eval['std_neg']:.4f})\")\n",
    "    print(f\"   Overlap rate: {best_eval['overlap']:.1%}\")\n",
    "else:\n",
    "    print(\"No evaluation results available\")\n"
   ]
  },
  {
   "cell_type": "code",
   "execution_count": 13,
   "metadata": {},
   "outputs": [
    {
     "data": {
      "image/png": "[encoded data removed]",
      "text/plain": [
       "<Figure size 1000x400 with 2 Axes>"
      ]
     },
     "metadata": {},
     "output_type": "display_data"
    },
    {
     "name": "stdout",
     "output_type": "stream",
     "text": [
      "✓ Visualization created\n"
     ]
    }
   ],
   "source": [
    "# Optional: Create a simple visualization (if matplotlib available)\n",
    "try:\n",
    "    import matplotlib.pyplot as plt\n",
    "\n",
    "    if best_eval and 'proj_pos' in best_eval:\n",
    "        plt.figure(figsize=(10, 4))\n",
    "\n",
    "        # Plot 1: Projection histograms\n",
    "        plt.subplot(1, 2, 1)\n",
    "        plt.hist(best_eval['proj_neg'], bins=20, alpha=0.7, label='Low-CA', color='salmon')\n",
    "        plt.hist(best_eval['proj_pos'], bins=20, alpha=0.7, label='High-CA', color='skyblue')\n",
    "        plt.axvline(best_eval['mean_neg'], color='red', linestyle='--', alpha=0.8)\n",
    "        plt.axvline(best_eval['mean_pos'], color='blue', linestyle='--', alpha=0.8)\n",
    "        plt.xlabel('Projection onto Abstention Direction')\n",
    "        plt.ylabel('Count')\n",
    "        plt.title(f'Layer {best_layer} Projections')\n",
    "        plt.legend()\n",
    "\n",
    "        # Plot 2: Layer performance comparison\n",
    "        plt.subplot(1, 2, 2)\n",
    "        summary_df = direction_analyzer.get_summary_dataframe()\n",
    "        if len(summary_df) > 1:\n",
    "            plt.plot(summary_df['layer'], summary_df['auc'], 'bo-', markersize=6)\n",
    "            plt.scatter([best_layer], [best_eval['auc']], color='red', s=100, zorder=5)\n",
    "            plt.xlabel('Layer')\n",
    "            plt.ylabel('AUC')\n",
    "            plt.title('Performance Across Layers')\n",
    "            plt.grid(True, alpha=0.3)\n",
    "\n",
    "        plt.tight_layout()\n",
    "        plt.show()\n",
    "        print(\"✓ Visualization created\")\n",
    "\n",
    "except ImportError:\n",
    "    print(\"⚠ Matplotlib not available for visualization\")\n",
    "except Exception as e:\n",
    "    print(f\"⚠ Visualization failed: {e}\")\n"
   ]
  },
  {
   "cell_type": "markdown",
   "metadata": {},
   "source": [
    "## CLI Alternative\n",
    "\n",
    "You can also run the complete analysis from the command line:\n",
    "\n",
    "```bash\n",
    "# Run full analysis on all available data\n",
    "python scripts/run_fisher_analysis.py\n",
    "\n",
    "# Analyze specific layers only\n",
    "python scripts/run_fisher_analysis.py --layers 20 21 22 23 24\n",
    "\n",
    "# Save detailed summary report\n",
    "python scripts/run_fisher_analysis.py --save-summary --verbose\n",
    "\n",
    "# Use custom data directory\n",
    "python scripts/run_fisher_analysis.py --data-dir ./my_results\n",
    "\n",
    "# Get help with all options\n",
    "python scripts/run_fisher_analysis.py --help\n",
    "```\n",
    "\n",
    "This provides a complete pipeline from data loading through analysis and reporting, perfect for automated workflows or batch processing.\n"
   ]
  }
 ],
 "metadata": {
  "kernelspec": {
   "display_name": "abstainer",
   "language": "python",
   "name": "python3"
  },
  "language_info": {
   "name": "python",
   "version": "3.13.7"
  }
 },
 "nbformat": 4,
 "nbformat_minor": 2
}
