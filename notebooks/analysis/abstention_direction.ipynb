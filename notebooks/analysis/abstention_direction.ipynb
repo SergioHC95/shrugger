{
  "cells": [
    {
      "cell_type": "markdown",
      "metadata": {},
      "source": [
        "# Abstention Direction Analysis\n",
        "\n",
        "This notebook identifies a one-dimensional activation direction in the residual stream that linearly separates abstention from non-abstention at the answer token, focusing on forms V1 and V2 which elicit abstention more reliably."
      ]
    },
    {
      "cell_type": "code",
      "execution_count": 1,
      "metadata": {},
      "outputs": [],
      "source": [
        "# Import required packages\n",
        "import logging\n",
        "import numpy as np\n",
        "import pandas as pd\n",
        "from pathlib import Path\n",
        "import matplotlib.pyplot as plt\n",
        "\n",
        "# Import from shrugger package\n",
        "from shrugger import (\n",
        "    ResidualVectorLoader,\n",
        "    FisherLDAAnalyzer,\n",
        "    DirectionAnalyzer\n",
        ")\n",
        "\n",
        "# Set random seed for reproducibility\n",
        "np.random.seed(42)\n",
        "\n",
        "# Configure logging\n",
        "logging.basicConfig(\n",
        "    level=logging.INFO,\n",
        "    format=\"%(asctime)s - %(name)s - %(levelname)s - %(message)s\"\n",
        ")\n"
      ]
    },
    {
      "cell_type": "markdown",
      "metadata": {},
      "source": [
        "## 1. Load Residual Stream Data\n",
        "\n",
        "First, we'll load the residual stream data for forms V1 and V2 using the `ResidualVectorLoader` class.\n"
      ]
    },
    {
      "cell_type": "code",
      "execution_count": null,
      "metadata": {},
      "outputs": [],
      "source": [
        "# Initialize the residual vector loader\n",
        "loader = ResidualVectorLoader()\n",
        "\n",
        "# Define the path to the data directory\n",
        "data_dir = Path(\"../../results/abstention_direction\")\n",
        "\n",
        "# Load residual vectors\n",
        "try:\n",
        "    # Try to load from layer files\n",
        "    residual_vectors = loader.load_layer_files(data_dir=data_dir)\n",
        "    print(f\"Successfully loaded residual vectors for {len(residual_vectors['positive'])} layers\")\n",
        "    \n",
        "    # Show available layers\n",
        "    layers = sorted(residual_vectors['positive'].keys())\n",
        "    print(f\"Available layers: {layers}\")\n",
        "    \n",
        "    # Show shape of vectors for the first layer\n",
        "    first_layer = min(layers)\n",
        "    pos_shape = residual_vectors['positive'][first_layer].shape\n",
        "    neg_shape = residual_vectors['negative'][first_layer].shape\n",
        "    print(f\"Layer {first_layer} shapes: positive {pos_shape}, negative {neg_shape}\")\n",
        "    \n",
        "except FileNotFoundError:\n",
        "    print(\"No layer files found. Please run the data extraction process first.\")\n"
      ]
    },
    {
      "cell_type": "markdown",
      "metadata": {},
      "source": [
        "## 2. Compute Fisher LDA Directions\n",
        "\n",
        "Next, we'll compute the Fisher LDA directions using the `FisherLDAAnalyzer` class.\n"
      ]
    },
    {
      "cell_type": "code",
      "execution_count": null,
      "metadata": {},
      "outputs": [],
      "source": [
        "# Initialize the Fisher LDA analyzer\n",
        "lda_analyzer = FisherLDAAnalyzer(\n",
        "    results_dir=\"../../results/LDA\",  # Output directory for LDA results\n",
        "    lambda_=-1.0,  # Use Ledoit-Wolf estimation for shrinkage\n",
        "    alpha=1.0      # Identity scaling factor for shrinkage target\n",
        ")\n",
        "\n",
        "# Check if we already have existing results\n",
        "has_existing = lda_analyzer.load_existing_results()\n",
        "if has_existing:\n",
        "    print(\"Loaded existing LDA results\")\n",
        "    lda_directions = lda_analyzer.get_directions()\n",
        "    print(f\"Found directions for {len(lda_directions)} layers\")\n",
        "else:\n",
        "    print(\"No existing LDA results found, computing new directions...\")\n",
        "    \n",
        "    # Compute directions for all layers\n",
        "    lda_directions = lda_analyzer.compute_directions(\n",
        "        residual_vectors=residual_vectors,\n",
        "        save_incremental=True  # Save results after each layer\n",
        "    )\n",
        "    print(f\"Computed directions for {len(lda_directions)} layers\")\n",
        "\n",
        "# Show a sample direction\n",
        "if lda_directions:\n",
        "    sample_layer = next(iter(lda_directions))\n",
        "    print(f\"Sample direction for layer {sample_layer} has shape {lda_directions[sample_layer].shape}\")\n"
      ]
    },
    {
      "cell_type": "markdown",
      "metadata": {},
      "source": [
        "## 3. Evaluate Direction Effectiveness\n",
        "\n",
        "Now we'll evaluate the effectiveness of the computed directions using the `DirectionAnalyzer` class.\n"
      ]
    },
    {
      "cell_type": "code",
      "execution_count": null,
      "metadata": {},
      "outputs": [],
      "source": [
        "# Initialize the direction analyzer\n",
        "direction_analyzer = DirectionAnalyzer()\n",
        "\n",
        "# Evaluate all directions\n",
        "evaluations = direction_analyzer.evaluate_all_layers(\n",
        "    residual_vectors=residual_vectors,\n",
        "    lda_directions=lda_directions\n",
        ")\n",
        "\n",
        "# Print summary of top layers\n",
        "direction_analyzer.print_summary(n_top=10)\n"
      ]
    },
    {
      "cell_type": "markdown",
      "metadata": {},
      "source": [
        "## 4. Analyze Best Layer\n",
        "\n",
        "Let's examine the best performing layer in more detail.\n"
      ]
    },
    {
      "cell_type": "code",
      "execution_count": null,
      "metadata": {},
      "outputs": [],
      "source": [
        "# Get the best layer\n",
        "best_layer = direction_analyzer.get_best_layer()\n",
        "print(f\"Best layer: {best_layer}\")\n",
        "\n",
        "# Get evaluation results for the best layer\n",
        "best_eval = direction_analyzer.get_layer_evaluation(best_layer)\n",
        "\n",
        "# Print detailed metrics\n",
        "print(f\"AUC: {best_eval['auc']:.4f}\")\n",
        "print(f\"Cohen's d: {best_eval['cohen_d']:.4f}\")\n",
        "print(f\"Separation: {best_eval['separation']:.4f}\")\n",
        "print(f\"Overlap: {best_eval['overlap']:.4f}\")\n",
        "print(f\"Examples: {best_eval['n_pos']} positive, {best_eval['n_neg']} negative\")\n"
      ]
    },
    {
      "cell_type": "markdown",
      "metadata": {},
      "source": [
        "## 5. Visualize Projections\n",
        "\n",
        "Let's visualize the projections of examples onto the best direction.\n"
      ]
    },
    {
      "cell_type": "code",
      "execution_count": null,
      "metadata": {},
      "outputs": [],
      "source": [
        "from shrugger.src.plots import plot_projections\n",
        "# Plot projections for the best layer using the function from plots module\n",
        "plot_projections(best_eval, title=f\"Layer {best_layer} - Projections onto Abstention Direction\")\n"
      ]
    },
    {
      "cell_type": "markdown",
      "metadata": {},
      "source": [
        "## 6. Compare Multiple Layers\n",
        "\n",
        "Let's compare the performance of multiple top layers.\n"
      ]
    },
    {
      "cell_type": "code",
      "execution_count": null,
      "metadata": {},
      "outputs": [],
      "source": [
        "# Get the summary dataframe\n",
        "summary_df = direction_analyzer.get_summary_dataframe()\n",
        "\n",
        "# Display the top layers\n",
        "summary_df.head(10)[['layer', 'auc', 'cohen_d', 'separation', 'n_pos', 'n_neg']]\n"
      ]
    },
    {
      "cell_type": "code",
      "execution_count": null,
      "metadata": {},
      "outputs": [],
      "source": [
        "# Create a plot of AUC and Cohen's d across layers using the function from plots module\n",
        "from shrugger.src.plots import plot_layer_performance\n",
        "\n",
        "# Plot layer performance metrics\n",
        "plot_layer_performance(evaluations, best_layer=best_layer)\n",
        "plt.show()\n"
      ]
    },
    {
      "cell_type": "markdown",
      "metadata": {},
      "source": [
        "## 7. Save Results\n",
        "\n",
        "Finally, let's save our analysis results.\n"
      ]
    },
    {
      "cell_type": "code",
      "execution_count": null,
      "metadata": {},
      "outputs": [],
      "source": [
        "# Create output directory if it doesn't exist\n",
        "output_dir = Path('../../outputs/abstention_analysis')\n",
        "output_dir.mkdir(parents=True, exist_ok=True)\n",
        "\n",
        "# Save summary dataframe\n",
        "summary_path = output_dir / 'layer_summary.csv'\n",
        "summary_df.to_csv(summary_path, index=False)\n",
        "print(f\"Saved summary to {summary_path}\")\n",
        "\n",
        "# Save best layer information\n",
        "best_layer_info = pd.DataFrame([\n",
        "    {\n",
        "        'layer': best_layer,\n",
        "        'auc': best_eval['auc'],\n",
        "        'cohen_d': best_eval['cohen_d'],\n",
        "        'separation': best_eval['separation'],\n",
        "        'overlap': best_eval['overlap'],\n",
        "        'n_pos': best_eval['n_pos'],\n",
        "        'n_neg': best_eval['n_neg']\n",
        "    }\n",
        "])\n",
        "best_layer_path = output_dir / 'best_layer.csv'\n",
        "best_layer_info.to_csv(best_layer_path, index=False)\n",
        "print(f\"Saved best layer info to {best_layer_path}\")\n"
      ]
    },
    {
      "cell_type": "markdown",
      "metadata": {},
      "source": [
        "## 8. Evaluate on Development Set\n",
        "\n",
        "Let's evaluate our abstention direction on the development set to see how well it generalizes to unseen examples.\n"
      ]
    },
    {
      "cell_type": "code",
      "execution_count": null,
      "metadata": {},
      "outputs": [],
      "source": [
        "from pathlib import Path\n",
        "from sklearn.metrics import roc_auc_score, roc_curve\n",
        "from shrugger import load_dev_data\n",
        "\n",
        "# Define path to the best layer data\n",
        "best_layer_dir = Path(f\"../../results/by_layer_20250911_112921/by_layer/layer_{best_layer}\")\n",
        "\n",
        "# Load development set data using the function from the shrugger package\n",
        "dev_vectors, dev_metadata = load_dev_data(best_layer_dir, forms=['V1', 'V2'])\n"
      ]
    },
    {
      "cell_type": "code",
      "execution_count": null,
      "metadata": {},
      "outputs": [],
      "source": [
        "# Import the new functions from the shrugger package\n",
        "from shrugger import create_abstention_labels, calculate_abstention_metrics\n",
        "from shrugger.src.plots import plot_projections, plot_roc_curve\n",
        "\n",
        "# Project vectors onto the best layer's LDA direction\n",
        "dev_projections = np.dot(dev_vectors, lda_directions[best_layer])\n",
        "print(f\"Dev projections shape: {dev_projections.shape}\")\n",
        "print(f\"Projection range: [{dev_projections.min():.4f}, {dev_projections.max():.4f}]\")\n",
        "print(f\"Projection mean: {dev_projections.mean():.4f}, std: {dev_projections.std():.4f}\")\n",
        "\n",
        "# Create abstention labels from metadata\n",
        "abstention_labels = create_abstention_labels(dev_metadata)\n",
        "print(f\"High confidence abstention examples: {np.sum(abstention_labels == 1)}\")\n",
        "print(f\"Low confidence abstention examples: {np.sum(abstention_labels == 0)}\")\n",
        "\n",
        "# Calculate abstention metrics\n",
        "metrics = calculate_abstention_metrics(dev_projections, abstention_labels)\n",
        "\n",
        "if metrics:\n",
        "    print(f\"AUC: {metrics['auc']:.4f}, Cohen's d: {metrics['cohen_d']:.4f}\")\n",
        "    print(f\"Mean High CA: {metrics['mean_high_ca']:.4f}, Mean Low CA: {metrics['mean_low_ca']:.4f}\")\n",
        "    print(f\"Std High CA: {metrics['std_high_ca']:.4f}, Std Low CA: {metrics['std_low_ca']:.4f}\")\n",
        "    \n",
        "    # Create evaluation results dictionary for plotting\n",
        "    eval_results = {\n",
        "        'proj_pos': metrics['high_ca_projections'],\n",
        "        'proj_neg': metrics['low_ca_projections'],\n",
        "        'mean_pos': metrics['mean_high_ca'],\n",
        "        'mean_neg': metrics['mean_low_ca'],\n",
        "        'auc': metrics['auc'],\n",
        "        'cohen_d': metrics['cohen_d']\n",
        "    }\n",
        "    \n",
        "    # Plot projections using the function from plots module\n",
        "    plot_projections(eval_results, title=f'Projections onto Abstention Direction (Layer {best_layer}) - Dev Set')\n",
        "    \n",
        "    # Plot ROC curve\n",
        "    plot_roc_curve(metrics['all_labels'], metrics['all_projections'], \n",
        "                  title=f'ROC Curve for Abstention Prediction (Layer {best_layer})')\n",
        "else:\n",
        "    print(\"Not enough data to calculate metrics\")\n"
      ]
    }
  ],
  "metadata": {
    "kernelspec": {
      "display_name": "shrugger",
      "language": "python",
      "name": "python3"
    },
    "language_info": {
      "codemirror_mode": {
        "name": "ipython",
        "version": 3
      },
      "file_extension": ".py",
      "mimetype": "text/x-python",
      "name": "python",
      "nbconvert_exporter": "python",
      "pygments_lexer": "ipython3",
      "version": "3.13.7"
    }
  },
  "nbformat": 4,
  "nbformat_minor": 2
}
