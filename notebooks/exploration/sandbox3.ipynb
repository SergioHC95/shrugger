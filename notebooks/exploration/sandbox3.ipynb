{
  "cells": [
    {
      "cell_type": "code",
      "execution_count": 1,
      "metadata": {},
      "outputs": [],
      "source": [
        "%reload_ext autoreload\n",
        "%autoreload 2"
      ]
    },
    {
      "cell_type": "code",
      "execution_count": 5,
      "metadata": {},
      "outputs": [
        {
          "name": "stdout",
          "output_type": "stream",
          "text": [
            "Overall average score: 0.97\n",
            "Difficulty 1: avg score = 1.10, valid ratio = 100.00%\n",
            "Difficulty 2: avg score = 0.93, valid ratio = 100.00%\n",
            "Difficulty 3: avg score = 1.10, valid ratio = 100.00%\n",
            "Difficulty 4: avg score = 0.77, valid ratio = 100.00%\n",
            "Difficulty 5: avg score = 0.93, valid ratio = 100.00%\n",
            "Subject Biology: avg score = 1.08, valid ratio = 100.00%\n",
            "Subject Chemistry: avg score = 1.04, valid ratio = 100.00%\n",
            "Subject Physics: avg score = 0.77, valid ratio = 100.00%\n",
            "Confusion matrix:\n",
            "Yes: {'A': 64, 'D': 3, 'B': 2}\n",
            "No: {'D': 52, 'A': 20, 'C': 5, 'E': 2}\n"
          ]
        }
      ],
      "source": [
        "from abstainer.src.metrics import generate_comprehensive_report\n",
        "\n",
        "# Get a comprehensive analysis\n",
        "report = generate_comprehensive_report(\"results/likert_exp_0.json\")\n",
        "\n",
        "# Print overall statistics\n",
        "print(f\"Overall average score: {report['overall']['avg_score']:.2f}\")\n",
        "\n",
        "# Look at performance by difficulty\n",
        "for difficulty, stats in report['by_difficulty'].items():\n",
        "    print(f\"Difficulty {difficulty}: avg score = {stats['avg_score']:.2f}, valid ratio = {stats['valid_ratio']:.2%}\")\n",
        "\n",
        "# Look at performance by subject\n",
        "for subject, stats in report['by_subject'].items():\n",
        "    print(f\"Subject {subject}: avg score = {stats['avg_score']:.2f}, valid ratio = {stats['valid_ratio']:.2%}\")\n",
        "\n",
        "# Examine the confusion matrix\n",
        "print(\"Confusion matrix:\")\n",
        "for answer, predictions in report['confusion_matrix'].items():\n",
        "    print(f\"{answer}: {predictions}\")"
      ]
    },
    {
      "cell_type": "code",
      "execution_count": null,
      "metadata": {},
      "outputs": [],
      "source": []
    }
  ],
  "metadata": {
    "kernelspec": {
      "display_name": "abstainer",
      "language": "python",
      "name": "python3"
    },
    "language_info": {
      "codemirror_mode": {
        "name": "ipython",
        "version": 3
      },
      "file_extension": ".py",
      "mimetype": "text/x-python",
      "name": "python",
      "nbconvert_exporter": "python",
      "pygments_lexer": "ipython3",
      "version": "3.13.7"
    }
  },
  "nbformat": 4,
  "nbformat_minor": 2
}
