{
 "cells": [
  {
   "cell_type": "markdown",
   "metadata": {},
   "source": [
    "# Experiment Data Reorganization Demo\n",
    "\n",
    "This notebook demonstrates how to reorganize experiment data by layer instead of by experiment.\n"
   ]
  },
  {
   "cell_type": "markdown",
   "metadata": {},
   "source": [
    "## 1. Setup\n",
    "\n",
    "First, let's import the necessary modules and set up paths.\n"
   ]
  },
  {
   "cell_type": "code",
   "execution_count": 1,
   "metadata": {},
   "outputs": [],
   "source": [
    "import json\n",
    "import sys\n",
    "from pathlib import Path\n",
    "\n",
    "import numpy as np\n",
    "\n",
    "# Define paths\n",
    "RESULTS_DIR = \"./results\"\n",
    "OUTPUT_DIR = \"./results\"\n",
    "\n",
    "# Import functions from our scripts\n",
    "sys.path.append(\"./\")\n",
    "from cleanup_corrupted_files import cleanup_corrupted_files\n",
    "from reorganize_by_layer import get_experiment_dirs, process_experiment\n",
    "from verify_layer_data import verify_layer_data\n"
   ]
  },
  {
   "cell_type": "markdown",
   "metadata": {},
   "source": [
    "## 2. Find Experiment Directories\n",
    "\n",
    "Let's find all experiment directories in the comprehensive_experiments folder.\n"
   ]
  },
  {
   "cell_type": "code",
   "execution_count": 2,
   "metadata": {},
   "outputs": [
    {
     "name": "stdout",
     "output_type": "stream",
     "text": [
      "Found 60 experiment directories in comprehensive_experiments:\n",
      "  1. results/comprehensive_experiments/run_20250911_062422/V0_num_p2\n",
      "  2. results/comprehensive_experiments/run_20250911_062422/V3_num_p2\n",
      "  3. results/comprehensive_experiments/run_20250911_062422/V5_alpha_p5\n",
      "  4. results/comprehensive_experiments/run_20250911_062422/V5_alpha_p2\n",
      "  5. results/comprehensive_experiments/run_20250911_062422/V4_num_p4\n",
      "  ... and 55 more\n"
     ]
    }
   ],
   "source": [
    "# This function now only returns directories from comprehensive_experiments\n",
    "experiment_dirs = get_experiment_dirs(RESULTS_DIR)\n",
    "print(f\"Found {len(experiment_dirs)} experiment directories in comprehensive_experiments:\")\n",
    "for i, exp_dir in enumerate(experiment_dirs[:5]):\n",
    "    print(f\"  {i+1}. {exp_dir}\")\n",
    "if len(experiment_dirs) > 5:\n",
    "    print(f\"  ... and {len(experiment_dirs) - 5} more\")\n"
   ]
  },
  {
   "cell_type": "markdown",
   "metadata": {},
   "source": [
    "## 3. Reorganize Data by Layer\n",
    "\n",
    "Now let's process a single experiment directory to demonstrate the reorganization.\n"
   ]
  },
  {
   "cell_type": "code",
   "execution_count": 5,
   "metadata": {},
   "outputs": [
    {
     "name": "stdout",
     "output_type": "stream",
     "text": [
      "Processing experiment: results/comprehensive_experiments/run_20250911_062422/V0_num_p2\n",
      "Processing experiment: results/comprehensive_experiments/run_20250911_062422/V0_num_p2\n",
      "File: hidden_states_V0.npz, Layers: 35, Hidden dim: 2560\n"
     ]
    },
    {
     "name": "stderr",
     "output_type": "stream",
     "text": [
      "Layer 00: 100%|██████████| 1050/1050 [00:02<00:00, 394.26it/s]\n"
     ]
    },
    {
     "name": "stdout",
     "output_type": "stream",
     "text": [
      "Created results/by_layer/layer_00/V0_num_p2_V0.npz with 1050 questions\n"
     ]
    },
    {
     "name": "stderr",
     "output_type": "stream",
     "text": [
      "Layer 01: 100%|██████████| 1050/1050 [00:02<00:00, 522.80it/s]\n"
     ]
    },
    {
     "name": "stdout",
     "output_type": "stream",
     "text": [
      "Created results/by_layer/layer_01/V0_num_p2_V0.npz with 1050 questions\n"
     ]
    },
    {
     "name": "stderr",
     "output_type": "stream",
     "text": [
      "Layer 02: 100%|██████████| 1050/1050 [00:02<00:00, 523.73it/s]\n"
     ]
    },
    {
     "name": "stdout",
     "output_type": "stream",
     "text": [
      "Created results/by_layer/layer_02/V0_num_p2_V0.npz with 1050 questions\n"
     ]
    },
    {
     "name": "stderr",
     "output_type": "stream",
     "text": [
      "Layer 03: 100%|██████████| 1050/1050 [00:02<00:00, 509.77it/s]\n"
     ]
    },
    {
     "name": "stdout",
     "output_type": "stream",
     "text": [
      "Created results/by_layer/layer_03/V0_num_p2_V0.npz with 1050 questions\n"
     ]
    },
    {
     "name": "stderr",
     "output_type": "stream",
     "text": [
      "Layer 04: 100%|██████████| 1050/1050 [00:02<00:00, 509.90it/s]\n"
     ]
    },
    {
     "name": "stdout",
     "output_type": "stream",
     "text": [
      "Created results/by_layer/layer_04/V0_num_p2_V0.npz with 1050 questions\n"
     ]
    },
    {
     "name": "stderr",
     "output_type": "stream",
     "text": [
      "Layer 05: 100%|██████████| 1050/1050 [00:02<00:00, 507.39it/s]\n"
     ]
    },
    {
     "name": "stdout",
     "output_type": "stream",
     "text": [
      "Created results/by_layer/layer_05/V0_num_p2_V0.npz with 1050 questions\n"
     ]
    },
    {
     "name": "stderr",
     "output_type": "stream",
     "text": [
      "Layer 06: 100%|██████████| 1050/1050 [00:02<00:00, 504.65it/s]\n"
     ]
    },
    {
     "name": "stdout",
     "output_type": "stream",
     "text": [
      "Created results/by_layer/layer_06/V0_num_p2_V0.npz with 1050 questions\n"
     ]
    },
    {
     "name": "stderr",
     "output_type": "stream",
     "text": [
      "Layer 07: 100%|██████████| 1050/1050 [00:01<00:00, 545.67it/s]\n"
     ]
    },
    {
     "name": "stdout",
     "output_type": "stream",
     "text": [
      "Created results/by_layer/layer_07/V0_num_p2_V0.npz with 1050 questions\n"
     ]
    },
    {
     "name": "stderr",
     "output_type": "stream",
     "text": [
      "Layer 08: 100%|██████████| 1050/1050 [00:01<00:00, 526.63it/s]\n"
     ]
    },
    {
     "name": "stdout",
     "output_type": "stream",
     "text": [
      "Created results/by_layer/layer_08/V0_num_p2_V0.npz with 1050 questions\n"
     ]
    },
    {
     "name": "stderr",
     "output_type": "stream",
     "text": [
      "Layer 09: 100%|██████████| 1050/1050 [00:02<00:00, 486.45it/s]\n"
     ]
    },
    {
     "name": "stdout",
     "output_type": "stream",
     "text": [
      "Created results/by_layer/layer_09/V0_num_p2_V0.npz with 1050 questions\n"
     ]
    },
    {
     "name": "stderr",
     "output_type": "stream",
     "text": [
      "Layer 10: 100%|██████████| 1050/1050 [00:02<00:00, 523.58it/s]\n"
     ]
    },
    {
     "name": "stdout",
     "output_type": "stream",
     "text": [
      "Created results/by_layer/layer_10/V0_num_p2_V0.npz with 1050 questions\n"
     ]
    },
    {
     "name": "stderr",
     "output_type": "stream",
     "text": [
      "Layer 11: 100%|██████████| 1050/1050 [00:02<00:00, 509.82it/s]\n"
     ]
    },
    {
     "name": "stdout",
     "output_type": "stream",
     "text": [
      "Created results/by_layer/layer_11/V0_num_p2_V0.npz with 1050 questions\n"
     ]
    },
    {
     "name": "stderr",
     "output_type": "stream",
     "text": [
      "Layer 12: 100%|██████████| 1050/1050 [00:02<00:00, 497.95it/s]\n"
     ]
    },
    {
     "name": "stdout",
     "output_type": "stream",
     "text": [
      "Created results/by_layer/layer_12/V0_num_p2_V0.npz with 1050 questions\n"
     ]
    },
    {
     "name": "stderr",
     "output_type": "stream",
     "text": [
      "Layer 13: 100%|██████████| 1050/1050 [00:03<00:00, 277.94it/s]\n"
     ]
    },
    {
     "name": "stdout",
     "output_type": "stream",
     "text": [
      "Created results/by_layer/layer_13/V0_num_p2_V0.npz with 1050 questions\n"
     ]
    },
    {
     "name": "stderr",
     "output_type": "stream",
     "text": [
      "Layer 14: 100%|██████████| 1050/1050 [00:02<00:00, 512.11it/s]\n"
     ]
    },
    {
     "name": "stdout",
     "output_type": "stream",
     "text": [
      "Created results/by_layer/layer_14/V0_num_p2_V0.npz with 1050 questions\n"
     ]
    },
    {
     "name": "stderr",
     "output_type": "stream",
     "text": [
      "Layer 15: 100%|██████████| 1050/1050 [00:02<00:00, 518.79it/s]\n"
     ]
    },
    {
     "name": "stdout",
     "output_type": "stream",
     "text": [
      "Created results/by_layer/layer_15/V0_num_p2_V0.npz with 1050 questions\n"
     ]
    },
    {
     "name": "stderr",
     "output_type": "stream",
     "text": [
      "Layer 16: 100%|██████████| 1050/1050 [00:01<00:00, 526.43it/s]\n"
     ]
    },
    {
     "name": "stdout",
     "output_type": "stream",
     "text": [
      "Created results/by_layer/layer_16/V0_num_p2_V0.npz with 1050 questions\n"
     ]
    },
    {
     "name": "stderr",
     "output_type": "stream",
     "text": [
      "Layer 17: 100%|██████████| 1050/1050 [00:02<00:00, 512.01it/s]\n"
     ]
    },
    {
     "name": "stdout",
     "output_type": "stream",
     "text": [
      "Created results/by_layer/layer_17/V0_num_p2_V0.npz with 1050 questions\n"
     ]
    },
    {
     "name": "stderr",
     "output_type": "stream",
     "text": [
      "Layer 18: 100%|██████████| 1050/1050 [00:02<00:00, 509.95it/s]\n"
     ]
    },
    {
     "name": "stdout",
     "output_type": "stream",
     "text": [
      "Created results/by_layer/layer_18/V0_num_p2_V0.npz with 1050 questions\n"
     ]
    },
    {
     "name": "stderr",
     "output_type": "stream",
     "text": [
      "Layer 19: 100%|██████████| 1050/1050 [00:02<00:00, 498.11it/s]\n"
     ]
    },
    {
     "name": "stdout",
     "output_type": "stream",
     "text": [
      "Created results/by_layer/layer_19/V0_num_p2_V0.npz with 1050 questions\n"
     ]
    },
    {
     "name": "stderr",
     "output_type": "stream",
     "text": [
      "Layer 20: 100%|██████████| 1050/1050 [00:02<00:00, 516.05it/s]\n"
     ]
    },
    {
     "name": "stdout",
     "output_type": "stream",
     "text": [
      "Created results/by_layer/layer_20/V0_num_p2_V0.npz with 1050 questions\n"
     ]
    },
    {
     "name": "stderr",
     "output_type": "stream",
     "text": [
      "Layer 21: 100%|██████████| 1050/1050 [00:03<00:00, 274.30it/s]\n"
     ]
    },
    {
     "name": "stdout",
     "output_type": "stream",
     "text": [
      "Created results/by_layer/layer_21/V0_num_p2_V0.npz with 1050 questions\n"
     ]
    },
    {
     "name": "stderr",
     "output_type": "stream",
     "text": [
      "Layer 22: 100%|██████████| 1050/1050 [00:02<00:00, 506.73it/s]\n"
     ]
    },
    {
     "name": "stdout",
     "output_type": "stream",
     "text": [
      "Created results/by_layer/layer_22/V0_num_p2_V0.npz with 1050 questions\n"
     ]
    },
    {
     "name": "stderr",
     "output_type": "stream",
     "text": [
      "Layer 23: 100%|██████████| 1050/1050 [00:02<00:00, 514.60it/s]\n"
     ]
    },
    {
     "name": "stdout",
     "output_type": "stream",
     "text": [
      "Created results/by_layer/layer_23/V0_num_p2_V0.npz with 1050 questions\n"
     ]
    },
    {
     "name": "stderr",
     "output_type": "stream",
     "text": [
      "Layer 24: 100%|██████████| 1050/1050 [00:02<00:00, 491.81it/s]\n"
     ]
    },
    {
     "name": "stdout",
     "output_type": "stream",
     "text": [
      "Created results/by_layer/layer_24/V0_num_p2_V0.npz with 1050 questions\n"
     ]
    },
    {
     "name": "stderr",
     "output_type": "stream",
     "text": [
      "Layer 25: 100%|██████████| 1050/1050 [00:02<00:00, 506.99it/s]\n"
     ]
    },
    {
     "name": "stdout",
     "output_type": "stream",
     "text": [
      "Created results/by_layer/layer_25/V0_num_p2_V0.npz with 1050 questions\n"
     ]
    },
    {
     "name": "stderr",
     "output_type": "stream",
     "text": [
      "Layer 26: 100%|██████████| 1050/1050 [00:01<00:00, 532.64it/s]\n"
     ]
    },
    {
     "name": "stdout",
     "output_type": "stream",
     "text": [
      "Created results/by_layer/layer_26/V0_num_p2_V0.npz with 1050 questions\n"
     ]
    },
    {
     "name": "stderr",
     "output_type": "stream",
     "text": [
      "Layer 27: 100%|██████████| 1050/1050 [00:02<00:00, 502.03it/s]\n"
     ]
    },
    {
     "name": "stdout",
     "output_type": "stream",
     "text": [
      "Created results/by_layer/layer_27/V0_num_p2_V0.npz with 1050 questions\n"
     ]
    },
    {
     "name": "stderr",
     "output_type": "stream",
     "text": [
      "Layer 28: 100%|██████████| 1050/1050 [00:02<00:00, 497.75it/s]\n"
     ]
    },
    {
     "name": "stdout",
     "output_type": "stream",
     "text": [
      "Created results/by_layer/layer_28/V0_num_p2_V0.npz with 1050 questions\n"
     ]
    },
    {
     "name": "stderr",
     "output_type": "stream",
     "text": [
      "Layer 29: 100%|██████████| 1050/1050 [00:02<00:00, 471.37it/s]\n"
     ]
    },
    {
     "name": "stdout",
     "output_type": "stream",
     "text": [
      "Created results/by_layer/layer_29/V0_num_p2_V0.npz with 1050 questions\n"
     ]
    },
    {
     "name": "stderr",
     "output_type": "stream",
     "text": [
      "Layer 30: 100%|██████████| 1050/1050 [00:02<00:00, 495.91it/s]\n"
     ]
    },
    {
     "name": "stdout",
     "output_type": "stream",
     "text": [
      "Created results/by_layer/layer_30/V0_num_p2_V0.npz with 1050 questions\n"
     ]
    },
    {
     "name": "stderr",
     "output_type": "stream",
     "text": [
      "Layer 31: 100%|██████████| 1050/1050 [00:01<00:00, 537.38it/s]\n"
     ]
    },
    {
     "name": "stdout",
     "output_type": "stream",
     "text": [
      "Created results/by_layer/layer_31/V0_num_p2_V0.npz with 1050 questions\n"
     ]
    },
    {
     "name": "stderr",
     "output_type": "stream",
     "text": [
      "Layer 32: 100%|██████████| 1050/1050 [00:01<00:00, 536.14it/s]\n"
     ]
    },
    {
     "name": "stdout",
     "output_type": "stream",
     "text": [
      "Created results/by_layer/layer_32/V0_num_p2_V0.npz with 1050 questions\n"
     ]
    },
    {
     "name": "stderr",
     "output_type": "stream",
     "text": [
      "Layer 33: 100%|██████████| 1050/1050 [00:02<00:00, 523.72it/s]\n"
     ]
    },
    {
     "name": "stdout",
     "output_type": "stream",
     "text": [
      "Created results/by_layer/layer_33/V0_num_p2_V0.npz with 1050 questions\n"
     ]
    },
    {
     "name": "stderr",
     "output_type": "stream",
     "text": [
      "Layer 34: 100%|██████████| 1050/1050 [00:02<00:00, 510.98it/s]\n"
     ]
    },
    {
     "name": "stdout",
     "output_type": "stream",
     "text": [
      "Created results/by_layer/layer_34/V0_num_p2_V0.npz with 1050 questions\n"
     ]
    }
   ],
   "source": [
    "# Process the first experiment directory\n",
    "if experiment_dirs:\n",
    "    exp_dir = experiment_dirs[0]\n",
    "    print(f\"Processing experiment: {exp_dir}\")\n",
    "    process_experiment(exp_dir, OUTPUT_DIR, force=False)\n",
    "else:\n",
    "    print(\"No experiment directories found\")\n"
   ]
  },
  {
   "cell_type": "markdown",
   "metadata": {},
   "source": [
    "## 4. Verify the Reorganized Data\n",
    "\n",
    "Let's verify that the reorganized data structure is correct.\n"
   ]
  },
  {
   "cell_type": "code",
   "execution_count": 3,
   "metadata": {},
   "outputs": [
    {
     "name": "stdout",
     "output_type": "stream",
     "text": [
      "Found 35 layer directories\n",
      "\n",
      "Verifying layer_00:\n",
      "  Found 1 experiment files\n",
      "  Checking V0_num_p2_V0.npz:\n",
      "    Keys: ['question_ids', 'vectors']\n",
      "    Number of questions: 1050\n",
      "    Vector shape: (1050, 2560)\n",
      "    Metadata: experiment_id=V0_num_p2, form=V0, layer=0\n",
      "  Total size of NPZ files: 0.08 MB\n",
      "\n",
      "Verifying layer_01:\n",
      "  Found 1 experiment files\n",
      "  Checking V0_num_p2_V0.npz:\n",
      "    Keys: ['question_ids', 'vectors']\n",
      "    Number of questions: 1050\n",
      "    Vector shape: (1050, 2560)\n",
      "    Metadata: experiment_id=V0_num_p2, form=V0, layer=1\n",
      "  Total size of NPZ files: 4.68 MB\n",
      "\n",
      "Verifying layer_02:\n",
      "  Found 1 experiment files\n",
      "  Checking V0_num_p2_V0.npz:\n",
      "    Keys: ['question_ids', 'vectors']\n",
      "    Number of questions: 1050\n",
      "    Vector shape: (1050, 2560)\n",
      "    Metadata: experiment_id=V0_num_p2, form=V0, layer=2\n",
      "  Total size of NPZ files: 4.91 MB\n",
      "\n",
      "Verifying layer_03:\n",
      "  Found 1 experiment files\n",
      "  Checking V0_num_p2_V0.npz:\n",
      "    Keys: ['question_ids', 'vectors']\n",
      "    Number of questions: 1050\n",
      "    Vector shape: (1050, 2560)\n",
      "    Metadata: experiment_id=V0_num_p2, form=V0, layer=3\n",
      "  Total size of NPZ files: 4.89 MB\n",
      "\n",
      "Verifying layer_04:\n",
      "  Found 1 experiment files\n",
      "  Checking V0_num_p2_V0.npz:\n",
      "    Keys: ['question_ids', 'vectors']\n",
      "    Number of questions: 1050\n",
      "    Vector shape: (1050, 2560)\n",
      "    Metadata: experiment_id=V0_num_p2, form=V0, layer=4\n",
      "  Total size of NPZ files: 4.88 MB\n",
      "\n",
      "Verifying layer_05:\n",
      "  Found 1 experiment files\n",
      "  Checking V0_num_p2_V0.npz:\n",
      "    Keys: ['question_ids', 'vectors']\n",
      "    Number of questions: 1050\n",
      "    Vector shape: (1050, 2560)\n",
      "    Metadata: experiment_id=V0_num_p2, form=V0, layer=5\n",
      "  Total size of NPZ files: 4.90 MB\n",
      "\n",
      "Verifying layer_06:\n",
      "  Found 1 experiment files\n",
      "  Checking V0_num_p2_V0.npz:\n",
      "    Keys: ['question_ids', 'vectors']\n",
      "    Number of questions: 1050\n",
      "    Vector shape: (1050, 2560)\n",
      "    Metadata: experiment_id=V0_num_p2, form=V0, layer=6\n",
      "  Total size of NPZ files: 4.90 MB\n",
      "\n",
      "Verifying layer_07:\n",
      "  Found 1 experiment files\n",
      "  Checking V0_num_p2_V0.npz:\n",
      "    Keys: ['question_ids', 'vectors']\n",
      "    Number of questions: 1050\n",
      "    Vector shape: (1050, 2560)\n",
      "    Metadata: experiment_id=V0_num_p2, form=V0, layer=7\n",
      "  Total size of NPZ files: 4.90 MB\n",
      "\n",
      "Verifying layer_08:\n",
      "  Found 1 experiment files\n",
      "  Checking V0_num_p2_V0.npz:\n",
      "    Keys: ['question_ids', 'vectors']\n",
      "    Number of questions: 1050\n",
      "    Vector shape: (1050, 2560)\n",
      "    Metadata: experiment_id=V0_num_p2, form=V0, layer=8\n",
      "  Total size of NPZ files: 4.89 MB\n",
      "\n",
      "Verifying layer_09:\n",
      "  Found 1 experiment files\n",
      "  Checking V0_num_p2_V0.npz:\n",
      "    Keys: ['question_ids', 'vectors']\n",
      "    Number of questions: 1050\n",
      "    Vector shape: (1050, 2560)\n",
      "    Metadata: experiment_id=V0_num_p2, form=V0, layer=9\n",
      "  Total size of NPZ files: 4.87 MB\n",
      "\n",
      "Verifying layer_10:\n",
      "  Found 1 experiment files\n",
      "  Checking V0_num_p2_V0.npz:\n",
      "    Keys: ['question_ids', 'vectors']\n",
      "    Number of questions: 1050\n",
      "    Vector shape: (1050, 2560)\n",
      "    Metadata: experiment_id=V0_num_p2, form=V0, layer=10\n",
      "  Total size of NPZ files: 4.86 MB\n",
      "\n",
      "Verifying layer_11:\n",
      "  Found 1 experiment files\n",
      "  Checking V0_num_p2_V0.npz:\n",
      "    Keys: ['question_ids', 'vectors']\n",
      "    Number of questions: 1050\n",
      "    Vector shape: (1050, 2560)\n",
      "    Metadata: experiment_id=V0_num_p2, form=V0, layer=11\n",
      "  Total size of NPZ files: 4.84 MB\n",
      "\n",
      "Verifying layer_12:\n",
      "  Found 1 experiment files\n",
      "  Checking V0_num_p2_V0.npz:\n",
      "    Keys: ['question_ids', 'vectors']\n",
      "    Number of questions: 1050\n",
      "    Vector shape: (1050, 2560)\n",
      "    Metadata: experiment_id=V0_num_p2, form=V0, layer=12\n",
      "  Total size of NPZ files: 4.82 MB\n",
      "\n",
      "Verifying layer_13:\n",
      "  Found 1 experiment files\n",
      "  Checking V0_num_p2_V0.npz:\n",
      "    Keys: ['question_ids', 'vectors']\n",
      "    Number of questions: 1050\n",
      "    Vector shape: (1050, 2560)\n",
      "    Metadata: experiment_id=V0_num_p2, form=V0, layer=13\n",
      "  Total size of NPZ files: 4.81 MB\n",
      "\n",
      "Verifying layer_14:\n",
      "  Found 1 experiment files\n",
      "  Checking V0_num_p2_V0.npz:\n",
      "    Keys: ['question_ids', 'vectors']\n",
      "    Number of questions: 1050\n",
      "    Vector shape: (1050, 2560)\n",
      "    Metadata: experiment_id=V0_num_p2, form=V0, layer=14\n",
      "  Total size of NPZ files: 4.80 MB\n",
      "\n",
      "Verifying layer_15:\n",
      "  Found 1 experiment files\n",
      "  Checking V0_num_p2_V0.npz:\n",
      "    Keys: ['question_ids', 'vectors']\n",
      "    Number of questions: 1050\n",
      "    Vector shape: (1050, 2560)\n",
      "    Metadata: experiment_id=V0_num_p2, form=V0, layer=15\n",
      "  Total size of NPZ files: 4.80 MB\n",
      "\n",
      "Verifying layer_16:\n",
      "  Found 1 experiment files\n",
      "  Checking V0_num_p2_V0.npz:\n",
      "    Keys: ['question_ids', 'vectors']\n",
      "    Number of questions: 1050\n",
      "    Vector shape: (1050, 2560)\n",
      "    Metadata: experiment_id=V0_num_p2, form=V0, layer=16\n",
      "  Total size of NPZ files: 4.79 MB\n",
      "\n",
      "Verifying layer_17:\n",
      "  Found 1 experiment files\n",
      "  Checking V0_num_p2_V0.npz:\n",
      "    Keys: ['question_ids', 'vectors']\n",
      "    Number of questions: 1050\n",
      "    Vector shape: (1050, 2560)\n",
      "    Metadata: experiment_id=V0_num_p2, form=V0, layer=17\n",
      "  Total size of NPZ files: 4.80 MB\n",
      "\n",
      "Verifying layer_18:\n",
      "  Found 1 experiment files\n",
      "  Checking V0_num_p2_V0.npz:\n",
      "    Keys: ['question_ids', 'vectors']\n",
      "    Number of questions: 1050\n",
      "    Vector shape: (1050, 2560)\n",
      "    Metadata: experiment_id=V0_num_p2, form=V0, layer=18\n",
      "  Total size of NPZ files: 4.80 MB\n",
      "\n",
      "Verifying layer_19:\n",
      "  Found 1 experiment files\n",
      "  Checking V0_num_p2_V0.npz:\n",
      "    Keys: ['question_ids', 'vectors']\n",
      "    Number of questions: 1050\n",
      "    Vector shape: (1050, 2560)\n",
      "    Metadata: experiment_id=V0_num_p2, form=V0, layer=19\n",
      "  Total size of NPZ files: 4.80 MB\n",
      "\n",
      "Verifying layer_20:\n",
      "  Found 1 experiment files\n",
      "  Checking V0_num_p2_V0.npz:\n",
      "    Keys: ['question_ids', 'vectors']\n",
      "    Number of questions: 1050\n",
      "    Vector shape: (1050, 2560)\n",
      "    Metadata: experiment_id=V0_num_p2, form=V0, layer=20\n",
      "  Total size of NPZ files: 4.79 MB\n",
      "\n",
      "Verifying layer_21:\n",
      "  Found 1 experiment files\n",
      "  Checking V0_num_p2_V0.npz:\n",
      "    Keys: ['question_ids', 'vectors']\n",
      "    Number of questions: 1050\n",
      "    Vector shape: (1050, 2560)\n",
      "    Metadata: experiment_id=V0_num_p2, form=V0, layer=21\n",
      "  Total size of NPZ files: 4.80 MB\n",
      "\n",
      "Verifying layer_22:\n",
      "  Found 1 experiment files\n",
      "  Checking V0_num_p2_V0.npz:\n",
      "    Keys: ['question_ids', 'vectors']\n",
      "    Number of questions: 1050\n",
      "    Vector shape: (1050, 2560)\n",
      "    Metadata: experiment_id=V0_num_p2, form=V0, layer=22\n",
      "  Total size of NPZ files: 4.80 MB\n",
      "\n",
      "Verifying layer_23:\n",
      "  Found 1 experiment files\n",
      "  Checking V0_num_p2_V0.npz:\n",
      "    Keys: ['question_ids', 'vectors']\n",
      "    Number of questions: 1050\n",
      "    Vector shape: (1050, 2560)\n",
      "    Metadata: experiment_id=V0_num_p2, form=V0, layer=23\n",
      "  Total size of NPZ files: 4.80 MB\n",
      "\n",
      "Verifying layer_24:\n",
      "  Found 1 experiment files\n",
      "  Checking V0_num_p2_V0.npz:\n",
      "    Keys: ['question_ids', 'vectors']\n",
      "    Number of questions: 1050\n",
      "    Vector shape: (1050, 2560)\n",
      "    Metadata: experiment_id=V0_num_p2, form=V0, layer=24\n",
      "  Total size of NPZ files: 4.81 MB\n",
      "\n",
      "Verifying layer_25:\n",
      "  Found 1 experiment files\n",
      "  Checking V0_num_p2_V0.npz:\n",
      "    Keys: ['question_ids', 'vectors']\n",
      "    Number of questions: 1050\n",
      "    Vector shape: (1050, 2560)\n",
      "    Metadata: experiment_id=V0_num_p2, form=V0, layer=25\n",
      "  Total size of NPZ files: 4.82 MB\n",
      "\n",
      "Verifying layer_26:\n",
      "  Found 1 experiment files\n",
      "  Checking V0_num_p2_V0.npz:\n",
      "    Keys: ['question_ids', 'vectors']\n",
      "    Number of questions: 1050\n",
      "    Vector shape: (1050, 2560)\n",
      "    Metadata: experiment_id=V0_num_p2, form=V0, layer=26\n",
      "  Total size of NPZ files: 4.82 MB\n",
      "\n",
      "Verifying layer_27:\n",
      "  Found 1 experiment files\n",
      "  Checking V0_num_p2_V0.npz:\n",
      "    Keys: ['question_ids', 'vectors']\n",
      "    Number of questions: 1050\n",
      "    Vector shape: (1050, 2560)\n",
      "    Metadata: experiment_id=V0_num_p2, form=V0, layer=27\n",
      "  Total size of NPZ files: 4.83 MB\n",
      "\n",
      "Verifying layer_28:\n",
      "  Found 1 experiment files\n",
      "  Checking V0_num_p2_V0.npz:\n",
      "    Keys: ['question_ids', 'vectors']\n",
      "    Number of questions: 1050\n",
      "    Vector shape: (1050, 2560)\n",
      "    Metadata: experiment_id=V0_num_p2, form=V0, layer=28\n",
      "  Total size of NPZ files: 4.84 MB\n",
      "\n",
      "Verifying layer_29:\n",
      "  Found 1 experiment files\n",
      "  Checking V0_num_p2_V0.npz:\n",
      "    Keys: ['question_ids', 'vectors']\n",
      "    Number of questions: 1050\n",
      "    Vector shape: (1050, 2560)\n",
      "    Metadata: experiment_id=V0_num_p2, form=V0, layer=29\n",
      "  Total size of NPZ files: 4.84 MB\n",
      "\n",
      "Verifying layer_30:\n",
      "  Found 1 experiment files\n",
      "  Checking V0_num_p2_V0.npz:\n",
      "    Keys: ['question_ids', 'vectors']\n",
      "    Number of questions: 1050\n",
      "    Vector shape: (1050, 2560)\n",
      "    Metadata: experiment_id=V0_num_p2, form=V0, layer=30\n",
      "  Total size of NPZ files: 4.84 MB\n",
      "\n",
      "Verifying layer_31:\n",
      "  Found 1 experiment files\n",
      "  Checking V0_num_p2_V0.npz:\n",
      "    Keys: ['question_ids', 'vectors']\n",
      "    Number of questions: 1050\n",
      "    Vector shape: (1050, 2560)\n",
      "    Metadata: experiment_id=V0_num_p2, form=V0, layer=31\n",
      "  Total size of NPZ files: 4.84 MB\n",
      "\n",
      "Verifying layer_32:\n",
      "  Found 1 experiment files\n",
      "  Checking V0_num_p2_V0.npz:\n",
      "    Keys: ['question_ids', 'vectors']\n",
      "    Number of questions: 1050\n",
      "    Vector shape: (1050, 2560)\n",
      "    Metadata: experiment_id=V0_num_p2, form=V0, layer=32\n",
      "  Total size of NPZ files: 4.83 MB\n",
      "\n",
      "Verifying layer_33:\n",
      "  Found 1 experiment files\n",
      "  Checking V0_num_p2_V0.npz:\n",
      "    Keys: ['question_ids', 'vectors']\n",
      "    Number of questions: 1050\n",
      "    Vector shape: (1050, 2560)\n",
      "    Metadata: experiment_id=V0_num_p2, form=V0, layer=33\n",
      "  Total size of NPZ files: 4.83 MB\n",
      "\n",
      "Verifying layer_34:\n",
      "  Found 1 experiment files\n",
      "  Checking V0_num_p2_V0.npz:\n",
      "    Keys: ['question_ids', 'vectors']\n",
      "    Number of questions: 1050\n",
      "    Vector shape: (1050, 2560)\n",
      "    Metadata: experiment_id=V0_num_p2, form=V0, layer=34\n",
      "  Total size of NPZ files: 4.84 MB\n"
     ]
    }
   ],
   "source": [
    "by_layer_dir = Path(OUTPUT_DIR) / \"by_layer\"\n",
    "if by_layer_dir.exists():\n",
    "    verify_layer_data(by_layer_dir)\n",
    "else:\n",
    "    print(f\"Directory {by_layer_dir} does not exist\")\n"
   ]
  },
  {
   "cell_type": "markdown",
   "metadata": {},
   "source": [
    "## 5. Check for Corrupted Files\n",
    "\n",
    "Let's check for corrupted files in the reorganized data.\n"
   ]
  },
  {
   "cell_type": "code",
   "execution_count": 4,
   "metadata": {},
   "outputs": [
    {
     "name": "stdout",
     "output_type": "stream",
     "text": [
      "Scanning 35 layer directories for corrupted files...\n",
      "\n",
      "Scanning layer_00:\n",
      "  Checking 1 files...\n"
     ]
    },
    {
     "name": "stderr",
     "output_type": "stream",
     "text": [
      "  layer_00: 100%|██████████| 1/1 [00:00<00:00, 64.16it/s]\n"
     ]
    },
    {
     "name": "stdout",
     "output_type": "stream",
     "text": [
      "\n",
      "Scanning layer_01:\n",
      "  Checking 1 files...\n"
     ]
    },
    {
     "name": "stderr",
     "output_type": "stream",
     "text": [
      "  layer_01: 100%|██████████| 1/1 [00:00<00:00, 18.48it/s]\n"
     ]
    },
    {
     "name": "stdout",
     "output_type": "stream",
     "text": [
      "\n",
      "Scanning layer_02:\n",
      "  Checking 1 files...\n"
     ]
    },
    {
     "name": "stderr",
     "output_type": "stream",
     "text": [
      "  layer_02: 100%|██████████| 1/1 [00:00<00:00, 18.96it/s]\n"
     ]
    },
    {
     "name": "stdout",
     "output_type": "stream",
     "text": [
      "\n",
      "Scanning layer_03:\n",
      "  Checking 1 files...\n"
     ]
    },
    {
     "name": "stderr",
     "output_type": "stream",
     "text": [
      "  layer_03: 100%|██████████| 1/1 [00:00<00:00, 20.62it/s]\n"
     ]
    },
    {
     "name": "stdout",
     "output_type": "stream",
     "text": [
      "\n",
      "Scanning layer_04:\n",
      "  Checking 1 files...\n"
     ]
    },
    {
     "name": "stderr",
     "output_type": "stream",
     "text": [
      "  layer_04: 100%|██████████| 1/1 [00:00<00:00, 19.70it/s]\n"
     ]
    },
    {
     "name": "stdout",
     "output_type": "stream",
     "text": [
      "\n",
      "Scanning layer_05:\n",
      "  Checking 1 files...\n"
     ]
    },
    {
     "name": "stderr",
     "output_type": "stream",
     "text": [
      "  layer_05: 100%|██████████| 1/1 [00:00<00:00, 20.19it/s]\n"
     ]
    },
    {
     "name": "stdout",
     "output_type": "stream",
     "text": [
      "\n",
      "Scanning layer_06:\n",
      "  Checking 1 files...\n"
     ]
    },
    {
     "name": "stderr",
     "output_type": "stream",
     "text": [
      "  layer_06: 100%|██████████| 1/1 [00:00<00:00, 19.13it/s]\n"
     ]
    },
    {
     "name": "stdout",
     "output_type": "stream",
     "text": [
      "\n",
      "Scanning layer_07:\n",
      "  Checking 1 files...\n"
     ]
    },
    {
     "name": "stderr",
     "output_type": "stream",
     "text": [
      "  layer_07: 100%|██████████| 1/1 [00:00<00:00, 19.93it/s]\n"
     ]
    },
    {
     "name": "stdout",
     "output_type": "stream",
     "text": [
      "\n",
      "Scanning layer_08:\n",
      "  Checking 1 files...\n"
     ]
    },
    {
     "name": "stderr",
     "output_type": "stream",
     "text": [
      "  layer_08: 100%|██████████| 1/1 [00:00<00:00, 20.70it/s]\n"
     ]
    },
    {
     "name": "stdout",
     "output_type": "stream",
     "text": [
      "\n",
      "Scanning layer_09:\n",
      "  Checking 1 files...\n"
     ]
    },
    {
     "name": "stderr",
     "output_type": "stream",
     "text": [
      "  layer_09: 100%|██████████| 1/1 [00:00<00:00, 19.55it/s]\n"
     ]
    },
    {
     "name": "stdout",
     "output_type": "stream",
     "text": [
      "\n",
      "Scanning layer_10:\n",
      "  Checking 1 files...\n"
     ]
    },
    {
     "name": "stderr",
     "output_type": "stream",
     "text": [
      "  layer_10: 100%|██████████| 1/1 [00:00<00:00, 20.47it/s]\n"
     ]
    },
    {
     "name": "stdout",
     "output_type": "stream",
     "text": [
      "\n",
      "Scanning layer_11:\n",
      "  Checking 1 files...\n"
     ]
    },
    {
     "name": "stderr",
     "output_type": "stream",
     "text": [
      "  layer_11: 100%|██████████| 1/1 [00:00<00:00, 19.69it/s]\n"
     ]
    },
    {
     "name": "stdout",
     "output_type": "stream",
     "text": [
      "\n",
      "Scanning layer_12:\n",
      "  Checking 1 files...\n"
     ]
    },
    {
     "name": "stderr",
     "output_type": "stream",
     "text": [
      "  layer_12: 100%|██████████| 1/1 [00:00<00:00, 20.43it/s]\n"
     ]
    },
    {
     "name": "stdout",
     "output_type": "stream",
     "text": [
      "\n",
      "Scanning layer_13:\n",
      "  Checking 1 files...\n"
     ]
    },
    {
     "name": "stderr",
     "output_type": "stream",
     "text": [
      "  layer_13: 100%|██████████| 1/1 [00:00<00:00, 20.14it/s]\n"
     ]
    },
    {
     "name": "stdout",
     "output_type": "stream",
     "text": [
      "\n",
      "Scanning layer_14:\n",
      "  Checking 1 files...\n"
     ]
    },
    {
     "name": "stderr",
     "output_type": "stream",
     "text": [
      "  layer_14: 100%|██████████| 1/1 [00:00<00:00, 20.94it/s]\n"
     ]
    },
    {
     "name": "stdout",
     "output_type": "stream",
     "text": [
      "\n",
      "Scanning layer_15:\n",
      "  Checking 1 files...\n"
     ]
    },
    {
     "name": "stderr",
     "output_type": "stream",
     "text": [
      "  layer_15: 100%|██████████| 1/1 [00:00<00:00, 20.60it/s]\n"
     ]
    },
    {
     "name": "stdout",
     "output_type": "stream",
     "text": [
      "\n",
      "Scanning layer_16:\n",
      "  Checking 1 files...\n"
     ]
    },
    {
     "name": "stderr",
     "output_type": "stream",
     "text": [
      "  layer_16: 100%|██████████| 1/1 [00:00<00:00, 19.00it/s]\n"
     ]
    },
    {
     "name": "stdout",
     "output_type": "stream",
     "text": [
      "\n",
      "Scanning layer_17:\n",
      "  Checking 1 files...\n"
     ]
    },
    {
     "name": "stderr",
     "output_type": "stream",
     "text": [
      "  layer_17: 100%|██████████| 1/1 [00:00<00:00, 19.74it/s]\n"
     ]
    },
    {
     "name": "stdout",
     "output_type": "stream",
     "text": [
      "\n",
      "Scanning layer_18:\n",
      "  Checking 1 files...\n"
     ]
    },
    {
     "name": "stderr",
     "output_type": "stream",
     "text": [
      "  layer_18: 100%|██████████| 1/1 [00:00<00:00, 20.90it/s]\n"
     ]
    },
    {
     "name": "stdout",
     "output_type": "stream",
     "text": [
      "\n",
      "Scanning layer_19:\n",
      "  Checking 1 files...\n"
     ]
    },
    {
     "name": "stderr",
     "output_type": "stream",
     "text": [
      "  layer_19: 100%|██████████| 1/1 [00:00<00:00, 20.68it/s]\n"
     ]
    },
    {
     "name": "stdout",
     "output_type": "stream",
     "text": [
      "\n",
      "Scanning layer_20:\n",
      "  Checking 1 files...\n"
     ]
    },
    {
     "name": "stderr",
     "output_type": "stream",
     "text": [
      "  layer_20: 100%|██████████| 1/1 [00:00<00:00, 21.79it/s]\n"
     ]
    },
    {
     "name": "stdout",
     "output_type": "stream",
     "text": [
      "\n",
      "Scanning layer_21:\n",
      "  Checking 1 files...\n"
     ]
    },
    {
     "name": "stderr",
     "output_type": "stream",
     "text": [
      "  layer_21: 100%|██████████| 1/1 [00:00<00:00, 18.27it/s]\n"
     ]
    },
    {
     "name": "stdout",
     "output_type": "stream",
     "text": [
      "\n",
      "Scanning layer_22:\n",
      "  Checking 1 files...\n"
     ]
    },
    {
     "name": "stderr",
     "output_type": "stream",
     "text": [
      "  layer_22: 100%|██████████| 1/1 [00:00<00:00, 14.23it/s]\n"
     ]
    },
    {
     "name": "stdout",
     "output_type": "stream",
     "text": [
      "\n",
      "Scanning layer_23:\n",
      "  Checking 1 files...\n"
     ]
    },
    {
     "name": "stderr",
     "output_type": "stream",
     "text": [
      "  layer_23: 100%|██████████| 1/1 [00:00<00:00, 18.50it/s]\n"
     ]
    },
    {
     "name": "stdout",
     "output_type": "stream",
     "text": [
      "\n",
      "Scanning layer_24:\n",
      "  Checking 1 files...\n"
     ]
    },
    {
     "name": "stderr",
     "output_type": "stream",
     "text": [
      "  layer_24: 100%|██████████| 1/1 [00:00<00:00, 19.61it/s]\n"
     ]
    },
    {
     "name": "stdout",
     "output_type": "stream",
     "text": [
      "\n",
      "Scanning layer_25:\n",
      "  Checking 1 files...\n"
     ]
    },
    {
     "name": "stderr",
     "output_type": "stream",
     "text": [
      "  layer_25: 100%|██████████| 1/1 [00:00<00:00, 20.16it/s]\n"
     ]
    },
    {
     "name": "stdout",
     "output_type": "stream",
     "text": [
      "\n",
      "Scanning layer_26:\n",
      "  Checking 1 files...\n"
     ]
    },
    {
     "name": "stderr",
     "output_type": "stream",
     "text": [
      "  layer_26: 100%|██████████| 1/1 [00:00<00:00, 21.23it/s]\n"
     ]
    },
    {
     "name": "stdout",
     "output_type": "stream",
     "text": [
      "\n",
      "Scanning layer_27:\n",
      "  Checking 1 files...\n"
     ]
    },
    {
     "name": "stderr",
     "output_type": "stream",
     "text": [
      "  layer_27: 100%|██████████| 1/1 [00:00<00:00, 20.50it/s]\n"
     ]
    },
    {
     "name": "stdout",
     "output_type": "stream",
     "text": [
      "\n",
      "Scanning layer_28:\n",
      "  Checking 1 files...\n"
     ]
    },
    {
     "name": "stderr",
     "output_type": "stream",
     "text": [
      "  layer_28: 100%|██████████| 1/1 [00:00<00:00, 20.49it/s]\n"
     ]
    },
    {
     "name": "stdout",
     "output_type": "stream",
     "text": [
      "\n",
      "Scanning layer_29:\n",
      "  Checking 1 files...\n"
     ]
    },
    {
     "name": "stderr",
     "output_type": "stream",
     "text": [
      "  layer_29: 100%|██████████| 1/1 [00:00<00:00, 20.18it/s]\n"
     ]
    },
    {
     "name": "stdout",
     "output_type": "stream",
     "text": [
      "\n",
      "Scanning layer_30:\n",
      "  Checking 1 files...\n"
     ]
    },
    {
     "name": "stderr",
     "output_type": "stream",
     "text": [
      "  layer_30: 100%|██████████| 1/1 [00:00<00:00, 21.01it/s]\n"
     ]
    },
    {
     "name": "stdout",
     "output_type": "stream",
     "text": [
      "\n",
      "Scanning layer_31:\n",
      "  Checking 1 files...\n"
     ]
    },
    {
     "name": "stderr",
     "output_type": "stream",
     "text": [
      "  layer_31: 100%|██████████| 1/1 [00:00<00:00, 20.25it/s]\n"
     ]
    },
    {
     "name": "stdout",
     "output_type": "stream",
     "text": [
      "\n",
      "Scanning layer_32:\n",
      "  Checking 1 files...\n"
     ]
    },
    {
     "name": "stderr",
     "output_type": "stream",
     "text": [
      "  layer_32: 100%|██████████| 1/1 [00:00<00:00, 21.58it/s]\n"
     ]
    },
    {
     "name": "stdout",
     "output_type": "stream",
     "text": [
      "\n",
      "Scanning layer_33:\n",
      "  Checking 1 files...\n"
     ]
    },
    {
     "name": "stderr",
     "output_type": "stream",
     "text": [
      "  layer_33: 100%|██████████| 1/1 [00:00<00:00, 20.92it/s]\n"
     ]
    },
    {
     "name": "stdout",
     "output_type": "stream",
     "text": [
      "\n",
      "Scanning layer_34:\n",
      "  Checking 1 files...\n"
     ]
    },
    {
     "name": "stderr",
     "output_type": "stream",
     "text": [
      "  layer_34: 100%|██████████| 1/1 [00:00<00:00, 20.22it/s]"
     ]
    },
    {
     "name": "stdout",
     "output_type": "stream",
     "text": [
      "\n",
      "Found 0 corrupted files\n"
     ]
    },
    {
     "name": "stderr",
     "output_type": "stream",
     "text": [
      "\n"
     ]
    }
   ],
   "source": [
    "if by_layer_dir.exists():\n",
    "    # First just scan for corrupted files\n",
    "    cleanup_corrupted_files(by_layer_dir, delete=False)\n",
    "else:\n",
    "    print(f\"Directory {by_layer_dir} does not exist\")\n"
   ]
  },
  {
   "cell_type": "markdown",
   "metadata": {},
   "source": [
    "## 6. Delete Corrupted Files (Optional)\n",
    "\n",
    "If corrupted files were found, we can delete them.\n"
   ]
  },
  {
   "cell_type": "code",
   "execution_count": 5,
   "metadata": {},
   "outputs": [
    {
     "name": "stdout",
     "output_type": "stream",
     "text": [
      "Scanning 35 layer directories for corrupted files...\n",
      "\n",
      "Scanning layer_00:\n",
      "  Checking 1 files...\n"
     ]
    },
    {
     "name": "stderr",
     "output_type": "stream",
     "text": [
      "  layer_00: 100%|██████████| 1/1 [00:00<00:00, 86.33it/s]\n"
     ]
    },
    {
     "name": "stdout",
     "output_type": "stream",
     "text": [
      "\n",
      "Scanning layer_01:\n",
      "  Checking 1 files...\n"
     ]
    },
    {
     "name": "stderr",
     "output_type": "stream",
     "text": [
      "  layer_01: 100%|██████████| 1/1 [00:00<00:00, 19.59it/s]\n"
     ]
    },
    {
     "name": "stdout",
     "output_type": "stream",
     "text": [
      "\n",
      "Scanning layer_02:\n",
      "  Checking 1 files...\n"
     ]
    },
    {
     "name": "stderr",
     "output_type": "stream",
     "text": [
      "  layer_02: 100%|██████████| 1/1 [00:00<00:00, 13.39it/s]\n"
     ]
    },
    {
     "name": "stdout",
     "output_type": "stream",
     "text": [
      "\n",
      "Scanning layer_03:\n",
      "  Checking 1 files...\n"
     ]
    },
    {
     "name": "stderr",
     "output_type": "stream",
     "text": [
      "  layer_03: 100%|██████████| 1/1 [00:00<00:00, 20.40it/s]\n"
     ]
    },
    {
     "name": "stdout",
     "output_type": "stream",
     "text": [
      "\n",
      "Scanning layer_04:\n",
      "  Checking 1 files...\n"
     ]
    },
    {
     "name": "stderr",
     "output_type": "stream",
     "text": [
      "  layer_04: 100%|██████████| 1/1 [00:00<00:00, 21.60it/s]\n"
     ]
    },
    {
     "name": "stdout",
     "output_type": "stream",
     "text": [
      "\n",
      "Scanning layer_05:\n",
      "  Checking 1 files...\n"
     ]
    },
    {
     "name": "stderr",
     "output_type": "stream",
     "text": [
      "  layer_05: 100%|██████████| 1/1 [00:00<00:00, 19.33it/s]\n"
     ]
    },
    {
     "name": "stdout",
     "output_type": "stream",
     "text": [
      "\n",
      "Scanning layer_06:\n",
      "  Checking 1 files...\n"
     ]
    },
    {
     "name": "stderr",
     "output_type": "stream",
     "text": [
      "  layer_06: 100%|██████████| 1/1 [00:00<00:00, 20.01it/s]\n"
     ]
    },
    {
     "name": "stdout",
     "output_type": "stream",
     "text": [
      "\n",
      "Scanning layer_07:\n",
      "  Checking 1 files...\n"
     ]
    },
    {
     "name": "stderr",
     "output_type": "stream",
     "text": [
      "  layer_07: 100%|██████████| 1/1 [00:00<00:00, 18.65it/s]\n"
     ]
    },
    {
     "name": "stdout",
     "output_type": "stream",
     "text": [
      "\n",
      "Scanning layer_08:\n",
      "  Checking 1 files...\n"
     ]
    },
    {
     "name": "stderr",
     "output_type": "stream",
     "text": [
      "  layer_08: 100%|██████████| 1/1 [00:00<00:00, 17.85it/s]\n"
     ]
    },
    {
     "name": "stdout",
     "output_type": "stream",
     "text": [
      "\n",
      "Scanning layer_09:\n",
      "  Checking 1 files...\n"
     ]
    },
    {
     "name": "stderr",
     "output_type": "stream",
     "text": [
      "  layer_09: 100%|██████████| 1/1 [00:00<00:00, 17.72it/s]\n"
     ]
    },
    {
     "name": "stdout",
     "output_type": "stream",
     "text": [
      "\n",
      "Scanning layer_10:\n",
      "  Checking 1 files...\n"
     ]
    },
    {
     "name": "stderr",
     "output_type": "stream",
     "text": [
      "  layer_10: 100%|██████████| 1/1 [00:00<00:00, 19.17it/s]\n"
     ]
    },
    {
     "name": "stdout",
     "output_type": "stream",
     "text": [
      "\n",
      "Scanning layer_11:\n",
      "  Checking 1 files...\n"
     ]
    },
    {
     "name": "stderr",
     "output_type": "stream",
     "text": [
      "  layer_11: 100%|██████████| 1/1 [00:00<00:00, 15.28it/s]\n"
     ]
    },
    {
     "name": "stdout",
     "output_type": "stream",
     "text": [
      "\n",
      "Scanning layer_12:\n",
      "  Checking 1 files...\n"
     ]
    },
    {
     "name": "stderr",
     "output_type": "stream",
     "text": [
      "  layer_12: 100%|██████████| 1/1 [00:00<00:00, 22.30it/s]\n"
     ]
    },
    {
     "name": "stdout",
     "output_type": "stream",
     "text": [
      "\n",
      "Scanning layer_13:\n",
      "  Checking 1 files...\n"
     ]
    },
    {
     "name": "stderr",
     "output_type": "stream",
     "text": [
      "  layer_13: 100%|██████████| 1/1 [00:00<00:00, 20.26it/s]\n"
     ]
    },
    {
     "name": "stdout",
     "output_type": "stream",
     "text": [
      "\n",
      "Scanning layer_14:\n",
      "  Checking 1 files...\n"
     ]
    },
    {
     "name": "stderr",
     "output_type": "stream",
     "text": [
      "  layer_14: 100%|██████████| 1/1 [00:00<00:00, 16.30it/s]\n"
     ]
    },
    {
     "name": "stdout",
     "output_type": "stream",
     "text": [
      "\n",
      "Scanning layer_15:\n",
      "  Checking 1 files...\n"
     ]
    },
    {
     "name": "stderr",
     "output_type": "stream",
     "text": [
      "  layer_15: 100%|██████████| 1/1 [00:00<00:00, 20.47it/s]\n"
     ]
    },
    {
     "name": "stdout",
     "output_type": "stream",
     "text": [
      "\n",
      "Scanning layer_16:\n",
      "  Checking 1 files...\n"
     ]
    },
    {
     "name": "stderr",
     "output_type": "stream",
     "text": [
      "  layer_16: 100%|██████████| 1/1 [00:00<00:00, 18.36it/s]\n"
     ]
    },
    {
     "name": "stdout",
     "output_type": "stream",
     "text": [
      "\n",
      "Scanning layer_17:\n",
      "  Checking 1 files...\n"
     ]
    },
    {
     "name": "stderr",
     "output_type": "stream",
     "text": [
      "  layer_17: 100%|██████████| 1/1 [00:00<00:00, 18.91it/s]\n"
     ]
    },
    {
     "name": "stdout",
     "output_type": "stream",
     "text": [
      "\n",
      "Scanning layer_18:\n",
      "  Checking 1 files...\n"
     ]
    },
    {
     "name": "stderr",
     "output_type": "stream",
     "text": [
      "  layer_18: 100%|██████████| 1/1 [00:00<00:00, 19.57it/s]\n"
     ]
    },
    {
     "name": "stdout",
     "output_type": "stream",
     "text": [
      "\n",
      "Scanning layer_19:\n",
      "  Checking 1 files...\n"
     ]
    },
    {
     "name": "stderr",
     "output_type": "stream",
     "text": [
      "  layer_19: 100%|██████████| 1/1 [00:00<00:00, 23.10it/s]\n"
     ]
    },
    {
     "name": "stdout",
     "output_type": "stream",
     "text": [
      "\n",
      "Scanning layer_20:\n",
      "  Checking 1 files...\n"
     ]
    },
    {
     "name": "stderr",
     "output_type": "stream",
     "text": [
      "  layer_20: 100%|██████████| 1/1 [00:00<00:00, 22.13it/s]\n"
     ]
    },
    {
     "name": "stdout",
     "output_type": "stream",
     "text": [
      "\n",
      "Scanning layer_21:\n",
      "  Checking 1 files...\n"
     ]
    },
    {
     "name": "stderr",
     "output_type": "stream",
     "text": [
      "  layer_21: 100%|██████████| 1/1 [00:00<00:00, 20.36it/s]\n"
     ]
    },
    {
     "name": "stdout",
     "output_type": "stream",
     "text": [
      "\n",
      "Scanning layer_22:\n",
      "  Checking 1 files...\n"
     ]
    },
    {
     "name": "stderr",
     "output_type": "stream",
     "text": [
      "  layer_22: 100%|██████████| 1/1 [00:00<00:00, 24.13it/s]\n"
     ]
    },
    {
     "name": "stdout",
     "output_type": "stream",
     "text": [
      "\n",
      "Scanning layer_23:\n",
      "  Checking 1 files...\n"
     ]
    },
    {
     "name": "stderr",
     "output_type": "stream",
     "text": [
      "  layer_23: 100%|██████████| 1/1 [00:00<00:00, 21.82it/s]\n"
     ]
    },
    {
     "name": "stdout",
     "output_type": "stream",
     "text": [
      "\n",
      "Scanning layer_24:\n",
      "  Checking 1 files...\n"
     ]
    },
    {
     "name": "stderr",
     "output_type": "stream",
     "text": [
      "  layer_24: 100%|██████████| 1/1 [00:00<00:00, 21.83it/s]\n"
     ]
    },
    {
     "name": "stdout",
     "output_type": "stream",
     "text": [
      "\n",
      "Scanning layer_25:\n",
      "  Checking 1 files...\n"
     ]
    },
    {
     "name": "stderr",
     "output_type": "stream",
     "text": [
      "  layer_25: 100%|██████████| 1/1 [00:00<00:00, 19.25it/s]\n"
     ]
    },
    {
     "name": "stdout",
     "output_type": "stream",
     "text": [
      "\n",
      "Scanning layer_26:\n",
      "  Checking 1 files...\n"
     ]
    },
    {
     "name": "stderr",
     "output_type": "stream",
     "text": [
      "  layer_26: 100%|██████████| 1/1 [00:00<00:00, 24.02it/s]\n"
     ]
    },
    {
     "name": "stdout",
     "output_type": "stream",
     "text": [
      "\n",
      "Scanning layer_27:\n",
      "  Checking 1 files...\n"
     ]
    },
    {
     "name": "stderr",
     "output_type": "stream",
     "text": [
      "  layer_27: 100%|██████████| 1/1 [00:00<00:00, 20.48it/s]\n"
     ]
    },
    {
     "name": "stdout",
     "output_type": "stream",
     "text": [
      "\n",
      "Scanning layer_28:\n",
      "  Checking 1 files...\n"
     ]
    },
    {
     "name": "stderr",
     "output_type": "stream",
     "text": [
      "  layer_28: 100%|██████████| 1/1 [00:00<00:00, 20.06it/s]\n"
     ]
    },
    {
     "name": "stdout",
     "output_type": "stream",
     "text": [
      "\n",
      "Scanning layer_29:\n",
      "  Checking 1 files...\n"
     ]
    },
    {
     "name": "stderr",
     "output_type": "stream",
     "text": [
      "  layer_29: 100%|██████████| 1/1 [00:00<00:00, 20.28it/s]"
     ]
    },
    {
     "name": "stdout",
     "output_type": "stream",
     "text": [
      "\n",
      "Scanning layer_30:\n",
      "  Checking 1 files...\n"
     ]
    },
    {
     "name": "stderr",
     "output_type": "stream",
     "text": [
      "\n",
      "  layer_30: 100%|██████████| 1/1 [00:00<00:00, 19.81it/s]\n"
     ]
    },
    {
     "name": "stdout",
     "output_type": "stream",
     "text": [
      "\n",
      "Scanning layer_31:\n",
      "  Checking 1 files...\n"
     ]
    },
    {
     "name": "stderr",
     "output_type": "stream",
     "text": [
      "  layer_31: 100%|██████████| 1/1 [00:00<00:00, 22.15it/s]\n"
     ]
    },
    {
     "name": "stdout",
     "output_type": "stream",
     "text": [
      "\n",
      "Scanning layer_32:\n",
      "  Checking 1 files...\n"
     ]
    },
    {
     "name": "stderr",
     "output_type": "stream",
     "text": [
      "  layer_32: 100%|██████████| 1/1 [00:00<00:00, 18.92it/s]\n"
     ]
    },
    {
     "name": "stdout",
     "output_type": "stream",
     "text": [
      "\n",
      "Scanning layer_33:\n",
      "  Checking 1 files...\n"
     ]
    },
    {
     "name": "stderr",
     "output_type": "stream",
     "text": [
      "  layer_33: 100%|██████████| 1/1 [00:00<00:00, 21.97it/s]\n"
     ]
    },
    {
     "name": "stdout",
     "output_type": "stream",
     "text": [
      "\n",
      "Scanning layer_34:\n",
      "  Checking 1 files...\n"
     ]
    },
    {
     "name": "stderr",
     "output_type": "stream",
     "text": [
      "  layer_34: 100%|██████████| 1/1 [00:00<00:00, 19.85it/s]"
     ]
    },
    {
     "name": "stdout",
     "output_type": "stream",
     "text": [
      "\n",
      "Found 0 corrupted files\n"
     ]
    },
    {
     "name": "stderr",
     "output_type": "stream",
     "text": [
      "\n"
     ]
    },
    {
     "data": {
      "text/plain": [
       "True"
      ]
     },
     "execution_count": 5,
     "metadata": {},
     "output_type": "execute_result"
    }
   ],
   "source": [
    "# Uncomment the following line to delete corrupted files\n",
    "cleanup_corrupted_files(by_layer_dir, delete=True)\n"
   ]
  },
  {
   "cell_type": "markdown",
   "metadata": {},
   "source": [
    "## 7. Explore the Reorganized Data\n",
    "\n",
    "Let's explore the reorganized data structure.\n"
   ]
  },
  {
   "cell_type": "code",
   "execution_count": 6,
   "metadata": {},
   "outputs": [
    {
     "name": "stdout",
     "output_type": "stream",
     "text": [
      "Found 35 layer directories\n",
      "\n",
      "Exploring results/by_layer/layer_00:\n",
      "Found 1 experiment files\n",
      "\n",
      "Exploring results/by_layer/layer_00/V0_num_p2_V0.npz:\n",
      "Keys: ['question_ids', 'vectors']\n",
      "Number of questions: 1050\n",
      "Vector shape: (1050, 2560)\n",
      "First few question IDs: ['Q-000001' 'Q-000002' 'Q-000003' 'Q-0-00004' 'Q-000005']\n",
      "First vector shape: (2560,)\n",
      "\n",
      "Metadata:\n",
      "  Experiment ID: V0_num_p2\n",
      "  Form: V0\n",
      "  Layer: 0\n",
      "  Number of questions: 1050\n",
      "  Vector dimension: 2560\n"
     ]
    }
   ],
   "source": [
    "# List layer directories\n",
    "if by_layer_dir.exists():\n",
    "    layer_dirs = sorted([d for d in by_layer_dir.glob(\"layer_*\") if d.is_dir()])\n",
    "    print(f\"Found {len(layer_dirs)} layer directories\")\n",
    "\n",
    "    # Look at the first layer directory\n",
    "    if layer_dirs:\n",
    "        layer_dir = layer_dirs[0]\n",
    "        print(f\"\\nExploring {layer_dir}:\")\n",
    "\n",
    "        # List experiment files\n",
    "        exp_files = list(layer_dir.glob(\"*.npz\"))\n",
    "        print(f\"Found {len(exp_files)} experiment files\")\n",
    "\n",
    "        # Look at the first experiment file\n",
    "        if exp_files:\n",
    "            exp_file = exp_files[0]\n",
    "            print(f\"\\nExploring {exp_file}:\")\n",
    "\n",
    "            # Load the data\n",
    "            data = np.load(exp_file, allow_pickle=True)\n",
    "\n",
    "            # Print information\n",
    "            print(f\"Keys: {list(data.keys())}\")\n",
    "            question_ids = data['question_ids']\n",
    "            vectors = data['vectors']\n",
    "            print(f\"Number of questions: {len(question_ids)}\")\n",
    "            print(f\"Vector shape: {vectors.shape}\")\n",
    "            print(f\"First few question IDs: {question_ids[:5]}\")\n",
    "            print(f\"First vector shape: {vectors[0].shape}\")\n",
    "\n",
    "            # Load metadata\n",
    "            metadata_file = exp_file.with_suffix(\".json\")\n",
    "            if metadata_file.exists():\n",
    "                with open(metadata_file) as f:\n",
    "                    metadata = json.load(f)\n",
    "                print(\"\\nMetadata:\")\n",
    "                print(f\"  Experiment ID: {metadata.get('experiment_id')}\")\n",
    "                print(f\"  Form: {metadata.get('form')}\")\n",
    "                print(f\"  Layer: {metadata.get('layer')}\")\n",
    "                print(f\"  Number of questions: {metadata.get('num_questions')}\")\n",
    "                print(f\"  Vector dimension: {metadata.get('vector_dim')}\")\n",
    "else:\n",
    "    print(f\"Directory {by_layer_dir} does not exist\")\n"
   ]
  },
  {
   "cell_type": "markdown",
   "metadata": {},
   "source": [
    "## 8. Process ALL Experiments (Full Reorganization)\n",
    "\n",
    "This cell will process all experiment directories and restructure everything. This may take some time depending on the number of experiments and their size.\n"
   ]
  },
  {
   "cell_type": "code",
   "execution_count": 8,
   "metadata": {},
   "outputs": [
    {
     "name": "stdout",
     "output_type": "stream",
     "text": [
      "Starting full reorganization of 60 experiment directories\n",
      "Start time: 2025-09-11 11:29:21\n",
      "Output directory: results/by_layer_20250911_112921\n",
      "\n",
      "Processing experiment 1/60: results/comprehensive_experiments/run_20250911_062422/V0_num_p2\n",
      "Processing experiment: results/comprehensive_experiments/run_20250911_062422/V0_num_p2\n",
      "File: hidden_states_V0.npz, Layers: 35, Hidden dim: 2560\n"
     ]
    },
    {
     "name": "stderr",
     "output_type": "stream",
     "text": [
      "Layer 00:   0%|          | 0/1050 [00:00<?, ?it/s]"
     ]
    },
    {
     "name": "stderr",
     "output_type": "stream",
     "text": [
      "Layer 00: 100%|██████████| 1050/1050 [00:02<00:00, 487.35it/s]\n"
     ]
    },
    {
     "name": "stdout",
     "output_type": "stream",
     "text": [
      "Created results/by_layer_20250911_112921/by_layer/layer_00/V0_num_p2_V0.npz with 1050 questions\n"
     ]
    },
    {
     "name": "stderr",
     "output_type": "stream",
     "text": [
      "Layer 01: 100%|██████████| 1050/1050 [00:02<00:00, 514.29it/s]\n"
     ]
    },
    {
     "name": "stdout",
     "output_type": "stream",
     "text": [
      "Created results/by_layer_20250911_112921/by_layer/layer_01/V0_num_p2_V0.npz with 1050 questions\n"
     ]
    },
    {
     "name": "stderr",
     "output_type": "stream",
     "text": [
      "Layer 02: 100%|██████████| 1050/1050 [00:01<00:00, 573.11it/s]\n"
     ]
    },
    {
     "name": "stdout",
     "output_type": "stream",
     "text": [
      "Created results/by_layer_20250911_112921/by_layer/layer_02/V0_num_p2_V0.npz with 1050 questions\n"
     ]
    },
    {
     "name": "stderr",
     "output_type": "stream",
     "text": [
      "Layer 03: 100%|██████████| 1050/1050 [00:01<00:00, 588.78it/s]\n"
     ]
    },
    {
     "name": "stdout",
     "output_type": "stream",
     "text": [
      "Created results/by_layer_20250911_112921/by_layer/layer_03/V0_num_p2_V0.npz with 1050 questions\n"
     ]
    },
    {
     "name": "stderr",
     "output_type": "stream",
     "text": [
      "Layer 04: 100%|██████████| 1050/1050 [00:01<00:00, 555.52it/s]\n"
     ]
    },
    {
     "name": "stdout",
     "output_type": "stream",
     "text": [
      "Created results/by_layer_20250911_112921/by_layer/layer_04/V0_num_p2_V0.npz with 1050 questions\n"
     ]
    },
    {
     "name": "stderr",
     "output_type": "stream",
     "text": [
      "Layer 05: 100%|██████████| 1050/1050 [00:01<00:00, 560.90it/s]\n"
     ]
    },
    {
     "name": "stdout",
     "output_type": "stream",
     "text": [
      "Created results/by_layer_20250911_112921/by_layer/layer_05/V0_num_p2_V0.npz with 1050 questions\n"
     ]
    },
    {
     "name": "stderr",
     "output_type": "stream",
     "text": [
      "Layer 06: 100%|██████████| 1050/1050 [00:02<00:00, 505.78it/s]\n"
     ]
    },
    {
     "name": "stdout",
     "output_type": "stream",
     "text": [
      "Created results/by_layer_20250911_112921/by_layer/layer_06/V0_num_p2_V0.npz with 1050 questions\n"
     ]
    },
    {
     "name": "stderr",
     "output_type": "stream",
     "text": [
      "Layer 07: 100%|██████████| 1050/1050 [00:01<00:00, 534.45it/s]\n"
     ]
    },
    {
     "name": "stdout",
     "output_type": "stream",
     "text": [
      "Created results/by_layer_20250911_112921/by_layer/layer_07/V0_num_p2_V0.npz with 1050 questions\n"
     ]
    },
    {
     "name": "stderr",
     "output_type": "stream",
     "text": [
      "Layer 08: 100%|██████████| 1050/1050 [00:01<00:00, 526.27it/s]\n"
     ]
    },
    {
     "name": "stdout",
     "output_type": "stream",
     "text": [
      "Created results/by_layer_20250911_112921/by_layer/layer_08/V0_num_p2_V0.npz with 1050 questions\n"
     ]
    },
    {
     "name": "stderr",
     "output_type": "stream",
     "text": [
      "Layer 09: 100%|██████████| 1050/1050 [00:02<00:00, 516.63it/s]\n"
     ]
    },
    {
     "name": "stdout",
     "output_type": "stream",
     "text": [
      "Created results/by_layer_20250911_112921/by_layer/layer_09/V0_num_p2_V0.npz with 1050 questions\n"
     ]
    },
    {
     "name": "stderr",
     "output_type": "stream",
     "text": [
      "Layer 10: 100%|██████████| 1050/1050 [00:01<00:00, 528.11it/s]\n"
     ]
    },
    {
     "name": "stdout",
     "output_type": "stream",
     "text": [
      "Created results/by_layer_20250911_112921/by_layer/layer_10/V0_num_p2_V0.npz with 1050 questions\n"
     ]
    },
    {
     "name": "stderr",
     "output_type": "stream",
     "text": [
      "Layer 11: 100%|██████████| 1050/1050 [00:01<00:00, 552.90it/s]\n"
     ]
    },
    {
     "name": "stdout",
     "output_type": "stream",
     "text": [
      "Created results/by_layer_20250911_112921/by_layer/layer_11/V0_num_p2_V0.npz with 1050 questions\n"
     ]
    },
    {
     "name": "stderr",
     "output_type": "stream",
     "text": [
      "Layer 12: 100%|██████████| 1050/1050 [00:01<00:00, 585.51it/s]\n"
     ]
    },
    {
     "name": "stdout",
     "output_type": "stream",
     "text": [
      "Created results/by_layer_20250911_112921/by_layer/layer_12/V0_num_p2_V0.npz with 1050 questions\n"
     ]
    },
    {
     "name": "stderr",
     "output_type": "stream",
     "text": [
      "Layer 13: 100%|██████████| 1050/1050 [00:01<00:00, 539.48it/s]\n"
     ]
    },
    {
     "name": "stdout",
     "output_type": "stream",
     "text": [
      "Created results/by_layer_20250911_112921/by_layer/layer_13/V0_num_p2_V0.npz with 1050 questions\n"
     ]
    },
    {
     "name": "stderr",
     "output_type": "stream",
     "text": [
      "Layer 14: 100%|██████████| 1050/1050 [00:02<00:00, 502.12it/s]\n"
     ]
    },
    {
     "name": "stdout",
     "output_type": "stream",
     "text": [
      "Created results/by_layer_20250911_112921/by_layer/layer_14/V0_num_p2_V0.npz with 1050 questions\n"
     ]
    },
    {
     "name": "stderr",
     "output_type": "stream",
     "text": [
      "Layer 15: 100%|██████████| 1050/1050 [00:02<00:00, 490.64it/s]\n"
     ]
    },
    {
     "name": "stdout",
     "output_type": "stream",
     "text": [
      "Created results/by_layer_20250911_112921/by_layer/layer_15/V0_num_p2_V0.npz with 1050 questions\n"
     ]
    },
    {
     "name": "stderr",
     "output_type": "stream",
     "text": [
      "Layer 16: 100%|██████████| 1050/1050 [00:01<00:00, 527.26it/s]\n"
     ]
    },
    {
     "name": "stdout",
     "output_type": "stream",
     "text": [
      "Created results/by_layer_20250911_112921/by_layer/layer_16/V0_num_p2_V0.npz with 1050 questions\n"
     ]
    },
    {
     "name": "stderr",
     "output_type": "stream",
     "text": [
      "Layer 17: 100%|██████████| 1050/1050 [00:03<00:00, 345.13it/s]\n"
     ]
    },
    {
     "name": "stdout",
     "output_type": "stream",
     "text": [
      "Created results/by_layer_20250911_112921/by_layer/layer_17/V0_num_p2_V0.npz with 1050 questions\n"
     ]
    },
    {
     "name": "stderr",
     "output_type": "stream",
     "text": [
      "Layer 18: 100%|██████████| 1050/1050 [00:02<00:00, 483.49it/s]\n"
     ]
    },
    {
     "name": "stdout",
     "output_type": "stream",
     "text": [
      "Created results/by_layer_20250911_112921/by_layer/layer_18/V0_num_p2_V0.npz with 1050 questions\n"
     ]
    },
    {
     "name": "stderr",
     "output_type": "stream",
     "text": [
      "Layer 19: 100%|██████████| 1050/1050 [00:01<00:00, 580.25it/s]\n"
     ]
    },
    {
     "name": "stdout",
     "output_type": "stream",
     "text": [
      "Created results/by_layer_20250911_112921/by_layer/layer_19/V0_num_p2_V0.npz with 1050 questions\n"
     ]
    },
    {
     "name": "stderr",
     "output_type": "stream",
     "text": [
      "Layer 20: 100%|██████████| 1050/1050 [00:01<00:00, 563.82it/s]\n"
     ]
    },
    {
     "name": "stdout",
     "output_type": "stream",
     "text": [
      "Created results/by_layer_20250911_112921/by_layer/layer_20/V0_num_p2_V0.npz with 1050 questions\n"
     ]
    },
    {
     "name": "stderr",
     "output_type": "stream",
     "text": [
      "Layer 21: 100%|██████████| 1050/1050 [00:01<00:00, 563.91it/s]\n"
     ]
    },
    {
     "name": "stdout",
     "output_type": "stream",
     "text": [
      "Created results/by_layer_20250911_112921/by_layer/layer_21/V0_num_p2_V0.npz with 1050 questions\n"
     ]
    },
    {
     "name": "stderr",
     "output_type": "stream",
     "text": [
      "Layer 22: 100%|██████████| 1050/1050 [00:01<00:00, 556.11it/s]\n"
     ]
    },
    {
     "name": "stdout",
     "output_type": "stream",
     "text": [
      "Created results/by_layer_20250911_112921/by_layer/layer_22/V0_num_p2_V0.npz with 1050 questions\n"
     ]
    },
    {
     "name": "stderr",
     "output_type": "stream",
     "text": [
      "Layer 23: 100%|██████████| 1050/1050 [00:02<00:00, 507.71it/s]\n"
     ]
    },
    {
     "name": "stdout",
     "output_type": "stream",
     "text": [
      "Created results/by_layer_20250911_112921/by_layer/layer_23/V0_num_p2_V0.npz with 1050 questions\n"
     ]
    },
    {
     "name": "stderr",
     "output_type": "stream",
     "text": [
      "Layer 24: 100%|██████████| 1050/1050 [00:02<00:00, 511.00it/s]\n"
     ]
    },
    {
     "name": "stdout",
     "output_type": "stream",
     "text": [
      "Created results/by_layer_20250911_112921/by_layer/layer_24/V0_num_p2_V0.npz with 1050 questions\n"
     ]
    },
    {
     "name": "stderr",
     "output_type": "stream",
     "text": [
      "Layer 25: 100%|██████████| 1050/1050 [00:03<00:00, 341.75it/s]\n"
     ]
    },
    {
     "name": "stdout",
     "output_type": "stream",
     "text": [
      "Created results/by_layer_20250911_112921/by_layer/layer_25/V0_num_p2_V0.npz with 1050 questions\n"
     ]
    },
    {
     "name": "stderr",
     "output_type": "stream",
     "text": [
      "Layer 26: 100%|██████████| 1050/1050 [00:02<00:00, 520.47it/s]\n"
     ]
    },
    {
     "name": "stdout",
     "output_type": "stream",
     "text": [
      "Created results/by_layer_20250911_112921/by_layer/layer_26/V0_num_p2_V0.npz with 1050 questions\n"
     ]
    },
    {
     "name": "stderr",
     "output_type": "stream",
     "text": [
      "Layer 27: 100%|██████████| 1050/1050 [00:02<00:00, 511.80it/s]\n"
     ]
    },
    {
     "name": "stdout",
     "output_type": "stream",
     "text": [
      "Created results/by_layer_20250911_112921/by_layer/layer_27/V0_num_p2_V0.npz with 1050 questions\n"
     ]
    },
    {
     "name": "stderr",
     "output_type": "stream",
     "text": [
      "Layer 28: 100%|██████████| 1050/1050 [00:01<00:00, 552.31it/s]\n"
     ]
    },
    {
     "name": "stdout",
     "output_type": "stream",
     "text": [
      "Created results/by_layer_20250911_112921/by_layer/layer_28/V0_num_p2_V0.npz with 1050 questions\n"
     ]
    },
    {
     "name": "stderr",
     "output_type": "stream",
     "text": [
      "Layer 29: 100%|██████████| 1050/1050 [00:01<00:00, 560.83it/s]\n"
     ]
    },
    {
     "name": "stdout",
     "output_type": "stream",
     "text": [
      "Created results/by_layer_20250911_112921/by_layer/layer_29/V0_num_p2_V0.npz with 1050 questions\n"
     ]
    },
    {
     "name": "stderr",
     "output_type": "stream",
     "text": [
      "Layer 30: 100%|██████████| 1050/1050 [00:01<00:00, 578.46it/s]\n"
     ]
    },
    {
     "name": "stdout",
     "output_type": "stream",
     "text": [
      "Created results/by_layer_20250911_112921/by_layer/layer_30/V0_num_p2_V0.npz with 1050 questions\n"
     ]
    },
    {
     "name": "stderr",
     "output_type": "stream",
     "text": [
      "Layer 31: 100%|██████████| 1050/1050 [00:02<00:00, 511.54it/s]\n"
     ]
    },
    {
     "name": "stdout",
     "output_type": "stream",
     "text": [
      "Created results/by_layer_20250911_112921/by_layer/layer_31/V0_num_p2_V0.npz with 1050 questions\n"
     ]
    },
    {
     "name": "stderr",
     "output_type": "stream",
     "text": [
      "Layer 32: 100%|██████████| 1050/1050 [00:02<00:00, 497.95it/s]\n"
     ]
    },
    {
     "name": "stdout",
     "output_type": "stream",
     "text": [
      "Created results/by_layer_20250911_112921/by_layer/layer_32/V0_num_p2_V0.npz with 1050 questions\n"
     ]
    },
    {
     "name": "stderr",
     "output_type": "stream",
     "text": [
      "Layer 33: 100%|██████████| 1050/1050 [00:01<00:00, 532.37it/s]\n"
     ]
    },
    {
     "name": "stdout",
     "output_type": "stream",
     "text": [
      "Created results/by_layer_20250911_112921/by_layer/layer_33/V0_num_p2_V0.npz with 1050 questions\n"
     ]
    },
    {
     "name": "stderr",
     "output_type": "stream",
     "text": [
      "Layer 34: 100%|██████████| 1050/1050 [00:02<00:00, 502.73it/s]\n"
     ]
    },
    {
     "name": "stdout",
     "output_type": "stream",
     "text": [
      "Created results/by_layer_20250911_112921/by_layer/layer_34/V0_num_p2_V0.npz with 1050 questions\n",
      "\n",
      "Processing experiment 2/60: results/comprehensive_experiments/run_20250911_062422/V3_num_p2\n",
      "Processing experiment: results/comprehensive_experiments/run_20250911_062422/V3_num_p2\n",
      "File: hidden_states_V3.npz, Layers: 35, Hidden dim: 2560\n"
     ]
    },
    {
     "name": "stderr",
     "output_type": "stream",
     "text": [
      "Layer 00: 100%|██████████| 1050/1050 [00:02<00:00, 406.07it/s]\n"
     ]
    },
    {
     "name": "stdout",
     "output_type": "stream",
     "text": [
      "Created results/by_layer_20250911_112921/by_layer/layer_00/V3_num_p2_V3.npz with 1050 questions\n"
     ]
    },
    {
     "name": "stderr",
     "output_type": "stream",
     "text": [
      "Layer 01: 100%|██████████| 1050/1050 [00:01<00:00, 577.47it/s]\n"
     ]
    },
    {
     "name": "stdout",
     "output_type": "stream",
     "text": [
      "Created results/by_layer_20250911_112921/by_layer/layer_01/V3_num_p2_V3.npz with 1050 questions\n"
     ]
    },
    {
     "name": "stderr",
     "output_type": "stream",
     "text": [
      "Layer 02: 100%|██████████| 1050/1050 [00:01<00:00, 555.60it/s]\n"
     ]
    },
    {
     "name": "stdout",
     "output_type": "stream",
     "text": [
      "Created results/by_layer_20250911_112921/by_layer/layer_02/V3_num_p2_V3.npz with 1050 questions\n"
     ]
    },
    {
     "name": "stderr",
     "output_type": "stream",
     "text": [
      "Layer 03: 100%|██████████| 1050/1050 [00:01<00:00, 542.02it/s]\n"
     ]
    },
    {
     "name": "stdout",
     "output_type": "stream",
     "text": [
      "Created results/by_layer_20250911_112921/by_layer/layer_03/V3_num_p2_V3.npz with 1050 questions\n"
     ]
    },
    {
     "name": "stderr",
     "output_type": "stream",
     "text": [
      "Layer 04: 100%|██████████| 1050/1050 [00:01<00:00, 556.79it/s]\n"
     ]
    },
    {
     "name": "stdout",
     "output_type": "stream",
     "text": [
      "Created results/by_layer_20250911_112921/by_layer/layer_04/V3_num_p2_V3.npz with 1050 questions\n"
     ]
    },
    {
     "name": "stderr",
     "output_type": "stream",
     "text": [
      "Layer 05: 100%|██████████| 1050/1050 [00:02<00:00, 512.49it/s]\n"
     ]
    },
    {
     "name": "stdout",
     "output_type": "stream",
     "text": [
      "Created results/by_layer_20250911_112921/by_layer/layer_05/V3_num_p2_V3.npz with 1050 questions\n"
     ]
    },
    {
     "name": "stderr",
     "output_type": "stream",
     "text": [
      "Layer 06: 100%|██████████| 1050/1050 [00:01<00:00, 538.75it/s]\n"
     ]
    },
    {
     "name": "stdout",
     "output_type": "stream",
     "text": [
      "Created results/by_layer_20250911_112921/by_layer/layer_06/V3_num_p2_V3.npz with 1050 questions\n"
     ]
    },
    {
     "name": "stderr",
     "output_type": "stream",
     "text": [
      "Layer 07: 100%|██████████| 1050/1050 [00:01<00:00, 546.20it/s]\n"
     ]
    },
    {
     "name": "stdout",
     "output_type": "stream",
     "text": [
      "Created results/by_layer_20250911_112921/by_layer/layer_07/V3_num_p2_V3.npz with 1050 questions\n"
     ]
    },
    {
     "name": "stderr",
     "output_type": "stream",
     "text": [
      "Layer 08: 100%|██████████| 1050/1050 [00:03<00:00, 323.97it/s]\n"
     ]
    },
    {
     "name": "stdout",
     "output_type": "stream",
     "text": [
      "Created results/by_layer_20250911_112921/by_layer/layer_08/V3_num_p2_V3.npz with 1050 questions\n"
     ]
    },
    {
     "name": "stderr",
     "output_type": "stream",
     "text": [
      "Layer 09: 100%|██████████| 1050/1050 [00:01<00:00, 529.84it/s]\n"
     ]
    },
    {
     "name": "stdout",
     "output_type": "stream",
     "text": [
      "Created results/by_layer_20250911_112921/by_layer/layer_09/V3_num_p2_V3.npz with 1050 questions\n"
     ]
    },
    {
     "name": "stderr",
     "output_type": "stream",
     "text": [
      "Layer 10: 100%|██████████| 1050/1050 [00:01<00:00, 614.61it/s]\n"
     ]
    },
    {
     "name": "stdout",
     "output_type": "stream",
     "text": [
      "Created results/by_layer_20250911_112921/by_layer/layer_10/V3_num_p2_V3.npz with 1050 questions\n"
     ]
    },
    {
     "name": "stderr",
     "output_type": "stream",
     "text": [
      "Layer 11: 100%|██████████| 1050/1050 [00:01<00:00, 598.44it/s]\n"
     ]
    },
    {
     "name": "stdout",
     "output_type": "stream",
     "text": [
      "Created results/by_layer_20250911_112921/by_layer/layer_11/V3_num_p2_V3.npz with 1050 questions\n"
     ]
    },
    {
     "name": "stderr",
     "output_type": "stream",
     "text": [
      "Layer 12: 100%|██████████| 1050/1050 [00:01<00:00, 612.56it/s]\n"
     ]
    },
    {
     "name": "stdout",
     "output_type": "stream",
     "text": [
      "Created results/by_layer_20250911_112921/by_layer/layer_12/V3_num_p2_V3.npz with 1050 questions\n"
     ]
    },
    {
     "name": "stderr",
     "output_type": "stream",
     "text": [
      "Layer 13: 100%|██████████| 1050/1050 [00:01<00:00, 580.21it/s]\n"
     ]
    },
    {
     "name": "stdout",
     "output_type": "stream",
     "text": [
      "Created results/by_layer_20250911_112921/by_layer/layer_13/V3_num_p2_V3.npz with 1050 questions\n"
     ]
    },
    {
     "name": "stderr",
     "output_type": "stream",
     "text": [
      "Layer 14: 100%|██████████| 1050/1050 [00:01<00:00, 540.81it/s]\n"
     ]
    },
    {
     "name": "stdout",
     "output_type": "stream",
     "text": [
      "Created results/by_layer_20250911_112921/by_layer/layer_14/V3_num_p2_V3.npz with 1050 questions\n"
     ]
    },
    {
     "name": "stderr",
     "output_type": "stream",
     "text": [
      "Layer 15: 100%|██████████| 1050/1050 [00:01<00:00, 557.24it/s]\n"
     ]
    },
    {
     "name": "stdout",
     "output_type": "stream",
     "text": [
      "Created results/by_layer_20250911_112921/by_layer/layer_15/V3_num_p2_V3.npz with 1050 questions\n"
     ]
    },
    {
     "name": "stderr",
     "output_type": "stream",
     "text": [
      "Layer 16: 100%|██████████| 1050/1050 [00:01<00:00, 545.54it/s]\n"
     ]
    },
    {
     "name": "stdout",
     "output_type": "stream",
     "text": [
      "Created results/by_layer_20250911_112921/by_layer/layer_16/V3_num_p2_V3.npz with 1050 questions\n"
     ]
    },
    {
     "name": "stderr",
     "output_type": "stream",
     "text": [
      "Layer 17: 100%|██████████| 1050/1050 [00:02<00:00, 353.01it/s]\n"
     ]
    },
    {
     "name": "stdout",
     "output_type": "stream",
     "text": [
      "Created results/by_layer_20250911_112921/by_layer/layer_17/V3_num_p2_V3.npz with 1050 questions\n"
     ]
    },
    {
     "name": "stderr",
     "output_type": "stream",
     "text": [
      "Layer 18: 100%|██████████| 1050/1050 [00:01<00:00, 532.95it/s]\n"
     ]
    },
    {
     "name": "stdout",
     "output_type": "stream",
     "text": [
      "Created results/by_layer_20250911_112921/by_layer/layer_18/V3_num_p2_V3.npz with 1050 questions\n"
     ]
    },
    {
     "name": "stderr",
     "output_type": "stream",
     "text": [
      "Layer 19: 100%|██████████| 1050/1050 [00:01<00:00, 567.07it/s]\n"
     ]
    },
    {
     "name": "stdout",
     "output_type": "stream",
     "text": [
      "Created results/by_layer_20250911_112921/by_layer/layer_19/V3_num_p2_V3.npz with 1050 questions\n"
     ]
    },
    {
     "name": "stderr",
     "output_type": "stream",
     "text": [
      "Layer 20: 100%|██████████| 1050/1050 [00:01<00:00, 597.47it/s]\n"
     ]
    },
    {
     "name": "stdout",
     "output_type": "stream",
     "text": [
      "Created results/by_layer_20250911_112921/by_layer/layer_20/V3_num_p2_V3.npz with 1050 questions\n"
     ]
    },
    {
     "name": "stderr",
     "output_type": "stream",
     "text": [
      "Layer 21: 100%|██████████| 1050/1050 [00:01<00:00, 564.43it/s]\n"
     ]
    },
    {
     "name": "stdout",
     "output_type": "stream",
     "text": [
      "Created results/by_layer_20250911_112921/by_layer/layer_21/V3_num_p2_V3.npz with 1050 questions\n"
     ]
    },
    {
     "name": "stderr",
     "output_type": "stream",
     "text": [
      "Layer 22: 100%|██████████| 1050/1050 [00:01<00:00, 544.91it/s]\n"
     ]
    },
    {
     "name": "stdout",
     "output_type": "stream",
     "text": [
      "Created results/by_layer_20250911_112921/by_layer/layer_22/V3_num_p2_V3.npz with 1050 questions\n"
     ]
    },
    {
     "name": "stderr",
     "output_type": "stream",
     "text": [
      "Layer 23: 100%|██████████| 1050/1050 [00:01<00:00, 536.63it/s]\n"
     ]
    },
    {
     "name": "stdout",
     "output_type": "stream",
     "text": [
      "Created results/by_layer_20250911_112921/by_layer/layer_23/V3_num_p2_V3.npz with 1050 questions\n"
     ]
    },
    {
     "name": "stderr",
     "output_type": "stream",
     "text": [
      "Layer 24: 100%|██████████| 1050/1050 [00:01<00:00, 539.98it/s]\n"
     ]
    },
    {
     "name": "stdout",
     "output_type": "stream",
     "text": [
      "Created results/by_layer_20250911_112921/by_layer/layer_24/V3_num_p2_V3.npz with 1050 questions\n"
     ]
    },
    {
     "name": "stderr",
     "output_type": "stream",
     "text": [
      "Layer 25: 100%|██████████| 1050/1050 [00:01<00:00, 540.77it/s]\n"
     ]
    },
    {
     "name": "stdout",
     "output_type": "stream",
     "text": [
      "Created results/by_layer_20250911_112921/by_layer/layer_25/V3_num_p2_V3.npz with 1050 questions\n"
     ]
    },
    {
     "name": "stderr",
     "output_type": "stream",
     "text": [
      "Layer 26: 100%|██████████| 1050/1050 [00:02<00:00, 510.73it/s]\n"
     ]
    },
    {
     "name": "stdout",
     "output_type": "stream",
     "text": [
      "Created results/by_layer_20250911_112921/by_layer/layer_26/V3_num_p2_V3.npz with 1050 questions\n"
     ]
    },
    {
     "name": "stderr",
     "output_type": "stream",
     "text": [
      "Layer 27: 100%|██████████| 1050/1050 [00:01<00:00, 536.61it/s]\n"
     ]
    },
    {
     "name": "stdout",
     "output_type": "stream",
     "text": [
      "Created results/by_layer_20250911_112921/by_layer/layer_27/V3_num_p2_V3.npz with 1050 questions\n"
     ]
    },
    {
     "name": "stderr",
     "output_type": "stream",
     "text": [
      "Layer 28: 100%|██████████| 1050/1050 [00:01<00:00, 606.89it/s]\n"
     ]
    },
    {
     "name": "stdout",
     "output_type": "stream",
     "text": [
      "Created results/by_layer_20250911_112921/by_layer/layer_28/V3_num_p2_V3.npz with 1050 questions\n"
     ]
    },
    {
     "name": "stderr",
     "output_type": "stream",
     "text": [
      "Layer 29: 100%|██████████| 1050/1050 [00:01<00:00, 607.16it/s]\n"
     ]
    },
    {
     "name": "stdout",
     "output_type": "stream",
     "text": [
      "Created results/by_layer_20250911_112921/by_layer/layer_29/V3_num_p2_V3.npz with 1050 questions\n"
     ]
    },
    {
     "name": "stderr",
     "output_type": "stream",
     "text": [
      "Layer 30: 100%|██████████| 1050/1050 [00:01<00:00, 560.88it/s]\n"
     ]
    },
    {
     "name": "stdout",
     "output_type": "stream",
     "text": [
      "Created results/by_layer_20250911_112921/by_layer/layer_30/V3_num_p2_V3.npz with 1050 questions\n"
     ]
    },
    {
     "name": "stderr",
     "output_type": "stream",
     "text": [
      "Layer 31: 100%|██████████| 1050/1050 [00:01<00:00, 551.64it/s]\n"
     ]
    },
    {
     "name": "stdout",
     "output_type": "stream",
     "text": [
      "Created results/by_layer_20250911_112921/by_layer/layer_31/V3_num_p2_V3.npz with 1050 questions\n"
     ]
    },
    {
     "name": "stderr",
     "output_type": "stream",
     "text": [
      "Layer 32: 100%|██████████| 1050/1050 [00:01<00:00, 533.85it/s]\n"
     ]
    },
    {
     "name": "stdout",
     "output_type": "stream",
     "text": [
      "Created results/by_layer_20250911_112921/by_layer/layer_32/V3_num_p2_V3.npz with 1050 questions\n"
     ]
    },
    {
     "name": "stderr",
     "output_type": "stream",
     "text": [
      "Layer 33: 100%|██████████| 1050/1050 [00:01<00:00, 537.64it/s]\n"
     ]
    },
    {
     "name": "stdout",
     "output_type": "stream",
     "text": [
      "Created results/by_layer_20250911_112921/by_layer/layer_33/V3_num_p2_V3.npz with 1050 questions\n"
     ]
    },
    {
     "name": "stderr",
     "output_type": "stream",
     "text": [
      "Layer 34: 100%|██████████| 1050/1050 [00:01<00:00, 530.89it/s]\n"
     ]
    },
    {
     "name": "stdout",
     "output_type": "stream",
     "text": [
      "Created results/by_layer_20250911_112921/by_layer/layer_34/V3_num_p2_V3.npz with 1050 questions\n",
      "\n",
      "Processing experiment 3/60: results/comprehensive_experiments/run_20250911_062422/V5_alpha_p5\n",
      "Processing experiment: results/comprehensive_experiments/run_20250911_062422/V5_alpha_p5\n",
      "File: hidden_states_V5.npz, Layers: 35, Hidden dim: 2560\n"
     ]
    },
    {
     "name": "stderr",
     "output_type": "stream",
     "text": [
      "Layer 00: 100%|██████████| 1050/1050 [00:02<00:00, 377.44it/s]\n"
     ]
    },
    {
     "name": "stdout",
     "output_type": "stream",
     "text": [
      "Created results/by_layer_20250911_112921/by_layer/layer_00/V5_alpha_p5_V5.npz with 1050 questions\n"
     ]
    },
    {
     "name": "stderr",
     "output_type": "stream",
     "text": [
      "Layer 01: 100%|██████████| 1050/1050 [00:01<00:00, 532.04it/s]\n"
     ]
    },
    {
     "name": "stdout",
     "output_type": "stream",
     "text": [
      "Created results/by_layer_20250911_112921/by_layer/layer_01/V5_alpha_p5_V5.npz with 1050 questions\n"
     ]
    },
    {
     "name": "stderr",
     "output_type": "stream",
     "text": [
      "Layer 02: 100%|██████████| 1050/1050 [00:01<00:00, 584.54it/s]\n"
     ]
    },
    {
     "name": "stdout",
     "output_type": "stream",
     "text": [
      "Created results/by_layer_20250911_112921/by_layer/layer_02/V5_alpha_p5_V5.npz with 1050 questions\n"
     ]
    },
    {
     "name": "stderr",
     "output_type": "stream",
     "text": [
      "Layer 03: 100%|██████████| 1050/1050 [00:01<00:00, 575.38it/s]\n"
     ]
    },
    {
     "name": "stdout",
     "output_type": "stream",
     "text": [
      "Created results/by_layer_20250911_112921/by_layer/layer_03/V5_alpha_p5_V5.npz with 1050 questions\n"
     ]
    },
    {
     "name": "stderr",
     "output_type": "stream",
     "text": [
      "Layer 04: 100%|██████████| 1050/1050 [00:01<00:00, 573.52it/s]\n"
     ]
    },
    {
     "name": "stdout",
     "output_type": "stream",
     "text": [
      "Created results/by_layer_20250911_112921/by_layer/layer_04/V5_alpha_p5_V5.npz with 1050 questions\n"
     ]
    },
    {
     "name": "stderr",
     "output_type": "stream",
     "text": [
      "Layer 05: 100%|██████████| 1050/1050 [00:02<00:00, 503.44it/s]\n"
     ]
    },
    {
     "name": "stdout",
     "output_type": "stream",
     "text": [
      "Created results/by_layer_20250911_112921/by_layer/layer_05/V5_alpha_p5_V5.npz with 1050 questions\n"
     ]
    },
    {
     "name": "stderr",
     "output_type": "stream",
     "text": [
      "Layer 06: 100%|██████████| 1050/1050 [00:01<00:00, 533.74it/s]\n"
     ]
    },
    {
     "name": "stdout",
     "output_type": "stream",
     "text": [
      "Created results/by_layer_20250911_112921/by_layer/layer_06/V5_alpha_p5_V5.npz with 1050 questions\n"
     ]
    },
    {
     "name": "stderr",
     "output_type": "stream",
     "text": [
      "Layer 07: 100%|██████████| 1050/1050 [00:02<00:00, 499.81it/s]\n"
     ]
    },
    {
     "name": "stdout",
     "output_type": "stream",
     "text": [
      "Created results/by_layer_20250911_112921/by_layer/layer_07/V5_alpha_p5_V5.npz with 1050 questions\n"
     ]
    },
    {
     "name": "stderr",
     "output_type": "stream",
     "text": [
      "Layer 08: 100%|██████████| 1050/1050 [00:02<00:00, 502.86it/s]\n"
     ]
    },
    {
     "name": "stdout",
     "output_type": "stream",
     "text": [
      "Created results/by_layer_20250911_112921/by_layer/layer_08/V5_alpha_p5_V5.npz with 1050 questions\n"
     ]
    },
    {
     "name": "stderr",
     "output_type": "stream",
     "text": [
      "Layer 09: 100%|██████████| 1050/1050 [00:02<00:00, 495.48it/s]\n"
     ]
    },
    {
     "name": "stdout",
     "output_type": "stream",
     "text": [
      "Created results/by_layer_20250911_112921/by_layer/layer_09/V5_alpha_p5_V5.npz with 1050 questions\n"
     ]
    },
    {
     "name": "stderr",
     "output_type": "stream",
     "text": [
      "Layer 10: 100%|██████████| 1050/1050 [00:02<00:00, 502.83it/s]\n"
     ]
    },
    {
     "name": "stdout",
     "output_type": "stream",
     "text": [
      "Created results/by_layer_20250911_112921/by_layer/layer_10/V5_alpha_p5_V5.npz with 1050 questions\n"
     ]
    },
    {
     "name": "stderr",
     "output_type": "stream",
     "text": [
      "Layer 11: 100%|██████████| 1050/1050 [00:02<00:00, 502.25it/s]\n"
     ]
    },
    {
     "name": "stdout",
     "output_type": "stream",
     "text": [
      "Created results/by_layer_20250911_112921/by_layer/layer_11/V5_alpha_p5_V5.npz with 1050 questions\n"
     ]
    },
    {
     "name": "stderr",
     "output_type": "stream",
     "text": [
      "Layer 12: 100%|██████████| 1050/1050 [00:02<00:00, 517.53it/s]\n"
     ]
    },
    {
     "name": "stdout",
     "output_type": "stream",
     "text": [
      "Created results/by_layer_20250911_112921/by_layer/layer_12/V5_alpha_p5_V5.npz with 1050 questions\n"
     ]
    },
    {
     "name": "stderr",
     "output_type": "stream",
     "text": [
      "Layer 13: 100%|██████████| 1050/1050 [00:02<00:00, 498.02it/s]\n"
     ]
    },
    {
     "name": "stdout",
     "output_type": "stream",
     "text": [
      "Created results/by_layer_20250911_112921/by_layer/layer_13/V5_alpha_p5_V5.npz with 1050 questions\n"
     ]
    },
    {
     "name": "stderr",
     "output_type": "stream",
     "text": [
      "Layer 14: 100%|██████████| 1050/1050 [00:01<00:00, 548.94it/s]\n"
     ]
    },
    {
     "name": "stdout",
     "output_type": "stream",
     "text": [
      "Created results/by_layer_20250911_112921/by_layer/layer_14/V5_alpha_p5_V5.npz with 1050 questions\n"
     ]
    },
    {
     "name": "stderr",
     "output_type": "stream",
     "text": [
      "Layer 15: 100%|██████████| 1050/1050 [00:01<00:00, 529.88it/s]\n"
     ]
    },
    {
     "name": "stdout",
     "output_type": "stream",
     "text": [
      "Created results/by_layer_20250911_112921/by_layer/layer_15/V5_alpha_p5_V5.npz with 1050 questions\n"
     ]
    },
    {
     "name": "stderr",
     "output_type": "stream",
     "text": [
      "Layer 16: 100%|██████████| 1050/1050 [00:01<00:00, 542.06it/s]\n"
     ]
    },
    {
     "name": "stdout",
     "output_type": "stream",
     "text": [
      "Created results/by_layer_20250911_112921/by_layer/layer_16/V5_alpha_p5_V5.npz with 1050 questions\n"
     ]
    },
    {
     "name": "stderr",
     "output_type": "stream",
     "text": [
      "Layer 17: 100%|██████████| 1050/1050 [00:01<00:00, 539.25it/s]\n"
     ]
    },
    {
     "name": "stdout",
     "output_type": "stream",
     "text": [
      "Created results/by_layer_20250911_112921/by_layer/layer_17/V5_alpha_p5_V5.npz with 1050 questions\n"
     ]
    },
    {
     "name": "stderr",
     "output_type": "stream",
     "text": [
      "Layer 18: 100%|██████████| 1050/1050 [00:01<00:00, 530.42it/s]\n"
     ]
    },
    {
     "name": "stdout",
     "output_type": "stream",
     "text": [
      "Created results/by_layer_20250911_112921/by_layer/layer_18/V5_alpha_p5_V5.npz with 1050 questions\n"
     ]
    },
    {
     "name": "stderr",
     "output_type": "stream",
     "text": [
      "Layer 19: 100%|██████████| 1050/1050 [00:01<00:00, 564.05it/s]\n"
     ]
    },
    {
     "name": "stdout",
     "output_type": "stream",
     "text": [
      "Created results/by_layer_20250911_112921/by_layer/layer_19/V5_alpha_p5_V5.npz with 1050 questions\n"
     ]
    },
    {
     "name": "stderr",
     "output_type": "stream",
     "text": [
      "Layer 20: 100%|██████████| 1050/1050 [00:01<00:00, 539.78it/s]\n"
     ]
    },
    {
     "name": "stdout",
     "output_type": "stream",
     "text": [
      "Created results/by_layer_20250911_112921/by_layer/layer_20/V5_alpha_p5_V5.npz with 1050 questions\n"
     ]
    },
    {
     "name": "stderr",
     "output_type": "stream",
     "text": [
      "Layer 21: 100%|██████████| 1050/1050 [00:01<00:00, 556.66it/s]\n"
     ]
    },
    {
     "name": "stdout",
     "output_type": "stream",
     "text": [
      "Created results/by_layer_20250911_112921/by_layer/layer_21/V5_alpha_p5_V5.npz with 1050 questions\n"
     ]
    },
    {
     "name": "stderr",
     "output_type": "stream",
     "text": [
      "Layer 22: 100%|██████████| 1050/1050 [00:02<00:00, 505.70it/s]\n"
     ]
    },
    {
     "name": "stdout",
     "output_type": "stream",
     "text": [
      "Created results/by_layer_20250911_112921/by_layer/layer_22/V5_alpha_p5_V5.npz with 1050 questions\n"
     ]
    },
    {
     "name": "stderr",
     "output_type": "stream",
     "text": [
      "Layer 23: 100%|██████████| 1050/1050 [00:01<00:00, 543.44it/s]\n"
     ]
    },
    {
     "name": "stdout",
     "output_type": "stream",
     "text": [
      "Created results/by_layer_20250911_112921/by_layer/layer_23/V5_alpha_p5_V5.npz with 1050 questions\n"
     ]
    },
    {
     "name": "stderr",
     "output_type": "stream",
     "text": [
      "Layer 24: 100%|██████████| 1050/1050 [00:02<00:00, 516.95it/s]\n"
     ]
    },
    {
     "name": "stdout",
     "output_type": "stream",
     "text": [
      "Created results/by_layer_20250911_112921/by_layer/layer_24/V5_alpha_p5_V5.npz with 1050 questions\n"
     ]
    },
    {
     "name": "stderr",
     "output_type": "stream",
     "text": [
      "Layer 25: 100%|██████████| 1050/1050 [00:03<00:00, 305.56it/s]\n"
     ]
    },
    {
     "name": "stdout",
     "output_type": "stream",
     "text": [
      "Created results/by_layer_20250911_112921/by_layer/layer_25/V5_alpha_p5_V5.npz with 1050 questions\n"
     ]
    },
    {
     "name": "stderr",
     "output_type": "stream",
     "text": [
      "Layer 26: 100%|██████████| 1050/1050 [00:01<00:00, 532.49it/s]\n"
     ]
    },
    {
     "name": "stdout",
     "output_type": "stream",
     "text": [
      "Created results/by_layer_20250911_112921/by_layer/layer_26/V5_alpha_p5_V5.npz with 1050 questions\n"
     ]
    },
    {
     "name": "stderr",
     "output_type": "stream",
     "text": [
      "Layer 27: 100%|██████████| 1050/1050 [00:01<00:00, 589.82it/s]\n"
     ]
    },
    {
     "name": "stdout",
     "output_type": "stream",
     "text": [
      "Created results/by_layer_20250911_112921/by_layer/layer_27/V5_alpha_p5_V5.npz with 1050 questions\n"
     ]
    },
    {
     "name": "stderr",
     "output_type": "stream",
     "text": [
      "Layer 28: 100%|██████████| 1050/1050 [00:01<00:00, 572.88it/s]\n"
     ]
    },
    {
     "name": "stdout",
     "output_type": "stream",
     "text": [
      "Created results/by_layer_20250911_112921/by_layer/layer_28/V5_alpha_p5_V5.npz with 1050 questions\n"
     ]
    },
    {
     "name": "stderr",
     "output_type": "stream",
     "text": [
      "Layer 29: 100%|██████████| 1050/1050 [00:02<00:00, 519.06it/s]\n"
     ]
    },
    {
     "name": "stdout",
     "output_type": "stream",
     "text": [
      "Created results/by_layer_20250911_112921/by_layer/layer_29/V5_alpha_p5_V5.npz with 1050 questions\n"
     ]
    },
    {
     "name": "stderr",
     "output_type": "stream",
     "text": [
      "Layer 30: 100%|██████████| 1050/1050 [00:02<00:00, 522.98it/s]\n"
     ]
    },
    {
     "name": "stdout",
     "output_type": "stream",
     "text": [
      "Created results/by_layer_20250911_112921/by_layer/layer_30/V5_alpha_p5_V5.npz with 1050 questions\n"
     ]
    },
    {
     "name": "stderr",
     "output_type": "stream",
     "text": [
      "Layer 31: 100%|██████████| 1050/1050 [00:01<00:00, 560.43it/s]\n"
     ]
    },
    {
     "name": "stdout",
     "output_type": "stream",
     "text": [
      "Created results/by_layer_20250911_112921/by_layer/layer_31/V5_alpha_p5_V5.npz with 1050 questions\n"
     ]
    },
    {
     "name": "stderr",
     "output_type": "stream",
     "text": [
      "Layer 32: 100%|██████████| 1050/1050 [00:01<00:00, 538.68it/s]\n"
     ]
    },
    {
     "name": "stdout",
     "output_type": "stream",
     "text": [
      "Created results/by_layer_20250911_112921/by_layer/layer_32/V5_alpha_p5_V5.npz with 1050 questions\n"
     ]
    },
    {
     "name": "stderr",
     "output_type": "stream",
     "text": [
      "Layer 33: 100%|██████████| 1050/1050 [00:01<00:00, 544.88it/s]\n"
     ]
    },
    {
     "name": "stdout",
     "output_type": "stream",
     "text": [
      "Created results/by_layer_20250911_112921/by_layer/layer_33/V5_alpha_p5_V5.npz with 1050 questions\n"
     ]
    },
    {
     "name": "stderr",
     "output_type": "stream",
     "text": [
      "Layer 34: 100%|██████████| 1050/1050 [00:02<00:00, 509.08it/s]\n"
     ]
    },
    {
     "name": "stdout",
     "output_type": "stream",
     "text": [
      "Created results/by_layer_20250911_112921/by_layer/layer_34/V5_alpha_p5_V5.npz with 1050 questions\n",
      "\n",
      "Processing experiment 4/60: results/comprehensive_experiments/run_20250911_062422/V5_alpha_p2\n",
      "Processing experiment: results/comprehensive_experiments/run_20250911_062422/V5_alpha_p2\n",
      "File: hidden_states_V5.npz, Layers: 35, Hidden dim: 2560\n"
     ]
    },
    {
     "name": "stderr",
     "output_type": "stream",
     "text": [
      "Layer 00: 100%|██████████| 1050/1050 [00:02<00:00, 395.67it/s]\n"
     ]
    },
    {
     "name": "stdout",
     "output_type": "stream",
     "text": [
      "Created results/by_layer_20250911_112921/by_layer/layer_00/V5_alpha_p2_V5.npz with 1050 questions\n"
     ]
    },
    {
     "name": "stderr",
     "output_type": "stream",
     "text": [
      "Layer 01: 100%|██████████| 1050/1050 [00:01<00:00, 536.65it/s]\n"
     ]
    },
    {
     "name": "stdout",
     "output_type": "stream",
     "text": [
      "Created results/by_layer_20250911_112921/by_layer/layer_01/V5_alpha_p2_V5.npz with 1050 questions\n"
     ]
    },
    {
     "name": "stderr",
     "output_type": "stream",
     "text": [
      "Layer 02: 100%|██████████| 1050/1050 [00:01<00:00, 562.85it/s]\n"
     ]
    },
    {
     "name": "stdout",
     "output_type": "stream",
     "text": [
      "Created results/by_layer_20250911_112921/by_layer/layer_02/V5_alpha_p2_V5.npz with 1050 questions\n"
     ]
    },
    {
     "name": "stderr",
     "output_type": "stream",
     "text": [
      "Layer 03: 100%|██████████| 1050/1050 [00:01<00:00, 545.73it/s]\n"
     ]
    },
    {
     "name": "stdout",
     "output_type": "stream",
     "text": [
      "Created results/by_layer_20250911_112921/by_layer/layer_03/V5_alpha_p2_V5.npz with 1050 questions\n"
     ]
    },
    {
     "name": "stderr",
     "output_type": "stream",
     "text": [
      "Layer 04: 100%|██████████| 1050/1050 [00:01<00:00, 532.02it/s]\n"
     ]
    },
    {
     "name": "stdout",
     "output_type": "stream",
     "text": [
      "Created results/by_layer_20250911_112921/by_layer/layer_04/V5_alpha_p2_V5.npz with 1050 questions\n"
     ]
    },
    {
     "name": "stderr",
     "output_type": "stream",
     "text": [
      "Layer 05: 100%|██████████| 1050/1050 [00:01<00:00, 553.68it/s]\n"
     ]
    },
    {
     "name": "stdout",
     "output_type": "stream",
     "text": [
      "Created results/by_layer_20250911_112921/by_layer/layer_05/V5_alpha_p2_V5.npz with 1050 questions\n"
     ]
    },
    {
     "name": "stderr",
     "output_type": "stream",
     "text": [
      "Layer 06: 100%|██████████| 1050/1050 [00:01<00:00, 554.20it/s]\n"
     ]
    },
    {
     "name": "stdout",
     "output_type": "stream",
     "text": [
      "Created results/by_layer_20250911_112921/by_layer/layer_06/V5_alpha_p2_V5.npz with 1050 questions\n"
     ]
    },
    {
     "name": "stderr",
     "output_type": "stream",
     "text": [
      "Layer 07: 100%|██████████| 1050/1050 [00:01<00:00, 554.62it/s]\n"
     ]
    },
    {
     "name": "stdout",
     "output_type": "stream",
     "text": [
      "Created results/by_layer_20250911_112921/by_layer/layer_07/V5_alpha_p2_V5.npz with 1050 questions\n"
     ]
    },
    {
     "name": "stderr",
     "output_type": "stream",
     "text": [
      "Layer 08: 100%|██████████| 1050/1050 [00:01<00:00, 543.77it/s]\n"
     ]
    },
    {
     "name": "stdout",
     "output_type": "stream",
     "text": [
      "Created results/by_layer_20250911_112921/by_layer/layer_08/V5_alpha_p2_V5.npz with 1050 questions\n"
     ]
    },
    {
     "name": "stderr",
     "output_type": "stream",
     "text": [
      "Layer 09: 100%|██████████| 1050/1050 [00:01<00:00, 560.93it/s]\n"
     ]
    },
    {
     "name": "stdout",
     "output_type": "stream",
     "text": [
      "Created results/by_layer_20250911_112921/by_layer/layer_09/V5_alpha_p2_V5.npz with 1050 questions\n"
     ]
    },
    {
     "name": "stderr",
     "output_type": "stream",
     "text": [
      "Layer 10: 100%|██████████| 1050/1050 [00:01<00:00, 581.60it/s]\n"
     ]
    },
    {
     "name": "stdout",
     "output_type": "stream",
     "text": [
      "Created results/by_layer_20250911_112921/by_layer/layer_10/V5_alpha_p2_V5.npz with 1050 questions\n"
     ]
    },
    {
     "name": "stderr",
     "output_type": "stream",
     "text": [
      "Layer 11: 100%|██████████| 1050/1050 [00:01<00:00, 559.69it/s]\n"
     ]
    },
    {
     "name": "stdout",
     "output_type": "stream",
     "text": [
      "Created results/by_layer_20250911_112921/by_layer/layer_11/V5_alpha_p2_V5.npz with 1050 questions\n"
     ]
    },
    {
     "name": "stderr",
     "output_type": "stream",
     "text": [
      "Layer 12: 100%|██████████| 1050/1050 [00:01<00:00, 555.58it/s]\n"
     ]
    },
    {
     "name": "stdout",
     "output_type": "stream",
     "text": [
      "Created results/by_layer_20250911_112921/by_layer/layer_12/V5_alpha_p2_V5.npz with 1050 questions\n"
     ]
    },
    {
     "name": "stderr",
     "output_type": "stream",
     "text": [
      "Layer 13: 100%|██████████| 1050/1050 [00:01<00:00, 564.81it/s]\n"
     ]
    },
    {
     "name": "stdout",
     "output_type": "stream",
     "text": [
      "Created results/by_layer_20250911_112921/by_layer/layer_13/V5_alpha_p2_V5.npz with 1050 questions\n"
     ]
    },
    {
     "name": "stderr",
     "output_type": "stream",
     "text": [
      "Layer 14: 100%|██████████| 1050/1050 [00:01<00:00, 549.06it/s]\n"
     ]
    },
    {
     "name": "stdout",
     "output_type": "stream",
     "text": [
      "Created results/by_layer_20250911_112921/by_layer/layer_14/V5_alpha_p2_V5.npz with 1050 questions\n"
     ]
    },
    {
     "name": "stderr",
     "output_type": "stream",
     "text": [
      "Layer 15: 100%|██████████| 1050/1050 [00:01<00:00, 560.04it/s]\n"
     ]
    },
    {
     "name": "stdout",
     "output_type": "stream",
     "text": [
      "Created results/by_layer_20250911_112921/by_layer/layer_15/V5_alpha_p2_V5.npz with 1050 questions\n"
     ]
    },
    {
     "name": "stderr",
     "output_type": "stream",
     "text": [
      "Layer 16: 100%|██████████| 1050/1050 [00:02<00:00, 514.30it/s]\n"
     ]
    },
    {
     "name": "stdout",
     "output_type": "stream",
     "text": [
      "Created results/by_layer_20250911_112921/by_layer/layer_16/V5_alpha_p2_V5.npz with 1050 questions\n"
     ]
    },
    {
     "name": "stderr",
     "output_type": "stream",
     "text": [
      "Layer 17: 100%|██████████| 1050/1050 [00:02<00:00, 518.36it/s]\n"
     ]
    },
    {
     "name": "stdout",
     "output_type": "stream",
     "text": [
      "Created results/by_layer_20250911_112921/by_layer/layer_17/V5_alpha_p2_V5.npz with 1050 questions\n"
     ]
    },
    {
     "name": "stderr",
     "output_type": "stream",
     "text": [
      "Layer 18: 100%|██████████| 1050/1050 [00:01<00:00, 531.13it/s]\n"
     ]
    },
    {
     "name": "stdout",
     "output_type": "stream",
     "text": [
      "Created results/by_layer_20250911_112921/by_layer/layer_18/V5_alpha_p2_V5.npz with 1050 questions\n"
     ]
    },
    {
     "name": "stderr",
     "output_type": "stream",
     "text": [
      "Layer 19: 100%|██████████| 1050/1050 [00:01<00:00, 552.26it/s]\n"
     ]
    },
    {
     "name": "stdout",
     "output_type": "stream",
     "text": [
      "Created results/by_layer_20250911_112921/by_layer/layer_19/V5_alpha_p2_V5.npz with 1050 questions\n"
     ]
    },
    {
     "name": "stderr",
     "output_type": "stream",
     "text": [
      "Layer 20: 100%|██████████| 1050/1050 [00:02<00:00, 513.24it/s]\n"
     ]
    },
    {
     "name": "stdout",
     "output_type": "stream",
     "text": [
      "Created results/by_layer_20250911_112921/by_layer/layer_20/V5_alpha_p2_V5.npz with 1050 questions\n"
     ]
    },
    {
     "name": "stderr",
     "output_type": "stream",
     "text": [
      "Layer 21: 100%|██████████| 1050/1050 [00:01<00:00, 546.64it/s]\n"
     ]
    },
    {
     "name": "stdout",
     "output_type": "stream",
     "text": [
      "Created results/by_layer_20250911_112921/by_layer/layer_21/V5_alpha_p2_V5.npz with 1050 questions\n"
     ]
    },
    {
     "name": "stderr",
     "output_type": "stream",
     "text": [
      "Layer 22: 100%|██████████| 1050/1050 [00:01<00:00, 558.40it/s]\n"
     ]
    },
    {
     "name": "stdout",
     "output_type": "stream",
     "text": [
      "Created results/by_layer_20250911_112921/by_layer/layer_22/V5_alpha_p2_V5.npz with 1050 questions\n"
     ]
    },
    {
     "name": "stderr",
     "output_type": "stream",
     "text": [
      "Layer 23: 100%|██████████| 1050/1050 [00:01<00:00, 552.89it/s]\n"
     ]
    },
    {
     "name": "stdout",
     "output_type": "stream",
     "text": [
      "Created results/by_layer_20250911_112921/by_layer/layer_23/V5_alpha_p2_V5.npz with 1050 questions\n"
     ]
    },
    {
     "name": "stderr",
     "output_type": "stream",
     "text": [
      "Layer 24: 100%|██████████| 1050/1050 [00:01<00:00, 555.30it/s]\n"
     ]
    },
    {
     "name": "stdout",
     "output_type": "stream",
     "text": [
      "Created results/by_layer_20250911_112921/by_layer/layer_24/V5_alpha_p2_V5.npz with 1050 questions\n"
     ]
    },
    {
     "name": "stderr",
     "output_type": "stream",
     "text": [
      "Layer 25: 100%|██████████| 1050/1050 [00:03<00:00, 348.74it/s]\n"
     ]
    },
    {
     "name": "stdout",
     "output_type": "stream",
     "text": [
      "Created results/by_layer_20250911_112921/by_layer/layer_25/V5_alpha_p2_V5.npz with 1050 questions\n"
     ]
    },
    {
     "name": "stderr",
     "output_type": "stream",
     "text": [
      "Layer 26: 100%|██████████| 1050/1050 [00:01<00:00, 554.37it/s]\n"
     ]
    },
    {
     "name": "stdout",
     "output_type": "stream",
     "text": [
      "Created results/by_layer_20250911_112921/by_layer/layer_26/V5_alpha_p2_V5.npz with 1050 questions\n"
     ]
    },
    {
     "name": "stderr",
     "output_type": "stream",
     "text": [
      "Layer 27: 100%|██████████| 1050/1050 [00:01<00:00, 545.10it/s]\n"
     ]
    },
    {
     "name": "stdout",
     "output_type": "stream",
     "text": [
      "Created results/by_layer_20250911_112921/by_layer/layer_27/V5_alpha_p2_V5.npz with 1050 questions\n"
     ]
    },
    {
     "name": "stderr",
     "output_type": "stream",
     "text": [
      "Layer 28: 100%|██████████| 1050/1050 [00:01<00:00, 541.72it/s]\n"
     ]
    },
    {
     "name": "stdout",
     "output_type": "stream",
     "text": [
      "Created results/by_layer_20250911_112921/by_layer/layer_28/V5_alpha_p2_V5.npz with 1050 questions\n"
     ]
    },
    {
     "name": "stderr",
     "output_type": "stream",
     "text": [
      "Layer 29: 100%|██████████| 1050/1050 [00:01<00:00, 610.11it/s]\n"
     ]
    },
    {
     "name": "stdout",
     "output_type": "stream",
     "text": [
      "Created results/by_layer_20250911_112921/by_layer/layer_29/V5_alpha_p2_V5.npz with 1050 questions\n"
     ]
    },
    {
     "name": "stderr",
     "output_type": "stream",
     "text": [
      "Layer 30: 100%|██████████| 1050/1050 [00:01<00:00, 535.55it/s]\n"
     ]
    },
    {
     "name": "stdout",
     "output_type": "stream",
     "text": [
      "Created results/by_layer_20250911_112921/by_layer/layer_30/V5_alpha_p2_V5.npz with 1050 questions\n"
     ]
    },
    {
     "name": "stderr",
     "output_type": "stream",
     "text": [
      "Layer 31: 100%|██████████| 1050/1050 [00:01<00:00, 551.66it/s]\n"
     ]
    },
    {
     "name": "stdout",
     "output_type": "stream",
     "text": [
      "Created results/by_layer_20250911_112921/by_layer/layer_31/V5_alpha_p2_V5.npz with 1050 questions\n"
     ]
    },
    {
     "name": "stderr",
     "output_type": "stream",
     "text": [
      "Layer 32: 100%|██████████| 1050/1050 [00:02<00:00, 522.31it/s]\n"
     ]
    },
    {
     "name": "stdout",
     "output_type": "stream",
     "text": [
      "Created results/by_layer_20250911_112921/by_layer/layer_32/V5_alpha_p2_V5.npz with 1050 questions\n"
     ]
    },
    {
     "name": "stderr",
     "output_type": "stream",
     "text": [
      "Layer 33: 100%|██████████| 1050/1050 [00:02<00:00, 506.60it/s]\n"
     ]
    },
    {
     "name": "stdout",
     "output_type": "stream",
     "text": [
      "Created results/by_layer_20250911_112921/by_layer/layer_33/V5_alpha_p2_V5.npz with 1050 questions\n"
     ]
    },
    {
     "name": "stderr",
     "output_type": "stream",
     "text": [
      "Layer 34: 100%|██████████| 1050/1050 [00:03<00:00, 325.58it/s]\n"
     ]
    },
    {
     "name": "stdout",
     "output_type": "stream",
     "text": [
      "Created results/by_layer_20250911_112921/by_layer/layer_34/V5_alpha_p2_V5.npz with 1050 questions\n",
      "\n",
      "Processing experiment 5/60: results/comprehensive_experiments/run_20250911_062422/V4_num_p4\n",
      "Processing experiment: results/comprehensive_experiments/run_20250911_062422/V4_num_p4\n",
      "File: hidden_states_V4.npz, Layers: 35, Hidden dim: 2560\n"
     ]
    },
    {
     "name": "stderr",
     "output_type": "stream",
     "text": [
      "Layer 00: 100%|██████████| 1050/1050 [00:02<00:00, 407.03it/s]\n"
     ]
    },
    {
     "name": "stdout",
     "output_type": "stream",
     "text": [
      "Created results/by_layer_20250911_112921/by_layer/layer_00/V4_num_p4_V4.npz with 1050 questions\n"
     ]
    },
    {
     "name": "stderr",
     "output_type": "stream",
     "text": [
      "Layer 01: 100%|██████████| 1050/1050 [00:01<00:00, 569.46it/s]\n"
     ]
    },
    {
     "name": "stdout",
     "output_type": "stream",
     "text": [
      "Created results/by_layer_20250911_112921/by_layer/layer_01/V4_num_p4_V4.npz with 1050 questions\n"
     ]
    },
    {
     "name": "stderr",
     "output_type": "stream",
     "text": [
      "Layer 02: 100%|██████████| 1050/1050 [00:02<00:00, 512.64it/s]\n"
     ]
    },
    {
     "name": "stdout",
     "output_type": "stream",
     "text": [
      "Created results/by_layer_20250911_112921/by_layer/layer_02/V4_num_p4_V4.npz with 1050 questions\n"
     ]
    },
    {
     "name": "stderr",
     "output_type": "stream",
     "text": [
      "Layer 03: 100%|██████████| 1050/1050 [00:01<00:00, 541.37it/s]\n"
     ]
    },
    {
     "name": "stdout",
     "output_type": "stream",
     "text": [
      "Created results/by_layer_20250911_112921/by_layer/layer_03/V4_num_p4_V4.npz with 1050 questions\n"
     ]
    },
    {
     "name": "stderr",
     "output_type": "stream",
     "text": [
      "Layer 04: 100%|██████████| 1050/1050 [00:01<00:00, 525.60it/s]\n"
     ]
    },
    {
     "name": "stdout",
     "output_type": "stream",
     "text": [
      "Created results/by_layer_20250911_112921/by_layer/layer_04/V4_num_p4_V4.npz with 1050 questions\n"
     ]
    },
    {
     "name": "stderr",
     "output_type": "stream",
     "text": [
      "Layer 05: 100%|██████████| 1050/1050 [00:01<00:00, 541.20it/s]\n"
     ]
    },
    {
     "name": "stdout",
     "output_type": "stream",
     "text": [
      "Created results/by_layer_20250911_112921/by_layer/layer_05/V4_num_p4_V4.npz with 1050 questions\n"
     ]
    },
    {
     "name": "stderr",
     "output_type": "stream",
     "text": [
      "Layer 06: 100%|██████████| 1050/1050 [00:02<00:00, 518.57it/s]\n"
     ]
    },
    {
     "name": "stdout",
     "output_type": "stream",
     "text": [
      "Created results/by_layer_20250911_112921/by_layer/layer_06/V4_num_p4_V4.npz with 1050 questions\n"
     ]
    },
    {
     "name": "stderr",
     "output_type": "stream",
     "text": [
      "Layer 07: 100%|██████████| 1050/1050 [00:01<00:00, 532.95it/s]\n"
     ]
    },
    {
     "name": "stdout",
     "output_type": "stream",
     "text": [
      "Created results/by_layer_20250911_112921/by_layer/layer_07/V4_num_p4_V4.npz with 1050 questions\n"
     ]
    },
    {
     "name": "stderr",
     "output_type": "stream",
     "text": [
      "Layer 08: 100%|██████████| 1050/1050 [00:03<00:00, 331.57it/s]\n"
     ]
    },
    {
     "name": "stdout",
     "output_type": "stream",
     "text": [
      "Created results/by_layer_20250911_112921/by_layer/layer_08/V4_num_p4_V4.npz with 1050 questions\n"
     ]
    },
    {
     "name": "stderr",
     "output_type": "stream",
     "text": [
      "Layer 09: 100%|██████████| 1050/1050 [00:02<00:00, 520.85it/s]\n"
     ]
    },
    {
     "name": "stdout",
     "output_type": "stream",
     "text": [
      "Created results/by_layer_20250911_112921/by_layer/layer_09/V4_num_p4_V4.npz with 1050 questions\n"
     ]
    },
    {
     "name": "stderr",
     "output_type": "stream",
     "text": [
      "Layer 10: 100%|██████████| 1050/1050 [00:01<00:00, 556.39it/s]\n"
     ]
    },
    {
     "name": "stdout",
     "output_type": "stream",
     "text": [
      "Created results/by_layer_20250911_112921/by_layer/layer_10/V4_num_p4_V4.npz with 1050 questions\n"
     ]
    },
    {
     "name": "stderr",
     "output_type": "stream",
     "text": [
      "Layer 11: 100%|██████████| 1050/1050 [00:02<00:00, 522.41it/s]\n"
     ]
    },
    {
     "name": "stdout",
     "output_type": "stream",
     "text": [
      "Created results/by_layer_20250911_112921/by_layer/layer_11/V4_num_p4_V4.npz with 1050 questions\n"
     ]
    },
    {
     "name": "stderr",
     "output_type": "stream",
     "text": [
      "Layer 12: 100%|██████████| 1050/1050 [00:01<00:00, 545.85it/s]\n"
     ]
    },
    {
     "name": "stdout",
     "output_type": "stream",
     "text": [
      "Created results/by_layer_20250911_112921/by_layer/layer_12/V4_num_p4_V4.npz with 1050 questions\n"
     ]
    },
    {
     "name": "stderr",
     "output_type": "stream",
     "text": [
      "Layer 13: 100%|██████████| 1050/1050 [00:02<00:00, 516.41it/s]\n"
     ]
    },
    {
     "name": "stdout",
     "output_type": "stream",
     "text": [
      "Created results/by_layer_20250911_112921/by_layer/layer_13/V4_num_p4_V4.npz with 1050 questions\n"
     ]
    },
    {
     "name": "stderr",
     "output_type": "stream",
     "text": [
      "Layer 14: 100%|██████████| 1050/1050 [00:01<00:00, 562.36it/s]\n"
     ]
    },
    {
     "name": "stdout",
     "output_type": "stream",
     "text": [
      "Created results/by_layer_20250911_112921/by_layer/layer_14/V4_num_p4_V4.npz with 1050 questions\n"
     ]
    },
    {
     "name": "stderr",
     "output_type": "stream",
     "text": [
      "Layer 15: 100%|██████████| 1050/1050 [00:02<00:00, 475.10it/s]\n"
     ]
    },
    {
     "name": "stdout",
     "output_type": "stream",
     "text": [
      "Created results/by_layer_20250911_112921/by_layer/layer_15/V4_num_p4_V4.npz with 1050 questions\n"
     ]
    },
    {
     "name": "stderr",
     "output_type": "stream",
     "text": [
      "Layer 16: 100%|██████████| 1050/1050 [00:01<00:00, 534.16it/s]\n"
     ]
    },
    {
     "name": "stdout",
     "output_type": "stream",
     "text": [
      "Created results/by_layer_20250911_112921/by_layer/layer_16/V4_num_p4_V4.npz with 1050 questions\n"
     ]
    },
    {
     "name": "stderr",
     "output_type": "stream",
     "text": [
      "Layer 17: 100%|██████████| 1050/1050 [00:02<00:00, 509.87it/s]\n"
     ]
    },
    {
     "name": "stdout",
     "output_type": "stream",
     "text": [
      "Created results/by_layer_20250911_112921/by_layer/layer_17/V4_num_p4_V4.npz with 1050 questions\n"
     ]
    },
    {
     "name": "stderr",
     "output_type": "stream",
     "text": [
      "Layer 18: 100%|██████████| 1050/1050 [00:01<00:00, 536.20it/s]\n"
     ]
    },
    {
     "name": "stdout",
     "output_type": "stream",
     "text": [
      "Created results/by_layer_20250911_112921/by_layer/layer_18/V4_num_p4_V4.npz with 1050 questions\n"
     ]
    },
    {
     "name": "stderr",
     "output_type": "stream",
     "text": [
      "Layer 19: 100%|██████████| 1050/1050 [00:02<00:00, 497.04it/s]\n"
     ]
    },
    {
     "name": "stdout",
     "output_type": "stream",
     "text": [
      "Created results/by_layer_20250911_112921/by_layer/layer_19/V4_num_p4_V4.npz with 1050 questions\n"
     ]
    },
    {
     "name": "stderr",
     "output_type": "stream",
     "text": [
      "Layer 20: 100%|██████████| 1050/1050 [00:01<00:00, 530.97it/s]\n"
     ]
    },
    {
     "name": "stdout",
     "output_type": "stream",
     "text": [
      "Created results/by_layer_20250911_112921/by_layer/layer_20/V4_num_p4_V4.npz with 1050 questions\n"
     ]
    },
    {
     "name": "stderr",
     "output_type": "stream",
     "text": [
      "Layer 21: 100%|██████████| 1050/1050 [00:02<00:00, 505.19it/s]\n"
     ]
    },
    {
     "name": "stdout",
     "output_type": "stream",
     "text": [
      "Created results/by_layer_20250911_112921/by_layer/layer_21/V4_num_p4_V4.npz with 1050 questions\n"
     ]
    },
    {
     "name": "stderr",
     "output_type": "stream",
     "text": [
      "Layer 22: 100%|██████████| 1050/1050 [00:01<00:00, 565.92it/s]\n"
     ]
    },
    {
     "name": "stdout",
     "output_type": "stream",
     "text": [
      "Created results/by_layer_20250911_112921/by_layer/layer_22/V4_num_p4_V4.npz with 1050 questions\n"
     ]
    },
    {
     "name": "stderr",
     "output_type": "stream",
     "text": [
      "Layer 23: 100%|██████████| 1050/1050 [00:02<00:00, 503.57it/s]\n"
     ]
    },
    {
     "name": "stdout",
     "output_type": "stream",
     "text": [
      "Created results/by_layer_20250911_112921/by_layer/layer_23/V4_num_p4_V4.npz with 1050 questions\n"
     ]
    },
    {
     "name": "stderr",
     "output_type": "stream",
     "text": [
      "Layer 24: 100%|██████████| 1050/1050 [00:02<00:00, 516.56it/s]\n"
     ]
    },
    {
     "name": "stdout",
     "output_type": "stream",
     "text": [
      "Created results/by_layer_20250911_112921/by_layer/layer_24/V4_num_p4_V4.npz with 1050 questions\n"
     ]
    },
    {
     "name": "stderr",
     "output_type": "stream",
     "text": [
      "Layer 25: 100%|██████████| 1050/1050 [00:01<00:00, 525.76it/s]\n"
     ]
    },
    {
     "name": "stdout",
     "output_type": "stream",
     "text": [
      "Created results/by_layer_20250911_112921/by_layer/layer_25/V4_num_p4_V4.npz with 1050 questions\n"
     ]
    },
    {
     "name": "stderr",
     "output_type": "stream",
     "text": [
      "Layer 26: 100%|██████████| 1050/1050 [00:01<00:00, 551.62it/s]\n"
     ]
    },
    {
     "name": "stdout",
     "output_type": "stream",
     "text": [
      "Created results/by_layer_20250911_112921/by_layer/layer_26/V4_num_p4_V4.npz with 1050 questions\n"
     ]
    },
    {
     "name": "stderr",
     "output_type": "stream",
     "text": [
      "Layer 27: 100%|██████████| 1050/1050 [00:01<00:00, 530.85it/s]\n"
     ]
    },
    {
     "name": "stdout",
     "output_type": "stream",
     "text": [
      "Created results/by_layer_20250911_112921/by_layer/layer_27/V4_num_p4_V4.npz with 1050 questions\n"
     ]
    },
    {
     "name": "stderr",
     "output_type": "stream",
     "text": [
      "Layer 28: 100%|██████████| 1050/1050 [00:01<00:00, 564.89it/s]\n"
     ]
    },
    {
     "name": "stdout",
     "output_type": "stream",
     "text": [
      "Created results/by_layer_20250911_112921/by_layer/layer_28/V4_num_p4_V4.npz with 1050 questions\n"
     ]
    },
    {
     "name": "stderr",
     "output_type": "stream",
     "text": [
      "Layer 29: 100%|██████████| 1050/1050 [00:02<00:00, 516.57it/s]\n"
     ]
    },
    {
     "name": "stdout",
     "output_type": "stream",
     "text": [
      "Created results/by_layer_20250911_112921/by_layer/layer_29/V4_num_p4_V4.npz with 1050 questions\n"
     ]
    },
    {
     "name": "stderr",
     "output_type": "stream",
     "text": [
      "Layer 30: 100%|██████████| 1050/1050 [00:01<00:00, 581.96it/s]\n"
     ]
    },
    {
     "name": "stdout",
     "output_type": "stream",
     "text": [
      "Created results/by_layer_20250911_112921/by_layer/layer_30/V4_num_p4_V4.npz with 1050 questions\n"
     ]
    },
    {
     "name": "stderr",
     "output_type": "stream",
     "text": [
      "Layer 31: 100%|██████████| 1050/1050 [00:02<00:00, 489.33it/s]\n"
     ]
    },
    {
     "name": "stdout",
     "output_type": "stream",
     "text": [
      "Created results/by_layer_20250911_112921/by_layer/layer_31/V4_num_p4_V4.npz with 1050 questions\n"
     ]
    },
    {
     "name": "stderr",
     "output_type": "stream",
     "text": [
      "Layer 32: 100%|██████████| 1050/1050 [00:01<00:00, 540.55it/s]\n"
     ]
    },
    {
     "name": "stdout",
     "output_type": "stream",
     "text": [
      "Created results/by_layer_20250911_112921/by_layer/layer_32/V4_num_p4_V4.npz with 1050 questions\n"
     ]
    },
    {
     "name": "stderr",
     "output_type": "stream",
     "text": [
      "Layer 33: 100%|██████████| 1050/1050 [00:03<00:00, 333.50it/s]\n"
     ]
    },
    {
     "name": "stdout",
     "output_type": "stream",
     "text": [
      "Created results/by_layer_20250911_112921/by_layer/layer_33/V4_num_p4_V4.npz with 1050 questions\n"
     ]
    },
    {
     "name": "stderr",
     "output_type": "stream",
     "text": [
      "Layer 34: 100%|██████████| 1050/1050 [00:01<00:00, 532.54it/s]\n"
     ]
    },
    {
     "name": "stdout",
     "output_type": "stream",
     "text": [
      "Created results/by_layer_20250911_112921/by_layer/layer_34/V4_num_p4_V4.npz with 1050 questions\n",
      "\n",
      "Processing experiment 6/60: results/comprehensive_experiments/run_20250911_062422/V1_num_p2\n",
      "Processing experiment: results/comprehensive_experiments/run_20250911_062422/V1_num_p2\n",
      "File: hidden_states_V1.npz, Layers: 35, Hidden dim: 2560\n"
     ]
    },
    {
     "name": "stderr",
     "output_type": "stream",
     "text": [
      "Layer 00: 100%|██████████| 1050/1050 [00:02<00:00, 396.21it/s]\n"
     ]
    },
    {
     "name": "stdout",
     "output_type": "stream",
     "text": [
      "Created results/by_layer_20250911_112921/by_layer/layer_00/V1_num_p2_V1.npz with 1050 questions\n"
     ]
    },
    {
     "name": "stderr",
     "output_type": "stream",
     "text": [
      "Layer 01: 100%|██████████| 1050/1050 [00:01<00:00, 531.56it/s]\n"
     ]
    },
    {
     "name": "stdout",
     "output_type": "stream",
     "text": [
      "Created results/by_layer_20250911_112921/by_layer/layer_01/V1_num_p2_V1.npz with 1050 questions\n"
     ]
    },
    {
     "name": "stderr",
     "output_type": "stream",
     "text": [
      "Layer 02: 100%|██████████| 1050/1050 [00:01<00:00, 564.98it/s]\n"
     ]
    },
    {
     "name": "stdout",
     "output_type": "stream",
     "text": [
      "Created results/by_layer_20250911_112921/by_layer/layer_02/V1_num_p2_V1.npz with 1050 questions\n"
     ]
    },
    {
     "name": "stderr",
     "output_type": "stream",
     "text": [
      "Layer 03: 100%|██████████| 1050/1050 [00:02<00:00, 509.57it/s]\n"
     ]
    },
    {
     "name": "stdout",
     "output_type": "stream",
     "text": [
      "Created results/by_layer_20250911_112921/by_layer/layer_03/V1_num_p2_V1.npz with 1050 questions\n"
     ]
    },
    {
     "name": "stderr",
     "output_type": "stream",
     "text": [
      "Layer 04: 100%|██████████| 1050/1050 [00:01<00:00, 578.27it/s]\n"
     ]
    },
    {
     "name": "stdout",
     "output_type": "stream",
     "text": [
      "Created results/by_layer_20250911_112921/by_layer/layer_04/V1_num_p2_V1.npz with 1050 questions\n"
     ]
    },
    {
     "name": "stderr",
     "output_type": "stream",
     "text": [
      "Layer 05: 100%|██████████| 1050/1050 [00:01<00:00, 533.10it/s]\n"
     ]
    },
    {
     "name": "stdout",
     "output_type": "stream",
     "text": [
      "Created results/by_layer_20250911_112921/by_layer/layer_05/V1_num_p2_V1.npz with 1050 questions\n"
     ]
    },
    {
     "name": "stderr",
     "output_type": "stream",
     "text": [
      "Layer 06: 100%|██████████| 1050/1050 [00:01<00:00, 546.34it/s]\n"
     ]
    },
    {
     "name": "stdout",
     "output_type": "stream",
     "text": [
      "Created results/by_layer_20250911_112921/by_layer/layer_06/V1_num_p2_V1.npz with 1050 questions\n"
     ]
    },
    {
     "name": "stderr",
     "output_type": "stream",
     "text": [
      "Layer 07: 100%|██████████| 1050/1050 [00:01<00:00, 530.63it/s]\n"
     ]
    },
    {
     "name": "stdout",
     "output_type": "stream",
     "text": [
      "Created results/by_layer_20250911_112921/by_layer/layer_07/V1_num_p2_V1.npz with 1050 questions\n"
     ]
    },
    {
     "name": "stderr",
     "output_type": "stream",
     "text": [
      "Layer 08: 100%|██████████| 1050/1050 [00:02<00:00, 514.70it/s]\n"
     ]
    },
    {
     "name": "stdout",
     "output_type": "stream",
     "text": [
      "Created results/by_layer_20250911_112921/by_layer/layer_08/V1_num_p2_V1.npz with 1050 questions\n"
     ]
    },
    {
     "name": "stderr",
     "output_type": "stream",
     "text": [
      "Layer 09: 100%|██████████| 1050/1050 [00:01<00:00, 537.18it/s]\n"
     ]
    },
    {
     "name": "stdout",
     "output_type": "stream",
     "text": [
      "Created results/by_layer_20250911_112921/by_layer/layer_09/V1_num_p2_V1.npz with 1050 questions\n"
     ]
    },
    {
     "name": "stderr",
     "output_type": "stream",
     "text": [
      "Layer 10: 100%|██████████| 1050/1050 [00:01<00:00, 552.08it/s]\n"
     ]
    },
    {
     "name": "stdout",
     "output_type": "stream",
     "text": [
      "Created results/by_layer_20250911_112921/by_layer/layer_10/V1_num_p2_V1.npz with 1050 questions\n"
     ]
    },
    {
     "name": "stderr",
     "output_type": "stream",
     "text": [
      "Layer 11: 100%|██████████| 1050/1050 [00:01<00:00, 542.84it/s]\n"
     ]
    },
    {
     "name": "stdout",
     "output_type": "stream",
     "text": [
      "Created results/by_layer_20250911_112921/by_layer/layer_11/V1_num_p2_V1.npz with 1050 questions\n"
     ]
    },
    {
     "name": "stderr",
     "output_type": "stream",
     "text": [
      "Layer 12: 100%|██████████| 1050/1050 [00:01<00:00, 533.90it/s]\n"
     ]
    },
    {
     "name": "stdout",
     "output_type": "stream",
     "text": [
      "Created results/by_layer_20250911_112921/by_layer/layer_12/V1_num_p2_V1.npz with 1050 questions\n"
     ]
    },
    {
     "name": "stderr",
     "output_type": "stream",
     "text": [
      "Layer 13: 100%|██████████| 1050/1050 [00:01<00:00, 629.91it/s]\n"
     ]
    },
    {
     "name": "stdout",
     "output_type": "stream",
     "text": [
      "Created results/by_layer_20250911_112921/by_layer/layer_13/V1_num_p2_V1.npz with 1050 questions\n"
     ]
    },
    {
     "name": "stderr",
     "output_type": "stream",
     "text": [
      "Layer 14: 100%|██████████| 1050/1050 [00:01<00:00, 564.94it/s]\n"
     ]
    },
    {
     "name": "stdout",
     "output_type": "stream",
     "text": [
      "Created results/by_layer_20250911_112921/by_layer/layer_14/V1_num_p2_V1.npz with 1050 questions\n"
     ]
    },
    {
     "name": "stderr",
     "output_type": "stream",
     "text": [
      "Layer 15: 100%|██████████| 1050/1050 [00:01<00:00, 574.82it/s]\n"
     ]
    },
    {
     "name": "stdout",
     "output_type": "stream",
     "text": [
      "Created results/by_layer_20250911_112921/by_layer/layer_15/V1_num_p2_V1.npz with 1050 questions\n"
     ]
    },
    {
     "name": "stderr",
     "output_type": "stream",
     "text": [
      "Layer 16: 100%|██████████| 1050/1050 [00:01<00:00, 550.13it/s]\n"
     ]
    },
    {
     "name": "stdout",
     "output_type": "stream",
     "text": [
      "Created results/by_layer_20250911_112921/by_layer/layer_16/V1_num_p2_V1.npz with 1050 questions\n"
     ]
    },
    {
     "name": "stderr",
     "output_type": "stream",
     "text": [
      "Layer 17: 100%|██████████| 1050/1050 [00:01<00:00, 536.49it/s]\n"
     ]
    },
    {
     "name": "stdout",
     "output_type": "stream",
     "text": [
      "Created results/by_layer_20250911_112921/by_layer/layer_17/V1_num_p2_V1.npz with 1050 questions\n"
     ]
    },
    {
     "name": "stderr",
     "output_type": "stream",
     "text": [
      "Layer 18: 100%|██████████| 1050/1050 [00:01<00:00, 555.26it/s]\n"
     ]
    },
    {
     "name": "stdout",
     "output_type": "stream",
     "text": [
      "Created results/by_layer_20250911_112921/by_layer/layer_18/V1_num_p2_V1.npz with 1050 questions\n"
     ]
    },
    {
     "name": "stderr",
     "output_type": "stream",
     "text": [
      "Layer 19: 100%|██████████| 1050/1050 [00:01<00:00, 531.94it/s]\n"
     ]
    },
    {
     "name": "stdout",
     "output_type": "stream",
     "text": [
      "Created results/by_layer_20250911_112921/by_layer/layer_19/V1_num_p2_V1.npz with 1050 questions\n"
     ]
    },
    {
     "name": "stderr",
     "output_type": "stream",
     "text": [
      "Layer 20: 100%|██████████| 1050/1050 [00:01<00:00, 546.77it/s]\n"
     ]
    },
    {
     "name": "stdout",
     "output_type": "stream",
     "text": [
      "Created results/by_layer_20250911_112921/by_layer/layer_20/V1_num_p2_V1.npz with 1050 questions\n"
     ]
    },
    {
     "name": "stderr",
     "output_type": "stream",
     "text": [
      "Layer 21: 100%|██████████| 1050/1050 [00:01<00:00, 544.99it/s]\n"
     ]
    },
    {
     "name": "stdout",
     "output_type": "stream",
     "text": [
      "Created results/by_layer_20250911_112921/by_layer/layer_21/V1_num_p2_V1.npz with 1050 questions\n"
     ]
    },
    {
     "name": "stderr",
     "output_type": "stream",
     "text": [
      "Layer 22: 100%|██████████| 1050/1050 [00:01<00:00, 606.07it/s]\n"
     ]
    },
    {
     "name": "stdout",
     "output_type": "stream",
     "text": [
      "Created results/by_layer_20250911_112921/by_layer/layer_22/V1_num_p2_V1.npz with 1050 questions\n"
     ]
    },
    {
     "name": "stderr",
     "output_type": "stream",
     "text": [
      "Layer 23: 100%|██████████| 1050/1050 [00:01<00:00, 531.65it/s]\n"
     ]
    },
    {
     "name": "stdout",
     "output_type": "stream",
     "text": [
      "Created results/by_layer_20250911_112921/by_layer/layer_23/V1_num_p2_V1.npz with 1050 questions\n"
     ]
    },
    {
     "name": "stderr",
     "output_type": "stream",
     "text": [
      "Layer 24: 100%|██████████| 1050/1050 [00:01<00:00, 577.33it/s]\n"
     ]
    },
    {
     "name": "stdout",
     "output_type": "stream",
     "text": [
      "Created results/by_layer_20250911_112921/by_layer/layer_24/V1_num_p2_V1.npz with 1050 questions\n"
     ]
    },
    {
     "name": "stderr",
     "output_type": "stream",
     "text": [
      "Layer 25: 100%|██████████| 1050/1050 [00:02<00:00, 514.52it/s]\n"
     ]
    },
    {
     "name": "stdout",
     "output_type": "stream",
     "text": [
      "Created results/by_layer_20250911_112921/by_layer/layer_25/V1_num_p2_V1.npz with 1050 questions\n"
     ]
    },
    {
     "name": "stderr",
     "output_type": "stream",
     "text": [
      "Layer 26: 100%|██████████| 1050/1050 [00:01<00:00, 526.05it/s]\n"
     ]
    },
    {
     "name": "stdout",
     "output_type": "stream",
     "text": [
      "Created results/by_layer_20250911_112921/by_layer/layer_26/V1_num_p2_V1.npz with 1050 questions\n"
     ]
    },
    {
     "name": "stderr",
     "output_type": "stream",
     "text": [
      "Layer 27: 100%|██████████| 1050/1050 [00:02<00:00, 506.25it/s]\n"
     ]
    },
    {
     "name": "stdout",
     "output_type": "stream",
     "text": [
      "Created results/by_layer_20250911_112921/by_layer/layer_27/V1_num_p2_V1.npz with 1050 questions\n"
     ]
    },
    {
     "name": "stderr",
     "output_type": "stream",
     "text": [
      "Layer 28: 100%|██████████| 1050/1050 [00:01<00:00, 541.82it/s]\n"
     ]
    },
    {
     "name": "stdout",
     "output_type": "stream",
     "text": [
      "Created results/by_layer_20250911_112921/by_layer/layer_28/V1_num_p2_V1.npz with 1050 questions\n"
     ]
    },
    {
     "name": "stderr",
     "output_type": "stream",
     "text": [
      "Layer 29: 100%|██████████| 1050/1050 [00:01<00:00, 551.88it/s]\n"
     ]
    },
    {
     "name": "stdout",
     "output_type": "stream",
     "text": [
      "Created results/by_layer_20250911_112921/by_layer/layer_29/V1_num_p2_V1.npz with 1050 questions\n"
     ]
    },
    {
     "name": "stderr",
     "output_type": "stream",
     "text": [
      "Layer 30: 100%|██████████| 1050/1050 [00:02<00:00, 506.31it/s]\n"
     ]
    },
    {
     "name": "stdout",
     "output_type": "stream",
     "text": [
      "Created results/by_layer_20250911_112921/by_layer/layer_30/V1_num_p2_V1.npz with 1050 questions\n"
     ]
    },
    {
     "name": "stderr",
     "output_type": "stream",
     "text": [
      "Layer 31: 100%|██████████| 1050/1050 [00:01<00:00, 528.97it/s]\n"
     ]
    },
    {
     "name": "stdout",
     "output_type": "stream",
     "text": [
      "Created results/by_layer_20250911_112921/by_layer/layer_31/V1_num_p2_V1.npz with 1050 questions\n"
     ]
    },
    {
     "name": "stderr",
     "output_type": "stream",
     "text": [
      "Layer 32: 100%|██████████| 1050/1050 [00:02<00:00, 487.15it/s]\n"
     ]
    },
    {
     "name": "stdout",
     "output_type": "stream",
     "text": [
      "Created results/by_layer_20250911_112921/by_layer/layer_32/V1_num_p2_V1.npz with 1050 questions\n"
     ]
    },
    {
     "name": "stderr",
     "output_type": "stream",
     "text": [
      "Layer 33: 100%|██████████| 1050/1050 [00:03<00:00, 342.53it/s]\n"
     ]
    },
    {
     "name": "stdout",
     "output_type": "stream",
     "text": [
      "Created results/by_layer_20250911_112921/by_layer/layer_33/V1_num_p2_V1.npz with 1050 questions\n"
     ]
    },
    {
     "name": "stderr",
     "output_type": "stream",
     "text": [
      "Layer 34: 100%|██████████| 1050/1050 [00:02<00:00, 513.56it/s]\n"
     ]
    },
    {
     "name": "stdout",
     "output_type": "stream",
     "text": [
      "Created results/by_layer_20250911_112921/by_layer/layer_34/V1_num_p2_V1.npz with 1050 questions\n",
      "\n",
      "Processing experiment 7/60: results/comprehensive_experiments/run_20250911_062422/V0_num_p1\n",
      "Processing experiment: results/comprehensive_experiments/run_20250911_062422/V0_num_p1\n",
      "File: hidden_states_V0.npz, Layers: 35, Hidden dim: 2560\n"
     ]
    },
    {
     "name": "stderr",
     "output_type": "stream",
     "text": [
      "Layer 00: 100%|██████████| 1050/1050 [00:02<00:00, 425.07it/s]\n"
     ]
    },
    {
     "name": "stdout",
     "output_type": "stream",
     "text": [
      "Created results/by_layer_20250911_112921/by_layer/layer_00/V0_num_p1_V0.npz with 1050 questions\n"
     ]
    },
    {
     "name": "stderr",
     "output_type": "stream",
     "text": [
      "Layer 01: 100%|██████████| 1050/1050 [00:02<00:00, 506.78it/s]\n"
     ]
    },
    {
     "name": "stdout",
     "output_type": "stream",
     "text": [
      "Created results/by_layer_20250911_112921/by_layer/layer_01/V0_num_p1_V0.npz with 1050 questions\n"
     ]
    },
    {
     "name": "stderr",
     "output_type": "stream",
     "text": [
      "Layer 02: 100%|██████████| 1050/1050 [00:01<00:00, 538.09it/s]\n"
     ]
    },
    {
     "name": "stdout",
     "output_type": "stream",
     "text": [
      "Created results/by_layer_20250911_112921/by_layer/layer_02/V0_num_p1_V0.npz with 1050 questions\n"
     ]
    },
    {
     "name": "stderr",
     "output_type": "stream",
     "text": [
      "Layer 03: 100%|██████████| 1050/1050 [00:02<00:00, 507.41it/s]\n"
     ]
    },
    {
     "name": "stdout",
     "output_type": "stream",
     "text": [
      "Created results/by_layer_20250911_112921/by_layer/layer_03/V0_num_p1_V0.npz with 1050 questions\n"
     ]
    },
    {
     "name": "stderr",
     "output_type": "stream",
     "text": [
      "Layer 04: 100%|██████████| 1050/1050 [00:01<00:00, 532.17it/s]\n"
     ]
    },
    {
     "name": "stdout",
     "output_type": "stream",
     "text": [
      "Created results/by_layer_20250911_112921/by_layer/layer_04/V0_num_p1_V0.npz with 1050 questions\n"
     ]
    },
    {
     "name": "stderr",
     "output_type": "stream",
     "text": [
      "Layer 05: 100%|██████████| 1050/1050 [00:01<00:00, 537.54it/s]\n"
     ]
    },
    {
     "name": "stdout",
     "output_type": "stream",
     "text": [
      "Created results/by_layer_20250911_112921/by_layer/layer_05/V0_num_p1_V0.npz with 1050 questions\n"
     ]
    },
    {
     "name": "stderr",
     "output_type": "stream",
     "text": [
      "Layer 06: 100%|██████████| 1050/1050 [00:01<00:00, 533.92it/s]\n"
     ]
    },
    {
     "name": "stdout",
     "output_type": "stream",
     "text": [
      "Created results/by_layer_20250911_112921/by_layer/layer_06/V0_num_p1_V0.npz with 1050 questions\n"
     ]
    },
    {
     "name": "stderr",
     "output_type": "stream",
     "text": [
      "Layer 07: 100%|██████████| 1050/1050 [00:02<00:00, 502.25it/s]\n"
     ]
    },
    {
     "name": "stdout",
     "output_type": "stream",
     "text": [
      "Created results/by_layer_20250911_112921/by_layer/layer_07/V0_num_p1_V0.npz with 1050 questions\n"
     ]
    },
    {
     "name": "stderr",
     "output_type": "stream",
     "text": [
      "Layer 08: 100%|██████████| 1050/1050 [00:02<00:00, 522.63it/s]\n"
     ]
    },
    {
     "name": "stdout",
     "output_type": "stream",
     "text": [
      "Created results/by_layer_20250911_112921/by_layer/layer_08/V0_num_p1_V0.npz with 1050 questions\n"
     ]
    },
    {
     "name": "stderr",
     "output_type": "stream",
     "text": [
      "Layer 09: 100%|██████████| 1050/1050 [00:01<00:00, 567.14it/s]\n"
     ]
    },
    {
     "name": "stdout",
     "output_type": "stream",
     "text": [
      "Created results/by_layer_20250911_112921/by_layer/layer_09/V0_num_p1_V0.npz with 1050 questions\n"
     ]
    },
    {
     "name": "stderr",
     "output_type": "stream",
     "text": [
      "Layer 10: 100%|██████████| 1050/1050 [00:01<00:00, 525.01it/s]\n"
     ]
    },
    {
     "name": "stdout",
     "output_type": "stream",
     "text": [
      "Created results/by_layer_20250911_112921/by_layer/layer_10/V0_num_p1_V0.npz with 1050 questions\n"
     ]
    },
    {
     "name": "stderr",
     "output_type": "stream",
     "text": [
      "Layer 11: 100%|██████████| 1050/1050 [00:01<00:00, 554.29it/s]\n"
     ]
    },
    {
     "name": "stdout",
     "output_type": "stream",
     "text": [
      "Created results/by_layer_20250911_112921/by_layer/layer_11/V0_num_p1_V0.npz with 1050 questions\n"
     ]
    },
    {
     "name": "stderr",
     "output_type": "stream",
     "text": [
      "Layer 12: 100%|██████████| 1050/1050 [00:02<00:00, 516.62it/s]\n"
     ]
    },
    {
     "name": "stdout",
     "output_type": "stream",
     "text": [
      "Created results/by_layer_20250911_112921/by_layer/layer_12/V0_num_p1_V0.npz with 1050 questions\n"
     ]
    },
    {
     "name": "stderr",
     "output_type": "stream",
     "text": [
      "Layer 13: 100%|██████████| 1050/1050 [00:01<00:00, 536.15it/s]\n"
     ]
    },
    {
     "name": "stdout",
     "output_type": "stream",
     "text": [
      "Created results/by_layer_20250911_112921/by_layer/layer_13/V0_num_p1_V0.npz with 1050 questions\n"
     ]
    },
    {
     "name": "stderr",
     "output_type": "stream",
     "text": [
      "Layer 14: 100%|██████████| 1050/1050 [00:02<00:00, 523.83it/s]\n"
     ]
    },
    {
     "name": "stdout",
     "output_type": "stream",
     "text": [
      "Created results/by_layer_20250911_112921/by_layer/layer_14/V0_num_p1_V0.npz with 1050 questions\n"
     ]
    },
    {
     "name": "stderr",
     "output_type": "stream",
     "text": [
      "Layer 15: 100%|██████████| 1050/1050 [00:02<00:00, 400.17it/s]\n"
     ]
    },
    {
     "name": "stdout",
     "output_type": "stream",
     "text": [
      "Created results/by_layer_20250911_112921/by_layer/layer_15/V0_num_p1_V0.npz with 1050 questions\n"
     ]
    },
    {
     "name": "stderr",
     "output_type": "stream",
     "text": [
      "Layer 16: 100%|██████████| 1050/1050 [00:02<00:00, 521.00it/s]\n"
     ]
    },
    {
     "name": "stdout",
     "output_type": "stream",
     "text": [
      "Created results/by_layer_20250911_112921/by_layer/layer_16/V0_num_p1_V0.npz with 1050 questions\n"
     ]
    },
    {
     "name": "stderr",
     "output_type": "stream",
     "text": [
      "Layer 17: 100%|██████████| 1050/1050 [00:02<00:00, 522.96it/s]\n"
     ]
    },
    {
     "name": "stdout",
     "output_type": "stream",
     "text": [
      "Created results/by_layer_20250911_112921/by_layer/layer_17/V0_num_p1_V0.npz with 1050 questions\n"
     ]
    },
    {
     "name": "stderr",
     "output_type": "stream",
     "text": [
      "Layer 18: 100%|██████████| 1050/1050 [00:02<00:00, 509.93it/s]\n"
     ]
    },
    {
     "name": "stdout",
     "output_type": "stream",
     "text": [
      "Created results/by_layer_20250911_112921/by_layer/layer_18/V0_num_p1_V0.npz with 1050 questions\n"
     ]
    },
    {
     "name": "stderr",
     "output_type": "stream",
     "text": [
      "Layer 19: 100%|██████████| 1050/1050 [00:02<00:00, 524.35it/s]\n"
     ]
    },
    {
     "name": "stdout",
     "output_type": "stream",
     "text": [
      "Created results/by_layer_20250911_112921/by_layer/layer_19/V0_num_p1_V0.npz with 1050 questions\n"
     ]
    },
    {
     "name": "stderr",
     "output_type": "stream",
     "text": [
      "Layer 20: 100%|██████████| 1050/1050 [00:01<00:00, 539.69it/s]\n"
     ]
    },
    {
     "name": "stdout",
     "output_type": "stream",
     "text": [
      "Created results/by_layer_20250911_112921/by_layer/layer_20/V0_num_p1_V0.npz with 1050 questions\n"
     ]
    },
    {
     "name": "stderr",
     "output_type": "stream",
     "text": [
      "Layer 21: 100%|██████████| 1050/1050 [00:01<00:00, 590.35it/s]\n"
     ]
    },
    {
     "name": "stdout",
     "output_type": "stream",
     "text": [
      "Created results/by_layer_20250911_112921/by_layer/layer_21/V0_num_p1_V0.npz with 1050 questions\n"
     ]
    },
    {
     "name": "stderr",
     "output_type": "stream",
     "text": [
      "Layer 22: 100%|██████████| 1050/1050 [00:01<00:00, 568.85it/s]\n"
     ]
    },
    {
     "name": "stdout",
     "output_type": "stream",
     "text": [
      "Created results/by_layer_20250911_112921/by_layer/layer_22/V0_num_p1_V0.npz with 1050 questions\n"
     ]
    },
    {
     "name": "stderr",
     "output_type": "stream",
     "text": [
      "Layer 23: 100%|██████████| 1050/1050 [00:01<00:00, 533.20it/s]\n"
     ]
    },
    {
     "name": "stdout",
     "output_type": "stream",
     "text": [
      "Created results/by_layer_20250911_112921/by_layer/layer_23/V0_num_p1_V0.npz with 1050 questions\n"
     ]
    },
    {
     "name": "stderr",
     "output_type": "stream",
     "text": [
      "Layer 24: 100%|██████████| 1050/1050 [00:02<00:00, 359.13it/s]\n"
     ]
    },
    {
     "name": "stdout",
     "output_type": "stream",
     "text": [
      "Created results/by_layer_20250911_112921/by_layer/layer_24/V0_num_p1_V0.npz with 1050 questions\n"
     ]
    },
    {
     "name": "stderr",
     "output_type": "stream",
     "text": [
      "Layer 25: 100%|██████████| 1050/1050 [00:01<00:00, 537.18it/s]\n"
     ]
    },
    {
     "name": "stdout",
     "output_type": "stream",
     "text": [
      "Created results/by_layer_20250911_112921/by_layer/layer_25/V0_num_p1_V0.npz with 1050 questions\n"
     ]
    },
    {
     "name": "stderr",
     "output_type": "stream",
     "text": [
      "Layer 26: 100%|██████████| 1050/1050 [00:01<00:00, 526.37it/s]\n"
     ]
    },
    {
     "name": "stdout",
     "output_type": "stream",
     "text": [
      "Created results/by_layer_20250911_112921/by_layer/layer_26/V0_num_p1_V0.npz with 1050 questions\n"
     ]
    },
    {
     "name": "stderr",
     "output_type": "stream",
     "text": [
      "Layer 27: 100%|██████████| 1050/1050 [00:01<00:00, 560.09it/s]\n"
     ]
    },
    {
     "name": "stdout",
     "output_type": "stream",
     "text": [
      "Created results/by_layer_20250911_112921/by_layer/layer_27/V0_num_p1_V0.npz with 1050 questions\n"
     ]
    },
    {
     "name": "stderr",
     "output_type": "stream",
     "text": [
      "Layer 28: 100%|██████████| 1050/1050 [00:01<00:00, 535.91it/s]\n"
     ]
    },
    {
     "name": "stdout",
     "output_type": "stream",
     "text": [
      "Created results/by_layer_20250911_112921/by_layer/layer_28/V0_num_p1_V0.npz with 1050 questions\n"
     ]
    },
    {
     "name": "stderr",
     "output_type": "stream",
     "text": [
      "Layer 29: 100%|██████████| 1050/1050 [00:01<00:00, 531.61it/s]\n"
     ]
    },
    {
     "name": "stdout",
     "output_type": "stream",
     "text": [
      "Created results/by_layer_20250911_112921/by_layer/layer_29/V0_num_p1_V0.npz with 1050 questions\n"
     ]
    },
    {
     "name": "stderr",
     "output_type": "stream",
     "text": [
      "Layer 30: 100%|██████████| 1050/1050 [00:02<00:00, 512.54it/s]\n"
     ]
    },
    {
     "name": "stdout",
     "output_type": "stream",
     "text": [
      "Created results/by_layer_20250911_112921/by_layer/layer_30/V0_num_p1_V0.npz with 1050 questions\n"
     ]
    },
    {
     "name": "stderr",
     "output_type": "stream",
     "text": [
      "Layer 31: 100%|██████████| 1050/1050 [00:01<00:00, 539.77it/s]\n"
     ]
    },
    {
     "name": "stdout",
     "output_type": "stream",
     "text": [
      "Created results/by_layer_20250911_112921/by_layer/layer_31/V0_num_p1_V0.npz with 1050 questions\n"
     ]
    },
    {
     "name": "stderr",
     "output_type": "stream",
     "text": [
      "Layer 32: 100%|██████████| 1050/1050 [00:01<00:00, 532.56it/s]\n"
     ]
    },
    {
     "name": "stdout",
     "output_type": "stream",
     "text": [
      "Created results/by_layer_20250911_112921/by_layer/layer_32/V0_num_p1_V0.npz with 1050 questions\n"
     ]
    },
    {
     "name": "stderr",
     "output_type": "stream",
     "text": [
      "Layer 33: 100%|██████████| 1050/1050 [00:01<00:00, 547.81it/s]\n"
     ]
    },
    {
     "name": "stdout",
     "output_type": "stream",
     "text": [
      "Created results/by_layer_20250911_112921/by_layer/layer_33/V0_num_p1_V0.npz with 1050 questions\n"
     ]
    },
    {
     "name": "stderr",
     "output_type": "stream",
     "text": [
      "Layer 34: 100%|██████████| 1050/1050 [00:02<00:00, 517.22it/s]\n"
     ]
    },
    {
     "name": "stdout",
     "output_type": "stream",
     "text": [
      "Created results/by_layer_20250911_112921/by_layer/layer_34/V0_num_p1_V0.npz with 1050 questions\n",
      "\n",
      "Processing experiment 8/60: results/comprehensive_experiments/run_20250911_062422/V0_alpha_p4\n",
      "Processing experiment: results/comprehensive_experiments/run_20250911_062422/V0_alpha_p4\n",
      "File: hidden_states_V0.npz, Layers: 35, Hidden dim: 2560\n"
     ]
    },
    {
     "name": "stderr",
     "output_type": "stream",
     "text": [
      "Layer 00: 100%|██████████| 1050/1050 [00:02<00:00, 375.15it/s]\n"
     ]
    },
    {
     "name": "stdout",
     "output_type": "stream",
     "text": [
      "Created results/by_layer_20250911_112921/by_layer/layer_00/V0_alpha_p4_V0.npz with 1050 questions\n"
     ]
    },
    {
     "name": "stderr",
     "output_type": "stream",
     "text": [
      "Layer 01: 100%|██████████| 1050/1050 [00:01<00:00, 538.47it/s]\n"
     ]
    },
    {
     "name": "stdout",
     "output_type": "stream",
     "text": [
      "Created results/by_layer_20250911_112921/by_layer/layer_01/V0_alpha_p4_V0.npz with 1050 questions\n"
     ]
    },
    {
     "name": "stderr",
     "output_type": "stream",
     "text": [
      "Layer 02: 100%|██████████| 1050/1050 [00:01<00:00, 528.34it/s]\n"
     ]
    },
    {
     "name": "stdout",
     "output_type": "stream",
     "text": [
      "Created results/by_layer_20250911_112921/by_layer/layer_02/V0_alpha_p4_V0.npz with 1050 questions\n"
     ]
    },
    {
     "name": "stderr",
     "output_type": "stream",
     "text": [
      "Layer 03: 100%|██████████| 1050/1050 [00:02<00:00, 488.22it/s]\n"
     ]
    },
    {
     "name": "stdout",
     "output_type": "stream",
     "text": [
      "Created results/by_layer_20250911_112921/by_layer/layer_03/V0_alpha_p4_V0.npz with 1050 questions\n"
     ]
    },
    {
     "name": "stderr",
     "output_type": "stream",
     "text": [
      "Layer 04: 100%|██████████| 1050/1050 [00:02<00:00, 483.14it/s]\n"
     ]
    },
    {
     "name": "stdout",
     "output_type": "stream",
     "text": [
      "Created results/by_layer_20250911_112921/by_layer/layer_04/V0_alpha_p4_V0.npz with 1050 questions\n"
     ]
    },
    {
     "name": "stderr",
     "output_type": "stream",
     "text": [
      "Layer 05: 100%|██████████| 1050/1050 [00:02<00:00, 503.92it/s]\n"
     ]
    },
    {
     "name": "stdout",
     "output_type": "stream",
     "text": [
      "Created results/by_layer_20250911_112921/by_layer/layer_05/V0_alpha_p4_V0.npz with 1050 questions\n"
     ]
    },
    {
     "name": "stderr",
     "output_type": "stream",
     "text": [
      "Layer 06: 100%|██████████| 1050/1050 [00:02<00:00, 509.49it/s]\n"
     ]
    },
    {
     "name": "stdout",
     "output_type": "stream",
     "text": [
      "Created results/by_layer_20250911_112921/by_layer/layer_06/V0_alpha_p4_V0.npz with 1050 questions\n"
     ]
    },
    {
     "name": "stderr",
     "output_type": "stream",
     "text": [
      "Layer 07: 100%|██████████| 1050/1050 [00:01<00:00, 542.42it/s]\n"
     ]
    },
    {
     "name": "stdout",
     "output_type": "stream",
     "text": [
      "Created results/by_layer_20250911_112921/by_layer/layer_07/V0_alpha_p4_V0.npz with 1050 questions\n"
     ]
    },
    {
     "name": "stderr",
     "output_type": "stream",
     "text": [
      "Layer 08: 100%|██████████| 1050/1050 [00:01<00:00, 574.64it/s]\n"
     ]
    },
    {
     "name": "stdout",
     "output_type": "stream",
     "text": [
      "Created results/by_layer_20250911_112921/by_layer/layer_08/V0_alpha_p4_V0.npz with 1050 questions\n"
     ]
    },
    {
     "name": "stderr",
     "output_type": "stream",
     "text": [
      "Layer 09: 100%|██████████| 1050/1050 [00:01<00:00, 547.62it/s]\n"
     ]
    },
    {
     "name": "stdout",
     "output_type": "stream",
     "text": [
      "Created results/by_layer_20250911_112921/by_layer/layer_09/V0_alpha_p4_V0.npz with 1050 questions\n"
     ]
    },
    {
     "name": "stderr",
     "output_type": "stream",
     "text": [
      "Layer 10: 100%|██████████| 1050/1050 [00:01<00:00, 620.89it/s]\n"
     ]
    },
    {
     "name": "stdout",
     "output_type": "stream",
     "text": [
      "Created results/by_layer_20250911_112921/by_layer/layer_10/V0_alpha_p4_V0.npz with 1050 questions\n"
     ]
    },
    {
     "name": "stderr",
     "output_type": "stream",
     "text": [
      "Layer 11: 100%|██████████| 1050/1050 [00:01<00:00, 617.73it/s]\n"
     ]
    },
    {
     "name": "stdout",
     "output_type": "stream",
     "text": [
      "Created results/by_layer_20250911_112921/by_layer/layer_11/V0_alpha_p4_V0.npz with 1050 questions\n"
     ]
    },
    {
     "name": "stderr",
     "output_type": "stream",
     "text": [
      "Layer 12: 100%|██████████| 1050/1050 [00:01<00:00, 600.30it/s]\n"
     ]
    },
    {
     "name": "stdout",
     "output_type": "stream",
     "text": [
      "Created results/by_layer_20250911_112921/by_layer/layer_12/V0_alpha_p4_V0.npz with 1050 questions\n"
     ]
    },
    {
     "name": "stderr",
     "output_type": "stream",
     "text": [
      "Layer 13: 100%|██████████| 1050/1050 [00:01<00:00, 633.01it/s]\n"
     ]
    },
    {
     "name": "stdout",
     "output_type": "stream",
     "text": [
      "Created results/by_layer_20250911_112921/by_layer/layer_13/V0_alpha_p4_V0.npz with 1050 questions\n"
     ]
    },
    {
     "name": "stderr",
     "output_type": "stream",
     "text": [
      "Layer 14: 100%|██████████| 1050/1050 [00:01<00:00, 594.51it/s]\n"
     ]
    },
    {
     "name": "stdout",
     "output_type": "stream",
     "text": [
      "Created results/by_layer_20250911_112921/by_layer/layer_14/V0_alpha_p4_V0.npz with 1050 questions\n"
     ]
    },
    {
     "name": "stderr",
     "output_type": "stream",
     "text": [
      "Layer 15: 100%|██████████| 1050/1050 [00:01<00:00, 629.75it/s]\n"
     ]
    },
    {
     "name": "stdout",
     "output_type": "stream",
     "text": [
      "Created results/by_layer_20250911_112921/by_layer/layer_15/V0_alpha_p4_V0.npz with 1050 questions\n"
     ]
    },
    {
     "name": "stderr",
     "output_type": "stream",
     "text": [
      "Layer 16: 100%|██████████| 1050/1050 [00:01<00:00, 608.57it/s]\n"
     ]
    },
    {
     "name": "stdout",
     "output_type": "stream",
     "text": [
      "Created results/by_layer_20250911_112921/by_layer/layer_16/V0_alpha_p4_V0.npz with 1050 questions\n"
     ]
    },
    {
     "name": "stderr",
     "output_type": "stream",
     "text": [
      "Layer 17: 100%|██████████| 1050/1050 [00:03<00:00, 324.05it/s]\n"
     ]
    },
    {
     "name": "stdout",
     "output_type": "stream",
     "text": [
      "Created results/by_layer_20250911_112921/by_layer/layer_17/V0_alpha_p4_V0.npz with 1050 questions\n"
     ]
    },
    {
     "name": "stderr",
     "output_type": "stream",
     "text": [
      "Layer 18: 100%|██████████| 1050/1050 [00:01<00:00, 531.23it/s]\n"
     ]
    },
    {
     "name": "stdout",
     "output_type": "stream",
     "text": [
      "Created results/by_layer_20250911_112921/by_layer/layer_18/V0_alpha_p4_V0.npz with 1050 questions\n"
     ]
    },
    {
     "name": "stderr",
     "output_type": "stream",
     "text": [
      "Layer 19: 100%|██████████| 1050/1050 [00:01<00:00, 568.74it/s]\n"
     ]
    },
    {
     "name": "stdout",
     "output_type": "stream",
     "text": [
      "Created results/by_layer_20250911_112921/by_layer/layer_19/V0_alpha_p4_V0.npz with 1050 questions\n"
     ]
    },
    {
     "name": "stderr",
     "output_type": "stream",
     "text": [
      "Layer 20: 100%|██████████| 1050/1050 [00:01<00:00, 647.49it/s]\n"
     ]
    },
    {
     "name": "stdout",
     "output_type": "stream",
     "text": [
      "Created results/by_layer_20250911_112921/by_layer/layer_20/V0_alpha_p4_V0.npz with 1050 questions\n"
     ]
    },
    {
     "name": "stderr",
     "output_type": "stream",
     "text": [
      "Layer 21: 100%|██████████| 1050/1050 [00:01<00:00, 606.44it/s]\n"
     ]
    },
    {
     "name": "stdout",
     "output_type": "stream",
     "text": [
      "Created results/by_layer_20250911_112921/by_layer/layer_21/V0_alpha_p4_V0.npz with 1050 questions\n"
     ]
    },
    {
     "name": "stderr",
     "output_type": "stream",
     "text": [
      "Layer 22: 100%|██████████| 1050/1050 [00:01<00:00, 591.75it/s]\n"
     ]
    },
    {
     "name": "stdout",
     "output_type": "stream",
     "text": [
      "Created results/by_layer_20250911_112921/by_layer/layer_22/V0_alpha_p4_V0.npz with 1050 questions\n"
     ]
    },
    {
     "name": "stderr",
     "output_type": "stream",
     "text": [
      "Layer 23: 100%|██████████| 1050/1050 [00:01<00:00, 530.91it/s]\n"
     ]
    },
    {
     "name": "stdout",
     "output_type": "stream",
     "text": [
      "Created results/by_layer_20250911_112921/by_layer/layer_23/V0_alpha_p4_V0.npz with 1050 questions\n"
     ]
    },
    {
     "name": "stderr",
     "output_type": "stream",
     "text": [
      "Layer 24: 100%|██████████| 1050/1050 [00:01<00:00, 588.15it/s]\n"
     ]
    },
    {
     "name": "stdout",
     "output_type": "stream",
     "text": [
      "Created results/by_layer_20250911_112921/by_layer/layer_24/V0_alpha_p4_V0.npz with 1050 questions\n"
     ]
    },
    {
     "name": "stderr",
     "output_type": "stream",
     "text": [
      "Layer 25: 100%|██████████| 1050/1050 [00:01<00:00, 569.92it/s]\n"
     ]
    },
    {
     "name": "stdout",
     "output_type": "stream",
     "text": [
      "Created results/by_layer_20250911_112921/by_layer/layer_25/V0_alpha_p4_V0.npz with 1050 questions\n"
     ]
    },
    {
     "name": "stderr",
     "output_type": "stream",
     "text": [
      "Layer 26: 100%|██████████| 1050/1050 [00:03<00:00, 332.71it/s]\n"
     ]
    },
    {
     "name": "stdout",
     "output_type": "stream",
     "text": [
      "Created results/by_layer_20250911_112921/by_layer/layer_26/V0_alpha_p4_V0.npz with 1050 questions\n"
     ]
    },
    {
     "name": "stderr",
     "output_type": "stream",
     "text": [
      "Layer 27: 100%|██████████| 1050/1050 [00:01<00:00, 564.66it/s]\n"
     ]
    },
    {
     "name": "stdout",
     "output_type": "stream",
     "text": [
      "Created results/by_layer_20250911_112921/by_layer/layer_27/V0_alpha_p4_V0.npz with 1050 questions\n"
     ]
    },
    {
     "name": "stderr",
     "output_type": "stream",
     "text": [
      "Layer 28: 100%|██████████| 1050/1050 [00:01<00:00, 572.85it/s]\n"
     ]
    },
    {
     "name": "stdout",
     "output_type": "stream",
     "text": [
      "Created results/by_layer_20250911_112921/by_layer/layer_28/V0_alpha_p4_V0.npz with 1050 questions\n"
     ]
    },
    {
     "name": "stderr",
     "output_type": "stream",
     "text": [
      "Layer 29: 100%|██████████| 1050/1050 [00:01<00:00, 625.64it/s]\n"
     ]
    },
    {
     "name": "stdout",
     "output_type": "stream",
     "text": [
      "Created results/by_layer_20250911_112921/by_layer/layer_29/V0_alpha_p4_V0.npz with 1050 questions\n"
     ]
    },
    {
     "name": "stderr",
     "output_type": "stream",
     "text": [
      "Layer 30: 100%|██████████| 1050/1050 [00:01<00:00, 618.63it/s]\n"
     ]
    },
    {
     "name": "stdout",
     "output_type": "stream",
     "text": [
      "Created results/by_layer_20250911_112921/by_layer/layer_30/V0_alpha_p4_V0.npz with 1050 questions\n"
     ]
    },
    {
     "name": "stderr",
     "output_type": "stream",
     "text": [
      "Layer 31: 100%|██████████| 1050/1050 [00:01<00:00, 605.14it/s]\n"
     ]
    },
    {
     "name": "stdout",
     "output_type": "stream",
     "text": [
      "Created results/by_layer_20250911_112921/by_layer/layer_31/V0_alpha_p4_V0.npz with 1050 questions\n"
     ]
    },
    {
     "name": "stderr",
     "output_type": "stream",
     "text": [
      "Layer 32: 100%|██████████| 1050/1050 [00:01<00:00, 597.39it/s]\n"
     ]
    },
    {
     "name": "stdout",
     "output_type": "stream",
     "text": [
      "Created results/by_layer_20250911_112921/by_layer/layer_32/V0_alpha_p4_V0.npz with 1050 questions\n"
     ]
    },
    {
     "name": "stderr",
     "output_type": "stream",
     "text": [
      "Layer 33: 100%|██████████| 1050/1050 [00:01<00:00, 527.67it/s]\n"
     ]
    },
    {
     "name": "stdout",
     "output_type": "stream",
     "text": [
      "Created results/by_layer_20250911_112921/by_layer/layer_33/V0_alpha_p4_V0.npz with 1050 questions\n"
     ]
    },
    {
     "name": "stderr",
     "output_type": "stream",
     "text": [
      "Layer 34: 100%|██████████| 1050/1050 [00:01<00:00, 546.44it/s]\n"
     ]
    },
    {
     "name": "stdout",
     "output_type": "stream",
     "text": [
      "Created results/by_layer_20250911_112921/by_layer/layer_34/V0_alpha_p4_V0.npz with 1050 questions\n",
      "\n",
      "Processing experiment 9/60: results/comprehensive_experiments/run_20250911_062422/V3_num_p4\n",
      "Processing experiment: results/comprehensive_experiments/run_20250911_062422/V3_num_p4\n",
      "File: hidden_states_V3.npz, Layers: 35, Hidden dim: 2560\n"
     ]
    },
    {
     "name": "stderr",
     "output_type": "stream",
     "text": [
      "Layer 00: 100%|██████████| 1050/1050 [00:03<00:00, 284.81it/s]\n"
     ]
    },
    {
     "name": "stdout",
     "output_type": "stream",
     "text": [
      "Created results/by_layer_20250911_112921/by_layer/layer_00/V3_num_p4_V3.npz with 1050 questions\n"
     ]
    },
    {
     "name": "stderr",
     "output_type": "stream",
     "text": [
      "Layer 01: 100%|██████████| 1050/1050 [00:02<00:00, 509.92it/s]\n"
     ]
    },
    {
     "name": "stdout",
     "output_type": "stream",
     "text": [
      "Created results/by_layer_20250911_112921/by_layer/layer_01/V3_num_p4_V3.npz with 1050 questions\n"
     ]
    },
    {
     "name": "stderr",
     "output_type": "stream",
     "text": [
      "Layer 02: 100%|██████████| 1050/1050 [00:02<00:00, 524.51it/s]\n"
     ]
    },
    {
     "name": "stdout",
     "output_type": "stream",
     "text": [
      "Created results/by_layer_20250911_112921/by_layer/layer_02/V3_num_p4_V3.npz with 1050 questions\n"
     ]
    },
    {
     "name": "stderr",
     "output_type": "stream",
     "text": [
      "Layer 03: 100%|██████████| 1050/1050 [00:01<00:00, 563.63it/s]\n"
     ]
    },
    {
     "name": "stdout",
     "output_type": "stream",
     "text": [
      "Created results/by_layer_20250911_112921/by_layer/layer_03/V3_num_p4_V3.npz with 1050 questions\n"
     ]
    },
    {
     "name": "stderr",
     "output_type": "stream",
     "text": [
      "Layer 04: 100%|██████████| 1050/1050 [00:01<00:00, 551.69it/s]\n"
     ]
    },
    {
     "name": "stdout",
     "output_type": "stream",
     "text": [
      "Created results/by_layer_20250911_112921/by_layer/layer_04/V3_num_p4_V3.npz with 1050 questions\n"
     ]
    },
    {
     "name": "stderr",
     "output_type": "stream",
     "text": [
      "Layer 05: 100%|██████████| 1050/1050 [00:01<00:00, 547.77it/s]\n"
     ]
    },
    {
     "name": "stdout",
     "output_type": "stream",
     "text": [
      "Created results/by_layer_20250911_112921/by_layer/layer_05/V3_num_p4_V3.npz with 1050 questions\n"
     ]
    },
    {
     "name": "stderr",
     "output_type": "stream",
     "text": [
      "Layer 06: 100%|██████████| 1050/1050 [00:01<00:00, 532.52it/s]\n"
     ]
    },
    {
     "name": "stdout",
     "output_type": "stream",
     "text": [
      "Created results/by_layer_20250911_112921/by_layer/layer_06/V3_num_p4_V3.npz with 1050 questions\n"
     ]
    },
    {
     "name": "stderr",
     "output_type": "stream",
     "text": [
      "Layer 07: 100%|██████████| 1050/1050 [00:01<00:00, 537.94it/s]\n"
     ]
    },
    {
     "name": "stdout",
     "output_type": "stream",
     "text": [
      "Created results/by_layer_20250911_112921/by_layer/layer_07/V3_num_p4_V3.npz with 1050 questions\n"
     ]
    },
    {
     "name": "stderr",
     "output_type": "stream",
     "text": [
      "Layer 08: 100%|██████████| 1050/1050 [00:01<00:00, 542.04it/s]\n"
     ]
    },
    {
     "name": "stdout",
     "output_type": "stream",
     "text": [
      "Created results/by_layer_20250911_112921/by_layer/layer_08/V3_num_p4_V3.npz with 1050 questions\n"
     ]
    },
    {
     "name": "stderr",
     "output_type": "stream",
     "text": [
      "Layer 09: 100%|██████████| 1050/1050 [00:01<00:00, 536.88it/s]\n"
     ]
    },
    {
     "name": "stdout",
     "output_type": "stream",
     "text": [
      "Created results/by_layer_20250911_112921/by_layer/layer_09/V3_num_p4_V3.npz with 1050 questions\n"
     ]
    },
    {
     "name": "stderr",
     "output_type": "stream",
     "text": [
      "Layer 10: 100%|██████████| 1050/1050 [00:01<00:00, 525.66it/s]\n"
     ]
    },
    {
     "name": "stdout",
     "output_type": "stream",
     "text": [
      "Created results/by_layer_20250911_112921/by_layer/layer_10/V3_num_p4_V3.npz with 1050 questions\n"
     ]
    },
    {
     "name": "stderr",
     "output_type": "stream",
     "text": [
      "Layer 11: 100%|██████████| 1050/1050 [00:01<00:00, 579.35it/s]\n"
     ]
    },
    {
     "name": "stdout",
     "output_type": "stream",
     "text": [
      "Created results/by_layer_20250911_112921/by_layer/layer_11/V3_num_p4_V3.npz with 1050 questions\n"
     ]
    },
    {
     "name": "stderr",
     "output_type": "stream",
     "text": [
      "Layer 12: 100%|██████████| 1050/1050 [00:01<00:00, 548.45it/s]\n"
     ]
    },
    {
     "name": "stdout",
     "output_type": "stream",
     "text": [
      "Created results/by_layer_20250911_112921/by_layer/layer_12/V3_num_p4_V3.npz with 1050 questions\n"
     ]
    },
    {
     "name": "stderr",
     "output_type": "stream",
     "text": [
      "Layer 13: 100%|██████████| 1050/1050 [00:01<00:00, 541.03it/s]\n"
     ]
    },
    {
     "name": "stdout",
     "output_type": "stream",
     "text": [
      "Created results/by_layer_20250911_112921/by_layer/layer_13/V3_num_p4_V3.npz with 1050 questions\n"
     ]
    },
    {
     "name": "stderr",
     "output_type": "stream",
     "text": [
      "Layer 14: 100%|██████████| 1050/1050 [00:01<00:00, 568.71it/s]\n"
     ]
    },
    {
     "name": "stdout",
     "output_type": "stream",
     "text": [
      "Created results/by_layer_20250911_112921/by_layer/layer_14/V3_num_p4_V3.npz with 1050 questions\n"
     ]
    },
    {
     "name": "stderr",
     "output_type": "stream",
     "text": [
      "Layer 15: 100%|██████████| 1050/1050 [00:01<00:00, 555.46it/s]\n"
     ]
    },
    {
     "name": "stdout",
     "output_type": "stream",
     "text": [
      "Created results/by_layer_20250911_112921/by_layer/layer_15/V3_num_p4_V3.npz with 1050 questions\n"
     ]
    },
    {
     "name": "stderr",
     "output_type": "stream",
     "text": [
      "Layer 16: 100%|██████████| 1050/1050 [00:01<00:00, 564.41it/s]\n"
     ]
    },
    {
     "name": "stdout",
     "output_type": "stream",
     "text": [
      "Created results/by_layer_20250911_112921/by_layer/layer_16/V3_num_p4_V3.npz with 1050 questions\n"
     ]
    },
    {
     "name": "stderr",
     "output_type": "stream",
     "text": [
      "Layer 17: 100%|██████████| 1050/1050 [00:01<00:00, 558.16it/s]\n"
     ]
    },
    {
     "name": "stdout",
     "output_type": "stream",
     "text": [
      "Created results/by_layer_20250911_112921/by_layer/layer_17/V3_num_p4_V3.npz with 1050 questions\n"
     ]
    },
    {
     "name": "stderr",
     "output_type": "stream",
     "text": [
      "Layer 18: 100%|██████████| 1050/1050 [00:03<00:00, 333.36it/s]\n"
     ]
    },
    {
     "name": "stdout",
     "output_type": "stream",
     "text": [
      "Created results/by_layer_20250911_112921/by_layer/layer_18/V3_num_p4_V3.npz with 1050 questions\n"
     ]
    },
    {
     "name": "stderr",
     "output_type": "stream",
     "text": [
      "Layer 19: 100%|██████████| 1050/1050 [00:01<00:00, 557.70it/s]\n"
     ]
    },
    {
     "name": "stdout",
     "output_type": "stream",
     "text": [
      "Created results/by_layer_20250911_112921/by_layer/layer_19/V3_num_p4_V3.npz with 1050 questions\n"
     ]
    },
    {
     "name": "stderr",
     "output_type": "stream",
     "text": [
      "Layer 20: 100%|██████████| 1050/1050 [00:01<00:00, 593.65it/s]\n"
     ]
    },
    {
     "name": "stdout",
     "output_type": "stream",
     "text": [
      "Created results/by_layer_20250911_112921/by_layer/layer_20/V3_num_p4_V3.npz with 1050 questions\n"
     ]
    },
    {
     "name": "stderr",
     "output_type": "stream",
     "text": [
      "Layer 21: 100%|██████████| 1050/1050 [00:01<00:00, 587.82it/s]\n"
     ]
    },
    {
     "name": "stdout",
     "output_type": "stream",
     "text": [
      "Created results/by_layer_20250911_112921/by_layer/layer_21/V3_num_p4_V3.npz with 1050 questions\n"
     ]
    },
    {
     "name": "stderr",
     "output_type": "stream",
     "text": [
      "Layer 22: 100%|██████████| 1050/1050 [00:01<00:00, 598.44it/s]\n"
     ]
    },
    {
     "name": "stdout",
     "output_type": "stream",
     "text": [
      "Created results/by_layer_20250911_112921/by_layer/layer_22/V3_num_p4_V3.npz with 1050 questions\n"
     ]
    },
    {
     "name": "stderr",
     "output_type": "stream",
     "text": [
      "Layer 23: 100%|██████████| 1050/1050 [00:01<00:00, 595.58it/s]\n"
     ]
    },
    {
     "name": "stdout",
     "output_type": "stream",
     "text": [
      "Created results/by_layer_20250911_112921/by_layer/layer_23/V3_num_p4_V3.npz with 1050 questions\n"
     ]
    },
    {
     "name": "stderr",
     "output_type": "stream",
     "text": [
      "Layer 24: 100%|██████████| 1050/1050 [00:01<00:00, 534.18it/s]\n"
     ]
    },
    {
     "name": "stdout",
     "output_type": "stream",
     "text": [
      "Created results/by_layer_20250911_112921/by_layer/layer_24/V3_num_p4_V3.npz with 1050 questions\n"
     ]
    },
    {
     "name": "stderr",
     "output_type": "stream",
     "text": [
      "Layer 25: 100%|██████████| 1050/1050 [00:01<00:00, 565.03it/s]\n"
     ]
    },
    {
     "name": "stdout",
     "output_type": "stream",
     "text": [
      "Created results/by_layer_20250911_112921/by_layer/layer_25/V3_num_p4_V3.npz with 1050 questions\n"
     ]
    },
    {
     "name": "stderr",
     "output_type": "stream",
     "text": [
      "Layer 26: 100%|██████████| 1050/1050 [00:01<00:00, 579.46it/s]\n"
     ]
    },
    {
     "name": "stdout",
     "output_type": "stream",
     "text": [
      "Created results/by_layer_20250911_112921/by_layer/layer_26/V3_num_p4_V3.npz with 1050 questions\n"
     ]
    },
    {
     "name": "stderr",
     "output_type": "stream",
     "text": [
      "Layer 27: 100%|██████████| 1050/1050 [00:03<00:00, 268.97it/s]\n"
     ]
    },
    {
     "name": "stdout",
     "output_type": "stream",
     "text": [
      "Created results/by_layer_20250911_112921/by_layer/layer_27/V3_num_p4_V3.npz with 1050 questions\n"
     ]
    },
    {
     "name": "stderr",
     "output_type": "stream",
     "text": [
      "Layer 28: 100%|██████████| 1050/1050 [00:03<00:00, 342.69it/s]\n"
     ]
    },
    {
     "name": "stdout",
     "output_type": "stream",
     "text": [
      "Created results/by_layer_20250911_112921/by_layer/layer_28/V3_num_p4_V3.npz with 1050 questions\n"
     ]
    },
    {
     "name": "stderr",
     "output_type": "stream",
     "text": [
      "Layer 29: 100%|██████████| 1050/1050 [00:02<00:00, 354.42it/s]\n"
     ]
    },
    {
     "name": "stdout",
     "output_type": "stream",
     "text": [
      "Created results/by_layer_20250911_112921/by_layer/layer_29/V3_num_p4_V3.npz with 1050 questions\n"
     ]
    },
    {
     "name": "stderr",
     "output_type": "stream",
     "text": [
      "Layer 30: 100%|██████████| 1050/1050 [00:02<00:00, 352.65it/s]\n"
     ]
    },
    {
     "name": "stdout",
     "output_type": "stream",
     "text": [
      "Created results/by_layer_20250911_112921/by_layer/layer_30/V3_num_p4_V3.npz with 1050 questions\n"
     ]
    },
    {
     "name": "stderr",
     "output_type": "stream",
     "text": [
      "Layer 31: 100%|██████████| 1050/1050 [00:03<00:00, 337.75it/s]\n"
     ]
    },
    {
     "name": "stdout",
     "output_type": "stream",
     "text": [
      "Created results/by_layer_20250911_112921/by_layer/layer_31/V3_num_p4_V3.npz with 1050 questions\n"
     ]
    },
    {
     "name": "stderr",
     "output_type": "stream",
     "text": [
      "Layer 32: 100%|██████████| 1050/1050 [00:03<00:00, 334.06it/s]\n"
     ]
    },
    {
     "name": "stdout",
     "output_type": "stream",
     "text": [
      "Created results/by_layer_20250911_112921/by_layer/layer_32/V3_num_p4_V3.npz with 1050 questions\n"
     ]
    },
    {
     "name": "stderr",
     "output_type": "stream",
     "text": [
      "Layer 33: 100%|██████████| 1050/1050 [00:03<00:00, 337.75it/s]\n"
     ]
    },
    {
     "name": "stdout",
     "output_type": "stream",
     "text": [
      "Created results/by_layer_20250911_112921/by_layer/layer_33/V3_num_p4_V3.npz with 1050 questions\n"
     ]
    },
    {
     "name": "stderr",
     "output_type": "stream",
     "text": [
      "Layer 34: 100%|██████████| 1050/1050 [00:03<00:00, 343.49it/s]\n"
     ]
    },
    {
     "name": "stdout",
     "output_type": "stream",
     "text": [
      "Created results/by_layer_20250911_112921/by_layer/layer_34/V3_num_p4_V3.npz with 1050 questions\n",
      "\n",
      "Processing experiment 10/60: results/comprehensive_experiments/run_20250911_062422/V0_alpha_p3\n",
      "Processing experiment: results/comprehensive_experiments/run_20250911_062422/V0_alpha_p3\n",
      "File: hidden_states_V0.npz, Layers: 35, Hidden dim: 2560\n"
     ]
    },
    {
     "name": "stderr",
     "output_type": "stream",
     "text": [
      "Layer 00: 100%|██████████| 1050/1050 [00:05<00:00, 203.72it/s]\n"
     ]
    },
    {
     "name": "stdout",
     "output_type": "stream",
     "text": [
      "Created results/by_layer_20250911_112921/by_layer/layer_00/V0_alpha_p3_V0.npz with 1050 questions\n"
     ]
    },
    {
     "name": "stderr",
     "output_type": "stream",
     "text": [
      "Layer 01: 100%|██████████| 1050/1050 [00:03<00:00, 291.74it/s]\n"
     ]
    },
    {
     "name": "stdout",
     "output_type": "stream",
     "text": [
      "Created results/by_layer_20250911_112921/by_layer/layer_01/V0_alpha_p3_V0.npz with 1050 questions\n"
     ]
    },
    {
     "name": "stderr",
     "output_type": "stream",
     "text": [
      "Layer 02: 100%|██████████| 1050/1050 [00:02<00:00, 362.36it/s]\n"
     ]
    },
    {
     "name": "stdout",
     "output_type": "stream",
     "text": [
      "Created results/by_layer_20250911_112921/by_layer/layer_02/V0_alpha_p3_V0.npz with 1050 questions\n"
     ]
    },
    {
     "name": "stderr",
     "output_type": "stream",
     "text": [
      "Layer 03: 100%|██████████| 1050/1050 [00:02<00:00, 365.39it/s]\n"
     ]
    },
    {
     "name": "stdout",
     "output_type": "stream",
     "text": [
      "Created results/by_layer_20250911_112921/by_layer/layer_03/V0_alpha_p3_V0.npz with 1050 questions\n"
     ]
    },
    {
     "name": "stderr",
     "output_type": "stream",
     "text": [
      "Layer 04: 100%|██████████| 1050/1050 [00:02<00:00, 361.12it/s]\n"
     ]
    },
    {
     "name": "stdout",
     "output_type": "stream",
     "text": [
      "Created results/by_layer_20250911_112921/by_layer/layer_04/V0_alpha_p3_V0.npz with 1050 questions\n"
     ]
    },
    {
     "name": "stderr",
     "output_type": "stream",
     "text": [
      "Layer 05: 100%|██████████| 1050/1050 [00:02<00:00, 351.75it/s]\n"
     ]
    },
    {
     "name": "stdout",
     "output_type": "stream",
     "text": [
      "Created results/by_layer_20250911_112921/by_layer/layer_05/V0_alpha_p3_V0.npz with 1050 questions\n"
     ]
    },
    {
     "name": "stderr",
     "output_type": "stream",
     "text": [
      "Layer 06: 100%|██████████| 1050/1050 [00:04<00:00, 254.43it/s]\n"
     ]
    },
    {
     "name": "stdout",
     "output_type": "stream",
     "text": [
      "Created results/by_layer_20250911_112921/by_layer/layer_06/V0_alpha_p3_V0.npz with 1050 questions\n"
     ]
    },
    {
     "name": "stderr",
     "output_type": "stream",
     "text": [
      "Layer 07: 100%|██████████| 1050/1050 [00:03<00:00, 342.84it/s]\n"
     ]
    },
    {
     "name": "stdout",
     "output_type": "stream",
     "text": [
      "Created results/by_layer_20250911_112921/by_layer/layer_07/V0_alpha_p3_V0.npz with 1050 questions\n"
     ]
    },
    {
     "name": "stderr",
     "output_type": "stream",
     "text": [
      "Layer 08: 100%|██████████| 1050/1050 [00:02<00:00, 367.19it/s]\n"
     ]
    },
    {
     "name": "stdout",
     "output_type": "stream",
     "text": [
      "Created results/by_layer_20250911_112921/by_layer/layer_08/V0_alpha_p3_V0.npz with 1050 questions\n"
     ]
    },
    {
     "name": "stderr",
     "output_type": "stream",
     "text": [
      "Layer 09: 100%|██████████| 1050/1050 [00:02<00:00, 354.27it/s]\n"
     ]
    },
    {
     "name": "stdout",
     "output_type": "stream",
     "text": [
      "Created results/by_layer_20250911_112921/by_layer/layer_09/V0_alpha_p3_V0.npz with 1050 questions\n"
     ]
    },
    {
     "name": "stderr",
     "output_type": "stream",
     "text": [
      "Layer 10: 100%|██████████| 1050/1050 [00:03<00:00, 339.76it/s]\n"
     ]
    },
    {
     "name": "stdout",
     "output_type": "stream",
     "text": [
      "Created results/by_layer_20250911_112921/by_layer/layer_10/V0_alpha_p3_V0.npz with 1050 questions\n"
     ]
    },
    {
     "name": "stderr",
     "output_type": "stream",
     "text": [
      "Layer 11: 100%|██████████| 1050/1050 [00:03<00:00, 341.54it/s]\n"
     ]
    },
    {
     "name": "stdout",
     "output_type": "stream",
     "text": [
      "Created results/by_layer_20250911_112921/by_layer/layer_11/V0_alpha_p3_V0.npz with 1050 questions\n"
     ]
    },
    {
     "name": "stderr",
     "output_type": "stream",
     "text": [
      "Layer 12: 100%|██████████| 1050/1050 [00:04<00:00, 249.88it/s]\n"
     ]
    },
    {
     "name": "stdout",
     "output_type": "stream",
     "text": [
      "Created results/by_layer_20250911_112921/by_layer/layer_12/V0_alpha_p3_V0.npz with 1050 questions\n"
     ]
    },
    {
     "name": "stderr",
     "output_type": "stream",
     "text": [
      "Layer 13: 100%|██████████| 1050/1050 [00:02<00:00, 362.50it/s]\n"
     ]
    },
    {
     "name": "stdout",
     "output_type": "stream",
     "text": [
      "Created results/by_layer_20250911_112921/by_layer/layer_13/V0_alpha_p3_V0.npz with 1050 questions\n"
     ]
    },
    {
     "name": "stderr",
     "output_type": "stream",
     "text": [
      "Layer 14: 100%|██████████| 1050/1050 [00:02<00:00, 360.20it/s]\n"
     ]
    },
    {
     "name": "stdout",
     "output_type": "stream",
     "text": [
      "Created results/by_layer_20250911_112921/by_layer/layer_14/V0_alpha_p3_V0.npz with 1050 questions\n"
     ]
    },
    {
     "name": "stderr",
     "output_type": "stream",
     "text": [
      "Layer 15: 100%|██████████| 1050/1050 [00:03<00:00, 345.05it/s]\n"
     ]
    },
    {
     "name": "stdout",
     "output_type": "stream",
     "text": [
      "Created results/by_layer_20250911_112921/by_layer/layer_15/V0_alpha_p3_V0.npz with 1050 questions\n"
     ]
    },
    {
     "name": "stderr",
     "output_type": "stream",
     "text": [
      "Layer 16: 100%|██████████| 1050/1050 [00:03<00:00, 326.56it/s]\n"
     ]
    },
    {
     "name": "stdout",
     "output_type": "stream",
     "text": [
      "Created results/by_layer_20250911_112921/by_layer/layer_16/V0_alpha_p3_V0.npz with 1050 questions\n"
     ]
    },
    {
     "name": "stderr",
     "output_type": "stream",
     "text": [
      "Layer 17: 100%|██████████| 1050/1050 [00:04<00:00, 252.41it/s]\n"
     ]
    },
    {
     "name": "stdout",
     "output_type": "stream",
     "text": [
      "Created results/by_layer_20250911_112921/by_layer/layer_17/V0_alpha_p3_V0.npz with 1050 questions\n"
     ]
    },
    {
     "name": "stderr",
     "output_type": "stream",
     "text": [
      "Layer 18: 100%|██████████| 1050/1050 [00:03<00:00, 346.47it/s]\n"
     ]
    },
    {
     "name": "stdout",
     "output_type": "stream",
     "text": [
      "Created results/by_layer_20250911_112921/by_layer/layer_18/V0_alpha_p3_V0.npz with 1050 questions\n"
     ]
    },
    {
     "name": "stderr",
     "output_type": "stream",
     "text": [
      "Layer 19: 100%|██████████| 1050/1050 [00:02<00:00, 362.61it/s]\n"
     ]
    },
    {
     "name": "stdout",
     "output_type": "stream",
     "text": [
      "Created results/by_layer_20250911_112921/by_layer/layer_19/V0_alpha_p3_V0.npz with 1050 questions\n"
     ]
    },
    {
     "name": "stderr",
     "output_type": "stream",
     "text": [
      "Layer 20: 100%|██████████| 1050/1050 [00:03<00:00, 339.75it/s]\n"
     ]
    },
    {
     "name": "stdout",
     "output_type": "stream",
     "text": [
      "Created results/by_layer_20250911_112921/by_layer/layer_20/V0_alpha_p3_V0.npz with 1050 questions\n"
     ]
    },
    {
     "name": "stderr",
     "output_type": "stream",
     "text": [
      "Layer 21: 100%|██████████| 1050/1050 [00:03<00:00, 334.29it/s]\n"
     ]
    },
    {
     "name": "stdout",
     "output_type": "stream",
     "text": [
      "Created results/by_layer_20250911_112921/by_layer/layer_21/V0_alpha_p3_V0.npz with 1050 questions\n"
     ]
    },
    {
     "name": "stderr",
     "output_type": "stream",
     "text": [
      "Layer 22: 100%|██████████| 1050/1050 [00:03<00:00, 342.91it/s]\n"
     ]
    },
    {
     "name": "stdout",
     "output_type": "stream",
     "text": [
      "Created results/by_layer_20250911_112921/by_layer/layer_22/V0_alpha_p3_V0.npz with 1050 questions\n"
     ]
    },
    {
     "name": "stderr",
     "output_type": "stream",
     "text": [
      "Layer 23: 100%|██████████| 1050/1050 [00:03<00:00, 333.89it/s]\n"
     ]
    },
    {
     "name": "stdout",
     "output_type": "stream",
     "text": [
      "Created results/by_layer_20250911_112921/by_layer/layer_23/V0_alpha_p3_V0.npz with 1050 questions\n"
     ]
    },
    {
     "name": "stderr",
     "output_type": "stream",
     "text": [
      "Layer 24: 100%|██████████| 1050/1050 [00:03<00:00, 343.50it/s]\n"
     ]
    },
    {
     "name": "stdout",
     "output_type": "stream",
     "text": [
      "Created results/by_layer_20250911_112921/by_layer/layer_24/V0_alpha_p3_V0.npz with 1050 questions\n"
     ]
    },
    {
     "name": "stderr",
     "output_type": "stream",
     "text": [
      "Layer 25: 100%|██████████| 1050/1050 [00:02<00:00, 351.26it/s]\n"
     ]
    },
    {
     "name": "stdout",
     "output_type": "stream",
     "text": [
      "Created results/by_layer_20250911_112921/by_layer/layer_25/V0_alpha_p3_V0.npz with 1050 questions\n"
     ]
    },
    {
     "name": "stderr",
     "output_type": "stream",
     "text": [
      "Layer 26: 100%|██████████| 1050/1050 [00:02<00:00, 362.14it/s]\n"
     ]
    },
    {
     "name": "stdout",
     "output_type": "stream",
     "text": [
      "Created results/by_layer_20250911_112921/by_layer/layer_26/V0_alpha_p3_V0.npz with 1050 questions\n"
     ]
    },
    {
     "name": "stderr",
     "output_type": "stream",
     "text": [
      "Layer 27: 100%|██████████| 1050/1050 [00:03<00:00, 343.96it/s]\n"
     ]
    },
    {
     "name": "stdout",
     "output_type": "stream",
     "text": [
      "Created results/by_layer_20250911_112921/by_layer/layer_27/V0_alpha_p3_V0.npz with 1050 questions\n"
     ]
    },
    {
     "name": "stderr",
     "output_type": "stream",
     "text": [
      "Layer 28: 100%|██████████| 1050/1050 [00:04<00:00, 225.90it/s]\n"
     ]
    },
    {
     "name": "stdout",
     "output_type": "stream",
     "text": [
      "Created results/by_layer_20250911_112921/by_layer/layer_28/V0_alpha_p3_V0.npz with 1050 questions\n"
     ]
    },
    {
     "name": "stderr",
     "output_type": "stream",
     "text": [
      "Layer 29: 100%|██████████| 1050/1050 [00:03<00:00, 340.57it/s]\n"
     ]
    },
    {
     "name": "stdout",
     "output_type": "stream",
     "text": [
      "Created results/by_layer_20250911_112921/by_layer/layer_29/V0_alpha_p3_V0.npz with 1050 questions\n"
     ]
    },
    {
     "name": "stderr",
     "output_type": "stream",
     "text": [
      "Layer 30: 100%|██████████| 1050/1050 [00:03<00:00, 343.55it/s]\n"
     ]
    },
    {
     "name": "stdout",
     "output_type": "stream",
     "text": [
      "Created results/by_layer_20250911_112921/by_layer/layer_30/V0_alpha_p3_V0.npz with 1050 questions\n"
     ]
    },
    {
     "name": "stderr",
     "output_type": "stream",
     "text": [
      "Layer 31: 100%|██████████| 1050/1050 [00:03<00:00, 340.94it/s]\n"
     ]
    },
    {
     "name": "stdout",
     "output_type": "stream",
     "text": [
      "Created results/by_layer_20250911_112921/by_layer/layer_31/V0_alpha_p3_V0.npz with 1050 questions\n"
     ]
    },
    {
     "name": "stderr",
     "output_type": "stream",
     "text": [
      "Layer 32: 100%|██████████| 1050/1050 [00:03<00:00, 337.19it/s]\n"
     ]
    },
    {
     "name": "stdout",
     "output_type": "stream",
     "text": [
      "Created results/by_layer_20250911_112921/by_layer/layer_32/V0_alpha_p3_V0.npz with 1050 questions\n"
     ]
    },
    {
     "name": "stderr",
     "output_type": "stream",
     "text": [
      "Layer 33: 100%|██████████| 1050/1050 [00:03<00:00, 344.92it/s]\n"
     ]
    },
    {
     "name": "stdout",
     "output_type": "stream",
     "text": [
      "Created results/by_layer_20250911_112921/by_layer/layer_33/V0_alpha_p3_V0.npz with 1050 questions\n"
     ]
    },
    {
     "name": "stderr",
     "output_type": "stream",
     "text": [
      "Layer 34: 100%|██████████| 1050/1050 [00:03<00:00, 330.77it/s]\n"
     ]
    },
    {
     "name": "stdout",
     "output_type": "stream",
     "text": [
      "Created results/by_layer_20250911_112921/by_layer/layer_34/V0_alpha_p3_V0.npz with 1050 questions\n",
      "\n",
      "Processing experiment 11/60: results/comprehensive_experiments/run_20250911_062422/V0_num_p4\n",
      "Processing experiment: results/comprehensive_experiments/run_20250911_062422/V0_num_p4\n",
      "File: hidden_states_V0.npz, Layers: 35, Hidden dim: 2560\n"
     ]
    },
    {
     "name": "stderr",
     "output_type": "stream",
     "text": [
      "Layer 00: 100%|██████████| 1050/1050 [00:03<00:00, 310.64it/s]\n"
     ]
    },
    {
     "name": "stdout",
     "output_type": "stream",
     "text": [
      "Created results/by_layer_20250911_112921/by_layer/layer_00/V0_num_p4_V0.npz with 1050 questions\n"
     ]
    },
    {
     "name": "stderr",
     "output_type": "stream",
     "text": [
      "Layer 01: 100%|██████████| 1050/1050 [00:03<00:00, 342.58it/s]\n"
     ]
    },
    {
     "name": "stdout",
     "output_type": "stream",
     "text": [
      "Created results/by_layer_20250911_112921/by_layer/layer_01/V0_num_p4_V0.npz with 1050 questions\n"
     ]
    },
    {
     "name": "stderr",
     "output_type": "stream",
     "text": [
      "Layer 02: 100%|██████████| 1050/1050 [00:03<00:00, 340.88it/s]\n"
     ]
    },
    {
     "name": "stdout",
     "output_type": "stream",
     "text": [
      "Created results/by_layer_20250911_112921/by_layer/layer_02/V0_num_p4_V0.npz with 1050 questions\n"
     ]
    },
    {
     "name": "stderr",
     "output_type": "stream",
     "text": [
      "Layer 03: 100%|██████████| 1050/1050 [00:03<00:00, 331.28it/s]\n"
     ]
    },
    {
     "name": "stdout",
     "output_type": "stream",
     "text": [
      "Created results/by_layer_20250911_112921/by_layer/layer_03/V0_num_p4_V0.npz with 1050 questions\n"
     ]
    },
    {
     "name": "stderr",
     "output_type": "stream",
     "text": [
      "Layer 04: 100%|██████████| 1050/1050 [00:03<00:00, 337.79it/s]\n"
     ]
    },
    {
     "name": "stdout",
     "output_type": "stream",
     "text": [
      "Created results/by_layer_20250911_112921/by_layer/layer_04/V0_num_p4_V0.npz with 1050 questions\n"
     ]
    },
    {
     "name": "stderr",
     "output_type": "stream",
     "text": [
      "Layer 05: 100%|██████████| 1050/1050 [00:03<00:00, 347.74it/s]\n"
     ]
    },
    {
     "name": "stdout",
     "output_type": "stream",
     "text": [
      "Created results/by_layer_20250911_112921/by_layer/layer_05/V0_num_p4_V0.npz with 1050 questions\n"
     ]
    },
    {
     "name": "stderr",
     "output_type": "stream",
     "text": [
      "Layer 06: 100%|██████████| 1050/1050 [00:03<00:00, 338.63it/s]\n"
     ]
    },
    {
     "name": "stdout",
     "output_type": "stream",
     "text": [
      "Created results/by_layer_20250911_112921/by_layer/layer_06/V0_num_p4_V0.npz with 1050 questions\n"
     ]
    },
    {
     "name": "stderr",
     "output_type": "stream",
     "text": [
      "Layer 07: 100%|██████████| 1050/1050 [00:03<00:00, 338.75it/s]\n"
     ]
    },
    {
     "name": "stdout",
     "output_type": "stream",
     "text": [
      "Created results/by_layer_20250911_112921/by_layer/layer_07/V0_num_p4_V0.npz with 1050 questions\n"
     ]
    },
    {
     "name": "stderr",
     "output_type": "stream",
     "text": [
      "Layer 08: 100%|██████████| 1050/1050 [00:03<00:00, 309.10it/s]\n"
     ]
    },
    {
     "name": "stdout",
     "output_type": "stream",
     "text": [
      "Created results/by_layer_20250911_112921/by_layer/layer_08/V0_num_p4_V0.npz with 1050 questions\n"
     ]
    },
    {
     "name": "stderr",
     "output_type": "stream",
     "text": [
      "Layer 09: 100%|██████████| 1050/1050 [00:03<00:00, 328.40it/s]\n"
     ]
    },
    {
     "name": "stdout",
     "output_type": "stream",
     "text": [
      "Created results/by_layer_20250911_112921/by_layer/layer_09/V0_num_p4_V0.npz with 1050 questions\n"
     ]
    },
    {
     "name": "stderr",
     "output_type": "stream",
     "text": [
      "Layer 10: 100%|██████████| 1050/1050 [00:03<00:00, 332.99it/s]\n"
     ]
    },
    {
     "name": "stdout",
     "output_type": "stream",
     "text": [
      "Created results/by_layer_20250911_112921/by_layer/layer_10/V0_num_p4_V0.npz with 1050 questions\n"
     ]
    },
    {
     "name": "stderr",
     "output_type": "stream",
     "text": [
      "Layer 11: 100%|██████████| 1050/1050 [00:03<00:00, 345.92it/s]\n"
     ]
    },
    {
     "name": "stdout",
     "output_type": "stream",
     "text": [
      "Created results/by_layer_20250911_112921/by_layer/layer_11/V0_num_p4_V0.npz with 1050 questions\n"
     ]
    },
    {
     "name": "stderr",
     "output_type": "stream",
     "text": [
      "Layer 12: 100%|██████████| 1050/1050 [00:03<00:00, 332.69it/s]\n"
     ]
    },
    {
     "name": "stdout",
     "output_type": "stream",
     "text": [
      "Created results/by_layer_20250911_112921/by_layer/layer_12/V0_num_p4_V0.npz with 1050 questions\n"
     ]
    },
    {
     "name": "stderr",
     "output_type": "stream",
     "text": [
      "Layer 13: 100%|██████████| 1050/1050 [00:03<00:00, 345.74it/s]\n"
     ]
    },
    {
     "name": "stdout",
     "output_type": "stream",
     "text": [
      "Created results/by_layer_20250911_112921/by_layer/layer_13/V0_num_p4_V0.npz with 1050 questions\n"
     ]
    },
    {
     "name": "stderr",
     "output_type": "stream",
     "text": [
      "Layer 14: 100%|██████████| 1050/1050 [00:03<00:00, 342.16it/s]\n"
     ]
    },
    {
     "name": "stdout",
     "output_type": "stream",
     "text": [
      "Created results/by_layer_20250911_112921/by_layer/layer_14/V0_num_p4_V0.npz with 1050 questions\n"
     ]
    },
    {
     "name": "stderr",
     "output_type": "stream",
     "text": [
      "Layer 15: 100%|██████████| 1050/1050 [00:03<00:00, 341.72it/s]\n"
     ]
    },
    {
     "name": "stdout",
     "output_type": "stream",
     "text": [
      "Created results/by_layer_20250911_112921/by_layer/layer_15/V0_num_p4_V0.npz with 1050 questions\n"
     ]
    },
    {
     "name": "stderr",
     "output_type": "stream",
     "text": [
      "Layer 16: 100%|██████████| 1050/1050 [00:03<00:00, 338.10it/s]\n"
     ]
    },
    {
     "name": "stdout",
     "output_type": "stream",
     "text": [
      "Created results/by_layer_20250911_112921/by_layer/layer_16/V0_num_p4_V0.npz with 1050 questions\n"
     ]
    },
    {
     "name": "stderr",
     "output_type": "stream",
     "text": [
      "Layer 17: 100%|██████████| 1050/1050 [00:03<00:00, 348.25it/s]\n"
     ]
    },
    {
     "name": "stdout",
     "output_type": "stream",
     "text": [
      "Created results/by_layer_20250911_112921/by_layer/layer_17/V0_num_p4_V0.npz with 1050 questions\n"
     ]
    },
    {
     "name": "stderr",
     "output_type": "stream",
     "text": [
      "Layer 18: 100%|██████████| 1050/1050 [00:03<00:00, 348.00it/s]\n"
     ]
    },
    {
     "name": "stdout",
     "output_type": "stream",
     "text": [
      "Created results/by_layer_20250911_112921/by_layer/layer_18/V0_num_p4_V0.npz with 1050 questions\n"
     ]
    },
    {
     "name": "stderr",
     "output_type": "stream",
     "text": [
      "Layer 19: 100%|██████████| 1050/1050 [00:03<00:00, 334.00it/s]\n"
     ]
    },
    {
     "name": "stdout",
     "output_type": "stream",
     "text": [
      "Created results/by_layer_20250911_112921/by_layer/layer_19/V0_num_p4_V0.npz with 1050 questions\n"
     ]
    },
    {
     "name": "stderr",
     "output_type": "stream",
     "text": [
      "Layer 20: 100%|██████████| 1050/1050 [00:02<00:00, 356.90it/s]\n"
     ]
    },
    {
     "name": "stdout",
     "output_type": "stream",
     "text": [
      "Created results/by_layer_20250911_112921/by_layer/layer_20/V0_num_p4_V0.npz with 1050 questions\n"
     ]
    },
    {
     "name": "stderr",
     "output_type": "stream",
     "text": [
      "Layer 21: 100%|██████████| 1050/1050 [00:03<00:00, 325.99it/s]\n"
     ]
    },
    {
     "name": "stdout",
     "output_type": "stream",
     "text": [
      "Created results/by_layer_20250911_112921/by_layer/layer_21/V0_num_p4_V0.npz with 1050 questions\n"
     ]
    },
    {
     "name": "stderr",
     "output_type": "stream",
     "text": [
      "Layer 22: 100%|██████████| 1050/1050 [00:02<00:00, 360.17it/s]\n"
     ]
    },
    {
     "name": "stdout",
     "output_type": "stream",
     "text": [
      "Created results/by_layer_20250911_112921/by_layer/layer_22/V0_num_p4_V0.npz with 1050 questions\n"
     ]
    },
    {
     "name": "stderr",
     "output_type": "stream",
     "text": [
      "Layer 23: 100%|██████████| 1050/1050 [00:02<00:00, 363.21it/s]\n"
     ]
    },
    {
     "name": "stdout",
     "output_type": "stream",
     "text": [
      "Created results/by_layer_20250911_112921/by_layer/layer_23/V0_num_p4_V0.npz with 1050 questions\n"
     ]
    },
    {
     "name": "stderr",
     "output_type": "stream",
     "text": [
      "Layer 24: 100%|██████████| 1050/1050 [00:03<00:00, 345.66it/s]\n"
     ]
    },
    {
     "name": "stdout",
     "output_type": "stream",
     "text": [
      "Created results/by_layer_20250911_112921/by_layer/layer_24/V0_num_p4_V0.npz with 1050 questions\n"
     ]
    },
    {
     "name": "stderr",
     "output_type": "stream",
     "text": [
      "Layer 25: 100%|██████████| 1050/1050 [00:03<00:00, 343.58it/s]\n"
     ]
    },
    {
     "name": "stdout",
     "output_type": "stream",
     "text": [
      "Created results/by_layer_20250911_112921/by_layer/layer_25/V0_num_p4_V0.npz with 1050 questions\n"
     ]
    },
    {
     "name": "stderr",
     "output_type": "stream",
     "text": [
      "Layer 26: 100%|██████████| 1050/1050 [00:04<00:00, 250.21it/s]\n"
     ]
    },
    {
     "name": "stdout",
     "output_type": "stream",
     "text": [
      "Created results/by_layer_20250911_112921/by_layer/layer_26/V0_num_p4_V0.npz with 1050 questions\n"
     ]
    },
    {
     "name": "stderr",
     "output_type": "stream",
     "text": [
      "Layer 27: 100%|██████████| 1050/1050 [00:03<00:00, 339.59it/s]\n"
     ]
    },
    {
     "name": "stdout",
     "output_type": "stream",
     "text": [
      "Created results/by_layer_20250911_112921/by_layer/layer_27/V0_num_p4_V0.npz with 1050 questions\n"
     ]
    },
    {
     "name": "stderr",
     "output_type": "stream",
     "text": [
      "Layer 28: 100%|██████████| 1050/1050 [00:02<00:00, 364.21it/s]\n"
     ]
    },
    {
     "name": "stdout",
     "output_type": "stream",
     "text": [
      "Created results/by_layer_20250911_112921/by_layer/layer_28/V0_num_p4_V0.npz with 1050 questions\n"
     ]
    },
    {
     "name": "stderr",
     "output_type": "stream",
     "text": [
      "Layer 29: 100%|██████████| 1050/1050 [00:02<00:00, 351.48it/s]\n"
     ]
    },
    {
     "name": "stdout",
     "output_type": "stream",
     "text": [
      "Created results/by_layer_20250911_112921/by_layer/layer_29/V0_num_p4_V0.npz with 1050 questions\n"
     ]
    },
    {
     "name": "stderr",
     "output_type": "stream",
     "text": [
      "Layer 30: 100%|██████████| 1050/1050 [00:02<00:00, 356.50it/s]\n"
     ]
    },
    {
     "name": "stdout",
     "output_type": "stream",
     "text": [
      "Created results/by_layer_20250911_112921/by_layer/layer_30/V0_num_p4_V0.npz with 1050 questions\n"
     ]
    },
    {
     "name": "stderr",
     "output_type": "stream",
     "text": [
      "Layer 31: 100%|██████████| 1050/1050 [00:03<00:00, 341.15it/s]\n"
     ]
    },
    {
     "name": "stdout",
     "output_type": "stream",
     "text": [
      "Created results/by_layer_20250911_112921/by_layer/layer_31/V0_num_p4_V0.npz with 1050 questions\n"
     ]
    },
    {
     "name": "stderr",
     "output_type": "stream",
     "text": [
      "Layer 32: 100%|██████████| 1050/1050 [00:03<00:00, 344.03it/s]\n"
     ]
    },
    {
     "name": "stdout",
     "output_type": "stream",
     "text": [
      "Created results/by_layer_20250911_112921/by_layer/layer_32/V0_num_p4_V0.npz with 1050 questions\n"
     ]
    },
    {
     "name": "stderr",
     "output_type": "stream",
     "text": [
      "Layer 33: 100%|██████████| 1050/1050 [00:02<00:00, 357.24it/s]\n"
     ]
    },
    {
     "name": "stdout",
     "output_type": "stream",
     "text": [
      "Created results/by_layer_20250911_112921/by_layer/layer_33/V0_num_p4_V0.npz with 1050 questions\n"
     ]
    },
    {
     "name": "stderr",
     "output_type": "stream",
     "text": [
      "Layer 34: 100%|██████████| 1050/1050 [00:02<00:00, 355.05it/s]\n"
     ]
    },
    {
     "name": "stdout",
     "output_type": "stream",
     "text": [
      "Created results/by_layer_20250911_112921/by_layer/layer_34/V0_num_p4_V0.npz with 1050 questions\n",
      "\n",
      "Processing experiment 12/60: results/comprehensive_experiments/run_20250911_062422/V2_alpha_p5\n",
      "Processing experiment: results/comprehensive_experiments/run_20250911_062422/V2_alpha_p5\n",
      "File: hidden_states_V2.npz, Layers: 35, Hidden dim: 2560\n"
     ]
    },
    {
     "name": "stderr",
     "output_type": "stream",
     "text": [
      "Layer 00: 100%|██████████| 1050/1050 [00:03<00:00, 311.76it/s]\n"
     ]
    },
    {
     "name": "stdout",
     "output_type": "stream",
     "text": [
      "Created results/by_layer_20250911_112921/by_layer/layer_00/V2_alpha_p5_V2.npz with 1050 questions\n"
     ]
    },
    {
     "name": "stderr",
     "output_type": "stream",
     "text": [
      "Layer 01: 100%|██████████| 1050/1050 [00:03<00:00, 342.91it/s]\n"
     ]
    },
    {
     "name": "stdout",
     "output_type": "stream",
     "text": [
      "Created results/by_layer_20250911_112921/by_layer/layer_01/V2_alpha_p5_V2.npz with 1050 questions\n"
     ]
    },
    {
     "name": "stderr",
     "output_type": "stream",
     "text": [
      "Layer 02: 100%|██████████| 1050/1050 [00:02<00:00, 350.62it/s]\n"
     ]
    },
    {
     "name": "stdout",
     "output_type": "stream",
     "text": [
      "Created results/by_layer_20250911_112921/by_layer/layer_02/V2_alpha_p5_V2.npz with 1050 questions\n"
     ]
    },
    {
     "name": "stderr",
     "output_type": "stream",
     "text": [
      "Layer 03: 100%|██████████| 1050/1050 [00:03<00:00, 341.58it/s]\n"
     ]
    },
    {
     "name": "stdout",
     "output_type": "stream",
     "text": [
      "Created results/by_layer_20250911_112921/by_layer/layer_03/V2_alpha_p5_V2.npz with 1050 questions\n"
     ]
    },
    {
     "name": "stderr",
     "output_type": "stream",
     "text": [
      "Layer 04: 100%|██████████| 1050/1050 [00:03<00:00, 349.63it/s]\n"
     ]
    },
    {
     "name": "stdout",
     "output_type": "stream",
     "text": [
      "Created results/by_layer_20250911_112921/by_layer/layer_04/V2_alpha_p5_V2.npz with 1050 questions\n"
     ]
    },
    {
     "name": "stderr",
     "output_type": "stream",
     "text": [
      "Layer 05: 100%|██████████| 1050/1050 [00:02<00:00, 351.87it/s]\n"
     ]
    },
    {
     "name": "stdout",
     "output_type": "stream",
     "text": [
      "Created results/by_layer_20250911_112921/by_layer/layer_05/V2_alpha_p5_V2.npz with 1050 questions\n"
     ]
    },
    {
     "name": "stderr",
     "output_type": "stream",
     "text": [
      "Layer 06: 100%|██████████| 1050/1050 [00:03<00:00, 349.06it/s]\n"
     ]
    },
    {
     "name": "stdout",
     "output_type": "stream",
     "text": [
      "Created results/by_layer_20250911_112921/by_layer/layer_06/V2_alpha_p5_V2.npz with 1050 questions\n"
     ]
    },
    {
     "name": "stderr",
     "output_type": "stream",
     "text": [
      "Layer 07: 100%|██████████| 1050/1050 [00:03<00:00, 314.95it/s]\n"
     ]
    },
    {
     "name": "stdout",
     "output_type": "stream",
     "text": [
      "Created results/by_layer_20250911_112921/by_layer/layer_07/V2_alpha_p5_V2.npz with 1050 questions\n"
     ]
    },
    {
     "name": "stderr",
     "output_type": "stream",
     "text": [
      "Layer 08: 100%|██████████| 1050/1050 [00:03<00:00, 328.13it/s]\n"
     ]
    },
    {
     "name": "stdout",
     "output_type": "stream",
     "text": [
      "Created results/by_layer_20250911_112921/by_layer/layer_08/V2_alpha_p5_V2.npz with 1050 questions\n"
     ]
    },
    {
     "name": "stderr",
     "output_type": "stream",
     "text": [
      "Layer 09: 100%|██████████| 1050/1050 [00:03<00:00, 315.99it/s]\n"
     ]
    },
    {
     "name": "stdout",
     "output_type": "stream",
     "text": [
      "Created results/by_layer_20250911_112921/by_layer/layer_09/V2_alpha_p5_V2.npz with 1050 questions\n"
     ]
    },
    {
     "name": "stderr",
     "output_type": "stream",
     "text": [
      "Layer 10: 100%|██████████| 1050/1050 [00:03<00:00, 311.52it/s]\n"
     ]
    },
    {
     "name": "stdout",
     "output_type": "stream",
     "text": [
      "Created results/by_layer_20250911_112921/by_layer/layer_10/V2_alpha_p5_V2.npz with 1050 questions\n"
     ]
    },
    {
     "name": "stderr",
     "output_type": "stream",
     "text": [
      "Layer 11: 100%|██████████| 1050/1050 [00:03<00:00, 332.15it/s]\n"
     ]
    },
    {
     "name": "stdout",
     "output_type": "stream",
     "text": [
      "Created results/by_layer_20250911_112921/by_layer/layer_11/V2_alpha_p5_V2.npz with 1050 questions\n"
     ]
    },
    {
     "name": "stderr",
     "output_type": "stream",
     "text": [
      "Layer 12: 100%|██████████| 1050/1050 [00:03<00:00, 346.65it/s]\n"
     ]
    },
    {
     "name": "stdout",
     "output_type": "stream",
     "text": [
      "Created results/by_layer_20250911_112921/by_layer/layer_12/V2_alpha_p5_V2.npz with 1050 questions\n"
     ]
    },
    {
     "name": "stderr",
     "output_type": "stream",
     "text": [
      "Layer 13: 100%|██████████| 1050/1050 [00:03<00:00, 348.72it/s]\n"
     ]
    },
    {
     "name": "stdout",
     "output_type": "stream",
     "text": [
      "Created results/by_layer_20250911_112921/by_layer/layer_13/V2_alpha_p5_V2.npz with 1050 questions\n"
     ]
    },
    {
     "name": "stderr",
     "output_type": "stream",
     "text": [
      "Layer 14: 100%|██████████| 1050/1050 [00:03<00:00, 348.17it/s]\n"
     ]
    },
    {
     "name": "stdout",
     "output_type": "stream",
     "text": [
      "Created results/by_layer_20250911_112921/by_layer/layer_14/V2_alpha_p5_V2.npz with 1050 questions\n"
     ]
    },
    {
     "name": "stderr",
     "output_type": "stream",
     "text": [
      "Layer 15: 100%|██████████| 1050/1050 [00:03<00:00, 336.71it/s]\n"
     ]
    },
    {
     "name": "stdout",
     "output_type": "stream",
     "text": [
      "Created results/by_layer_20250911_112921/by_layer/layer_15/V2_alpha_p5_V2.npz with 1050 questions\n"
     ]
    },
    {
     "name": "stderr",
     "output_type": "stream",
     "text": [
      "Layer 16: 100%|██████████| 1050/1050 [00:03<00:00, 348.79it/s]\n"
     ]
    },
    {
     "name": "stdout",
     "output_type": "stream",
     "text": [
      "Created results/by_layer_20250911_112921/by_layer/layer_16/V2_alpha_p5_V2.npz with 1050 questions\n"
     ]
    },
    {
     "name": "stderr",
     "output_type": "stream",
     "text": [
      "Layer 17: 100%|██████████| 1050/1050 [00:03<00:00, 335.31it/s]\n"
     ]
    },
    {
     "name": "stdout",
     "output_type": "stream",
     "text": [
      "Created results/by_layer_20250911_112921/by_layer/layer_17/V2_alpha_p5_V2.npz with 1050 questions\n"
     ]
    },
    {
     "name": "stderr",
     "output_type": "stream",
     "text": [
      "Layer 18: 100%|██████████| 1050/1050 [00:03<00:00, 326.21it/s]\n"
     ]
    },
    {
     "name": "stdout",
     "output_type": "stream",
     "text": [
      "Created results/by_layer_20250911_112921/by_layer/layer_18/V2_alpha_p5_V2.npz with 1050 questions\n"
     ]
    },
    {
     "name": "stderr",
     "output_type": "stream",
     "text": [
      "Layer 19: 100%|██████████| 1050/1050 [00:03<00:00, 333.16it/s]\n"
     ]
    },
    {
     "name": "stdout",
     "output_type": "stream",
     "text": [
      "Created results/by_layer_20250911_112921/by_layer/layer_19/V2_alpha_p5_V2.npz with 1050 questions\n"
     ]
    },
    {
     "name": "stderr",
     "output_type": "stream",
     "text": [
      "Layer 20: 100%|██████████| 1050/1050 [00:03<00:00, 330.28it/s]\n"
     ]
    },
    {
     "name": "stdout",
     "output_type": "stream",
     "text": [
      "Created results/by_layer_20250911_112921/by_layer/layer_20/V2_alpha_p5_V2.npz with 1050 questions\n"
     ]
    },
    {
     "name": "stderr",
     "output_type": "stream",
     "text": [
      "Layer 21: 100%|██████████| 1050/1050 [00:03<00:00, 333.53it/s]\n"
     ]
    },
    {
     "name": "stdout",
     "output_type": "stream",
     "text": [
      "Created results/by_layer_20250911_112921/by_layer/layer_21/V2_alpha_p5_V2.npz with 1050 questions\n"
     ]
    },
    {
     "name": "stderr",
     "output_type": "stream",
     "text": [
      "Layer 22: 100%|██████████| 1050/1050 [00:03<00:00, 336.88it/s]\n"
     ]
    },
    {
     "name": "stdout",
     "output_type": "stream",
     "text": [
      "Created results/by_layer_20250911_112921/by_layer/layer_22/V2_alpha_p5_V2.npz with 1050 questions\n"
     ]
    },
    {
     "name": "stderr",
     "output_type": "stream",
     "text": [
      "Layer 23: 100%|██████████| 1050/1050 [00:03<00:00, 340.29it/s]\n"
     ]
    },
    {
     "name": "stdout",
     "output_type": "stream",
     "text": [
      "Created results/by_layer_20250911_112921/by_layer/layer_23/V2_alpha_p5_V2.npz with 1050 questions\n"
     ]
    },
    {
     "name": "stderr",
     "output_type": "stream",
     "text": [
      "Layer 24: 100%|██████████| 1050/1050 [00:02<00:00, 363.81it/s]\n"
     ]
    },
    {
     "name": "stdout",
     "output_type": "stream",
     "text": [
      "Created results/by_layer_20250911_112921/by_layer/layer_24/V2_alpha_p5_V2.npz with 1050 questions\n"
     ]
    },
    {
     "name": "stderr",
     "output_type": "stream",
     "text": [
      "Layer 25: 100%|██████████| 1050/1050 [00:03<00:00, 343.84it/s]\n"
     ]
    },
    {
     "name": "stdout",
     "output_type": "stream",
     "text": [
      "Created results/by_layer_20250911_112921/by_layer/layer_25/V2_alpha_p5_V2.npz with 1050 questions\n"
     ]
    },
    {
     "name": "stderr",
     "output_type": "stream",
     "text": [
      "Layer 26: 100%|██████████| 1050/1050 [00:03<00:00, 330.70it/s]\n"
     ]
    },
    {
     "name": "stdout",
     "output_type": "stream",
     "text": [
      "Created results/by_layer_20250911_112921/by_layer/layer_26/V2_alpha_p5_V2.npz with 1050 questions\n"
     ]
    },
    {
     "name": "stderr",
     "output_type": "stream",
     "text": [
      "Layer 27: 100%|██████████| 1050/1050 [00:03<00:00, 337.21it/s]\n"
     ]
    },
    {
     "name": "stdout",
     "output_type": "stream",
     "text": [
      "Created results/by_layer_20250911_112921/by_layer/layer_27/V2_alpha_p5_V2.npz with 1050 questions\n"
     ]
    },
    {
     "name": "stderr",
     "output_type": "stream",
     "text": [
      "Layer 28: 100%|██████████| 1050/1050 [00:03<00:00, 332.99it/s]\n"
     ]
    },
    {
     "name": "stdout",
     "output_type": "stream",
     "text": [
      "Created results/by_layer_20250911_112921/by_layer/layer_28/V2_alpha_p5_V2.npz with 1050 questions\n"
     ]
    },
    {
     "name": "stderr",
     "output_type": "stream",
     "text": [
      "Layer 29: 100%|██████████| 1050/1050 [00:03<00:00, 306.32it/s]\n"
     ]
    },
    {
     "name": "stdout",
     "output_type": "stream",
     "text": [
      "Created results/by_layer_20250911_112921/by_layer/layer_29/V2_alpha_p5_V2.npz with 1050 questions\n"
     ]
    },
    {
     "name": "stderr",
     "output_type": "stream",
     "text": [
      "Layer 30: 100%|██████████| 1050/1050 [00:03<00:00, 301.08it/s]\n"
     ]
    },
    {
     "name": "stdout",
     "output_type": "stream",
     "text": [
      "Created results/by_layer_20250911_112921/by_layer/layer_30/V2_alpha_p5_V2.npz with 1050 questions\n"
     ]
    },
    {
     "name": "stderr",
     "output_type": "stream",
     "text": [
      "Layer 31: 100%|██████████| 1050/1050 [00:03<00:00, 330.23it/s]\n"
     ]
    },
    {
     "name": "stdout",
     "output_type": "stream",
     "text": [
      "Created results/by_layer_20250911_112921/by_layer/layer_31/V2_alpha_p5_V2.npz with 1050 questions\n"
     ]
    },
    {
     "name": "stderr",
     "output_type": "stream",
     "text": [
      "Layer 32: 100%|██████████| 1050/1050 [00:02<00:00, 350.19it/s]\n"
     ]
    },
    {
     "name": "stdout",
     "output_type": "stream",
     "text": [
      "Created results/by_layer_20250911_112921/by_layer/layer_32/V2_alpha_p5_V2.npz with 1050 questions\n"
     ]
    },
    {
     "name": "stderr",
     "output_type": "stream",
     "text": [
      "Layer 33: 100%|██████████| 1050/1050 [00:03<00:00, 345.06it/s]\n"
     ]
    },
    {
     "name": "stdout",
     "output_type": "stream",
     "text": [
      "Created results/by_layer_20250911_112921/by_layer/layer_33/V2_alpha_p5_V2.npz with 1050 questions\n"
     ]
    },
    {
     "name": "stderr",
     "output_type": "stream",
     "text": [
      "Layer 34: 100%|██████████| 1050/1050 [00:02<00:00, 379.42it/s]\n"
     ]
    },
    {
     "name": "stdout",
     "output_type": "stream",
     "text": [
      "Created results/by_layer_20250911_112921/by_layer/layer_34/V2_alpha_p5_V2.npz with 1050 questions\n",
      "\n",
      "Processing experiment 13/60: results/comprehensive_experiments/run_20250911_062422/V5_num_p5\n",
      "Processing experiment: results/comprehensive_experiments/run_20250911_062422/V5_num_p5\n",
      "File: hidden_states_V5.npz, Layers: 35, Hidden dim: 2560\n"
     ]
    },
    {
     "name": "stderr",
     "output_type": "stream",
     "text": [
      "Layer 00: 100%|██████████| 1050/1050 [00:03<00:00, 317.66it/s]\n"
     ]
    },
    {
     "name": "stdout",
     "output_type": "stream",
     "text": [
      "Created results/by_layer_20250911_112921/by_layer/layer_00/V5_num_p5_V5.npz with 1050 questions\n"
     ]
    },
    {
     "name": "stderr",
     "output_type": "stream",
     "text": [
      "Layer 01: 100%|██████████| 1050/1050 [00:02<00:00, 364.65it/s]\n"
     ]
    },
    {
     "name": "stdout",
     "output_type": "stream",
     "text": [
      "Created results/by_layer_20250911_112921/by_layer/layer_01/V5_num_p5_V5.npz with 1050 questions\n"
     ]
    },
    {
     "name": "stderr",
     "output_type": "stream",
     "text": [
      "Layer 02: 100%|██████████| 1050/1050 [00:02<00:00, 367.65it/s]\n"
     ]
    },
    {
     "name": "stdout",
     "output_type": "stream",
     "text": [
      "Created results/by_layer_20250911_112921/by_layer/layer_02/V5_num_p5_V5.npz with 1050 questions\n"
     ]
    },
    {
     "name": "stderr",
     "output_type": "stream",
     "text": [
      "Layer 03: 100%|██████████| 1050/1050 [00:02<00:00, 356.07it/s]\n"
     ]
    },
    {
     "name": "stdout",
     "output_type": "stream",
     "text": [
      "Created results/by_layer_20250911_112921/by_layer/layer_03/V5_num_p5_V5.npz with 1050 questions\n"
     ]
    },
    {
     "name": "stderr",
     "output_type": "stream",
     "text": [
      "Layer 04: 100%|██████████| 1050/1050 [00:04<00:00, 252.10it/s]\n"
     ]
    },
    {
     "name": "stdout",
     "output_type": "stream",
     "text": [
      "Created results/by_layer_20250911_112921/by_layer/layer_04/V5_num_p5_V5.npz with 1050 questions\n"
     ]
    },
    {
     "name": "stderr",
     "output_type": "stream",
     "text": [
      "Layer 05: 100%|██████████| 1050/1050 [00:02<00:00, 362.67it/s]\n"
     ]
    },
    {
     "name": "stdout",
     "output_type": "stream",
     "text": [
      "Created results/by_layer_20250911_112921/by_layer/layer_05/V5_num_p5_V5.npz with 1050 questions\n"
     ]
    },
    {
     "name": "stderr",
     "output_type": "stream",
     "text": [
      "Layer 06: 100%|██████████| 1050/1050 [00:02<00:00, 373.67it/s]\n"
     ]
    },
    {
     "name": "stdout",
     "output_type": "stream",
     "text": [
      "Created results/by_layer_20250911_112921/by_layer/layer_06/V5_num_p5_V5.npz with 1050 questions\n"
     ]
    },
    {
     "name": "stderr",
     "output_type": "stream",
     "text": [
      "Layer 07: 100%|██████████| 1050/1050 [00:02<00:00, 356.28it/s]\n"
     ]
    },
    {
     "name": "stdout",
     "output_type": "stream",
     "text": [
      "Created results/by_layer_20250911_112921/by_layer/layer_07/V5_num_p5_V5.npz with 1050 questions\n"
     ]
    },
    {
     "name": "stderr",
     "output_type": "stream",
     "text": [
      "Layer 08: 100%|██████████| 1050/1050 [00:02<00:00, 350.44it/s]\n"
     ]
    },
    {
     "name": "stdout",
     "output_type": "stream",
     "text": [
      "Created results/by_layer_20250911_112921/by_layer/layer_08/V5_num_p5_V5.npz with 1050 questions\n"
     ]
    },
    {
     "name": "stderr",
     "output_type": "stream",
     "text": [
      "Layer 09: 100%|██████████| 1050/1050 [00:03<00:00, 347.68it/s]\n"
     ]
    },
    {
     "name": "stdout",
     "output_type": "stream",
     "text": [
      "Created results/by_layer_20250911_112921/by_layer/layer_09/V5_num_p5_V5.npz with 1050 questions\n"
     ]
    },
    {
     "name": "stderr",
     "output_type": "stream",
     "text": [
      "Layer 10: 100%|██████████| 1050/1050 [00:02<00:00, 353.07it/s]\n"
     ]
    },
    {
     "name": "stdout",
     "output_type": "stream",
     "text": [
      "Created results/by_layer_20250911_112921/by_layer/layer_10/V5_num_p5_V5.npz with 1050 questions\n"
     ]
    },
    {
     "name": "stderr",
     "output_type": "stream",
     "text": [
      "Layer 11: 100%|██████████| 1050/1050 [00:02<00:00, 362.93it/s]\n"
     ]
    },
    {
     "name": "stdout",
     "output_type": "stream",
     "text": [
      "Created results/by_layer_20250911_112921/by_layer/layer_11/V5_num_p5_V5.npz with 1050 questions\n"
     ]
    },
    {
     "name": "stderr",
     "output_type": "stream",
     "text": [
      "Layer 12: 100%|██████████| 1050/1050 [00:03<00:00, 345.36it/s]\n"
     ]
    },
    {
     "name": "stdout",
     "output_type": "stream",
     "text": [
      "Created results/by_layer_20250911_112921/by_layer/layer_12/V5_num_p5_V5.npz with 1050 questions\n"
     ]
    },
    {
     "name": "stderr",
     "output_type": "stream",
     "text": [
      "Layer 13: 100%|██████████| 1050/1050 [00:03<00:00, 333.65it/s]\n"
     ]
    },
    {
     "name": "stdout",
     "output_type": "stream",
     "text": [
      "Created results/by_layer_20250911_112921/by_layer/layer_13/V5_num_p5_V5.npz with 1050 questions\n"
     ]
    },
    {
     "name": "stderr",
     "output_type": "stream",
     "text": [
      "Layer 14: 100%|██████████| 1050/1050 [00:02<00:00, 357.12it/s]\n"
     ]
    },
    {
     "name": "stdout",
     "output_type": "stream",
     "text": [
      "Created results/by_layer_20250911_112921/by_layer/layer_14/V5_num_p5_V5.npz with 1050 questions\n"
     ]
    },
    {
     "name": "stderr",
     "output_type": "stream",
     "text": [
      "Layer 15: 100%|██████████| 1050/1050 [00:04<00:00, 242.13it/s]\n"
     ]
    },
    {
     "name": "stdout",
     "output_type": "stream",
     "text": [
      "Created results/by_layer_20250911_112921/by_layer/layer_15/V5_num_p5_V5.npz with 1050 questions\n"
     ]
    },
    {
     "name": "stderr",
     "output_type": "stream",
     "text": [
      "Layer 16: 100%|██████████| 1050/1050 [00:03<00:00, 337.11it/s]\n"
     ]
    },
    {
     "name": "stdout",
     "output_type": "stream",
     "text": [
      "Created results/by_layer_20250911_112921/by_layer/layer_16/V5_num_p5_V5.npz with 1050 questions\n"
     ]
    },
    {
     "name": "stderr",
     "output_type": "stream",
     "text": [
      "Layer 17: 100%|██████████| 1050/1050 [00:02<00:00, 375.19it/s]\n"
     ]
    },
    {
     "name": "stdout",
     "output_type": "stream",
     "text": [
      "Created results/by_layer_20250911_112921/by_layer/layer_17/V5_num_p5_V5.npz with 1050 questions\n"
     ]
    },
    {
     "name": "stderr",
     "output_type": "stream",
     "text": [
      "Layer 18: 100%|██████████| 1050/1050 [00:02<00:00, 355.75it/s]\n"
     ]
    },
    {
     "name": "stdout",
     "output_type": "stream",
     "text": [
      "Created results/by_layer_20250911_112921/by_layer/layer_18/V5_num_p5_V5.npz with 1050 questions\n"
     ]
    },
    {
     "name": "stderr",
     "output_type": "stream",
     "text": [
      "Layer 19: 100%|██████████| 1050/1050 [00:02<00:00, 351.62it/s]\n"
     ]
    },
    {
     "name": "stdout",
     "output_type": "stream",
     "text": [
      "Created results/by_layer_20250911_112921/by_layer/layer_19/V5_num_p5_V5.npz with 1050 questions\n"
     ]
    },
    {
     "name": "stderr",
     "output_type": "stream",
     "text": [
      "Layer 20: 100%|██████████| 1050/1050 [00:03<00:00, 348.85it/s]\n"
     ]
    },
    {
     "name": "stdout",
     "output_type": "stream",
     "text": [
      "Created results/by_layer_20250911_112921/by_layer/layer_20/V5_num_p5_V5.npz with 1050 questions\n"
     ]
    },
    {
     "name": "stderr",
     "output_type": "stream",
     "text": [
      "Layer 21: 100%|██████████| 1050/1050 [00:03<00:00, 332.24it/s]\n"
     ]
    },
    {
     "name": "stdout",
     "output_type": "stream",
     "text": [
      "Created results/by_layer_20250911_112921/by_layer/layer_21/V5_num_p5_V5.npz with 1050 questions\n"
     ]
    },
    {
     "name": "stderr",
     "output_type": "stream",
     "text": [
      "Layer 22: 100%|██████████| 1050/1050 [00:02<00:00, 374.49it/s]\n"
     ]
    },
    {
     "name": "stdout",
     "output_type": "stream",
     "text": [
      "Created results/by_layer_20250911_112921/by_layer/layer_22/V5_num_p5_V5.npz with 1050 questions\n"
     ]
    },
    {
     "name": "stderr",
     "output_type": "stream",
     "text": [
      "Layer 23: 100%|██████████| 1050/1050 [00:02<00:00, 369.29it/s]\n"
     ]
    },
    {
     "name": "stdout",
     "output_type": "stream",
     "text": [
      "Created results/by_layer_20250911_112921/by_layer/layer_23/V5_num_p5_V5.npz with 1050 questions\n"
     ]
    },
    {
     "name": "stderr",
     "output_type": "stream",
     "text": [
      "Layer 24: 100%|██████████| 1050/1050 [00:02<00:00, 363.48it/s]\n"
     ]
    },
    {
     "name": "stdout",
     "output_type": "stream",
     "text": [
      "Created results/by_layer_20250911_112921/by_layer/layer_24/V5_num_p5_V5.npz with 1050 questions\n"
     ]
    },
    {
     "name": "stderr",
     "output_type": "stream",
     "text": [
      "Layer 25: 100%|██████████| 1050/1050 [00:03<00:00, 340.32it/s]\n"
     ]
    },
    {
     "name": "stdout",
     "output_type": "stream",
     "text": [
      "Created results/by_layer_20250911_112921/by_layer/layer_25/V5_num_p5_V5.npz with 1050 questions\n"
     ]
    },
    {
     "name": "stderr",
     "output_type": "stream",
     "text": [
      "Layer 26: 100%|██████████| 1050/1050 [00:03<00:00, 342.06it/s]\n"
     ]
    },
    {
     "name": "stdout",
     "output_type": "stream",
     "text": [
      "Created results/by_layer_20250911_112921/by_layer/layer_26/V5_num_p5_V5.npz with 1050 questions\n"
     ]
    },
    {
     "name": "stderr",
     "output_type": "stream",
     "text": [
      "Layer 27: 100%|██████████| 1050/1050 [00:03<00:00, 344.97it/s]\n"
     ]
    },
    {
     "name": "stdout",
     "output_type": "stream",
     "text": [
      "Created results/by_layer_20250911_112921/by_layer/layer_27/V5_num_p5_V5.npz with 1050 questions\n"
     ]
    },
    {
     "name": "stderr",
     "output_type": "stream",
     "text": [
      "Layer 28: 100%|██████████| 1050/1050 [00:03<00:00, 344.52it/s]\n"
     ]
    },
    {
     "name": "stdout",
     "output_type": "stream",
     "text": [
      "Created results/by_layer_20250911_112921/by_layer/layer_28/V5_num_p5_V5.npz with 1050 questions\n"
     ]
    },
    {
     "name": "stderr",
     "output_type": "stream",
     "text": [
      "Layer 29: 100%|██████████| 1050/1050 [00:03<00:00, 349.35it/s]\n"
     ]
    },
    {
     "name": "stdout",
     "output_type": "stream",
     "text": [
      "Created results/by_layer_20250911_112921/by_layer/layer_29/V5_num_p5_V5.npz with 1050 questions\n"
     ]
    },
    {
     "name": "stderr",
     "output_type": "stream",
     "text": [
      "Layer 30: 100%|██████████| 1050/1050 [00:02<00:00, 354.87it/s]\n"
     ]
    },
    {
     "name": "stdout",
     "output_type": "stream",
     "text": [
      "Created results/by_layer_20250911_112921/by_layer/layer_30/V5_num_p5_V5.npz with 1050 questions\n"
     ]
    },
    {
     "name": "stderr",
     "output_type": "stream",
     "text": [
      "Layer 31: 100%|██████████| 1050/1050 [00:03<00:00, 331.70it/s]\n"
     ]
    },
    {
     "name": "stdout",
     "output_type": "stream",
     "text": [
      "Created results/by_layer_20250911_112921/by_layer/layer_31/V5_num_p5_V5.npz with 1050 questions\n"
     ]
    },
    {
     "name": "stderr",
     "output_type": "stream",
     "text": [
      "Layer 32: 100%|██████████| 1050/1050 [00:03<00:00, 341.95it/s]\n"
     ]
    },
    {
     "name": "stdout",
     "output_type": "stream",
     "text": [
      "Created results/by_layer_20250911_112921/by_layer/layer_32/V5_num_p5_V5.npz with 1050 questions\n"
     ]
    },
    {
     "name": "stderr",
     "output_type": "stream",
     "text": [
      "Layer 33: 100%|██████████| 1050/1050 [00:03<00:00, 339.78it/s]\n"
     ]
    },
    {
     "name": "stdout",
     "output_type": "stream",
     "text": [
      "Created results/by_layer_20250911_112921/by_layer/layer_33/V5_num_p5_V5.npz with 1050 questions\n"
     ]
    },
    {
     "name": "stderr",
     "output_type": "stream",
     "text": [
      "Layer 34: 100%|██████████| 1050/1050 [00:03<00:00, 337.27it/s]\n"
     ]
    },
    {
     "name": "stdout",
     "output_type": "stream",
     "text": [
      "Created results/by_layer_20250911_112921/by_layer/layer_34/V5_num_p5_V5.npz with 1050 questions\n",
      "\n",
      "Processing experiment 14/60: results/comprehensive_experiments/run_20250911_062422/V2_alpha_p1\n",
      "Processing experiment: results/comprehensive_experiments/run_20250911_062422/V2_alpha_p1\n",
      "File: hidden_states_V2.npz, Layers: 35, Hidden dim: 2560\n"
     ]
    },
    {
     "name": "stderr",
     "output_type": "stream",
     "text": [
      "Layer 00: 100%|██████████| 1050/1050 [00:03<00:00, 313.02it/s]\n"
     ]
    },
    {
     "name": "stdout",
     "output_type": "stream",
     "text": [
      "Created results/by_layer_20250911_112921/by_layer/layer_00/V2_alpha_p1_V2.npz with 1050 questions\n"
     ]
    },
    {
     "name": "stderr",
     "output_type": "stream",
     "text": [
      "Layer 01: 100%|██████████| 1050/1050 [00:03<00:00, 341.39it/s]\n"
     ]
    },
    {
     "name": "stdout",
     "output_type": "stream",
     "text": [
      "Created results/by_layer_20250911_112921/by_layer/layer_01/V2_alpha_p1_V2.npz with 1050 questions\n"
     ]
    },
    {
     "name": "stderr",
     "output_type": "stream",
     "text": [
      "Layer 02: 100%|██████████| 1050/1050 [00:03<00:00, 335.29it/s]\n"
     ]
    },
    {
     "name": "stdout",
     "output_type": "stream",
     "text": [
      "Created results/by_layer_20250911_112921/by_layer/layer_02/V2_alpha_p1_V2.npz with 1050 questions\n"
     ]
    },
    {
     "name": "stderr",
     "output_type": "stream",
     "text": [
      "Layer 03: 100%|██████████| 1050/1050 [00:03<00:00, 338.95it/s]\n"
     ]
    },
    {
     "name": "stdout",
     "output_type": "stream",
     "text": [
      "Created results/by_layer_20250911_112921/by_layer/layer_03/V2_alpha_p1_V2.npz with 1050 questions\n"
     ]
    },
    {
     "name": "stderr",
     "output_type": "stream",
     "text": [
      "Layer 04: 100%|██████████| 1050/1050 [00:03<00:00, 342.90it/s]\n"
     ]
    },
    {
     "name": "stdout",
     "output_type": "stream",
     "text": [
      "Created results/by_layer_20250911_112921/by_layer/layer_04/V2_alpha_p1_V2.npz with 1050 questions\n"
     ]
    },
    {
     "name": "stderr",
     "output_type": "stream",
     "text": [
      "Layer 05: 100%|██████████| 1050/1050 [00:03<00:00, 348.38it/s]\n"
     ]
    },
    {
     "name": "stdout",
     "output_type": "stream",
     "text": [
      "Created results/by_layer_20250911_112921/by_layer/layer_05/V2_alpha_p1_V2.npz with 1050 questions\n"
     ]
    },
    {
     "name": "stderr",
     "output_type": "stream",
     "text": [
      "Layer 06: 100%|██████████| 1050/1050 [00:03<00:00, 341.76it/s]\n"
     ]
    },
    {
     "name": "stdout",
     "output_type": "stream",
     "text": [
      "Created results/by_layer_20250911_112921/by_layer/layer_06/V2_alpha_p1_V2.npz with 1050 questions\n"
     ]
    },
    {
     "name": "stderr",
     "output_type": "stream",
     "text": [
      "Layer 07: 100%|██████████| 1050/1050 [00:03<00:00, 332.08it/s]\n"
     ]
    },
    {
     "name": "stdout",
     "output_type": "stream",
     "text": [
      "Created results/by_layer_20250911_112921/by_layer/layer_07/V2_alpha_p1_V2.npz with 1050 questions\n"
     ]
    },
    {
     "name": "stderr",
     "output_type": "stream",
     "text": [
      "Layer 08: 100%|██████████| 1050/1050 [00:04<00:00, 254.15it/s]\n"
     ]
    },
    {
     "name": "stdout",
     "output_type": "stream",
     "text": [
      "Created results/by_layer_20250911_112921/by_layer/layer_08/V2_alpha_p1_V2.npz with 1050 questions\n"
     ]
    },
    {
     "name": "stderr",
     "output_type": "stream",
     "text": [
      "Layer 09: 100%|██████████| 1050/1050 [00:03<00:00, 334.99it/s]\n"
     ]
    },
    {
     "name": "stdout",
     "output_type": "stream",
     "text": [
      "Created results/by_layer_20250911_112921/by_layer/layer_09/V2_alpha_p1_V2.npz with 1050 questions\n"
     ]
    },
    {
     "name": "stderr",
     "output_type": "stream",
     "text": [
      "Layer 10: 100%|██████████| 1050/1050 [00:02<00:00, 350.00it/s]\n"
     ]
    },
    {
     "name": "stdout",
     "output_type": "stream",
     "text": [
      "Created results/by_layer_20250911_112921/by_layer/layer_10/V2_alpha_p1_V2.npz with 1050 questions\n"
     ]
    },
    {
     "name": "stderr",
     "output_type": "stream",
     "text": [
      "Layer 11: 100%|██████████| 1050/1050 [00:03<00:00, 342.54it/s]\n"
     ]
    },
    {
     "name": "stdout",
     "output_type": "stream",
     "text": [
      "Created results/by_layer_20250911_112921/by_layer/layer_11/V2_alpha_p1_V2.npz with 1050 questions\n"
     ]
    },
    {
     "name": "stderr",
     "output_type": "stream",
     "text": [
      "Layer 12: 100%|██████████| 1050/1050 [00:03<00:00, 343.92it/s]\n"
     ]
    },
    {
     "name": "stdout",
     "output_type": "stream",
     "text": [
      "Created results/by_layer_20250911_112921/by_layer/layer_12/V2_alpha_p1_V2.npz with 1050 questions\n"
     ]
    },
    {
     "name": "stderr",
     "output_type": "stream",
     "text": [
      "Layer 13: 100%|██████████| 1050/1050 [00:03<00:00, 332.13it/s]\n"
     ]
    },
    {
     "name": "stdout",
     "output_type": "stream",
     "text": [
      "Created results/by_layer_20250911_112921/by_layer/layer_13/V2_alpha_p1_V2.npz with 1050 questions\n"
     ]
    },
    {
     "name": "stderr",
     "output_type": "stream",
     "text": [
      "Layer 14: 100%|██████████| 1050/1050 [00:03<00:00, 347.86it/s]\n"
     ]
    },
    {
     "name": "stdout",
     "output_type": "stream",
     "text": [
      "Created results/by_layer_20250911_112921/by_layer/layer_14/V2_alpha_p1_V2.npz with 1050 questions\n"
     ]
    },
    {
     "name": "stderr",
     "output_type": "stream",
     "text": [
      "Layer 15: 100%|██████████| 1050/1050 [00:03<00:00, 330.60it/s]\n"
     ]
    },
    {
     "name": "stdout",
     "output_type": "stream",
     "text": [
      "Created results/by_layer_20250911_112921/by_layer/layer_15/V2_alpha_p1_V2.npz with 1050 questions\n"
     ]
    },
    {
     "name": "stderr",
     "output_type": "stream",
     "text": [
      "Layer 16: 100%|██████████| 1050/1050 [00:03<00:00, 346.57it/s]\n"
     ]
    },
    {
     "name": "stdout",
     "output_type": "stream",
     "text": [
      "Created results/by_layer_20250911_112921/by_layer/layer_16/V2_alpha_p1_V2.npz with 1050 questions\n"
     ]
    },
    {
     "name": "stderr",
     "output_type": "stream",
     "text": [
      "Layer 17: 100%|██████████| 1050/1050 [00:02<00:00, 358.50it/s]\n"
     ]
    },
    {
     "name": "stdout",
     "output_type": "stream",
     "text": [
      "Created results/by_layer_20250911_112921/by_layer/layer_17/V2_alpha_p1_V2.npz with 1050 questions\n"
     ]
    },
    {
     "name": "stderr",
     "output_type": "stream",
     "text": [
      "Layer 18: 100%|██████████| 1050/1050 [00:03<00:00, 347.35it/s]\n"
     ]
    },
    {
     "name": "stdout",
     "output_type": "stream",
     "text": [
      "Created results/by_layer_20250911_112921/by_layer/layer_18/V2_alpha_p1_V2.npz with 1050 questions\n"
     ]
    },
    {
     "name": "stderr",
     "output_type": "stream",
     "text": [
      "Layer 19: 100%|██████████| 1050/1050 [00:03<00:00, 271.34it/s]\n"
     ]
    },
    {
     "name": "stdout",
     "output_type": "stream",
     "text": [
      "Created results/by_layer_20250911_112921/by_layer/layer_19/V2_alpha_p1_V2.npz with 1050 questions\n"
     ]
    },
    {
     "name": "stderr",
     "output_type": "stream",
     "text": [
      "Layer 20: 100%|██████████| 1050/1050 [00:03<00:00, 345.19it/s]\n"
     ]
    },
    {
     "name": "stdout",
     "output_type": "stream",
     "text": [
      "Created results/by_layer_20250911_112921/by_layer/layer_20/V2_alpha_p1_V2.npz with 1050 questions\n"
     ]
    },
    {
     "name": "stderr",
     "output_type": "stream",
     "text": [
      "Layer 21: 100%|██████████| 1050/1050 [00:02<00:00, 350.32it/s]\n"
     ]
    },
    {
     "name": "stdout",
     "output_type": "stream",
     "text": [
      "Created results/by_layer_20250911_112921/by_layer/layer_21/V2_alpha_p1_V2.npz with 1050 questions\n"
     ]
    },
    {
     "name": "stderr",
     "output_type": "stream",
     "text": [
      "Layer 22: 100%|██████████| 1050/1050 [00:02<00:00, 350.87it/s]\n"
     ]
    },
    {
     "name": "stdout",
     "output_type": "stream",
     "text": [
      "Created results/by_layer_20250911_112921/by_layer/layer_22/V2_alpha_p1_V2.npz with 1050 questions\n"
     ]
    },
    {
     "name": "stderr",
     "output_type": "stream",
     "text": [
      "Layer 23: 100%|██████████| 1050/1050 [00:03<00:00, 348.26it/s]\n"
     ]
    },
    {
     "name": "stdout",
     "output_type": "stream",
     "text": [
      "Created results/by_layer_20250911_112921/by_layer/layer_23/V2_alpha_p1_V2.npz with 1050 questions\n"
     ]
    },
    {
     "name": "stderr",
     "output_type": "stream",
     "text": [
      "Layer 24: 100%|██████████| 1050/1050 [00:03<00:00, 345.58it/s]\n"
     ]
    },
    {
     "name": "stdout",
     "output_type": "stream",
     "text": [
      "Created results/by_layer_20250911_112921/by_layer/layer_24/V2_alpha_p1_V2.npz with 1050 questions\n"
     ]
    },
    {
     "name": "stderr",
     "output_type": "stream",
     "text": [
      "Layer 25: 100%|██████████| 1050/1050 [00:03<00:00, 348.86it/s]\n"
     ]
    },
    {
     "name": "stdout",
     "output_type": "stream",
     "text": [
      "Created results/by_layer_20250911_112921/by_layer/layer_25/V2_alpha_p1_V2.npz with 1050 questions\n"
     ]
    },
    {
     "name": "stderr",
     "output_type": "stream",
     "text": [
      "Layer 26: 100%|██████████| 1050/1050 [00:03<00:00, 345.52it/s]\n"
     ]
    },
    {
     "name": "stdout",
     "output_type": "stream",
     "text": [
      "Created results/by_layer_20250911_112921/by_layer/layer_26/V2_alpha_p1_V2.npz with 1050 questions\n"
     ]
    },
    {
     "name": "stderr",
     "output_type": "stream",
     "text": [
      "Layer 27: 100%|██████████| 1050/1050 [00:02<00:00, 353.70it/s]\n"
     ]
    },
    {
     "name": "stdout",
     "output_type": "stream",
     "text": [
      "Created results/by_layer_20250911_112921/by_layer/layer_27/V2_alpha_p1_V2.npz with 1050 questions\n"
     ]
    },
    {
     "name": "stderr",
     "output_type": "stream",
     "text": [
      "Layer 28: 100%|██████████| 1050/1050 [00:02<00:00, 350.14it/s]\n"
     ]
    },
    {
     "name": "stdout",
     "output_type": "stream",
     "text": [
      "Created results/by_layer_20250911_112921/by_layer/layer_28/V2_alpha_p1_V2.npz with 1050 questions\n"
     ]
    },
    {
     "name": "stderr",
     "output_type": "stream",
     "text": [
      "Layer 29: 100%|██████████| 1050/1050 [00:02<00:00, 353.93it/s]\n"
     ]
    },
    {
     "name": "stdout",
     "output_type": "stream",
     "text": [
      "Created results/by_layer_20250911_112921/by_layer/layer_29/V2_alpha_p1_V2.npz with 1050 questions\n"
     ]
    },
    {
     "name": "stderr",
     "output_type": "stream",
     "text": [
      "Layer 30: 100%|██████████| 1050/1050 [00:03<00:00, 267.84it/s]\n"
     ]
    },
    {
     "name": "stdout",
     "output_type": "stream",
     "text": [
      "Created results/by_layer_20250911_112921/by_layer/layer_30/V2_alpha_p1_V2.npz with 1050 questions\n"
     ]
    },
    {
     "name": "stderr",
     "output_type": "stream",
     "text": [
      "Layer 31: 100%|██████████| 1050/1050 [00:02<00:00, 354.22it/s]\n"
     ]
    },
    {
     "name": "stdout",
     "output_type": "stream",
     "text": [
      "Created results/by_layer_20250911_112921/by_layer/layer_31/V2_alpha_p1_V2.npz with 1050 questions\n"
     ]
    },
    {
     "name": "stderr",
     "output_type": "stream",
     "text": [
      "Layer 32: 100%|██████████| 1050/1050 [00:02<00:00, 351.57it/s]\n"
     ]
    },
    {
     "name": "stdout",
     "output_type": "stream",
     "text": [
      "Created results/by_layer_20250911_112921/by_layer/layer_32/V2_alpha_p1_V2.npz with 1050 questions\n"
     ]
    },
    {
     "name": "stderr",
     "output_type": "stream",
     "text": [
      "Layer 33: 100%|██████████| 1050/1050 [00:02<00:00, 351.29it/s]\n"
     ]
    },
    {
     "name": "stdout",
     "output_type": "stream",
     "text": [
      "Created results/by_layer_20250911_112921/by_layer/layer_33/V2_alpha_p1_V2.npz with 1050 questions\n"
     ]
    },
    {
     "name": "stderr",
     "output_type": "stream",
     "text": [
      "Layer 34: 100%|██████████| 1050/1050 [00:03<00:00, 345.16it/s]\n"
     ]
    },
    {
     "name": "stdout",
     "output_type": "stream",
     "text": [
      "Created results/by_layer_20250911_112921/by_layer/layer_34/V2_alpha_p1_V2.npz with 1050 questions\n",
      "\n",
      "Processing experiment 15/60: results/comprehensive_experiments/run_20250911_062422/V3_num_p5\n",
      "Processing experiment: results/comprehensive_experiments/run_20250911_062422/V3_num_p5\n",
      "File: hidden_states_V3.npz, Layers: 35, Hidden dim: 2560\n"
     ]
    },
    {
     "name": "stderr",
     "output_type": "stream",
     "text": [
      "Layer 00: 100%|██████████| 1050/1050 [00:03<00:00, 322.18it/s]\n"
     ]
    },
    {
     "name": "stdout",
     "output_type": "stream",
     "text": [
      "Created results/by_layer_20250911_112921/by_layer/layer_00/V3_num_p5_V3.npz with 1050 questions\n"
     ]
    },
    {
     "name": "stderr",
     "output_type": "stream",
     "text": [
      "Layer 01: 100%|██████████| 1050/1050 [00:04<00:00, 260.14it/s]\n"
     ]
    },
    {
     "name": "stdout",
     "output_type": "stream",
     "text": [
      "Created results/by_layer_20250911_112921/by_layer/layer_01/V3_num_p5_V3.npz with 1050 questions\n"
     ]
    },
    {
     "name": "stderr",
     "output_type": "stream",
     "text": [
      "Layer 02: 100%|██████████| 1050/1050 [00:03<00:00, 346.87it/s]\n"
     ]
    },
    {
     "name": "stdout",
     "output_type": "stream",
     "text": [
      "Created results/by_layer_20250911_112921/by_layer/layer_02/V3_num_p5_V3.npz with 1050 questions\n"
     ]
    },
    {
     "name": "stderr",
     "output_type": "stream",
     "text": [
      "Layer 03: 100%|██████████| 1050/1050 [00:03<00:00, 332.98it/s]\n"
     ]
    },
    {
     "name": "stdout",
     "output_type": "stream",
     "text": [
      "Created results/by_layer_20250911_112921/by_layer/layer_03/V3_num_p5_V3.npz with 1050 questions\n"
     ]
    },
    {
     "name": "stderr",
     "output_type": "stream",
     "text": [
      "Layer 04: 100%|██████████| 1050/1050 [00:03<00:00, 334.47it/s]\n"
     ]
    },
    {
     "name": "stdout",
     "output_type": "stream",
     "text": [
      "Created results/by_layer_20250911_112921/by_layer/layer_04/V3_num_p5_V3.npz with 1050 questions\n"
     ]
    },
    {
     "name": "stderr",
     "output_type": "stream",
     "text": [
      "Layer 05: 100%|██████████| 1050/1050 [00:03<00:00, 339.42it/s]\n"
     ]
    },
    {
     "name": "stdout",
     "output_type": "stream",
     "text": [
      "Created results/by_layer_20250911_112921/by_layer/layer_05/V3_num_p5_V3.npz with 1050 questions\n"
     ]
    },
    {
     "name": "stderr",
     "output_type": "stream",
     "text": [
      "Layer 06: 100%|██████████| 1050/1050 [00:03<00:00, 341.87it/s]\n"
     ]
    },
    {
     "name": "stdout",
     "output_type": "stream",
     "text": [
      "Created results/by_layer_20250911_112921/by_layer/layer_06/V3_num_p5_V3.npz with 1050 questions\n"
     ]
    },
    {
     "name": "stderr",
     "output_type": "stream",
     "text": [
      "Layer 07: 100%|██████████| 1050/1050 [00:03<00:00, 342.01it/s]\n"
     ]
    },
    {
     "name": "stdout",
     "output_type": "stream",
     "text": [
      "Created results/by_layer_20250911_112921/by_layer/layer_07/V3_num_p5_V3.npz with 1050 questions\n"
     ]
    },
    {
     "name": "stderr",
     "output_type": "stream",
     "text": [
      "Layer 08: 100%|██████████| 1050/1050 [00:03<00:00, 348.04it/s]\n"
     ]
    },
    {
     "name": "stdout",
     "output_type": "stream",
     "text": [
      "Created results/by_layer_20250911_112921/by_layer/layer_08/V3_num_p5_V3.npz with 1050 questions\n"
     ]
    },
    {
     "name": "stderr",
     "output_type": "stream",
     "text": [
      "Layer 09: 100%|██████████| 1050/1050 [00:03<00:00, 342.39it/s]\n"
     ]
    },
    {
     "name": "stdout",
     "output_type": "stream",
     "text": [
      "Created results/by_layer_20250911_112921/by_layer/layer_09/V3_num_p5_V3.npz with 1050 questions\n"
     ]
    },
    {
     "name": "stderr",
     "output_type": "stream",
     "text": [
      "Layer 10: 100%|██████████| 1050/1050 [00:03<00:00, 343.75it/s]\n"
     ]
    },
    {
     "name": "stdout",
     "output_type": "stream",
     "text": [
      "Created results/by_layer_20250911_112921/by_layer/layer_10/V3_num_p5_V3.npz with 1050 questions\n"
     ]
    },
    {
     "name": "stderr",
     "output_type": "stream",
     "text": [
      "Layer 11: 100%|██████████| 1050/1050 [00:03<00:00, 335.72it/s]\n"
     ]
    },
    {
     "name": "stdout",
     "output_type": "stream",
     "text": [
      "Created results/by_layer_20250911_112921/by_layer/layer_11/V3_num_p5_V3.npz with 1050 questions\n"
     ]
    },
    {
     "name": "stderr",
     "output_type": "stream",
     "text": [
      "Layer 12: 100%|██████████| 1050/1050 [00:04<00:00, 256.19it/s]\n"
     ]
    },
    {
     "name": "stdout",
     "output_type": "stream",
     "text": [
      "Created results/by_layer_20250911_112921/by_layer/layer_12/V3_num_p5_V3.npz with 1050 questions\n"
     ]
    },
    {
     "name": "stderr",
     "output_type": "stream",
     "text": [
      "Layer 13: 100%|██████████| 1050/1050 [00:03<00:00, 348.63it/s]\n"
     ]
    },
    {
     "name": "stdout",
     "output_type": "stream",
     "text": [
      "Created results/by_layer_20250911_112921/by_layer/layer_13/V3_num_p5_V3.npz with 1050 questions\n"
     ]
    },
    {
     "name": "stderr",
     "output_type": "stream",
     "text": [
      "Layer 14: 100%|██████████| 1050/1050 [00:02<00:00, 352.94it/s]\n"
     ]
    },
    {
     "name": "stdout",
     "output_type": "stream",
     "text": [
      "Created results/by_layer_20250911_112921/by_layer/layer_14/V3_num_p5_V3.npz with 1050 questions\n"
     ]
    },
    {
     "name": "stderr",
     "output_type": "stream",
     "text": [
      "Layer 15: 100%|██████████| 1050/1050 [00:02<00:00, 352.25it/s]\n"
     ]
    },
    {
     "name": "stdout",
     "output_type": "stream",
     "text": [
      "Created results/by_layer_20250911_112921/by_layer/layer_15/V3_num_p5_V3.npz with 1050 questions\n"
     ]
    },
    {
     "name": "stderr",
     "output_type": "stream",
     "text": [
      "Layer 16: 100%|██████████| 1050/1050 [00:03<00:00, 348.39it/s]\n"
     ]
    },
    {
     "name": "stdout",
     "output_type": "stream",
     "text": [
      "Created results/by_layer_20250911_112921/by_layer/layer_16/V3_num_p5_V3.npz with 1050 questions\n"
     ]
    },
    {
     "name": "stderr",
     "output_type": "stream",
     "text": [
      "Layer 17: 100%|██████████| 1050/1050 [00:03<00:00, 339.97it/s]\n"
     ]
    },
    {
     "name": "stdout",
     "output_type": "stream",
     "text": [
      "Created results/by_layer_20250911_112921/by_layer/layer_17/V3_num_p5_V3.npz with 1050 questions\n"
     ]
    },
    {
     "name": "stderr",
     "output_type": "stream",
     "text": [
      "Layer 18: 100%|██████████| 1050/1050 [00:03<00:00, 339.79it/s]\n"
     ]
    },
    {
     "name": "stdout",
     "output_type": "stream",
     "text": [
      "Created results/by_layer_20250911_112921/by_layer/layer_18/V3_num_p5_V3.npz with 1050 questions\n"
     ]
    },
    {
     "name": "stderr",
     "output_type": "stream",
     "text": [
      "Layer 19: 100%|██████████| 1050/1050 [00:03<00:00, 341.90it/s]\n"
     ]
    },
    {
     "name": "stdout",
     "output_type": "stream",
     "text": [
      "Created results/by_layer_20250911_112921/by_layer/layer_19/V3_num_p5_V3.npz with 1050 questions\n"
     ]
    },
    {
     "name": "stderr",
     "output_type": "stream",
     "text": [
      "Layer 20: 100%|██████████| 1050/1050 [00:02<00:00, 353.59it/s]\n"
     ]
    },
    {
     "name": "stdout",
     "output_type": "stream",
     "text": [
      "Created results/by_layer_20250911_112921/by_layer/layer_20/V3_num_p5_V3.npz with 1050 questions\n"
     ]
    },
    {
     "name": "stderr",
     "output_type": "stream",
     "text": [
      "Layer 21: 100%|██████████| 1050/1050 [00:03<00:00, 341.06it/s]\n"
     ]
    },
    {
     "name": "stdout",
     "output_type": "stream",
     "text": [
      "Created results/by_layer_20250911_112921/by_layer/layer_21/V3_num_p5_V3.npz with 1050 questions\n"
     ]
    },
    {
     "name": "stderr",
     "output_type": "stream",
     "text": [
      "Layer 22: 100%|██████████| 1050/1050 [00:03<00:00, 348.82it/s]\n"
     ]
    },
    {
     "name": "stdout",
     "output_type": "stream",
     "text": [
      "Created results/by_layer_20250911_112921/by_layer/layer_22/V3_num_p5_V3.npz with 1050 questions\n"
     ]
    },
    {
     "name": "stderr",
     "output_type": "stream",
     "text": [
      "Layer 23: 100%|██████████| 1050/1050 [00:03<00:00, 265.87it/s]\n"
     ]
    },
    {
     "name": "stdout",
     "output_type": "stream",
     "text": [
      "Created results/by_layer_20250911_112921/by_layer/layer_23/V3_num_p5_V3.npz with 1050 questions\n"
     ]
    },
    {
     "name": "stderr",
     "output_type": "stream",
     "text": [
      "Layer 24: 100%|██████████| 1050/1050 [00:03<00:00, 345.63it/s]\n"
     ]
    },
    {
     "name": "stdout",
     "output_type": "stream",
     "text": [
      "Created results/by_layer_20250911_112921/by_layer/layer_24/V3_num_p5_V3.npz with 1050 questions\n"
     ]
    },
    {
     "name": "stderr",
     "output_type": "stream",
     "text": [
      "Layer 25: 100%|██████████| 1050/1050 [00:02<00:00, 357.00it/s]\n"
     ]
    },
    {
     "name": "stdout",
     "output_type": "stream",
     "text": [
      "Created results/by_layer_20250911_112921/by_layer/layer_25/V3_num_p5_V3.npz with 1050 questions\n"
     ]
    },
    {
     "name": "stderr",
     "output_type": "stream",
     "text": [
      "Layer 26: 100%|██████████| 1050/1050 [00:03<00:00, 343.62it/s]\n"
     ]
    },
    {
     "name": "stdout",
     "output_type": "stream",
     "text": [
      "Created results/by_layer_20250911_112921/by_layer/layer_26/V3_num_p5_V3.npz with 1050 questions\n"
     ]
    },
    {
     "name": "stderr",
     "output_type": "stream",
     "text": [
      "Layer 27: 100%|██████████| 1050/1050 [00:03<00:00, 347.04it/s]\n"
     ]
    },
    {
     "name": "stdout",
     "output_type": "stream",
     "text": [
      "Created results/by_layer_20250911_112921/by_layer/layer_27/V3_num_p5_V3.npz with 1050 questions\n"
     ]
    },
    {
     "name": "stderr",
     "output_type": "stream",
     "text": [
      "Layer 28: 100%|██████████| 1050/1050 [00:03<00:00, 344.70it/s]\n"
     ]
    },
    {
     "name": "stdout",
     "output_type": "stream",
     "text": [
      "Created results/by_layer_20250911_112921/by_layer/layer_28/V3_num_p5_V3.npz with 1050 questions\n"
     ]
    },
    {
     "name": "stderr",
     "output_type": "stream",
     "text": [
      "Layer 29: 100%|██████████| 1050/1050 [00:03<00:00, 343.15it/s]\n"
     ]
    },
    {
     "name": "stdout",
     "output_type": "stream",
     "text": [
      "Created results/by_layer_20250911_112921/by_layer/layer_29/V3_num_p5_V3.npz with 1050 questions\n"
     ]
    },
    {
     "name": "stderr",
     "output_type": "stream",
     "text": [
      "Layer 30: 100%|██████████| 1050/1050 [00:02<00:00, 361.29it/s]\n"
     ]
    },
    {
     "name": "stdout",
     "output_type": "stream",
     "text": [
      "Created results/by_layer_20250911_112921/by_layer/layer_30/V3_num_p5_V3.npz with 1050 questions\n"
     ]
    },
    {
     "name": "stderr",
     "output_type": "stream",
     "text": [
      "Layer 31: 100%|██████████| 1050/1050 [00:03<00:00, 344.02it/s]\n"
     ]
    },
    {
     "name": "stdout",
     "output_type": "stream",
     "text": [
      "Created results/by_layer_20250911_112921/by_layer/layer_31/V3_num_p5_V3.npz with 1050 questions\n"
     ]
    },
    {
     "name": "stderr",
     "output_type": "stream",
     "text": [
      "Layer 32: 100%|██████████| 1050/1050 [00:02<00:00, 350.52it/s]\n"
     ]
    },
    {
     "name": "stdout",
     "output_type": "stream",
     "text": [
      "Created results/by_layer_20250911_112921/by_layer/layer_32/V3_num_p5_V3.npz with 1050 questions\n"
     ]
    },
    {
     "name": "stderr",
     "output_type": "stream",
     "text": [
      "Layer 33: 100%|██████████| 1050/1050 [00:03<00:00, 348.43it/s]\n"
     ]
    },
    {
     "name": "stdout",
     "output_type": "stream",
     "text": [
      "Created results/by_layer_20250911_112921/by_layer/layer_33/V3_num_p5_V3.npz with 1050 questions\n"
     ]
    },
    {
     "name": "stderr",
     "output_type": "stream",
     "text": [
      "Layer 34: 100%|██████████| 1050/1050 [00:04<00:00, 261.61it/s]\n"
     ]
    },
    {
     "name": "stdout",
     "output_type": "stream",
     "text": [
      "Created results/by_layer_20250911_112921/by_layer/layer_34/V3_num_p5_V3.npz with 1050 questions\n",
      "\n",
      "Processing experiment 16/60: results/comprehensive_experiments/run_20250911_062422/V5_num_p3\n",
      "Processing experiment: results/comprehensive_experiments/run_20250911_062422/V5_num_p3\n",
      "File: hidden_states_V5.npz, Layers: 35, Hidden dim: 2560\n"
     ]
    },
    {
     "name": "stderr",
     "output_type": "stream",
     "text": [
      "Layer 00: 100%|██████████| 1050/1050 [00:02<00:00, 357.46it/s]\n"
     ]
    },
    {
     "name": "stdout",
     "output_type": "stream",
     "text": [
      "Created results/by_layer_20250911_112921/by_layer/layer_00/V5_num_p3_V5.npz with 1050 questions\n"
     ]
    },
    {
     "name": "stderr",
     "output_type": "stream",
     "text": [
      "Layer 01: 100%|██████████| 1050/1050 [00:03<00:00, 344.93it/s]\n"
     ]
    },
    {
     "name": "stdout",
     "output_type": "stream",
     "text": [
      "Created results/by_layer_20250911_112921/by_layer/layer_01/V5_num_p3_V5.npz with 1050 questions\n"
     ]
    },
    {
     "name": "stderr",
     "output_type": "stream",
     "text": [
      "Layer 02: 100%|██████████| 1050/1050 [00:02<00:00, 365.01it/s]\n"
     ]
    },
    {
     "name": "stdout",
     "output_type": "stream",
     "text": [
      "Created results/by_layer_20250911_112921/by_layer/layer_02/V5_num_p3_V5.npz with 1050 questions\n"
     ]
    },
    {
     "name": "stderr",
     "output_type": "stream",
     "text": [
      "Layer 03: 100%|██████████| 1050/1050 [00:02<00:00, 351.21it/s]\n"
     ]
    },
    {
     "name": "stdout",
     "output_type": "stream",
     "text": [
      "Created results/by_layer_20250911_112921/by_layer/layer_03/V5_num_p3_V5.npz with 1050 questions\n"
     ]
    },
    {
     "name": "stderr",
     "output_type": "stream",
     "text": [
      "Layer 04: 100%|██████████| 1050/1050 [00:02<00:00, 352.31it/s]\n"
     ]
    },
    {
     "name": "stdout",
     "output_type": "stream",
     "text": [
      "Created results/by_layer_20250911_112921/by_layer/layer_04/V5_num_p3_V5.npz with 1050 questions\n"
     ]
    },
    {
     "name": "stderr",
     "output_type": "stream",
     "text": [
      "Layer 05: 100%|██████████| 1050/1050 [00:03<00:00, 344.25it/s]\n"
     ]
    },
    {
     "name": "stdout",
     "output_type": "stream",
     "text": [
      "Created results/by_layer_20250911_112921/by_layer/layer_05/V5_num_p3_V5.npz with 1050 questions\n"
     ]
    },
    {
     "name": "stderr",
     "output_type": "stream",
     "text": [
      "Layer 06: 100%|██████████| 1050/1050 [00:03<00:00, 347.25it/s]\n"
     ]
    },
    {
     "name": "stdout",
     "output_type": "stream",
     "text": [
      "Created results/by_layer_20250911_112921/by_layer/layer_06/V5_num_p3_V5.npz with 1050 questions\n"
     ]
    },
    {
     "name": "stderr",
     "output_type": "stream",
     "text": [
      "Layer 07: 100%|██████████| 1050/1050 [00:03<00:00, 341.70it/s]\n"
     ]
    },
    {
     "name": "stdout",
     "output_type": "stream",
     "text": [
      "Created results/by_layer_20250911_112921/by_layer/layer_07/V5_num_p3_V5.npz with 1050 questions\n"
     ]
    },
    {
     "name": "stderr",
     "output_type": "stream",
     "text": [
      "Layer 08: 100%|██████████| 1050/1050 [00:02<00:00, 350.25it/s]\n"
     ]
    },
    {
     "name": "stdout",
     "output_type": "stream",
     "text": [
      "Created results/by_layer_20250911_112921/by_layer/layer_08/V5_num_p3_V5.npz with 1050 questions\n"
     ]
    },
    {
     "name": "stderr",
     "output_type": "stream",
     "text": [
      "Layer 09: 100%|██████████| 1050/1050 [00:03<00:00, 320.32it/s]\n"
     ]
    },
    {
     "name": "stdout",
     "output_type": "stream",
     "text": [
      "Created results/by_layer_20250911_112921/by_layer/layer_09/V5_num_p3_V5.npz with 1050 questions\n"
     ]
    },
    {
     "name": "stderr",
     "output_type": "stream",
     "text": [
      "Layer 10: 100%|██████████| 1050/1050 [00:03<00:00, 338.53it/s]\n"
     ]
    },
    {
     "name": "stdout",
     "output_type": "stream",
     "text": [
      "Created results/by_layer_20250911_112921/by_layer/layer_10/V5_num_p3_V5.npz with 1050 questions\n"
     ]
    },
    {
     "name": "stderr",
     "output_type": "stream",
     "text": [
      "Layer 11: 100%|██████████| 1050/1050 [00:03<00:00, 338.95it/s]\n"
     ]
    },
    {
     "name": "stdout",
     "output_type": "stream",
     "text": [
      "Created results/by_layer_20250911_112921/by_layer/layer_11/V5_num_p3_V5.npz with 1050 questions\n"
     ]
    },
    {
     "name": "stderr",
     "output_type": "stream",
     "text": [
      "Layer 12: 100%|██████████| 1050/1050 [00:03<00:00, 345.46it/s]\n"
     ]
    },
    {
     "name": "stdout",
     "output_type": "stream",
     "text": [
      "Created results/by_layer_20250911_112921/by_layer/layer_12/V5_num_p3_V5.npz with 1050 questions\n"
     ]
    },
    {
     "name": "stderr",
     "output_type": "stream",
     "text": [
      "Layer 13: 100%|██████████| 1050/1050 [00:03<00:00, 346.43it/s]\n"
     ]
    },
    {
     "name": "stdout",
     "output_type": "stream",
     "text": [
      "Created results/by_layer_20250911_112921/by_layer/layer_13/V5_num_p3_V5.npz with 1050 questions\n"
     ]
    },
    {
     "name": "stderr",
     "output_type": "stream",
     "text": [
      "Layer 14: 100%|██████████| 1050/1050 [00:03<00:00, 349.48it/s]\n"
     ]
    },
    {
     "name": "stdout",
     "output_type": "stream",
     "text": [
      "Created results/by_layer_20250911_112921/by_layer/layer_14/V5_num_p3_V5.npz with 1050 questions\n"
     ]
    },
    {
     "name": "stderr",
     "output_type": "stream",
     "text": [
      "Layer 15: 100%|██████████| 1050/1050 [00:03<00:00, 345.24it/s]\n"
     ]
    },
    {
     "name": "stdout",
     "output_type": "stream",
     "text": [
      "Created results/by_layer_20250911_112921/by_layer/layer_15/V5_num_p3_V5.npz with 1050 questions\n"
     ]
    },
    {
     "name": "stderr",
     "output_type": "stream",
     "text": [
      "Layer 16: 100%|██████████| 1050/1050 [00:03<00:00, 348.54it/s]\n"
     ]
    },
    {
     "name": "stdout",
     "output_type": "stream",
     "text": [
      "Created results/by_layer_20250911_112921/by_layer/layer_16/V5_num_p3_V5.npz with 1050 questions\n"
     ]
    },
    {
     "name": "stderr",
     "output_type": "stream",
     "text": [
      "Layer 17: 100%|██████████| 1050/1050 [00:03<00:00, 327.92it/s]\n"
     ]
    },
    {
     "name": "stdout",
     "output_type": "stream",
     "text": [
      "Created results/by_layer_20250911_112921/by_layer/layer_17/V5_num_p3_V5.npz with 1050 questions\n"
     ]
    },
    {
     "name": "stderr",
     "output_type": "stream",
     "text": [
      "Layer 18: 100%|██████████| 1050/1050 [00:03<00:00, 315.59it/s]\n"
     ]
    },
    {
     "name": "stdout",
     "output_type": "stream",
     "text": [
      "Created results/by_layer_20250911_112921/by_layer/layer_18/V5_num_p3_V5.npz with 1050 questions\n"
     ]
    },
    {
     "name": "stderr",
     "output_type": "stream",
     "text": [
      "Layer 19: 100%|██████████| 1050/1050 [00:03<00:00, 329.43it/s]\n"
     ]
    },
    {
     "name": "stdout",
     "output_type": "stream",
     "text": [
      "Created results/by_layer_20250911_112921/by_layer/layer_19/V5_num_p3_V5.npz with 1050 questions\n"
     ]
    },
    {
     "name": "stderr",
     "output_type": "stream",
     "text": [
      "Layer 20: 100%|██████████| 1050/1050 [00:03<00:00, 338.99it/s]\n"
     ]
    },
    {
     "name": "stdout",
     "output_type": "stream",
     "text": [
      "Created results/by_layer_20250911_112921/by_layer/layer_20/V5_num_p3_V5.npz with 1050 questions\n"
     ]
    },
    {
     "name": "stderr",
     "output_type": "stream",
     "text": [
      "Layer 21: 100%|██████████| 1050/1050 [00:03<00:00, 339.51it/s]\n"
     ]
    },
    {
     "name": "stdout",
     "output_type": "stream",
     "text": [
      "Created results/by_layer_20250911_112921/by_layer/layer_21/V5_num_p3_V5.npz with 1050 questions\n"
     ]
    },
    {
     "name": "stderr",
     "output_type": "stream",
     "text": [
      "Layer 22: 100%|██████████| 1050/1050 [00:03<00:00, 340.84it/s]\n"
     ]
    },
    {
     "name": "stdout",
     "output_type": "stream",
     "text": [
      "Created results/by_layer_20250911_112921/by_layer/layer_22/V5_num_p3_V5.npz with 1050 questions\n"
     ]
    },
    {
     "name": "stderr",
     "output_type": "stream",
     "text": [
      "Layer 23: 100%|██████████| 1050/1050 [00:03<00:00, 345.77it/s]\n"
     ]
    },
    {
     "name": "stdout",
     "output_type": "stream",
     "text": [
      "Created results/by_layer_20250911_112921/by_layer/layer_23/V5_num_p3_V5.npz with 1050 questions\n"
     ]
    },
    {
     "name": "stderr",
     "output_type": "stream",
     "text": [
      "Layer 24: 100%|██████████| 1050/1050 [00:03<00:00, 339.52it/s]\n"
     ]
    },
    {
     "name": "stdout",
     "output_type": "stream",
     "text": [
      "Created results/by_layer_20250911_112921/by_layer/layer_24/V5_num_p3_V5.npz with 1050 questions\n"
     ]
    },
    {
     "name": "stderr",
     "output_type": "stream",
     "text": [
      "Layer 25: 100%|██████████| 1050/1050 [00:03<00:00, 336.46it/s]\n"
     ]
    },
    {
     "name": "stdout",
     "output_type": "stream",
     "text": [
      "Created results/by_layer_20250911_112921/by_layer/layer_25/V5_num_p3_V5.npz with 1050 questions\n"
     ]
    },
    {
     "name": "stderr",
     "output_type": "stream",
     "text": [
      "Layer 26: 100%|██████████| 1050/1050 [00:03<00:00, 337.89it/s]\n"
     ]
    },
    {
     "name": "stdout",
     "output_type": "stream",
     "text": [
      "Created results/by_layer_20250911_112921/by_layer/layer_26/V5_num_p3_V5.npz with 1050 questions\n"
     ]
    },
    {
     "name": "stderr",
     "output_type": "stream",
     "text": [
      "Layer 27: 100%|██████████| 1050/1050 [00:03<00:00, 346.50it/s]\n"
     ]
    },
    {
     "name": "stdout",
     "output_type": "stream",
     "text": [
      "Created results/by_layer_20250911_112921/by_layer/layer_27/V5_num_p3_V5.npz with 1050 questions\n"
     ]
    },
    {
     "name": "stderr",
     "output_type": "stream",
     "text": [
      "Layer 28: 100%|██████████| 1050/1050 [00:03<00:00, 338.75it/s]\n"
     ]
    },
    {
     "name": "stdout",
     "output_type": "stream",
     "text": [
      "Created results/by_layer_20250911_112921/by_layer/layer_28/V5_num_p3_V5.npz with 1050 questions\n"
     ]
    },
    {
     "name": "stderr",
     "output_type": "stream",
     "text": [
      "Layer 29: 100%|██████████| 1050/1050 [00:03<00:00, 318.68it/s]\n"
     ]
    },
    {
     "name": "stdout",
     "output_type": "stream",
     "text": [
      "Created results/by_layer_20250911_112921/by_layer/layer_29/V5_num_p3_V5.npz with 1050 questions\n"
     ]
    },
    {
     "name": "stderr",
     "output_type": "stream",
     "text": [
      "Layer 30: 100%|██████████| 1050/1050 [00:03<00:00, 327.56it/s]\n"
     ]
    },
    {
     "name": "stdout",
     "output_type": "stream",
     "text": [
      "Created results/by_layer_20250911_112921/by_layer/layer_30/V5_num_p3_V5.npz with 1050 questions\n"
     ]
    },
    {
     "name": "stderr",
     "output_type": "stream",
     "text": [
      "Layer 31: 100%|██████████| 1050/1050 [00:03<00:00, 344.69it/s]\n"
     ]
    },
    {
     "name": "stdout",
     "output_type": "stream",
     "text": [
      "Created results/by_layer_20250911_112921/by_layer/layer_31/V5_num_p3_V5.npz with 1050 questions\n"
     ]
    },
    {
     "name": "stderr",
     "output_type": "stream",
     "text": [
      "Layer 32: 100%|██████████| 1050/1050 [00:03<00:00, 339.72it/s]\n"
     ]
    },
    {
     "name": "stdout",
     "output_type": "stream",
     "text": [
      "Created results/by_layer_20250911_112921/by_layer/layer_32/V5_num_p3_V5.npz with 1050 questions\n"
     ]
    },
    {
     "name": "stderr",
     "output_type": "stream",
     "text": [
      "Layer 33: 100%|██████████| 1050/1050 [00:03<00:00, 346.41it/s]\n"
     ]
    },
    {
     "name": "stdout",
     "output_type": "stream",
     "text": [
      "Created results/by_layer_20250911_112921/by_layer/layer_33/V5_num_p3_V5.npz with 1050 questions\n"
     ]
    },
    {
     "name": "stderr",
     "output_type": "stream",
     "text": [
      "Layer 34: 100%|██████████| 1050/1050 [00:03<00:00, 345.39it/s]\n"
     ]
    },
    {
     "name": "stdout",
     "output_type": "stream",
     "text": [
      "Created results/by_layer_20250911_112921/by_layer/layer_34/V5_num_p3_V5.npz with 1050 questions\n",
      "\n",
      "Processing experiment 17/60: results/comprehensive_experiments/run_20250911_062422/V4_alpha_p3\n",
      "Processing experiment: results/comprehensive_experiments/run_20250911_062422/V4_alpha_p3\n",
      "File: hidden_states_V4.npz, Layers: 35, Hidden dim: 2560\n"
     ]
    },
    {
     "name": "stderr",
     "output_type": "stream",
     "text": [
      "Layer 00: 100%|██████████| 1050/1050 [00:03<00:00, 321.96it/s]\n"
     ]
    },
    {
     "name": "stdout",
     "output_type": "stream",
     "text": [
      "Created results/by_layer_20250911_112921/by_layer/layer_00/V4_alpha_p3_V4.npz with 1050 questions\n"
     ]
    },
    {
     "name": "stderr",
     "output_type": "stream",
     "text": [
      "Layer 01: 100%|██████████| 1050/1050 [00:03<00:00, 342.07it/s]\n"
     ]
    },
    {
     "name": "stdout",
     "output_type": "stream",
     "text": [
      "Created results/by_layer_20250911_112921/by_layer/layer_01/V4_alpha_p3_V4.npz with 1050 questions\n"
     ]
    },
    {
     "name": "stderr",
     "output_type": "stream",
     "text": [
      "Layer 02: 100%|██████████| 1050/1050 [00:03<00:00, 341.24it/s]\n"
     ]
    },
    {
     "name": "stdout",
     "output_type": "stream",
     "text": [
      "Created results/by_layer_20250911_112921/by_layer/layer_02/V4_alpha_p3_V4.npz with 1050 questions\n"
     ]
    },
    {
     "name": "stderr",
     "output_type": "stream",
     "text": [
      "Layer 03: 100%|██████████| 1050/1050 [00:02<00:00, 350.06it/s]\n"
     ]
    },
    {
     "name": "stdout",
     "output_type": "stream",
     "text": [
      "Created results/by_layer_20250911_112921/by_layer/layer_03/V4_alpha_p3_V4.npz with 1050 questions\n"
     ]
    },
    {
     "name": "stderr",
     "output_type": "stream",
     "text": [
      "Layer 04: 100%|██████████| 1050/1050 [00:03<00:00, 348.53it/s]\n"
     ]
    },
    {
     "name": "stdout",
     "output_type": "stream",
     "text": [
      "Created results/by_layer_20250911_112921/by_layer/layer_04/V4_alpha_p3_V4.npz with 1050 questions\n"
     ]
    },
    {
     "name": "stderr",
     "output_type": "stream",
     "text": [
      "Layer 05: 100%|██████████| 1050/1050 [00:03<00:00, 344.61it/s]\n"
     ]
    },
    {
     "name": "stdout",
     "output_type": "stream",
     "text": [
      "Created results/by_layer_20250911_112921/by_layer/layer_05/V4_alpha_p3_V4.npz with 1050 questions\n"
     ]
    },
    {
     "name": "stderr",
     "output_type": "stream",
     "text": [
      "Layer 06: 100%|██████████| 1050/1050 [00:03<00:00, 343.15it/s]\n"
     ]
    },
    {
     "name": "stdout",
     "output_type": "stream",
     "text": [
      "Created results/by_layer_20250911_112921/by_layer/layer_06/V4_alpha_p3_V4.npz with 1050 questions\n"
     ]
    },
    {
     "name": "stderr",
     "output_type": "stream",
     "text": [
      "Layer 07: 100%|██████████| 1050/1050 [00:03<00:00, 345.53it/s]\n"
     ]
    },
    {
     "name": "stdout",
     "output_type": "stream",
     "text": [
      "Created results/by_layer_20250911_112921/by_layer/layer_07/V4_alpha_p3_V4.npz with 1050 questions\n"
     ]
    },
    {
     "name": "stderr",
     "output_type": "stream",
     "text": [
      "Layer 08: 100%|██████████| 1050/1050 [00:03<00:00, 344.83it/s]\n"
     ]
    },
    {
     "name": "stdout",
     "output_type": "stream",
     "text": [
      "Created results/by_layer_20250911_112921/by_layer/layer_08/V4_alpha_p3_V4.npz with 1050 questions\n"
     ]
    },
    {
     "name": "stderr",
     "output_type": "stream",
     "text": [
      "Layer 09: 100%|██████████| 1050/1050 [00:03<00:00, 345.43it/s]\n"
     ]
    },
    {
     "name": "stdout",
     "output_type": "stream",
     "text": [
      "Created results/by_layer_20250911_112921/by_layer/layer_09/V4_alpha_p3_V4.npz with 1050 questions\n"
     ]
    },
    {
     "name": "stderr",
     "output_type": "stream",
     "text": [
      "Layer 10: 100%|██████████| 1050/1050 [00:03<00:00, 343.40it/s]\n"
     ]
    },
    {
     "name": "stdout",
     "output_type": "stream",
     "text": [
      "Created results/by_layer_20250911_112921/by_layer/layer_10/V4_alpha_p3_V4.npz with 1050 questions\n"
     ]
    },
    {
     "name": "stderr",
     "output_type": "stream",
     "text": [
      "Layer 11: 100%|██████████| 1050/1050 [00:03<00:00, 344.19it/s]\n"
     ]
    },
    {
     "name": "stdout",
     "output_type": "stream",
     "text": [
      "Created results/by_layer_20250911_112921/by_layer/layer_11/V4_alpha_p3_V4.npz with 1050 questions\n"
     ]
    },
    {
     "name": "stderr",
     "output_type": "stream",
     "text": [
      "Layer 12: 100%|██████████| 1050/1050 [00:03<00:00, 349.92it/s]\n"
     ]
    },
    {
     "name": "stdout",
     "output_type": "stream",
     "text": [
      "Created results/by_layer_20250911_112921/by_layer/layer_12/V4_alpha_p3_V4.npz with 1050 questions\n"
     ]
    },
    {
     "name": "stderr",
     "output_type": "stream",
     "text": [
      "Layer 13: 100%|██████████| 1050/1050 [00:03<00:00, 343.54it/s]\n"
     ]
    },
    {
     "name": "stdout",
     "output_type": "stream",
     "text": [
      "Created results/by_layer_20250911_112921/by_layer/layer_13/V4_alpha_p3_V4.npz with 1050 questions\n"
     ]
    },
    {
     "name": "stderr",
     "output_type": "stream",
     "text": [
      "Layer 14: 100%|██████████| 1050/1050 [00:03<00:00, 335.80it/s]\n"
     ]
    },
    {
     "name": "stdout",
     "output_type": "stream",
     "text": [
      "Created results/by_layer_20250911_112921/by_layer/layer_14/V4_alpha_p3_V4.npz with 1050 questions\n"
     ]
    },
    {
     "name": "stderr",
     "output_type": "stream",
     "text": [
      "Layer 15: 100%|██████████| 1050/1050 [00:03<00:00, 344.17it/s]\n"
     ]
    },
    {
     "name": "stdout",
     "output_type": "stream",
     "text": [
      "Created results/by_layer_20250911_112921/by_layer/layer_15/V4_alpha_p3_V4.npz with 1050 questions\n"
     ]
    },
    {
     "name": "stderr",
     "output_type": "stream",
     "text": [
      "Layer 16: 100%|██████████| 1050/1050 [00:03<00:00, 331.63it/s]\n"
     ]
    },
    {
     "name": "stdout",
     "output_type": "stream",
     "text": [
      "Created results/by_layer_20250911_112921/by_layer/layer_16/V4_alpha_p3_V4.npz with 1050 questions\n"
     ]
    },
    {
     "name": "stderr",
     "output_type": "stream",
     "text": [
      "Layer 17: 100%|██████████| 1050/1050 [00:03<00:00, 340.76it/s]\n"
     ]
    },
    {
     "name": "stdout",
     "output_type": "stream",
     "text": [
      "Created results/by_layer_20250911_112921/by_layer/layer_17/V4_alpha_p3_V4.npz with 1050 questions\n"
     ]
    },
    {
     "name": "stderr",
     "output_type": "stream",
     "text": [
      "Layer 18: 100%|██████████| 1050/1050 [00:03<00:00, 329.75it/s]\n"
     ]
    },
    {
     "name": "stdout",
     "output_type": "stream",
     "text": [
      "Created results/by_layer_20250911_112921/by_layer/layer_18/V4_alpha_p3_V4.npz with 1050 questions\n"
     ]
    },
    {
     "name": "stderr",
     "output_type": "stream",
     "text": [
      "Layer 19: 100%|██████████| 1050/1050 [00:03<00:00, 339.09it/s]\n"
     ]
    },
    {
     "name": "stdout",
     "output_type": "stream",
     "text": [
      "Created results/by_layer_20250911_112921/by_layer/layer_19/V4_alpha_p3_V4.npz with 1050 questions\n"
     ]
    },
    {
     "name": "stderr",
     "output_type": "stream",
     "text": [
      "Layer 20: 100%|██████████| 1050/1050 [00:03<00:00, 340.67it/s]\n"
     ]
    },
    {
     "name": "stdout",
     "output_type": "stream",
     "text": [
      "Created results/by_layer_20250911_112921/by_layer/layer_20/V4_alpha_p3_V4.npz with 1050 questions\n"
     ]
    },
    {
     "name": "stderr",
     "output_type": "stream",
     "text": [
      "Layer 21: 100%|██████████| 1050/1050 [00:03<00:00, 336.85it/s]\n"
     ]
    },
    {
     "name": "stdout",
     "output_type": "stream",
     "text": [
      "Created results/by_layer_20250911_112921/by_layer/layer_21/V4_alpha_p3_V4.npz with 1050 questions\n"
     ]
    },
    {
     "name": "stderr",
     "output_type": "stream",
     "text": [
      "Layer 22: 100%|██████████| 1050/1050 [00:03<00:00, 333.48it/s]\n"
     ]
    },
    {
     "name": "stdout",
     "output_type": "stream",
     "text": [
      "Created results/by_layer_20250911_112921/by_layer/layer_22/V4_alpha_p3_V4.npz with 1050 questions\n"
     ]
    },
    {
     "name": "stderr",
     "output_type": "stream",
     "text": [
      "Layer 23: 100%|██████████| 1050/1050 [00:03<00:00, 339.33it/s]\n"
     ]
    },
    {
     "name": "stdout",
     "output_type": "stream",
     "text": [
      "Created results/by_layer_20250911_112921/by_layer/layer_23/V4_alpha_p3_V4.npz with 1050 questions\n"
     ]
    },
    {
     "name": "stderr",
     "output_type": "stream",
     "text": [
      "Layer 24: 100%|██████████| 1050/1050 [00:03<00:00, 343.17it/s]\n"
     ]
    },
    {
     "name": "stdout",
     "output_type": "stream",
     "text": [
      "Created results/by_layer_20250911_112921/by_layer/layer_24/V4_alpha_p3_V4.npz with 1050 questions\n"
     ]
    },
    {
     "name": "stderr",
     "output_type": "stream",
     "text": [
      "Layer 25: 100%|██████████| 1050/1050 [00:03<00:00, 342.51it/s]\n"
     ]
    },
    {
     "name": "stdout",
     "output_type": "stream",
     "text": [
      "Created results/by_layer_20250911_112921/by_layer/layer_25/V4_alpha_p3_V4.npz with 1050 questions\n"
     ]
    },
    {
     "name": "stderr",
     "output_type": "stream",
     "text": [
      "Layer 26: 100%|██████████| 1050/1050 [00:03<00:00, 336.31it/s]\n"
     ]
    },
    {
     "name": "stdout",
     "output_type": "stream",
     "text": [
      "Created results/by_layer_20250911_112921/by_layer/layer_26/V4_alpha_p3_V4.npz with 1050 questions\n"
     ]
    },
    {
     "name": "stderr",
     "output_type": "stream",
     "text": [
      "Layer 27: 100%|██████████| 1050/1050 [00:03<00:00, 342.27it/s]\n"
     ]
    },
    {
     "name": "stdout",
     "output_type": "stream",
     "text": [
      "Created results/by_layer_20250911_112921/by_layer/layer_27/V4_alpha_p3_V4.npz with 1050 questions\n"
     ]
    },
    {
     "name": "stderr",
     "output_type": "stream",
     "text": [
      "Layer 28: 100%|██████████| 1050/1050 [00:03<00:00, 340.79it/s]\n"
     ]
    },
    {
     "name": "stdout",
     "output_type": "stream",
     "text": [
      "Created results/by_layer_20250911_112921/by_layer/layer_28/V4_alpha_p3_V4.npz with 1050 questions\n"
     ]
    },
    {
     "name": "stderr",
     "output_type": "stream",
     "text": [
      "Layer 29: 100%|██████████| 1050/1050 [00:03<00:00, 336.02it/s]\n"
     ]
    },
    {
     "name": "stdout",
     "output_type": "stream",
     "text": [
      "Created results/by_layer_20250911_112921/by_layer/layer_29/V4_alpha_p3_V4.npz with 1050 questions\n"
     ]
    },
    {
     "name": "stderr",
     "output_type": "stream",
     "text": [
      "Layer 30: 100%|██████████| 1050/1050 [00:03<00:00, 340.99it/s]\n"
     ]
    },
    {
     "name": "stdout",
     "output_type": "stream",
     "text": [
      "Created results/by_layer_20250911_112921/by_layer/layer_30/V4_alpha_p3_V4.npz with 1050 questions\n"
     ]
    },
    {
     "name": "stderr",
     "output_type": "stream",
     "text": [
      "Layer 31: 100%|██████████| 1050/1050 [00:03<00:00, 347.31it/s]\n"
     ]
    },
    {
     "name": "stdout",
     "output_type": "stream",
     "text": [
      "Created results/by_layer_20250911_112921/by_layer/layer_31/V4_alpha_p3_V4.npz with 1050 questions\n"
     ]
    },
    {
     "name": "stderr",
     "output_type": "stream",
     "text": [
      "Layer 32: 100%|██████████| 1050/1050 [00:03<00:00, 348.37it/s]\n"
     ]
    },
    {
     "name": "stdout",
     "output_type": "stream",
     "text": [
      "Created results/by_layer_20250911_112921/by_layer/layer_32/V4_alpha_p3_V4.npz with 1050 questions\n"
     ]
    },
    {
     "name": "stderr",
     "output_type": "stream",
     "text": [
      "Layer 33: 100%|██████████| 1050/1050 [00:03<00:00, 343.71it/s]\n"
     ]
    },
    {
     "name": "stdout",
     "output_type": "stream",
     "text": [
      "Created results/by_layer_20250911_112921/by_layer/layer_33/V4_alpha_p3_V4.npz with 1050 questions\n"
     ]
    },
    {
     "name": "stderr",
     "output_type": "stream",
     "text": [
      "Layer 34: 100%|██████████| 1050/1050 [00:03<00:00, 337.68it/s]\n"
     ]
    },
    {
     "name": "stdout",
     "output_type": "stream",
     "text": [
      "Created results/by_layer_20250911_112921/by_layer/layer_34/V4_alpha_p3_V4.npz with 1050 questions\n",
      "\n",
      "Processing experiment 18/60: results/comprehensive_experiments/run_20250911_062422/V4_alpha_p2\n",
      "Processing experiment: results/comprehensive_experiments/run_20250911_062422/V4_alpha_p2\n",
      "File: hidden_states_V4.npz, Layers: 35, Hidden dim: 2560\n"
     ]
    },
    {
     "name": "stderr",
     "output_type": "stream",
     "text": [
      "Layer 00: 100%|██████████| 1050/1050 [00:03<00:00, 314.70it/s]\n"
     ]
    },
    {
     "name": "stdout",
     "output_type": "stream",
     "text": [
      "Created results/by_layer_20250911_112921/by_layer/layer_00/V4_alpha_p2_V4.npz with 1050 questions\n"
     ]
    },
    {
     "name": "stderr",
     "output_type": "stream",
     "text": [
      "Layer 01: 100%|██████████| 1050/1050 [00:03<00:00, 336.15it/s]\n"
     ]
    },
    {
     "name": "stdout",
     "output_type": "stream",
     "text": [
      "Created results/by_layer_20250911_112921/by_layer/layer_01/V4_alpha_p2_V4.npz with 1050 questions\n"
     ]
    },
    {
     "name": "stderr",
     "output_type": "stream",
     "text": [
      "Layer 02: 100%|██████████| 1050/1050 [00:03<00:00, 336.38it/s]\n"
     ]
    },
    {
     "name": "stdout",
     "output_type": "stream",
     "text": [
      "Created results/by_layer_20250911_112921/by_layer/layer_02/V4_alpha_p2_V4.npz with 1050 questions\n"
     ]
    },
    {
     "name": "stderr",
     "output_type": "stream",
     "text": [
      "Layer 03: 100%|██████████| 1050/1050 [00:03<00:00, 344.04it/s]\n"
     ]
    },
    {
     "name": "stdout",
     "output_type": "stream",
     "text": [
      "Created results/by_layer_20250911_112921/by_layer/layer_03/V4_alpha_p2_V4.npz with 1050 questions\n"
     ]
    },
    {
     "name": "stderr",
     "output_type": "stream",
     "text": [
      "Layer 04: 100%|██████████| 1050/1050 [00:03<00:00, 348.31it/s]\n"
     ]
    },
    {
     "name": "stdout",
     "output_type": "stream",
     "text": [
      "Created results/by_layer_20250911_112921/by_layer/layer_04/V4_alpha_p2_V4.npz with 1050 questions\n"
     ]
    },
    {
     "name": "stderr",
     "output_type": "stream",
     "text": [
      "Layer 05: 100%|██████████| 1050/1050 [00:03<00:00, 342.98it/s]\n"
     ]
    },
    {
     "name": "stdout",
     "output_type": "stream",
     "text": [
      "Created results/by_layer_20250911_112921/by_layer/layer_05/V4_alpha_p2_V4.npz with 1050 questions\n"
     ]
    },
    {
     "name": "stderr",
     "output_type": "stream",
     "text": [
      "Layer 06: 100%|██████████| 1050/1050 [00:03<00:00, 342.29it/s]\n"
     ]
    },
    {
     "name": "stdout",
     "output_type": "stream",
     "text": [
      "Created results/by_layer_20250911_112921/by_layer/layer_06/V4_alpha_p2_V4.npz with 1050 questions\n"
     ]
    },
    {
     "name": "stderr",
     "output_type": "stream",
     "text": [
      "Layer 07: 100%|██████████| 1050/1050 [00:03<00:00, 348.29it/s]\n"
     ]
    },
    {
     "name": "stdout",
     "output_type": "stream",
     "text": [
      "Created results/by_layer_20250911_112921/by_layer/layer_07/V4_alpha_p2_V4.npz with 1050 questions\n"
     ]
    },
    {
     "name": "stderr",
     "output_type": "stream",
     "text": [
      "Layer 08: 100%|██████████| 1050/1050 [00:03<00:00, 349.30it/s]\n"
     ]
    },
    {
     "name": "stdout",
     "output_type": "stream",
     "text": [
      "Created results/by_layer_20250911_112921/by_layer/layer_08/V4_alpha_p2_V4.npz with 1050 questions\n"
     ]
    },
    {
     "name": "stderr",
     "output_type": "stream",
     "text": [
      "Layer 09: 100%|██████████| 1050/1050 [00:03<00:00, 343.51it/s]\n"
     ]
    },
    {
     "name": "stdout",
     "output_type": "stream",
     "text": [
      "Created results/by_layer_20250911_112921/by_layer/layer_09/V4_alpha_p2_V4.npz with 1050 questions\n"
     ]
    },
    {
     "name": "stderr",
     "output_type": "stream",
     "text": [
      "Layer 10: 100%|██████████| 1050/1050 [00:03<00:00, 344.05it/s]\n"
     ]
    },
    {
     "name": "stdout",
     "output_type": "stream",
     "text": [
      "Created results/by_layer_20250911_112921/by_layer/layer_10/V4_alpha_p2_V4.npz with 1050 questions\n"
     ]
    },
    {
     "name": "stderr",
     "output_type": "stream",
     "text": [
      "Layer 11: 100%|██████████| 1050/1050 [00:03<00:00, 342.03it/s]\n"
     ]
    },
    {
     "name": "stdout",
     "output_type": "stream",
     "text": [
      "Created results/by_layer_20250911_112921/by_layer/layer_11/V4_alpha_p2_V4.npz with 1050 questions\n"
     ]
    },
    {
     "name": "stderr",
     "output_type": "stream",
     "text": [
      "Layer 12: 100%|██████████| 1050/1050 [00:03<00:00, 339.99it/s]\n"
     ]
    },
    {
     "name": "stdout",
     "output_type": "stream",
     "text": [
      "Created results/by_layer_20250911_112921/by_layer/layer_12/V4_alpha_p2_V4.npz with 1050 questions\n"
     ]
    },
    {
     "name": "stderr",
     "output_type": "stream",
     "text": [
      "Layer 13: 100%|██████████| 1050/1050 [00:03<00:00, 338.92it/s]\n"
     ]
    },
    {
     "name": "stdout",
     "output_type": "stream",
     "text": [
      "Created results/by_layer_20250911_112921/by_layer/layer_13/V4_alpha_p2_V4.npz with 1050 questions\n"
     ]
    },
    {
     "name": "stderr",
     "output_type": "stream",
     "text": [
      "Layer 14: 100%|██████████| 1050/1050 [00:03<00:00, 345.61it/s]\n"
     ]
    },
    {
     "name": "stdout",
     "output_type": "stream",
     "text": [
      "Created results/by_layer_20250911_112921/by_layer/layer_14/V4_alpha_p2_V4.npz with 1050 questions\n"
     ]
    },
    {
     "name": "stderr",
     "output_type": "stream",
     "text": [
      "Layer 15: 100%|██████████| 1050/1050 [00:03<00:00, 342.36it/s]\n"
     ]
    },
    {
     "name": "stdout",
     "output_type": "stream",
     "text": [
      "Created results/by_layer_20250911_112921/by_layer/layer_15/V4_alpha_p2_V4.npz with 1050 questions\n"
     ]
    },
    {
     "name": "stderr",
     "output_type": "stream",
     "text": [
      "Layer 16: 100%|██████████| 1050/1050 [00:03<00:00, 341.15it/s]\n"
     ]
    },
    {
     "name": "stdout",
     "output_type": "stream",
     "text": [
      "Created results/by_layer_20250911_112921/by_layer/layer_16/V4_alpha_p2_V4.npz with 1050 questions\n"
     ]
    },
    {
     "name": "stderr",
     "output_type": "stream",
     "text": [
      "Layer 17: 100%|██████████| 1050/1050 [00:03<00:00, 346.91it/s]\n"
     ]
    },
    {
     "name": "stdout",
     "output_type": "stream",
     "text": [
      "Created results/by_layer_20250911_112921/by_layer/layer_17/V4_alpha_p2_V4.npz with 1050 questions\n"
     ]
    },
    {
     "name": "stderr",
     "output_type": "stream",
     "text": [
      "Layer 18: 100%|██████████| 1050/1050 [00:03<00:00, 339.82it/s]\n"
     ]
    },
    {
     "name": "stdout",
     "output_type": "stream",
     "text": [
      "Created results/by_layer_20250911_112921/by_layer/layer_18/V4_alpha_p2_V4.npz with 1050 questions\n"
     ]
    },
    {
     "name": "stderr",
     "output_type": "stream",
     "text": [
      "Layer 19: 100%|██████████| 1050/1050 [00:03<00:00, 308.26it/s]\n"
     ]
    },
    {
     "name": "stdout",
     "output_type": "stream",
     "text": [
      "Created results/by_layer_20250911_112921/by_layer/layer_19/V4_alpha_p2_V4.npz with 1050 questions\n"
     ]
    },
    {
     "name": "stderr",
     "output_type": "stream",
     "text": [
      "Layer 20: 100%|██████████| 1050/1050 [00:03<00:00, 339.17it/s]\n"
     ]
    },
    {
     "name": "stdout",
     "output_type": "stream",
     "text": [
      "Created results/by_layer_20250911_112921/by_layer/layer_20/V4_alpha_p2_V4.npz with 1050 questions\n"
     ]
    },
    {
     "name": "stderr",
     "output_type": "stream",
     "text": [
      "Layer 21: 100%|██████████| 1050/1050 [00:03<00:00, 338.69it/s]\n"
     ]
    },
    {
     "name": "stdout",
     "output_type": "stream",
     "text": [
      "Created results/by_layer_20250911_112921/by_layer/layer_21/V4_alpha_p2_V4.npz with 1050 questions\n"
     ]
    },
    {
     "name": "stderr",
     "output_type": "stream",
     "text": [
      "Layer 22: 100%|██████████| 1050/1050 [00:03<00:00, 332.28it/s]\n"
     ]
    },
    {
     "name": "stdout",
     "output_type": "stream",
     "text": [
      "Created results/by_layer_20250911_112921/by_layer/layer_22/V4_alpha_p2_V4.npz with 1050 questions\n"
     ]
    },
    {
     "name": "stderr",
     "output_type": "stream",
     "text": [
      "Layer 23: 100%|██████████| 1050/1050 [00:03<00:00, 333.92it/s]\n"
     ]
    },
    {
     "name": "stdout",
     "output_type": "stream",
     "text": [
      "Created results/by_layer_20250911_112921/by_layer/layer_23/V4_alpha_p2_V4.npz with 1050 questions\n"
     ]
    },
    {
     "name": "stderr",
     "output_type": "stream",
     "text": [
      "Layer 24: 100%|██████████| 1050/1050 [00:03<00:00, 333.52it/s]\n"
     ]
    },
    {
     "name": "stdout",
     "output_type": "stream",
     "text": [
      "Created results/by_layer_20250911_112921/by_layer/layer_24/V4_alpha_p2_V4.npz with 1050 questions\n"
     ]
    },
    {
     "name": "stderr",
     "output_type": "stream",
     "text": [
      "Layer 25: 100%|██████████| 1050/1050 [00:03<00:00, 337.09it/s]\n"
     ]
    },
    {
     "name": "stdout",
     "output_type": "stream",
     "text": [
      "Created results/by_layer_20250911_112921/by_layer/layer_25/V4_alpha_p2_V4.npz with 1050 questions\n"
     ]
    },
    {
     "name": "stderr",
     "output_type": "stream",
     "text": [
      "Layer 26: 100%|██████████| 1050/1050 [00:03<00:00, 343.72it/s]\n"
     ]
    },
    {
     "name": "stdout",
     "output_type": "stream",
     "text": [
      "Created results/by_layer_20250911_112921/by_layer/layer_26/V4_alpha_p2_V4.npz with 1050 questions\n"
     ]
    },
    {
     "name": "stderr",
     "output_type": "stream",
     "text": [
      "Layer 27: 100%|██████████| 1050/1050 [00:03<00:00, 332.90it/s]\n"
     ]
    },
    {
     "name": "stdout",
     "output_type": "stream",
     "text": [
      "Created results/by_layer_20250911_112921/by_layer/layer_27/V4_alpha_p2_V4.npz with 1050 questions\n"
     ]
    },
    {
     "name": "stderr",
     "output_type": "stream",
     "text": [
      "Layer 28: 100%|██████████| 1050/1050 [00:03<00:00, 342.22it/s]\n"
     ]
    },
    {
     "name": "stdout",
     "output_type": "stream",
     "text": [
      "Created results/by_layer_20250911_112921/by_layer/layer_28/V4_alpha_p2_V4.npz with 1050 questions\n"
     ]
    },
    {
     "name": "stderr",
     "output_type": "stream",
     "text": [
      "Layer 29: 100%|██████████| 1050/1050 [00:02<00:00, 356.17it/s]\n"
     ]
    },
    {
     "name": "stdout",
     "output_type": "stream",
     "text": [
      "Created results/by_layer_20250911_112921/by_layer/layer_29/V4_alpha_p2_V4.npz with 1050 questions\n"
     ]
    },
    {
     "name": "stderr",
     "output_type": "stream",
     "text": [
      "Layer 30: 100%|██████████| 1050/1050 [00:03<00:00, 341.27it/s]\n"
     ]
    },
    {
     "name": "stdout",
     "output_type": "stream",
     "text": [
      "Created results/by_layer_20250911_112921/by_layer/layer_30/V4_alpha_p2_V4.npz with 1050 questions\n"
     ]
    },
    {
     "name": "stderr",
     "output_type": "stream",
     "text": [
      "Layer 31: 100%|██████████| 1050/1050 [00:03<00:00, 342.42it/s]\n"
     ]
    },
    {
     "name": "stdout",
     "output_type": "stream",
     "text": [
      "Created results/by_layer_20250911_112921/by_layer/layer_31/V4_alpha_p2_V4.npz with 1050 questions\n"
     ]
    },
    {
     "name": "stderr",
     "output_type": "stream",
     "text": [
      "Layer 32: 100%|██████████| 1050/1050 [00:03<00:00, 345.11it/s]\n"
     ]
    },
    {
     "name": "stdout",
     "output_type": "stream",
     "text": [
      "Created results/by_layer_20250911_112921/by_layer/layer_32/V4_alpha_p2_V4.npz with 1050 questions\n"
     ]
    },
    {
     "name": "stderr",
     "output_type": "stream",
     "text": [
      "Layer 33: 100%|██████████| 1050/1050 [00:02<00:00, 350.25it/s]\n"
     ]
    },
    {
     "name": "stdout",
     "output_type": "stream",
     "text": [
      "Created results/by_layer_20250911_112921/by_layer/layer_33/V4_alpha_p2_V4.npz with 1050 questions\n"
     ]
    },
    {
     "name": "stderr",
     "output_type": "stream",
     "text": [
      "Layer 34: 100%|██████████| 1050/1050 [00:03<00:00, 338.67it/s]\n"
     ]
    },
    {
     "name": "stdout",
     "output_type": "stream",
     "text": [
      "Created results/by_layer_20250911_112921/by_layer/layer_34/V4_alpha_p2_V4.npz with 1050 questions\n",
      "\n",
      "Processing experiment 19/60: results/comprehensive_experiments/run_20250911_062422/V5_alpha_p1\n",
      "Processing experiment: results/comprehensive_experiments/run_20250911_062422/V5_alpha_p1\n",
      "File: hidden_states_V5.npz, Layers: 35, Hidden dim: 2560\n"
     ]
    },
    {
     "name": "stderr",
     "output_type": "stream",
     "text": [
      "Layer 00: 100%|██████████| 1050/1050 [00:03<00:00, 313.02it/s]\n"
     ]
    },
    {
     "name": "stdout",
     "output_type": "stream",
     "text": [
      "Created results/by_layer_20250911_112921/by_layer/layer_00/V5_alpha_p1_V5.npz with 1050 questions\n"
     ]
    },
    {
     "name": "stderr",
     "output_type": "stream",
     "text": [
      "Layer 01: 100%|██████████| 1050/1050 [00:03<00:00, 345.89it/s]\n"
     ]
    },
    {
     "name": "stdout",
     "output_type": "stream",
     "text": [
      "Created results/by_layer_20250911_112921/by_layer/layer_01/V5_alpha_p1_V5.npz with 1050 questions\n"
     ]
    },
    {
     "name": "stderr",
     "output_type": "stream",
     "text": [
      "Layer 02: 100%|██████████| 1050/1050 [00:03<00:00, 349.13it/s]\n"
     ]
    },
    {
     "name": "stdout",
     "output_type": "stream",
     "text": [
      "Created results/by_layer_20250911_112921/by_layer/layer_02/V5_alpha_p1_V5.npz with 1050 questions\n"
     ]
    },
    {
     "name": "stderr",
     "output_type": "stream",
     "text": [
      "Layer 03: 100%|██████████| 1050/1050 [00:03<00:00, 345.66it/s]\n"
     ]
    },
    {
     "name": "stdout",
     "output_type": "stream",
     "text": [
      "Created results/by_layer_20250911_112921/by_layer/layer_03/V5_alpha_p1_V5.npz with 1050 questions\n"
     ]
    },
    {
     "name": "stderr",
     "output_type": "stream",
     "text": [
      "Layer 04: 100%|██████████| 1050/1050 [00:03<00:00, 342.24it/s]\n"
     ]
    },
    {
     "name": "stdout",
     "output_type": "stream",
     "text": [
      "Created results/by_layer_20250911_112921/by_layer/layer_04/V5_alpha_p1_V5.npz with 1050 questions\n"
     ]
    },
    {
     "name": "stderr",
     "output_type": "stream",
     "text": [
      "Layer 05: 100%|██████████| 1050/1050 [00:03<00:00, 275.77it/s]\n"
     ]
    },
    {
     "name": "stdout",
     "output_type": "stream",
     "text": [
      "Created results/by_layer_20250911_112921/by_layer/layer_05/V5_alpha_p1_V5.npz with 1050 questions\n"
     ]
    },
    {
     "name": "stderr",
     "output_type": "stream",
     "text": [
      "Layer 06: 100%|██████████| 1050/1050 [00:03<00:00, 347.84it/s]\n"
     ]
    },
    {
     "name": "stdout",
     "output_type": "stream",
     "text": [
      "Created results/by_layer_20250911_112921/by_layer/layer_06/V5_alpha_p1_V5.npz with 1050 questions\n"
     ]
    },
    {
     "name": "stderr",
     "output_type": "stream",
     "text": [
      "Layer 07: 100%|██████████| 1050/1050 [00:02<00:00, 354.04it/s]\n"
     ]
    },
    {
     "name": "stdout",
     "output_type": "stream",
     "text": [
      "Created results/by_layer_20250911_112921/by_layer/layer_07/V5_alpha_p1_V5.npz with 1050 questions\n"
     ]
    },
    {
     "name": "stderr",
     "output_type": "stream",
     "text": [
      "Layer 08: 100%|██████████| 1050/1050 [00:03<00:00, 336.94it/s]\n"
     ]
    },
    {
     "name": "stdout",
     "output_type": "stream",
     "text": [
      "Created results/by_layer_20250911_112921/by_layer/layer_08/V5_alpha_p1_V5.npz with 1050 questions\n"
     ]
    },
    {
     "name": "stderr",
     "output_type": "stream",
     "text": [
      "Layer 09: 100%|██████████| 1050/1050 [00:03<00:00, 345.04it/s]\n"
     ]
    },
    {
     "name": "stdout",
     "output_type": "stream",
     "text": [
      "Created results/by_layer_20250911_112921/by_layer/layer_09/V5_alpha_p1_V5.npz with 1050 questions\n"
     ]
    },
    {
     "name": "stderr",
     "output_type": "stream",
     "text": [
      "Layer 10: 100%|██████████| 1050/1050 [00:03<00:00, 349.57it/s]\n"
     ]
    },
    {
     "name": "stdout",
     "output_type": "stream",
     "text": [
      "Created results/by_layer_20250911_112921/by_layer/layer_10/V5_alpha_p1_V5.npz with 1050 questions\n"
     ]
    },
    {
     "name": "stderr",
     "output_type": "stream",
     "text": [
      "Layer 11: 100%|██████████| 1050/1050 [00:03<00:00, 348.91it/s]\n"
     ]
    },
    {
     "name": "stdout",
     "output_type": "stream",
     "text": [
      "Created results/by_layer_20250911_112921/by_layer/layer_11/V5_alpha_p1_V5.npz with 1050 questions\n"
     ]
    },
    {
     "name": "stderr",
     "output_type": "stream",
     "text": [
      "Layer 12: 100%|██████████| 1050/1050 [00:03<00:00, 343.60it/s]\n"
     ]
    },
    {
     "name": "stdout",
     "output_type": "stream",
     "text": [
      "Created results/by_layer_20250911_112921/by_layer/layer_12/V5_alpha_p1_V5.npz with 1050 questions\n"
     ]
    },
    {
     "name": "stderr",
     "output_type": "stream",
     "text": [
      "Layer 13: 100%|██████████| 1050/1050 [00:02<00:00, 350.59it/s]\n"
     ]
    },
    {
     "name": "stdout",
     "output_type": "stream",
     "text": [
      "Created results/by_layer_20250911_112921/by_layer/layer_13/V5_alpha_p1_V5.npz with 1050 questions\n"
     ]
    },
    {
     "name": "stderr",
     "output_type": "stream",
     "text": [
      "Layer 14: 100%|██████████| 1050/1050 [00:02<00:00, 378.78it/s]\n"
     ]
    },
    {
     "name": "stdout",
     "output_type": "stream",
     "text": [
      "Created results/by_layer_20250911_112921/by_layer/layer_14/V5_alpha_p1_V5.npz with 1050 questions\n"
     ]
    },
    {
     "name": "stderr",
     "output_type": "stream",
     "text": [
      "Layer 15: 100%|██████████| 1050/1050 [00:02<00:00, 377.99it/s]\n"
     ]
    },
    {
     "name": "stdout",
     "output_type": "stream",
     "text": [
      "Created results/by_layer_20250911_112921/by_layer/layer_15/V5_alpha_p1_V5.npz with 1050 questions\n"
     ]
    },
    {
     "name": "stderr",
     "output_type": "stream",
     "text": [
      "Layer 16: 100%|██████████| 1050/1050 [00:03<00:00, 271.45it/s]\n"
     ]
    },
    {
     "name": "stdout",
     "output_type": "stream",
     "text": [
      "Created results/by_layer_20250911_112921/by_layer/layer_16/V5_alpha_p1_V5.npz with 1050 questions\n"
     ]
    },
    {
     "name": "stderr",
     "output_type": "stream",
     "text": [
      "Layer 17: 100%|██████████| 1050/1050 [00:03<00:00, 338.55it/s]\n"
     ]
    },
    {
     "name": "stdout",
     "output_type": "stream",
     "text": [
      "Created results/by_layer_20250911_112921/by_layer/layer_17/V5_alpha_p1_V5.npz with 1050 questions\n"
     ]
    },
    {
     "name": "stderr",
     "output_type": "stream",
     "text": [
      "Layer 18: 100%|██████████| 1050/1050 [00:02<00:00, 359.32it/s]\n"
     ]
    },
    {
     "name": "stdout",
     "output_type": "stream",
     "text": [
      "Created results/by_layer_20250911_112921/by_layer/layer_18/V5_alpha_p1_V5.npz with 1050 questions\n"
     ]
    },
    {
     "name": "stderr",
     "output_type": "stream",
     "text": [
      "Layer 19: 100%|██████████| 1050/1050 [00:02<00:00, 359.18it/s]\n"
     ]
    },
    {
     "name": "stdout",
     "output_type": "stream",
     "text": [
      "Created results/by_layer_20250911_112921/by_layer/layer_19/V5_alpha_p1_V5.npz with 1050 questions\n"
     ]
    },
    {
     "name": "stderr",
     "output_type": "stream",
     "text": [
      "Layer 20: 100%|██████████| 1050/1050 [00:02<00:00, 352.33it/s]\n"
     ]
    },
    {
     "name": "stdout",
     "output_type": "stream",
     "text": [
      "Created results/by_layer_20250911_112921/by_layer/layer_20/V5_alpha_p1_V5.npz with 1050 questions\n"
     ]
    },
    {
     "name": "stderr",
     "output_type": "stream",
     "text": [
      "Layer 21: 100%|██████████| 1050/1050 [00:02<00:00, 377.40it/s]\n"
     ]
    },
    {
     "name": "stdout",
     "output_type": "stream",
     "text": [
      "Created results/by_layer_20250911_112921/by_layer/layer_21/V5_alpha_p1_V5.npz with 1050 questions\n"
     ]
    },
    {
     "name": "stderr",
     "output_type": "stream",
     "text": [
      "Layer 22: 100%|██████████| 1050/1050 [00:04<00:00, 260.94it/s]\n"
     ]
    },
    {
     "name": "stdout",
     "output_type": "stream",
     "text": [
      "Created results/by_layer_20250911_112921/by_layer/layer_22/V5_alpha_p1_V5.npz with 1050 questions\n"
     ]
    },
    {
     "name": "stderr",
     "output_type": "stream",
     "text": [
      "Layer 23: 100%|██████████| 1050/1050 [00:02<00:00, 351.58it/s]\n"
     ]
    },
    {
     "name": "stdout",
     "output_type": "stream",
     "text": [
      "Created results/by_layer_20250911_112921/by_layer/layer_23/V5_alpha_p1_V5.npz with 1050 questions\n"
     ]
    },
    {
     "name": "stderr",
     "output_type": "stream",
     "text": [
      "Layer 24: 100%|██████████| 1050/1050 [00:02<00:00, 377.20it/s]\n"
     ]
    },
    {
     "name": "stdout",
     "output_type": "stream",
     "text": [
      "Created results/by_layer_20250911_112921/by_layer/layer_24/V5_alpha_p1_V5.npz with 1050 questions\n"
     ]
    },
    {
     "name": "stderr",
     "output_type": "stream",
     "text": [
      "Layer 25: 100%|██████████| 1050/1050 [00:03<00:00, 342.28it/s]\n"
     ]
    },
    {
     "name": "stdout",
     "output_type": "stream",
     "text": [
      "Created results/by_layer_20250911_112921/by_layer/layer_25/V5_alpha_p1_V5.npz with 1050 questions\n"
     ]
    },
    {
     "name": "stderr",
     "output_type": "stream",
     "text": [
      "Layer 26: 100%|██████████| 1050/1050 [00:03<00:00, 344.67it/s]\n"
     ]
    },
    {
     "name": "stdout",
     "output_type": "stream",
     "text": [
      "Created results/by_layer_20250911_112921/by_layer/layer_26/V5_alpha_p1_V5.npz with 1050 questions\n"
     ]
    },
    {
     "name": "stderr",
     "output_type": "stream",
     "text": [
      "Layer 27: 100%|██████████| 1050/1050 [00:03<00:00, 341.90it/s]\n"
     ]
    },
    {
     "name": "stdout",
     "output_type": "stream",
     "text": [
      "Created results/by_layer_20250911_112921/by_layer/layer_27/V5_alpha_p1_V5.npz with 1050 questions\n"
     ]
    },
    {
     "name": "stderr",
     "output_type": "stream",
     "text": [
      "Layer 28: 100%|██████████| 1050/1050 [00:03<00:00, 344.32it/s]\n"
     ]
    },
    {
     "name": "stdout",
     "output_type": "stream",
     "text": [
      "Created results/by_layer_20250911_112921/by_layer/layer_28/V5_alpha_p1_V5.npz with 1050 questions\n"
     ]
    },
    {
     "name": "stderr",
     "output_type": "stream",
     "text": [
      "Layer 29: 100%|██████████| 1050/1050 [00:02<00:00, 352.53it/s]\n"
     ]
    },
    {
     "name": "stdout",
     "output_type": "stream",
     "text": [
      "Created results/by_layer_20250911_112921/by_layer/layer_29/V5_alpha_p1_V5.npz with 1050 questions\n"
     ]
    },
    {
     "name": "stderr",
     "output_type": "stream",
     "text": [
      "Layer 30: 100%|██████████| 1050/1050 [00:02<00:00, 369.99it/s]\n"
     ]
    },
    {
     "name": "stdout",
     "output_type": "stream",
     "text": [
      "Created results/by_layer_20250911_112921/by_layer/layer_30/V5_alpha_p1_V5.npz with 1050 questions\n"
     ]
    },
    {
     "name": "stderr",
     "output_type": "stream",
     "text": [
      "Layer 31: 100%|██████████| 1050/1050 [00:02<00:00, 350.39it/s]\n"
     ]
    },
    {
     "name": "stdout",
     "output_type": "stream",
     "text": [
      "Created results/by_layer_20250911_112921/by_layer/layer_31/V5_alpha_p1_V5.npz with 1050 questions\n"
     ]
    },
    {
     "name": "stderr",
     "output_type": "stream",
     "text": [
      "Layer 32: 100%|██████████| 1050/1050 [00:03<00:00, 347.39it/s]\n"
     ]
    },
    {
     "name": "stdout",
     "output_type": "stream",
     "text": [
      "Created results/by_layer_20250911_112921/by_layer/layer_32/V5_alpha_p1_V5.npz with 1050 questions\n"
     ]
    },
    {
     "name": "stderr",
     "output_type": "stream",
     "text": [
      "Layer 33: 100%|██████████| 1050/1050 [00:04<00:00, 260.57it/s]\n"
     ]
    },
    {
     "name": "stdout",
     "output_type": "stream",
     "text": [
      "Created results/by_layer_20250911_112921/by_layer/layer_33/V5_alpha_p1_V5.npz with 1050 questions\n"
     ]
    },
    {
     "name": "stderr",
     "output_type": "stream",
     "text": [
      "Layer 34: 100%|██████████| 1050/1050 [00:02<00:00, 354.78it/s]\n"
     ]
    },
    {
     "name": "stdout",
     "output_type": "stream",
     "text": [
      "Created results/by_layer_20250911_112921/by_layer/layer_34/V5_alpha_p1_V5.npz with 1050 questions\n",
      "\n",
      "Processing experiment 20/60: results/comprehensive_experiments/run_20250911_062422/V3_alpha_p3\n",
      "Processing experiment: results/comprehensive_experiments/run_20250911_062422/V3_alpha_p3\n",
      "File: hidden_states_V3.npz, Layers: 35, Hidden dim: 2560\n"
     ]
    },
    {
     "name": "stderr",
     "output_type": "stream",
     "text": [
      "Layer 00: 100%|██████████| 1050/1050 [00:02<00:00, 354.56it/s]\n"
     ]
    },
    {
     "name": "stdout",
     "output_type": "stream",
     "text": [
      "Created results/by_layer_20250911_112921/by_layer/layer_00/V3_alpha_p3_V3.npz with 1050 questions\n"
     ]
    },
    {
     "name": "stderr",
     "output_type": "stream",
     "text": [
      "Layer 01: 100%|██████████| 1050/1050 [00:02<00:00, 372.90it/s]\n"
     ]
    },
    {
     "name": "stdout",
     "output_type": "stream",
     "text": [
      "Created results/by_layer_20250911_112921/by_layer/layer_01/V3_alpha_p3_V3.npz with 1050 questions\n"
     ]
    },
    {
     "name": "stderr",
     "output_type": "stream",
     "text": [
      "Layer 02: 100%|██████████| 1050/1050 [00:02<00:00, 359.58it/s]\n"
     ]
    },
    {
     "name": "stdout",
     "output_type": "stream",
     "text": [
      "Created results/by_layer_20250911_112921/by_layer/layer_02/V3_alpha_p3_V3.npz with 1050 questions\n"
     ]
    },
    {
     "name": "stderr",
     "output_type": "stream",
     "text": [
      "Layer 03: 100%|██████████| 1050/1050 [00:03<00:00, 346.49it/s]\n"
     ]
    },
    {
     "name": "stdout",
     "output_type": "stream",
     "text": [
      "Created results/by_layer_20250911_112921/by_layer/layer_03/V3_alpha_p3_V3.npz with 1050 questions\n"
     ]
    },
    {
     "name": "stderr",
     "output_type": "stream",
     "text": [
      "Layer 04: 100%|██████████| 1050/1050 [00:03<00:00, 264.77it/s]\n"
     ]
    },
    {
     "name": "stdout",
     "output_type": "stream",
     "text": [
      "Created results/by_layer_20250911_112921/by_layer/layer_04/V3_alpha_p3_V3.npz with 1050 questions\n"
     ]
    },
    {
     "name": "stderr",
     "output_type": "stream",
     "text": [
      "Layer 05: 100%|██████████| 1050/1050 [00:03<00:00, 343.38it/s]\n"
     ]
    },
    {
     "name": "stdout",
     "output_type": "stream",
     "text": [
      "Created results/by_layer_20250911_112921/by_layer/layer_05/V3_alpha_p3_V3.npz with 1050 questions\n"
     ]
    },
    {
     "name": "stderr",
     "output_type": "stream",
     "text": [
      "Layer 06: 100%|██████████| 1050/1050 [00:02<00:00, 368.75it/s]\n"
     ]
    },
    {
     "name": "stdout",
     "output_type": "stream",
     "text": [
      "Created results/by_layer_20250911_112921/by_layer/layer_06/V3_alpha_p3_V3.npz with 1050 questions\n"
     ]
    },
    {
     "name": "stderr",
     "output_type": "stream",
     "text": [
      "Layer 07: 100%|██████████| 1050/1050 [00:02<00:00, 363.07it/s]\n"
     ]
    },
    {
     "name": "stdout",
     "output_type": "stream",
     "text": [
      "Created results/by_layer_20250911_112921/by_layer/layer_07/V3_alpha_p3_V3.npz with 1050 questions\n"
     ]
    },
    {
     "name": "stderr",
     "output_type": "stream",
     "text": [
      "Layer 08: 100%|██████████| 1050/1050 [00:02<00:00, 352.92it/s]\n"
     ]
    },
    {
     "name": "stdout",
     "output_type": "stream",
     "text": [
      "Created results/by_layer_20250911_112921/by_layer/layer_08/V3_alpha_p3_V3.npz with 1050 questions\n"
     ]
    },
    {
     "name": "stderr",
     "output_type": "stream",
     "text": [
      "Layer 09: 100%|██████████| 1050/1050 [00:03<00:00, 345.17it/s]\n"
     ]
    },
    {
     "name": "stdout",
     "output_type": "stream",
     "text": [
      "Created results/by_layer_20250911_112921/by_layer/layer_09/V3_alpha_p3_V3.npz with 1050 questions\n"
     ]
    },
    {
     "name": "stderr",
     "output_type": "stream",
     "text": [
      "Layer 10: 100%|██████████| 1050/1050 [00:03<00:00, 263.15it/s]\n"
     ]
    },
    {
     "name": "stdout",
     "output_type": "stream",
     "text": [
      "Created results/by_layer_20250911_112921/by_layer/layer_10/V3_alpha_p3_V3.npz with 1050 questions\n"
     ]
    },
    {
     "name": "stderr",
     "output_type": "stream",
     "text": [
      "Layer 11: 100%|██████████| 1050/1050 [00:03<00:00, 337.46it/s]\n"
     ]
    },
    {
     "name": "stdout",
     "output_type": "stream",
     "text": [
      "Created results/by_layer_20250911_112921/by_layer/layer_11/V3_alpha_p3_V3.npz with 1050 questions\n"
     ]
    },
    {
     "name": "stderr",
     "output_type": "stream",
     "text": [
      "Layer 12: 100%|██████████| 1050/1050 [00:02<00:00, 377.80it/s]\n"
     ]
    },
    {
     "name": "stdout",
     "output_type": "stream",
     "text": [
      "Created results/by_layer_20250911_112921/by_layer/layer_12/V3_alpha_p3_V3.npz with 1050 questions\n"
     ]
    },
    {
     "name": "stderr",
     "output_type": "stream",
     "text": [
      "Layer 13: 100%|██████████| 1050/1050 [00:03<00:00, 348.25it/s]\n"
     ]
    },
    {
     "name": "stdout",
     "output_type": "stream",
     "text": [
      "Created results/by_layer_20250911_112921/by_layer/layer_13/V3_alpha_p3_V3.npz with 1050 questions\n"
     ]
    },
    {
     "name": "stderr",
     "output_type": "stream",
     "text": [
      "Layer 14: 100%|██████████| 1050/1050 [00:02<00:00, 357.87it/s]\n"
     ]
    },
    {
     "name": "stdout",
     "output_type": "stream",
     "text": [
      "Created results/by_layer_20250911_112921/by_layer/layer_14/V3_alpha_p3_V3.npz with 1050 questions\n"
     ]
    },
    {
     "name": "stderr",
     "output_type": "stream",
     "text": [
      "Layer 15: 100%|██████████| 1050/1050 [00:02<00:00, 351.21it/s]\n"
     ]
    },
    {
     "name": "stdout",
     "output_type": "stream",
     "text": [
      "Created results/by_layer_20250911_112921/by_layer/layer_15/V3_alpha_p3_V3.npz with 1050 questions\n"
     ]
    },
    {
     "name": "stderr",
     "output_type": "stream",
     "text": [
      "Layer 16: 100%|██████████| 1050/1050 [00:03<00:00, 348.28it/s]\n"
     ]
    },
    {
     "name": "stdout",
     "output_type": "stream",
     "text": [
      "Created results/by_layer_20250911_112921/by_layer/layer_16/V3_alpha_p3_V3.npz with 1050 questions\n"
     ]
    },
    {
     "name": "stderr",
     "output_type": "stream",
     "text": [
      "Layer 17: 100%|██████████| 1050/1050 [00:02<00:00, 362.68it/s]\n"
     ]
    },
    {
     "name": "stdout",
     "output_type": "stream",
     "text": [
      "Created results/by_layer_20250911_112921/by_layer/layer_17/V3_alpha_p3_V3.npz with 1050 questions\n"
     ]
    },
    {
     "name": "stderr",
     "output_type": "stream",
     "text": [
      "Layer 18: 100%|██████████| 1050/1050 [00:02<00:00, 377.63it/s]\n"
     ]
    },
    {
     "name": "stdout",
     "output_type": "stream",
     "text": [
      "Created results/by_layer_20250911_112921/by_layer/layer_18/V3_alpha_p3_V3.npz with 1050 questions\n"
     ]
    },
    {
     "name": "stderr",
     "output_type": "stream",
     "text": [
      "Layer 19: 100%|██████████| 1050/1050 [00:02<00:00, 359.49it/s]\n"
     ]
    },
    {
     "name": "stdout",
     "output_type": "stream",
     "text": [
      "Created results/by_layer_20250911_112921/by_layer/layer_19/V3_alpha_p3_V3.npz with 1050 questions\n"
     ]
    },
    {
     "name": "stderr",
     "output_type": "stream",
     "text": [
      "Layer 20: 100%|██████████| 1050/1050 [00:02<00:00, 351.61it/s]\n"
     ]
    },
    {
     "name": "stdout",
     "output_type": "stream",
     "text": [
      "Created results/by_layer_20250911_112921/by_layer/layer_20/V3_alpha_p3_V3.npz with 1050 questions\n"
     ]
    },
    {
     "name": "stderr",
     "output_type": "stream",
     "text": [
      "Layer 21: 100%|██████████| 1050/1050 [00:04<00:00, 255.45it/s]\n"
     ]
    },
    {
     "name": "stdout",
     "output_type": "stream",
     "text": [
      "Created results/by_layer_20250911_112921/by_layer/layer_21/V3_alpha_p3_V3.npz with 1050 questions\n"
     ]
    },
    {
     "name": "stderr",
     "output_type": "stream",
     "text": [
      "Layer 22: 100%|██████████| 1050/1050 [00:03<00:00, 341.22it/s]\n"
     ]
    },
    {
     "name": "stdout",
     "output_type": "stream",
     "text": [
      "Created results/by_layer_20250911_112921/by_layer/layer_22/V3_alpha_p3_V3.npz with 1050 questions\n"
     ]
    },
    {
     "name": "stderr",
     "output_type": "stream",
     "text": [
      "Layer 23: 100%|██████████| 1050/1050 [00:02<00:00, 375.53it/s]\n"
     ]
    },
    {
     "name": "stdout",
     "output_type": "stream",
     "text": [
      "Created results/by_layer_20250911_112921/by_layer/layer_23/V3_alpha_p3_V3.npz with 1050 questions\n"
     ]
    },
    {
     "name": "stderr",
     "output_type": "stream",
     "text": [
      "Layer 24: 100%|██████████| 1050/1050 [00:02<00:00, 354.45it/s]\n"
     ]
    },
    {
     "name": "stdout",
     "output_type": "stream",
     "text": [
      "Created results/by_layer_20250911_112921/by_layer/layer_24/V3_alpha_p3_V3.npz with 1050 questions\n"
     ]
    },
    {
     "name": "stderr",
     "output_type": "stream",
     "text": [
      "Layer 25: 100%|██████████| 1050/1050 [00:03<00:00, 340.69it/s]\n"
     ]
    },
    {
     "name": "stdout",
     "output_type": "stream",
     "text": [
      "Created results/by_layer_20250911_112921/by_layer/layer_25/V3_alpha_p3_V3.npz with 1050 questions\n"
     ]
    },
    {
     "name": "stderr",
     "output_type": "stream",
     "text": [
      "Layer 26: 100%|██████████| 1050/1050 [00:02<00:00, 357.99it/s]\n"
     ]
    },
    {
     "name": "stdout",
     "output_type": "stream",
     "text": [
      "Created results/by_layer_20250911_112921/by_layer/layer_26/V3_alpha_p3_V3.npz with 1050 questions\n"
     ]
    },
    {
     "name": "stderr",
     "output_type": "stream",
     "text": [
      "Layer 27: 100%|██████████| 1050/1050 [00:02<00:00, 350.06it/s]\n"
     ]
    },
    {
     "name": "stdout",
     "output_type": "stream",
     "text": [
      "Created results/by_layer_20250911_112921/by_layer/layer_27/V3_alpha_p3_V3.npz with 1050 questions\n"
     ]
    },
    {
     "name": "stderr",
     "output_type": "stream",
     "text": [
      "Layer 28: 100%|██████████| 1050/1050 [00:02<00:00, 350.98it/s]\n"
     ]
    },
    {
     "name": "stdout",
     "output_type": "stream",
     "text": [
      "Created results/by_layer_20250911_112921/by_layer/layer_28/V3_alpha_p3_V3.npz with 1050 questions\n"
     ]
    },
    {
     "name": "stderr",
     "output_type": "stream",
     "text": [
      "Layer 29: 100%|██████████| 1050/1050 [00:03<00:00, 348.54it/s]\n"
     ]
    },
    {
     "name": "stdout",
     "output_type": "stream",
     "text": [
      "Created results/by_layer_20250911_112921/by_layer/layer_29/V3_alpha_p3_V3.npz with 1050 questions\n"
     ]
    },
    {
     "name": "stderr",
     "output_type": "stream",
     "text": [
      "Layer 30: 100%|██████████| 1050/1050 [00:03<00:00, 345.12it/s]\n"
     ]
    },
    {
     "name": "stdout",
     "output_type": "stream",
     "text": [
      "Created results/by_layer_20250911_112921/by_layer/layer_30/V3_alpha_p3_V3.npz with 1050 questions\n"
     ]
    },
    {
     "name": "stderr",
     "output_type": "stream",
     "text": [
      "Layer 31: 100%|██████████| 1050/1050 [00:02<00:00, 363.85it/s]\n"
     ]
    },
    {
     "name": "stdout",
     "output_type": "stream",
     "text": [
      "Created results/by_layer_20250911_112921/by_layer/layer_31/V3_alpha_p3_V3.npz with 1050 questions\n"
     ]
    },
    {
     "name": "stderr",
     "output_type": "stream",
     "text": [
      "Layer 32: 100%|██████████| 1050/1050 [00:02<00:00, 369.80it/s]\n"
     ]
    },
    {
     "name": "stdout",
     "output_type": "stream",
     "text": [
      "Created results/by_layer_20250911_112921/by_layer/layer_32/V3_alpha_p3_V3.npz with 1050 questions\n"
     ]
    },
    {
     "name": "stderr",
     "output_type": "stream",
     "text": [
      "Layer 33: 100%|██████████| 1050/1050 [00:02<00:00, 360.92it/s]\n"
     ]
    },
    {
     "name": "stdout",
     "output_type": "stream",
     "text": [
      "Created results/by_layer_20250911_112921/by_layer/layer_33/V3_alpha_p3_V3.npz with 1050 questions\n"
     ]
    },
    {
     "name": "stderr",
     "output_type": "stream",
     "text": [
      "Layer 34: 100%|██████████| 1050/1050 [00:02<00:00, 352.41it/s]\n"
     ]
    },
    {
     "name": "stdout",
     "output_type": "stream",
     "text": [
      "Created results/by_layer_20250911_112921/by_layer/layer_34/V3_alpha_p3_V3.npz with 1050 questions\n",
      "\n",
      "Processing experiment 21/60: results/comprehensive_experiments/run_20250911_062422/V4_num_p1\n",
      "Processing experiment: results/comprehensive_experiments/run_20250911_062422/V4_num_p1\n",
      "File: hidden_states_V4.npz, Layers: 35, Hidden dim: 2560\n"
     ]
    },
    {
     "name": "stderr",
     "output_type": "stream",
     "text": [
      "Layer 00: 100%|██████████| 1050/1050 [00:03<00:00, 324.03it/s]\n"
     ]
    },
    {
     "name": "stdout",
     "output_type": "stream",
     "text": [
      "Created results/by_layer_20250911_112921/by_layer/layer_00/V4_num_p1_V4.npz with 1050 questions\n"
     ]
    },
    {
     "name": "stderr",
     "output_type": "stream",
     "text": [
      "Layer 01: 100%|██████████| 1050/1050 [00:04<00:00, 243.91it/s]\n"
     ]
    },
    {
     "name": "stdout",
     "output_type": "stream",
     "text": [
      "Created results/by_layer_20250911_112921/by_layer/layer_01/V4_num_p1_V4.npz with 1050 questions\n"
     ]
    },
    {
     "name": "stderr",
     "output_type": "stream",
     "text": [
      "Layer 02: 100%|██████████| 1050/1050 [00:03<00:00, 344.16it/s]\n"
     ]
    },
    {
     "name": "stdout",
     "output_type": "stream",
     "text": [
      "Created results/by_layer_20250911_112921/by_layer/layer_02/V4_num_p1_V4.npz with 1050 questions\n"
     ]
    },
    {
     "name": "stderr",
     "output_type": "stream",
     "text": [
      "Layer 03: 100%|██████████| 1050/1050 [00:02<00:00, 363.17it/s]\n"
     ]
    },
    {
     "name": "stdout",
     "output_type": "stream",
     "text": [
      "Created results/by_layer_20250911_112921/by_layer/layer_03/V4_num_p1_V4.npz with 1050 questions\n"
     ]
    },
    {
     "name": "stderr",
     "output_type": "stream",
     "text": [
      "Layer 04: 100%|██████████| 1050/1050 [00:02<00:00, 362.18it/s]\n"
     ]
    },
    {
     "name": "stdout",
     "output_type": "stream",
     "text": [
      "Created results/by_layer_20250911_112921/by_layer/layer_04/V4_num_p1_V4.npz with 1050 questions\n"
     ]
    },
    {
     "name": "stderr",
     "output_type": "stream",
     "text": [
      "Layer 05: 100%|██████████| 1050/1050 [00:03<00:00, 342.51it/s]\n"
     ]
    },
    {
     "name": "stdout",
     "output_type": "stream",
     "text": [
      "Created results/by_layer_20250911_112921/by_layer/layer_05/V4_num_p1_V4.npz with 1050 questions\n"
     ]
    },
    {
     "name": "stderr",
     "output_type": "stream",
     "text": [
      "Layer 06: 100%|██████████| 1050/1050 [00:02<00:00, 351.50it/s]\n"
     ]
    },
    {
     "name": "stdout",
     "output_type": "stream",
     "text": [
      "Created results/by_layer_20250911_112921/by_layer/layer_06/V4_num_p1_V4.npz with 1050 questions\n"
     ]
    },
    {
     "name": "stderr",
     "output_type": "stream",
     "text": [
      "Layer 07: 100%|██████████| 1050/1050 [00:03<00:00, 339.89it/s]\n"
     ]
    },
    {
     "name": "stdout",
     "output_type": "stream",
     "text": [
      "Created results/by_layer_20250911_112921/by_layer/layer_07/V4_num_p1_V4.npz with 1050 questions\n"
     ]
    },
    {
     "name": "stderr",
     "output_type": "stream",
     "text": [
      "Layer 08: 100%|██████████| 1050/1050 [00:02<00:00, 378.06it/s]\n"
     ]
    },
    {
     "name": "stdout",
     "output_type": "stream",
     "text": [
      "Created results/by_layer_20250911_112921/by_layer/layer_08/V4_num_p1_V4.npz with 1050 questions\n"
     ]
    },
    {
     "name": "stderr",
     "output_type": "stream",
     "text": [
      "Layer 09: 100%|██████████| 1050/1050 [00:02<00:00, 370.51it/s]\n"
     ]
    },
    {
     "name": "stdout",
     "output_type": "stream",
     "text": [
      "Created results/by_layer_20250911_112921/by_layer/layer_09/V4_num_p1_V4.npz with 1050 questions\n"
     ]
    },
    {
     "name": "stderr",
     "output_type": "stream",
     "text": [
      "Layer 10: 100%|██████████| 1050/1050 [00:02<00:00, 360.26it/s]\n"
     ]
    },
    {
     "name": "stdout",
     "output_type": "stream",
     "text": [
      "Created results/by_layer_20250911_112921/by_layer/layer_10/V4_num_p1_V4.npz with 1050 questions\n"
     ]
    },
    {
     "name": "stderr",
     "output_type": "stream",
     "text": [
      "Layer 11: 100%|██████████| 1050/1050 [00:02<00:00, 350.19it/s]\n"
     ]
    },
    {
     "name": "stdout",
     "output_type": "stream",
     "text": [
      "Created results/by_layer_20250911_112921/by_layer/layer_11/V4_num_p1_V4.npz with 1050 questions\n"
     ]
    },
    {
     "name": "stderr",
     "output_type": "stream",
     "text": [
      "Layer 12: 100%|██████████| 1050/1050 [00:04<00:00, 246.88it/s]\n"
     ]
    },
    {
     "name": "stdout",
     "output_type": "stream",
     "text": [
      "Created results/by_layer_20250911_112921/by_layer/layer_12/V4_num_p1_V4.npz with 1050 questions\n"
     ]
    },
    {
     "name": "stderr",
     "output_type": "stream",
     "text": [
      "Layer 13: 100%|██████████| 1050/1050 [00:03<00:00, 341.16it/s]\n"
     ]
    },
    {
     "name": "stdout",
     "output_type": "stream",
     "text": [
      "Created results/by_layer_20250911_112921/by_layer/layer_13/V4_num_p1_V4.npz with 1050 questions\n"
     ]
    },
    {
     "name": "stderr",
     "output_type": "stream",
     "text": [
      "Layer 14: 100%|██████████| 1050/1050 [00:02<00:00, 383.63it/s]\n"
     ]
    },
    {
     "name": "stdout",
     "output_type": "stream",
     "text": [
      "Created results/by_layer_20250911_112921/by_layer/layer_14/V4_num_p1_V4.npz with 1050 questions\n"
     ]
    },
    {
     "name": "stderr",
     "output_type": "stream",
     "text": [
      "Layer 15: 100%|██████████| 1050/1050 [00:03<00:00, 263.20it/s]\n"
     ]
    },
    {
     "name": "stdout",
     "output_type": "stream",
     "text": [
      "Created results/by_layer_20250911_112921/by_layer/layer_15/V4_num_p1_V4.npz with 1050 questions\n"
     ]
    },
    {
     "name": "stderr",
     "output_type": "stream",
     "text": [
      "Layer 16: 100%|██████████| 1050/1050 [24:00<00:00,  1.37s/it] \n"
     ]
    },
    {
     "name": "stdout",
     "output_type": "stream",
     "text": [
      "Created results/by_layer_20250911_112921/by_layer/layer_16/V4_num_p1_V4.npz with 1050 questions\n"
     ]
    },
    {
     "name": "stderr",
     "output_type": "stream",
     "text": [
      "Layer 17: 100%|██████████| 1050/1050 [00:01<00:00, 556.69it/s]\n"
     ]
    },
    {
     "name": "stdout",
     "output_type": "stream",
     "text": [
      "Created results/by_layer_20250911_112921/by_layer/layer_17/V4_num_p1_V4.npz with 1050 questions\n"
     ]
    },
    {
     "name": "stderr",
     "output_type": "stream",
     "text": [
      "Layer 18: 100%|██████████| 1050/1050 [00:02<00:00, 524.52it/s]\n"
     ]
    },
    {
     "name": "stdout",
     "output_type": "stream",
     "text": [
      "Created results/by_layer_20250911_112921/by_layer/layer_18/V4_num_p1_V4.npz with 1050 questions\n"
     ]
    },
    {
     "name": "stderr",
     "output_type": "stream",
     "text": [
      "Layer 19: 100%|██████████| 1050/1050 [00:02<00:00, 463.81it/s]\n"
     ]
    },
    {
     "name": "stdout",
     "output_type": "stream",
     "text": [
      "Created results/by_layer_20250911_112921/by_layer/layer_19/V4_num_p1_V4.npz with 1050 questions\n"
     ]
    },
    {
     "name": "stderr",
     "output_type": "stream",
     "text": [
      "Layer 20: 100%|██████████| 1050/1050 [00:02<00:00, 510.44it/s]\n"
     ]
    },
    {
     "name": "stdout",
     "output_type": "stream",
     "text": [
      "Created results/by_layer_20250911_112921/by_layer/layer_20/V4_num_p1_V4.npz with 1050 questions\n"
     ]
    },
    {
     "name": "stderr",
     "output_type": "stream",
     "text": [
      "Layer 21: 100%|██████████| 1050/1050 [00:02<00:00, 500.98it/s]\n"
     ]
    },
    {
     "name": "stdout",
     "output_type": "stream",
     "text": [
      "Created results/by_layer_20250911_112921/by_layer/layer_21/V4_num_p1_V4.npz with 1050 questions\n"
     ]
    },
    {
     "name": "stderr",
     "output_type": "stream",
     "text": [
      "Layer 22: 100%|██████████| 1050/1050 [00:02<00:00, 499.34it/s]\n"
     ]
    },
    {
     "name": "stdout",
     "output_type": "stream",
     "text": [
      "Created results/by_layer_20250911_112921/by_layer/layer_22/V4_num_p1_V4.npz with 1050 questions\n"
     ]
    },
    {
     "name": "stderr",
     "output_type": "stream",
     "text": [
      "Layer 23: 100%|██████████| 1050/1050 [00:01<00:00, 545.54it/s]\n"
     ]
    },
    {
     "name": "stdout",
     "output_type": "stream",
     "text": [
      "Created results/by_layer_20250911_112921/by_layer/layer_23/V4_num_p1_V4.npz with 1050 questions\n"
     ]
    },
    {
     "name": "stderr",
     "output_type": "stream",
     "text": [
      "Layer 24: 100%|██████████| 1050/1050 [00:01<00:00, 531.83it/s]\n"
     ]
    },
    {
     "name": "stdout",
     "output_type": "stream",
     "text": [
      "Created results/by_layer_20250911_112921/by_layer/layer_24/V4_num_p1_V4.npz with 1050 questions\n"
     ]
    },
    {
     "name": "stderr",
     "output_type": "stream",
     "text": [
      "Layer 25: 100%|██████████| 1050/1050 [00:01<00:00, 536.21it/s]\n"
     ]
    },
    {
     "name": "stdout",
     "output_type": "stream",
     "text": [
      "Created results/by_layer_20250911_112921/by_layer/layer_25/V4_num_p1_V4.npz with 1050 questions\n"
     ]
    },
    {
     "name": "stderr",
     "output_type": "stream",
     "text": [
      "Layer 26: 100%|██████████| 1050/1050 [00:01<00:00, 541.10it/s]\n"
     ]
    },
    {
     "name": "stdout",
     "output_type": "stream",
     "text": [
      "Created results/by_layer_20250911_112921/by_layer/layer_26/V4_num_p1_V4.npz with 1050 questions\n"
     ]
    },
    {
     "name": "stderr",
     "output_type": "stream",
     "text": [
      "Layer 27: 100%|██████████| 1050/1050 [00:01<00:00, 562.01it/s]\n"
     ]
    },
    {
     "name": "stdout",
     "output_type": "stream",
     "text": [
      "Created results/by_layer_20250911_112921/by_layer/layer_27/V4_num_p1_V4.npz with 1050 questions\n"
     ]
    },
    {
     "name": "stderr",
     "output_type": "stream",
     "text": [
      "Layer 28: 100%|██████████| 1050/1050 [00:01<00:00, 552.06it/s]\n"
     ]
    },
    {
     "name": "stdout",
     "output_type": "stream",
     "text": [
      "Created results/by_layer_20250911_112921/by_layer/layer_28/V4_num_p1_V4.npz with 1050 questions\n"
     ]
    },
    {
     "name": "stderr",
     "output_type": "stream",
     "text": [
      "Layer 29: 100%|██████████| 1050/1050 [00:01<00:00, 560.18it/s]\n"
     ]
    },
    {
     "name": "stdout",
     "output_type": "stream",
     "text": [
      "Created results/by_layer_20250911_112921/by_layer/layer_29/V4_num_p1_V4.npz with 1050 questions\n"
     ]
    },
    {
     "name": "stderr",
     "output_type": "stream",
     "text": [
      "Layer 30: 100%|██████████| 1050/1050 [00:01<00:00, 543.07it/s]\n"
     ]
    },
    {
     "name": "stdout",
     "output_type": "stream",
     "text": [
      "Created results/by_layer_20250911_112921/by_layer/layer_30/V4_num_p1_V4.npz with 1050 questions\n"
     ]
    },
    {
     "name": "stderr",
     "output_type": "stream",
     "text": [
      "Layer 31: 100%|██████████| 1050/1050 [00:01<00:00, 560.64it/s]\n"
     ]
    },
    {
     "name": "stdout",
     "output_type": "stream",
     "text": [
      "Created results/by_layer_20250911_112921/by_layer/layer_31/V4_num_p1_V4.npz with 1050 questions\n"
     ]
    },
    {
     "name": "stderr",
     "output_type": "stream",
     "text": [
      "Layer 32: 100%|██████████| 1050/1050 [00:01<00:00, 536.41it/s]\n"
     ]
    },
    {
     "name": "stdout",
     "output_type": "stream",
     "text": [
      "Created results/by_layer_20250911_112921/by_layer/layer_32/V4_num_p1_V4.npz with 1050 questions\n"
     ]
    },
    {
     "name": "stderr",
     "output_type": "stream",
     "text": [
      "Layer 33: 100%|██████████| 1050/1050 [00:01<00:00, 577.97it/s]\n"
     ]
    },
    {
     "name": "stdout",
     "output_type": "stream",
     "text": [
      "Created results/by_layer_20250911_112921/by_layer/layer_33/V4_num_p1_V4.npz with 1050 questions\n"
     ]
    },
    {
     "name": "stderr",
     "output_type": "stream",
     "text": [
      "Layer 34: 100%|██████████| 1050/1050 [00:01<00:00, 591.33it/s]\n"
     ]
    },
    {
     "name": "stdout",
     "output_type": "stream",
     "text": [
      "Created results/by_layer_20250911_112921/by_layer/layer_34/V4_num_p1_V4.npz with 1050 questions\n",
      "\n",
      "Processing experiment 22/60: results/comprehensive_experiments/run_20250911_062422/V2_num_p3\n",
      "Processing experiment: results/comprehensive_experiments/run_20250911_062422/V2_num_p3\n",
      "File: hidden_states_V2.npz, Layers: 35, Hidden dim: 2560\n"
     ]
    },
    {
     "name": "stderr",
     "output_type": "stream",
     "text": [
      "Layer 00: 100%|██████████| 1050/1050 [00:02<00:00, 425.45it/s]\n"
     ]
    },
    {
     "name": "stdout",
     "output_type": "stream",
     "text": [
      "Created results/by_layer_20250911_112921/by_layer/layer_00/V2_num_p3_V2.npz with 1050 questions\n"
     ]
    },
    {
     "name": "stderr",
     "output_type": "stream",
     "text": [
      "Layer 01: 100%|██████████| 1050/1050 [00:01<00:00, 525.41it/s]\n"
     ]
    },
    {
     "name": "stdout",
     "output_type": "stream",
     "text": [
      "Created results/by_layer_20250911_112921/by_layer/layer_01/V2_num_p3_V2.npz with 1050 questions\n"
     ]
    },
    {
     "name": "stderr",
     "output_type": "stream",
     "text": [
      "Layer 02: 100%|██████████| 1050/1050 [00:02<00:00, 516.26it/s]\n"
     ]
    },
    {
     "name": "stdout",
     "output_type": "stream",
     "text": [
      "Created results/by_layer_20250911_112921/by_layer/layer_02/V2_num_p3_V2.npz with 1050 questions\n"
     ]
    },
    {
     "name": "stderr",
     "output_type": "stream",
     "text": [
      "Layer 03: 100%|██████████| 1050/1050 [00:01<00:00, 549.53it/s]\n"
     ]
    },
    {
     "name": "stdout",
     "output_type": "stream",
     "text": [
      "Created results/by_layer_20250911_112921/by_layer/layer_03/V2_num_p3_V2.npz with 1050 questions\n"
     ]
    },
    {
     "name": "stderr",
     "output_type": "stream",
     "text": [
      "Layer 04: 100%|██████████| 1050/1050 [00:01<00:00, 539.55it/s]\n"
     ]
    },
    {
     "name": "stdout",
     "output_type": "stream",
     "text": [
      "Created results/by_layer_20250911_112921/by_layer/layer_04/V2_num_p3_V2.npz with 1050 questions\n"
     ]
    },
    {
     "name": "stderr",
     "output_type": "stream",
     "text": [
      "Layer 05: 100%|██████████| 1050/1050 [00:01<00:00, 547.18it/s]\n"
     ]
    },
    {
     "name": "stdout",
     "output_type": "stream",
     "text": [
      "Created results/by_layer_20250911_112921/by_layer/layer_05/V2_num_p3_V2.npz with 1050 questions\n"
     ]
    },
    {
     "name": "stderr",
     "output_type": "stream",
     "text": [
      "Layer 06: 100%|██████████| 1050/1050 [00:02<00:00, 505.93it/s]\n"
     ]
    },
    {
     "name": "stdout",
     "output_type": "stream",
     "text": [
      "Created results/by_layer_20250911_112921/by_layer/layer_06/V2_num_p3_V2.npz with 1050 questions\n"
     ]
    },
    {
     "name": "stderr",
     "output_type": "stream",
     "text": [
      "Layer 07: 100%|██████████| 1050/1050 [00:01<00:00, 528.84it/s]\n"
     ]
    },
    {
     "name": "stdout",
     "output_type": "stream",
     "text": [
      "Created results/by_layer_20250911_112921/by_layer/layer_07/V2_num_p3_V2.npz with 1050 questions\n"
     ]
    },
    {
     "name": "stderr",
     "output_type": "stream",
     "text": [
      "Layer 08: 100%|██████████| 1050/1050 [00:01<00:00, 580.55it/s]\n"
     ]
    },
    {
     "name": "stdout",
     "output_type": "stream",
     "text": [
      "Created results/by_layer_20250911_112921/by_layer/layer_08/V2_num_p3_V2.npz with 1050 questions\n"
     ]
    },
    {
     "name": "stderr",
     "output_type": "stream",
     "text": [
      "Layer 09: 100%|██████████| 1050/1050 [00:01<00:00, 536.43it/s]\n"
     ]
    },
    {
     "name": "stdout",
     "output_type": "stream",
     "text": [
      "Created results/by_layer_20250911_112921/by_layer/layer_09/V2_num_p3_V2.npz with 1050 questions\n"
     ]
    },
    {
     "name": "stderr",
     "output_type": "stream",
     "text": [
      "Layer 10: 100%|██████████| 1050/1050 [00:01<00:00, 548.09it/s]\n"
     ]
    },
    {
     "name": "stdout",
     "output_type": "stream",
     "text": [
      "Created results/by_layer_20250911_112921/by_layer/layer_10/V2_num_p3_V2.npz with 1050 questions\n"
     ]
    },
    {
     "name": "stderr",
     "output_type": "stream",
     "text": [
      "Layer 11: 100%|██████████| 1050/1050 [00:02<00:00, 524.29it/s]\n"
     ]
    },
    {
     "name": "stdout",
     "output_type": "stream",
     "text": [
      "Created results/by_layer_20250911_112921/by_layer/layer_11/V2_num_p3_V2.npz with 1050 questions\n"
     ]
    },
    {
     "name": "stderr",
     "output_type": "stream",
     "text": [
      "Layer 12: 100%|██████████| 1050/1050 [00:01<00:00, 545.71it/s]\n"
     ]
    },
    {
     "name": "stdout",
     "output_type": "stream",
     "text": [
      "Created results/by_layer_20250911_112921/by_layer/layer_12/V2_num_p3_V2.npz with 1050 questions\n"
     ]
    },
    {
     "name": "stderr",
     "output_type": "stream",
     "text": [
      "Layer 13: 100%|██████████| 1050/1050 [00:02<00:00, 483.41it/s]\n"
     ]
    },
    {
     "name": "stdout",
     "output_type": "stream",
     "text": [
      "Created results/by_layer_20250911_112921/by_layer/layer_13/V2_num_p3_V2.npz with 1050 questions\n"
     ]
    },
    {
     "name": "stderr",
     "output_type": "stream",
     "text": [
      "Layer 14: 100%|██████████| 1050/1050 [00:01<00:00, 539.56it/s]\n"
     ]
    },
    {
     "name": "stdout",
     "output_type": "stream",
     "text": [
      "Created results/by_layer_20250911_112921/by_layer/layer_14/V2_num_p3_V2.npz with 1050 questions\n"
     ]
    },
    {
     "name": "stderr",
     "output_type": "stream",
     "text": [
      "Layer 15: 100%|██████████| 1050/1050 [00:03<00:00, 339.51it/s]\n"
     ]
    },
    {
     "name": "stdout",
     "output_type": "stream",
     "text": [
      "Created results/by_layer_20250911_112921/by_layer/layer_15/V2_num_p3_V2.npz with 1050 questions\n"
     ]
    },
    {
     "name": "stderr",
     "output_type": "stream",
     "text": [
      "Layer 16: 100%|██████████| 1050/1050 [00:01<00:00, 525.90it/s]\n"
     ]
    },
    {
     "name": "stdout",
     "output_type": "stream",
     "text": [
      "Created results/by_layer_20250911_112921/by_layer/layer_16/V2_num_p3_V2.npz with 1050 questions\n"
     ]
    },
    {
     "name": "stderr",
     "output_type": "stream",
     "text": [
      "Layer 17: 100%|██████████| 1050/1050 [00:01<00:00, 527.10it/s]\n"
     ]
    },
    {
     "name": "stdout",
     "output_type": "stream",
     "text": [
      "Created results/by_layer_20250911_112921/by_layer/layer_17/V2_num_p3_V2.npz with 1050 questions\n"
     ]
    },
    {
     "name": "stderr",
     "output_type": "stream",
     "text": [
      "Layer 18: 100%|██████████| 1050/1050 [00:01<00:00, 574.60it/s]\n"
     ]
    },
    {
     "name": "stdout",
     "output_type": "stream",
     "text": [
      "Created results/by_layer_20250911_112921/by_layer/layer_18/V2_num_p3_V2.npz with 1050 questions\n"
     ]
    },
    {
     "name": "stderr",
     "output_type": "stream",
     "text": [
      "Layer 19: 100%|██████████| 1050/1050 [00:01<00:00, 568.30it/s]\n"
     ]
    },
    {
     "name": "stdout",
     "output_type": "stream",
     "text": [
      "Created results/by_layer_20250911_112921/by_layer/layer_19/V2_num_p3_V2.npz with 1050 questions\n"
     ]
    },
    {
     "name": "stderr",
     "output_type": "stream",
     "text": [
      "Layer 20: 100%|██████████| 1050/1050 [00:01<00:00, 551.20it/s]\n"
     ]
    },
    {
     "name": "stdout",
     "output_type": "stream",
     "text": [
      "Created results/by_layer_20250911_112921/by_layer/layer_20/V2_num_p3_V2.npz with 1050 questions\n"
     ]
    },
    {
     "name": "stderr",
     "output_type": "stream",
     "text": [
      "Layer 21: 100%|██████████| 1050/1050 [00:01<00:00, 543.83it/s]\n"
     ]
    },
    {
     "name": "stdout",
     "output_type": "stream",
     "text": [
      "Created results/by_layer_20250911_112921/by_layer/layer_21/V2_num_p3_V2.npz with 1050 questions\n"
     ]
    },
    {
     "name": "stderr",
     "output_type": "stream",
     "text": [
      "Layer 22: 100%|██████████| 1050/1050 [00:01<00:00, 544.91it/s]\n"
     ]
    },
    {
     "name": "stdout",
     "output_type": "stream",
     "text": [
      "Created results/by_layer_20250911_112921/by_layer/layer_22/V2_num_p3_V2.npz with 1050 questions\n"
     ]
    },
    {
     "name": "stderr",
     "output_type": "stream",
     "text": [
      "Layer 23: 100%|██████████| 1050/1050 [00:01<00:00, 546.17it/s]\n"
     ]
    },
    {
     "name": "stdout",
     "output_type": "stream",
     "text": [
      "Created results/by_layer_20250911_112921/by_layer/layer_23/V2_num_p3_V2.npz with 1050 questions\n"
     ]
    },
    {
     "name": "stderr",
     "output_type": "stream",
     "text": [
      "Layer 24: 100%|██████████| 1050/1050 [00:01<00:00, 534.53it/s]\n"
     ]
    },
    {
     "name": "stdout",
     "output_type": "stream",
     "text": [
      "Created results/by_layer_20250911_112921/by_layer/layer_24/V2_num_p3_V2.npz with 1050 questions\n"
     ]
    },
    {
     "name": "stderr",
     "output_type": "stream",
     "text": [
      "Layer 25: 100%|██████████| 1050/1050 [00:01<00:00, 527.90it/s]\n"
     ]
    },
    {
     "name": "stdout",
     "output_type": "stream",
     "text": [
      "Created results/by_layer_20250911_112921/by_layer/layer_25/V2_num_p3_V2.npz with 1050 questions\n"
     ]
    },
    {
     "name": "stderr",
     "output_type": "stream",
     "text": [
      "Layer 26: 100%|██████████| 1050/1050 [00:01<00:00, 540.56it/s]\n"
     ]
    },
    {
     "name": "stdout",
     "output_type": "stream",
     "text": [
      "Created results/by_layer_20250911_112921/by_layer/layer_26/V2_num_p3_V2.npz with 1050 questions\n"
     ]
    },
    {
     "name": "stderr",
     "output_type": "stream",
     "text": [
      "Layer 27: 100%|██████████| 1050/1050 [00:01<00:00, 549.32it/s]\n"
     ]
    },
    {
     "name": "stdout",
     "output_type": "stream",
     "text": [
      "Created results/by_layer_20250911_112921/by_layer/layer_27/V2_num_p3_V2.npz with 1050 questions\n"
     ]
    },
    {
     "name": "stderr",
     "output_type": "stream",
     "text": [
      "Layer 28: 100%|██████████| 1050/1050 [00:02<00:00, 503.81it/s]\n"
     ]
    },
    {
     "name": "stdout",
     "output_type": "stream",
     "text": [
      "Created results/by_layer_20250911_112921/by_layer/layer_28/V2_num_p3_V2.npz with 1050 questions\n"
     ]
    },
    {
     "name": "stderr",
     "output_type": "stream",
     "text": [
      "Layer 29: 100%|██████████| 1050/1050 [00:01<00:00, 532.49it/s]\n"
     ]
    },
    {
     "name": "stdout",
     "output_type": "stream",
     "text": [
      "Created results/by_layer_20250911_112921/by_layer/layer_29/V2_num_p3_V2.npz with 1050 questions\n"
     ]
    },
    {
     "name": "stderr",
     "output_type": "stream",
     "text": [
      "Layer 30: 100%|██████████| 1050/1050 [00:02<00:00, 521.76it/s]\n"
     ]
    },
    {
     "name": "stdout",
     "output_type": "stream",
     "text": [
      "Created results/by_layer_20250911_112921/by_layer/layer_30/V2_num_p3_V2.npz with 1050 questions\n"
     ]
    },
    {
     "name": "stderr",
     "output_type": "stream",
     "text": [
      "Layer 31: 100%|██████████| 1050/1050 [00:01<00:00, 544.06it/s]\n"
     ]
    },
    {
     "name": "stdout",
     "output_type": "stream",
     "text": [
      "Created results/by_layer_20250911_112921/by_layer/layer_31/V2_num_p3_V2.npz with 1050 questions\n"
     ]
    },
    {
     "name": "stderr",
     "output_type": "stream",
     "text": [
      "Layer 32: 100%|██████████| 1050/1050 [00:02<00:00, 368.97it/s]\n"
     ]
    },
    {
     "name": "stdout",
     "output_type": "stream",
     "text": [
      "Created results/by_layer_20250911_112921/by_layer/layer_32/V2_num_p3_V2.npz with 1050 questions\n"
     ]
    },
    {
     "name": "stderr",
     "output_type": "stream",
     "text": [
      "Layer 33: 100%|██████████| 1050/1050 [00:02<00:00, 501.22it/s]\n"
     ]
    },
    {
     "name": "stdout",
     "output_type": "stream",
     "text": [
      "Created results/by_layer_20250911_112921/by_layer/layer_33/V2_num_p3_V2.npz with 1050 questions\n"
     ]
    },
    {
     "name": "stderr",
     "output_type": "stream",
     "text": [
      "Layer 34: 100%|██████████| 1050/1050 [00:01<00:00, 572.10it/s]\n"
     ]
    },
    {
     "name": "stdout",
     "output_type": "stream",
     "text": [
      "Created results/by_layer_20250911_112921/by_layer/layer_34/V2_num_p3_V2.npz with 1050 questions\n",
      "\n",
      "Processing experiment 23/60: results/comprehensive_experiments/run_20250911_062422/V5_alpha_p3\n",
      "Processing experiment: results/comprehensive_experiments/run_20250911_062422/V5_alpha_p3\n",
      "File: hidden_states_V5.npz, Layers: 35, Hidden dim: 2560\n"
     ]
    },
    {
     "name": "stderr",
     "output_type": "stream",
     "text": [
      "Layer 00: 100%|██████████| 1050/1050 [00:02<00:00, 439.41it/s]\n"
     ]
    },
    {
     "name": "stdout",
     "output_type": "stream",
     "text": [
      "Created results/by_layer_20250911_112921/by_layer/layer_00/V5_alpha_p3_V5.npz with 1050 questions\n"
     ]
    },
    {
     "name": "stderr",
     "output_type": "stream",
     "text": [
      "Layer 01: 100%|██████████| 1050/1050 [00:01<00:00, 579.86it/s]\n"
     ]
    },
    {
     "name": "stdout",
     "output_type": "stream",
     "text": [
      "Created results/by_layer_20250911_112921/by_layer/layer_01/V5_alpha_p3_V5.npz with 1050 questions\n"
     ]
    },
    {
     "name": "stderr",
     "output_type": "stream",
     "text": [
      "Layer 02: 100%|██████████| 1050/1050 [00:01<00:00, 552.11it/s]\n"
     ]
    },
    {
     "name": "stdout",
     "output_type": "stream",
     "text": [
      "Created results/by_layer_20250911_112921/by_layer/layer_02/V5_alpha_p3_V5.npz with 1050 questions\n"
     ]
    },
    {
     "name": "stderr",
     "output_type": "stream",
     "text": [
      "Layer 03: 100%|██████████| 1050/1050 [00:01<00:00, 537.80it/s]\n"
     ]
    },
    {
     "name": "stdout",
     "output_type": "stream",
     "text": [
      "Created results/by_layer_20250911_112921/by_layer/layer_03/V5_alpha_p3_V5.npz with 1050 questions\n"
     ]
    },
    {
     "name": "stderr",
     "output_type": "stream",
     "text": [
      "Layer 04: 100%|██████████| 1050/1050 [00:01<00:00, 543.98it/s]\n"
     ]
    },
    {
     "name": "stdout",
     "output_type": "stream",
     "text": [
      "Created results/by_layer_20250911_112921/by_layer/layer_04/V5_alpha_p3_V5.npz with 1050 questions\n"
     ]
    },
    {
     "name": "stderr",
     "output_type": "stream",
     "text": [
      "Layer 05: 100%|██████████| 1050/1050 [00:01<00:00, 568.09it/s]\n"
     ]
    },
    {
     "name": "stdout",
     "output_type": "stream",
     "text": [
      "Created results/by_layer_20250911_112921/by_layer/layer_05/V5_alpha_p3_V5.npz with 1050 questions\n"
     ]
    },
    {
     "name": "stderr",
     "output_type": "stream",
     "text": [
      "Layer 06: 100%|██████████| 1050/1050 [00:01<00:00, 567.06it/s]\n"
     ]
    },
    {
     "name": "stdout",
     "output_type": "stream",
     "text": [
      "Created results/by_layer_20250911_112921/by_layer/layer_06/V5_alpha_p3_V5.npz with 1050 questions\n"
     ]
    },
    {
     "name": "stderr",
     "output_type": "stream",
     "text": [
      "Layer 07: 100%|██████████| 1050/1050 [00:01<00:00, 604.78it/s]\n"
     ]
    },
    {
     "name": "stdout",
     "output_type": "stream",
     "text": [
      "Created results/by_layer_20250911_112921/by_layer/layer_07/V5_alpha_p3_V5.npz with 1050 questions\n"
     ]
    },
    {
     "name": "stderr",
     "output_type": "stream",
     "text": [
      "Layer 08: 100%|██████████| 1050/1050 [00:01<00:00, 599.01it/s]\n"
     ]
    },
    {
     "name": "stdout",
     "output_type": "stream",
     "text": [
      "Created results/by_layer_20250911_112921/by_layer/layer_08/V5_alpha_p3_V5.npz with 1050 questions\n"
     ]
    },
    {
     "name": "stderr",
     "output_type": "stream",
     "text": [
      "Layer 09: 100%|██████████| 1050/1050 [00:01<00:00, 563.17it/s]\n"
     ]
    },
    {
     "name": "stdout",
     "output_type": "stream",
     "text": [
      "Created results/by_layer_20250911_112921/by_layer/layer_09/V5_alpha_p3_V5.npz with 1050 questions\n"
     ]
    },
    {
     "name": "stderr",
     "output_type": "stream",
     "text": [
      "Layer 10: 100%|██████████| 1050/1050 [00:01<00:00, 627.57it/s]\n"
     ]
    },
    {
     "name": "stdout",
     "output_type": "stream",
     "text": [
      "Created results/by_layer_20250911_112921/by_layer/layer_10/V5_alpha_p3_V5.npz with 1050 questions\n"
     ]
    },
    {
     "name": "stderr",
     "output_type": "stream",
     "text": [
      "Layer 11: 100%|██████████| 1050/1050 [00:01<00:00, 575.92it/s]\n"
     ]
    },
    {
     "name": "stdout",
     "output_type": "stream",
     "text": [
      "Created results/by_layer_20250911_112921/by_layer/layer_11/V5_alpha_p3_V5.npz with 1050 questions\n"
     ]
    },
    {
     "name": "stderr",
     "output_type": "stream",
     "text": [
      "Layer 12: 100%|██████████| 1050/1050 [00:01<00:00, 559.26it/s]\n"
     ]
    },
    {
     "name": "stdout",
     "output_type": "stream",
     "text": [
      "Created results/by_layer_20250911_112921/by_layer/layer_12/V5_alpha_p3_V5.npz with 1050 questions\n"
     ]
    },
    {
     "name": "stderr",
     "output_type": "stream",
     "text": [
      "Layer 13: 100%|██████████| 1050/1050 [00:01<00:00, 529.79it/s]\n"
     ]
    },
    {
     "name": "stdout",
     "output_type": "stream",
     "text": [
      "Created results/by_layer_20250911_112921/by_layer/layer_13/V5_alpha_p3_V5.npz with 1050 questions\n"
     ]
    },
    {
     "name": "stderr",
     "output_type": "stream",
     "text": [
      "Layer 14: 100%|██████████| 1050/1050 [00:01<00:00, 538.29it/s]\n"
     ]
    },
    {
     "name": "stdout",
     "output_type": "stream",
     "text": [
      "Created results/by_layer_20250911_112921/by_layer/layer_14/V5_alpha_p3_V5.npz with 1050 questions\n"
     ]
    },
    {
     "name": "stderr",
     "output_type": "stream",
     "text": [
      "Layer 15: 100%|██████████| 1050/1050 [00:01<00:00, 530.89it/s]\n"
     ]
    },
    {
     "name": "stdout",
     "output_type": "stream",
     "text": [
      "Created results/by_layer_20250911_112921/by_layer/layer_15/V5_alpha_p3_V5.npz with 1050 questions\n"
     ]
    },
    {
     "name": "stderr",
     "output_type": "stream",
     "text": [
      "Layer 16: 100%|██████████| 1050/1050 [00:01<00:00, 548.13it/s]\n"
     ]
    },
    {
     "name": "stdout",
     "output_type": "stream",
     "text": [
      "Created results/by_layer_20250911_112921/by_layer/layer_16/V5_alpha_p3_V5.npz with 1050 questions\n"
     ]
    },
    {
     "name": "stderr",
     "output_type": "stream",
     "text": [
      "Layer 17: 100%|██████████| 1050/1050 [00:01<00:00, 593.51it/s]\n"
     ]
    },
    {
     "name": "stdout",
     "output_type": "stream",
     "text": [
      "Created results/by_layer_20250911_112921/by_layer/layer_17/V5_alpha_p3_V5.npz with 1050 questions\n"
     ]
    },
    {
     "name": "stderr",
     "output_type": "stream",
     "text": [
      "Layer 18: 100%|██████████| 1050/1050 [00:01<00:00, 627.64it/s]\n"
     ]
    },
    {
     "name": "stdout",
     "output_type": "stream",
     "text": [
      "Created results/by_layer_20250911_112921/by_layer/layer_18/V5_alpha_p3_V5.npz with 1050 questions\n"
     ]
    },
    {
     "name": "stderr",
     "output_type": "stream",
     "text": [
      "Layer 19: 100%|██████████| 1050/1050 [00:01<00:00, 648.37it/s]\n"
     ]
    },
    {
     "name": "stdout",
     "output_type": "stream",
     "text": [
      "Created results/by_layer_20250911_112921/by_layer/layer_19/V5_alpha_p3_V5.npz with 1050 questions\n"
     ]
    },
    {
     "name": "stderr",
     "output_type": "stream",
     "text": [
      "Layer 20: 100%|██████████| 1050/1050 [00:01<00:00, 554.98it/s]\n"
     ]
    },
    {
     "name": "stdout",
     "output_type": "stream",
     "text": [
      "Created results/by_layer_20250911_112921/by_layer/layer_20/V5_alpha_p3_V5.npz with 1050 questions\n"
     ]
    },
    {
     "name": "stderr",
     "output_type": "stream",
     "text": [
      "Layer 21: 100%|██████████| 1050/1050 [00:01<00:00, 596.31it/s]\n"
     ]
    },
    {
     "name": "stdout",
     "output_type": "stream",
     "text": [
      "Created results/by_layer_20250911_112921/by_layer/layer_21/V5_alpha_p3_V5.npz with 1050 questions\n"
     ]
    },
    {
     "name": "stderr",
     "output_type": "stream",
     "text": [
      "Layer 22: 100%|██████████| 1050/1050 [00:01<00:00, 527.85it/s]\n"
     ]
    },
    {
     "name": "stdout",
     "output_type": "stream",
     "text": [
      "Created results/by_layer_20250911_112921/by_layer/layer_22/V5_alpha_p3_V5.npz with 1050 questions\n"
     ]
    },
    {
     "name": "stderr",
     "output_type": "stream",
     "text": [
      "Layer 23: 100%|██████████| 1050/1050 [00:01<00:00, 568.50it/s]\n"
     ]
    },
    {
     "name": "stdout",
     "output_type": "stream",
     "text": [
      "Created results/by_layer_20250911_112921/by_layer/layer_23/V5_alpha_p3_V5.npz with 1050 questions\n"
     ]
    },
    {
     "name": "stderr",
     "output_type": "stream",
     "text": [
      "Layer 24: 100%|██████████| 1050/1050 [00:01<00:00, 566.40it/s]\n"
     ]
    },
    {
     "name": "stdout",
     "output_type": "stream",
     "text": [
      "Created results/by_layer_20250911_112921/by_layer/layer_24/V5_alpha_p3_V5.npz with 1050 questions\n"
     ]
    },
    {
     "name": "stderr",
     "output_type": "stream",
     "text": [
      "Layer 25: 100%|██████████| 1050/1050 [00:01<00:00, 575.79it/s]\n"
     ]
    },
    {
     "name": "stdout",
     "output_type": "stream",
     "text": [
      "Created results/by_layer_20250911_112921/by_layer/layer_25/V5_alpha_p3_V5.npz with 1050 questions\n"
     ]
    },
    {
     "name": "stderr",
     "output_type": "stream",
     "text": [
      "Layer 26: 100%|██████████| 1050/1050 [00:02<00:00, 502.04it/s]\n"
     ]
    },
    {
     "name": "stdout",
     "output_type": "stream",
     "text": [
      "Created results/by_layer_20250911_112921/by_layer/layer_26/V5_alpha_p3_V5.npz with 1050 questions\n"
     ]
    },
    {
     "name": "stderr",
     "output_type": "stream",
     "text": [
      "Layer 27: 100%|██████████| 1050/1050 [00:01<00:00, 560.86it/s]\n"
     ]
    },
    {
     "name": "stdout",
     "output_type": "stream",
     "text": [
      "Created results/by_layer_20250911_112921/by_layer/layer_27/V5_alpha_p3_V5.npz with 1050 questions\n"
     ]
    },
    {
     "name": "stderr",
     "output_type": "stream",
     "text": [
      "Layer 28: 100%|██████████| 1050/1050 [00:01<00:00, 555.49it/s]\n"
     ]
    },
    {
     "name": "stdout",
     "output_type": "stream",
     "text": [
      "Created results/by_layer_20250911_112921/by_layer/layer_28/V5_alpha_p3_V5.npz with 1050 questions\n"
     ]
    },
    {
     "name": "stderr",
     "output_type": "stream",
     "text": [
      "Layer 29: 100%|██████████| 1050/1050 [00:01<00:00, 535.46it/s]\n"
     ]
    },
    {
     "name": "stdout",
     "output_type": "stream",
     "text": [
      "Created results/by_layer_20250911_112921/by_layer/layer_29/V5_alpha_p3_V5.npz with 1050 questions\n"
     ]
    },
    {
     "name": "stderr",
     "output_type": "stream",
     "text": [
      "Layer 30: 100%|██████████| 1050/1050 [00:01<00:00, 555.07it/s]\n"
     ]
    },
    {
     "name": "stdout",
     "output_type": "stream",
     "text": [
      "Created results/by_layer_20250911_112921/by_layer/layer_30/V5_alpha_p3_V5.npz with 1050 questions\n"
     ]
    },
    {
     "name": "stderr",
     "output_type": "stream",
     "text": [
      "Layer 31: 100%|██████████| 1050/1050 [00:01<00:00, 537.46it/s]\n"
     ]
    },
    {
     "name": "stdout",
     "output_type": "stream",
     "text": [
      "Created results/by_layer_20250911_112921/by_layer/layer_31/V5_alpha_p3_V5.npz with 1050 questions\n"
     ]
    },
    {
     "name": "stderr",
     "output_type": "stream",
     "text": [
      "Layer 32: 100%|██████████| 1050/1050 [00:01<00:00, 533.11it/s]\n"
     ]
    },
    {
     "name": "stdout",
     "output_type": "stream",
     "text": [
      "Created results/by_layer_20250911_112921/by_layer/layer_32/V5_alpha_p3_V5.npz with 1050 questions\n"
     ]
    },
    {
     "name": "stderr",
     "output_type": "stream",
     "text": [
      "Layer 33: 100%|██████████| 1050/1050 [00:03<00:00, 335.16it/s]\n"
     ]
    },
    {
     "name": "stdout",
     "output_type": "stream",
     "text": [
      "Created results/by_layer_20250911_112921/by_layer/layer_33/V5_alpha_p3_V5.npz with 1050 questions\n"
     ]
    },
    {
     "name": "stderr",
     "output_type": "stream",
     "text": [
      "Layer 34: 100%|██████████| 1050/1050 [00:01<00:00, 597.83it/s]\n"
     ]
    },
    {
     "name": "stdout",
     "output_type": "stream",
     "text": [
      "Created results/by_layer_20250911_112921/by_layer/layer_34/V5_alpha_p3_V5.npz with 1050 questions\n",
      "\n",
      "Processing experiment 24/60: results/comprehensive_experiments/run_20250911_062422/V2_alpha_p2\n",
      "Processing experiment: results/comprehensive_experiments/run_20250911_062422/V2_alpha_p2\n",
      "File: hidden_states_V2.npz, Layers: 35, Hidden dim: 2560\n"
     ]
    },
    {
     "name": "stderr",
     "output_type": "stream",
     "text": [
      "Layer 00: 100%|██████████| 1050/1050 [00:02<00:00, 379.38it/s]\n"
     ]
    },
    {
     "name": "stdout",
     "output_type": "stream",
     "text": [
      "Created results/by_layer_20250911_112921/by_layer/layer_00/V2_alpha_p2_V2.npz with 1050 questions\n"
     ]
    },
    {
     "name": "stderr",
     "output_type": "stream",
     "text": [
      "Layer 01: 100%|██████████| 1050/1050 [00:01<00:00, 610.58it/s]\n"
     ]
    },
    {
     "name": "stdout",
     "output_type": "stream",
     "text": [
      "Created results/by_layer_20250911_112921/by_layer/layer_01/V2_alpha_p2_V2.npz with 1050 questions\n"
     ]
    },
    {
     "name": "stderr",
     "output_type": "stream",
     "text": [
      "Layer 02: 100%|██████████| 1050/1050 [00:01<00:00, 586.44it/s]\n"
     ]
    },
    {
     "name": "stdout",
     "output_type": "stream",
     "text": [
      "Created results/by_layer_20250911_112921/by_layer/layer_02/V2_alpha_p2_V2.npz with 1050 questions\n"
     ]
    },
    {
     "name": "stderr",
     "output_type": "stream",
     "text": [
      "Layer 03: 100%|██████████| 1050/1050 [00:01<00:00, 545.02it/s]\n"
     ]
    },
    {
     "name": "stdout",
     "output_type": "stream",
     "text": [
      "Created results/by_layer_20250911_112921/by_layer/layer_03/V2_alpha_p2_V2.npz with 1050 questions\n"
     ]
    },
    {
     "name": "stderr",
     "output_type": "stream",
     "text": [
      "Layer 04: 100%|██████████| 1050/1050 [00:02<00:00, 492.66it/s]\n"
     ]
    },
    {
     "name": "stdout",
     "output_type": "stream",
     "text": [
      "Created results/by_layer_20250911_112921/by_layer/layer_04/V2_alpha_p2_V2.npz with 1050 questions\n"
     ]
    },
    {
     "name": "stderr",
     "output_type": "stream",
     "text": [
      "Layer 05: 100%|██████████| 1050/1050 [00:02<00:00, 512.10it/s]\n"
     ]
    },
    {
     "name": "stdout",
     "output_type": "stream",
     "text": [
      "Created results/by_layer_20250911_112921/by_layer/layer_05/V2_alpha_p2_V2.npz with 1050 questions\n"
     ]
    },
    {
     "name": "stderr",
     "output_type": "stream",
     "text": [
      "Layer 06: 100%|██████████| 1050/1050 [00:02<00:00, 504.03it/s]\n"
     ]
    },
    {
     "name": "stdout",
     "output_type": "stream",
     "text": [
      "Created results/by_layer_20250911_112921/by_layer/layer_06/V2_alpha_p2_V2.npz with 1050 questions\n"
     ]
    },
    {
     "name": "stderr",
     "output_type": "stream",
     "text": [
      "Layer 07: 100%|██████████| 1050/1050 [00:02<00:00, 520.82it/s]\n"
     ]
    },
    {
     "name": "stdout",
     "output_type": "stream",
     "text": [
      "Created results/by_layer_20250911_112921/by_layer/layer_07/V2_alpha_p2_V2.npz with 1050 questions\n"
     ]
    },
    {
     "name": "stderr",
     "output_type": "stream",
     "text": [
      "Layer 08: 100%|██████████| 1050/1050 [00:01<00:00, 585.03it/s]\n"
     ]
    },
    {
     "name": "stdout",
     "output_type": "stream",
     "text": [
      "Created results/by_layer_20250911_112921/by_layer/layer_08/V2_alpha_p2_V2.npz with 1050 questions\n"
     ]
    },
    {
     "name": "stderr",
     "output_type": "stream",
     "text": [
      "Layer 09: 100%|██████████| 1050/1050 [00:01<00:00, 571.98it/s]\n"
     ]
    },
    {
     "name": "stdout",
     "output_type": "stream",
     "text": [
      "Created results/by_layer_20250911_112921/by_layer/layer_09/V2_alpha_p2_V2.npz with 1050 questions\n"
     ]
    },
    {
     "name": "stderr",
     "output_type": "stream",
     "text": [
      "Layer 10: 100%|██████████| 1050/1050 [00:01<00:00, 546.13it/s]\n"
     ]
    },
    {
     "name": "stdout",
     "output_type": "stream",
     "text": [
      "Created results/by_layer_20250911_112921/by_layer/layer_10/V2_alpha_p2_V2.npz with 1050 questions\n"
     ]
    },
    {
     "name": "stderr",
     "output_type": "stream",
     "text": [
      "Layer 11: 100%|██████████| 1050/1050 [00:01<00:00, 529.23it/s]\n"
     ]
    },
    {
     "name": "stdout",
     "output_type": "stream",
     "text": [
      "Created results/by_layer_20250911_112921/by_layer/layer_11/V2_alpha_p2_V2.npz with 1050 questions\n"
     ]
    },
    {
     "name": "stderr",
     "output_type": "stream",
     "text": [
      "Layer 12: 100%|██████████| 1050/1050 [00:02<00:00, 520.24it/s]\n"
     ]
    },
    {
     "name": "stdout",
     "output_type": "stream",
     "text": [
      "Created results/by_layer_20250911_112921/by_layer/layer_12/V2_alpha_p2_V2.npz with 1050 questions\n"
     ]
    },
    {
     "name": "stderr",
     "output_type": "stream",
     "text": [
      "Layer 13: 100%|██████████| 1050/1050 [00:01<00:00, 567.65it/s]\n"
     ]
    },
    {
     "name": "stdout",
     "output_type": "stream",
     "text": [
      "Created results/by_layer_20250911_112921/by_layer/layer_13/V2_alpha_p2_V2.npz with 1050 questions\n"
     ]
    },
    {
     "name": "stderr",
     "output_type": "stream",
     "text": [
      "Layer 14: 100%|██████████| 1050/1050 [00:01<00:00, 565.02it/s]\n"
     ]
    },
    {
     "name": "stdout",
     "output_type": "stream",
     "text": [
      "Created results/by_layer_20250911_112921/by_layer/layer_14/V2_alpha_p2_V2.npz with 1050 questions\n"
     ]
    },
    {
     "name": "stderr",
     "output_type": "stream",
     "text": [
      "Layer 15: 100%|██████████| 1050/1050 [00:01<00:00, 562.84it/s]\n"
     ]
    },
    {
     "name": "stdout",
     "output_type": "stream",
     "text": [
      "Created results/by_layer_20250911_112921/by_layer/layer_15/V2_alpha_p2_V2.npz with 1050 questions\n"
     ]
    },
    {
     "name": "stderr",
     "output_type": "stream",
     "text": [
      "Layer 16: 100%|██████████| 1050/1050 [00:02<00:00, 374.25it/s]\n"
     ]
    },
    {
     "name": "stdout",
     "output_type": "stream",
     "text": [
      "Created results/by_layer_20250911_112921/by_layer/layer_16/V2_alpha_p2_V2.npz with 1050 questions\n"
     ]
    },
    {
     "name": "stderr",
     "output_type": "stream",
     "text": [
      "Layer 17: 100%|██████████| 1050/1050 [00:01<00:00, 606.33it/s]\n"
     ]
    },
    {
     "name": "stdout",
     "output_type": "stream",
     "text": [
      "Created results/by_layer_20250911_112921/by_layer/layer_17/V2_alpha_p2_V2.npz with 1050 questions\n"
     ]
    },
    {
     "name": "stderr",
     "output_type": "stream",
     "text": [
      "Layer 18: 100%|██████████| 1050/1050 [00:01<00:00, 567.49it/s]\n"
     ]
    },
    {
     "name": "stdout",
     "output_type": "stream",
     "text": [
      "Created results/by_layer_20250911_112921/by_layer/layer_18/V2_alpha_p2_V2.npz with 1050 questions\n"
     ]
    },
    {
     "name": "stderr",
     "output_type": "stream",
     "text": [
      "Layer 19: 100%|██████████| 1050/1050 [00:01<00:00, 560.08it/s]\n"
     ]
    },
    {
     "name": "stdout",
     "output_type": "stream",
     "text": [
      "Created results/by_layer_20250911_112921/by_layer/layer_19/V2_alpha_p2_V2.npz with 1050 questions\n"
     ]
    },
    {
     "name": "stderr",
     "output_type": "stream",
     "text": [
      "Layer 20: 100%|██████████| 1050/1050 [00:01<00:00, 531.58it/s]\n"
     ]
    },
    {
     "name": "stdout",
     "output_type": "stream",
     "text": [
      "Created results/by_layer_20250911_112921/by_layer/layer_20/V2_alpha_p2_V2.npz with 1050 questions\n"
     ]
    },
    {
     "name": "stderr",
     "output_type": "stream",
     "text": [
      "Layer 21: 100%|██████████| 1050/1050 [00:01<00:00, 578.32it/s]\n"
     ]
    },
    {
     "name": "stdout",
     "output_type": "stream",
     "text": [
      "Created results/by_layer_20250911_112921/by_layer/layer_21/V2_alpha_p2_V2.npz with 1050 questions\n"
     ]
    },
    {
     "name": "stderr",
     "output_type": "stream",
     "text": [
      "Layer 22: 100%|██████████| 1050/1050 [00:02<00:00, 514.75it/s]\n"
     ]
    },
    {
     "name": "stdout",
     "output_type": "stream",
     "text": [
      "Created results/by_layer_20250911_112921/by_layer/layer_22/V2_alpha_p2_V2.npz with 1050 questions\n"
     ]
    },
    {
     "name": "stderr",
     "output_type": "stream",
     "text": [
      "Layer 23: 100%|██████████| 1050/1050 [00:01<00:00, 537.01it/s]\n"
     ]
    },
    {
     "name": "stdout",
     "output_type": "stream",
     "text": [
      "Created results/by_layer_20250911_112921/by_layer/layer_23/V2_alpha_p2_V2.npz with 1050 questions\n"
     ]
    },
    {
     "name": "stderr",
     "output_type": "stream",
     "text": [
      "Layer 24: 100%|██████████| 1050/1050 [00:02<00:00, 502.75it/s]\n"
     ]
    },
    {
     "name": "stdout",
     "output_type": "stream",
     "text": [
      "Created results/by_layer_20250911_112921/by_layer/layer_24/V2_alpha_p2_V2.npz with 1050 questions\n"
     ]
    },
    {
     "name": "stderr",
     "output_type": "stream",
     "text": [
      "Layer 25: 100%|██████████| 1050/1050 [00:01<00:00, 567.24it/s]\n"
     ]
    },
    {
     "name": "stdout",
     "output_type": "stream",
     "text": [
      "Created results/by_layer_20250911_112921/by_layer/layer_25/V2_alpha_p2_V2.npz with 1050 questions\n"
     ]
    },
    {
     "name": "stderr",
     "output_type": "stream",
     "text": [
      "Layer 26: 100%|██████████| 1050/1050 [00:01<00:00, 525.00it/s]\n"
     ]
    },
    {
     "name": "stdout",
     "output_type": "stream",
     "text": [
      "Created results/by_layer_20250911_112921/by_layer/layer_26/V2_alpha_p2_V2.npz with 1050 questions\n"
     ]
    },
    {
     "name": "stderr",
     "output_type": "stream",
     "text": [
      "Layer 27: 100%|██████████| 1050/1050 [00:01<00:00, 584.96it/s]\n"
     ]
    },
    {
     "name": "stdout",
     "output_type": "stream",
     "text": [
      "Created results/by_layer_20250911_112921/by_layer/layer_27/V2_alpha_p2_V2.npz with 1050 questions\n"
     ]
    },
    {
     "name": "stderr",
     "output_type": "stream",
     "text": [
      "Layer 28: 100%|██████████| 1050/1050 [00:01<00:00, 575.46it/s]\n"
     ]
    },
    {
     "name": "stdout",
     "output_type": "stream",
     "text": [
      "Created results/by_layer_20250911_112921/by_layer/layer_28/V2_alpha_p2_V2.npz with 1050 questions\n"
     ]
    },
    {
     "name": "stderr",
     "output_type": "stream",
     "text": [
      "Layer 29: 100%|██████████| 1050/1050 [00:01<00:00, 538.59it/s]\n"
     ]
    },
    {
     "name": "stdout",
     "output_type": "stream",
     "text": [
      "Created results/by_layer_20250911_112921/by_layer/layer_29/V2_alpha_p2_V2.npz with 1050 questions\n"
     ]
    },
    {
     "name": "stderr",
     "output_type": "stream",
     "text": [
      "Layer 30: 100%|██████████| 1050/1050 [00:01<00:00, 582.48it/s]\n"
     ]
    },
    {
     "name": "stdout",
     "output_type": "stream",
     "text": [
      "Created results/by_layer_20250911_112921/by_layer/layer_30/V2_alpha_p2_V2.npz with 1050 questions\n"
     ]
    },
    {
     "name": "stderr",
     "output_type": "stream",
     "text": [
      "Layer 31: 100%|██████████| 1050/1050 [00:02<00:00, 510.74it/s]\n"
     ]
    },
    {
     "name": "stdout",
     "output_type": "stream",
     "text": [
      "Created results/by_layer_20250911_112921/by_layer/layer_31/V2_alpha_p2_V2.npz with 1050 questions\n"
     ]
    },
    {
     "name": "stderr",
     "output_type": "stream",
     "text": [
      "Layer 32: 100%|██████████| 1050/1050 [00:01<00:00, 554.37it/s]\n"
     ]
    },
    {
     "name": "stdout",
     "output_type": "stream",
     "text": [
      "Created results/by_layer_20250911_112921/by_layer/layer_32/V2_alpha_p2_V2.npz with 1050 questions\n"
     ]
    },
    {
     "name": "stderr",
     "output_type": "stream",
     "text": [
      "Layer 33: 100%|██████████| 1050/1050 [00:02<00:00, 461.69it/s]\n"
     ]
    },
    {
     "name": "stdout",
     "output_type": "stream",
     "text": [
      "Created results/by_layer_20250911_112921/by_layer/layer_33/V2_alpha_p2_V2.npz with 1050 questions\n"
     ]
    },
    {
     "name": "stderr",
     "output_type": "stream",
     "text": [
      "Layer 34: 100%|██████████| 1050/1050 [00:01<00:00, 541.90it/s]\n"
     ]
    },
    {
     "name": "stdout",
     "output_type": "stream",
     "text": [
      "Created results/by_layer_20250911_112921/by_layer/layer_34/V2_alpha_p2_V2.npz with 1050 questions\n",
      "\n",
      "Processing experiment 25/60: results/comprehensive_experiments/run_20250911_062422/V3_alpha_p1\n",
      "Processing experiment: results/comprehensive_experiments/run_20250911_062422/V3_alpha_p1\n",
      "File: hidden_states_V3.npz, Layers: 35, Hidden dim: 2560\n"
     ]
    },
    {
     "name": "stderr",
     "output_type": "stream",
     "text": [
      "Layer 00: 100%|██████████| 1050/1050 [00:03<00:00, 265.54it/s]\n"
     ]
    },
    {
     "name": "stdout",
     "output_type": "stream",
     "text": [
      "Created results/by_layer_20250911_112921/by_layer/layer_00/V3_alpha_p1_V3.npz with 1050 questions\n"
     ]
    },
    {
     "name": "stderr",
     "output_type": "stream",
     "text": [
      "Layer 01: 100%|██████████| 1050/1050 [00:01<00:00, 535.00it/s]\n"
     ]
    },
    {
     "name": "stdout",
     "output_type": "stream",
     "text": [
      "Created results/by_layer_20250911_112921/by_layer/layer_01/V3_alpha_p1_V3.npz with 1050 questions\n"
     ]
    },
    {
     "name": "stderr",
     "output_type": "stream",
     "text": [
      "Layer 02: 100%|██████████| 1050/1050 [00:01<00:00, 561.86it/s]\n"
     ]
    },
    {
     "name": "stdout",
     "output_type": "stream",
     "text": [
      "Created results/by_layer_20250911_112921/by_layer/layer_02/V3_alpha_p1_V3.npz with 1050 questions\n"
     ]
    },
    {
     "name": "stderr",
     "output_type": "stream",
     "text": [
      "Layer 03: 100%|██████████| 1050/1050 [00:01<00:00, 588.82it/s]\n"
     ]
    },
    {
     "name": "stdout",
     "output_type": "stream",
     "text": [
      "Created results/by_layer_20250911_112921/by_layer/layer_03/V3_alpha_p1_V3.npz with 1050 questions\n"
     ]
    },
    {
     "name": "stderr",
     "output_type": "stream",
     "text": [
      "Layer 04: 100%|██████████| 1050/1050 [00:02<00:00, 507.19it/s]\n"
     ]
    },
    {
     "name": "stdout",
     "output_type": "stream",
     "text": [
      "Created results/by_layer_20250911_112921/by_layer/layer_04/V3_alpha_p1_V3.npz with 1050 questions\n"
     ]
    },
    {
     "name": "stderr",
     "output_type": "stream",
     "text": [
      "Layer 05: 100%|██████████| 1050/1050 [00:02<00:00, 500.08it/s]\n"
     ]
    },
    {
     "name": "stdout",
     "output_type": "stream",
     "text": [
      "Created results/by_layer_20250911_112921/by_layer/layer_05/V3_alpha_p1_V3.npz with 1050 questions\n"
     ]
    },
    {
     "name": "stderr",
     "output_type": "stream",
     "text": [
      "Layer 06: 100%|██████████| 1050/1050 [00:02<00:00, 521.35it/s]\n"
     ]
    },
    {
     "name": "stdout",
     "output_type": "stream",
     "text": [
      "Created results/by_layer_20250911_112921/by_layer/layer_06/V3_alpha_p1_V3.npz with 1050 questions\n"
     ]
    },
    {
     "name": "stderr",
     "output_type": "stream",
     "text": [
      "Layer 07: 100%|██████████| 1050/1050 [00:02<00:00, 355.77it/s]\n"
     ]
    },
    {
     "name": "stdout",
     "output_type": "stream",
     "text": [
      "Created results/by_layer_20250911_112921/by_layer/layer_07/V3_alpha_p1_V3.npz with 1050 questions\n"
     ]
    },
    {
     "name": "stderr",
     "output_type": "stream",
     "text": [
      "Layer 08: 100%|██████████| 1050/1050 [00:01<00:00, 558.46it/s]\n"
     ]
    },
    {
     "name": "stdout",
     "output_type": "stream",
     "text": [
      "Created results/by_layer_20250911_112921/by_layer/layer_08/V3_alpha_p1_V3.npz with 1050 questions\n"
     ]
    },
    {
     "name": "stderr",
     "output_type": "stream",
     "text": [
      "Layer 09: 100%|██████████| 1050/1050 [00:02<00:00, 443.19it/s]\n"
     ]
    },
    {
     "name": "stdout",
     "output_type": "stream",
     "text": [
      "Created results/by_layer_20250911_112921/by_layer/layer_09/V3_alpha_p1_V3.npz with 1050 questions\n"
     ]
    },
    {
     "name": "stderr",
     "output_type": "stream",
     "text": [
      "Layer 10: 100%|██████████| 1050/1050 [00:01<00:00, 585.36it/s]\n"
     ]
    },
    {
     "name": "stdout",
     "output_type": "stream",
     "text": [
      "Created results/by_layer_20250911_112921/by_layer/layer_10/V3_alpha_p1_V3.npz with 1050 questions\n"
     ]
    },
    {
     "name": "stderr",
     "output_type": "stream",
     "text": [
      "Layer 11: 100%|██████████| 1050/1050 [00:01<00:00, 552.23it/s]\n"
     ]
    },
    {
     "name": "stdout",
     "output_type": "stream",
     "text": [
      "Created results/by_layer_20250911_112921/by_layer/layer_11/V3_alpha_p1_V3.npz with 1050 questions\n"
     ]
    },
    {
     "name": "stderr",
     "output_type": "stream",
     "text": [
      "Layer 12: 100%|██████████| 1050/1050 [00:01<00:00, 548.91it/s]\n"
     ]
    },
    {
     "name": "stdout",
     "output_type": "stream",
     "text": [
      "Created results/by_layer_20250911_112921/by_layer/layer_12/V3_alpha_p1_V3.npz with 1050 questions\n"
     ]
    },
    {
     "name": "stderr",
     "output_type": "stream",
     "text": [
      "Layer 13: 100%|██████████| 1050/1050 [00:01<00:00, 530.61it/s]\n"
     ]
    },
    {
     "name": "stdout",
     "output_type": "stream",
     "text": [
      "Created results/by_layer_20250911_112921/by_layer/layer_13/V3_alpha_p1_V3.npz with 1050 questions\n"
     ]
    },
    {
     "name": "stderr",
     "output_type": "stream",
     "text": [
      "Layer 14: 100%|██████████| 1050/1050 [00:01<00:00, 569.04it/s]\n"
     ]
    },
    {
     "name": "stdout",
     "output_type": "stream",
     "text": [
      "Created results/by_layer_20250911_112921/by_layer/layer_14/V3_alpha_p1_V3.npz with 1050 questions\n"
     ]
    },
    {
     "name": "stderr",
     "output_type": "stream",
     "text": [
      "Layer 15: 100%|██████████| 1050/1050 [00:02<00:00, 517.91it/s]\n"
     ]
    },
    {
     "name": "stdout",
     "output_type": "stream",
     "text": [
      "Created results/by_layer_20250911_112921/by_layer/layer_15/V3_alpha_p1_V3.npz with 1050 questions\n"
     ]
    },
    {
     "name": "stderr",
     "output_type": "stream",
     "text": [
      "Layer 16: 100%|██████████| 1050/1050 [00:01<00:00, 546.33it/s]\n"
     ]
    },
    {
     "name": "stdout",
     "output_type": "stream",
     "text": [
      "Created results/by_layer_20250911_112921/by_layer/layer_16/V3_alpha_p1_V3.npz with 1050 questions\n"
     ]
    },
    {
     "name": "stderr",
     "output_type": "stream",
     "text": [
      "Layer 17: 100%|██████████| 1050/1050 [00:01<00:00, 539.74it/s]\n"
     ]
    },
    {
     "name": "stdout",
     "output_type": "stream",
     "text": [
      "Created results/by_layer_20250911_112921/by_layer/layer_17/V3_alpha_p1_V3.npz with 1050 questions\n"
     ]
    },
    {
     "name": "stderr",
     "output_type": "stream",
     "text": [
      "Layer 18: 100%|██████████| 1050/1050 [00:01<00:00, 591.77it/s]\n"
     ]
    },
    {
     "name": "stdout",
     "output_type": "stream",
     "text": [
      "Created results/by_layer_20250911_112921/by_layer/layer_18/V3_alpha_p1_V3.npz with 1050 questions\n"
     ]
    },
    {
     "name": "stderr",
     "output_type": "stream",
     "text": [
      "Layer 19: 100%|██████████| 1050/1050 [00:02<00:00, 462.45it/s]\n"
     ]
    },
    {
     "name": "stdout",
     "output_type": "stream",
     "text": [
      "Created results/by_layer_20250911_112921/by_layer/layer_19/V3_alpha_p1_V3.npz with 1050 questions\n"
     ]
    },
    {
     "name": "stderr",
     "output_type": "stream",
     "text": [
      "Layer 20: 100%|██████████| 1050/1050 [00:01<00:00, 553.54it/s]\n"
     ]
    },
    {
     "name": "stdout",
     "output_type": "stream",
     "text": [
      "Created results/by_layer_20250911_112921/by_layer/layer_20/V3_alpha_p1_V3.npz with 1050 questions\n"
     ]
    },
    {
     "name": "stderr",
     "output_type": "stream",
     "text": [
      "Layer 21: 100%|██████████| 1050/1050 [00:02<00:00, 507.32it/s]\n"
     ]
    },
    {
     "name": "stdout",
     "output_type": "stream",
     "text": [
      "Created results/by_layer_20250911_112921/by_layer/layer_21/V3_alpha_p1_V3.npz with 1050 questions\n"
     ]
    },
    {
     "name": "stderr",
     "output_type": "stream",
     "text": [
      "Layer 22: 100%|██████████| 1050/1050 [00:02<00:00, 503.25it/s]\n"
     ]
    },
    {
     "name": "stdout",
     "output_type": "stream",
     "text": [
      "Created results/by_layer_20250911_112921/by_layer/layer_22/V3_alpha_p1_V3.npz with 1050 questions\n"
     ]
    },
    {
     "name": "stderr",
     "output_type": "stream",
     "text": [
      "Layer 23: 100%|██████████| 1050/1050 [00:02<00:00, 517.50it/s]\n"
     ]
    },
    {
     "name": "stdout",
     "output_type": "stream",
     "text": [
      "Created results/by_layer_20250911_112921/by_layer/layer_23/V3_alpha_p1_V3.npz with 1050 questions\n"
     ]
    },
    {
     "name": "stderr",
     "output_type": "stream",
     "text": [
      "Layer 24: 100%|██████████| 1050/1050 [00:02<00:00, 351.55it/s]\n"
     ]
    },
    {
     "name": "stdout",
     "output_type": "stream",
     "text": [
      "Created results/by_layer_20250911_112921/by_layer/layer_24/V3_alpha_p1_V3.npz with 1050 questions\n"
     ]
    },
    {
     "name": "stderr",
     "output_type": "stream",
     "text": [
      "Layer 25: 100%|██████████| 1050/1050 [00:02<00:00, 464.92it/s]\n"
     ]
    },
    {
     "name": "stdout",
     "output_type": "stream",
     "text": [
      "Created results/by_layer_20250911_112921/by_layer/layer_25/V3_alpha_p1_V3.npz with 1050 questions\n"
     ]
    },
    {
     "name": "stderr",
     "output_type": "stream",
     "text": [
      "Layer 26: 100%|██████████| 1050/1050 [00:01<00:00, 594.41it/s]\n"
     ]
    },
    {
     "name": "stdout",
     "output_type": "stream",
     "text": [
      "Created results/by_layer_20250911_112921/by_layer/layer_26/V3_alpha_p1_V3.npz with 1050 questions\n"
     ]
    },
    {
     "name": "stderr",
     "output_type": "stream",
     "text": [
      "Layer 27: 100%|██████████| 1050/1050 [00:01<00:00, 592.72it/s]\n"
     ]
    },
    {
     "name": "stdout",
     "output_type": "stream",
     "text": [
      "Created results/by_layer_20250911_112921/by_layer/layer_27/V3_alpha_p1_V3.npz with 1050 questions\n"
     ]
    },
    {
     "name": "stderr",
     "output_type": "stream",
     "text": [
      "Layer 28: 100%|██████████| 1050/1050 [00:01<00:00, 590.15it/s]\n"
     ]
    },
    {
     "name": "stdout",
     "output_type": "stream",
     "text": [
      "Created results/by_layer_20250911_112921/by_layer/layer_28/V3_alpha_p1_V3.npz with 1050 questions\n"
     ]
    },
    {
     "name": "stderr",
     "output_type": "stream",
     "text": [
      "Layer 29: 100%|██████████| 1050/1050 [00:01<00:00, 612.35it/s]\n"
     ]
    },
    {
     "name": "stdout",
     "output_type": "stream",
     "text": [
      "Created results/by_layer_20250911_112921/by_layer/layer_29/V3_alpha_p1_V3.npz with 1050 questions\n"
     ]
    },
    {
     "name": "stderr",
     "output_type": "stream",
     "text": [
      "Layer 30: 100%|██████████| 1050/1050 [00:02<00:00, 486.12it/s]\n"
     ]
    },
    {
     "name": "stdout",
     "output_type": "stream",
     "text": [
      "Created results/by_layer_20250911_112921/by_layer/layer_30/V3_alpha_p1_V3.npz with 1050 questions\n"
     ]
    },
    {
     "name": "stderr",
     "output_type": "stream",
     "text": [
      "Layer 31: 100%|██████████| 1050/1050 [00:01<00:00, 587.31it/s]\n"
     ]
    },
    {
     "name": "stdout",
     "output_type": "stream",
     "text": [
      "Created results/by_layer_20250911_112921/by_layer/layer_31/V3_alpha_p1_V3.npz with 1050 questions\n"
     ]
    },
    {
     "name": "stderr",
     "output_type": "stream",
     "text": [
      "Layer 32: 100%|██████████| 1050/1050 [00:02<00:00, 498.34it/s]\n"
     ]
    },
    {
     "name": "stdout",
     "output_type": "stream",
     "text": [
      "Created results/by_layer_20250911_112921/by_layer/layer_32/V3_alpha_p1_V3.npz with 1050 questions\n"
     ]
    },
    {
     "name": "stderr",
     "output_type": "stream",
     "text": [
      "Layer 33: 100%|██████████| 1050/1050 [00:02<00:00, 363.18it/s]\n"
     ]
    },
    {
     "name": "stdout",
     "output_type": "stream",
     "text": [
      "Created results/by_layer_20250911_112921/by_layer/layer_33/V3_alpha_p1_V3.npz with 1050 questions\n"
     ]
    },
    {
     "name": "stderr",
     "output_type": "stream",
     "text": [
      "Layer 34: 100%|██████████| 1050/1050 [00:02<00:00, 500.82it/s]\n"
     ]
    },
    {
     "name": "stdout",
     "output_type": "stream",
     "text": [
      "Created results/by_layer_20250911_112921/by_layer/layer_34/V3_alpha_p1_V3.npz with 1050 questions\n",
      "\n",
      "Processing experiment 26/60: results/comprehensive_experiments/run_20250911_062422/V5_num_p1\n",
      "Processing experiment: results/comprehensive_experiments/run_20250911_062422/V5_num_p1\n",
      "File: hidden_states_V5.npz, Layers: 35, Hidden dim: 2560\n"
     ]
    },
    {
     "name": "stderr",
     "output_type": "stream",
     "text": [
      "Layer 00: 100%|██████████| 1050/1050 [00:03<00:00, 292.49it/s]\n"
     ]
    },
    {
     "name": "stdout",
     "output_type": "stream",
     "text": [
      "Created results/by_layer_20250911_112921/by_layer/layer_00/V5_num_p1_V5.npz with 1050 questions\n"
     ]
    },
    {
     "name": "stderr",
     "output_type": "stream",
     "text": [
      "Layer 01: 100%|██████████| 1050/1050 [00:02<00:00, 498.14it/s]\n"
     ]
    },
    {
     "name": "stdout",
     "output_type": "stream",
     "text": [
      "Created results/by_layer_20250911_112921/by_layer/layer_01/V5_num_p1_V5.npz with 1050 questions\n"
     ]
    },
    {
     "name": "stderr",
     "output_type": "stream",
     "text": [
      "Layer 02: 100%|██████████| 1050/1050 [00:01<00:00, 565.39it/s]\n"
     ]
    },
    {
     "name": "stdout",
     "output_type": "stream",
     "text": [
      "Created results/by_layer_20250911_112921/by_layer/layer_02/V5_num_p1_V5.npz with 1050 questions\n"
     ]
    },
    {
     "name": "stderr",
     "output_type": "stream",
     "text": [
      "Layer 03: 100%|██████████| 1050/1050 [00:02<00:00, 518.25it/s]\n"
     ]
    },
    {
     "name": "stdout",
     "output_type": "stream",
     "text": [
      "Created results/by_layer_20250911_112921/by_layer/layer_03/V5_num_p1_V5.npz with 1050 questions\n"
     ]
    },
    {
     "name": "stderr",
     "output_type": "stream",
     "text": [
      "Layer 04: 100%|██████████| 1050/1050 [00:02<00:00, 453.39it/s]\n"
     ]
    },
    {
     "name": "stdout",
     "output_type": "stream",
     "text": [
      "Created results/by_layer_20250911_112921/by_layer/layer_04/V5_num_p1_V5.npz with 1050 questions\n"
     ]
    },
    {
     "name": "stderr",
     "output_type": "stream",
     "text": [
      "Layer 05: 100%|██████████| 1050/1050 [00:01<00:00, 540.10it/s]\n"
     ]
    },
    {
     "name": "stdout",
     "output_type": "stream",
     "text": [
      "Created results/by_layer_20250911_112921/by_layer/layer_05/V5_num_p1_V5.npz with 1050 questions\n"
     ]
    },
    {
     "name": "stderr",
     "output_type": "stream",
     "text": [
      "Layer 06: 100%|██████████| 1050/1050 [00:02<00:00, 439.71it/s]\n"
     ]
    },
    {
     "name": "stdout",
     "output_type": "stream",
     "text": [
      "Created results/by_layer_20250911_112921/by_layer/layer_06/V5_num_p1_V5.npz with 1050 questions\n"
     ]
    },
    {
     "name": "stderr",
     "output_type": "stream",
     "text": [
      "Layer 07: 100%|██████████| 1050/1050 [00:02<00:00, 479.89it/s]\n"
     ]
    },
    {
     "name": "stdout",
     "output_type": "stream",
     "text": [
      "Created results/by_layer_20250911_112921/by_layer/layer_07/V5_num_p1_V5.npz with 1050 questions\n"
     ]
    },
    {
     "name": "stderr",
     "output_type": "stream",
     "text": [
      "Layer 08: 100%|██████████| 1050/1050 [00:01<00:00, 532.92it/s]\n"
     ]
    },
    {
     "name": "stdout",
     "output_type": "stream",
     "text": [
      "Created results/by_layer_20250911_112921/by_layer/layer_08/V5_num_p1_V5.npz with 1050 questions\n"
     ]
    },
    {
     "name": "stderr",
     "output_type": "stream",
     "text": [
      "Layer 09: 100%|██████████| 1050/1050 [00:01<00:00, 563.81it/s]\n"
     ]
    },
    {
     "name": "stdout",
     "output_type": "stream",
     "text": [
      "Created results/by_layer_20250911_112921/by_layer/layer_09/V5_num_p1_V5.npz with 1050 questions\n"
     ]
    },
    {
     "name": "stderr",
     "output_type": "stream",
     "text": [
      "Layer 10: 100%|██████████| 1050/1050 [00:01<00:00, 529.95it/s]\n"
     ]
    },
    {
     "name": "stdout",
     "output_type": "stream",
     "text": [
      "Created results/by_layer_20250911_112921/by_layer/layer_10/V5_num_p1_V5.npz with 1050 questions\n"
     ]
    },
    {
     "name": "stderr",
     "output_type": "stream",
     "text": [
      "Layer 11: 100%|██████████| 1050/1050 [00:01<00:00, 592.11it/s]\n"
     ]
    },
    {
     "name": "stdout",
     "output_type": "stream",
     "text": [
      "Created results/by_layer_20250911_112921/by_layer/layer_11/V5_num_p1_V5.npz with 1050 questions\n"
     ]
    },
    {
     "name": "stderr",
     "output_type": "stream",
     "text": [
      "Layer 12: 100%|██████████| 1050/1050 [00:01<00:00, 557.93it/s]\n"
     ]
    },
    {
     "name": "stdout",
     "output_type": "stream",
     "text": [
      "Created results/by_layer_20250911_112921/by_layer/layer_12/V5_num_p1_V5.npz with 1050 questions\n"
     ]
    },
    {
     "name": "stderr",
     "output_type": "stream",
     "text": [
      "Layer 13: 100%|██████████| 1050/1050 [00:01<00:00, 645.89it/s]\n"
     ]
    },
    {
     "name": "stdout",
     "output_type": "stream",
     "text": [
      "Created results/by_layer_20250911_112921/by_layer/layer_13/V5_num_p1_V5.npz with 1050 questions\n"
     ]
    },
    {
     "name": "stderr",
     "output_type": "stream",
     "text": [
      "Layer 14: 100%|██████████| 1050/1050 [00:02<00:00, 367.64it/s]\n"
     ]
    },
    {
     "name": "stdout",
     "output_type": "stream",
     "text": [
      "Created results/by_layer_20250911_112921/by_layer/layer_14/V5_num_p1_V5.npz with 1050 questions\n"
     ]
    },
    {
     "name": "stderr",
     "output_type": "stream",
     "text": [
      "Layer 15: 100%|██████████| 1050/1050 [00:02<00:00, 357.18it/s]\n"
     ]
    },
    {
     "name": "stdout",
     "output_type": "stream",
     "text": [
      "Created results/by_layer_20250911_112921/by_layer/layer_15/V5_num_p1_V5.npz with 1050 questions\n"
     ]
    },
    {
     "name": "stderr",
     "output_type": "stream",
     "text": [
      "Layer 16: 100%|██████████| 1050/1050 [00:01<00:00, 581.38it/s]\n"
     ]
    },
    {
     "name": "stdout",
     "output_type": "stream",
     "text": [
      "Created results/by_layer_20250911_112921/by_layer/layer_16/V5_num_p1_V5.npz with 1050 questions\n"
     ]
    },
    {
     "name": "stderr",
     "output_type": "stream",
     "text": [
      "Layer 17: 100%|██████████| 1050/1050 [00:01<00:00, 559.05it/s]\n"
     ]
    },
    {
     "name": "stdout",
     "output_type": "stream",
     "text": [
      "Created results/by_layer_20250911_112921/by_layer/layer_17/V5_num_p1_V5.npz with 1050 questions\n"
     ]
    },
    {
     "name": "stderr",
     "output_type": "stream",
     "text": [
      "Layer 18: 100%|██████████| 1050/1050 [00:01<00:00, 526.44it/s]\n"
     ]
    },
    {
     "name": "stdout",
     "output_type": "stream",
     "text": [
      "Created results/by_layer_20250911_112921/by_layer/layer_18/V5_num_p1_V5.npz with 1050 questions\n"
     ]
    },
    {
     "name": "stderr",
     "output_type": "stream",
     "text": [
      "Layer 19: 100%|██████████| 1050/1050 [00:01<00:00, 558.16it/s]\n"
     ]
    },
    {
     "name": "stdout",
     "output_type": "stream",
     "text": [
      "Created results/by_layer_20250911_112921/by_layer/layer_19/V5_num_p1_V5.npz with 1050 questions\n"
     ]
    },
    {
     "name": "stderr",
     "output_type": "stream",
     "text": [
      "Layer 20: 100%|██████████| 1050/1050 [00:01<00:00, 528.07it/s]\n"
     ]
    },
    {
     "name": "stdout",
     "output_type": "stream",
     "text": [
      "Created results/by_layer_20250911_112921/by_layer/layer_20/V5_num_p1_V5.npz with 1050 questions\n"
     ]
    },
    {
     "name": "stderr",
     "output_type": "stream",
     "text": [
      "Layer 21: 100%|██████████| 1050/1050 [00:02<00:00, 522.03it/s]\n"
     ]
    },
    {
     "name": "stdout",
     "output_type": "stream",
     "text": [
      "Created results/by_layer_20250911_112921/by_layer/layer_21/V5_num_p1_V5.npz with 1050 questions\n"
     ]
    },
    {
     "name": "stderr",
     "output_type": "stream",
     "text": [
      "Layer 22: 100%|██████████| 1050/1050 [00:01<00:00, 525.81it/s]\n"
     ]
    },
    {
     "name": "stdout",
     "output_type": "stream",
     "text": [
      "Created results/by_layer_20250911_112921/by_layer/layer_22/V5_num_p1_V5.npz with 1050 questions\n"
     ]
    },
    {
     "name": "stderr",
     "output_type": "stream",
     "text": [
      "Layer 23: 100%|██████████| 1050/1050 [00:01<00:00, 525.64it/s]\n"
     ]
    },
    {
     "name": "stdout",
     "output_type": "stream",
     "text": [
      "Created results/by_layer_20250911_112921/by_layer/layer_23/V5_num_p1_V5.npz with 1050 questions\n"
     ]
    },
    {
     "name": "stderr",
     "output_type": "stream",
     "text": [
      "Layer 24: 100%|██████████| 1050/1050 [00:01<00:00, 527.79it/s]\n"
     ]
    },
    {
     "name": "stdout",
     "output_type": "stream",
     "text": [
      "Created results/by_layer_20250911_112921/by_layer/layer_24/V5_num_p1_V5.npz with 1050 questions\n"
     ]
    },
    {
     "name": "stderr",
     "output_type": "stream",
     "text": [
      "Layer 25: 100%|██████████| 1050/1050 [00:01<00:00, 535.55it/s]\n"
     ]
    },
    {
     "name": "stdout",
     "output_type": "stream",
     "text": [
      "Created results/by_layer_20250911_112921/by_layer/layer_25/V5_num_p1_V5.npz with 1050 questions\n"
     ]
    },
    {
     "name": "stderr",
     "output_type": "stream",
     "text": [
      "Layer 26: 100%|██████████| 1050/1050 [00:01<00:00, 554.70it/s]\n"
     ]
    },
    {
     "name": "stdout",
     "output_type": "stream",
     "text": [
      "Created results/by_layer_20250911_112921/by_layer/layer_26/V5_num_p1_V5.npz with 1050 questions\n"
     ]
    },
    {
     "name": "stderr",
     "output_type": "stream",
     "text": [
      "Layer 27: 100%|██████████| 1050/1050 [00:02<00:00, 469.05it/s]\n"
     ]
    },
    {
     "name": "stdout",
     "output_type": "stream",
     "text": [
      "Created results/by_layer_20250911_112921/by_layer/layer_27/V5_num_p1_V5.npz with 1050 questions\n"
     ]
    },
    {
     "name": "stderr",
     "output_type": "stream",
     "text": [
      "Layer 28: 100%|██████████| 1050/1050 [00:02<00:00, 453.79it/s]\n"
     ]
    },
    {
     "name": "stdout",
     "output_type": "stream",
     "text": [
      "Created results/by_layer_20250911_112921/by_layer/layer_28/V5_num_p1_V5.npz with 1050 questions\n"
     ]
    },
    {
     "name": "stderr",
     "output_type": "stream",
     "text": [
      "Layer 29: 100%|██████████| 1050/1050 [00:01<00:00, 539.68it/s]\n"
     ]
    },
    {
     "name": "stdout",
     "output_type": "stream",
     "text": [
      "Created results/by_layer_20250911_112921/by_layer/layer_29/V5_num_p1_V5.npz with 1050 questions\n"
     ]
    },
    {
     "name": "stderr",
     "output_type": "stream",
     "text": [
      "Layer 30: 100%|██████████| 1050/1050 [00:02<00:00, 509.41it/s]\n"
     ]
    },
    {
     "name": "stdout",
     "output_type": "stream",
     "text": [
      "Created results/by_layer_20250911_112921/by_layer/layer_30/V5_num_p1_V5.npz with 1050 questions\n"
     ]
    },
    {
     "name": "stderr",
     "output_type": "stream",
     "text": [
      "Layer 31: 100%|██████████| 1050/1050 [00:02<00:00, 423.43it/s]\n"
     ]
    },
    {
     "name": "stdout",
     "output_type": "stream",
     "text": [
      "Created results/by_layer_20250911_112921/by_layer/layer_31/V5_num_p1_V5.npz with 1050 questions\n"
     ]
    },
    {
     "name": "stderr",
     "output_type": "stream",
     "text": [
      "Layer 32: 100%|██████████| 1050/1050 [00:01<00:00, 538.97it/s]\n"
     ]
    },
    {
     "name": "stdout",
     "output_type": "stream",
     "text": [
      "Created results/by_layer_20250911_112921/by_layer/layer_32/V5_num_p1_V5.npz with 1050 questions\n"
     ]
    },
    {
     "name": "stderr",
     "output_type": "stream",
     "text": [
      "Layer 33: 100%|██████████| 1050/1050 [00:01<00:00, 561.26it/s]\n"
     ]
    },
    {
     "name": "stdout",
     "output_type": "stream",
     "text": [
      "Created results/by_layer_20250911_112921/by_layer/layer_33/V5_num_p1_V5.npz with 1050 questions\n"
     ]
    },
    {
     "name": "stderr",
     "output_type": "stream",
     "text": [
      "Layer 34: 100%|██████████| 1050/1050 [00:01<00:00, 589.46it/s]\n"
     ]
    },
    {
     "name": "stdout",
     "output_type": "stream",
     "text": [
      "Created results/by_layer_20250911_112921/by_layer/layer_34/V5_num_p1_V5.npz with 1050 questions\n",
      "\n",
      "Processing experiment 27/60: results/comprehensive_experiments/run_20250911_062422/V0_alpha_p5\n",
      "Processing experiment: results/comprehensive_experiments/run_20250911_062422/V0_alpha_p5\n",
      "File: hidden_states_V0.npz, Layers: 35, Hidden dim: 2560\n"
     ]
    },
    {
     "name": "stderr",
     "output_type": "stream",
     "text": [
      "Layer 00: 100%|██████████| 1050/1050 [00:04<00:00, 241.29it/s]\n"
     ]
    },
    {
     "name": "stdout",
     "output_type": "stream",
     "text": [
      "Created results/by_layer_20250911_112921/by_layer/layer_00/V0_alpha_p5_V0.npz with 1050 questions\n"
     ]
    },
    {
     "name": "stderr",
     "output_type": "stream",
     "text": [
      "Layer 01: 100%|██████████| 1050/1050 [00:01<00:00, 555.81it/s]\n"
     ]
    },
    {
     "name": "stdout",
     "output_type": "stream",
     "text": [
      "Created results/by_layer_20250911_112921/by_layer/layer_01/V0_alpha_p5_V0.npz with 1050 questions\n"
     ]
    },
    {
     "name": "stderr",
     "output_type": "stream",
     "text": [
      "Layer 02: 100%|██████████| 1050/1050 [00:02<00:00, 520.71it/s]\n"
     ]
    },
    {
     "name": "stdout",
     "output_type": "stream",
     "text": [
      "Created results/by_layer_20250911_112921/by_layer/layer_02/V0_alpha_p5_V0.npz with 1050 questions\n"
     ]
    },
    {
     "name": "stderr",
     "output_type": "stream",
     "text": [
      "Layer 03: 100%|██████████| 1050/1050 [00:01<00:00, 526.72it/s]\n"
     ]
    },
    {
     "name": "stdout",
     "output_type": "stream",
     "text": [
      "Created results/by_layer_20250911_112921/by_layer/layer_03/V0_alpha_p5_V0.npz with 1050 questions\n"
     ]
    },
    {
     "name": "stderr",
     "output_type": "stream",
     "text": [
      "Layer 04: 100%|██████████| 1050/1050 [00:02<00:00, 447.98it/s]\n"
     ]
    },
    {
     "name": "stdout",
     "output_type": "stream",
     "text": [
      "Created results/by_layer_20250911_112921/by_layer/layer_04/V0_alpha_p5_V0.npz with 1050 questions\n"
     ]
    },
    {
     "name": "stderr",
     "output_type": "stream",
     "text": [
      "Layer 05: 100%|██████████| 1050/1050 [00:02<00:00, 354.49it/s]\n"
     ]
    },
    {
     "name": "stdout",
     "output_type": "stream",
     "text": [
      "Created results/by_layer_20250911_112921/by_layer/layer_05/V0_alpha_p5_V0.npz with 1050 questions\n"
     ]
    },
    {
     "name": "stderr",
     "output_type": "stream",
     "text": [
      "Layer 06: 100%|██████████| 1050/1050 [00:02<00:00, 485.87it/s]\n"
     ]
    },
    {
     "name": "stdout",
     "output_type": "stream",
     "text": [
      "Created results/by_layer_20250911_112921/by_layer/layer_06/V0_alpha_p5_V0.npz with 1050 questions\n"
     ]
    },
    {
     "name": "stderr",
     "output_type": "stream",
     "text": [
      "Layer 07: 100%|██████████| 1050/1050 [00:01<00:00, 548.62it/s]\n"
     ]
    },
    {
     "name": "stdout",
     "output_type": "stream",
     "text": [
      "Created results/by_layer_20250911_112921/by_layer/layer_07/V0_alpha_p5_V0.npz with 1050 questions\n"
     ]
    },
    {
     "name": "stderr",
     "output_type": "stream",
     "text": [
      "Layer 08: 100%|██████████| 1050/1050 [00:01<00:00, 565.48it/s]\n"
     ]
    },
    {
     "name": "stdout",
     "output_type": "stream",
     "text": [
      "Created results/by_layer_20250911_112921/by_layer/layer_08/V0_alpha_p5_V0.npz with 1050 questions\n"
     ]
    },
    {
     "name": "stderr",
     "output_type": "stream",
     "text": [
      "Layer 09: 100%|██████████| 1050/1050 [00:01<00:00, 542.56it/s]\n"
     ]
    },
    {
     "name": "stdout",
     "output_type": "stream",
     "text": [
      "Created results/by_layer_20250911_112921/by_layer/layer_09/V0_alpha_p5_V0.npz with 1050 questions\n"
     ]
    },
    {
     "name": "stderr",
     "output_type": "stream",
     "text": [
      "Layer 10: 100%|██████████| 1050/1050 [00:01<00:00, 582.13it/s]\n"
     ]
    },
    {
     "name": "stdout",
     "output_type": "stream",
     "text": [
      "Created results/by_layer_20250911_112921/by_layer/layer_10/V0_alpha_p5_V0.npz with 1050 questions\n"
     ]
    },
    {
     "name": "stderr",
     "output_type": "stream",
     "text": [
      "Layer 11: 100%|██████████| 1050/1050 [00:02<00:00, 521.24it/s]\n"
     ]
    },
    {
     "name": "stdout",
     "output_type": "stream",
     "text": [
      "Created results/by_layer_20250911_112921/by_layer/layer_11/V0_alpha_p5_V0.npz with 1050 questions\n"
     ]
    },
    {
     "name": "stderr",
     "output_type": "stream",
     "text": [
      "Layer 12: 100%|██████████| 1050/1050 [00:02<00:00, 454.84it/s]\n"
     ]
    },
    {
     "name": "stdout",
     "output_type": "stream",
     "text": [
      "Created results/by_layer_20250911_112921/by_layer/layer_12/V0_alpha_p5_V0.npz with 1050 questions\n"
     ]
    },
    {
     "name": "stderr",
     "output_type": "stream",
     "text": [
      "Layer 13: 100%|██████████| 1050/1050 [00:01<00:00, 584.32it/s]\n"
     ]
    },
    {
     "name": "stdout",
     "output_type": "stream",
     "text": [
      "Created results/by_layer_20250911_112921/by_layer/layer_13/V0_alpha_p5_V0.npz with 1050 questions\n"
     ]
    },
    {
     "name": "stderr",
     "output_type": "stream",
     "text": [
      "Layer 14: 100%|██████████| 1050/1050 [00:02<00:00, 374.39it/s]\n"
     ]
    },
    {
     "name": "stdout",
     "output_type": "stream",
     "text": [
      "Created results/by_layer_20250911_112921/by_layer/layer_14/V0_alpha_p5_V0.npz with 1050 questions\n"
     ]
    },
    {
     "name": "stderr",
     "output_type": "stream",
     "text": [
      "Layer 15: 100%|██████████| 1050/1050 [00:02<00:00, 506.06it/s]\n"
     ]
    },
    {
     "name": "stdout",
     "output_type": "stream",
     "text": [
      "Created results/by_layer_20250911_112921/by_layer/layer_15/V0_alpha_p5_V0.npz with 1050 questions\n"
     ]
    },
    {
     "name": "stderr",
     "output_type": "stream",
     "text": [
      "Layer 16: 100%|██████████| 1050/1050 [00:01<00:00, 563.44it/s]\n"
     ]
    },
    {
     "name": "stdout",
     "output_type": "stream",
     "text": [
      "Created results/by_layer_20250911_112921/by_layer/layer_16/V0_alpha_p5_V0.npz with 1050 questions\n"
     ]
    },
    {
     "name": "stderr",
     "output_type": "stream",
     "text": [
      "Layer 17: 100%|██████████| 1050/1050 [00:02<00:00, 490.42it/s]\n"
     ]
    },
    {
     "name": "stdout",
     "output_type": "stream",
     "text": [
      "Created results/by_layer_20250911_112921/by_layer/layer_17/V0_alpha_p5_V0.npz with 1050 questions\n"
     ]
    },
    {
     "name": "stderr",
     "output_type": "stream",
     "text": [
      "Layer 18: 100%|██████████| 1050/1050 [00:01<00:00, 635.78it/s]\n"
     ]
    },
    {
     "name": "stdout",
     "output_type": "stream",
     "text": [
      "Created results/by_layer_20250911_112921/by_layer/layer_18/V0_alpha_p5_V0.npz with 1050 questions\n"
     ]
    },
    {
     "name": "stderr",
     "output_type": "stream",
     "text": [
      "Layer 19: 100%|██████████| 1050/1050 [00:01<00:00, 530.83it/s]\n"
     ]
    },
    {
     "name": "stdout",
     "output_type": "stream",
     "text": [
      "Created results/by_layer_20250911_112921/by_layer/layer_19/V0_alpha_p5_V0.npz with 1050 questions\n"
     ]
    },
    {
     "name": "stderr",
     "output_type": "stream",
     "text": [
      "Layer 20: 100%|██████████| 1050/1050 [00:01<00:00, 564.11it/s]\n"
     ]
    },
    {
     "name": "stdout",
     "output_type": "stream",
     "text": [
      "Created results/by_layer_20250911_112921/by_layer/layer_20/V0_alpha_p5_V0.npz with 1050 questions\n"
     ]
    },
    {
     "name": "stderr",
     "output_type": "stream",
     "text": [
      "Layer 21: 100%|██████████| 1050/1050 [00:01<00:00, 568.58it/s]\n"
     ]
    },
    {
     "name": "stdout",
     "output_type": "stream",
     "text": [
      "Created results/by_layer_20250911_112921/by_layer/layer_21/V0_alpha_p5_V0.npz with 1050 questions\n"
     ]
    },
    {
     "name": "stderr",
     "output_type": "stream",
     "text": [
      "Layer 22: 100%|██████████| 1050/1050 [00:02<00:00, 491.08it/s]\n"
     ]
    },
    {
     "name": "stdout",
     "output_type": "stream",
     "text": [
      "Created results/by_layer_20250911_112921/by_layer/layer_22/V0_alpha_p5_V0.npz with 1050 questions\n"
     ]
    },
    {
     "name": "stderr",
     "output_type": "stream",
     "text": [
      "Layer 23: 100%|██████████| 1050/1050 [00:01<00:00, 574.51it/s]\n"
     ]
    },
    {
     "name": "stdout",
     "output_type": "stream",
     "text": [
      "Created results/by_layer_20250911_112921/by_layer/layer_23/V0_alpha_p5_V0.npz with 1050 questions\n"
     ]
    },
    {
     "name": "stderr",
     "output_type": "stream",
     "text": [
      "Layer 24: 100%|██████████| 1050/1050 [00:01<00:00, 580.63it/s]\n"
     ]
    },
    {
     "name": "stdout",
     "output_type": "stream",
     "text": [
      "Created results/by_layer_20250911_112921/by_layer/layer_24/V0_alpha_p5_V0.npz with 1050 questions\n"
     ]
    },
    {
     "name": "stderr",
     "output_type": "stream",
     "text": [
      "Layer 25: 100%|██████████| 1050/1050 [00:01<00:00, 621.09it/s]\n"
     ]
    },
    {
     "name": "stdout",
     "output_type": "stream",
     "text": [
      "Created results/by_layer_20250911_112921/by_layer/layer_25/V0_alpha_p5_V0.npz with 1050 questions\n"
     ]
    },
    {
     "name": "stderr",
     "output_type": "stream",
     "text": [
      "Layer 26: 100%|██████████| 1050/1050 [00:02<00:00, 480.62it/s]\n"
     ]
    },
    {
     "name": "stdout",
     "output_type": "stream",
     "text": [
      "Created results/by_layer_20250911_112921/by_layer/layer_26/V0_alpha_p5_V0.npz with 1050 questions\n"
     ]
    },
    {
     "name": "stderr",
     "output_type": "stream",
     "text": [
      "Layer 27: 100%|██████████| 1050/1050 [00:01<00:00, 564.72it/s]\n"
     ]
    },
    {
     "name": "stdout",
     "output_type": "stream",
     "text": [
      "Created results/by_layer_20250911_112921/by_layer/layer_27/V0_alpha_p5_V0.npz with 1050 questions\n"
     ]
    },
    {
     "name": "stderr",
     "output_type": "stream",
     "text": [
      "Layer 28: 100%|██████████| 1050/1050 [00:01<00:00, 525.41it/s]\n"
     ]
    },
    {
     "name": "stdout",
     "output_type": "stream",
     "text": [
      "Created results/by_layer_20250911_112921/by_layer/layer_28/V0_alpha_p5_V0.npz with 1050 questions\n"
     ]
    },
    {
     "name": "stderr",
     "output_type": "stream",
     "text": [
      "Layer 29: 100%|██████████| 1050/1050 [00:01<00:00, 530.12it/s]\n"
     ]
    },
    {
     "name": "stdout",
     "output_type": "stream",
     "text": [
      "Created results/by_layer_20250911_112921/by_layer/layer_29/V0_alpha_p5_V0.npz with 1050 questions\n"
     ]
    },
    {
     "name": "stderr",
     "output_type": "stream",
     "text": [
      "Layer 30: 100%|██████████| 1050/1050 [00:02<00:00, 499.41it/s]\n"
     ]
    },
    {
     "name": "stdout",
     "output_type": "stream",
     "text": [
      "Created results/by_layer_20250911_112921/by_layer/layer_30/V0_alpha_p5_V0.npz with 1050 questions\n"
     ]
    },
    {
     "name": "stderr",
     "output_type": "stream",
     "text": [
      "Layer 31: 100%|██████████| 1050/1050 [00:02<00:00, 355.34it/s]\n"
     ]
    },
    {
     "name": "stdout",
     "output_type": "stream",
     "text": [
      "Created results/by_layer_20250911_112921/by_layer/layer_31/V0_alpha_p5_V0.npz with 1050 questions\n"
     ]
    },
    {
     "name": "stderr",
     "output_type": "stream",
     "text": [
      "Layer 32: 100%|██████████| 1050/1050 [00:01<00:00, 530.47it/s]\n"
     ]
    },
    {
     "name": "stdout",
     "output_type": "stream",
     "text": [
      "Created results/by_layer_20250911_112921/by_layer/layer_32/V0_alpha_p5_V0.npz with 1050 questions\n"
     ]
    },
    {
     "name": "stderr",
     "output_type": "stream",
     "text": [
      "Layer 33: 100%|██████████| 1050/1050 [00:02<00:00, 516.60it/s]\n"
     ]
    },
    {
     "name": "stdout",
     "output_type": "stream",
     "text": [
      "Created results/by_layer_20250911_112921/by_layer/layer_33/V0_alpha_p5_V0.npz with 1050 questions\n"
     ]
    },
    {
     "name": "stderr",
     "output_type": "stream",
     "text": [
      "Layer 34: 100%|██████████| 1050/1050 [00:02<00:00, 518.10it/s]\n"
     ]
    },
    {
     "name": "stdout",
     "output_type": "stream",
     "text": [
      "Created results/by_layer_20250911_112921/by_layer/layer_34/V0_alpha_p5_V0.npz with 1050 questions\n",
      "\n",
      "Processing experiment 28/60: results/comprehensive_experiments/run_20250911_062422/V1_num_p1\n",
      "Processing experiment: results/comprehensive_experiments/run_20250911_062422/V1_num_p1\n",
      "File: hidden_states_V1.npz, Layers: 35, Hidden dim: 2560\n"
     ]
    },
    {
     "name": "stderr",
     "output_type": "stream",
     "text": [
      "Layer 00: 100%|██████████| 1050/1050 [00:03<00:00, 267.62it/s]\n"
     ]
    },
    {
     "name": "stdout",
     "output_type": "stream",
     "text": [
      "Created results/by_layer_20250911_112921/by_layer/layer_00/V1_num_p1_V1.npz with 1050 questions\n"
     ]
    },
    {
     "name": "stderr",
     "output_type": "stream",
     "text": [
      "Layer 01: 100%|██████████| 1050/1050 [00:02<00:00, 495.32it/s]\n"
     ]
    },
    {
     "name": "stdout",
     "output_type": "stream",
     "text": [
      "Created results/by_layer_20250911_112921/by_layer/layer_01/V1_num_p1_V1.npz with 1050 questions\n"
     ]
    },
    {
     "name": "stderr",
     "output_type": "stream",
     "text": [
      "Layer 02: 100%|██████████| 1050/1050 [00:01<00:00, 542.63it/s]\n"
     ]
    },
    {
     "name": "stdout",
     "output_type": "stream",
     "text": [
      "Created results/by_layer_20250911_112921/by_layer/layer_02/V1_num_p1_V1.npz with 1050 questions\n"
     ]
    },
    {
     "name": "stderr",
     "output_type": "stream",
     "text": [
      "Layer 03: 100%|██████████| 1050/1050 [00:02<00:00, 499.28it/s]\n"
     ]
    },
    {
     "name": "stdout",
     "output_type": "stream",
     "text": [
      "Created results/by_layer_20250911_112921/by_layer/layer_03/V1_num_p1_V1.npz with 1050 questions\n"
     ]
    },
    {
     "name": "stderr",
     "output_type": "stream",
     "text": [
      "Layer 04: 100%|██████████| 1050/1050 [00:02<00:00, 497.86it/s]\n"
     ]
    },
    {
     "name": "stdout",
     "output_type": "stream",
     "text": [
      "Created results/by_layer_20250911_112921/by_layer/layer_04/V1_num_p1_V1.npz with 1050 questions\n"
     ]
    },
    {
     "name": "stderr",
     "output_type": "stream",
     "text": [
      "Layer 05: 100%|██████████| 1050/1050 [00:01<00:00, 546.20it/s]\n"
     ]
    },
    {
     "name": "stdout",
     "output_type": "stream",
     "text": [
      "Created results/by_layer_20250911_112921/by_layer/layer_05/V1_num_p1_V1.npz with 1050 questions\n"
     ]
    },
    {
     "name": "stderr",
     "output_type": "stream",
     "text": [
      "Layer 06: 100%|██████████| 1050/1050 [00:01<00:00, 591.83it/s]\n"
     ]
    },
    {
     "name": "stdout",
     "output_type": "stream",
     "text": [
      "Created results/by_layer_20250911_112921/by_layer/layer_06/V1_num_p1_V1.npz with 1050 questions\n"
     ]
    },
    {
     "name": "stderr",
     "output_type": "stream",
     "text": [
      "Layer 07: 100%|██████████| 1050/1050 [00:01<00:00, 533.59it/s]\n"
     ]
    },
    {
     "name": "stdout",
     "output_type": "stream",
     "text": [
      "Created results/by_layer_20250911_112921/by_layer/layer_07/V1_num_p1_V1.npz with 1050 questions\n"
     ]
    },
    {
     "name": "stderr",
     "output_type": "stream",
     "text": [
      "Layer 08: 100%|██████████| 1050/1050 [00:01<00:00, 547.44it/s]\n"
     ]
    },
    {
     "name": "stdout",
     "output_type": "stream",
     "text": [
      "Created results/by_layer_20250911_112921/by_layer/layer_08/V1_num_p1_V1.npz with 1050 questions\n"
     ]
    },
    {
     "name": "stderr",
     "output_type": "stream",
     "text": [
      "Layer 09: 100%|██████████| 1050/1050 [00:01<00:00, 621.20it/s]\n"
     ]
    },
    {
     "name": "stdout",
     "output_type": "stream",
     "text": [
      "Created results/by_layer_20250911_112921/by_layer/layer_09/V1_num_p1_V1.npz with 1050 questions\n"
     ]
    },
    {
     "name": "stderr",
     "output_type": "stream",
     "text": [
      "Layer 10: 100%|██████████| 1050/1050 [00:02<00:00, 506.72it/s]\n"
     ]
    },
    {
     "name": "stdout",
     "output_type": "stream",
     "text": [
      "Created results/by_layer_20250911_112921/by_layer/layer_10/V1_num_p1_V1.npz with 1050 questions\n"
     ]
    },
    {
     "name": "stderr",
     "output_type": "stream",
     "text": [
      "Layer 11: 100%|██████████| 1050/1050 [00:01<00:00, 600.76it/s]\n"
     ]
    },
    {
     "name": "stdout",
     "output_type": "stream",
     "text": [
      "Created results/by_layer_20250911_112921/by_layer/layer_11/V1_num_p1_V1.npz with 1050 questions\n"
     ]
    },
    {
     "name": "stderr",
     "output_type": "stream",
     "text": [
      "Layer 12: 100%|██████████| 1050/1050 [00:01<00:00, 531.71it/s]\n"
     ]
    },
    {
     "name": "stdout",
     "output_type": "stream",
     "text": [
      "Created results/by_layer_20250911_112921/by_layer/layer_12/V1_num_p1_V1.npz with 1050 questions\n"
     ]
    },
    {
     "name": "stderr",
     "output_type": "stream",
     "text": [
      "Layer 13: 100%|██████████| 1050/1050 [00:03<00:00, 287.67it/s]\n"
     ]
    },
    {
     "name": "stdout",
     "output_type": "stream",
     "text": [
      "Created results/by_layer_20250911_112921/by_layer/layer_13/V1_num_p1_V1.npz with 1050 questions\n"
     ]
    },
    {
     "name": "stderr",
     "output_type": "stream",
     "text": [
      "Layer 14: 100%|██████████| 1050/1050 [00:01<00:00, 534.61it/s]\n"
     ]
    },
    {
     "name": "stdout",
     "output_type": "stream",
     "text": [
      "Created results/by_layer_20250911_112921/by_layer/layer_14/V1_num_p1_V1.npz with 1050 questions\n"
     ]
    },
    {
     "name": "stderr",
     "output_type": "stream",
     "text": [
      "Layer 15: 100%|██████████| 1050/1050 [00:01<00:00, 566.17it/s]\n"
     ]
    },
    {
     "name": "stdout",
     "output_type": "stream",
     "text": [
      "Created results/by_layer_20250911_112921/by_layer/layer_15/V1_num_p1_V1.npz with 1050 questions\n"
     ]
    },
    {
     "name": "stderr",
     "output_type": "stream",
     "text": [
      "Layer 16: 100%|██████████| 1050/1050 [00:02<00:00, 514.10it/s]\n"
     ]
    },
    {
     "name": "stdout",
     "output_type": "stream",
     "text": [
      "Created results/by_layer_20250911_112921/by_layer/layer_16/V1_num_p1_V1.npz with 1050 questions\n"
     ]
    },
    {
     "name": "stderr",
     "output_type": "stream",
     "text": [
      "Layer 17: 100%|██████████| 1050/1050 [00:01<00:00, 555.72it/s]\n"
     ]
    },
    {
     "name": "stdout",
     "output_type": "stream",
     "text": [
      "Created results/by_layer_20250911_112921/by_layer/layer_17/V1_num_p1_V1.npz with 1050 questions\n"
     ]
    },
    {
     "name": "stderr",
     "output_type": "stream",
     "text": [
      "Layer 18: 100%|██████████| 1050/1050 [00:01<00:00, 553.47it/s]\n"
     ]
    },
    {
     "name": "stdout",
     "output_type": "stream",
     "text": [
      "Created results/by_layer_20250911_112921/by_layer/layer_18/V1_num_p1_V1.npz with 1050 questions\n"
     ]
    },
    {
     "name": "stderr",
     "output_type": "stream",
     "text": [
      "Layer 19: 100%|██████████| 1050/1050 [00:01<00:00, 609.60it/s]\n"
     ]
    },
    {
     "name": "stdout",
     "output_type": "stream",
     "text": [
      "Created results/by_layer_20250911_112921/by_layer/layer_19/V1_num_p1_V1.npz with 1050 questions\n"
     ]
    },
    {
     "name": "stderr",
     "output_type": "stream",
     "text": [
      "Layer 20: 100%|██████████| 1050/1050 [00:01<00:00, 570.58it/s]\n"
     ]
    },
    {
     "name": "stdout",
     "output_type": "stream",
     "text": [
      "Created results/by_layer_20250911_112921/by_layer/layer_20/V1_num_p1_V1.npz with 1050 questions\n"
     ]
    },
    {
     "name": "stderr",
     "output_type": "stream",
     "text": [
      "Layer 21: 100%|██████████| 1050/1050 [00:01<00:00, 575.78it/s]\n"
     ]
    },
    {
     "name": "stdout",
     "output_type": "stream",
     "text": [
      "Created results/by_layer_20250911_112921/by_layer/layer_21/V1_num_p1_V1.npz with 1050 questions\n"
     ]
    },
    {
     "name": "stderr",
     "output_type": "stream",
     "text": [
      "Layer 22: 100%|██████████| 1050/1050 [00:02<00:00, 365.39it/s]\n"
     ]
    },
    {
     "name": "stdout",
     "output_type": "stream",
     "text": [
      "Created results/by_layer_20250911_112921/by_layer/layer_22/V1_num_p1_V1.npz with 1050 questions\n"
     ]
    },
    {
     "name": "stderr",
     "output_type": "stream",
     "text": [
      "Layer 23: 100%|██████████| 1050/1050 [00:01<00:00, 569.55it/s]\n"
     ]
    },
    {
     "name": "stdout",
     "output_type": "stream",
     "text": [
      "Created results/by_layer_20250911_112921/by_layer/layer_23/V1_num_p1_V1.npz with 1050 questions\n"
     ]
    },
    {
     "name": "stderr",
     "output_type": "stream",
     "text": [
      "Layer 24: 100%|██████████| 1050/1050 [00:01<00:00, 632.58it/s]\n"
     ]
    },
    {
     "name": "stdout",
     "output_type": "stream",
     "text": [
      "Created results/by_layer_20250911_112921/by_layer/layer_24/V1_num_p1_V1.npz with 1050 questions\n"
     ]
    },
    {
     "name": "stderr",
     "output_type": "stream",
     "text": [
      "Layer 25: 100%|██████████| 1050/1050 [00:02<00:00, 508.14it/s]\n"
     ]
    },
    {
     "name": "stdout",
     "output_type": "stream",
     "text": [
      "Created results/by_layer_20250911_112921/by_layer/layer_25/V1_num_p1_V1.npz with 1050 questions\n"
     ]
    },
    {
     "name": "stderr",
     "output_type": "stream",
     "text": [
      "Layer 26: 100%|██████████| 1050/1050 [00:01<00:00, 593.43it/s]\n"
     ]
    },
    {
     "name": "stdout",
     "output_type": "stream",
     "text": [
      "Created results/by_layer_20250911_112921/by_layer/layer_26/V1_num_p1_V1.npz with 1050 questions\n"
     ]
    },
    {
     "name": "stderr",
     "output_type": "stream",
     "text": [
      "Layer 27: 100%|██████████| 1050/1050 [00:01<00:00, 530.35it/s]\n"
     ]
    },
    {
     "name": "stdout",
     "output_type": "stream",
     "text": [
      "Created results/by_layer_20250911_112921/by_layer/layer_27/V1_num_p1_V1.npz with 1050 questions\n"
     ]
    },
    {
     "name": "stderr",
     "output_type": "stream",
     "text": [
      "Layer 28: 100%|██████████| 1050/1050 [00:01<00:00, 586.73it/s]\n"
     ]
    },
    {
     "name": "stdout",
     "output_type": "stream",
     "text": [
      "Created results/by_layer_20250911_112921/by_layer/layer_28/V1_num_p1_V1.npz with 1050 questions\n"
     ]
    },
    {
     "name": "stderr",
     "output_type": "stream",
     "text": [
      "Layer 29: 100%|██████████| 1050/1050 [00:02<00:00, 503.76it/s]\n"
     ]
    },
    {
     "name": "stdout",
     "output_type": "stream",
     "text": [
      "Created results/by_layer_20250911_112921/by_layer/layer_29/V1_num_p1_V1.npz with 1050 questions\n"
     ]
    },
    {
     "name": "stderr",
     "output_type": "stream",
     "text": [
      "Layer 30: 100%|██████████| 1050/1050 [00:01<00:00, 557.22it/s]\n"
     ]
    },
    {
     "name": "stdout",
     "output_type": "stream",
     "text": [
      "Created results/by_layer_20250911_112921/by_layer/layer_30/V1_num_p1_V1.npz with 1050 questions\n"
     ]
    },
    {
     "name": "stderr",
     "output_type": "stream",
     "text": [
      "Layer 31: 100%|██████████| 1050/1050 [00:02<00:00, 501.70it/s]\n"
     ]
    },
    {
     "name": "stdout",
     "output_type": "stream",
     "text": [
      "Created results/by_layer_20250911_112921/by_layer/layer_31/V1_num_p1_V1.npz with 1050 questions\n"
     ]
    },
    {
     "name": "stderr",
     "output_type": "stream",
     "text": [
      "Layer 32: 100%|██████████| 1050/1050 [00:01<00:00, 576.90it/s]\n"
     ]
    },
    {
     "name": "stdout",
     "output_type": "stream",
     "text": [
      "Created results/by_layer_20250911_112921/by_layer/layer_32/V1_num_p1_V1.npz with 1050 questions\n"
     ]
    },
    {
     "name": "stderr",
     "output_type": "stream",
     "text": [
      "Layer 33: 100%|██████████| 1050/1050 [00:01<00:00, 576.66it/s]\n"
     ]
    },
    {
     "name": "stdout",
     "output_type": "stream",
     "text": [
      "Created results/by_layer_20250911_112921/by_layer/layer_33/V1_num_p1_V1.npz with 1050 questions\n"
     ]
    },
    {
     "name": "stderr",
     "output_type": "stream",
     "text": [
      "Layer 34: 100%|██████████| 1050/1050 [00:01<00:00, 539.09it/s]\n"
     ]
    },
    {
     "name": "stdout",
     "output_type": "stream",
     "text": [
      "Created results/by_layer_20250911_112921/by_layer/layer_34/V1_num_p1_V1.npz with 1050 questions\n",
      "\n",
      "Processing experiment 29/60: results/comprehensive_experiments/run_20250911_062422/V2_num_p4\n",
      "Processing experiment: results/comprehensive_experiments/run_20250911_062422/V2_num_p4\n",
      "File: hidden_states_V2.npz, Layers: 35, Hidden dim: 2560\n"
     ]
    },
    {
     "name": "stderr",
     "output_type": "stream",
     "text": [
      "Layer 00: 100%|██████████| 1050/1050 [00:03<00:00, 308.55it/s]\n"
     ]
    },
    {
     "name": "stdout",
     "output_type": "stream",
     "text": [
      "Created results/by_layer_20250911_112921/by_layer/layer_00/V2_num_p4_V2.npz with 1050 questions\n"
     ]
    },
    {
     "name": "stderr",
     "output_type": "stream",
     "text": [
      "Layer 01: 100%|██████████| 1050/1050 [00:01<00:00, 535.08it/s]\n"
     ]
    },
    {
     "name": "stdout",
     "output_type": "stream",
     "text": [
      "Created results/by_layer_20250911_112921/by_layer/layer_01/V2_num_p4_V2.npz with 1050 questions\n"
     ]
    },
    {
     "name": "stderr",
     "output_type": "stream",
     "text": [
      "Layer 02: 100%|██████████| 1050/1050 [00:01<00:00, 602.96it/s]\n"
     ]
    },
    {
     "name": "stdout",
     "output_type": "stream",
     "text": [
      "Created results/by_layer_20250911_112921/by_layer/layer_02/V2_num_p4_V2.npz with 1050 questions\n"
     ]
    },
    {
     "name": "stderr",
     "output_type": "stream",
     "text": [
      "Layer 03: 100%|██████████| 1050/1050 [00:01<00:00, 608.64it/s]\n"
     ]
    },
    {
     "name": "stdout",
     "output_type": "stream",
     "text": [
      "Created results/by_layer_20250911_112921/by_layer/layer_03/V2_num_p4_V2.npz with 1050 questions\n"
     ]
    },
    {
     "name": "stderr",
     "output_type": "stream",
     "text": [
      "Layer 04: 100%|██████████| 1050/1050 [00:01<00:00, 597.85it/s]\n"
     ]
    },
    {
     "name": "stdout",
     "output_type": "stream",
     "text": [
      "Created results/by_layer_20250911_112921/by_layer/layer_04/V2_num_p4_V2.npz with 1050 questions\n"
     ]
    },
    {
     "name": "stderr",
     "output_type": "stream",
     "text": [
      "Layer 05: 100%|██████████| 1050/1050 [00:02<00:00, 358.23it/s]\n"
     ]
    },
    {
     "name": "stdout",
     "output_type": "stream",
     "text": [
      "Created results/by_layer_20250911_112921/by_layer/layer_05/V2_num_p4_V2.npz with 1050 questions\n"
     ]
    },
    {
     "name": "stderr",
     "output_type": "stream",
     "text": [
      "Layer 06: 100%|██████████| 1050/1050 [00:01<00:00, 555.63it/s]\n"
     ]
    },
    {
     "name": "stdout",
     "output_type": "stream",
     "text": [
      "Created results/by_layer_20250911_112921/by_layer/layer_06/V2_num_p4_V2.npz with 1050 questions\n"
     ]
    },
    {
     "name": "stderr",
     "output_type": "stream",
     "text": [
      "Layer 07: 100%|██████████| 1050/1050 [00:01<00:00, 604.54it/s]\n"
     ]
    },
    {
     "name": "stdout",
     "output_type": "stream",
     "text": [
      "Created results/by_layer_20250911_112921/by_layer/layer_07/V2_num_p4_V2.npz with 1050 questions\n"
     ]
    },
    {
     "name": "stderr",
     "output_type": "stream",
     "text": [
      "Layer 08: 100%|██████████| 1050/1050 [00:02<00:00, 519.29it/s]\n"
     ]
    },
    {
     "name": "stdout",
     "output_type": "stream",
     "text": [
      "Created results/by_layer_20250911_112921/by_layer/layer_08/V2_num_p4_V2.npz with 1050 questions\n"
     ]
    },
    {
     "name": "stderr",
     "output_type": "stream",
     "text": [
      "Layer 09: 100%|██████████| 1050/1050 [00:01<00:00, 620.37it/s]\n"
     ]
    },
    {
     "name": "stdout",
     "output_type": "stream",
     "text": [
      "Created results/by_layer_20250911_112921/by_layer/layer_09/V2_num_p4_V2.npz with 1050 questions\n"
     ]
    },
    {
     "name": "stderr",
     "output_type": "stream",
     "text": [
      "Layer 10: 100%|██████████| 1050/1050 [00:01<00:00, 604.33it/s]\n"
     ]
    },
    {
     "name": "stdout",
     "output_type": "stream",
     "text": [
      "Created results/by_layer_20250911_112921/by_layer/layer_10/V2_num_p4_V2.npz with 1050 questions\n"
     ]
    },
    {
     "name": "stderr",
     "output_type": "stream",
     "text": [
      "Layer 11: 100%|██████████| 1050/1050 [00:02<00:00, 506.06it/s]\n"
     ]
    },
    {
     "name": "stdout",
     "output_type": "stream",
     "text": [
      "Created results/by_layer_20250911_112921/by_layer/layer_11/V2_num_p4_V2.npz with 1050 questions\n"
     ]
    },
    {
     "name": "stderr",
     "output_type": "stream",
     "text": [
      "Layer 12: 100%|██████████| 1050/1050 [00:01<00:00, 586.17it/s]\n"
     ]
    },
    {
     "name": "stdout",
     "output_type": "stream",
     "text": [
      "Created results/by_layer_20250911_112921/by_layer/layer_12/V2_num_p4_V2.npz with 1050 questions\n"
     ]
    },
    {
     "name": "stderr",
     "output_type": "stream",
     "text": [
      "Layer 13: 100%|██████████| 1050/1050 [00:01<00:00, 604.54it/s]\n"
     ]
    },
    {
     "name": "stdout",
     "output_type": "stream",
     "text": [
      "Created results/by_layer_20250911_112921/by_layer/layer_13/V2_num_p4_V2.npz with 1050 questions\n"
     ]
    },
    {
     "name": "stderr",
     "output_type": "stream",
     "text": [
      "Layer 14: 100%|██████████| 1050/1050 [00:02<00:00, 366.35it/s]\n"
     ]
    },
    {
     "name": "stdout",
     "output_type": "stream",
     "text": [
      "Created results/by_layer_20250911_112921/by_layer/layer_14/V2_num_p4_V2.npz with 1050 questions\n"
     ]
    },
    {
     "name": "stderr",
     "output_type": "stream",
     "text": [
      "Layer 15: 100%|██████████| 1050/1050 [00:01<00:00, 566.49it/s]\n"
     ]
    },
    {
     "name": "stdout",
     "output_type": "stream",
     "text": [
      "Created results/by_layer_20250911_112921/by_layer/layer_15/V2_num_p4_V2.npz with 1050 questions\n"
     ]
    },
    {
     "name": "stderr",
     "output_type": "stream",
     "text": [
      "Layer 16: 100%|██████████| 1050/1050 [00:01<00:00, 604.00it/s]\n"
     ]
    },
    {
     "name": "stdout",
     "output_type": "stream",
     "text": [
      "Created results/by_layer_20250911_112921/by_layer/layer_16/V2_num_p4_V2.npz with 1050 questions\n"
     ]
    },
    {
     "name": "stderr",
     "output_type": "stream",
     "text": [
      "Layer 17: 100%|██████████| 1050/1050 [00:02<00:00, 522.28it/s]\n"
     ]
    },
    {
     "name": "stdout",
     "output_type": "stream",
     "text": [
      "Created results/by_layer_20250911_112921/by_layer/layer_17/V2_num_p4_V2.npz with 1050 questions\n"
     ]
    },
    {
     "name": "stderr",
     "output_type": "stream",
     "text": [
      "Layer 18: 100%|██████████| 1050/1050 [00:01<00:00, 576.28it/s]\n"
     ]
    },
    {
     "name": "stdout",
     "output_type": "stream",
     "text": [
      "Created results/by_layer_20250911_112921/by_layer/layer_18/V2_num_p4_V2.npz with 1050 questions\n"
     ]
    },
    {
     "name": "stderr",
     "output_type": "stream",
     "text": [
      "Layer 19: 100%|██████████| 1050/1050 [00:02<00:00, 410.67it/s]\n"
     ]
    },
    {
     "name": "stdout",
     "output_type": "stream",
     "text": [
      "Created results/by_layer_20250911_112921/by_layer/layer_19/V2_num_p4_V2.npz with 1050 questions\n"
     ]
    },
    {
     "name": "stderr",
     "output_type": "stream",
     "text": [
      "Layer 20: 100%|██████████| 1050/1050 [00:01<00:00, 555.22it/s]\n"
     ]
    },
    {
     "name": "stdout",
     "output_type": "stream",
     "text": [
      "Created results/by_layer_20250911_112921/by_layer/layer_20/V2_num_p4_V2.npz with 1050 questions\n"
     ]
    },
    {
     "name": "stderr",
     "output_type": "stream",
     "text": [
      "Layer 21: 100%|██████████| 1050/1050 [00:02<00:00, 515.49it/s]\n"
     ]
    },
    {
     "name": "stdout",
     "output_type": "stream",
     "text": [
      "Created results/by_layer_20250911_112921/by_layer/layer_21/V2_num_p4_V2.npz with 1050 questions\n"
     ]
    },
    {
     "name": "stderr",
     "output_type": "stream",
     "text": [
      "Layer 22: 100%|██████████| 1050/1050 [00:01<00:00, 537.19it/s]\n"
     ]
    },
    {
     "name": "stdout",
     "output_type": "stream",
     "text": [
      "Created results/by_layer_20250911_112921/by_layer/layer_22/V2_num_p4_V2.npz with 1050 questions\n"
     ]
    },
    {
     "name": "stderr",
     "output_type": "stream",
     "text": [
      "Layer 23: 100%|██████████| 1050/1050 [00:01<00:00, 534.72it/s]\n"
     ]
    },
    {
     "name": "stdout",
     "output_type": "stream",
     "text": [
      "Created results/by_layer_20250911_112921/by_layer/layer_23/V2_num_p4_V2.npz with 1050 questions\n"
     ]
    },
    {
     "name": "stderr",
     "output_type": "stream",
     "text": [
      "Layer 24: 100%|██████████| 1050/1050 [00:01<00:00, 594.08it/s]\n"
     ]
    },
    {
     "name": "stdout",
     "output_type": "stream",
     "text": [
      "Created results/by_layer_20250911_112921/by_layer/layer_24/V2_num_p4_V2.npz with 1050 questions\n"
     ]
    },
    {
     "name": "stderr",
     "output_type": "stream",
     "text": [
      "Layer 25: 100%|██████████| 1050/1050 [00:01<00:00, 538.05it/s]\n"
     ]
    },
    {
     "name": "stdout",
     "output_type": "stream",
     "text": [
      "Created results/by_layer_20250911_112921/by_layer/layer_25/V2_num_p4_V2.npz with 1050 questions\n"
     ]
    },
    {
     "name": "stderr",
     "output_type": "stream",
     "text": [
      "Layer 26: 100%|██████████| 1050/1050 [00:01<00:00, 585.10it/s]\n"
     ]
    },
    {
     "name": "stdout",
     "output_type": "stream",
     "text": [
      "Created results/by_layer_20250911_112921/by_layer/layer_26/V2_num_p4_V2.npz with 1050 questions\n"
     ]
    },
    {
     "name": "stderr",
     "output_type": "stream",
     "text": [
      "Layer 27: 100%|██████████| 1050/1050 [00:01<00:00, 556.16it/s]\n"
     ]
    },
    {
     "name": "stdout",
     "output_type": "stream",
     "text": [
      "Created results/by_layer_20250911_112921/by_layer/layer_27/V2_num_p4_V2.npz with 1050 questions\n"
     ]
    },
    {
     "name": "stderr",
     "output_type": "stream",
     "text": [
      "Layer 28: 100%|██████████| 1050/1050 [00:02<00:00, 512.46it/s]\n"
     ]
    },
    {
     "name": "stdout",
     "output_type": "stream",
     "text": [
      "Created results/by_layer_20250911_112921/by_layer/layer_28/V2_num_p4_V2.npz with 1050 questions\n"
     ]
    },
    {
     "name": "stderr",
     "output_type": "stream",
     "text": [
      "Layer 29: 100%|██████████| 1050/1050 [00:01<00:00, 540.60it/s]\n"
     ]
    },
    {
     "name": "stdout",
     "output_type": "stream",
     "text": [
      "Created results/by_layer_20250911_112921/by_layer/layer_29/V2_num_p4_V2.npz with 1050 questions\n"
     ]
    },
    {
     "name": "stderr",
     "output_type": "stream",
     "text": [
      "Layer 30: 100%|██████████| 1050/1050 [00:02<00:00, 501.12it/s]\n"
     ]
    },
    {
     "name": "stdout",
     "output_type": "stream",
     "text": [
      "Created results/by_layer_20250911_112921/by_layer/layer_30/V2_num_p4_V2.npz with 1050 questions\n"
     ]
    },
    {
     "name": "stderr",
     "output_type": "stream",
     "text": [
      "Layer 31: 100%|██████████| 1050/1050 [00:03<00:00, 345.87it/s]\n"
     ]
    },
    {
     "name": "stdout",
     "output_type": "stream",
     "text": [
      "Created results/by_layer_20250911_112921/by_layer/layer_31/V2_num_p4_V2.npz with 1050 questions\n"
     ]
    },
    {
     "name": "stderr",
     "output_type": "stream",
     "text": [
      "Layer 32: 100%|██████████| 1050/1050 [00:01<00:00, 537.96it/s]\n"
     ]
    },
    {
     "name": "stdout",
     "output_type": "stream",
     "text": [
      "Created results/by_layer_20250911_112921/by_layer/layer_32/V2_num_p4_V2.npz with 1050 questions\n"
     ]
    },
    {
     "name": "stderr",
     "output_type": "stream",
     "text": [
      "Layer 33: 100%|██████████| 1050/1050 [00:01<00:00, 559.71it/s]\n"
     ]
    },
    {
     "name": "stdout",
     "output_type": "stream",
     "text": [
      "Created results/by_layer_20250911_112921/by_layer/layer_33/V2_num_p4_V2.npz with 1050 questions\n"
     ]
    },
    {
     "name": "stderr",
     "output_type": "stream",
     "text": [
      "Layer 34: 100%|██████████| 1050/1050 [00:02<00:00, 519.83it/s]\n"
     ]
    },
    {
     "name": "stdout",
     "output_type": "stream",
     "text": [
      "Created results/by_layer_20250911_112921/by_layer/layer_34/V2_num_p4_V2.npz with 1050 questions\n",
      "\n",
      "Processing experiment 30/60: results/comprehensive_experiments/run_20250911_062422/V3_alpha_p5\n",
      "Processing experiment: results/comprehensive_experiments/run_20250911_062422/V3_alpha_p5\n",
      "File: hidden_states_V3.npz, Layers: 35, Hidden dim: 2560\n"
     ]
    },
    {
     "name": "stderr",
     "output_type": "stream",
     "text": [
      "Layer 00: 100%|██████████| 1050/1050 [00:03<00:00, 315.93it/s]\n"
     ]
    },
    {
     "name": "stdout",
     "output_type": "stream",
     "text": [
      "Created results/by_layer_20250911_112921/by_layer/layer_00/V3_alpha_p5_V3.npz with 1050 questions\n"
     ]
    },
    {
     "name": "stderr",
     "output_type": "stream",
     "text": [
      "Layer 01: 100%|██████████| 1050/1050 [00:02<00:00, 471.57it/s]\n"
     ]
    },
    {
     "name": "stdout",
     "output_type": "stream",
     "text": [
      "Created results/by_layer_20250911_112921/by_layer/layer_01/V3_alpha_p5_V3.npz with 1050 questions\n"
     ]
    },
    {
     "name": "stderr",
     "output_type": "stream",
     "text": [
      "Layer 02: 100%|██████████| 1050/1050 [00:01<00:00, 555.69it/s]\n"
     ]
    },
    {
     "name": "stdout",
     "output_type": "stream",
     "text": [
      "Created results/by_layer_20250911_112921/by_layer/layer_02/V3_alpha_p5_V3.npz with 1050 questions\n"
     ]
    },
    {
     "name": "stderr",
     "output_type": "stream",
     "text": [
      "Layer 03: 100%|██████████| 1050/1050 [00:02<00:00, 518.13it/s]\n"
     ]
    },
    {
     "name": "stdout",
     "output_type": "stream",
     "text": [
      "Created results/by_layer_20250911_112921/by_layer/layer_03/V3_alpha_p5_V3.npz with 1050 questions\n"
     ]
    },
    {
     "name": "stderr",
     "output_type": "stream",
     "text": [
      "Layer 04: 100%|██████████| 1050/1050 [00:01<00:00, 534.02it/s]\n"
     ]
    },
    {
     "name": "stdout",
     "output_type": "stream",
     "text": [
      "Created results/by_layer_20250911_112921/by_layer/layer_04/V3_alpha_p5_V3.npz with 1050 questions\n"
     ]
    },
    {
     "name": "stderr",
     "output_type": "stream",
     "text": [
      "Layer 05: 100%|██████████| 1050/1050 [00:03<00:00, 341.91it/s]\n"
     ]
    },
    {
     "name": "stdout",
     "output_type": "stream",
     "text": [
      "Created results/by_layer_20250911_112921/by_layer/layer_05/V3_alpha_p5_V3.npz with 1050 questions\n"
     ]
    },
    {
     "name": "stderr",
     "output_type": "stream",
     "text": [
      "Layer 06: 100%|██████████| 1050/1050 [00:01<00:00, 596.69it/s]\n"
     ]
    },
    {
     "name": "stdout",
     "output_type": "stream",
     "text": [
      "Created results/by_layer_20250911_112921/by_layer/layer_06/V3_alpha_p5_V3.npz with 1050 questions\n"
     ]
    },
    {
     "name": "stderr",
     "output_type": "stream",
     "text": [
      "Layer 07: 100%|██████████| 1050/1050 [00:02<00:00, 463.85it/s]\n"
     ]
    },
    {
     "name": "stdout",
     "output_type": "stream",
     "text": [
      "Created results/by_layer_20250911_112921/by_layer/layer_07/V3_alpha_p5_V3.npz with 1050 questions\n"
     ]
    },
    {
     "name": "stderr",
     "output_type": "stream",
     "text": [
      "Layer 08: 100%|██████████| 1050/1050 [00:01<00:00, 558.22it/s]\n"
     ]
    },
    {
     "name": "stdout",
     "output_type": "stream",
     "text": [
      "Created results/by_layer_20250911_112921/by_layer/layer_08/V3_alpha_p5_V3.npz with 1050 questions\n"
     ]
    },
    {
     "name": "stderr",
     "output_type": "stream",
     "text": [
      "Layer 09: 100%|██████████| 1050/1050 [00:02<00:00, 521.33it/s]\n"
     ]
    },
    {
     "name": "stdout",
     "output_type": "stream",
     "text": [
      "Created results/by_layer_20250911_112921/by_layer/layer_09/V3_alpha_p5_V3.npz with 1050 questions\n"
     ]
    },
    {
     "name": "stderr",
     "output_type": "stream",
     "text": [
      "Layer 10: 100%|██████████| 1050/1050 [00:01<00:00, 554.01it/s]\n"
     ]
    },
    {
     "name": "stdout",
     "output_type": "stream",
     "text": [
      "Created results/by_layer_20250911_112921/by_layer/layer_10/V3_alpha_p5_V3.npz with 1050 questions\n"
     ]
    },
    {
     "name": "stderr",
     "output_type": "stream",
     "text": [
      "Layer 11: 100%|██████████| 1050/1050 [00:01<00:00, 535.22it/s]\n"
     ]
    },
    {
     "name": "stdout",
     "output_type": "stream",
     "text": [
      "Created results/by_layer_20250911_112921/by_layer/layer_11/V3_alpha_p5_V3.npz with 1050 questions\n"
     ]
    },
    {
     "name": "stderr",
     "output_type": "stream",
     "text": [
      "Layer 12: 100%|██████████| 1050/1050 [00:01<00:00, 582.59it/s]\n"
     ]
    },
    {
     "name": "stdout",
     "output_type": "stream",
     "text": [
      "Created results/by_layer_20250911_112921/by_layer/layer_12/V3_alpha_p5_V3.npz with 1050 questions\n"
     ]
    },
    {
     "name": "stderr",
     "output_type": "stream",
     "text": [
      "Layer 13: 100%|██████████| 1050/1050 [00:02<00:00, 508.78it/s]\n"
     ]
    },
    {
     "name": "stdout",
     "output_type": "stream",
     "text": [
      "Created results/by_layer_20250911_112921/by_layer/layer_13/V3_alpha_p5_V3.npz with 1050 questions\n"
     ]
    },
    {
     "name": "stderr",
     "output_type": "stream",
     "text": [
      "Layer 14: 100%|██████████| 1050/1050 [00:02<00:00, 517.31it/s]\n"
     ]
    },
    {
     "name": "stdout",
     "output_type": "stream",
     "text": [
      "Created results/by_layer_20250911_112921/by_layer/layer_14/V3_alpha_p5_V3.npz with 1050 questions\n"
     ]
    },
    {
     "name": "stderr",
     "output_type": "stream",
     "text": [
      "Layer 15: 100%|██████████| 1050/1050 [00:01<00:00, 629.35it/s]\n"
     ]
    },
    {
     "name": "stdout",
     "output_type": "stream",
     "text": [
      "Created results/by_layer_20250911_112921/by_layer/layer_15/V3_alpha_p5_V3.npz with 1050 questions\n"
     ]
    },
    {
     "name": "stderr",
     "output_type": "stream",
     "text": [
      "Layer 16: 100%|██████████| 1050/1050 [00:01<00:00, 551.38it/s]\n"
     ]
    },
    {
     "name": "stdout",
     "output_type": "stream",
     "text": [
      "Created results/by_layer_20250911_112921/by_layer/layer_16/V3_alpha_p5_V3.npz with 1050 questions\n"
     ]
    },
    {
     "name": "stderr",
     "output_type": "stream",
     "text": [
      "Layer 17: 100%|██████████| 1050/1050 [00:01<00:00, 568.51it/s]\n"
     ]
    },
    {
     "name": "stdout",
     "output_type": "stream",
     "text": [
      "Created results/by_layer_20250911_112921/by_layer/layer_17/V3_alpha_p5_V3.npz with 1050 questions\n"
     ]
    },
    {
     "name": "stderr",
     "output_type": "stream",
     "text": [
      "Layer 18: 100%|██████████| 1050/1050 [00:01<00:00, 557.96it/s]\n"
     ]
    },
    {
     "name": "stdout",
     "output_type": "stream",
     "text": [
      "Created results/by_layer_20250911_112921/by_layer/layer_18/V3_alpha_p5_V3.npz with 1050 questions\n"
     ]
    },
    {
     "name": "stderr",
     "output_type": "stream",
     "text": [
      "Layer 19: 100%|██████████| 1050/1050 [00:01<00:00, 534.44it/s]\n"
     ]
    },
    {
     "name": "stdout",
     "output_type": "stream",
     "text": [
      "Created results/by_layer_20250911_112921/by_layer/layer_19/V3_alpha_p5_V3.npz with 1050 questions\n"
     ]
    },
    {
     "name": "stderr",
     "output_type": "stream",
     "text": [
      "Layer 20: 100%|██████████| 1050/1050 [00:01<00:00, 535.29it/s]\n"
     ]
    },
    {
     "name": "stdout",
     "output_type": "stream",
     "text": [
      "Created results/by_layer_20250911_112921/by_layer/layer_20/V3_alpha_p5_V3.npz with 1050 questions\n"
     ]
    },
    {
     "name": "stderr",
     "output_type": "stream",
     "text": [
      "Layer 21: 100%|██████████| 1050/1050 [00:01<00:00, 560.92it/s]\n"
     ]
    },
    {
     "name": "stdout",
     "output_type": "stream",
     "text": [
      "Created results/by_layer_20250911_112921/by_layer/layer_21/V3_alpha_p5_V3.npz with 1050 questions\n"
     ]
    },
    {
     "name": "stderr",
     "output_type": "stream",
     "text": [
      "Layer 22: 100%|██████████| 1050/1050 [00:01<00:00, 542.93it/s]\n"
     ]
    },
    {
     "name": "stdout",
     "output_type": "stream",
     "text": [
      "Created results/by_layer_20250911_112921/by_layer/layer_22/V3_alpha_p5_V3.npz with 1050 questions\n"
     ]
    },
    {
     "name": "stderr",
     "output_type": "stream",
     "text": [
      "Layer 23: 100%|██████████| 1050/1050 [00:02<00:00, 515.55it/s]\n"
     ]
    },
    {
     "name": "stdout",
     "output_type": "stream",
     "text": [
      "Created results/by_layer_20250911_112921/by_layer/layer_23/V3_alpha_p5_V3.npz with 1050 questions\n"
     ]
    },
    {
     "name": "stderr",
     "output_type": "stream",
     "text": [
      "Layer 24: 100%|██████████| 1050/1050 [00:01<00:00, 558.91it/s]\n"
     ]
    },
    {
     "name": "stdout",
     "output_type": "stream",
     "text": [
      "Created results/by_layer_20250911_112921/by_layer/layer_24/V3_alpha_p5_V3.npz with 1050 questions\n"
     ]
    },
    {
     "name": "stderr",
     "output_type": "stream",
     "text": [
      "Layer 25: 100%|██████████| 1050/1050 [00:02<00:00, 521.06it/s]\n"
     ]
    },
    {
     "name": "stdout",
     "output_type": "stream",
     "text": [
      "Created results/by_layer_20250911_112921/by_layer/layer_25/V3_alpha_p5_V3.npz with 1050 questions\n"
     ]
    },
    {
     "name": "stderr",
     "output_type": "stream",
     "text": [
      "Layer 26: 100%|██████████| 1050/1050 [00:01<00:00, 544.16it/s]\n"
     ]
    },
    {
     "name": "stdout",
     "output_type": "stream",
     "text": [
      "Created results/by_layer_20250911_112921/by_layer/layer_26/V3_alpha_p5_V3.npz with 1050 questions\n"
     ]
    },
    {
     "name": "stderr",
     "output_type": "stream",
     "text": [
      "Layer 27: 100%|██████████| 1050/1050 [00:02<00:00, 498.15it/s]\n"
     ]
    },
    {
     "name": "stdout",
     "output_type": "stream",
     "text": [
      "Created results/by_layer_20250911_112921/by_layer/layer_27/V3_alpha_p5_V3.npz with 1050 questions\n"
     ]
    },
    {
     "name": "stderr",
     "output_type": "stream",
     "text": [
      "Layer 28: 100%|██████████| 1050/1050 [00:01<00:00, 545.38it/s]\n"
     ]
    },
    {
     "name": "stdout",
     "output_type": "stream",
     "text": [
      "Created results/by_layer_20250911_112921/by_layer/layer_28/V3_alpha_p5_V3.npz with 1050 questions\n"
     ]
    },
    {
     "name": "stderr",
     "output_type": "stream",
     "text": [
      "Layer 29: 100%|██████████| 1050/1050 [00:01<00:00, 618.39it/s]\n"
     ]
    },
    {
     "name": "stdout",
     "output_type": "stream",
     "text": [
      "Created results/by_layer_20250911_112921/by_layer/layer_29/V3_alpha_p5_V3.npz with 1050 questions\n"
     ]
    },
    {
     "name": "stderr",
     "output_type": "stream",
     "text": [
      "Layer 30: 100%|██████████| 1050/1050 [00:01<00:00, 586.22it/s]\n"
     ]
    },
    {
     "name": "stdout",
     "output_type": "stream",
     "text": [
      "Created results/by_layer_20250911_112921/by_layer/layer_30/V3_alpha_p5_V3.npz with 1050 questions\n"
     ]
    },
    {
     "name": "stderr",
     "output_type": "stream",
     "text": [
      "Layer 31: 100%|██████████| 1050/1050 [00:02<00:00, 378.52it/s]\n"
     ]
    },
    {
     "name": "stdout",
     "output_type": "stream",
     "text": [
      "Created results/by_layer_20250911_112921/by_layer/layer_31/V3_alpha_p5_V3.npz with 1050 questions\n"
     ]
    },
    {
     "name": "stderr",
     "output_type": "stream",
     "text": [
      "Layer 32: 100%|██████████| 1050/1050 [00:01<00:00, 535.45it/s]\n"
     ]
    },
    {
     "name": "stdout",
     "output_type": "stream",
     "text": [
      "Created results/by_layer_20250911_112921/by_layer/layer_32/V3_alpha_p5_V3.npz with 1050 questions\n"
     ]
    },
    {
     "name": "stderr",
     "output_type": "stream",
     "text": [
      "Layer 33: 100%|██████████| 1050/1050 [00:02<00:00, 506.79it/s]\n"
     ]
    },
    {
     "name": "stdout",
     "output_type": "stream",
     "text": [
      "Created results/by_layer_20250911_112921/by_layer/layer_33/V3_alpha_p5_V3.npz with 1050 questions\n"
     ]
    },
    {
     "name": "stderr",
     "output_type": "stream",
     "text": [
      "Layer 34: 100%|██████████| 1050/1050 [00:02<00:00, 507.87it/s]\n"
     ]
    },
    {
     "name": "stdout",
     "output_type": "stream",
     "text": [
      "Created results/by_layer_20250911_112921/by_layer/layer_34/V3_alpha_p5_V3.npz with 1050 questions\n",
      "\n",
      "Processing experiment 31/60: results/comprehensive_experiments/run_20250911_062422/V4_num_p3\n",
      "Processing experiment: results/comprehensive_experiments/run_20250911_062422/V4_num_p3\n",
      "File: hidden_states_V4.npz, Layers: 35, Hidden dim: 2560\n"
     ]
    },
    {
     "name": "stderr",
     "output_type": "stream",
     "text": [
      "Layer 00: 100%|██████████| 1050/1050 [00:03<00:00, 318.64it/s]\n"
     ]
    },
    {
     "name": "stdout",
     "output_type": "stream",
     "text": [
      "Created results/by_layer_20250911_112921/by_layer/layer_00/V4_num_p3_V4.npz with 1050 questions\n"
     ]
    },
    {
     "name": "stderr",
     "output_type": "stream",
     "text": [
      "Layer 01: 100%|██████████| 1050/1050 [00:02<00:00, 517.99it/s]\n"
     ]
    },
    {
     "name": "stdout",
     "output_type": "stream",
     "text": [
      "Created results/by_layer_20250911_112921/by_layer/layer_01/V4_num_p3_V4.npz with 1050 questions\n"
     ]
    },
    {
     "name": "stderr",
     "output_type": "stream",
     "text": [
      "Layer 02: 100%|██████████| 1050/1050 [00:01<00:00, 582.13it/s]\n"
     ]
    },
    {
     "name": "stdout",
     "output_type": "stream",
     "text": [
      "Created results/by_layer_20250911_112921/by_layer/layer_02/V4_num_p3_V4.npz with 1050 questions\n"
     ]
    },
    {
     "name": "stderr",
     "output_type": "stream",
     "text": [
      "Layer 03: 100%|██████████| 1050/1050 [00:01<00:00, 578.20it/s]\n"
     ]
    },
    {
     "name": "stdout",
     "output_type": "stream",
     "text": [
      "Created results/by_layer_20250911_112921/by_layer/layer_03/V4_num_p3_V4.npz with 1050 questions\n"
     ]
    },
    {
     "name": "stderr",
     "output_type": "stream",
     "text": [
      "Layer 04: 100%|██████████| 1050/1050 [00:01<00:00, 573.65it/s]\n"
     ]
    },
    {
     "name": "stdout",
     "output_type": "stream",
     "text": [
      "Created results/by_layer_20250911_112921/by_layer/layer_04/V4_num_p3_V4.npz with 1050 questions\n"
     ]
    },
    {
     "name": "stderr",
     "output_type": "stream",
     "text": [
      "Layer 05: 100%|██████████| 1050/1050 [00:03<00:00, 338.60it/s]\n"
     ]
    },
    {
     "name": "stdout",
     "output_type": "stream",
     "text": [
      "Created results/by_layer_20250911_112921/by_layer/layer_05/V4_num_p3_V4.npz with 1050 questions\n"
     ]
    },
    {
     "name": "stderr",
     "output_type": "stream",
     "text": [
      "Layer 06: 100%|██████████| 1050/1050 [00:02<00:00, 487.39it/s]\n"
     ]
    },
    {
     "name": "stdout",
     "output_type": "stream",
     "text": [
      "Created results/by_layer_20250911_112921/by_layer/layer_06/V4_num_p3_V4.npz with 1050 questions\n"
     ]
    },
    {
     "name": "stderr",
     "output_type": "stream",
     "text": [
      "Layer 07: 100%|██████████| 1050/1050 [00:02<00:00, 524.65it/s]\n"
     ]
    },
    {
     "name": "stdout",
     "output_type": "stream",
     "text": [
      "Created results/by_layer_20250911_112921/by_layer/layer_07/V4_num_p3_V4.npz with 1050 questions\n"
     ]
    },
    {
     "name": "stderr",
     "output_type": "stream",
     "text": [
      "Layer 08: 100%|██████████| 1050/1050 [00:02<00:00, 501.84it/s]\n"
     ]
    },
    {
     "name": "stdout",
     "output_type": "stream",
     "text": [
      "Created results/by_layer_20250911_112921/by_layer/layer_08/V4_num_p3_V4.npz with 1050 questions\n"
     ]
    },
    {
     "name": "stderr",
     "output_type": "stream",
     "text": [
      "Layer 09: 100%|██████████| 1050/1050 [00:01<00:00, 567.52it/s]\n"
     ]
    },
    {
     "name": "stdout",
     "output_type": "stream",
     "text": [
      "Created results/by_layer_20250911_112921/by_layer/layer_09/V4_num_p3_V4.npz with 1050 questions\n"
     ]
    },
    {
     "name": "stderr",
     "output_type": "stream",
     "text": [
      "Layer 10: 100%|██████████| 1050/1050 [00:01<00:00, 556.13it/s]\n"
     ]
    },
    {
     "name": "stdout",
     "output_type": "stream",
     "text": [
      "Created results/by_layer_20250911_112921/by_layer/layer_10/V4_num_p3_V4.npz with 1050 questions\n"
     ]
    },
    {
     "name": "stderr",
     "output_type": "stream",
     "text": [
      "Layer 11: 100%|██████████| 1050/1050 [00:02<00:00, 517.86it/s]\n"
     ]
    },
    {
     "name": "stdout",
     "output_type": "stream",
     "text": [
      "Created results/by_layer_20250911_112921/by_layer/layer_11/V4_num_p3_V4.npz with 1050 questions\n"
     ]
    },
    {
     "name": "stderr",
     "output_type": "stream",
     "text": [
      "Layer 12: 100%|██████████| 1050/1050 [00:01<00:00, 580.87it/s]\n"
     ]
    },
    {
     "name": "stdout",
     "output_type": "stream",
     "text": [
      "Created results/by_layer_20250911_112921/by_layer/layer_12/V4_num_p3_V4.npz with 1050 questions\n"
     ]
    },
    {
     "name": "stderr",
     "output_type": "stream",
     "text": [
      "Layer 13: 100%|██████████| 1050/1050 [00:01<00:00, 568.37it/s]\n"
     ]
    },
    {
     "name": "stdout",
     "output_type": "stream",
     "text": [
      "Created results/by_layer_20250911_112921/by_layer/layer_13/V4_num_p3_V4.npz with 1050 questions\n"
     ]
    },
    {
     "name": "stderr",
     "output_type": "stream",
     "text": [
      "Layer 14: 100%|██████████| 1050/1050 [00:02<00:00, 490.88it/s]\n"
     ]
    },
    {
     "name": "stdout",
     "output_type": "stream",
     "text": [
      "Created results/by_layer_20250911_112921/by_layer/layer_14/V4_num_p3_V4.npz with 1050 questions\n"
     ]
    },
    {
     "name": "stderr",
     "output_type": "stream",
     "text": [
      "Layer 15: 100%|██████████| 1050/1050 [00:01<00:00, 531.29it/s]\n"
     ]
    },
    {
     "name": "stdout",
     "output_type": "stream",
     "text": [
      "Created results/by_layer_20250911_112921/by_layer/layer_15/V4_num_p3_V4.npz with 1050 questions\n"
     ]
    },
    {
     "name": "stderr",
     "output_type": "stream",
     "text": [
      "Layer 16: 100%|██████████| 1050/1050 [00:01<00:00, 600.83it/s]\n"
     ]
    },
    {
     "name": "stdout",
     "output_type": "stream",
     "text": [
      "Created results/by_layer_20250911_112921/by_layer/layer_16/V4_num_p3_V4.npz with 1050 questions\n"
     ]
    },
    {
     "name": "stderr",
     "output_type": "stream",
     "text": [
      "Layer 17: 100%|██████████| 1050/1050 [00:02<00:00, 522.09it/s]\n"
     ]
    },
    {
     "name": "stdout",
     "output_type": "stream",
     "text": [
      "Created results/by_layer_20250911_112921/by_layer/layer_17/V4_num_p3_V4.npz with 1050 questions\n"
     ]
    },
    {
     "name": "stderr",
     "output_type": "stream",
     "text": [
      "Layer 18: 100%|██████████| 1050/1050 [00:01<00:00, 554.74it/s]\n"
     ]
    },
    {
     "name": "stdout",
     "output_type": "stream",
     "text": [
      "Created results/by_layer_20250911_112921/by_layer/layer_18/V4_num_p3_V4.npz with 1050 questions\n"
     ]
    },
    {
     "name": "stderr",
     "output_type": "stream",
     "text": [
      "Layer 19: 100%|██████████| 1050/1050 [00:02<00:00, 507.46it/s]\n"
     ]
    },
    {
     "name": "stdout",
     "output_type": "stream",
     "text": [
      "Created results/by_layer_20250911_112921/by_layer/layer_19/V4_num_p3_V4.npz with 1050 questions\n"
     ]
    },
    {
     "name": "stderr",
     "output_type": "stream",
     "text": [
      "Layer 20: 100%|██████████| 1050/1050 [00:02<00:00, 517.04it/s]\n"
     ]
    },
    {
     "name": "stdout",
     "output_type": "stream",
     "text": [
      "Created results/by_layer_20250911_112921/by_layer/layer_20/V4_num_p3_V4.npz with 1050 questions\n"
     ]
    },
    {
     "name": "stderr",
     "output_type": "stream",
     "text": [
      "Layer 21: 100%|██████████| 1050/1050 [00:01<00:00, 558.77it/s]\n"
     ]
    },
    {
     "name": "stdout",
     "output_type": "stream",
     "text": [
      "Created results/by_layer_20250911_112921/by_layer/layer_21/V4_num_p3_V4.npz with 1050 questions\n"
     ]
    },
    {
     "name": "stderr",
     "output_type": "stream",
     "text": [
      "Layer 22: 100%|██████████| 1050/1050 [00:01<00:00, 595.13it/s]\n"
     ]
    },
    {
     "name": "stdout",
     "output_type": "stream",
     "text": [
      "Created results/by_layer_20250911_112921/by_layer/layer_22/V4_num_p3_V4.npz with 1050 questions\n"
     ]
    },
    {
     "name": "stderr",
     "output_type": "stream",
     "text": [
      "Layer 23: 100%|██████████| 1050/1050 [00:01<00:00, 547.97it/s]\n"
     ]
    },
    {
     "name": "stdout",
     "output_type": "stream",
     "text": [
      "Created results/by_layer_20250911_112921/by_layer/layer_23/V4_num_p3_V4.npz with 1050 questions\n"
     ]
    },
    {
     "name": "stderr",
     "output_type": "stream",
     "text": [
      "Layer 24: 100%|██████████| 1050/1050 [00:01<00:00, 569.92it/s]\n"
     ]
    },
    {
     "name": "stdout",
     "output_type": "stream",
     "text": [
      "Created results/by_layer_20250911_112921/by_layer/layer_24/V4_num_p3_V4.npz with 1050 questions\n"
     ]
    },
    {
     "name": "stderr",
     "output_type": "stream",
     "text": [
      "Layer 25: 100%|██████████| 1050/1050 [00:01<00:00, 570.38it/s]\n"
     ]
    },
    {
     "name": "stdout",
     "output_type": "stream",
     "text": [
      "Created results/by_layer_20250911_112921/by_layer/layer_25/V4_num_p3_V4.npz with 1050 questions\n"
     ]
    },
    {
     "name": "stderr",
     "output_type": "stream",
     "text": [
      "Layer 26: 100%|██████████| 1050/1050 [00:01<00:00, 544.18it/s]\n"
     ]
    },
    {
     "name": "stdout",
     "output_type": "stream",
     "text": [
      "Created results/by_layer_20250911_112921/by_layer/layer_26/V4_num_p3_V4.npz with 1050 questions\n"
     ]
    },
    {
     "name": "stderr",
     "output_type": "stream",
     "text": [
      "Layer 27: 100%|██████████| 1050/1050 [00:01<00:00, 541.90it/s]\n"
     ]
    },
    {
     "name": "stdout",
     "output_type": "stream",
     "text": [
      "Created results/by_layer_20250911_112921/by_layer/layer_27/V4_num_p3_V4.npz with 1050 questions\n"
     ]
    },
    {
     "name": "stderr",
     "output_type": "stream",
     "text": [
      "Layer 28: 100%|██████████| 1050/1050 [00:01<00:00, 606.27it/s]\n"
     ]
    },
    {
     "name": "stdout",
     "output_type": "stream",
     "text": [
      "Created results/by_layer_20250911_112921/by_layer/layer_28/V4_num_p3_V4.npz with 1050 questions\n"
     ]
    },
    {
     "name": "stderr",
     "output_type": "stream",
     "text": [
      "Layer 29: 100%|██████████| 1050/1050 [00:01<00:00, 627.92it/s]\n"
     ]
    },
    {
     "name": "stdout",
     "output_type": "stream",
     "text": [
      "Created results/by_layer_20250911_112921/by_layer/layer_29/V4_num_p3_V4.npz with 1050 questions\n"
     ]
    },
    {
     "name": "stderr",
     "output_type": "stream",
     "text": [
      "Layer 30: 100%|██████████| 1050/1050 [00:01<00:00, 571.09it/s]\n"
     ]
    },
    {
     "name": "stdout",
     "output_type": "stream",
     "text": [
      "Created results/by_layer_20250911_112921/by_layer/layer_30/V4_num_p3_V4.npz with 1050 questions\n"
     ]
    },
    {
     "name": "stderr",
     "output_type": "stream",
     "text": [
      "Layer 31: 100%|██████████| 1050/1050 [00:01<00:00, 526.10it/s]\n"
     ]
    },
    {
     "name": "stdout",
     "output_type": "stream",
     "text": [
      "Created results/by_layer_20250911_112921/by_layer/layer_31/V4_num_p3_V4.npz with 1050 questions\n"
     ]
    },
    {
     "name": "stderr",
     "output_type": "stream",
     "text": [
      "Layer 32: 100%|██████████| 1050/1050 [00:01<00:00, 572.90it/s]\n"
     ]
    },
    {
     "name": "stdout",
     "output_type": "stream",
     "text": [
      "Created results/by_layer_20250911_112921/by_layer/layer_32/V4_num_p3_V4.npz with 1050 questions\n"
     ]
    },
    {
     "name": "stderr",
     "output_type": "stream",
     "text": [
      "Layer 33: 100%|██████████| 1050/1050 [00:01<00:00, 605.64it/s]\n"
     ]
    },
    {
     "name": "stdout",
     "output_type": "stream",
     "text": [
      "Created results/by_layer_20250911_112921/by_layer/layer_33/V4_num_p3_V4.npz with 1050 questions\n"
     ]
    },
    {
     "name": "stderr",
     "output_type": "stream",
     "text": [
      "Layer 34: 100%|██████████| 1050/1050 [00:01<00:00, 603.62it/s]\n"
     ]
    },
    {
     "name": "stdout",
     "output_type": "stream",
     "text": [
      "Created results/by_layer_20250911_112921/by_layer/layer_34/V4_num_p3_V4.npz with 1050 questions\n",
      "\n",
      "Processing experiment 32/60: results/comprehensive_experiments/run_20250911_062422/V5_num_p2\n",
      "Processing experiment: results/comprehensive_experiments/run_20250911_062422/V5_num_p2\n",
      "File: hidden_states_V5.npz, Layers: 35, Hidden dim: 2560\n"
     ]
    },
    {
     "name": "stderr",
     "output_type": "stream",
     "text": [
      "Layer 00: 100%|██████████| 1050/1050 [00:02<00:00, 392.54it/s]\n"
     ]
    },
    {
     "name": "stdout",
     "output_type": "stream",
     "text": [
      "Created results/by_layer_20250911_112921/by_layer/layer_00/V5_num_p2_V5.npz with 1050 questions\n"
     ]
    },
    {
     "name": "stderr",
     "output_type": "stream",
     "text": [
      "Layer 01: 100%|██████████| 1050/1050 [00:01<00:00, 559.83it/s]\n"
     ]
    },
    {
     "name": "stdout",
     "output_type": "stream",
     "text": [
      "Created results/by_layer_20250911_112921/by_layer/layer_01/V5_num_p2_V5.npz with 1050 questions\n"
     ]
    },
    {
     "name": "stderr",
     "output_type": "stream",
     "text": [
      "Layer 02: 100%|██████████| 1050/1050 [00:01<00:00, 565.55it/s]\n"
     ]
    },
    {
     "name": "stdout",
     "output_type": "stream",
     "text": [
      "Created results/by_layer_20250911_112921/by_layer/layer_02/V5_num_p2_V5.npz with 1050 questions\n"
     ]
    },
    {
     "name": "stderr",
     "output_type": "stream",
     "text": [
      "Layer 03: 100%|██████████| 1050/1050 [00:01<00:00, 567.96it/s]\n"
     ]
    },
    {
     "name": "stdout",
     "output_type": "stream",
     "text": [
      "Created results/by_layer_20250911_112921/by_layer/layer_03/V5_num_p2_V5.npz with 1050 questions\n"
     ]
    },
    {
     "name": "stderr",
     "output_type": "stream",
     "text": [
      "Layer 04: 100%|██████████| 1050/1050 [00:01<00:00, 598.34it/s]\n"
     ]
    },
    {
     "name": "stdout",
     "output_type": "stream",
     "text": [
      "Created results/by_layer_20250911_112921/by_layer/layer_04/V5_num_p2_V5.npz with 1050 questions\n"
     ]
    },
    {
     "name": "stderr",
     "output_type": "stream",
     "text": [
      "Layer 05: 100%|██████████| 1050/1050 [00:01<00:00, 579.37it/s]\n"
     ]
    },
    {
     "name": "stdout",
     "output_type": "stream",
     "text": [
      "Created results/by_layer_20250911_112921/by_layer/layer_05/V5_num_p2_V5.npz with 1050 questions\n"
     ]
    },
    {
     "name": "stderr",
     "output_type": "stream",
     "text": [
      "Layer 06: 100%|██████████| 1050/1050 [00:01<00:00, 612.91it/s]\n"
     ]
    },
    {
     "name": "stdout",
     "output_type": "stream",
     "text": [
      "Created results/by_layer_20250911_112921/by_layer/layer_06/V5_num_p2_V5.npz with 1050 questions\n"
     ]
    },
    {
     "name": "stderr",
     "output_type": "stream",
     "text": [
      "Layer 07: 100%|██████████| 1050/1050 [00:01<00:00, 584.00it/s]\n"
     ]
    },
    {
     "name": "stdout",
     "output_type": "stream",
     "text": [
      "Created results/by_layer_20250911_112921/by_layer/layer_07/V5_num_p2_V5.npz with 1050 questions\n"
     ]
    },
    {
     "name": "stderr",
     "output_type": "stream",
     "text": [
      "Layer 08: 100%|██████████| 1050/1050 [00:01<00:00, 558.56it/s]\n"
     ]
    },
    {
     "name": "stdout",
     "output_type": "stream",
     "text": [
      "Created results/by_layer_20250911_112921/by_layer/layer_08/V5_num_p2_V5.npz with 1050 questions\n"
     ]
    },
    {
     "name": "stderr",
     "output_type": "stream",
     "text": [
      "Layer 09: 100%|██████████| 1050/1050 [00:01<00:00, 528.00it/s]\n"
     ]
    },
    {
     "name": "stdout",
     "output_type": "stream",
     "text": [
      "Created results/by_layer_20250911_112921/by_layer/layer_09/V5_num_p2_V5.npz with 1050 questions\n"
     ]
    },
    {
     "name": "stderr",
     "output_type": "stream",
     "text": [
      "Layer 10: 100%|██████████| 1050/1050 [00:03<00:00, 349.37it/s]\n"
     ]
    },
    {
     "name": "stdout",
     "output_type": "stream",
     "text": [
      "Created results/by_layer_20250911_112921/by_layer/layer_10/V5_num_p2_V5.npz with 1050 questions\n"
     ]
    },
    {
     "name": "stderr",
     "output_type": "stream",
     "text": [
      "Layer 11: 100%|██████████| 1050/1050 [00:01<00:00, 547.12it/s]\n"
     ]
    },
    {
     "name": "stdout",
     "output_type": "stream",
     "text": [
      "Created results/by_layer_20250911_112921/by_layer/layer_11/V5_num_p2_V5.npz with 1050 questions\n"
     ]
    },
    {
     "name": "stderr",
     "output_type": "stream",
     "text": [
      "Layer 12: 100%|██████████| 1050/1050 [00:01<00:00, 595.92it/s]\n"
     ]
    },
    {
     "name": "stdout",
     "output_type": "stream",
     "text": [
      "Created results/by_layer_20250911_112921/by_layer/layer_12/V5_num_p2_V5.npz with 1050 questions\n"
     ]
    },
    {
     "name": "stderr",
     "output_type": "stream",
     "text": [
      "Layer 13: 100%|██████████| 1050/1050 [00:01<00:00, 596.65it/s]\n"
     ]
    },
    {
     "name": "stdout",
     "output_type": "stream",
     "text": [
      "Created results/by_layer_20250911_112921/by_layer/layer_13/V5_num_p2_V5.npz with 1050 questions\n"
     ]
    },
    {
     "name": "stderr",
     "output_type": "stream",
     "text": [
      "Layer 14: 100%|██████████| 1050/1050 [00:01<00:00, 593.63it/s]\n"
     ]
    },
    {
     "name": "stdout",
     "output_type": "stream",
     "text": [
      "Created results/by_layer_20250911_112921/by_layer/layer_14/V5_num_p2_V5.npz with 1050 questions\n"
     ]
    },
    {
     "name": "stderr",
     "output_type": "stream",
     "text": [
      "Layer 15: 100%|██████████| 1050/1050 [00:01<00:00, 592.79it/s]\n"
     ]
    },
    {
     "name": "stdout",
     "output_type": "stream",
     "text": [
      "Created results/by_layer_20250911_112921/by_layer/layer_15/V5_num_p2_V5.npz with 1050 questions\n"
     ]
    },
    {
     "name": "stderr",
     "output_type": "stream",
     "text": [
      "Layer 16: 100%|██████████| 1050/1050 [00:01<00:00, 596.16it/s]\n"
     ]
    },
    {
     "name": "stdout",
     "output_type": "stream",
     "text": [
      "Created results/by_layer_20250911_112921/by_layer/layer_16/V5_num_p2_V5.npz with 1050 questions\n"
     ]
    },
    {
     "name": "stderr",
     "output_type": "stream",
     "text": [
      "Layer 17: 100%|██████████| 1050/1050 [00:01<00:00, 636.73it/s]\n"
     ]
    },
    {
     "name": "stdout",
     "output_type": "stream",
     "text": [
      "Created results/by_layer_20250911_112921/by_layer/layer_17/V5_num_p2_V5.npz with 1050 questions\n"
     ]
    },
    {
     "name": "stderr",
     "output_type": "stream",
     "text": [
      "Layer 18: 100%|██████████| 1050/1050 [00:01<00:00, 562.48it/s]\n"
     ]
    },
    {
     "name": "stdout",
     "output_type": "stream",
     "text": [
      "Created results/by_layer_20250911_112921/by_layer/layer_18/V5_num_p2_V5.npz with 1050 questions\n"
     ]
    },
    {
     "name": "stderr",
     "output_type": "stream",
     "text": [
      "Layer 19: 100%|██████████| 1050/1050 [00:02<00:00, 365.59it/s]\n"
     ]
    },
    {
     "name": "stdout",
     "output_type": "stream",
     "text": [
      "Created results/by_layer_20250911_112921/by_layer/layer_19/V5_num_p2_V5.npz with 1050 questions\n"
     ]
    },
    {
     "name": "stderr",
     "output_type": "stream",
     "text": [
      "Layer 20: 100%|██████████| 1050/1050 [00:01<00:00, 594.25it/s]\n"
     ]
    },
    {
     "name": "stdout",
     "output_type": "stream",
     "text": [
      "Created results/by_layer_20250911_112921/by_layer/layer_20/V5_num_p2_V5.npz with 1050 questions\n"
     ]
    },
    {
     "name": "stderr",
     "output_type": "stream",
     "text": [
      "Layer 21: 100%|██████████| 1050/1050 [00:01<00:00, 546.33it/s]\n"
     ]
    },
    {
     "name": "stdout",
     "output_type": "stream",
     "text": [
      "Created results/by_layer_20250911_112921/by_layer/layer_21/V5_num_p2_V5.npz with 1050 questions\n"
     ]
    },
    {
     "name": "stderr",
     "output_type": "stream",
     "text": [
      "Layer 22: 100%|██████████| 1050/1050 [00:01<00:00, 583.01it/s]\n"
     ]
    },
    {
     "name": "stdout",
     "output_type": "stream",
     "text": [
      "Created results/by_layer_20250911_112921/by_layer/layer_22/V5_num_p2_V5.npz with 1050 questions\n"
     ]
    },
    {
     "name": "stderr",
     "output_type": "stream",
     "text": [
      "Layer 23: 100%|██████████| 1050/1050 [00:01<00:00, 613.06it/s]\n"
     ]
    },
    {
     "name": "stdout",
     "output_type": "stream",
     "text": [
      "Created results/by_layer_20250911_112921/by_layer/layer_23/V5_num_p2_V5.npz with 1050 questions\n"
     ]
    },
    {
     "name": "stderr",
     "output_type": "stream",
     "text": [
      "Layer 24: 100%|██████████| 1050/1050 [00:01<00:00, 595.05it/s]\n"
     ]
    },
    {
     "name": "stdout",
     "output_type": "stream",
     "text": [
      "Created results/by_layer_20250911_112921/by_layer/layer_24/V5_num_p2_V5.npz with 1050 questions\n"
     ]
    },
    {
     "name": "stderr",
     "output_type": "stream",
     "text": [
      "Layer 25: 100%|██████████| 1050/1050 [00:01<00:00, 623.15it/s]\n"
     ]
    },
    {
     "name": "stdout",
     "output_type": "stream",
     "text": [
      "Created results/by_layer_20250911_112921/by_layer/layer_25/V5_num_p2_V5.npz with 1050 questions\n"
     ]
    },
    {
     "name": "stderr",
     "output_type": "stream",
     "text": [
      "Layer 26: 100%|██████████| 1050/1050 [00:01<00:00, 594.95it/s]\n"
     ]
    },
    {
     "name": "stdout",
     "output_type": "stream",
     "text": [
      "Created results/by_layer_20250911_112921/by_layer/layer_26/V5_num_p2_V5.npz with 1050 questions\n"
     ]
    },
    {
     "name": "stderr",
     "output_type": "stream",
     "text": [
      "Layer 27: 100%|██████████| 1050/1050 [00:01<00:00, 541.55it/s]\n"
     ]
    },
    {
     "name": "stdout",
     "output_type": "stream",
     "text": [
      "Created results/by_layer_20250911_112921/by_layer/layer_27/V5_num_p2_V5.npz with 1050 questions\n"
     ]
    },
    {
     "name": "stderr",
     "output_type": "stream",
     "text": [
      "Layer 28: 100%|██████████| 1050/1050 [00:01<00:00, 595.38it/s]\n"
     ]
    },
    {
     "name": "stdout",
     "output_type": "stream",
     "text": [
      "Created results/by_layer_20250911_112921/by_layer/layer_28/V5_num_p2_V5.npz with 1050 questions\n"
     ]
    },
    {
     "name": "stderr",
     "output_type": "stream",
     "text": [
      "Layer 29: 100%|██████████| 1050/1050 [00:01<00:00, 531.68it/s]\n"
     ]
    },
    {
     "name": "stdout",
     "output_type": "stream",
     "text": [
      "Created results/by_layer_20250911_112921/by_layer/layer_29/V5_num_p2_V5.npz with 1050 questions\n"
     ]
    },
    {
     "name": "stderr",
     "output_type": "stream",
     "text": [
      "Layer 30: 100%|██████████| 1050/1050 [00:01<00:00, 575.53it/s]\n"
     ]
    },
    {
     "name": "stdout",
     "output_type": "stream",
     "text": [
      "Created results/by_layer_20250911_112921/by_layer/layer_30/V5_num_p2_V5.npz with 1050 questions\n"
     ]
    },
    {
     "name": "stderr",
     "output_type": "stream",
     "text": [
      "Layer 31: 100%|██████████| 1050/1050 [00:01<00:00, 568.91it/s]\n"
     ]
    },
    {
     "name": "stdout",
     "output_type": "stream",
     "text": [
      "Created results/by_layer_20250911_112921/by_layer/layer_31/V5_num_p2_V5.npz with 1050 questions\n"
     ]
    },
    {
     "name": "stderr",
     "output_type": "stream",
     "text": [
      "Layer 32: 100%|██████████| 1050/1050 [00:01<00:00, 533.59it/s]\n"
     ]
    },
    {
     "name": "stdout",
     "output_type": "stream",
     "text": [
      "Created results/by_layer_20250911_112921/by_layer/layer_32/V5_num_p2_V5.npz with 1050 questions\n"
     ]
    },
    {
     "name": "stderr",
     "output_type": "stream",
     "text": [
      "Layer 33: 100%|██████████| 1050/1050 [00:02<00:00, 516.47it/s]\n"
     ]
    },
    {
     "name": "stdout",
     "output_type": "stream",
     "text": [
      "Created results/by_layer_20250911_112921/by_layer/layer_33/V5_num_p2_V5.npz with 1050 questions\n"
     ]
    },
    {
     "name": "stderr",
     "output_type": "stream",
     "text": [
      "Layer 34: 100%|██████████| 1050/1050 [00:01<00:00, 539.57it/s]\n"
     ]
    },
    {
     "name": "stdout",
     "output_type": "stream",
     "text": [
      "Created results/by_layer_20250911_112921/by_layer/layer_34/V5_num_p2_V5.npz with 1050 questions\n",
      "\n",
      "Processing experiment 33/60: results/comprehensive_experiments/run_20250911_062422/V2_alpha_p4\n",
      "Processing experiment: results/comprehensive_experiments/run_20250911_062422/V2_alpha_p4\n",
      "File: hidden_states_V2.npz, Layers: 35, Hidden dim: 2560\n"
     ]
    },
    {
     "name": "stderr",
     "output_type": "stream",
     "text": [
      "Layer 00: 100%|██████████| 1050/1050 [00:02<00:00, 359.34it/s]\n"
     ]
    },
    {
     "name": "stdout",
     "output_type": "stream",
     "text": [
      "Created results/by_layer_20250911_112921/by_layer/layer_00/V2_alpha_p4_V2.npz with 1050 questions\n"
     ]
    },
    {
     "name": "stderr",
     "output_type": "stream",
     "text": [
      "Layer 01: 100%|██████████| 1050/1050 [00:02<00:00, 524.76it/s]\n"
     ]
    },
    {
     "name": "stdout",
     "output_type": "stream",
     "text": [
      "Created results/by_layer_20250911_112921/by_layer/layer_01/V2_alpha_p4_V2.npz with 1050 questions\n"
     ]
    },
    {
     "name": "stderr",
     "output_type": "stream",
     "text": [
      "Layer 02: 100%|██████████| 1050/1050 [00:02<00:00, 519.83it/s]\n"
     ]
    },
    {
     "name": "stdout",
     "output_type": "stream",
     "text": [
      "Created results/by_layer_20250911_112921/by_layer/layer_02/V2_alpha_p4_V2.npz with 1050 questions\n"
     ]
    },
    {
     "name": "stderr",
     "output_type": "stream",
     "text": [
      "Layer 03: 100%|██████████| 1050/1050 [00:01<00:00, 571.95it/s]\n"
     ]
    },
    {
     "name": "stdout",
     "output_type": "stream",
     "text": [
      "Created results/by_layer_20250911_112921/by_layer/layer_03/V2_alpha_p4_V2.npz with 1050 questions\n"
     ]
    },
    {
     "name": "stderr",
     "output_type": "stream",
     "text": [
      "Layer 04: 100%|██████████| 1050/1050 [00:01<00:00, 537.33it/s]\n"
     ]
    },
    {
     "name": "stdout",
     "output_type": "stream",
     "text": [
      "Created results/by_layer_20250911_112921/by_layer/layer_04/V2_alpha_p4_V2.npz with 1050 questions\n"
     ]
    },
    {
     "name": "stderr",
     "output_type": "stream",
     "text": [
      "Layer 05: 100%|██████████| 1050/1050 [00:01<00:00, 583.82it/s]\n"
     ]
    },
    {
     "name": "stdout",
     "output_type": "stream",
     "text": [
      "Created results/by_layer_20250911_112921/by_layer/layer_05/V2_alpha_p4_V2.npz with 1050 questions\n"
     ]
    },
    {
     "name": "stderr",
     "output_type": "stream",
     "text": [
      "Layer 06: 100%|██████████| 1050/1050 [00:01<00:00, 548.82it/s]\n"
     ]
    },
    {
     "name": "stdout",
     "output_type": "stream",
     "text": [
      "Created results/by_layer_20250911_112921/by_layer/layer_06/V2_alpha_p4_V2.npz with 1050 questions\n"
     ]
    },
    {
     "name": "stderr",
     "output_type": "stream",
     "text": [
      "Layer 07: 100%|██████████| 1050/1050 [00:01<00:00, 561.83it/s]\n"
     ]
    },
    {
     "name": "stdout",
     "output_type": "stream",
     "text": [
      "Created results/by_layer_20250911_112921/by_layer/layer_07/V2_alpha_p4_V2.npz with 1050 questions\n"
     ]
    },
    {
     "name": "stderr",
     "output_type": "stream",
     "text": [
      "Layer 08: 100%|██████████| 1050/1050 [00:02<00:00, 522.17it/s]\n"
     ]
    },
    {
     "name": "stdout",
     "output_type": "stream",
     "text": [
      "Created results/by_layer_20250911_112921/by_layer/layer_08/V2_alpha_p4_V2.npz with 1050 questions\n"
     ]
    },
    {
     "name": "stderr",
     "output_type": "stream",
     "text": [
      "Layer 09: 100%|██████████| 1050/1050 [00:01<00:00, 547.33it/s]\n"
     ]
    },
    {
     "name": "stdout",
     "output_type": "stream",
     "text": [
      "Created results/by_layer_20250911_112921/by_layer/layer_09/V2_alpha_p4_V2.npz with 1050 questions\n"
     ]
    },
    {
     "name": "stderr",
     "output_type": "stream",
     "text": [
      "Layer 10: 100%|██████████| 1050/1050 [00:01<00:00, 541.68it/s]\n"
     ]
    },
    {
     "name": "stdout",
     "output_type": "stream",
     "text": [
      "Created results/by_layer_20250911_112921/by_layer/layer_10/V2_alpha_p4_V2.npz with 1050 questions\n"
     ]
    },
    {
     "name": "stderr",
     "output_type": "stream",
     "text": [
      "Layer 11: 100%|██████████| 1050/1050 [00:01<00:00, 544.78it/s]\n"
     ]
    },
    {
     "name": "stdout",
     "output_type": "stream",
     "text": [
      "Created results/by_layer_20250911_112921/by_layer/layer_11/V2_alpha_p4_V2.npz with 1050 questions\n"
     ]
    },
    {
     "name": "stderr",
     "output_type": "stream",
     "text": [
      "Layer 12: 100%|██████████| 1050/1050 [00:01<00:00, 529.24it/s]\n"
     ]
    },
    {
     "name": "stdout",
     "output_type": "stream",
     "text": [
      "Created results/by_layer_20250911_112921/by_layer/layer_12/V2_alpha_p4_V2.npz with 1050 questions\n"
     ]
    },
    {
     "name": "stderr",
     "output_type": "stream",
     "text": [
      "Layer 13: 100%|██████████| 1050/1050 [00:01<00:00, 559.40it/s]\n"
     ]
    },
    {
     "name": "stdout",
     "output_type": "stream",
     "text": [
      "Created results/by_layer_20250911_112921/by_layer/layer_13/V2_alpha_p4_V2.npz with 1050 questions\n"
     ]
    },
    {
     "name": "stderr",
     "output_type": "stream",
     "text": [
      "Layer 14: 100%|██████████| 1050/1050 [00:01<00:00, 532.20it/s]\n"
     ]
    },
    {
     "name": "stdout",
     "output_type": "stream",
     "text": [
      "Created results/by_layer_20250911_112921/by_layer/layer_14/V2_alpha_p4_V2.npz with 1050 questions\n"
     ]
    },
    {
     "name": "stderr",
     "output_type": "stream",
     "text": [
      "Layer 15: 100%|██████████| 1050/1050 [00:01<00:00, 532.79it/s]\n"
     ]
    },
    {
     "name": "stdout",
     "output_type": "stream",
     "text": [
      "Created results/by_layer_20250911_112921/by_layer/layer_15/V2_alpha_p4_V2.npz with 1050 questions\n"
     ]
    },
    {
     "name": "stderr",
     "output_type": "stream",
     "text": [
      "Layer 16: 100%|██████████| 1050/1050 [00:02<00:00, 510.72it/s]\n"
     ]
    },
    {
     "name": "stdout",
     "output_type": "stream",
     "text": [
      "Created results/by_layer_20250911_112921/by_layer/layer_16/V2_alpha_p4_V2.npz with 1050 questions\n"
     ]
    },
    {
     "name": "stderr",
     "output_type": "stream",
     "text": [
      "Layer 17: 100%|██████████| 1050/1050 [00:01<00:00, 536.94it/s]\n"
     ]
    },
    {
     "name": "stdout",
     "output_type": "stream",
     "text": [
      "Created results/by_layer_20250911_112921/by_layer/layer_17/V2_alpha_p4_V2.npz with 1050 questions\n"
     ]
    },
    {
     "name": "stderr",
     "output_type": "stream",
     "text": [
      "Layer 18: 100%|██████████| 1050/1050 [00:01<00:00, 541.19it/s]\n"
     ]
    },
    {
     "name": "stdout",
     "output_type": "stream",
     "text": [
      "Created results/by_layer_20250911_112921/by_layer/layer_18/V2_alpha_p4_V2.npz with 1050 questions\n"
     ]
    },
    {
     "name": "stderr",
     "output_type": "stream",
     "text": [
      "Layer 19: 100%|██████████| 1050/1050 [00:01<00:00, 539.58it/s]\n"
     ]
    },
    {
     "name": "stdout",
     "output_type": "stream",
     "text": [
      "Created results/by_layer_20250911_112921/by_layer/layer_19/V2_alpha_p4_V2.npz with 1050 questions\n"
     ]
    },
    {
     "name": "stderr",
     "output_type": "stream",
     "text": [
      "Layer 20: 100%|██████████| 1050/1050 [00:02<00:00, 375.62it/s]\n"
     ]
    },
    {
     "name": "stdout",
     "output_type": "stream",
     "text": [
      "Created results/by_layer_20250911_112921/by_layer/layer_20/V2_alpha_p4_V2.npz with 1050 questions\n"
     ]
    },
    {
     "name": "stderr",
     "output_type": "stream",
     "text": [
      "Layer 21: 100%|██████████| 1050/1050 [00:02<00:00, 520.23it/s]\n"
     ]
    },
    {
     "name": "stdout",
     "output_type": "stream",
     "text": [
      "Created results/by_layer_20250911_112921/by_layer/layer_21/V2_alpha_p4_V2.npz with 1050 questions\n"
     ]
    },
    {
     "name": "stderr",
     "output_type": "stream",
     "text": [
      "Layer 22: 100%|██████████| 1050/1050 [00:02<00:00, 477.24it/s]\n"
     ]
    },
    {
     "name": "stdout",
     "output_type": "stream",
     "text": [
      "Created results/by_layer_20250911_112921/by_layer/layer_22/V2_alpha_p4_V2.npz with 1050 questions\n"
     ]
    },
    {
     "name": "stderr",
     "output_type": "stream",
     "text": [
      "Layer 23: 100%|██████████| 1050/1050 [00:02<00:00, 487.66it/s]\n"
     ]
    },
    {
     "name": "stdout",
     "output_type": "stream",
     "text": [
      "Created results/by_layer_20250911_112921/by_layer/layer_23/V2_alpha_p4_V2.npz with 1050 questions\n"
     ]
    },
    {
     "name": "stderr",
     "output_type": "stream",
     "text": [
      "Layer 24: 100%|██████████| 1050/1050 [00:01<00:00, 529.56it/s]\n"
     ]
    },
    {
     "name": "stdout",
     "output_type": "stream",
     "text": [
      "Created results/by_layer_20250911_112921/by_layer/layer_24/V2_alpha_p4_V2.npz with 1050 questions\n"
     ]
    },
    {
     "name": "stderr",
     "output_type": "stream",
     "text": [
      "Layer 25: 100%|██████████| 1050/1050 [00:01<00:00, 548.99it/s]\n"
     ]
    },
    {
     "name": "stdout",
     "output_type": "stream",
     "text": [
      "Created results/by_layer_20250911_112921/by_layer/layer_25/V2_alpha_p4_V2.npz with 1050 questions\n"
     ]
    },
    {
     "name": "stderr",
     "output_type": "stream",
     "text": [
      "Layer 26: 100%|██████████| 1050/1050 [00:01<00:00, 534.70it/s]\n"
     ]
    },
    {
     "name": "stdout",
     "output_type": "stream",
     "text": [
      "Created results/by_layer_20250911_112921/by_layer/layer_26/V2_alpha_p4_V2.npz with 1050 questions\n"
     ]
    },
    {
     "name": "stderr",
     "output_type": "stream",
     "text": [
      "Layer 27: 100%|██████████| 1050/1050 [00:01<00:00, 539.01it/s]\n"
     ]
    },
    {
     "name": "stdout",
     "output_type": "stream",
     "text": [
      "Created results/by_layer_20250911_112921/by_layer/layer_27/V2_alpha_p4_V2.npz with 1050 questions\n"
     ]
    },
    {
     "name": "stderr",
     "output_type": "stream",
     "text": [
      "Layer 28: 100%|██████████| 1050/1050 [00:01<00:00, 546.95it/s]\n"
     ]
    },
    {
     "name": "stdout",
     "output_type": "stream",
     "text": [
      "Created results/by_layer_20250911_112921/by_layer/layer_28/V2_alpha_p4_V2.npz with 1050 questions\n"
     ]
    },
    {
     "name": "stderr",
     "output_type": "stream",
     "text": [
      "Layer 29: 100%|██████████| 1050/1050 [00:02<00:00, 510.99it/s]\n"
     ]
    },
    {
     "name": "stdout",
     "output_type": "stream",
     "text": [
      "Created results/by_layer_20250911_112921/by_layer/layer_29/V2_alpha_p4_V2.npz with 1050 questions\n"
     ]
    },
    {
     "name": "stderr",
     "output_type": "stream",
     "text": [
      "Layer 30: 100%|██████████| 1050/1050 [00:02<00:00, 512.07it/s]\n"
     ]
    },
    {
     "name": "stdout",
     "output_type": "stream",
     "text": [
      "Created results/by_layer_20250911_112921/by_layer/layer_30/V2_alpha_p4_V2.npz with 1050 questions\n"
     ]
    },
    {
     "name": "stderr",
     "output_type": "stream",
     "text": [
      "Layer 31: 100%|██████████| 1050/1050 [00:02<00:00, 497.90it/s]\n"
     ]
    },
    {
     "name": "stdout",
     "output_type": "stream",
     "text": [
      "Created results/by_layer_20250911_112921/by_layer/layer_31/V2_alpha_p4_V2.npz with 1050 questions\n"
     ]
    },
    {
     "name": "stderr",
     "output_type": "stream",
     "text": [
      "Layer 32: 100%|██████████| 1050/1050 [00:02<00:00, 511.30it/s]\n"
     ]
    },
    {
     "name": "stdout",
     "output_type": "stream",
     "text": [
      "Created results/by_layer_20250911_112921/by_layer/layer_32/V2_alpha_p4_V2.npz with 1050 questions\n"
     ]
    },
    {
     "name": "stderr",
     "output_type": "stream",
     "text": [
      "Layer 33: 100%|██████████| 1050/1050 [00:01<00:00, 540.98it/s]\n"
     ]
    },
    {
     "name": "stdout",
     "output_type": "stream",
     "text": [
      "Created results/by_layer_20250911_112921/by_layer/layer_33/V2_alpha_p4_V2.npz with 1050 questions\n"
     ]
    },
    {
     "name": "stderr",
     "output_type": "stream",
     "text": [
      "Layer 34: 100%|██████████| 1050/1050 [00:02<00:00, 518.70it/s]\n"
     ]
    },
    {
     "name": "stdout",
     "output_type": "stream",
     "text": [
      "Created results/by_layer_20250911_112921/by_layer/layer_34/V2_alpha_p4_V2.npz with 1050 questions\n",
      "\n",
      "Processing experiment 34/60: results/comprehensive_experiments/run_20250911_062422/V4_alpha_p1\n",
      "Processing experiment: results/comprehensive_experiments/run_20250911_062422/V4_alpha_p1\n",
      "File: hidden_states_V4.npz, Layers: 35, Hidden dim: 2560\n"
     ]
    },
    {
     "name": "stderr",
     "output_type": "stream",
     "text": [
      "Layer 00: 100%|██████████| 1050/1050 [00:02<00:00, 355.50it/s]\n"
     ]
    },
    {
     "name": "stdout",
     "output_type": "stream",
     "text": [
      "Created results/by_layer_20250911_112921/by_layer/layer_00/V4_alpha_p1_V4.npz with 1050 questions\n"
     ]
    },
    {
     "name": "stderr",
     "output_type": "stream",
     "text": [
      "Layer 01: 100%|██████████| 1050/1050 [00:02<00:00, 513.18it/s]\n"
     ]
    },
    {
     "name": "stdout",
     "output_type": "stream",
     "text": [
      "Created results/by_layer_20250911_112921/by_layer/layer_01/V4_alpha_p1_V4.npz with 1050 questions\n"
     ]
    },
    {
     "name": "stderr",
     "output_type": "stream",
     "text": [
      "Layer 02: 100%|██████████| 1050/1050 [00:02<00:00, 446.30it/s]\n"
     ]
    },
    {
     "name": "stdout",
     "output_type": "stream",
     "text": [
      "Created results/by_layer_20250911_112921/by_layer/layer_02/V4_alpha_p1_V4.npz with 1050 questions\n"
     ]
    },
    {
     "name": "stderr",
     "output_type": "stream",
     "text": [
      "Layer 03: 100%|██████████| 1050/1050 [00:01<00:00, 643.21it/s]\n"
     ]
    },
    {
     "name": "stdout",
     "output_type": "stream",
     "text": [
      "Created results/by_layer_20250911_112921/by_layer/layer_03/V4_alpha_p1_V4.npz with 1050 questions\n"
     ]
    },
    {
     "name": "stderr",
     "output_type": "stream",
     "text": [
      "Layer 04: 100%|██████████| 1050/1050 [00:01<00:00, 559.81it/s]\n"
     ]
    },
    {
     "name": "stdout",
     "output_type": "stream",
     "text": [
      "Created results/by_layer_20250911_112921/by_layer/layer_04/V4_alpha_p1_V4.npz with 1050 questions\n"
     ]
    },
    {
     "name": "stderr",
     "output_type": "stream",
     "text": [
      "Layer 05: 100%|██████████| 1050/1050 [00:01<00:00, 571.03it/s]\n"
     ]
    },
    {
     "name": "stdout",
     "output_type": "stream",
     "text": [
      "Created results/by_layer_20250911_112921/by_layer/layer_05/V4_alpha_p1_V4.npz with 1050 questions\n"
     ]
    },
    {
     "name": "stderr",
     "output_type": "stream",
     "text": [
      "Layer 06: 100%|██████████| 1050/1050 [00:01<00:00, 558.19it/s]\n"
     ]
    },
    {
     "name": "stdout",
     "output_type": "stream",
     "text": [
      "Created results/by_layer_20250911_112921/by_layer/layer_06/V4_alpha_p1_V4.npz with 1050 questions\n"
     ]
    },
    {
     "name": "stderr",
     "output_type": "stream",
     "text": [
      "Layer 07: 100%|██████████| 1050/1050 [00:01<00:00, 568.58it/s]\n"
     ]
    },
    {
     "name": "stdout",
     "output_type": "stream",
     "text": [
      "Created results/by_layer_20250911_112921/by_layer/layer_07/V4_alpha_p1_V4.npz with 1050 questions\n"
     ]
    },
    {
     "name": "stderr",
     "output_type": "stream",
     "text": [
      "Layer 08: 100%|██████████| 1050/1050 [00:01<00:00, 558.29it/s]\n"
     ]
    },
    {
     "name": "stdout",
     "output_type": "stream",
     "text": [
      "Created results/by_layer_20250911_112921/by_layer/layer_08/V4_alpha_p1_V4.npz with 1050 questions\n"
     ]
    },
    {
     "name": "stderr",
     "output_type": "stream",
     "text": [
      "Layer 09: 100%|██████████| 1050/1050 [00:01<00:00, 545.47it/s]\n"
     ]
    },
    {
     "name": "stdout",
     "output_type": "stream",
     "text": [
      "Created results/by_layer_20250911_112921/by_layer/layer_09/V4_alpha_p1_V4.npz with 1050 questions\n"
     ]
    },
    {
     "name": "stderr",
     "output_type": "stream",
     "text": [
      "Layer 10: 100%|██████████| 1050/1050 [00:01<00:00, 565.82it/s]\n"
     ]
    },
    {
     "name": "stdout",
     "output_type": "stream",
     "text": [
      "Created results/by_layer_20250911_112921/by_layer/layer_10/V4_alpha_p1_V4.npz with 1050 questions\n"
     ]
    },
    {
     "name": "stderr",
     "output_type": "stream",
     "text": [
      "Layer 11: 100%|██████████| 1050/1050 [00:03<00:00, 324.62it/s]\n"
     ]
    },
    {
     "name": "stdout",
     "output_type": "stream",
     "text": [
      "Created results/by_layer_20250911_112921/by_layer/layer_11/V4_alpha_p1_V4.npz with 1050 questions\n"
     ]
    },
    {
     "name": "stderr",
     "output_type": "stream",
     "text": [
      "Layer 12: 100%|██████████| 1050/1050 [00:02<00:00, 521.63it/s]\n"
     ]
    },
    {
     "name": "stdout",
     "output_type": "stream",
     "text": [
      "Created results/by_layer_20250911_112921/by_layer/layer_12/V4_alpha_p1_V4.npz with 1050 questions\n"
     ]
    },
    {
     "name": "stderr",
     "output_type": "stream",
     "text": [
      "Layer 13: 100%|██████████| 1050/1050 [00:01<00:00, 536.98it/s]\n"
     ]
    },
    {
     "name": "stdout",
     "output_type": "stream",
     "text": [
      "Created results/by_layer_20250911_112921/by_layer/layer_13/V4_alpha_p1_V4.npz with 1050 questions\n"
     ]
    },
    {
     "name": "stderr",
     "output_type": "stream",
     "text": [
      "Layer 14: 100%|██████████| 1050/1050 [00:01<00:00, 567.45it/s]\n"
     ]
    },
    {
     "name": "stdout",
     "output_type": "stream",
     "text": [
      "Created results/by_layer_20250911_112921/by_layer/layer_14/V4_alpha_p1_V4.npz with 1050 questions\n"
     ]
    },
    {
     "name": "stderr",
     "output_type": "stream",
     "text": [
      "Layer 15: 100%|██████████| 1050/1050 [00:01<00:00, 599.66it/s]\n"
     ]
    },
    {
     "name": "stdout",
     "output_type": "stream",
     "text": [
      "Created results/by_layer_20250911_112921/by_layer/layer_15/V4_alpha_p1_V4.npz with 1050 questions\n"
     ]
    },
    {
     "name": "stderr",
     "output_type": "stream",
     "text": [
      "Layer 16: 100%|██████████| 1050/1050 [00:01<00:00, 598.78it/s]\n"
     ]
    },
    {
     "name": "stdout",
     "output_type": "stream",
     "text": [
      "Created results/by_layer_20250911_112921/by_layer/layer_16/V4_alpha_p1_V4.npz with 1050 questions\n"
     ]
    },
    {
     "name": "stderr",
     "output_type": "stream",
     "text": [
      "Layer 17: 100%|██████████| 1050/1050 [00:01<00:00, 624.27it/s]\n"
     ]
    },
    {
     "name": "stdout",
     "output_type": "stream",
     "text": [
      "Created results/by_layer_20250911_112921/by_layer/layer_17/V4_alpha_p1_V4.npz with 1050 questions\n"
     ]
    },
    {
     "name": "stderr",
     "output_type": "stream",
     "text": [
      "Layer 18: 100%|██████████| 1050/1050 [00:01<00:00, 602.85it/s]\n"
     ]
    },
    {
     "name": "stdout",
     "output_type": "stream",
     "text": [
      "Created results/by_layer_20250911_112921/by_layer/layer_18/V4_alpha_p1_V4.npz with 1050 questions\n"
     ]
    },
    {
     "name": "stderr",
     "output_type": "stream",
     "text": [
      "Layer 19: 100%|██████████| 1050/1050 [00:01<00:00, 545.92it/s]\n"
     ]
    },
    {
     "name": "stdout",
     "output_type": "stream",
     "text": [
      "Created results/by_layer_20250911_112921/by_layer/layer_19/V4_alpha_p1_V4.npz with 1050 questions\n"
     ]
    },
    {
     "name": "stderr",
     "output_type": "stream",
     "text": [
      "Layer 20: 100%|██████████| 1050/1050 [00:03<00:00, 337.02it/s]\n"
     ]
    },
    {
     "name": "stdout",
     "output_type": "stream",
     "text": [
      "Created results/by_layer_20250911_112921/by_layer/layer_20/V4_alpha_p1_V4.npz with 1050 questions\n"
     ]
    },
    {
     "name": "stderr",
     "output_type": "stream",
     "text": [
      "Layer 21: 100%|██████████| 1050/1050 [00:01<00:00, 533.20it/s]\n"
     ]
    },
    {
     "name": "stdout",
     "output_type": "stream",
     "text": [
      "Created results/by_layer_20250911_112921/by_layer/layer_21/V4_alpha_p1_V4.npz with 1050 questions\n"
     ]
    },
    {
     "name": "stderr",
     "output_type": "stream",
     "text": [
      "Layer 22: 100%|██████████| 1050/1050 [00:01<00:00, 546.30it/s]\n"
     ]
    },
    {
     "name": "stdout",
     "output_type": "stream",
     "text": [
      "Created results/by_layer_20250911_112921/by_layer/layer_22/V4_alpha_p1_V4.npz with 1050 questions\n"
     ]
    },
    {
     "name": "stderr",
     "output_type": "stream",
     "text": [
      "Layer 23: 100%|██████████| 1050/1050 [00:01<00:00, 611.80it/s]\n"
     ]
    },
    {
     "name": "stdout",
     "output_type": "stream",
     "text": [
      "Created results/by_layer_20250911_112921/by_layer/layer_23/V4_alpha_p1_V4.npz with 1050 questions\n"
     ]
    },
    {
     "name": "stderr",
     "output_type": "stream",
     "text": [
      "Layer 24: 100%|██████████| 1050/1050 [00:01<00:00, 592.70it/s]\n"
     ]
    },
    {
     "name": "stdout",
     "output_type": "stream",
     "text": [
      "Created results/by_layer_20250911_112921/by_layer/layer_24/V4_alpha_p1_V4.npz with 1050 questions\n"
     ]
    },
    {
     "name": "stderr",
     "output_type": "stream",
     "text": [
      "Layer 25: 100%|██████████| 1050/1050 [00:01<00:00, 557.48it/s]\n"
     ]
    },
    {
     "name": "stdout",
     "output_type": "stream",
     "text": [
      "Created results/by_layer_20250911_112921/by_layer/layer_25/V4_alpha_p1_V4.npz with 1050 questions\n"
     ]
    },
    {
     "name": "stderr",
     "output_type": "stream",
     "text": [
      "Layer 26: 100%|██████████| 1050/1050 [00:01<00:00, 585.30it/s]\n"
     ]
    },
    {
     "name": "stdout",
     "output_type": "stream",
     "text": [
      "Created results/by_layer_20250911_112921/by_layer/layer_26/V4_alpha_p1_V4.npz with 1050 questions\n"
     ]
    },
    {
     "name": "stderr",
     "output_type": "stream",
     "text": [
      "Layer 27: 100%|██████████| 1050/1050 [00:01<00:00, 541.85it/s]\n"
     ]
    },
    {
     "name": "stdout",
     "output_type": "stream",
     "text": [
      "Created results/by_layer_20250911_112921/by_layer/layer_27/V4_alpha_p1_V4.npz with 1050 questions\n"
     ]
    },
    {
     "name": "stderr",
     "output_type": "stream",
     "text": [
      "Layer 28: 100%|██████████| 1050/1050 [00:01<00:00, 544.51it/s]\n"
     ]
    },
    {
     "name": "stdout",
     "output_type": "stream",
     "text": [
      "Created results/by_layer_20250911_112921/by_layer/layer_28/V4_alpha_p1_V4.npz with 1050 questions\n"
     ]
    },
    {
     "name": "stderr",
     "output_type": "stream",
     "text": [
      "Layer 29: 100%|██████████| 1050/1050 [00:03<00:00, 321.76it/s]\n"
     ]
    },
    {
     "name": "stdout",
     "output_type": "stream",
     "text": [
      "Created results/by_layer_20250911_112921/by_layer/layer_29/V4_alpha_p1_V4.npz with 1050 questions\n"
     ]
    },
    {
     "name": "stderr",
     "output_type": "stream",
     "text": [
      "Layer 30: 100%|██████████| 1050/1050 [00:01<00:00, 571.54it/s]\n"
     ]
    },
    {
     "name": "stdout",
     "output_type": "stream",
     "text": [
      "Created results/by_layer_20250911_112921/by_layer/layer_30/V4_alpha_p1_V4.npz with 1050 questions\n"
     ]
    },
    {
     "name": "stderr",
     "output_type": "stream",
     "text": [
      "Layer 31: 100%|██████████| 1050/1050 [00:01<00:00, 563.78it/s]\n"
     ]
    },
    {
     "name": "stdout",
     "output_type": "stream",
     "text": [
      "Created results/by_layer_20250911_112921/by_layer/layer_31/V4_alpha_p1_V4.npz with 1050 questions\n"
     ]
    },
    {
     "name": "stderr",
     "output_type": "stream",
     "text": [
      "Layer 32: 100%|██████████| 1050/1050 [00:01<00:00, 616.33it/s]\n"
     ]
    },
    {
     "name": "stdout",
     "output_type": "stream",
     "text": [
      "Created results/by_layer_20250911_112921/by_layer/layer_32/V4_alpha_p1_V4.npz with 1050 questions\n"
     ]
    },
    {
     "name": "stderr",
     "output_type": "stream",
     "text": [
      "Layer 33: 100%|██████████| 1050/1050 [00:01<00:00, 592.27it/s]\n"
     ]
    },
    {
     "name": "stdout",
     "output_type": "stream",
     "text": [
      "Created results/by_layer_20250911_112921/by_layer/layer_33/V4_alpha_p1_V4.npz with 1050 questions\n"
     ]
    },
    {
     "name": "stderr",
     "output_type": "stream",
     "text": [
      "Layer 34: 100%|██████████| 1050/1050 [00:01<00:00, 577.79it/s]\n"
     ]
    },
    {
     "name": "stdout",
     "output_type": "stream",
     "text": [
      "Created results/by_layer_20250911_112921/by_layer/layer_34/V4_alpha_p1_V4.npz with 1050 questions\n",
      "\n",
      "Processing experiment 35/60: results/comprehensive_experiments/run_20250911_062422/V1_alpha_p1\n",
      "Processing experiment: results/comprehensive_experiments/run_20250911_062422/V1_alpha_p1\n",
      "File: hidden_states_V1.npz, Layers: 35, Hidden dim: 2560\n"
     ]
    },
    {
     "name": "stderr",
     "output_type": "stream",
     "text": [
      "Layer 00: 100%|██████████| 1050/1050 [00:02<00:00, 393.19it/s]\n"
     ]
    },
    {
     "name": "stdout",
     "output_type": "stream",
     "text": [
      "Created results/by_layer_20250911_112921/by_layer/layer_00/V1_alpha_p1_V1.npz with 1050 questions\n"
     ]
    },
    {
     "name": "stderr",
     "output_type": "stream",
     "text": [
      "Layer 01: 100%|██████████| 1050/1050 [00:01<00:00, 567.97it/s]\n"
     ]
    },
    {
     "name": "stdout",
     "output_type": "stream",
     "text": [
      "Created results/by_layer_20250911_112921/by_layer/layer_01/V1_alpha_p1_V1.npz with 1050 questions\n"
     ]
    },
    {
     "name": "stderr",
     "output_type": "stream",
     "text": [
      "Layer 02: 100%|██████████| 1050/1050 [00:01<00:00, 562.29it/s]\n"
     ]
    },
    {
     "name": "stdout",
     "output_type": "stream",
     "text": [
      "Created results/by_layer_20250911_112921/by_layer/layer_02/V1_alpha_p1_V1.npz with 1050 questions\n"
     ]
    },
    {
     "name": "stderr",
     "output_type": "stream",
     "text": [
      "Layer 03: 100%|██████████| 1050/1050 [00:01<00:00, 562.05it/s]\n"
     ]
    },
    {
     "name": "stdout",
     "output_type": "stream",
     "text": [
      "Created results/by_layer_20250911_112921/by_layer/layer_03/V1_alpha_p1_V1.npz with 1050 questions\n"
     ]
    },
    {
     "name": "stderr",
     "output_type": "stream",
     "text": [
      "Layer 04: 100%|██████████| 1050/1050 [00:01<00:00, 525.26it/s]\n"
     ]
    },
    {
     "name": "stdout",
     "output_type": "stream",
     "text": [
      "Created results/by_layer_20250911_112921/by_layer/layer_04/V1_alpha_p1_V1.npz with 1050 questions\n"
     ]
    },
    {
     "name": "stderr",
     "output_type": "stream",
     "text": [
      "Layer 05: 100%|██████████| 1050/1050 [00:01<00:00, 539.59it/s]\n"
     ]
    },
    {
     "name": "stdout",
     "output_type": "stream",
     "text": [
      "Created results/by_layer_20250911_112921/by_layer/layer_05/V1_alpha_p1_V1.npz with 1050 questions\n"
     ]
    },
    {
     "name": "stderr",
     "output_type": "stream",
     "text": [
      "Layer 06: 100%|██████████| 1050/1050 [00:01<00:00, 600.61it/s]\n"
     ]
    },
    {
     "name": "stdout",
     "output_type": "stream",
     "text": [
      "Created results/by_layer_20250911_112921/by_layer/layer_06/V1_alpha_p1_V1.npz with 1050 questions\n"
     ]
    },
    {
     "name": "stderr",
     "output_type": "stream",
     "text": [
      "Layer 07: 100%|██████████| 1050/1050 [00:01<00:00, 644.02it/s]\n"
     ]
    },
    {
     "name": "stdout",
     "output_type": "stream",
     "text": [
      "Created results/by_layer_20250911_112921/by_layer/layer_07/V1_alpha_p1_V1.npz with 1050 questions\n"
     ]
    },
    {
     "name": "stderr",
     "output_type": "stream",
     "text": [
      "Layer 08: 100%|██████████| 1050/1050 [00:01<00:00, 543.79it/s]\n"
     ]
    },
    {
     "name": "stdout",
     "output_type": "stream",
     "text": [
      "Created results/by_layer_20250911_112921/by_layer/layer_08/V1_alpha_p1_V1.npz with 1050 questions\n"
     ]
    },
    {
     "name": "stderr",
     "output_type": "stream",
     "text": [
      "Layer 09: 100%|██████████| 1050/1050 [00:01<00:00, 575.01it/s]\n"
     ]
    },
    {
     "name": "stdout",
     "output_type": "stream",
     "text": [
      "Created results/by_layer_20250911_112921/by_layer/layer_09/V1_alpha_p1_V1.npz with 1050 questions\n"
     ]
    },
    {
     "name": "stderr",
     "output_type": "stream",
     "text": [
      "Layer 10: 100%|██████████| 1050/1050 [00:01<00:00, 580.80it/s]\n"
     ]
    },
    {
     "name": "stdout",
     "output_type": "stream",
     "text": [
      "Created results/by_layer_20250911_112921/by_layer/layer_10/V1_alpha_p1_V1.npz with 1050 questions\n"
     ]
    },
    {
     "name": "stderr",
     "output_type": "stream",
     "text": [
      "Layer 11: 100%|██████████| 1050/1050 [00:01<00:00, 567.38it/s]\n"
     ]
    },
    {
     "name": "stdout",
     "output_type": "stream",
     "text": [
      "Created results/by_layer_20250911_112921/by_layer/layer_11/V1_alpha_p1_V1.npz with 1050 questions\n"
     ]
    },
    {
     "name": "stderr",
     "output_type": "stream",
     "text": [
      "Layer 12: 100%|██████████| 1050/1050 [00:01<00:00, 530.28it/s]\n"
     ]
    },
    {
     "name": "stdout",
     "output_type": "stream",
     "text": [
      "Created results/by_layer_20250911_112921/by_layer/layer_12/V1_alpha_p1_V1.npz with 1050 questions\n"
     ]
    },
    {
     "name": "stderr",
     "output_type": "stream",
     "text": [
      "Layer 13: 100%|██████████| 1050/1050 [00:01<00:00, 537.28it/s]\n"
     ]
    },
    {
     "name": "stdout",
     "output_type": "stream",
     "text": [
      "Created results/by_layer_20250911_112921/by_layer/layer_13/V1_alpha_p1_V1.npz with 1050 questions\n"
     ]
    },
    {
     "name": "stderr",
     "output_type": "stream",
     "text": [
      "Layer 14: 100%|██████████| 1050/1050 [00:02<00:00, 515.48it/s]\n"
     ]
    },
    {
     "name": "stdout",
     "output_type": "stream",
     "text": [
      "Created results/by_layer_20250911_112921/by_layer/layer_14/V1_alpha_p1_V1.npz with 1050 questions\n"
     ]
    },
    {
     "name": "stderr",
     "output_type": "stream",
     "text": [
      "Layer 15: 100%|██████████| 1050/1050 [00:01<00:00, 597.86it/s]\n"
     ]
    },
    {
     "name": "stdout",
     "output_type": "stream",
     "text": [
      "Created results/by_layer_20250911_112921/by_layer/layer_15/V1_alpha_p1_V1.npz with 1050 questions\n"
     ]
    },
    {
     "name": "stderr",
     "output_type": "stream",
     "text": [
      "Layer 16: 100%|██████████| 1050/1050 [00:01<00:00, 605.32it/s]\n"
     ]
    },
    {
     "name": "stdout",
     "output_type": "stream",
     "text": [
      "Created results/by_layer_20250911_112921/by_layer/layer_16/V1_alpha_p1_V1.npz with 1050 questions\n"
     ]
    },
    {
     "name": "stderr",
     "output_type": "stream",
     "text": [
      "Layer 17: 100%|██████████| 1050/1050 [00:01<00:00, 585.85it/s]\n"
     ]
    },
    {
     "name": "stdout",
     "output_type": "stream",
     "text": [
      "Created results/by_layer_20250911_112921/by_layer/layer_17/V1_alpha_p1_V1.npz with 1050 questions\n"
     ]
    },
    {
     "name": "stderr",
     "output_type": "stream",
     "text": [
      "Layer 18: 100%|██████████| 1050/1050 [00:01<00:00, 556.83it/s]\n"
     ]
    },
    {
     "name": "stdout",
     "output_type": "stream",
     "text": [
      "Created results/by_layer_20250911_112921/by_layer/layer_18/V1_alpha_p1_V1.npz with 1050 questions\n"
     ]
    },
    {
     "name": "stderr",
     "output_type": "stream",
     "text": [
      "Layer 19: 100%|██████████| 1050/1050 [00:01<00:00, 528.31it/s]\n"
     ]
    },
    {
     "name": "stdout",
     "output_type": "stream",
     "text": [
      "Created results/by_layer_20250911_112921/by_layer/layer_19/V1_alpha_p1_V1.npz with 1050 questions\n"
     ]
    },
    {
     "name": "stderr",
     "output_type": "stream",
     "text": [
      "Layer 20: 100%|██████████| 1050/1050 [00:02<00:00, 486.80it/s]\n"
     ]
    },
    {
     "name": "stdout",
     "output_type": "stream",
     "text": [
      "Created results/by_layer_20250911_112921/by_layer/layer_20/V1_alpha_p1_V1.npz with 1050 questions\n"
     ]
    },
    {
     "name": "stderr",
     "output_type": "stream",
     "text": [
      "Layer 21: 100%|██████████| 1050/1050 [00:01<00:00, 556.80it/s]\n"
     ]
    },
    {
     "name": "stdout",
     "output_type": "stream",
     "text": [
      "Created results/by_layer_20250911_112921/by_layer/layer_21/V1_alpha_p1_V1.npz with 1050 questions\n"
     ]
    },
    {
     "name": "stderr",
     "output_type": "stream",
     "text": [
      "Layer 22: 100%|██████████| 1050/1050 [00:02<00:00, 505.16it/s]\n"
     ]
    },
    {
     "name": "stdout",
     "output_type": "stream",
     "text": [
      "Created results/by_layer_20250911_112921/by_layer/layer_22/V1_alpha_p1_V1.npz with 1050 questions\n"
     ]
    },
    {
     "name": "stderr",
     "output_type": "stream",
     "text": [
      "Layer 23: 100%|██████████| 1050/1050 [00:02<00:00, 518.74it/s]\n"
     ]
    },
    {
     "name": "stdout",
     "output_type": "stream",
     "text": [
      "Created results/by_layer_20250911_112921/by_layer/layer_23/V1_alpha_p1_V1.npz with 1050 questions\n"
     ]
    },
    {
     "name": "stderr",
     "output_type": "stream",
     "text": [
      "Layer 24: 100%|██████████| 1050/1050 [00:01<00:00, 596.86it/s]\n"
     ]
    },
    {
     "name": "stdout",
     "output_type": "stream",
     "text": [
      "Created results/by_layer_20250911_112921/by_layer/layer_24/V1_alpha_p1_V1.npz with 1050 questions\n"
     ]
    },
    {
     "name": "stderr",
     "output_type": "stream",
     "text": [
      "Layer 25: 100%|██████████| 1050/1050 [00:01<00:00, 538.19it/s]\n"
     ]
    },
    {
     "name": "stdout",
     "output_type": "stream",
     "text": [
      "Created results/by_layer_20250911_112921/by_layer/layer_25/V1_alpha_p1_V1.npz with 1050 questions\n"
     ]
    },
    {
     "name": "stderr",
     "output_type": "stream",
     "text": [
      "Layer 26: 100%|██████████| 1050/1050 [00:01<00:00, 547.06it/s]\n"
     ]
    },
    {
     "name": "stdout",
     "output_type": "stream",
     "text": [
      "Created results/by_layer_20250911_112921/by_layer/layer_26/V1_alpha_p1_V1.npz with 1050 questions\n"
     ]
    },
    {
     "name": "stderr",
     "output_type": "stream",
     "text": [
      "Layer 27: 100%|██████████| 1050/1050 [00:01<00:00, 527.26it/s]\n"
     ]
    },
    {
     "name": "stdout",
     "output_type": "stream",
     "text": [
      "Created results/by_layer_20250911_112921/by_layer/layer_27/V1_alpha_p1_V1.npz with 1050 questions\n"
     ]
    },
    {
     "name": "stderr",
     "output_type": "stream",
     "text": [
      "Layer 28: 100%|██████████| 1050/1050 [00:02<00:00, 515.72it/s]\n"
     ]
    },
    {
     "name": "stdout",
     "output_type": "stream",
     "text": [
      "Created results/by_layer_20250911_112921/by_layer/layer_28/V1_alpha_p1_V1.npz with 1050 questions\n"
     ]
    },
    {
     "name": "stderr",
     "output_type": "stream",
     "text": [
      "Layer 29: 100%|██████████| 1050/1050 [00:01<00:00, 531.96it/s]\n"
     ]
    },
    {
     "name": "stdout",
     "output_type": "stream",
     "text": [
      "Created results/by_layer_20250911_112921/by_layer/layer_29/V1_alpha_p1_V1.npz with 1050 questions\n"
     ]
    },
    {
     "name": "stderr",
     "output_type": "stream",
     "text": [
      "Layer 30: 100%|██████████| 1050/1050 [00:03<00:00, 318.86it/s]\n"
     ]
    },
    {
     "name": "stdout",
     "output_type": "stream",
     "text": [
      "Created results/by_layer_20250911_112921/by_layer/layer_30/V1_alpha_p1_V1.npz with 1050 questions\n"
     ]
    },
    {
     "name": "stderr",
     "output_type": "stream",
     "text": [
      "Layer 31: 100%|██████████| 1050/1050 [00:01<00:00, 529.18it/s]\n"
     ]
    },
    {
     "name": "stdout",
     "output_type": "stream",
     "text": [
      "Created results/by_layer_20250911_112921/by_layer/layer_31/V1_alpha_p1_V1.npz with 1050 questions\n"
     ]
    },
    {
     "name": "stderr",
     "output_type": "stream",
     "text": [
      "Layer 32: 100%|██████████| 1050/1050 [00:01<00:00, 559.67it/s]\n"
     ]
    },
    {
     "name": "stdout",
     "output_type": "stream",
     "text": [
      "Created results/by_layer_20250911_112921/by_layer/layer_32/V1_alpha_p1_V1.npz with 1050 questions\n"
     ]
    },
    {
     "name": "stderr",
     "output_type": "stream",
     "text": [
      "Layer 33: 100%|██████████| 1050/1050 [00:01<00:00, 566.59it/s]\n"
     ]
    },
    {
     "name": "stdout",
     "output_type": "stream",
     "text": [
      "Created results/by_layer_20250911_112921/by_layer/layer_33/V1_alpha_p1_V1.npz with 1050 questions\n"
     ]
    },
    {
     "name": "stderr",
     "output_type": "stream",
     "text": [
      "Layer 34: 100%|██████████| 1050/1050 [00:02<00:00, 524.03it/s]\n"
     ]
    },
    {
     "name": "stdout",
     "output_type": "stream",
     "text": [
      "Created results/by_layer_20250911_112921/by_layer/layer_34/V1_alpha_p1_V1.npz with 1050 questions\n",
      "\n",
      "Processing experiment 36/60: results/comprehensive_experiments/run_20250911_062422/V2_num_p2\n",
      "Processing experiment: results/comprehensive_experiments/run_20250911_062422/V2_num_p2\n",
      "File: hidden_states_V2.npz, Layers: 35, Hidden dim: 2560\n"
     ]
    },
    {
     "name": "stderr",
     "output_type": "stream",
     "text": [
      "Layer 00: 100%|██████████| 1050/1050 [00:02<00:00, 363.22it/s]\n"
     ]
    },
    {
     "name": "stdout",
     "output_type": "stream",
     "text": [
      "Created results/by_layer_20250911_112921/by_layer/layer_00/V2_num_p2_V2.npz with 1050 questions\n"
     ]
    },
    {
     "name": "stderr",
     "output_type": "stream",
     "text": [
      "Layer 01: 100%|██████████| 1050/1050 [00:01<00:00, 540.82it/s]\n"
     ]
    },
    {
     "name": "stdout",
     "output_type": "stream",
     "text": [
      "Created results/by_layer_20250911_112921/by_layer/layer_01/V2_num_p2_V2.npz with 1050 questions\n"
     ]
    },
    {
     "name": "stderr",
     "output_type": "stream",
     "text": [
      "Layer 02: 100%|██████████| 1050/1050 [00:01<00:00, 532.13it/s]\n"
     ]
    },
    {
     "name": "stdout",
     "output_type": "stream",
     "text": [
      "Created results/by_layer_20250911_112921/by_layer/layer_02/V2_num_p2_V2.npz with 1050 questions\n"
     ]
    },
    {
     "name": "stderr",
     "output_type": "stream",
     "text": [
      "Layer 03: 100%|██████████| 1050/1050 [00:02<00:00, 510.00it/s]\n"
     ]
    },
    {
     "name": "stdout",
     "output_type": "stream",
     "text": [
      "Created results/by_layer_20250911_112921/by_layer/layer_03/V2_num_p2_V2.npz with 1050 questions\n"
     ]
    },
    {
     "name": "stderr",
     "output_type": "stream",
     "text": [
      "Layer 04: 100%|██████████| 1050/1050 [00:03<00:00, 328.95it/s]\n"
     ]
    },
    {
     "name": "stdout",
     "output_type": "stream",
     "text": [
      "Created results/by_layer_20250911_112921/by_layer/layer_04/V2_num_p2_V2.npz with 1050 questions\n"
     ]
    },
    {
     "name": "stderr",
     "output_type": "stream",
     "text": [
      "Layer 05: 100%|██████████| 1050/1050 [00:02<00:00, 524.46it/s]\n"
     ]
    },
    {
     "name": "stdout",
     "output_type": "stream",
     "text": [
      "Created results/by_layer_20250911_112921/by_layer/layer_05/V2_num_p2_V2.npz with 1050 questions\n"
     ]
    },
    {
     "name": "stderr",
     "output_type": "stream",
     "text": [
      "Layer 06: 100%|██████████| 1050/1050 [00:01<00:00, 565.46it/s]\n"
     ]
    },
    {
     "name": "stdout",
     "output_type": "stream",
     "text": [
      "Created results/by_layer_20250911_112921/by_layer/layer_06/V2_num_p2_V2.npz with 1050 questions\n"
     ]
    },
    {
     "name": "stderr",
     "output_type": "stream",
     "text": [
      "Layer 07: 100%|██████████| 1050/1050 [00:01<00:00, 564.29it/s]\n"
     ]
    },
    {
     "name": "stdout",
     "output_type": "stream",
     "text": [
      "Created results/by_layer_20250911_112921/by_layer/layer_07/V2_num_p2_V2.npz with 1050 questions\n"
     ]
    },
    {
     "name": "stderr",
     "output_type": "stream",
     "text": [
      "Layer 08: 100%|██████████| 1050/1050 [00:01<00:00, 536.61it/s]\n"
     ]
    },
    {
     "name": "stdout",
     "output_type": "stream",
     "text": [
      "Created results/by_layer_20250911_112921/by_layer/layer_08/V2_num_p2_V2.npz with 1050 questions\n"
     ]
    },
    {
     "name": "stderr",
     "output_type": "stream",
     "text": [
      "Layer 09: 100%|██████████| 1050/1050 [00:01<00:00, 542.06it/s]\n"
     ]
    },
    {
     "name": "stdout",
     "output_type": "stream",
     "text": [
      "Created results/by_layer_20250911_112921/by_layer/layer_09/V2_num_p2_V2.npz with 1050 questions\n"
     ]
    },
    {
     "name": "stderr",
     "output_type": "stream",
     "text": [
      "Layer 10: 100%|██████████| 1050/1050 [00:01<00:00, 535.36it/s]\n"
     ]
    },
    {
     "name": "stdout",
     "output_type": "stream",
     "text": [
      "Created results/by_layer_20250911_112921/by_layer/layer_10/V2_num_p2_V2.npz with 1050 questions\n"
     ]
    },
    {
     "name": "stderr",
     "output_type": "stream",
     "text": [
      "Layer 11: 100%|██████████| 1050/1050 [00:01<00:00, 542.41it/s]\n"
     ]
    },
    {
     "name": "stdout",
     "output_type": "stream",
     "text": [
      "Created results/by_layer_20250911_112921/by_layer/layer_11/V2_num_p2_V2.npz with 1050 questions\n"
     ]
    },
    {
     "name": "stderr",
     "output_type": "stream",
     "text": [
      "Layer 12: 100%|██████████| 1050/1050 [00:01<00:00, 564.52it/s]\n"
     ]
    },
    {
     "name": "stdout",
     "output_type": "stream",
     "text": [
      "Created results/by_layer_20250911_112921/by_layer/layer_12/V2_num_p2_V2.npz with 1050 questions\n"
     ]
    },
    {
     "name": "stderr",
     "output_type": "stream",
     "text": [
      "Layer 13: 100%|██████████| 1050/1050 [00:02<00:00, 519.09it/s]\n"
     ]
    },
    {
     "name": "stdout",
     "output_type": "stream",
     "text": [
      "Created results/by_layer_20250911_112921/by_layer/layer_13/V2_num_p2_V2.npz with 1050 questions\n"
     ]
    },
    {
     "name": "stderr",
     "output_type": "stream",
     "text": [
      "Layer 14: 100%|██████████| 1050/1050 [00:02<00:00, 520.10it/s]\n"
     ]
    },
    {
     "name": "stdout",
     "output_type": "stream",
     "text": [
      "Created results/by_layer_20250911_112921/by_layer/layer_14/V2_num_p2_V2.npz with 1050 questions\n"
     ]
    },
    {
     "name": "stderr",
     "output_type": "stream",
     "text": [
      "Layer 15: 100%|██████████| 1050/1050 [00:01<00:00, 592.03it/s]\n"
     ]
    },
    {
     "name": "stdout",
     "output_type": "stream",
     "text": [
      "Created results/by_layer_20250911_112921/by_layer/layer_15/V2_num_p2_V2.npz with 1050 questions\n"
     ]
    },
    {
     "name": "stderr",
     "output_type": "stream",
     "text": [
      "Layer 16: 100%|██████████| 1050/1050 [00:01<00:00, 550.10it/s]\n"
     ]
    },
    {
     "name": "stdout",
     "output_type": "stream",
     "text": [
      "Created results/by_layer_20250911_112921/by_layer/layer_16/V2_num_p2_V2.npz with 1050 questions\n"
     ]
    },
    {
     "name": "stderr",
     "output_type": "stream",
     "text": [
      "Layer 17: 100%|██████████| 1050/1050 [00:02<00:00, 515.76it/s]\n"
     ]
    },
    {
     "name": "stdout",
     "output_type": "stream",
     "text": [
      "Created results/by_layer_20250911_112921/by_layer/layer_17/V2_num_p2_V2.npz with 1050 questions\n"
     ]
    },
    {
     "name": "stderr",
     "output_type": "stream",
     "text": [
      "Layer 18: 100%|██████████| 1050/1050 [00:02<00:00, 524.05it/s]\n"
     ]
    },
    {
     "name": "stdout",
     "output_type": "stream",
     "text": [
      "Created results/by_layer_20250911_112921/by_layer/layer_18/V2_num_p2_V2.npz with 1050 questions\n"
     ]
    },
    {
     "name": "stderr",
     "output_type": "stream",
     "text": [
      "Layer 19: 100%|██████████| 1050/1050 [00:02<00:00, 496.90it/s]\n"
     ]
    },
    {
     "name": "stdout",
     "output_type": "stream",
     "text": [
      "Created results/by_layer_20250911_112921/by_layer/layer_19/V2_num_p2_V2.npz with 1050 questions\n"
     ]
    },
    {
     "name": "stderr",
     "output_type": "stream",
     "text": [
      "Layer 20: 100%|██████████| 1050/1050 [00:02<00:00, 502.80it/s]\n"
     ]
    },
    {
     "name": "stdout",
     "output_type": "stream",
     "text": [
      "Created results/by_layer_20250911_112921/by_layer/layer_20/V2_num_p2_V2.npz with 1050 questions\n"
     ]
    },
    {
     "name": "stderr",
     "output_type": "stream",
     "text": [
      "Layer 21: 100%|██████████| 1050/1050 [00:03<00:00, 316.95it/s]\n"
     ]
    },
    {
     "name": "stdout",
     "output_type": "stream",
     "text": [
      "Created results/by_layer_20250911_112921/by_layer/layer_21/V2_num_p2_V2.npz with 1050 questions\n"
     ]
    },
    {
     "name": "stderr",
     "output_type": "stream",
     "text": [
      "Layer 22: 100%|██████████| 1050/1050 [00:01<00:00, 548.01it/s]\n"
     ]
    },
    {
     "name": "stdout",
     "output_type": "stream",
     "text": [
      "Created results/by_layer_20250911_112921/by_layer/layer_22/V2_num_p2_V2.npz with 1050 questions\n"
     ]
    },
    {
     "name": "stderr",
     "output_type": "stream",
     "text": [
      "Layer 23: 100%|██████████| 1050/1050 [00:01<00:00, 579.17it/s]\n"
     ]
    },
    {
     "name": "stdout",
     "output_type": "stream",
     "text": [
      "Created results/by_layer_20250911_112921/by_layer/layer_23/V2_num_p2_V2.npz with 1050 questions\n"
     ]
    },
    {
     "name": "stderr",
     "output_type": "stream",
     "text": [
      "Layer 24: 100%|██████████| 1050/1050 [00:01<00:00, 568.33it/s]\n"
     ]
    },
    {
     "name": "stdout",
     "output_type": "stream",
     "text": [
      "Created results/by_layer_20250911_112921/by_layer/layer_24/V2_num_p2_V2.npz with 1050 questions\n"
     ]
    },
    {
     "name": "stderr",
     "output_type": "stream",
     "text": [
      "Layer 25: 100%|██████████| 1050/1050 [00:02<00:00, 518.42it/s]\n"
     ]
    },
    {
     "name": "stdout",
     "output_type": "stream",
     "text": [
      "Created results/by_layer_20250911_112921/by_layer/layer_25/V2_num_p2_V2.npz with 1050 questions\n"
     ]
    },
    {
     "name": "stderr",
     "output_type": "stream",
     "text": [
      "Layer 26: 100%|██████████| 1050/1050 [00:01<00:00, 529.51it/s]\n"
     ]
    },
    {
     "name": "stdout",
     "output_type": "stream",
     "text": [
      "Created results/by_layer_20250911_112921/by_layer/layer_26/V2_num_p2_V2.npz with 1050 questions\n"
     ]
    },
    {
     "name": "stderr",
     "output_type": "stream",
     "text": [
      "Layer 27: 100%|██████████| 1050/1050 [00:01<00:00, 529.37it/s]\n"
     ]
    },
    {
     "name": "stdout",
     "output_type": "stream",
     "text": [
      "Created results/by_layer_20250911_112921/by_layer/layer_27/V2_num_p2_V2.npz with 1050 questions\n"
     ]
    },
    {
     "name": "stderr",
     "output_type": "stream",
     "text": [
      "Layer 28: 100%|██████████| 1050/1050 [00:01<00:00, 531.21it/s]\n"
     ]
    },
    {
     "name": "stdout",
     "output_type": "stream",
     "text": [
      "Created results/by_layer_20250911_112921/by_layer/layer_28/V2_num_p2_V2.npz with 1050 questions\n"
     ]
    },
    {
     "name": "stderr",
     "output_type": "stream",
     "text": [
      "Layer 29: 100%|██████████| 1050/1050 [00:01<00:00, 533.73it/s]\n"
     ]
    },
    {
     "name": "stdout",
     "output_type": "stream",
     "text": [
      "Created results/by_layer_20250911_112921/by_layer/layer_29/V2_num_p2_V2.npz with 1050 questions\n"
     ]
    },
    {
     "name": "stderr",
     "output_type": "stream",
     "text": [
      "Layer 30: 100%|██████████| 1050/1050 [00:03<00:00, 310.65it/s]\n"
     ]
    },
    {
     "name": "stdout",
     "output_type": "stream",
     "text": [
      "Created results/by_layer_20250911_112921/by_layer/layer_30/V2_num_p2_V2.npz with 1050 questions\n"
     ]
    },
    {
     "name": "stderr",
     "output_type": "stream",
     "text": [
      "Layer 31: 100%|██████████| 1050/1050 [00:01<00:00, 534.58it/s]\n"
     ]
    },
    {
     "name": "stdout",
     "output_type": "stream",
     "text": [
      "Created results/by_layer_20250911_112921/by_layer/layer_31/V2_num_p2_V2.npz with 1050 questions\n"
     ]
    },
    {
     "name": "stderr",
     "output_type": "stream",
     "text": [
      "Layer 32: 100%|██████████| 1050/1050 [00:01<00:00, 565.45it/s]\n"
     ]
    },
    {
     "name": "stdout",
     "output_type": "stream",
     "text": [
      "Created results/by_layer_20250911_112921/by_layer/layer_32/V2_num_p2_V2.npz with 1050 questions\n"
     ]
    },
    {
     "name": "stderr",
     "output_type": "stream",
     "text": [
      "Layer 33: 100%|██████████| 1050/1050 [00:01<00:00, 578.49it/s]\n"
     ]
    },
    {
     "name": "stdout",
     "output_type": "stream",
     "text": [
      "Created results/by_layer_20250911_112921/by_layer/layer_33/V2_num_p2_V2.npz with 1050 questions\n"
     ]
    },
    {
     "name": "stderr",
     "output_type": "stream",
     "text": [
      "Layer 34: 100%|██████████| 1050/1050 [00:01<00:00, 539.77it/s]\n"
     ]
    },
    {
     "name": "stdout",
     "output_type": "stream",
     "text": [
      "Created results/by_layer_20250911_112921/by_layer/layer_34/V2_num_p2_V2.npz with 1050 questions\n",
      "\n",
      "Processing experiment 37/60: results/comprehensive_experiments/run_20250911_062422/V2_num_p5\n",
      "Processing experiment: results/comprehensive_experiments/run_20250911_062422/V2_num_p5\n",
      "File: hidden_states_V2.npz, Layers: 35, Hidden dim: 2560\n"
     ]
    },
    {
     "name": "stderr",
     "output_type": "stream",
     "text": [
      "Layer 00: 100%|██████████| 1050/1050 [00:02<00:00, 385.48it/s]\n"
     ]
    },
    {
     "name": "stdout",
     "output_type": "stream",
     "text": [
      "Created results/by_layer_20250911_112921/by_layer/layer_00/V2_num_p5_V2.npz with 1050 questions\n"
     ]
    },
    {
     "name": "stderr",
     "output_type": "stream",
     "text": [
      "Layer 01: 100%|██████████| 1050/1050 [00:02<00:00, 499.88it/s]\n"
     ]
    },
    {
     "name": "stdout",
     "output_type": "stream",
     "text": [
      "Created results/by_layer_20250911_112921/by_layer/layer_01/V2_num_p5_V2.npz with 1050 questions\n"
     ]
    },
    {
     "name": "stderr",
     "output_type": "stream",
     "text": [
      "Layer 02: 100%|██████████| 1050/1050 [00:01<00:00, 539.44it/s]\n"
     ]
    },
    {
     "name": "stdout",
     "output_type": "stream",
     "text": [
      "Created results/by_layer_20250911_112921/by_layer/layer_02/V2_num_p5_V2.npz with 1050 questions\n"
     ]
    },
    {
     "name": "stderr",
     "output_type": "stream",
     "text": [
      "Layer 03: 100%|██████████| 1050/1050 [00:02<00:00, 495.53it/s]\n"
     ]
    },
    {
     "name": "stdout",
     "output_type": "stream",
     "text": [
      "Created results/by_layer_20250911_112921/by_layer/layer_03/V2_num_p5_V2.npz with 1050 questions\n"
     ]
    },
    {
     "name": "stderr",
     "output_type": "stream",
     "text": [
      "Layer 04: 100%|██████████| 1050/1050 [00:02<00:00, 515.37it/s]\n"
     ]
    },
    {
     "name": "stdout",
     "output_type": "stream",
     "text": [
      "Created results/by_layer_20250911_112921/by_layer/layer_04/V2_num_p5_V2.npz with 1050 questions\n"
     ]
    },
    {
     "name": "stderr",
     "output_type": "stream",
     "text": [
      "Layer 05: 100%|██████████| 1050/1050 [00:02<00:00, 494.29it/s]\n"
     ]
    },
    {
     "name": "stdout",
     "output_type": "stream",
     "text": [
      "Created results/by_layer_20250911_112921/by_layer/layer_05/V2_num_p5_V2.npz with 1050 questions\n"
     ]
    },
    {
     "name": "stderr",
     "output_type": "stream",
     "text": [
      "Layer 06: 100%|██████████| 1050/1050 [00:02<00:00, 482.06it/s]\n"
     ]
    },
    {
     "name": "stdout",
     "output_type": "stream",
     "text": [
      "Created results/by_layer_20250911_112921/by_layer/layer_06/V2_num_p5_V2.npz with 1050 questions\n"
     ]
    },
    {
     "name": "stderr",
     "output_type": "stream",
     "text": [
      "Layer 07: 100%|██████████| 1050/1050 [00:02<00:00, 493.72it/s]\n"
     ]
    },
    {
     "name": "stdout",
     "output_type": "stream",
     "text": [
      "Created results/by_layer_20250911_112921/by_layer/layer_07/V2_num_p5_V2.npz with 1050 questions\n"
     ]
    },
    {
     "name": "stderr",
     "output_type": "stream",
     "text": [
      "Layer 08: 100%|██████████| 1050/1050 [00:02<00:00, 474.87it/s]\n"
     ]
    },
    {
     "name": "stdout",
     "output_type": "stream",
     "text": [
      "Created results/by_layer_20250911_112921/by_layer/layer_08/V2_num_p5_V2.npz with 1050 questions\n"
     ]
    },
    {
     "name": "stderr",
     "output_type": "stream",
     "text": [
      "Layer 09: 100%|██████████| 1050/1050 [00:02<00:00, 516.34it/s]\n"
     ]
    },
    {
     "name": "stdout",
     "output_type": "stream",
     "text": [
      "Created results/by_layer_20250911_112921/by_layer/layer_09/V2_num_p5_V2.npz with 1050 questions\n"
     ]
    },
    {
     "name": "stderr",
     "output_type": "stream",
     "text": [
      "Layer 10: 100%|██████████| 1050/1050 [00:01<00:00, 567.00it/s]\n"
     ]
    },
    {
     "name": "stdout",
     "output_type": "stream",
     "text": [
      "Created results/by_layer_20250911_112921/by_layer/layer_10/V2_num_p5_V2.npz with 1050 questions\n"
     ]
    },
    {
     "name": "stderr",
     "output_type": "stream",
     "text": [
      "Layer 11: 100%|██████████| 1050/1050 [00:01<00:00, 584.44it/s]\n"
     ]
    },
    {
     "name": "stdout",
     "output_type": "stream",
     "text": [
      "Created results/by_layer_20250911_112921/by_layer/layer_11/V2_num_p5_V2.npz with 1050 questions\n"
     ]
    },
    {
     "name": "stderr",
     "output_type": "stream",
     "text": [
      "Layer 12: 100%|██████████| 1050/1050 [00:01<00:00, 543.49it/s]\n"
     ]
    },
    {
     "name": "stdout",
     "output_type": "stream",
     "text": [
      "Created results/by_layer_20250911_112921/by_layer/layer_12/V2_num_p5_V2.npz with 1050 questions\n"
     ]
    },
    {
     "name": "stderr",
     "output_type": "stream",
     "text": [
      "Layer 13: 100%|██████████| 1050/1050 [00:02<00:00, 509.41it/s]\n"
     ]
    },
    {
     "name": "stdout",
     "output_type": "stream",
     "text": [
      "Created results/by_layer_20250911_112921/by_layer/layer_13/V2_num_p5_V2.npz with 1050 questions\n"
     ]
    },
    {
     "name": "stderr",
     "output_type": "stream",
     "text": [
      "Layer 14: 100%|██████████| 1050/1050 [00:02<00:00, 510.89it/s]\n"
     ]
    },
    {
     "name": "stdout",
     "output_type": "stream",
     "text": [
      "Created results/by_layer_20250911_112921/by_layer/layer_14/V2_num_p5_V2.npz with 1050 questions\n"
     ]
    },
    {
     "name": "stderr",
     "output_type": "stream",
     "text": [
      "Layer 15: 100%|██████████| 1050/1050 [00:02<00:00, 508.59it/s]\n"
     ]
    },
    {
     "name": "stdout",
     "output_type": "stream",
     "text": [
      "Created results/by_layer_20250911_112921/by_layer/layer_15/V2_num_p5_V2.npz with 1050 questions\n"
     ]
    },
    {
     "name": "stderr",
     "output_type": "stream",
     "text": [
      "Layer 16: 100%|██████████| 1050/1050 [00:02<00:00, 357.01it/s]\n"
     ]
    },
    {
     "name": "stdout",
     "output_type": "stream",
     "text": [
      "Created results/by_layer_20250911_112921/by_layer/layer_16/V2_num_p5_V2.npz with 1050 questions\n"
     ]
    },
    {
     "name": "stderr",
     "output_type": "stream",
     "text": [
      "Layer 17: 100%|██████████| 1050/1050 [00:02<00:00, 505.92it/s]\n"
     ]
    },
    {
     "name": "stdout",
     "output_type": "stream",
     "text": [
      "Created results/by_layer_20250911_112921/by_layer/layer_17/V2_num_p5_V2.npz with 1050 questions\n"
     ]
    },
    {
     "name": "stderr",
     "output_type": "stream",
     "text": [
      "Layer 18: 100%|██████████| 1050/1050 [00:01<00:00, 529.67it/s]\n"
     ]
    },
    {
     "name": "stdout",
     "output_type": "stream",
     "text": [
      "Created results/by_layer_20250911_112921/by_layer/layer_18/V2_num_p5_V2.npz with 1050 questions\n"
     ]
    },
    {
     "name": "stderr",
     "output_type": "stream",
     "text": [
      "Layer 19: 100%|██████████| 1050/1050 [00:01<00:00, 526.36it/s]\n"
     ]
    },
    {
     "name": "stdout",
     "output_type": "stream",
     "text": [
      "Created results/by_layer_20250911_112921/by_layer/layer_19/V2_num_p5_V2.npz with 1050 questions\n"
     ]
    },
    {
     "name": "stderr",
     "output_type": "stream",
     "text": [
      "Layer 20: 100%|██████████| 1050/1050 [00:02<00:00, 495.48it/s]\n"
     ]
    },
    {
     "name": "stdout",
     "output_type": "stream",
     "text": [
      "Created results/by_layer_20250911_112921/by_layer/layer_20/V2_num_p5_V2.npz with 1050 questions\n"
     ]
    },
    {
     "name": "stderr",
     "output_type": "stream",
     "text": [
      "Layer 21: 100%|██████████| 1050/1050 [00:02<00:00, 517.48it/s]\n"
     ]
    },
    {
     "name": "stdout",
     "output_type": "stream",
     "text": [
      "Created results/by_layer_20250911_112921/by_layer/layer_21/V2_num_p5_V2.npz with 1050 questions\n"
     ]
    },
    {
     "name": "stderr",
     "output_type": "stream",
     "text": [
      "Layer 22: 100%|██████████| 1050/1050 [00:02<00:00, 502.72it/s]\n"
     ]
    },
    {
     "name": "stdout",
     "output_type": "stream",
     "text": [
      "Created results/by_layer_20250911_112921/by_layer/layer_22/V2_num_p5_V2.npz with 1050 questions\n"
     ]
    },
    {
     "name": "stderr",
     "output_type": "stream",
     "text": [
      "Layer 23: 100%|██████████| 1050/1050 [00:02<00:00, 490.44it/s]\n"
     ]
    },
    {
     "name": "stdout",
     "output_type": "stream",
     "text": [
      "Created results/by_layer_20250911_112921/by_layer/layer_23/V2_num_p5_V2.npz with 1050 questions\n"
     ]
    },
    {
     "name": "stderr",
     "output_type": "stream",
     "text": [
      "Layer 24: 100%|██████████| 1050/1050 [00:03<00:00, 348.20it/s]\n"
     ]
    },
    {
     "name": "stdout",
     "output_type": "stream",
     "text": [
      "Created results/by_layer_20250911_112921/by_layer/layer_24/V2_num_p5_V2.npz with 1050 questions\n"
     ]
    },
    {
     "name": "stderr",
     "output_type": "stream",
     "text": [
      "Layer 25: 100%|██████████| 1050/1050 [00:02<00:00, 520.38it/s]\n"
     ]
    },
    {
     "name": "stdout",
     "output_type": "stream",
     "text": [
      "Created results/by_layer_20250911_112921/by_layer/layer_25/V2_num_p5_V2.npz with 1050 questions\n"
     ]
    },
    {
     "name": "stderr",
     "output_type": "stream",
     "text": [
      "Layer 26: 100%|██████████| 1050/1050 [00:01<00:00, 549.44it/s]\n"
     ]
    },
    {
     "name": "stdout",
     "output_type": "stream",
     "text": [
      "Created results/by_layer_20250911_112921/by_layer/layer_26/V2_num_p5_V2.npz with 1050 questions\n"
     ]
    },
    {
     "name": "stderr",
     "output_type": "stream",
     "text": [
      "Layer 27: 100%|██████████| 1050/1050 [00:01<00:00, 579.47it/s]\n"
     ]
    },
    {
     "name": "stdout",
     "output_type": "stream",
     "text": [
      "Created results/by_layer_20250911_112921/by_layer/layer_27/V2_num_p5_V2.npz with 1050 questions\n"
     ]
    },
    {
     "name": "stderr",
     "output_type": "stream",
     "text": [
      "Layer 28: 100%|██████████| 1050/1050 [00:01<00:00, 544.27it/s]\n"
     ]
    },
    {
     "name": "stdout",
     "output_type": "stream",
     "text": [
      "Created results/by_layer_20250911_112921/by_layer/layer_28/V2_num_p5_V2.npz with 1050 questions\n"
     ]
    },
    {
     "name": "stderr",
     "output_type": "stream",
     "text": [
      "Layer 29: 100%|██████████| 1050/1050 [00:02<00:00, 487.15it/s]\n"
     ]
    },
    {
     "name": "stdout",
     "output_type": "stream",
     "text": [
      "Created results/by_layer_20250911_112921/by_layer/layer_29/V2_num_p5_V2.npz with 1050 questions\n"
     ]
    },
    {
     "name": "stderr",
     "output_type": "stream",
     "text": [
      "Layer 30: 100%|██████████| 1050/1050 [00:02<00:00, 500.88it/s]\n"
     ]
    },
    {
     "name": "stdout",
     "output_type": "stream",
     "text": [
      "Created results/by_layer_20250911_112921/by_layer/layer_30/V2_num_p5_V2.npz with 1050 questions\n"
     ]
    },
    {
     "name": "stderr",
     "output_type": "stream",
     "text": [
      "Layer 31: 100%|██████████| 1050/1050 [00:02<00:00, 508.18it/s]\n"
     ]
    },
    {
     "name": "stdout",
     "output_type": "stream",
     "text": [
      "Created results/by_layer_20250911_112921/by_layer/layer_31/V2_num_p5_V2.npz with 1050 questions\n"
     ]
    },
    {
     "name": "stderr",
     "output_type": "stream",
     "text": [
      "Layer 32: 100%|██████████| 1050/1050 [00:02<00:00, 502.90it/s]\n"
     ]
    },
    {
     "name": "stdout",
     "output_type": "stream",
     "text": [
      "Created results/by_layer_20250911_112921/by_layer/layer_32/V2_num_p5_V2.npz with 1050 questions\n"
     ]
    },
    {
     "name": "stderr",
     "output_type": "stream",
     "text": [
      "Layer 33: 100%|██████████| 1050/1050 [00:02<00:00, 514.35it/s]\n"
     ]
    },
    {
     "name": "stdout",
     "output_type": "stream",
     "text": [
      "Created results/by_layer_20250911_112921/by_layer/layer_33/V2_num_p5_V2.npz with 1050 questions\n"
     ]
    },
    {
     "name": "stderr",
     "output_type": "stream",
     "text": [
      "Layer 34: 100%|██████████| 1050/1050 [00:02<00:00, 523.67it/s]\n"
     ]
    },
    {
     "name": "stdout",
     "output_type": "stream",
     "text": [
      "Created results/by_layer_20250911_112921/by_layer/layer_34/V2_num_p5_V2.npz with 1050 questions\n",
      "\n",
      "Processing experiment 38/60: results/comprehensive_experiments/run_20250911_062422/V0_alpha_p1\n",
      "Processing experiment: results/comprehensive_experiments/run_20250911_062422/V0_alpha_p1\n",
      "File: hidden_states_V0.npz, Layers: 35, Hidden dim: 2560\n"
     ]
    },
    {
     "name": "stderr",
     "output_type": "stream",
     "text": [
      "Layer 00: 100%|██████████| 1050/1050 [00:02<00:00, 369.57it/s]\n"
     ]
    },
    {
     "name": "stdout",
     "output_type": "stream",
     "text": [
      "Created results/by_layer_20250911_112921/by_layer/layer_00/V0_alpha_p1_V0.npz with 1050 questions\n"
     ]
    },
    {
     "name": "stderr",
     "output_type": "stream",
     "text": [
      "Layer 01: 100%|██████████| 1050/1050 [00:01<00:00, 533.68it/s]\n"
     ]
    },
    {
     "name": "stdout",
     "output_type": "stream",
     "text": [
      "Created results/by_layer_20250911_112921/by_layer/layer_01/V0_alpha_p1_V0.npz with 1050 questions\n"
     ]
    },
    {
     "name": "stderr",
     "output_type": "stream",
     "text": [
      "Layer 02: 100%|██████████| 1050/1050 [00:01<00:00, 533.38it/s]\n"
     ]
    },
    {
     "name": "stdout",
     "output_type": "stream",
     "text": [
      "Created results/by_layer_20250911_112921/by_layer/layer_02/V0_alpha_p1_V0.npz with 1050 questions\n"
     ]
    },
    {
     "name": "stderr",
     "output_type": "stream",
     "text": [
      "Layer 03: 100%|██████████| 1050/1050 [00:02<00:00, 510.05it/s]\n"
     ]
    },
    {
     "name": "stdout",
     "output_type": "stream",
     "text": [
      "Created results/by_layer_20250911_112921/by_layer/layer_03/V0_alpha_p1_V0.npz with 1050 questions\n"
     ]
    },
    {
     "name": "stderr",
     "output_type": "stream",
     "text": [
      "Layer 04: 100%|██████████| 1050/1050 [00:02<00:00, 514.06it/s]\n"
     ]
    },
    {
     "name": "stdout",
     "output_type": "stream",
     "text": [
      "Created results/by_layer_20250911_112921/by_layer/layer_04/V0_alpha_p1_V0.npz with 1050 questions\n"
     ]
    },
    {
     "name": "stderr",
     "output_type": "stream",
     "text": [
      "Layer 05: 100%|██████████| 1050/1050 [00:02<00:00, 514.14it/s]\n"
     ]
    },
    {
     "name": "stdout",
     "output_type": "stream",
     "text": [
      "Created results/by_layer_20250911_112921/by_layer/layer_05/V0_alpha_p1_V0.npz with 1050 questions\n"
     ]
    },
    {
     "name": "stderr",
     "output_type": "stream",
     "text": [
      "Layer 06: 100%|██████████| 1050/1050 [00:03<00:00, 348.51it/s]\n"
     ]
    },
    {
     "name": "stdout",
     "output_type": "stream",
     "text": [
      "Created results/by_layer_20250911_112921/by_layer/layer_06/V0_alpha_p1_V0.npz with 1050 questions\n"
     ]
    },
    {
     "name": "stderr",
     "output_type": "stream",
     "text": [
      "Layer 07: 100%|██████████| 1050/1050 [00:01<00:00, 538.62it/s]\n"
     ]
    },
    {
     "name": "stdout",
     "output_type": "stream",
     "text": [
      "Created results/by_layer_20250911_112921/by_layer/layer_07/V0_alpha_p1_V0.npz with 1050 questions\n"
     ]
    },
    {
     "name": "stderr",
     "output_type": "stream",
     "text": [
      "Layer 08: 100%|██████████| 1050/1050 [00:01<00:00, 540.57it/s]\n"
     ]
    },
    {
     "name": "stdout",
     "output_type": "stream",
     "text": [
      "Created results/by_layer_20250911_112921/by_layer/layer_08/V0_alpha_p1_V0.npz with 1050 questions\n"
     ]
    },
    {
     "name": "stderr",
     "output_type": "stream",
     "text": [
      "Layer 09: 100%|██████████| 1050/1050 [00:01<00:00, 580.95it/s]\n"
     ]
    },
    {
     "name": "stdout",
     "output_type": "stream",
     "text": [
      "Created results/by_layer_20250911_112921/by_layer/layer_09/V0_alpha_p1_V0.npz with 1050 questions\n"
     ]
    },
    {
     "name": "stderr",
     "output_type": "stream",
     "text": [
      "Layer 10: 100%|██████████| 1050/1050 [00:01<00:00, 545.33it/s]\n"
     ]
    },
    {
     "name": "stdout",
     "output_type": "stream",
     "text": [
      "Created results/by_layer_20250911_112921/by_layer/layer_10/V0_alpha_p1_V0.npz with 1050 questions\n"
     ]
    },
    {
     "name": "stderr",
     "output_type": "stream",
     "text": [
      "Layer 11: 100%|██████████| 1050/1050 [00:01<00:00, 553.46it/s]\n"
     ]
    },
    {
     "name": "stdout",
     "output_type": "stream",
     "text": [
      "Created results/by_layer_20250911_112921/by_layer/layer_11/V0_alpha_p1_V0.npz with 1050 questions\n"
     ]
    },
    {
     "name": "stderr",
     "output_type": "stream",
     "text": [
      "Layer 12: 100%|██████████| 1050/1050 [00:02<00:00, 504.38it/s]\n"
     ]
    },
    {
     "name": "stdout",
     "output_type": "stream",
     "text": [
      "Created results/by_layer_20250911_112921/by_layer/layer_12/V0_alpha_p1_V0.npz with 1050 questions\n"
     ]
    },
    {
     "name": "stderr",
     "output_type": "stream",
     "text": [
      "Layer 13: 100%|██████████| 1050/1050 [00:02<00:00, 511.32it/s]\n"
     ]
    },
    {
     "name": "stdout",
     "output_type": "stream",
     "text": [
      "Created results/by_layer_20250911_112921/by_layer/layer_13/V0_alpha_p1_V0.npz with 1050 questions\n"
     ]
    },
    {
     "name": "stderr",
     "output_type": "stream",
     "text": [
      "Layer 14: 100%|██████████| 1050/1050 [00:02<00:00, 499.30it/s]\n"
     ]
    },
    {
     "name": "stdout",
     "output_type": "stream",
     "text": [
      "Created results/by_layer_20250911_112921/by_layer/layer_14/V0_alpha_p1_V0.npz with 1050 questions\n"
     ]
    },
    {
     "name": "stderr",
     "output_type": "stream",
     "text": [
      "Layer 15: 100%|██████████| 1050/1050 [00:02<00:00, 487.98it/s]\n"
     ]
    },
    {
     "name": "stdout",
     "output_type": "stream",
     "text": [
      "Created results/by_layer_20250911_112921/by_layer/layer_15/V0_alpha_p1_V0.npz with 1050 questions\n"
     ]
    },
    {
     "name": "stderr",
     "output_type": "stream",
     "text": [
      "Layer 16: 100%|██████████| 1050/1050 [00:02<00:00, 508.87it/s]\n"
     ]
    },
    {
     "name": "stdout",
     "output_type": "stream",
     "text": [
      "Created results/by_layer_20250911_112921/by_layer/layer_16/V0_alpha_p1_V0.npz with 1050 questions\n"
     ]
    },
    {
     "name": "stderr",
     "output_type": "stream",
     "text": [
      "Layer 17: 100%|██████████| 1050/1050 [00:01<00:00, 570.22it/s]\n"
     ]
    },
    {
     "name": "stdout",
     "output_type": "stream",
     "text": [
      "Created results/by_layer_20250911_112921/by_layer/layer_17/V0_alpha_p1_V0.npz with 1050 questions\n"
     ]
    },
    {
     "name": "stderr",
     "output_type": "stream",
     "text": [
      "Layer 18: 100%|██████████| 1050/1050 [00:02<00:00, 486.87it/s]\n"
     ]
    },
    {
     "name": "stdout",
     "output_type": "stream",
     "text": [
      "Created results/by_layer_20250911_112921/by_layer/layer_18/V0_alpha_p1_V0.npz with 1050 questions\n"
     ]
    },
    {
     "name": "stderr",
     "output_type": "stream",
     "text": [
      "Layer 19: 100%|██████████| 1050/1050 [00:01<00:00, 553.07it/s]\n"
     ]
    },
    {
     "name": "stdout",
     "output_type": "stream",
     "text": [
      "Created results/by_layer_20250911_112921/by_layer/layer_19/V0_alpha_p1_V0.npz with 1050 questions\n"
     ]
    },
    {
     "name": "stderr",
     "output_type": "stream",
     "text": [
      "Layer 20: 100%|██████████| 1050/1050 [00:02<00:00, 508.45it/s]\n"
     ]
    },
    {
     "name": "stdout",
     "output_type": "stream",
     "text": [
      "Created results/by_layer_20250911_112921/by_layer/layer_20/V0_alpha_p1_V0.npz with 1050 questions\n"
     ]
    },
    {
     "name": "stderr",
     "output_type": "stream",
     "text": [
      "Layer 21: 100%|██████████| 1050/1050 [00:02<00:00, 485.09it/s]\n"
     ]
    },
    {
     "name": "stdout",
     "output_type": "stream",
     "text": [
      "Created results/by_layer_20250911_112921/by_layer/layer_21/V0_alpha_p1_V0.npz with 1050 questions\n"
     ]
    },
    {
     "name": "stderr",
     "output_type": "stream",
     "text": [
      "Layer 22: 100%|██████████| 1050/1050 [00:01<00:00, 529.81it/s]\n"
     ]
    },
    {
     "name": "stdout",
     "output_type": "stream",
     "text": [
      "Created results/by_layer_20250911_112921/by_layer/layer_22/V0_alpha_p1_V0.npz with 1050 questions\n"
     ]
    },
    {
     "name": "stderr",
     "output_type": "stream",
     "text": [
      "Layer 23: 100%|██████████| 1050/1050 [00:02<00:00, 353.26it/s]\n"
     ]
    },
    {
     "name": "stdout",
     "output_type": "stream",
     "text": [
      "Created results/by_layer_20250911_112921/by_layer/layer_23/V0_alpha_p1_V0.npz with 1050 questions\n"
     ]
    },
    {
     "name": "stderr",
     "output_type": "stream",
     "text": [
      "Layer 24: 100%|██████████| 1050/1050 [00:02<00:00, 501.55it/s]\n"
     ]
    },
    {
     "name": "stdout",
     "output_type": "stream",
     "text": [
      "Created results/by_layer_20250911_112921/by_layer/layer_24/V0_alpha_p1_V0.npz with 1050 questions\n"
     ]
    },
    {
     "name": "stderr",
     "output_type": "stream",
     "text": [
      "Layer 25: 100%|██████████| 1050/1050 [00:01<00:00, 564.53it/s]\n"
     ]
    },
    {
     "name": "stdout",
     "output_type": "stream",
     "text": [
      "Created results/by_layer_20250911_112921/by_layer/layer_25/V0_alpha_p1_V0.npz with 1050 questions\n"
     ]
    },
    {
     "name": "stderr",
     "output_type": "stream",
     "text": [
      "Layer 26: 100%|██████████| 1050/1050 [00:01<00:00, 570.79it/s]\n"
     ]
    },
    {
     "name": "stdout",
     "output_type": "stream",
     "text": [
      "Created results/by_layer_20250911_112921/by_layer/layer_26/V0_alpha_p1_V0.npz with 1050 questions\n"
     ]
    },
    {
     "name": "stderr",
     "output_type": "stream",
     "text": [
      "Layer 27: 100%|██████████| 1050/1050 [00:01<00:00, 578.09it/s]\n"
     ]
    },
    {
     "name": "stdout",
     "output_type": "stream",
     "text": [
      "Created results/by_layer_20250911_112921/by_layer/layer_27/V0_alpha_p1_V0.npz with 1050 questions\n"
     ]
    },
    {
     "name": "stderr",
     "output_type": "stream",
     "text": [
      "Layer 28: 100%|██████████| 1050/1050 [00:02<00:00, 476.54it/s]\n"
     ]
    },
    {
     "name": "stdout",
     "output_type": "stream",
     "text": [
      "Created results/by_layer_20250911_112921/by_layer/layer_28/V0_alpha_p1_V0.npz with 1050 questions\n"
     ]
    },
    {
     "name": "stderr",
     "output_type": "stream",
     "text": [
      "Layer 29: 100%|██████████| 1050/1050 [00:02<00:00, 489.71it/s]\n"
     ]
    },
    {
     "name": "stdout",
     "output_type": "stream",
     "text": [
      "Created results/by_layer_20250911_112921/by_layer/layer_29/V0_alpha_p1_V0.npz with 1050 questions\n"
     ]
    },
    {
     "name": "stderr",
     "output_type": "stream",
     "text": [
      "Layer 30: 100%|██████████| 1050/1050 [00:02<00:00, 497.96it/s]\n"
     ]
    },
    {
     "name": "stdout",
     "output_type": "stream",
     "text": [
      "Created results/by_layer_20250911_112921/by_layer/layer_30/V0_alpha_p1_V0.npz with 1050 questions\n"
     ]
    },
    {
     "name": "stderr",
     "output_type": "stream",
     "text": [
      "Layer 31: 100%|██████████| 1050/1050 [00:02<00:00, 503.64it/s]\n"
     ]
    },
    {
     "name": "stdout",
     "output_type": "stream",
     "text": [
      "Created results/by_layer_20250911_112921/by_layer/layer_31/V0_alpha_p1_V0.npz with 1050 questions\n"
     ]
    },
    {
     "name": "stderr",
     "output_type": "stream",
     "text": [
      "Layer 32: 100%|██████████| 1050/1050 [00:02<00:00, 498.99it/s]\n"
     ]
    },
    {
     "name": "stdout",
     "output_type": "stream",
     "text": [
      "Created results/by_layer_20250911_112921/by_layer/layer_32/V0_alpha_p1_V0.npz with 1050 questions\n"
     ]
    },
    {
     "name": "stderr",
     "output_type": "stream",
     "text": [
      "Layer 33: 100%|██████████| 1050/1050 [00:01<00:00, 529.99it/s]\n"
     ]
    },
    {
     "name": "stdout",
     "output_type": "stream",
     "text": [
      "Created results/by_layer_20250911_112921/by_layer/layer_33/V0_alpha_p1_V0.npz with 1050 questions\n"
     ]
    },
    {
     "name": "stderr",
     "output_type": "stream",
     "text": [
      "Layer 34: 100%|██████████| 1050/1050 [00:02<00:00, 498.82it/s]\n"
     ]
    },
    {
     "name": "stdout",
     "output_type": "stream",
     "text": [
      "Created results/by_layer_20250911_112921/by_layer/layer_34/V0_alpha_p1_V0.npz with 1050 questions\n",
      "\n",
      "Processing experiment 39/60: results/comprehensive_experiments/run_20250911_062422/V3_num_p1\n",
      "Processing experiment: results/comprehensive_experiments/run_20250911_062422/V3_num_p1\n",
      "File: hidden_states_V3.npz, Layers: 35, Hidden dim: 2560\n"
     ]
    },
    {
     "name": "stderr",
     "output_type": "stream",
     "text": [
      "Layer 00: 100%|██████████| 1050/1050 [00:03<00:00, 320.89it/s]\n"
     ]
    },
    {
     "name": "stdout",
     "output_type": "stream",
     "text": [
      "Created results/by_layer_20250911_112921/by_layer/layer_00/V3_num_p1_V3.npz with 1050 questions\n"
     ]
    },
    {
     "name": "stderr",
     "output_type": "stream",
     "text": [
      "Layer 01: 100%|██████████| 1050/1050 [00:02<00:00, 487.00it/s]\n"
     ]
    },
    {
     "name": "stdout",
     "output_type": "stream",
     "text": [
      "Created results/by_layer_20250911_112921/by_layer/layer_01/V3_num_p1_V3.npz with 1050 questions\n"
     ]
    },
    {
     "name": "stderr",
     "output_type": "stream",
     "text": [
      "Layer 02: 100%|██████████| 1050/1050 [00:02<00:00, 471.45it/s]\n"
     ]
    },
    {
     "name": "stdout",
     "output_type": "stream",
     "text": [
      "Created results/by_layer_20250911_112921/by_layer/layer_02/V3_num_p1_V3.npz with 1050 questions\n"
     ]
    },
    {
     "name": "stderr",
     "output_type": "stream",
     "text": [
      "Layer 03: 100%|██████████| 1050/1050 [00:02<00:00, 502.85it/s]\n"
     ]
    },
    {
     "name": "stdout",
     "output_type": "stream",
     "text": [
      "Created results/by_layer_20250911_112921/by_layer/layer_03/V3_num_p1_V3.npz with 1050 questions\n"
     ]
    },
    {
     "name": "stderr",
     "output_type": "stream",
     "text": [
      "Layer 04: 100%|██████████| 1050/1050 [00:02<00:00, 482.92it/s]\n"
     ]
    },
    {
     "name": "stdout",
     "output_type": "stream",
     "text": [
      "Created results/by_layer_20250911_112921/by_layer/layer_04/V3_num_p1_V3.npz with 1050 questions\n"
     ]
    },
    {
     "name": "stderr",
     "output_type": "stream",
     "text": [
      "Layer 05: 100%|██████████| 1050/1050 [00:02<00:00, 506.08it/s]\n"
     ]
    },
    {
     "name": "stdout",
     "output_type": "stream",
     "text": [
      "Created results/by_layer_20250911_112921/by_layer/layer_05/V3_num_p1_V3.npz with 1050 questions\n"
     ]
    },
    {
     "name": "stderr",
     "output_type": "stream",
     "text": [
      "Layer 06: 100%|██████████| 1050/1050 [00:02<00:00, 508.56it/s]\n"
     ]
    },
    {
     "name": "stdout",
     "output_type": "stream",
     "text": [
      "Created results/by_layer_20250911_112921/by_layer/layer_06/V3_num_p1_V3.npz with 1050 questions\n"
     ]
    },
    {
     "name": "stderr",
     "output_type": "stream",
     "text": [
      "Layer 07: 100%|██████████| 1050/1050 [00:01<00:00, 547.49it/s]\n"
     ]
    },
    {
     "name": "stdout",
     "output_type": "stream",
     "text": [
      "Created results/by_layer_20250911_112921/by_layer/layer_07/V3_num_p1_V3.npz with 1050 questions\n"
     ]
    },
    {
     "name": "stderr",
     "output_type": "stream",
     "text": [
      "Layer 08: 100%|██████████| 1050/1050 [00:01<00:00, 566.09it/s]\n"
     ]
    },
    {
     "name": "stdout",
     "output_type": "stream",
     "text": [
      "Created results/by_layer_20250911_112921/by_layer/layer_08/V3_num_p1_V3.npz with 1050 questions\n"
     ]
    },
    {
     "name": "stderr",
     "output_type": "stream",
     "text": [
      "Layer 09: 100%|██████████| 1050/1050 [00:01<00:00, 569.76it/s]\n"
     ]
    },
    {
     "name": "stdout",
     "output_type": "stream",
     "text": [
      "Created results/by_layer_20250911_112921/by_layer/layer_09/V3_num_p1_V3.npz with 1050 questions\n"
     ]
    },
    {
     "name": "stderr",
     "output_type": "stream",
     "text": [
      "Layer 10: 100%|██████████| 1050/1050 [00:02<00:00, 515.52it/s]\n"
     ]
    },
    {
     "name": "stdout",
     "output_type": "stream",
     "text": [
      "Created results/by_layer_20250911_112921/by_layer/layer_10/V3_num_p1_V3.npz with 1050 questions\n"
     ]
    },
    {
     "name": "stderr",
     "output_type": "stream",
     "text": [
      "Layer 11: 100%|██████████| 1050/1050 [00:02<00:00, 491.49it/s]\n"
     ]
    },
    {
     "name": "stdout",
     "output_type": "stream",
     "text": [
      "Created results/by_layer_20250911_112921/by_layer/layer_11/V3_num_p1_V3.npz with 1050 questions\n"
     ]
    },
    {
     "name": "stderr",
     "output_type": "stream",
     "text": [
      "Layer 12: 100%|██████████| 1050/1050 [00:02<00:00, 517.29it/s]\n"
     ]
    },
    {
     "name": "stdout",
     "output_type": "stream",
     "text": [
      "Created results/by_layer_20250911_112921/by_layer/layer_12/V3_num_p1_V3.npz with 1050 questions\n"
     ]
    },
    {
     "name": "stderr",
     "output_type": "stream",
     "text": [
      "Layer 13: 100%|██████████| 1050/1050 [00:03<00:00, 326.45it/s]\n"
     ]
    },
    {
     "name": "stdout",
     "output_type": "stream",
     "text": [
      "Created results/by_layer_20250911_112921/by_layer/layer_13/V3_num_p1_V3.npz with 1050 questions\n"
     ]
    },
    {
     "name": "stderr",
     "output_type": "stream",
     "text": [
      "Layer 14: 100%|██████████| 1050/1050 [00:01<00:00, 534.82it/s]\n"
     ]
    },
    {
     "name": "stdout",
     "output_type": "stream",
     "text": [
      "Created results/by_layer_20250911_112921/by_layer/layer_14/V3_num_p1_V3.npz with 1050 questions\n"
     ]
    },
    {
     "name": "stderr",
     "output_type": "stream",
     "text": [
      "Layer 15: 100%|██████████| 1050/1050 [00:01<00:00, 539.95it/s]\n"
     ]
    },
    {
     "name": "stdout",
     "output_type": "stream",
     "text": [
      "Created results/by_layer_20250911_112921/by_layer/layer_15/V3_num_p1_V3.npz with 1050 questions\n"
     ]
    },
    {
     "name": "stderr",
     "output_type": "stream",
     "text": [
      "Layer 16: 100%|██████████| 1050/1050 [00:01<00:00, 555.50it/s]\n"
     ]
    },
    {
     "name": "stdout",
     "output_type": "stream",
     "text": [
      "Created results/by_layer_20250911_112921/by_layer/layer_16/V3_num_p1_V3.npz with 1050 questions\n"
     ]
    },
    {
     "name": "stderr",
     "output_type": "stream",
     "text": [
      "Layer 17: 100%|██████████| 1050/1050 [00:01<00:00, 548.31it/s]\n"
     ]
    },
    {
     "name": "stdout",
     "output_type": "stream",
     "text": [
      "Created results/by_layer_20250911_112921/by_layer/layer_17/V3_num_p1_V3.npz with 1050 questions\n"
     ]
    },
    {
     "name": "stderr",
     "output_type": "stream",
     "text": [
      "Layer 18: 100%|██████████| 1050/1050 [00:01<00:00, 557.36it/s]\n"
     ]
    },
    {
     "name": "stdout",
     "output_type": "stream",
     "text": [
      "Created results/by_layer_20250911_112921/by_layer/layer_18/V3_num_p1_V3.npz with 1050 questions\n"
     ]
    },
    {
     "name": "stderr",
     "output_type": "stream",
     "text": [
      "Layer 19: 100%|██████████| 1050/1050 [00:01<00:00, 546.60it/s]\n"
     ]
    },
    {
     "name": "stdout",
     "output_type": "stream",
     "text": [
      "Created results/by_layer_20250911_112921/by_layer/layer_19/V3_num_p1_V3.npz with 1050 questions\n"
     ]
    },
    {
     "name": "stderr",
     "output_type": "stream",
     "text": [
      "Layer 20: 100%|██████████| 1050/1050 [00:01<00:00, 536.24it/s]\n"
     ]
    },
    {
     "name": "stdout",
     "output_type": "stream",
     "text": [
      "Created results/by_layer_20250911_112921/by_layer/layer_20/V3_num_p1_V3.npz with 1050 questions\n"
     ]
    },
    {
     "name": "stderr",
     "output_type": "stream",
     "text": [
      "Layer 21: 100%|██████████| 1050/1050 [00:02<00:00, 491.74it/s]\n"
     ]
    },
    {
     "name": "stdout",
     "output_type": "stream",
     "text": [
      "Created results/by_layer_20250911_112921/by_layer/layer_21/V3_num_p1_V3.npz with 1050 questions\n"
     ]
    },
    {
     "name": "stderr",
     "output_type": "stream",
     "text": [
      "Layer 22: 100%|██████████| 1050/1050 [00:01<00:00, 560.72it/s]\n"
     ]
    },
    {
     "name": "stdout",
     "output_type": "stream",
     "text": [
      "Created results/by_layer_20250911_112921/by_layer/layer_22/V3_num_p1_V3.npz with 1050 questions\n"
     ]
    },
    {
     "name": "stderr",
     "output_type": "stream",
     "text": [
      "Layer 23: 100%|██████████| 1050/1050 [00:01<00:00, 545.70it/s]\n"
     ]
    },
    {
     "name": "stdout",
     "output_type": "stream",
     "text": [
      "Created results/by_layer_20250911_112921/by_layer/layer_23/V3_num_p1_V3.npz with 1050 questions\n"
     ]
    },
    {
     "name": "stderr",
     "output_type": "stream",
     "text": [
      "Layer 24: 100%|██████████| 1050/1050 [00:01<00:00, 573.16it/s]\n"
     ]
    },
    {
     "name": "stdout",
     "output_type": "stream",
     "text": [
      "Created results/by_layer_20250911_112921/by_layer/layer_24/V3_num_p1_V3.npz with 1050 questions\n"
     ]
    },
    {
     "name": "stderr",
     "output_type": "stream",
     "text": [
      "Layer 25: 100%|██████████| 1050/1050 [00:01<00:00, 549.92it/s]\n"
     ]
    },
    {
     "name": "stdout",
     "output_type": "stream",
     "text": [
      "Created results/by_layer_20250911_112921/by_layer/layer_25/V3_num_p1_V3.npz with 1050 questions\n"
     ]
    },
    {
     "name": "stderr",
     "output_type": "stream",
     "text": [
      "Layer 26: 100%|██████████| 1050/1050 [00:01<00:00, 525.61it/s]\n"
     ]
    },
    {
     "name": "stdout",
     "output_type": "stream",
     "text": [
      "Created results/by_layer_20250911_112921/by_layer/layer_26/V3_num_p1_V3.npz with 1050 questions\n"
     ]
    },
    {
     "name": "stderr",
     "output_type": "stream",
     "text": [
      "Layer 27: 100%|██████████| 1050/1050 [00:02<00:00, 481.51it/s]\n"
     ]
    },
    {
     "name": "stdout",
     "output_type": "stream",
     "text": [
      "Created results/by_layer_20250911_112921/by_layer/layer_27/V3_num_p1_V3.npz with 1050 questions\n"
     ]
    },
    {
     "name": "stderr",
     "output_type": "stream",
     "text": [
      "Layer 28: 100%|██████████| 1050/1050 [00:02<00:00, 522.08it/s]\n"
     ]
    },
    {
     "name": "stdout",
     "output_type": "stream",
     "text": [
      "Created results/by_layer_20250911_112921/by_layer/layer_28/V3_num_p1_V3.npz with 1050 questions\n"
     ]
    },
    {
     "name": "stderr",
     "output_type": "stream",
     "text": [
      "Layer 29: 100%|██████████| 1050/1050 [00:01<00:00, 548.93it/s]\n"
     ]
    },
    {
     "name": "stdout",
     "output_type": "stream",
     "text": [
      "Created results/by_layer_20250911_112921/by_layer/layer_29/V3_num_p1_V3.npz with 1050 questions\n"
     ]
    },
    {
     "name": "stderr",
     "output_type": "stream",
     "text": [
      "Layer 30: 100%|██████████| 1050/1050 [00:01<00:00, 545.88it/s]\n"
     ]
    },
    {
     "name": "stdout",
     "output_type": "stream",
     "text": [
      "Created results/by_layer_20250911_112921/by_layer/layer_30/V3_num_p1_V3.npz with 1050 questions\n"
     ]
    },
    {
     "name": "stderr",
     "output_type": "stream",
     "text": [
      "Layer 31: 100%|██████████| 1050/1050 [00:02<00:00, 514.15it/s]\n"
     ]
    },
    {
     "name": "stdout",
     "output_type": "stream",
     "text": [
      "Created results/by_layer_20250911_112921/by_layer/layer_31/V3_num_p1_V3.npz with 1050 questions\n"
     ]
    },
    {
     "name": "stderr",
     "output_type": "stream",
     "text": [
      "Layer 32: 100%|██████████| 1050/1050 [00:01<00:00, 533.88it/s]\n"
     ]
    },
    {
     "name": "stdout",
     "output_type": "stream",
     "text": [
      "Created results/by_layer_20250911_112921/by_layer/layer_32/V3_num_p1_V3.npz with 1050 questions\n"
     ]
    },
    {
     "name": "stderr",
     "output_type": "stream",
     "text": [
      "Layer 33: 100%|██████████| 1050/1050 [00:01<00:00, 528.96it/s]\n"
     ]
    },
    {
     "name": "stdout",
     "output_type": "stream",
     "text": [
      "Created results/by_layer_20250911_112921/by_layer/layer_33/V3_num_p1_V3.npz with 1050 questions\n"
     ]
    },
    {
     "name": "stderr",
     "output_type": "stream",
     "text": [
      "Layer 34: 100%|██████████| 1050/1050 [00:02<00:00, 524.45it/s]\n"
     ]
    },
    {
     "name": "stdout",
     "output_type": "stream",
     "text": [
      "Created results/by_layer_20250911_112921/by_layer/layer_34/V3_num_p1_V3.npz with 1050 questions\n",
      "\n",
      "Processing experiment 40/60: results/comprehensive_experiments/run_20250911_062422/V1_alpha_p3\n",
      "Processing experiment: results/comprehensive_experiments/run_20250911_062422/V1_alpha_p3\n",
      "File: hidden_states_V1.npz, Layers: 35, Hidden dim: 2560\n"
     ]
    },
    {
     "name": "stderr",
     "output_type": "stream",
     "text": [
      "Layer 00: 100%|██████████| 1050/1050 [00:03<00:00, 333.53it/s]\n"
     ]
    },
    {
     "name": "stdout",
     "output_type": "stream",
     "text": [
      "Created results/by_layer_20250911_112921/by_layer/layer_00/V1_alpha_p3_V1.npz with 1050 questions\n"
     ]
    },
    {
     "name": "stderr",
     "output_type": "stream",
     "text": [
      "Layer 01: 100%|██████████| 1050/1050 [00:02<00:00, 518.63it/s]\n"
     ]
    },
    {
     "name": "stdout",
     "output_type": "stream",
     "text": [
      "Created results/by_layer_20250911_112921/by_layer/layer_01/V1_alpha_p3_V1.npz with 1050 questions\n"
     ]
    },
    {
     "name": "stderr",
     "output_type": "stream",
     "text": [
      "Layer 02: 100%|██████████| 1050/1050 [00:02<00:00, 510.90it/s]\n"
     ]
    },
    {
     "name": "stdout",
     "output_type": "stream",
     "text": [
      "Created results/by_layer_20250911_112921/by_layer/layer_02/V1_alpha_p3_V1.npz with 1050 questions\n"
     ]
    },
    {
     "name": "stderr",
     "output_type": "stream",
     "text": [
      "Layer 03: 100%|██████████| 1050/1050 [00:01<00:00, 542.05it/s]\n"
     ]
    },
    {
     "name": "stdout",
     "output_type": "stream",
     "text": [
      "Created results/by_layer_20250911_112921/by_layer/layer_03/V1_alpha_p3_V1.npz with 1050 questions\n"
     ]
    },
    {
     "name": "stderr",
     "output_type": "stream",
     "text": [
      "Layer 04: 100%|██████████| 1050/1050 [00:02<00:00, 400.09it/s]\n"
     ]
    },
    {
     "name": "stdout",
     "output_type": "stream",
     "text": [
      "Created results/by_layer_20250911_112921/by_layer/layer_04/V1_alpha_p3_V1.npz with 1050 questions\n"
     ]
    },
    {
     "name": "stderr",
     "output_type": "stream",
     "text": [
      "Layer 05: 100%|██████████| 1050/1050 [00:01<00:00, 527.53it/s]\n"
     ]
    },
    {
     "name": "stdout",
     "output_type": "stream",
     "text": [
      "Created results/by_layer_20250911_112921/by_layer/layer_05/V1_alpha_p3_V1.npz with 1050 questions\n"
     ]
    },
    {
     "name": "stderr",
     "output_type": "stream",
     "text": [
      "Layer 06: 100%|██████████| 1050/1050 [00:02<00:00, 440.11it/s]\n"
     ]
    },
    {
     "name": "stdout",
     "output_type": "stream",
     "text": [
      "Created results/by_layer_20250911_112921/by_layer/layer_06/V1_alpha_p3_V1.npz with 1050 questions\n"
     ]
    },
    {
     "name": "stderr",
     "output_type": "stream",
     "text": [
      "Layer 07: 100%|██████████| 1050/1050 [00:02<00:00, 501.14it/s]\n"
     ]
    },
    {
     "name": "stdout",
     "output_type": "stream",
     "text": [
      "Created results/by_layer_20250911_112921/by_layer/layer_07/V1_alpha_p3_V1.npz with 1050 questions\n"
     ]
    },
    {
     "name": "stderr",
     "output_type": "stream",
     "text": [
      "Layer 08: 100%|██████████| 1050/1050 [00:02<00:00, 522.26it/s]\n"
     ]
    },
    {
     "name": "stdout",
     "output_type": "stream",
     "text": [
      "Created results/by_layer_20250911_112921/by_layer/layer_08/V1_alpha_p3_V1.npz with 1050 questions\n"
     ]
    },
    {
     "name": "stderr",
     "output_type": "stream",
     "text": [
      "Layer 09: 100%|██████████| 1050/1050 [00:01<00:00, 537.95it/s]\n"
     ]
    },
    {
     "name": "stdout",
     "output_type": "stream",
     "text": [
      "Created results/by_layer_20250911_112921/by_layer/layer_09/V1_alpha_p3_V1.npz with 1050 questions\n"
     ]
    },
    {
     "name": "stderr",
     "output_type": "stream",
     "text": [
      "Layer 10: 100%|██████████| 1050/1050 [00:02<00:00, 503.62it/s]\n"
     ]
    },
    {
     "name": "stdout",
     "output_type": "stream",
     "text": [
      "Created results/by_layer_20250911_112921/by_layer/layer_10/V1_alpha_p3_V1.npz with 1050 questions\n"
     ]
    },
    {
     "name": "stderr",
     "output_type": "stream",
     "text": [
      "Layer 11: 100%|██████████| 1050/1050 [00:02<00:00, 479.30it/s]\n"
     ]
    },
    {
     "name": "stdout",
     "output_type": "stream",
     "text": [
      "Created results/by_layer_20250911_112921/by_layer/layer_11/V1_alpha_p3_V1.npz with 1050 questions\n"
     ]
    },
    {
     "name": "stderr",
     "output_type": "stream",
     "text": [
      "Layer 12: 100%|██████████| 1050/1050 [00:02<00:00, 519.28it/s]\n"
     ]
    },
    {
     "name": "stdout",
     "output_type": "stream",
     "text": [
      "Created results/by_layer_20250911_112921/by_layer/layer_12/V1_alpha_p3_V1.npz with 1050 questions\n"
     ]
    },
    {
     "name": "stderr",
     "output_type": "stream",
     "text": [
      "Layer 13: 100%|██████████| 1050/1050 [00:02<00:00, 488.86it/s]\n"
     ]
    },
    {
     "name": "stdout",
     "output_type": "stream",
     "text": [
      "Created results/by_layer_20250911_112921/by_layer/layer_13/V1_alpha_p3_V1.npz with 1050 questions\n"
     ]
    },
    {
     "name": "stderr",
     "output_type": "stream",
     "text": [
      "Layer 14: 100%|██████████| 1050/1050 [00:02<00:00, 509.12it/s]\n"
     ]
    },
    {
     "name": "stdout",
     "output_type": "stream",
     "text": [
      "Created results/by_layer_20250911_112921/by_layer/layer_14/V1_alpha_p3_V1.npz with 1050 questions\n"
     ]
    },
    {
     "name": "stderr",
     "output_type": "stream",
     "text": [
      "Layer 15: 100%|██████████| 1050/1050 [00:02<00:00, 474.49it/s]\n"
     ]
    },
    {
     "name": "stdout",
     "output_type": "stream",
     "text": [
      "Created results/by_layer_20250911_112921/by_layer/layer_15/V1_alpha_p3_V1.npz with 1050 questions\n"
     ]
    },
    {
     "name": "stderr",
     "output_type": "stream",
     "text": [
      "Layer 16: 100%|██████████| 1050/1050 [00:02<00:00, 485.60it/s]\n"
     ]
    },
    {
     "name": "stdout",
     "output_type": "stream",
     "text": [
      "Created results/by_layer_20250911_112921/by_layer/layer_16/V1_alpha_p3_V1.npz with 1050 questions\n"
     ]
    },
    {
     "name": "stderr",
     "output_type": "stream",
     "text": [
      "Layer 17: 100%|██████████| 1050/1050 [00:02<00:00, 507.46it/s]\n"
     ]
    },
    {
     "name": "stdout",
     "output_type": "stream",
     "text": [
      "Created results/by_layer_20250911_112921/by_layer/layer_17/V1_alpha_p3_V1.npz with 1050 questions\n"
     ]
    },
    {
     "name": "stderr",
     "output_type": "stream",
     "text": [
      "Layer 18: 100%|██████████| 1050/1050 [00:01<00:00, 531.37it/s]\n"
     ]
    },
    {
     "name": "stdout",
     "output_type": "stream",
     "text": [
      "Created results/by_layer_20250911_112921/by_layer/layer_18/V1_alpha_p3_V1.npz with 1050 questions\n"
     ]
    },
    {
     "name": "stderr",
     "output_type": "stream",
     "text": [
      "Layer 19: 100%|██████████| 1050/1050 [00:02<00:00, 522.38it/s]\n"
     ]
    },
    {
     "name": "stdout",
     "output_type": "stream",
     "text": [
      "Created results/by_layer_20250911_112921/by_layer/layer_19/V1_alpha_p3_V1.npz with 1050 questions\n"
     ]
    },
    {
     "name": "stderr",
     "output_type": "stream",
     "text": [
      "Layer 20: 100%|██████████| 1050/1050 [00:01<00:00, 536.81it/s]\n"
     ]
    },
    {
     "name": "stdout",
     "output_type": "stream",
     "text": [
      "Created results/by_layer_20250911_112921/by_layer/layer_20/V1_alpha_p3_V1.npz with 1050 questions\n"
     ]
    },
    {
     "name": "stderr",
     "output_type": "stream",
     "text": [
      "Layer 21: 100%|██████████| 1050/1050 [00:01<00:00, 544.49it/s]\n"
     ]
    },
    {
     "name": "stdout",
     "output_type": "stream",
     "text": [
      "Created results/by_layer_20250911_112921/by_layer/layer_21/V1_alpha_p3_V1.npz with 1050 questions\n"
     ]
    },
    {
     "name": "stderr",
     "output_type": "stream",
     "text": [
      "Layer 22: 100%|██████████| 1050/1050 [00:02<00:00, 426.57it/s]\n"
     ]
    },
    {
     "name": "stdout",
     "output_type": "stream",
     "text": [
      "Created results/by_layer_20250911_112921/by_layer/layer_22/V1_alpha_p3_V1.npz with 1050 questions\n"
     ]
    },
    {
     "name": "stderr",
     "output_type": "stream",
     "text": [
      "Layer 23: 100%|██████████| 1050/1050 [00:01<00:00, 559.13it/s]\n"
     ]
    },
    {
     "name": "stdout",
     "output_type": "stream",
     "text": [
      "Created results/by_layer_20250911_112921/by_layer/layer_23/V1_alpha_p3_V1.npz with 1050 questions\n"
     ]
    },
    {
     "name": "stderr",
     "output_type": "stream",
     "text": [
      "Layer 24: 100%|██████████| 1050/1050 [00:01<00:00, 531.11it/s]\n"
     ]
    },
    {
     "name": "stdout",
     "output_type": "stream",
     "text": [
      "Created results/by_layer_20250911_112921/by_layer/layer_24/V1_alpha_p3_V1.npz with 1050 questions\n"
     ]
    },
    {
     "name": "stderr",
     "output_type": "stream",
     "text": [
      "Layer 25: 100%|██████████| 1050/1050 [00:02<00:00, 504.85it/s]\n"
     ]
    },
    {
     "name": "stdout",
     "output_type": "stream",
     "text": [
      "Created results/by_layer_20250911_112921/by_layer/layer_25/V1_alpha_p3_V1.npz with 1050 questions\n"
     ]
    },
    {
     "name": "stderr",
     "output_type": "stream",
     "text": [
      "Layer 26: 100%|██████████| 1050/1050 [00:02<00:00, 517.58it/s]\n"
     ]
    },
    {
     "name": "stdout",
     "output_type": "stream",
     "text": [
      "Created results/by_layer_20250911_112921/by_layer/layer_26/V1_alpha_p3_V1.npz with 1050 questions\n"
     ]
    },
    {
     "name": "stderr",
     "output_type": "stream",
     "text": [
      "Layer 27: 100%|██████████| 1050/1050 [00:02<00:00, 420.51it/s]\n"
     ]
    },
    {
     "name": "stdout",
     "output_type": "stream",
     "text": [
      "Created results/by_layer_20250911_112921/by_layer/layer_27/V1_alpha_p3_V1.npz with 1050 questions\n"
     ]
    },
    {
     "name": "stderr",
     "output_type": "stream",
     "text": [
      "Layer 28: 100%|██████████| 1050/1050 [00:02<00:00, 501.35it/s]\n"
     ]
    },
    {
     "name": "stdout",
     "output_type": "stream",
     "text": [
      "Created results/by_layer_20250911_112921/by_layer/layer_28/V1_alpha_p3_V1.npz with 1050 questions\n"
     ]
    },
    {
     "name": "stderr",
     "output_type": "stream",
     "text": [
      "Layer 29: 100%|██████████| 1050/1050 [00:02<00:00, 367.62it/s]\n"
     ]
    },
    {
     "name": "stdout",
     "output_type": "stream",
     "text": [
      "Created results/by_layer_20250911_112921/by_layer/layer_29/V1_alpha_p3_V1.npz with 1050 questions\n"
     ]
    },
    {
     "name": "stderr",
     "output_type": "stream",
     "text": [
      "Layer 30: 100%|██████████| 1050/1050 [00:02<00:00, 493.75it/s]\n"
     ]
    },
    {
     "name": "stdout",
     "output_type": "stream",
     "text": [
      "Created results/by_layer_20250911_112921/by_layer/layer_30/V1_alpha_p3_V1.npz with 1050 questions\n"
     ]
    },
    {
     "name": "stderr",
     "output_type": "stream",
     "text": [
      "Layer 31: 100%|██████████| 1050/1050 [00:02<00:00, 467.28it/s]\n"
     ]
    },
    {
     "name": "stdout",
     "output_type": "stream",
     "text": [
      "Created results/by_layer_20250911_112921/by_layer/layer_31/V1_alpha_p3_V1.npz with 1050 questions\n"
     ]
    },
    {
     "name": "stderr",
     "output_type": "stream",
     "text": [
      "Layer 32: 100%|██████████| 1050/1050 [00:01<00:00, 534.60it/s]\n"
     ]
    },
    {
     "name": "stdout",
     "output_type": "stream",
     "text": [
      "Created results/by_layer_20250911_112921/by_layer/layer_32/V1_alpha_p3_V1.npz with 1050 questions\n"
     ]
    },
    {
     "name": "stderr",
     "output_type": "stream",
     "text": [
      "Layer 33: 100%|██████████| 1050/1050 [00:02<00:00, 501.86it/s]\n"
     ]
    },
    {
     "name": "stdout",
     "output_type": "stream",
     "text": [
      "Created results/by_layer_20250911_112921/by_layer/layer_33/V1_alpha_p3_V1.npz with 1050 questions\n"
     ]
    },
    {
     "name": "stderr",
     "output_type": "stream",
     "text": [
      "Layer 34: 100%|██████████| 1050/1050 [00:01<00:00, 545.01it/s]\n"
     ]
    },
    {
     "name": "stdout",
     "output_type": "stream",
     "text": [
      "Created results/by_layer_20250911_112921/by_layer/layer_34/V1_alpha_p3_V1.npz with 1050 questions\n",
      "\n",
      "Processing experiment 41/60: results/comprehensive_experiments/run_20250911_062422/V2_alpha_p3\n",
      "Processing experiment: results/comprehensive_experiments/run_20250911_062422/V2_alpha_p3\n",
      "File: hidden_states_V2.npz, Layers: 35, Hidden dim: 2560\n"
     ]
    },
    {
     "name": "stderr",
     "output_type": "stream",
     "text": [
      "Layer 00: 100%|██████████| 1050/1050 [00:03<00:00, 285.79it/s]\n"
     ]
    },
    {
     "name": "stdout",
     "output_type": "stream",
     "text": [
      "Created results/by_layer_20250911_112921/by_layer/layer_00/V2_alpha_p3_V2.npz with 1050 questions\n"
     ]
    },
    {
     "name": "stderr",
     "output_type": "stream",
     "text": [
      "Layer 01: 100%|██████████| 1050/1050 [00:02<00:00, 462.75it/s]\n"
     ]
    },
    {
     "name": "stdout",
     "output_type": "stream",
     "text": [
      "Created results/by_layer_20250911_112921/by_layer/layer_01/V2_alpha_p3_V2.npz with 1050 questions\n"
     ]
    },
    {
     "name": "stderr",
     "output_type": "stream",
     "text": [
      "Layer 02: 100%|██████████| 1050/1050 [00:03<00:00, 346.52it/s]\n"
     ]
    },
    {
     "name": "stdout",
     "output_type": "stream",
     "text": [
      "Created results/by_layer_20250911_112921/by_layer/layer_02/V2_alpha_p3_V2.npz with 1050 questions\n"
     ]
    },
    {
     "name": "stderr",
     "output_type": "stream",
     "text": [
      "Layer 03: 100%|██████████| 1050/1050 [00:01<00:00, 533.04it/s]\n"
     ]
    },
    {
     "name": "stdout",
     "output_type": "stream",
     "text": [
      "Created results/by_layer_20250911_112921/by_layer/layer_03/V2_alpha_p3_V2.npz with 1050 questions\n"
     ]
    },
    {
     "name": "stderr",
     "output_type": "stream",
     "text": [
      "Layer 04: 100%|██████████| 1050/1050 [00:01<00:00, 546.53it/s]\n"
     ]
    },
    {
     "name": "stdout",
     "output_type": "stream",
     "text": [
      "Created results/by_layer_20250911_112921/by_layer/layer_04/V2_alpha_p3_V2.npz with 1050 questions\n"
     ]
    },
    {
     "name": "stderr",
     "output_type": "stream",
     "text": [
      "Layer 05: 100%|██████████| 1050/1050 [00:01<00:00, 534.08it/s]\n"
     ]
    },
    {
     "name": "stdout",
     "output_type": "stream",
     "text": [
      "Created results/by_layer_20250911_112921/by_layer/layer_05/V2_alpha_p3_V2.npz with 1050 questions\n"
     ]
    },
    {
     "name": "stderr",
     "output_type": "stream",
     "text": [
      "Layer 06: 100%|██████████| 1050/1050 [00:02<00:00, 513.13it/s]\n"
     ]
    },
    {
     "name": "stdout",
     "output_type": "stream",
     "text": [
      "Created results/by_layer_20250911_112921/by_layer/layer_06/V2_alpha_p3_V2.npz with 1050 questions\n"
     ]
    },
    {
     "name": "stderr",
     "output_type": "stream",
     "text": [
      "Layer 07: 100%|██████████| 1050/1050 [00:02<00:00, 484.52it/s]\n"
     ]
    },
    {
     "name": "stdout",
     "output_type": "stream",
     "text": [
      "Created results/by_layer_20250911_112921/by_layer/layer_07/V2_alpha_p3_V2.npz with 1050 questions\n"
     ]
    },
    {
     "name": "stderr",
     "output_type": "stream",
     "text": [
      "Layer 08: 100%|██████████| 1050/1050 [00:02<00:00, 510.28it/s]\n"
     ]
    },
    {
     "name": "stdout",
     "output_type": "stream",
     "text": [
      "Created results/by_layer_20250911_112921/by_layer/layer_08/V2_alpha_p3_V2.npz with 1050 questions\n"
     ]
    },
    {
     "name": "stderr",
     "output_type": "stream",
     "text": [
      "Layer 09: 100%|██████████| 1050/1050 [00:02<00:00, 517.67it/s]\n"
     ]
    },
    {
     "name": "stdout",
     "output_type": "stream",
     "text": [
      "Created results/by_layer_20250911_112921/by_layer/layer_09/V2_alpha_p3_V2.npz with 1050 questions\n"
     ]
    },
    {
     "name": "stderr",
     "output_type": "stream",
     "text": [
      "Layer 10: 100%|██████████| 1050/1050 [00:02<00:00, 509.33it/s]\n"
     ]
    },
    {
     "name": "stdout",
     "output_type": "stream",
     "text": [
      "Created results/by_layer_20250911_112921/by_layer/layer_10/V2_alpha_p3_V2.npz with 1050 questions\n"
     ]
    },
    {
     "name": "stderr",
     "output_type": "stream",
     "text": [
      "Layer 11: 100%|██████████| 1050/1050 [00:01<00:00, 542.66it/s]\n"
     ]
    },
    {
     "name": "stdout",
     "output_type": "stream",
     "text": [
      "Created results/by_layer_20250911_112921/by_layer/layer_11/V2_alpha_p3_V2.npz with 1050 questions\n"
     ]
    },
    {
     "name": "stderr",
     "output_type": "stream",
     "text": [
      "Layer 12: 100%|██████████| 1050/1050 [00:01<00:00, 570.16it/s]\n"
     ]
    },
    {
     "name": "stdout",
     "output_type": "stream",
     "text": [
      "Created results/by_layer_20250911_112921/by_layer/layer_12/V2_alpha_p3_V2.npz with 1050 questions\n"
     ]
    },
    {
     "name": "stderr",
     "output_type": "stream",
     "text": [
      "Layer 13: 100%|██████████| 1050/1050 [00:02<00:00, 502.30it/s]\n"
     ]
    },
    {
     "name": "stdout",
     "output_type": "stream",
     "text": [
      "Created results/by_layer_20250911_112921/by_layer/layer_13/V2_alpha_p3_V2.npz with 1050 questions\n"
     ]
    },
    {
     "name": "stderr",
     "output_type": "stream",
     "text": [
      "Layer 14: 100%|██████████| 1050/1050 [00:02<00:00, 503.51it/s]\n"
     ]
    },
    {
     "name": "stdout",
     "output_type": "stream",
     "text": [
      "Created results/by_layer_20250911_112921/by_layer/layer_14/V2_alpha_p3_V2.npz with 1050 questions\n"
     ]
    },
    {
     "name": "stderr",
     "output_type": "stream",
     "text": [
      "Layer 15: 100%|██████████| 1050/1050 [00:02<00:00, 507.62it/s]\n"
     ]
    },
    {
     "name": "stdout",
     "output_type": "stream",
     "text": [
      "Created results/by_layer_20250911_112921/by_layer/layer_15/V2_alpha_p3_V2.npz with 1050 questions\n"
     ]
    },
    {
     "name": "stderr",
     "output_type": "stream",
     "text": [
      "Layer 16: 100%|██████████| 1050/1050 [00:02<00:00, 502.20it/s]\n"
     ]
    },
    {
     "name": "stdout",
     "output_type": "stream",
     "text": [
      "Created results/by_layer_20250911_112921/by_layer/layer_16/V2_alpha_p3_V2.npz with 1050 questions\n"
     ]
    },
    {
     "name": "stderr",
     "output_type": "stream",
     "text": [
      "Layer 17: 100%|██████████| 1050/1050 [00:02<00:00, 432.66it/s]\n"
     ]
    },
    {
     "name": "stdout",
     "output_type": "stream",
     "text": [
      "Created results/by_layer_20250911_112921/by_layer/layer_17/V2_alpha_p3_V2.npz with 1050 questions\n"
     ]
    },
    {
     "name": "stderr",
     "output_type": "stream",
     "text": [
      "Layer 18: 100%|██████████| 1050/1050 [00:02<00:00, 504.21it/s]\n"
     ]
    },
    {
     "name": "stdout",
     "output_type": "stream",
     "text": [
      "Created results/by_layer_20250911_112921/by_layer/layer_18/V2_alpha_p3_V2.npz with 1050 questions\n"
     ]
    },
    {
     "name": "stderr",
     "output_type": "stream",
     "text": [
      "Layer 19: 100%|██████████| 1050/1050 [00:03<00:00, 336.90it/s]\n"
     ]
    },
    {
     "name": "stdout",
     "output_type": "stream",
     "text": [
      "Created results/by_layer_20250911_112921/by_layer/layer_19/V2_alpha_p3_V2.npz with 1050 questions\n"
     ]
    },
    {
     "name": "stderr",
     "output_type": "stream",
     "text": [
      "Layer 20: 100%|██████████| 1050/1050 [00:01<00:00, 537.74it/s]\n"
     ]
    },
    {
     "name": "stdout",
     "output_type": "stream",
     "text": [
      "Created results/by_layer_20250911_112921/by_layer/layer_20/V2_alpha_p3_V2.npz with 1050 questions\n"
     ]
    },
    {
     "name": "stderr",
     "output_type": "stream",
     "text": [
      "Layer 21: 100%|██████████| 1050/1050 [00:01<00:00, 529.86it/s]\n"
     ]
    },
    {
     "name": "stdout",
     "output_type": "stream",
     "text": [
      "Created results/by_layer_20250911_112921/by_layer/layer_21/V2_alpha_p3_V2.npz with 1050 questions\n"
     ]
    },
    {
     "name": "stderr",
     "output_type": "stream",
     "text": [
      "Layer 22: 100%|██████████| 1050/1050 [00:02<00:00, 516.64it/s]\n"
     ]
    },
    {
     "name": "stdout",
     "output_type": "stream",
     "text": [
      "Created results/by_layer_20250911_112921/by_layer/layer_22/V2_alpha_p3_V2.npz with 1050 questions\n"
     ]
    },
    {
     "name": "stderr",
     "output_type": "stream",
     "text": [
      "Layer 23: 100%|██████████| 1050/1050 [00:02<00:00, 509.57it/s]\n"
     ]
    },
    {
     "name": "stdout",
     "output_type": "stream",
     "text": [
      "Created results/by_layer_20250911_112921/by_layer/layer_23/V2_alpha_p3_V2.npz with 1050 questions\n"
     ]
    },
    {
     "name": "stderr",
     "output_type": "stream",
     "text": [
      "Layer 24: 100%|██████████| 1050/1050 [00:02<00:00, 521.51it/s]\n"
     ]
    },
    {
     "name": "stdout",
     "output_type": "stream",
     "text": [
      "Created results/by_layer_20250911_112921/by_layer/layer_24/V2_alpha_p3_V2.npz with 1050 questions\n"
     ]
    },
    {
     "name": "stderr",
     "output_type": "stream",
     "text": [
      "Layer 25: 100%|██████████| 1050/1050 [00:02<00:00, 501.73it/s]\n"
     ]
    },
    {
     "name": "stdout",
     "output_type": "stream",
     "text": [
      "Created results/by_layer_20250911_112921/by_layer/layer_25/V2_alpha_p3_V2.npz with 1050 questions\n"
     ]
    },
    {
     "name": "stderr",
     "output_type": "stream",
     "text": [
      "Layer 26: 100%|██████████| 1050/1050 [00:02<00:00, 490.02it/s]\n"
     ]
    },
    {
     "name": "stdout",
     "output_type": "stream",
     "text": [
      "Created results/by_layer_20250911_112921/by_layer/layer_26/V2_alpha_p3_V2.npz with 1050 questions\n"
     ]
    },
    {
     "name": "stderr",
     "output_type": "stream",
     "text": [
      "Layer 27: 100%|██████████| 1050/1050 [00:02<00:00, 489.83it/s]\n"
     ]
    },
    {
     "name": "stdout",
     "output_type": "stream",
     "text": [
      "Created results/by_layer_20250911_112921/by_layer/layer_27/V2_alpha_p3_V2.npz with 1050 questions\n"
     ]
    },
    {
     "name": "stderr",
     "output_type": "stream",
     "text": [
      "Layer 28: 100%|██████████| 1050/1050 [00:02<00:00, 511.26it/s]\n"
     ]
    },
    {
     "name": "stdout",
     "output_type": "stream",
     "text": [
      "Created results/by_layer_20250911_112921/by_layer/layer_28/V2_alpha_p3_V2.npz with 1050 questions\n"
     ]
    },
    {
     "name": "stderr",
     "output_type": "stream",
     "text": [
      "Layer 29: 100%|██████████| 1050/1050 [00:02<00:00, 520.72it/s]\n"
     ]
    },
    {
     "name": "stdout",
     "output_type": "stream",
     "text": [
      "Created results/by_layer_20250911_112921/by_layer/layer_29/V2_alpha_p3_V2.npz with 1050 questions\n"
     ]
    },
    {
     "name": "stderr",
     "output_type": "stream",
     "text": [
      "Layer 30: 100%|██████████| 1050/1050 [00:02<00:00, 480.85it/s]\n"
     ]
    },
    {
     "name": "stdout",
     "output_type": "stream",
     "text": [
      "Created results/by_layer_20250911_112921/by_layer/layer_30/V2_alpha_p3_V2.npz with 1050 questions\n"
     ]
    },
    {
     "name": "stderr",
     "output_type": "stream",
     "text": [
      "Layer 31: 100%|██████████| 1050/1050 [00:02<00:00, 506.89it/s]\n"
     ]
    },
    {
     "name": "stdout",
     "output_type": "stream",
     "text": [
      "Created results/by_layer_20250911_112921/by_layer/layer_31/V2_alpha_p3_V2.npz with 1050 questions\n"
     ]
    },
    {
     "name": "stderr",
     "output_type": "stream",
     "text": [
      "Layer 32: 100%|██████████| 1050/1050 [00:02<00:00, 421.18it/s]\n"
     ]
    },
    {
     "name": "stdout",
     "output_type": "stream",
     "text": [
      "Created results/by_layer_20250911_112921/by_layer/layer_32/V2_alpha_p3_V2.npz with 1050 questions\n"
     ]
    },
    {
     "name": "stderr",
     "output_type": "stream",
     "text": [
      "Layer 33: 100%|██████████| 1050/1050 [00:02<00:00, 497.11it/s]\n"
     ]
    },
    {
     "name": "stdout",
     "output_type": "stream",
     "text": [
      "Created results/by_layer_20250911_112921/by_layer/layer_33/V2_alpha_p3_V2.npz with 1050 questions\n"
     ]
    },
    {
     "name": "stderr",
     "output_type": "stream",
     "text": [
      "Layer 34: 100%|██████████| 1050/1050 [00:02<00:00, 505.01it/s]\n"
     ]
    },
    {
     "name": "stdout",
     "output_type": "stream",
     "text": [
      "Created results/by_layer_20250911_112921/by_layer/layer_34/V2_alpha_p3_V2.npz with 1050 questions\n",
      "\n",
      "Processing experiment 42/60: results/comprehensive_experiments/run_20250911_062422/V0_num_p5\n",
      "Processing experiment: results/comprehensive_experiments/run_20250911_062422/V0_num_p5\n",
      "File: hidden_states_V0.npz, Layers: 35, Hidden dim: 2560\n"
     ]
    },
    {
     "name": "stderr",
     "output_type": "stream",
     "text": [
      "Layer 00: 100%|██████████| 1050/1050 [00:04<00:00, 251.26it/s]\n"
     ]
    },
    {
     "name": "stdout",
     "output_type": "stream",
     "text": [
      "Created results/by_layer_20250911_112921/by_layer/layer_00/V0_num_p5_V0.npz with 1050 questions\n"
     ]
    },
    {
     "name": "stderr",
     "output_type": "stream",
     "text": [
      "Layer 01: 100%|██████████| 1050/1050 [00:02<00:00, 480.19it/s]\n"
     ]
    },
    {
     "name": "stdout",
     "output_type": "stream",
     "text": [
      "Created results/by_layer_20250911_112921/by_layer/layer_01/V0_num_p5_V0.npz with 1050 questions\n"
     ]
    },
    {
     "name": "stderr",
     "output_type": "stream",
     "text": [
      "Layer 02: 100%|██████████| 1050/1050 [00:01<00:00, 529.98it/s]\n"
     ]
    },
    {
     "name": "stdout",
     "output_type": "stream",
     "text": [
      "Created results/by_layer_20250911_112921/by_layer/layer_02/V0_num_p5_V0.npz with 1050 questions\n"
     ]
    },
    {
     "name": "stderr",
     "output_type": "stream",
     "text": [
      "Layer 03: 100%|██████████| 1050/1050 [00:02<00:00, 430.63it/s]\n"
     ]
    },
    {
     "name": "stdout",
     "output_type": "stream",
     "text": [
      "Created results/by_layer_20250911_112921/by_layer/layer_03/V0_num_p5_V0.npz with 1050 questions\n"
     ]
    },
    {
     "name": "stderr",
     "output_type": "stream",
     "text": [
      "Layer 04: 100%|██████████| 1050/1050 [00:01<00:00, 545.48it/s]\n"
     ]
    },
    {
     "name": "stdout",
     "output_type": "stream",
     "text": [
      "Created results/by_layer_20250911_112921/by_layer/layer_04/V0_num_p5_V0.npz with 1050 questions\n"
     ]
    },
    {
     "name": "stderr",
     "output_type": "stream",
     "text": [
      "Layer 05: 100%|██████████| 1050/1050 [00:02<00:00, 490.76it/s]\n"
     ]
    },
    {
     "name": "stdout",
     "output_type": "stream",
     "text": [
      "Created results/by_layer_20250911_112921/by_layer/layer_05/V0_num_p5_V0.npz with 1050 questions\n"
     ]
    },
    {
     "name": "stderr",
     "output_type": "stream",
     "text": [
      "Layer 06: 100%|██████████| 1050/1050 [00:02<00:00, 511.06it/s]\n"
     ]
    },
    {
     "name": "stdout",
     "output_type": "stream",
     "text": [
      "Created results/by_layer_20250911_112921/by_layer/layer_06/V0_num_p5_V0.npz with 1050 questions\n"
     ]
    },
    {
     "name": "stderr",
     "output_type": "stream",
     "text": [
      "Layer 07: 100%|██████████| 1050/1050 [00:02<00:00, 490.24it/s]\n"
     ]
    },
    {
     "name": "stdout",
     "output_type": "stream",
     "text": [
      "Created results/by_layer_20250911_112921/by_layer/layer_07/V0_num_p5_V0.npz with 1050 questions\n"
     ]
    },
    {
     "name": "stderr",
     "output_type": "stream",
     "text": [
      "Layer 08: 100%|██████████| 1050/1050 [00:02<00:00, 490.10it/s]\n"
     ]
    },
    {
     "name": "stdout",
     "output_type": "stream",
     "text": [
      "Created results/by_layer_20250911_112921/by_layer/layer_08/V0_num_p5_V0.npz with 1050 questions\n"
     ]
    },
    {
     "name": "stderr",
     "output_type": "stream",
     "text": [
      "Layer 09: 100%|██████████| 1050/1050 [00:02<00:00, 484.89it/s]\n"
     ]
    },
    {
     "name": "stdout",
     "output_type": "stream",
     "text": [
      "Created results/by_layer_20250911_112921/by_layer/layer_09/V0_num_p5_V0.npz with 1050 questions\n"
     ]
    },
    {
     "name": "stderr",
     "output_type": "stream",
     "text": [
      "Layer 10: 100%|██████████| 1050/1050 [00:01<00:00, 548.27it/s]\n"
     ]
    },
    {
     "name": "stdout",
     "output_type": "stream",
     "text": [
      "Created results/by_layer_20250911_112921/by_layer/layer_10/V0_num_p5_V0.npz with 1050 questions\n"
     ]
    },
    {
     "name": "stderr",
     "output_type": "stream",
     "text": [
      "Layer 11: 100%|██████████| 1050/1050 [00:02<00:00, 452.36it/s]\n"
     ]
    },
    {
     "name": "stdout",
     "output_type": "stream",
     "text": [
      "Created results/by_layer_20250911_112921/by_layer/layer_11/V0_num_p5_V0.npz with 1050 questions\n"
     ]
    },
    {
     "name": "stderr",
     "output_type": "stream",
     "text": [
      "Layer 12: 100%|██████████| 1050/1050 [00:01<00:00, 545.00it/s]\n"
     ]
    },
    {
     "name": "stdout",
     "output_type": "stream",
     "text": [
      "Created results/by_layer_20250911_112921/by_layer/layer_12/V0_num_p5_V0.npz with 1050 questions\n"
     ]
    },
    {
     "name": "stderr",
     "output_type": "stream",
     "text": [
      "Layer 13: 100%|██████████| 1050/1050 [00:02<00:00, 498.43it/s]\n"
     ]
    },
    {
     "name": "stdout",
     "output_type": "stream",
     "text": [
      "Created results/by_layer_20250911_112921/by_layer/layer_13/V0_num_p5_V0.npz with 1050 questions\n"
     ]
    },
    {
     "name": "stderr",
     "output_type": "stream",
     "text": [
      "Layer 14: 100%|██████████| 1050/1050 [00:01<00:00, 536.71it/s]\n"
     ]
    },
    {
     "name": "stdout",
     "output_type": "stream",
     "text": [
      "Created results/by_layer_20250911_112921/by_layer/layer_14/V0_num_p5_V0.npz with 1050 questions\n"
     ]
    },
    {
     "name": "stderr",
     "output_type": "stream",
     "text": [
      "Layer 15: 100%|██████████| 1050/1050 [00:02<00:00, 454.56it/s]\n"
     ]
    },
    {
     "name": "stdout",
     "output_type": "stream",
     "text": [
      "Created results/by_layer_20250911_112921/by_layer/layer_15/V0_num_p5_V0.npz with 1050 questions\n"
     ]
    },
    {
     "name": "stderr",
     "output_type": "stream",
     "text": [
      "Layer 16: 100%|██████████| 1050/1050 [00:02<00:00, 520.21it/s]\n"
     ]
    },
    {
     "name": "stdout",
     "output_type": "stream",
     "text": [
      "Created results/by_layer_20250911_112921/by_layer/layer_16/V0_num_p5_V0.npz with 1050 questions\n"
     ]
    },
    {
     "name": "stderr",
     "output_type": "stream",
     "text": [
      "Layer 17: 100%|██████████| 1050/1050 [00:02<00:00, 517.40it/s]\n"
     ]
    },
    {
     "name": "stdout",
     "output_type": "stream",
     "text": [
      "Created results/by_layer_20250911_112921/by_layer/layer_17/V0_num_p5_V0.npz with 1050 questions\n"
     ]
    },
    {
     "name": "stderr",
     "output_type": "stream",
     "text": [
      "Layer 18: 100%|██████████| 1050/1050 [00:02<00:00, 502.89it/s]\n"
     ]
    },
    {
     "name": "stdout",
     "output_type": "stream",
     "text": [
      "Created results/by_layer_20250911_112921/by_layer/layer_18/V0_num_p5_V0.npz with 1050 questions\n"
     ]
    },
    {
     "name": "stderr",
     "output_type": "stream",
     "text": [
      "Layer 19: 100%|██████████| 1050/1050 [00:01<00:00, 532.19it/s]\n"
     ]
    },
    {
     "name": "stdout",
     "output_type": "stream",
     "text": [
      "Created results/by_layer_20250911_112921/by_layer/layer_19/V0_num_p5_V0.npz with 1050 questions\n"
     ]
    },
    {
     "name": "stderr",
     "output_type": "stream",
     "text": [
      "Layer 20: 100%|██████████| 1050/1050 [00:02<00:00, 500.85it/s]\n"
     ]
    },
    {
     "name": "stdout",
     "output_type": "stream",
     "text": [
      "Created results/by_layer_20250911_112921/by_layer/layer_20/V0_num_p5_V0.npz with 1050 questions\n"
     ]
    },
    {
     "name": "stderr",
     "output_type": "stream",
     "text": [
      "Layer 21: 100%|██████████| 1050/1050 [00:02<00:00, 504.36it/s]\n"
     ]
    },
    {
     "name": "stdout",
     "output_type": "stream",
     "text": [
      "Created results/by_layer_20250911_112921/by_layer/layer_21/V0_num_p5_V0.npz with 1050 questions\n"
     ]
    },
    {
     "name": "stderr",
     "output_type": "stream",
     "text": [
      "Layer 22: 100%|██████████| 1050/1050 [00:01<00:00, 538.07it/s]\n"
     ]
    },
    {
     "name": "stdout",
     "output_type": "stream",
     "text": [
      "Created results/by_layer_20250911_112921/by_layer/layer_22/V0_num_p5_V0.npz with 1050 questions\n"
     ]
    },
    {
     "name": "stderr",
     "output_type": "stream",
     "text": [
      "Layer 23: 100%|██████████| 1050/1050 [00:02<00:00, 505.24it/s]\n"
     ]
    },
    {
     "name": "stdout",
     "output_type": "stream",
     "text": [
      "Created results/by_layer_20250911_112921/by_layer/layer_23/V0_num_p5_V0.npz with 1050 questions\n"
     ]
    },
    {
     "name": "stderr",
     "output_type": "stream",
     "text": [
      "Layer 24: 100%|██████████| 1050/1050 [00:01<00:00, 528.26it/s]\n"
     ]
    },
    {
     "name": "stdout",
     "output_type": "stream",
     "text": [
      "Created results/by_layer_20250911_112921/by_layer/layer_24/V0_num_p5_V0.npz with 1050 questions\n"
     ]
    },
    {
     "name": "stderr",
     "output_type": "stream",
     "text": [
      "Layer 25: 100%|██████████| 1050/1050 [00:02<00:00, 354.73it/s]\n"
     ]
    },
    {
     "name": "stdout",
     "output_type": "stream",
     "text": [
      "Created results/by_layer_20250911_112921/by_layer/layer_25/V0_num_p5_V0.npz with 1050 questions\n"
     ]
    },
    {
     "name": "stderr",
     "output_type": "stream",
     "text": [
      "Layer 26: 100%|██████████| 1050/1050 [00:01<00:00, 564.80it/s]\n"
     ]
    },
    {
     "name": "stdout",
     "output_type": "stream",
     "text": [
      "Created results/by_layer_20250911_112921/by_layer/layer_26/V0_num_p5_V0.npz with 1050 questions\n"
     ]
    },
    {
     "name": "stderr",
     "output_type": "stream",
     "text": [
      "Layer 27: 100%|██████████| 1050/1050 [00:02<00:00, 494.76it/s]\n"
     ]
    },
    {
     "name": "stdout",
     "output_type": "stream",
     "text": [
      "Created results/by_layer_20250911_112921/by_layer/layer_27/V0_num_p5_V0.npz with 1050 questions\n"
     ]
    },
    {
     "name": "stderr",
     "output_type": "stream",
     "text": [
      "Layer 28: 100%|██████████| 1050/1050 [00:01<00:00, 535.81it/s]\n"
     ]
    },
    {
     "name": "stdout",
     "output_type": "stream",
     "text": [
      "Created results/by_layer_20250911_112921/by_layer/layer_28/V0_num_p5_V0.npz with 1050 questions\n"
     ]
    },
    {
     "name": "stderr",
     "output_type": "stream",
     "text": [
      "Layer 29: 100%|██████████| 1050/1050 [00:01<00:00, 537.41it/s]\n"
     ]
    },
    {
     "name": "stdout",
     "output_type": "stream",
     "text": [
      "Created results/by_layer_20250911_112921/by_layer/layer_29/V0_num_p5_V0.npz with 1050 questions\n"
     ]
    },
    {
     "name": "stderr",
     "output_type": "stream",
     "text": [
      "Layer 30: 100%|██████████| 1050/1050 [00:01<00:00, 535.70it/s]\n"
     ]
    },
    {
     "name": "stdout",
     "output_type": "stream",
     "text": [
      "Created results/by_layer_20250911_112921/by_layer/layer_30/V0_num_p5_V0.npz with 1050 questions\n"
     ]
    },
    {
     "name": "stderr",
     "output_type": "stream",
     "text": [
      "Layer 31: 100%|██████████| 1050/1050 [00:02<00:00, 505.07it/s]\n"
     ]
    },
    {
     "name": "stdout",
     "output_type": "stream",
     "text": [
      "Created results/by_layer_20250911_112921/by_layer/layer_31/V0_num_p5_V0.npz with 1050 questions\n"
     ]
    },
    {
     "name": "stderr",
     "output_type": "stream",
     "text": [
      "Layer 32: 100%|██████████| 1050/1050 [00:01<00:00, 563.01it/s]\n"
     ]
    },
    {
     "name": "stdout",
     "output_type": "stream",
     "text": [
      "Created results/by_layer_20250911_112921/by_layer/layer_32/V0_num_p5_V0.npz with 1050 questions\n"
     ]
    },
    {
     "name": "stderr",
     "output_type": "stream",
     "text": [
      "Layer 33: 100%|██████████| 1050/1050 [00:01<00:00, 534.71it/s]\n"
     ]
    },
    {
     "name": "stdout",
     "output_type": "stream",
     "text": [
      "Created results/by_layer_20250911_112921/by_layer/layer_33/V0_num_p5_V0.npz with 1050 questions\n"
     ]
    },
    {
     "name": "stderr",
     "output_type": "stream",
     "text": [
      "Layer 34: 100%|██████████| 1050/1050 [00:02<00:00, 512.92it/s]\n"
     ]
    },
    {
     "name": "stdout",
     "output_type": "stream",
     "text": [
      "Created results/by_layer_20250911_112921/by_layer/layer_34/V0_num_p5_V0.npz with 1050 questions\n",
      "\n",
      "Processing experiment 43/60: results/comprehensive_experiments/run_20250911_062422/V5_num_p4\n",
      "Processing experiment: results/comprehensive_experiments/run_20250911_062422/V5_num_p4\n",
      "File: hidden_states_V5.npz, Layers: 35, Hidden dim: 2560\n"
     ]
    },
    {
     "name": "stderr",
     "output_type": "stream",
     "text": [
      "Layer 00: 100%|██████████| 1050/1050 [00:03<00:00, 342.67it/s]\n"
     ]
    },
    {
     "name": "stdout",
     "output_type": "stream",
     "text": [
      "Created results/by_layer_20250911_112921/by_layer/layer_00/V5_num_p4_V5.npz with 1050 questions\n"
     ]
    },
    {
     "name": "stderr",
     "output_type": "stream",
     "text": [
      "Layer 01: 100%|██████████| 1050/1050 [00:02<00:00, 503.48it/s]\n"
     ]
    },
    {
     "name": "stdout",
     "output_type": "stream",
     "text": [
      "Created results/by_layer_20250911_112921/by_layer/layer_01/V5_num_p4_V5.npz with 1050 questions\n"
     ]
    },
    {
     "name": "stderr",
     "output_type": "stream",
     "text": [
      "Layer 02: 100%|██████████| 1050/1050 [00:01<00:00, 544.61it/s]\n"
     ]
    },
    {
     "name": "stdout",
     "output_type": "stream",
     "text": [
      "Created results/by_layer_20250911_112921/by_layer/layer_02/V5_num_p4_V5.npz with 1050 questions\n"
     ]
    },
    {
     "name": "stderr",
     "output_type": "stream",
     "text": [
      "Layer 03: 100%|██████████| 1050/1050 [00:01<00:00, 526.82it/s]\n"
     ]
    },
    {
     "name": "stdout",
     "output_type": "stream",
     "text": [
      "Created results/by_layer_20250911_112921/by_layer/layer_03/V5_num_p4_V5.npz with 1050 questions\n"
     ]
    },
    {
     "name": "stderr",
     "output_type": "stream",
     "text": [
      "Layer 04: 100%|██████████| 1050/1050 [00:02<00:00, 521.59it/s]\n"
     ]
    },
    {
     "name": "stdout",
     "output_type": "stream",
     "text": [
      "Created results/by_layer_20250911_112921/by_layer/layer_04/V5_num_p4_V5.npz with 1050 questions\n"
     ]
    },
    {
     "name": "stderr",
     "output_type": "stream",
     "text": [
      "Layer 05: 100%|██████████| 1050/1050 [00:01<00:00, 548.89it/s]\n"
     ]
    },
    {
     "name": "stdout",
     "output_type": "stream",
     "text": [
      "Created results/by_layer_20250911_112921/by_layer/layer_05/V5_num_p4_V5.npz with 1050 questions\n"
     ]
    },
    {
     "name": "stderr",
     "output_type": "stream",
     "text": [
      "Layer 06: 100%|██████████| 1050/1050 [00:01<00:00, 543.29it/s]\n"
     ]
    },
    {
     "name": "stdout",
     "output_type": "stream",
     "text": [
      "Created results/by_layer_20250911_112921/by_layer/layer_06/V5_num_p4_V5.npz with 1050 questions\n"
     ]
    },
    {
     "name": "stderr",
     "output_type": "stream",
     "text": [
      "Layer 07: 100%|██████████| 1050/1050 [00:01<00:00, 553.25it/s]\n"
     ]
    },
    {
     "name": "stdout",
     "output_type": "stream",
     "text": [
      "Created results/by_layer_20250911_112921/by_layer/layer_07/V5_num_p4_V5.npz with 1050 questions\n"
     ]
    },
    {
     "name": "stderr",
     "output_type": "stream",
     "text": [
      "Layer 08: 100%|██████████| 1050/1050 [00:01<00:00, 526.45it/s]\n"
     ]
    },
    {
     "name": "stdout",
     "output_type": "stream",
     "text": [
      "Created results/by_layer_20250911_112921/by_layer/layer_08/V5_num_p4_V5.npz with 1050 questions\n"
     ]
    },
    {
     "name": "stderr",
     "output_type": "stream",
     "text": [
      "Layer 09: 100%|██████████| 1050/1050 [00:02<00:00, 522.31it/s]\n"
     ]
    },
    {
     "name": "stdout",
     "output_type": "stream",
     "text": [
      "Created results/by_layer_20250911_112921/by_layer/layer_09/V5_num_p4_V5.npz with 1050 questions\n"
     ]
    },
    {
     "name": "stderr",
     "output_type": "stream",
     "text": [
      "Layer 10: 100%|██████████| 1050/1050 [00:01<00:00, 525.12it/s]\n"
     ]
    },
    {
     "name": "stdout",
     "output_type": "stream",
     "text": [
      "Created results/by_layer_20250911_112921/by_layer/layer_10/V5_num_p4_V5.npz with 1050 questions\n"
     ]
    },
    {
     "name": "stderr",
     "output_type": "stream",
     "text": [
      "Layer 11: 100%|██████████| 1050/1050 [00:01<00:00, 557.23it/s]\n"
     ]
    },
    {
     "name": "stdout",
     "output_type": "stream",
     "text": [
      "Created results/by_layer_20250911_112921/by_layer/layer_11/V5_num_p4_V5.npz with 1050 questions\n"
     ]
    },
    {
     "name": "stderr",
     "output_type": "stream",
     "text": [
      "Layer 12: 100%|██████████| 1050/1050 [00:01<00:00, 540.26it/s]\n"
     ]
    },
    {
     "name": "stdout",
     "output_type": "stream",
     "text": [
      "Created results/by_layer_20250911_112921/by_layer/layer_12/V5_num_p4_V5.npz with 1050 questions\n"
     ]
    },
    {
     "name": "stderr",
     "output_type": "stream",
     "text": [
      "Layer 13: 100%|██████████| 1050/1050 [00:01<00:00, 528.79it/s]\n"
     ]
    },
    {
     "name": "stdout",
     "output_type": "stream",
     "text": [
      "Created results/by_layer_20250911_112921/by_layer/layer_13/V5_num_p4_V5.npz with 1050 questions\n"
     ]
    },
    {
     "name": "stderr",
     "output_type": "stream",
     "text": [
      "Layer 14: 100%|██████████| 1050/1050 [00:01<00:00, 534.15it/s]\n"
     ]
    },
    {
     "name": "stdout",
     "output_type": "stream",
     "text": [
      "Created results/by_layer_20250911_112921/by_layer/layer_14/V5_num_p4_V5.npz with 1050 questions\n"
     ]
    },
    {
     "name": "stderr",
     "output_type": "stream",
     "text": [
      "Layer 15: 100%|██████████| 1050/1050 [00:02<00:00, 514.90it/s]\n"
     ]
    },
    {
     "name": "stdout",
     "output_type": "stream",
     "text": [
      "Created results/by_layer_20250911_112921/by_layer/layer_15/V5_num_p4_V5.npz with 1050 questions\n"
     ]
    },
    {
     "name": "stderr",
     "output_type": "stream",
     "text": [
      "Layer 16: 100%|██████████| 1050/1050 [00:03<00:00, 340.56it/s]\n"
     ]
    },
    {
     "name": "stdout",
     "output_type": "stream",
     "text": [
      "Created results/by_layer_20250911_112921/by_layer/layer_16/V5_num_p4_V5.npz with 1050 questions\n"
     ]
    },
    {
     "name": "stderr",
     "output_type": "stream",
     "text": [
      "Layer 17: 100%|██████████| 1050/1050 [00:02<00:00, 517.54it/s]\n"
     ]
    },
    {
     "name": "stdout",
     "output_type": "stream",
     "text": [
      "Created results/by_layer_20250911_112921/by_layer/layer_17/V5_num_p4_V5.npz with 1050 questions\n"
     ]
    },
    {
     "name": "stderr",
     "output_type": "stream",
     "text": [
      "Layer 18: 100%|██████████| 1050/1050 [00:02<00:00, 499.84it/s]\n"
     ]
    },
    {
     "name": "stdout",
     "output_type": "stream",
     "text": [
      "Created results/by_layer_20250911_112921/by_layer/layer_18/V5_num_p4_V5.npz with 1050 questions\n"
     ]
    },
    {
     "name": "stderr",
     "output_type": "stream",
     "text": [
      "Layer 19: 100%|██████████| 1050/1050 [00:01<00:00, 528.35it/s]\n"
     ]
    },
    {
     "name": "stdout",
     "output_type": "stream",
     "text": [
      "Created results/by_layer_20250911_112921/by_layer/layer_19/V5_num_p4_V5.npz with 1050 questions\n"
     ]
    },
    {
     "name": "stderr",
     "output_type": "stream",
     "text": [
      "Layer 20: 100%|██████████| 1050/1050 [00:01<00:00, 546.79it/s]\n"
     ]
    },
    {
     "name": "stdout",
     "output_type": "stream",
     "text": [
      "Created results/by_layer_20250911_112921/by_layer/layer_20/V5_num_p4_V5.npz with 1050 questions\n"
     ]
    },
    {
     "name": "stderr",
     "output_type": "stream",
     "text": [
      "Layer 21: 100%|██████████| 1050/1050 [00:02<00:00, 493.63it/s]\n"
     ]
    },
    {
     "name": "stdout",
     "output_type": "stream",
     "text": [
      "Created results/by_layer_20250911_112921/by_layer/layer_21/V5_num_p4_V5.npz with 1050 questions\n"
     ]
    },
    {
     "name": "stderr",
     "output_type": "stream",
     "text": [
      "Layer 22: 100%|██████████| 1050/1050 [00:02<00:00, 489.83it/s]\n"
     ]
    },
    {
     "name": "stdout",
     "output_type": "stream",
     "text": [
      "Created results/by_layer_20250911_112921/by_layer/layer_22/V5_num_p4_V5.npz with 1050 questions\n"
     ]
    },
    {
     "name": "stderr",
     "output_type": "stream",
     "text": [
      "Layer 23: 100%|██████████| 1050/1050 [00:02<00:00, 516.59it/s]\n"
     ]
    },
    {
     "name": "stdout",
     "output_type": "stream",
     "text": [
      "Created results/by_layer_20250911_112921/by_layer/layer_23/V5_num_p4_V5.npz with 1050 questions\n"
     ]
    },
    {
     "name": "stderr",
     "output_type": "stream",
     "text": [
      "Layer 24: 100%|██████████| 1050/1050 [00:01<00:00, 563.50it/s]\n"
     ]
    },
    {
     "name": "stdout",
     "output_type": "stream",
     "text": [
      "Created results/by_layer_20250911_112921/by_layer/layer_24/V5_num_p4_V5.npz with 1050 questions\n"
     ]
    },
    {
     "name": "stderr",
     "output_type": "stream",
     "text": [
      "Layer 25: 100%|██████████| 1050/1050 [00:01<00:00, 541.57it/s]\n"
     ]
    },
    {
     "name": "stdout",
     "output_type": "stream",
     "text": [
      "Created results/by_layer_20250911_112921/by_layer/layer_25/V5_num_p4_V5.npz with 1050 questions\n"
     ]
    },
    {
     "name": "stderr",
     "output_type": "stream",
     "text": [
      "Layer 26: 100%|██████████| 1050/1050 [00:02<00:00, 482.96it/s]\n"
     ]
    },
    {
     "name": "stdout",
     "output_type": "stream",
     "text": [
      "Created results/by_layer_20250911_112921/by_layer/layer_26/V5_num_p4_V5.npz with 1050 questions\n"
     ]
    },
    {
     "name": "stderr",
     "output_type": "stream",
     "text": [
      "Layer 27: 100%|██████████| 1050/1050 [00:02<00:00, 502.38it/s]\n"
     ]
    },
    {
     "name": "stdout",
     "output_type": "stream",
     "text": [
      "Created results/by_layer_20250911_112921/by_layer/layer_27/V5_num_p4_V5.npz with 1050 questions\n"
     ]
    },
    {
     "name": "stderr",
     "output_type": "stream",
     "text": [
      "Layer 28: 100%|██████████| 1050/1050 [00:01<00:00, 535.60it/s]\n"
     ]
    },
    {
     "name": "stdout",
     "output_type": "stream",
     "text": [
      "Created results/by_layer_20250911_112921/by_layer/layer_28/V5_num_p4_V5.npz with 1050 questions\n"
     ]
    },
    {
     "name": "stderr",
     "output_type": "stream",
     "text": [
      "Layer 29: 100%|██████████| 1050/1050 [00:01<00:00, 528.38it/s]\n"
     ]
    },
    {
     "name": "stdout",
     "output_type": "stream",
     "text": [
      "Created results/by_layer_20250911_112921/by_layer/layer_29/V5_num_p4_V5.npz with 1050 questions\n"
     ]
    },
    {
     "name": "stderr",
     "output_type": "stream",
     "text": [
      "Layer 30: 100%|██████████| 1050/1050 [00:01<00:00, 527.88it/s]\n"
     ]
    },
    {
     "name": "stdout",
     "output_type": "stream",
     "text": [
      "Created results/by_layer_20250911_112921/by_layer/layer_30/V5_num_p4_V5.npz with 1050 questions\n"
     ]
    },
    {
     "name": "stderr",
     "output_type": "stream",
     "text": [
      "Layer 31: 100%|██████████| 1050/1050 [00:02<00:00, 511.95it/s]\n"
     ]
    },
    {
     "name": "stdout",
     "output_type": "stream",
     "text": [
      "Created results/by_layer_20250911_112921/by_layer/layer_31/V5_num_p4_V5.npz with 1050 questions\n"
     ]
    },
    {
     "name": "stderr",
     "output_type": "stream",
     "text": [
      "Layer 32: 100%|██████████| 1050/1050 [00:02<00:00, 512.16it/s]\n"
     ]
    },
    {
     "name": "stdout",
     "output_type": "stream",
     "text": [
      "Created results/by_layer_20250911_112921/by_layer/layer_32/V5_num_p4_V5.npz with 1050 questions\n"
     ]
    },
    {
     "name": "stderr",
     "output_type": "stream",
     "text": [
      "Layer 33: 100%|██████████| 1050/1050 [00:02<00:00, 520.48it/s]\n"
     ]
    },
    {
     "name": "stdout",
     "output_type": "stream",
     "text": [
      "Created results/by_layer_20250911_112921/by_layer/layer_33/V5_num_p4_V5.npz with 1050 questions\n"
     ]
    },
    {
     "name": "stderr",
     "output_type": "stream",
     "text": [
      "Layer 34: 100%|██████████| 1050/1050 [00:01<00:00, 531.59it/s]\n"
     ]
    },
    {
     "name": "stdout",
     "output_type": "stream",
     "text": [
      "Created results/by_layer_20250911_112921/by_layer/layer_34/V5_num_p4_V5.npz with 1050 questions\n",
      "\n",
      "Processing experiment 44/60: results/comprehensive_experiments/run_20250911_062422/V1_num_p3\n",
      "Processing experiment: results/comprehensive_experiments/run_20250911_062422/V1_num_p3\n",
      "File: hidden_states_V1.npz, Layers: 35, Hidden dim: 2560\n"
     ]
    },
    {
     "name": "stderr",
     "output_type": "stream",
     "text": [
      "Layer 00: 100%|██████████| 1050/1050 [00:03<00:00, 329.43it/s]\n"
     ]
    },
    {
     "name": "stdout",
     "output_type": "stream",
     "text": [
      "Created results/by_layer_20250911_112921/by_layer/layer_00/V1_num_p3_V1.npz with 1050 questions\n"
     ]
    },
    {
     "name": "stderr",
     "output_type": "stream",
     "text": [
      "Layer 01: 100%|██████████| 1050/1050 [00:02<00:00, 462.49it/s]\n"
     ]
    },
    {
     "name": "stdout",
     "output_type": "stream",
     "text": [
      "Created results/by_layer_20250911_112921/by_layer/layer_01/V1_num_p3_V1.npz with 1050 questions\n"
     ]
    },
    {
     "name": "stderr",
     "output_type": "stream",
     "text": [
      "Layer 02: 100%|██████████| 1050/1050 [00:02<00:00, 509.43it/s]\n"
     ]
    },
    {
     "name": "stdout",
     "output_type": "stream",
     "text": [
      "Created results/by_layer_20250911_112921/by_layer/layer_02/V1_num_p3_V1.npz with 1050 questions\n"
     ]
    },
    {
     "name": "stderr",
     "output_type": "stream",
     "text": [
      "Layer 03: 100%|██████████| 1050/1050 [00:02<00:00, 524.00it/s]\n"
     ]
    },
    {
     "name": "stdout",
     "output_type": "stream",
     "text": [
      "Created results/by_layer_20250911_112921/by_layer/layer_03/V1_num_p3_V1.npz with 1050 questions\n"
     ]
    },
    {
     "name": "stderr",
     "output_type": "stream",
     "text": [
      "Layer 04: 100%|██████████| 1050/1050 [00:01<00:00, 545.98it/s]\n"
     ]
    },
    {
     "name": "stdout",
     "output_type": "stream",
     "text": [
      "Created results/by_layer_20250911_112921/by_layer/layer_04/V1_num_p3_V1.npz with 1050 questions\n"
     ]
    },
    {
     "name": "stderr",
     "output_type": "stream",
     "text": [
      "Layer 05: 100%|██████████| 1050/1050 [00:02<00:00, 491.89it/s]\n"
     ]
    },
    {
     "name": "stdout",
     "output_type": "stream",
     "text": [
      "Created results/by_layer_20250911_112921/by_layer/layer_05/V1_num_p3_V1.npz with 1050 questions\n"
     ]
    },
    {
     "name": "stderr",
     "output_type": "stream",
     "text": [
      "Layer 06: 100%|██████████| 1050/1050 [00:03<00:00, 331.49it/s]\n"
     ]
    },
    {
     "name": "stdout",
     "output_type": "stream",
     "text": [
      "Created results/by_layer_20250911_112921/by_layer/layer_06/V1_num_p3_V1.npz with 1050 questions\n"
     ]
    },
    {
     "name": "stderr",
     "output_type": "stream",
     "text": [
      "Layer 07: 100%|██████████| 1050/1050 [00:02<00:00, 510.92it/s]\n"
     ]
    },
    {
     "name": "stdout",
     "output_type": "stream",
     "text": [
      "Created results/by_layer_20250911_112921/by_layer/layer_07/V1_num_p3_V1.npz with 1050 questions\n"
     ]
    },
    {
     "name": "stderr",
     "output_type": "stream",
     "text": [
      "Layer 08: 100%|██████████| 1050/1050 [00:02<00:00, 512.76it/s]\n"
     ]
    },
    {
     "name": "stdout",
     "output_type": "stream",
     "text": [
      "Created results/by_layer_20250911_112921/by_layer/layer_08/V1_num_p3_V1.npz with 1050 questions\n"
     ]
    },
    {
     "name": "stderr",
     "output_type": "stream",
     "text": [
      "Layer 09: 100%|██████████| 1050/1050 [00:01<00:00, 543.46it/s]\n"
     ]
    },
    {
     "name": "stdout",
     "output_type": "stream",
     "text": [
      "Created results/by_layer_20250911_112921/by_layer/layer_09/V1_num_p3_V1.npz with 1050 questions\n"
     ]
    },
    {
     "name": "stderr",
     "output_type": "stream",
     "text": [
      "Layer 10: 100%|██████████| 1050/1050 [00:01<00:00, 552.61it/s]\n"
     ]
    },
    {
     "name": "stdout",
     "output_type": "stream",
     "text": [
      "Created results/by_layer_20250911_112921/by_layer/layer_10/V1_num_p3_V1.npz with 1050 questions\n"
     ]
    },
    {
     "name": "stderr",
     "output_type": "stream",
     "text": [
      "Layer 11: 100%|██████████| 1050/1050 [00:01<00:00, 534.16it/s]\n"
     ]
    },
    {
     "name": "stdout",
     "output_type": "stream",
     "text": [
      "Created results/by_layer_20250911_112921/by_layer/layer_11/V1_num_p3_V1.npz with 1050 questions\n"
     ]
    },
    {
     "name": "stderr",
     "output_type": "stream",
     "text": [
      "Layer 12: 100%|██████████| 1050/1050 [00:02<00:00, 507.27it/s]\n"
     ]
    },
    {
     "name": "stdout",
     "output_type": "stream",
     "text": [
      "Created results/by_layer_20250911_112921/by_layer/layer_12/V1_num_p3_V1.npz with 1050 questions\n"
     ]
    },
    {
     "name": "stderr",
     "output_type": "stream",
     "text": [
      "Layer 13: 100%|██████████| 1050/1050 [00:02<00:00, 490.16it/s]\n"
     ]
    },
    {
     "name": "stdout",
     "output_type": "stream",
     "text": [
      "Created results/by_layer_20250911_112921/by_layer/layer_13/V1_num_p3_V1.npz with 1050 questions\n"
     ]
    },
    {
     "name": "stderr",
     "output_type": "stream",
     "text": [
      "Layer 14: 100%|██████████| 1050/1050 [00:02<00:00, 492.02it/s]\n"
     ]
    },
    {
     "name": "stdout",
     "output_type": "stream",
     "text": [
      "Created results/by_layer_20250911_112921/by_layer/layer_14/V1_num_p3_V1.npz with 1050 questions\n"
     ]
    },
    {
     "name": "stderr",
     "output_type": "stream",
     "text": [
      "Layer 15: 100%|██████████| 1050/1050 [00:02<00:00, 507.69it/s]\n"
     ]
    },
    {
     "name": "stdout",
     "output_type": "stream",
     "text": [
      "Created results/by_layer_20250911_112921/by_layer/layer_15/V1_num_p3_V1.npz with 1050 questions\n"
     ]
    },
    {
     "name": "stderr",
     "output_type": "stream",
     "text": [
      "Layer 16: 100%|██████████| 1050/1050 [00:02<00:00, 514.60it/s]\n"
     ]
    },
    {
     "name": "stdout",
     "output_type": "stream",
     "text": [
      "Created results/by_layer_20250911_112921/by_layer/layer_16/V1_num_p3_V1.npz with 1050 questions\n"
     ]
    },
    {
     "name": "stderr",
     "output_type": "stream",
     "text": [
      "Layer 17: 100%|██████████| 1050/1050 [00:01<00:00, 536.04it/s]\n"
     ]
    },
    {
     "name": "stdout",
     "output_type": "stream",
     "text": [
      "Created results/by_layer_20250911_112921/by_layer/layer_17/V1_num_p3_V1.npz with 1050 questions\n"
     ]
    },
    {
     "name": "stderr",
     "output_type": "stream",
     "text": [
      "Layer 18: 100%|██████████| 1050/1050 [00:01<00:00, 538.69it/s]\n"
     ]
    },
    {
     "name": "stdout",
     "output_type": "stream",
     "text": [
      "Created results/by_layer_20250911_112921/by_layer/layer_18/V1_num_p3_V1.npz with 1050 questions\n"
     ]
    },
    {
     "name": "stderr",
     "output_type": "stream",
     "text": [
      "Layer 19: 100%|██████████| 1050/1050 [00:02<00:00, 519.39it/s]\n"
     ]
    },
    {
     "name": "stdout",
     "output_type": "stream",
     "text": [
      "Created results/by_layer_20250911_112921/by_layer/layer_19/V1_num_p3_V1.npz with 1050 questions\n"
     ]
    },
    {
     "name": "stderr",
     "output_type": "stream",
     "text": [
      "Layer 20: 100%|██████████| 1050/1050 [00:02<00:00, 488.92it/s]\n"
     ]
    },
    {
     "name": "stdout",
     "output_type": "stream",
     "text": [
      "Created results/by_layer_20250911_112921/by_layer/layer_20/V1_num_p3_V1.npz with 1050 questions\n"
     ]
    },
    {
     "name": "stderr",
     "output_type": "stream",
     "text": [
      "Layer 21: 100%|██████████| 1050/1050 [00:02<00:00, 488.32it/s]\n"
     ]
    },
    {
     "name": "stdout",
     "output_type": "stream",
     "text": [
      "Created results/by_layer_20250911_112921/by_layer/layer_21/V1_num_p3_V1.npz with 1050 questions\n"
     ]
    },
    {
     "name": "stderr",
     "output_type": "stream",
     "text": [
      "Layer 22: 100%|██████████| 1050/1050 [00:02<00:00, 520.33it/s]\n"
     ]
    },
    {
     "name": "stdout",
     "output_type": "stream",
     "text": [
      "Created results/by_layer_20250911_112921/by_layer/layer_22/V1_num_p3_V1.npz with 1050 questions\n"
     ]
    },
    {
     "name": "stderr",
     "output_type": "stream",
     "text": [
      "Layer 23: 100%|██████████| 1050/1050 [00:03<00:00, 324.07it/s]\n"
     ]
    },
    {
     "name": "stdout",
     "output_type": "stream",
     "text": [
      "Created results/by_layer_20250911_112921/by_layer/layer_23/V1_num_p3_V1.npz with 1050 questions\n"
     ]
    },
    {
     "name": "stderr",
     "output_type": "stream",
     "text": [
      "Layer 24: 100%|██████████| 1050/1050 [00:02<00:00, 515.81it/s]\n"
     ]
    },
    {
     "name": "stdout",
     "output_type": "stream",
     "text": [
      "Created results/by_layer_20250911_112921/by_layer/layer_24/V1_num_p3_V1.npz with 1050 questions\n"
     ]
    },
    {
     "name": "stderr",
     "output_type": "stream",
     "text": [
      "Layer 25: 100%|██████████| 1050/1050 [00:02<00:00, 494.18it/s]\n"
     ]
    },
    {
     "name": "stdout",
     "output_type": "stream",
     "text": [
      "Created results/by_layer_20250911_112921/by_layer/layer_25/V1_num_p3_V1.npz with 1050 questions\n"
     ]
    },
    {
     "name": "stderr",
     "output_type": "stream",
     "text": [
      "Layer 26: 100%|██████████| 1050/1050 [00:01<00:00, 562.09it/s]\n"
     ]
    },
    {
     "name": "stdout",
     "output_type": "stream",
     "text": [
      "Created results/by_layer_20250911_112921/by_layer/layer_26/V1_num_p3_V1.npz with 1050 questions\n"
     ]
    },
    {
     "name": "stderr",
     "output_type": "stream",
     "text": [
      "Layer 27: 100%|██████████| 1050/1050 [00:02<00:00, 505.15it/s]\n"
     ]
    },
    {
     "name": "stdout",
     "output_type": "stream",
     "text": [
      "Created results/by_layer_20250911_112921/by_layer/layer_27/V1_num_p3_V1.npz with 1050 questions\n"
     ]
    },
    {
     "name": "stderr",
     "output_type": "stream",
     "text": [
      "Layer 28: 100%|██████████| 1050/1050 [00:02<00:00, 504.02it/s]\n"
     ]
    },
    {
     "name": "stdout",
     "output_type": "stream",
     "text": [
      "Created results/by_layer_20250911_112921/by_layer/layer_28/V1_num_p3_V1.npz with 1050 questions\n"
     ]
    },
    {
     "name": "stderr",
     "output_type": "stream",
     "text": [
      "Layer 29: 100%|██████████| 1050/1050 [00:02<00:00, 518.65it/s]\n"
     ]
    },
    {
     "name": "stdout",
     "output_type": "stream",
     "text": [
      "Created results/by_layer_20250911_112921/by_layer/layer_29/V1_num_p3_V1.npz with 1050 questions\n"
     ]
    },
    {
     "name": "stderr",
     "output_type": "stream",
     "text": [
      "Layer 30: 100%|██████████| 1050/1050 [00:01<00:00, 527.11it/s]\n"
     ]
    },
    {
     "name": "stdout",
     "output_type": "stream",
     "text": [
      "Created results/by_layer_20250911_112921/by_layer/layer_30/V1_num_p3_V1.npz with 1050 questions\n"
     ]
    },
    {
     "name": "stderr",
     "output_type": "stream",
     "text": [
      "Layer 31: 100%|██████████| 1050/1050 [00:03<00:00, 333.37it/s]\n"
     ]
    },
    {
     "name": "stdout",
     "output_type": "stream",
     "text": [
      "Created results/by_layer_20250911_112921/by_layer/layer_31/V1_num_p3_V1.npz with 1050 questions\n"
     ]
    },
    {
     "name": "stderr",
     "output_type": "stream",
     "text": [
      "Layer 32: 100%|██████████| 1050/1050 [00:01<00:00, 529.33it/s]\n"
     ]
    },
    {
     "name": "stdout",
     "output_type": "stream",
     "text": [
      "Created results/by_layer_20250911_112921/by_layer/layer_32/V1_num_p3_V1.npz with 1050 questions\n"
     ]
    },
    {
     "name": "stderr",
     "output_type": "stream",
     "text": [
      "Layer 33: 100%|██████████| 1050/1050 [00:02<00:00, 516.31it/s]\n"
     ]
    },
    {
     "name": "stdout",
     "output_type": "stream",
     "text": [
      "Created results/by_layer_20250911_112921/by_layer/layer_33/V1_num_p3_V1.npz with 1050 questions\n"
     ]
    },
    {
     "name": "stderr",
     "output_type": "stream",
     "text": [
      "Layer 34: 100%|██████████| 1050/1050 [00:01<00:00, 577.49it/s]\n"
     ]
    },
    {
     "name": "stdout",
     "output_type": "stream",
     "text": [
      "Created results/by_layer_20250911_112921/by_layer/layer_34/V1_num_p3_V1.npz with 1050 questions\n",
      "\n",
      "Processing experiment 45/60: results/comprehensive_experiments/run_20250911_062422/V1_alpha_p2\n",
      "Processing experiment: results/comprehensive_experiments/run_20250911_062422/V1_alpha_p2\n",
      "File: hidden_states_V1.npz, Layers: 35, Hidden dim: 2560\n"
     ]
    },
    {
     "name": "stderr",
     "output_type": "stream",
     "text": [
      "Layer 00: 100%|██████████| 1050/1050 [00:03<00:00, 338.78it/s]\n"
     ]
    },
    {
     "name": "stdout",
     "output_type": "stream",
     "text": [
      "Created results/by_layer_20250911_112921/by_layer/layer_00/V1_alpha_p2_V1.npz with 1050 questions\n"
     ]
    },
    {
     "name": "stderr",
     "output_type": "stream",
     "text": [
      "Layer 01: 100%|██████████| 1050/1050 [00:02<00:00, 498.88it/s]\n"
     ]
    },
    {
     "name": "stdout",
     "output_type": "stream",
     "text": [
      "Created results/by_layer_20250911_112921/by_layer/layer_01/V1_alpha_p2_V1.npz with 1050 questions\n"
     ]
    },
    {
     "name": "stderr",
     "output_type": "stream",
     "text": [
      "Layer 02: 100%|██████████| 1050/1050 [00:02<00:00, 516.71it/s]\n"
     ]
    },
    {
     "name": "stdout",
     "output_type": "stream",
     "text": [
      "Created results/by_layer_20250911_112921/by_layer/layer_02/V1_alpha_p2_V1.npz with 1050 questions\n"
     ]
    },
    {
     "name": "stderr",
     "output_type": "stream",
     "text": [
      "Layer 03: 100%|██████████| 1050/1050 [00:02<00:00, 481.84it/s]\n"
     ]
    },
    {
     "name": "stdout",
     "output_type": "stream",
     "text": [
      "Created results/by_layer_20250911_112921/by_layer/layer_03/V1_alpha_p2_V1.npz with 1050 questions\n"
     ]
    },
    {
     "name": "stderr",
     "output_type": "stream",
     "text": [
      "Layer 04: 100%|██████████| 1050/1050 [00:02<00:00, 502.79it/s]\n"
     ]
    },
    {
     "name": "stdout",
     "output_type": "stream",
     "text": [
      "Created results/by_layer_20250911_112921/by_layer/layer_04/V1_alpha_p2_V1.npz with 1050 questions\n"
     ]
    },
    {
     "name": "stderr",
     "output_type": "stream",
     "text": [
      "Layer 05: 100%|██████████| 1050/1050 [00:03<00:00, 313.66it/s]\n"
     ]
    },
    {
     "name": "stdout",
     "output_type": "stream",
     "text": [
      "Created results/by_layer_20250911_112921/by_layer/layer_05/V1_alpha_p2_V1.npz with 1050 questions\n"
     ]
    },
    {
     "name": "stderr",
     "output_type": "stream",
     "text": [
      "Layer 06: 100%|██████████| 1050/1050 [00:02<00:00, 451.61it/s]\n"
     ]
    },
    {
     "name": "stdout",
     "output_type": "stream",
     "text": [
      "Created results/by_layer_20250911_112921/by_layer/layer_06/V1_alpha_p2_V1.npz with 1050 questions\n"
     ]
    },
    {
     "name": "stderr",
     "output_type": "stream",
     "text": [
      "Layer 07: 100%|██████████| 1050/1050 [00:02<00:00, 496.82it/s]\n"
     ]
    },
    {
     "name": "stdout",
     "output_type": "stream",
     "text": [
      "Created results/by_layer_20250911_112921/by_layer/layer_07/V1_alpha_p2_V1.npz with 1050 questions\n"
     ]
    },
    {
     "name": "stderr",
     "output_type": "stream",
     "text": [
      "Layer 08: 100%|██████████| 1050/1050 [00:01<00:00, 558.66it/s]\n"
     ]
    },
    {
     "name": "stdout",
     "output_type": "stream",
     "text": [
      "Created results/by_layer_20250911_112921/by_layer/layer_08/V1_alpha_p2_V1.npz with 1050 questions\n"
     ]
    },
    {
     "name": "stderr",
     "output_type": "stream",
     "text": [
      "Layer 09: 100%|██████████| 1050/1050 [00:02<00:00, 493.35it/s]\n"
     ]
    },
    {
     "name": "stdout",
     "output_type": "stream",
     "text": [
      "Created results/by_layer_20250911_112921/by_layer/layer_09/V1_alpha_p2_V1.npz with 1050 questions\n"
     ]
    },
    {
     "name": "stderr",
     "output_type": "stream",
     "text": [
      "Layer 10: 100%|██████████| 1050/1050 [00:02<00:00, 482.89it/s]\n"
     ]
    },
    {
     "name": "stdout",
     "output_type": "stream",
     "text": [
      "Created results/by_layer_20250911_112921/by_layer/layer_10/V1_alpha_p2_V1.npz with 1050 questions\n"
     ]
    },
    {
     "name": "stderr",
     "output_type": "stream",
     "text": [
      "Layer 11: 100%|██████████| 1050/1050 [00:02<00:00, 488.13it/s]\n"
     ]
    },
    {
     "name": "stdout",
     "output_type": "stream",
     "text": [
      "Created results/by_layer_20250911_112921/by_layer/layer_11/V1_alpha_p2_V1.npz with 1050 questions\n"
     ]
    },
    {
     "name": "stderr",
     "output_type": "stream",
     "text": [
      "Layer 12: 100%|██████████| 1050/1050 [00:02<00:00, 466.45it/s]\n"
     ]
    },
    {
     "name": "stdout",
     "output_type": "stream",
     "text": [
      "Created results/by_layer_20250911_112921/by_layer/layer_12/V1_alpha_p2_V1.npz with 1050 questions\n"
     ]
    },
    {
     "name": "stderr",
     "output_type": "stream",
     "text": [
      "Layer 13: 100%|██████████| 1050/1050 [00:03<00:00, 317.92it/s]\n"
     ]
    },
    {
     "name": "stdout",
     "output_type": "stream",
     "text": [
      "Created results/by_layer_20250911_112921/by_layer/layer_13/V1_alpha_p2_V1.npz with 1050 questions\n"
     ]
    },
    {
     "name": "stderr",
     "output_type": "stream",
     "text": [
      "Layer 14: 100%|██████████| 1050/1050 [00:02<00:00, 500.02it/s]\n"
     ]
    },
    {
     "name": "stdout",
     "output_type": "stream",
     "text": [
      "Created results/by_layer_20250911_112921/by_layer/layer_14/V1_alpha_p2_V1.npz with 1050 questions\n"
     ]
    },
    {
     "name": "stderr",
     "output_type": "stream",
     "text": [
      "Layer 15: 100%|██████████| 1050/1050 [00:02<00:00, 461.47it/s]\n"
     ]
    },
    {
     "name": "stdout",
     "output_type": "stream",
     "text": [
      "Created results/by_layer_20250911_112921/by_layer/layer_15/V1_alpha_p2_V1.npz with 1050 questions\n"
     ]
    },
    {
     "name": "stderr",
     "output_type": "stream",
     "text": [
      "Layer 16: 100%|██████████| 1050/1050 [00:01<00:00, 531.51it/s]\n"
     ]
    },
    {
     "name": "stdout",
     "output_type": "stream",
     "text": [
      "Created results/by_layer_20250911_112921/by_layer/layer_16/V1_alpha_p2_V1.npz with 1050 questions\n"
     ]
    },
    {
     "name": "stderr",
     "output_type": "stream",
     "text": [
      "Layer 17: 100%|██████████| 1050/1050 [00:02<00:00, 493.20it/s]\n"
     ]
    },
    {
     "name": "stdout",
     "output_type": "stream",
     "text": [
      "Created results/by_layer_20250911_112921/by_layer/layer_17/V1_alpha_p2_V1.npz with 1050 questions\n"
     ]
    },
    {
     "name": "stderr",
     "output_type": "stream",
     "text": [
      "Layer 18: 100%|██████████| 1050/1050 [00:02<00:00, 503.83it/s]\n"
     ]
    },
    {
     "name": "stdout",
     "output_type": "stream",
     "text": [
      "Created results/by_layer_20250911_112921/by_layer/layer_18/V1_alpha_p2_V1.npz with 1050 questions\n"
     ]
    },
    {
     "name": "stderr",
     "output_type": "stream",
     "text": [
      "Layer 19: 100%|██████████| 1050/1050 [00:02<00:00, 477.54it/s]\n"
     ]
    },
    {
     "name": "stdout",
     "output_type": "stream",
     "text": [
      "Created results/by_layer_20250911_112921/by_layer/layer_19/V1_alpha_p2_V1.npz with 1050 questions\n"
     ]
    },
    {
     "name": "stderr",
     "output_type": "stream",
     "text": [
      "Layer 20: 100%|██████████| 1050/1050 [00:02<00:00, 508.94it/s]\n"
     ]
    },
    {
     "name": "stdout",
     "output_type": "stream",
     "text": [
      "Created results/by_layer_20250911_112921/by_layer/layer_20/V1_alpha_p2_V1.npz with 1050 questions\n"
     ]
    },
    {
     "name": "stderr",
     "output_type": "stream",
     "text": [
      "Layer 21: 100%|██████████| 1050/1050 [00:03<00:00, 314.66it/s]\n"
     ]
    },
    {
     "name": "stdout",
     "output_type": "stream",
     "text": [
      "Created results/by_layer_20250911_112921/by_layer/layer_21/V1_alpha_p2_V1.npz with 1050 questions\n"
     ]
    },
    {
     "name": "stderr",
     "output_type": "stream",
     "text": [
      "Layer 22: 100%|██████████| 1050/1050 [00:02<00:00, 489.02it/s]\n"
     ]
    },
    {
     "name": "stdout",
     "output_type": "stream",
     "text": [
      "Created results/by_layer_20250911_112921/by_layer/layer_22/V1_alpha_p2_V1.npz with 1050 questions\n"
     ]
    },
    {
     "name": "stderr",
     "output_type": "stream",
     "text": [
      "Layer 23: 100%|██████████| 1050/1050 [00:02<00:00, 506.59it/s]\n"
     ]
    },
    {
     "name": "stdout",
     "output_type": "stream",
     "text": [
      "Created results/by_layer_20250911_112921/by_layer/layer_23/V1_alpha_p2_V1.npz with 1050 questions\n"
     ]
    },
    {
     "name": "stderr",
     "output_type": "stream",
     "text": [
      "Layer 24: 100%|██████████| 1050/1050 [00:01<00:00, 526.72it/s]\n"
     ]
    },
    {
     "name": "stdout",
     "output_type": "stream",
     "text": [
      "Created results/by_layer_20250911_112921/by_layer/layer_24/V1_alpha_p2_V1.npz with 1050 questions\n"
     ]
    },
    {
     "name": "stderr",
     "output_type": "stream",
     "text": [
      "Layer 25: 100%|██████████| 1050/1050 [00:02<00:00, 509.81it/s]\n"
     ]
    },
    {
     "name": "stdout",
     "output_type": "stream",
     "text": [
      "Created results/by_layer_20250911_112921/by_layer/layer_25/V1_alpha_p2_V1.npz with 1050 questions\n"
     ]
    },
    {
     "name": "stderr",
     "output_type": "stream",
     "text": [
      "Layer 26: 100%|██████████| 1050/1050 [00:02<00:00, 512.67it/s]\n"
     ]
    },
    {
     "name": "stdout",
     "output_type": "stream",
     "text": [
      "Created results/by_layer_20250911_112921/by_layer/layer_26/V1_alpha_p2_V1.npz with 1050 questions\n"
     ]
    },
    {
     "name": "stderr",
     "output_type": "stream",
     "text": [
      "Layer 27: 100%|██████████| 1050/1050 [00:02<00:00, 497.69it/s]\n"
     ]
    },
    {
     "name": "stdout",
     "output_type": "stream",
     "text": [
      "Created results/by_layer_20250911_112921/by_layer/layer_27/V1_alpha_p2_V1.npz with 1050 questions\n"
     ]
    },
    {
     "name": "stderr",
     "output_type": "stream",
     "text": [
      "Layer 28: 100%|██████████| 1050/1050 [00:02<00:00, 507.31it/s]\n"
     ]
    },
    {
     "name": "stdout",
     "output_type": "stream",
     "text": [
      "Created results/by_layer_20250911_112921/by_layer/layer_28/V1_alpha_p2_V1.npz with 1050 questions\n"
     ]
    },
    {
     "name": "stderr",
     "output_type": "stream",
     "text": [
      "Layer 29: 100%|██████████| 1050/1050 [00:03<00:00, 324.85it/s]\n"
     ]
    },
    {
     "name": "stdout",
     "output_type": "stream",
     "text": [
      "Created results/by_layer_20250911_112921/by_layer/layer_29/V1_alpha_p2_V1.npz with 1050 questions\n"
     ]
    },
    {
     "name": "stderr",
     "output_type": "stream",
     "text": [
      "Layer 30: 100%|██████████| 1050/1050 [00:02<00:00, 512.88it/s]\n"
     ]
    },
    {
     "name": "stdout",
     "output_type": "stream",
     "text": [
      "Created results/by_layer_20250911_112921/by_layer/layer_30/V1_alpha_p2_V1.npz with 1050 questions\n"
     ]
    },
    {
     "name": "stderr",
     "output_type": "stream",
     "text": [
      "Layer 31: 100%|██████████| 1050/1050 [00:01<00:00, 531.63it/s]\n"
     ]
    },
    {
     "name": "stdout",
     "output_type": "stream",
     "text": [
      "Created results/by_layer_20250911_112921/by_layer/layer_31/V1_alpha_p2_V1.npz with 1050 questions\n"
     ]
    },
    {
     "name": "stderr",
     "output_type": "stream",
     "text": [
      "Layer 32: 100%|██████████| 1050/1050 [00:01<00:00, 565.59it/s]\n"
     ]
    },
    {
     "name": "stdout",
     "output_type": "stream",
     "text": [
      "Created results/by_layer_20250911_112921/by_layer/layer_32/V1_alpha_p2_V1.npz with 1050 questions\n"
     ]
    },
    {
     "name": "stderr",
     "output_type": "stream",
     "text": [
      "Layer 33: 100%|██████████| 1050/1050 [00:01<00:00, 544.43it/s]\n"
     ]
    },
    {
     "name": "stdout",
     "output_type": "stream",
     "text": [
      "Created results/by_layer_20250911_112921/by_layer/layer_33/V1_alpha_p2_V1.npz with 1050 questions\n"
     ]
    },
    {
     "name": "stderr",
     "output_type": "stream",
     "text": [
      "Layer 34: 100%|██████████| 1050/1050 [00:01<00:00, 538.54it/s]\n"
     ]
    },
    {
     "name": "stdout",
     "output_type": "stream",
     "text": [
      "Created results/by_layer_20250911_112921/by_layer/layer_34/V1_alpha_p2_V1.npz with 1050 questions\n",
      "\n",
      "Processing experiment 46/60: results/comprehensive_experiments/run_20250911_062422/V2_num_p1\n",
      "Processing experiment: results/comprehensive_experiments/run_20250911_062422/V2_num_p1\n",
      "File: hidden_states_V2.npz, Layers: 35, Hidden dim: 2560\n"
     ]
    },
    {
     "name": "stderr",
     "output_type": "stream",
     "text": [
      "Layer 00: 100%|██████████| 1050/1050 [00:02<00:00, 388.65it/s]\n"
     ]
    },
    {
     "name": "stdout",
     "output_type": "stream",
     "text": [
      "Created results/by_layer_20250911_112921/by_layer/layer_00/V2_num_p1_V2.npz with 1050 questions\n"
     ]
    },
    {
     "name": "stderr",
     "output_type": "stream",
     "text": [
      "Layer 01: 100%|██████████| 1050/1050 [00:01<00:00, 539.31it/s]\n"
     ]
    },
    {
     "name": "stdout",
     "output_type": "stream",
     "text": [
      "Created results/by_layer_20250911_112921/by_layer/layer_01/V2_num_p1_V2.npz with 1050 questions\n"
     ]
    },
    {
     "name": "stderr",
     "output_type": "stream",
     "text": [
      "Layer 02: 100%|██████████| 1050/1050 [00:02<00:00, 515.58it/s]\n"
     ]
    },
    {
     "name": "stdout",
     "output_type": "stream",
     "text": [
      "Created results/by_layer_20250911_112921/by_layer/layer_02/V2_num_p1_V2.npz with 1050 questions\n"
     ]
    },
    {
     "name": "stderr",
     "output_type": "stream",
     "text": [
      "Layer 03: 100%|██████████| 1050/1050 [00:03<00:00, 326.42it/s]\n"
     ]
    },
    {
     "name": "stdout",
     "output_type": "stream",
     "text": [
      "Created results/by_layer_20250911_112921/by_layer/layer_03/V2_num_p1_V2.npz with 1050 questions\n"
     ]
    },
    {
     "name": "stderr",
     "output_type": "stream",
     "text": [
      "Layer 04: 100%|██████████| 1050/1050 [00:01<00:00, 542.40it/s]\n"
     ]
    },
    {
     "name": "stdout",
     "output_type": "stream",
     "text": [
      "Created results/by_layer_20250911_112921/by_layer/layer_04/V2_num_p1_V2.npz with 1050 questions\n"
     ]
    },
    {
     "name": "stderr",
     "output_type": "stream",
     "text": [
      "Layer 05: 100%|██████████| 1050/1050 [00:01<00:00, 540.54it/s]\n"
     ]
    },
    {
     "name": "stdout",
     "output_type": "stream",
     "text": [
      "Created results/by_layer_20250911_112921/by_layer/layer_05/V2_num_p1_V2.npz with 1050 questions\n"
     ]
    },
    {
     "name": "stderr",
     "output_type": "stream",
     "text": [
      "Layer 06: 100%|██████████| 1050/1050 [00:01<00:00, 627.78it/s]\n"
     ]
    },
    {
     "name": "stdout",
     "output_type": "stream",
     "text": [
      "Created results/by_layer_20250911_112921/by_layer/layer_06/V2_num_p1_V2.npz with 1050 questions\n"
     ]
    },
    {
     "name": "stderr",
     "output_type": "stream",
     "text": [
      "Layer 07: 100%|██████████| 1050/1050 [00:01<00:00, 527.21it/s]\n"
     ]
    },
    {
     "name": "stdout",
     "output_type": "stream",
     "text": [
      "Created results/by_layer_20250911_112921/by_layer/layer_07/V2_num_p1_V2.npz with 1050 questions\n"
     ]
    },
    {
     "name": "stderr",
     "output_type": "stream",
     "text": [
      "Layer 08: 100%|██████████| 1050/1050 [00:01<00:00, 535.80it/s]\n"
     ]
    },
    {
     "name": "stdout",
     "output_type": "stream",
     "text": [
      "Created results/by_layer_20250911_112921/by_layer/layer_08/V2_num_p1_V2.npz with 1050 questions\n"
     ]
    },
    {
     "name": "stderr",
     "output_type": "stream",
     "text": [
      "Layer 09: 100%|██████████| 1050/1050 [00:02<00:00, 513.17it/s]\n"
     ]
    },
    {
     "name": "stdout",
     "output_type": "stream",
     "text": [
      "Created results/by_layer_20250911_112921/by_layer/layer_09/V2_num_p1_V2.npz with 1050 questions\n"
     ]
    },
    {
     "name": "stderr",
     "output_type": "stream",
     "text": [
      "Layer 10: 100%|██████████| 1050/1050 [00:01<00:00, 528.18it/s]\n"
     ]
    },
    {
     "name": "stdout",
     "output_type": "stream",
     "text": [
      "Created results/by_layer_20250911_112921/by_layer/layer_10/V2_num_p1_V2.npz with 1050 questions\n"
     ]
    },
    {
     "name": "stderr",
     "output_type": "stream",
     "text": [
      "Layer 11: 100%|██████████| 1050/1050 [00:01<00:00, 547.32it/s]\n"
     ]
    },
    {
     "name": "stdout",
     "output_type": "stream",
     "text": [
      "Created results/by_layer_20250911_112921/by_layer/layer_11/V2_num_p1_V2.npz with 1050 questions\n"
     ]
    },
    {
     "name": "stderr",
     "output_type": "stream",
     "text": [
      "Layer 12: 100%|██████████| 1050/1050 [00:03<00:00, 321.78it/s]\n"
     ]
    },
    {
     "name": "stdout",
     "output_type": "stream",
     "text": [
      "Created results/by_layer_20250911_112921/by_layer/layer_12/V2_num_p1_V2.npz with 1050 questions\n"
     ]
    },
    {
     "name": "stderr",
     "output_type": "stream",
     "text": [
      "Layer 13: 100%|██████████| 1050/1050 [00:02<00:00, 518.03it/s]\n"
     ]
    },
    {
     "name": "stdout",
     "output_type": "stream",
     "text": [
      "Created results/by_layer_20250911_112921/by_layer/layer_13/V2_num_p1_V2.npz with 1050 questions\n"
     ]
    },
    {
     "name": "stderr",
     "output_type": "stream",
     "text": [
      "Layer 14: 100%|██████████| 1050/1050 [00:01<00:00, 585.06it/s]\n"
     ]
    },
    {
     "name": "stdout",
     "output_type": "stream",
     "text": [
      "Created results/by_layer_20250911_112921/by_layer/layer_14/V2_num_p1_V2.npz with 1050 questions\n"
     ]
    },
    {
     "name": "stderr",
     "output_type": "stream",
     "text": [
      "Layer 15: 100%|██████████| 1050/1050 [00:01<00:00, 579.40it/s]\n"
     ]
    },
    {
     "name": "stdout",
     "output_type": "stream",
     "text": [
      "Created results/by_layer_20250911_112921/by_layer/layer_15/V2_num_p1_V2.npz with 1050 questions\n"
     ]
    },
    {
     "name": "stderr",
     "output_type": "stream",
     "text": [
      "Layer 16: 100%|██████████| 1050/1050 [00:01<00:00, 527.27it/s]\n"
     ]
    },
    {
     "name": "stdout",
     "output_type": "stream",
     "text": [
      "Created results/by_layer_20250911_112921/by_layer/layer_16/V2_num_p1_V2.npz with 1050 questions\n"
     ]
    },
    {
     "name": "stderr",
     "output_type": "stream",
     "text": [
      "Layer 17: 100%|██████████| 1050/1050 [00:01<00:00, 545.75it/s]\n"
     ]
    },
    {
     "name": "stdout",
     "output_type": "stream",
     "text": [
      "Created results/by_layer_20250911_112921/by_layer/layer_17/V2_num_p1_V2.npz with 1050 questions\n"
     ]
    },
    {
     "name": "stderr",
     "output_type": "stream",
     "text": [
      "Layer 18: 100%|██████████| 1050/1050 [00:01<00:00, 535.99it/s]\n"
     ]
    },
    {
     "name": "stdout",
     "output_type": "stream",
     "text": [
      "Created results/by_layer_20250911_112921/by_layer/layer_18/V2_num_p1_V2.npz with 1050 questions\n"
     ]
    },
    {
     "name": "stderr",
     "output_type": "stream",
     "text": [
      "Layer 19: 100%|██████████| 1050/1050 [00:02<00:00, 518.89it/s]\n"
     ]
    },
    {
     "name": "stdout",
     "output_type": "stream",
     "text": [
      "Created results/by_layer_20250911_112921/by_layer/layer_19/V2_num_p1_V2.npz with 1050 questions\n"
     ]
    },
    {
     "name": "stderr",
     "output_type": "stream",
     "text": [
      "Layer 20: 100%|██████████| 1050/1050 [00:02<00:00, 505.99it/s]\n"
     ]
    },
    {
     "name": "stdout",
     "output_type": "stream",
     "text": [
      "Created results/by_layer_20250911_112921/by_layer/layer_20/V2_num_p1_V2.npz with 1050 questions\n"
     ]
    },
    {
     "name": "stderr",
     "output_type": "stream",
     "text": [
      "Layer 21: 100%|██████████| 1050/1050 [00:01<00:00, 542.90it/s]\n"
     ]
    },
    {
     "name": "stdout",
     "output_type": "stream",
     "text": [
      "Created results/by_layer_20250911_112921/by_layer/layer_21/V2_num_p1_V2.npz with 1050 questions\n"
     ]
    },
    {
     "name": "stderr",
     "output_type": "stream",
     "text": [
      "Layer 22: 100%|██████████| 1050/1050 [00:02<00:00, 510.46it/s]\n"
     ]
    },
    {
     "name": "stdout",
     "output_type": "stream",
     "text": [
      "Created results/by_layer_20250911_112921/by_layer/layer_22/V2_num_p1_V2.npz with 1050 questions\n"
     ]
    },
    {
     "name": "stderr",
     "output_type": "stream",
     "text": [
      "Layer 23: 100%|██████████| 1050/1050 [00:01<00:00, 637.06it/s]\n"
     ]
    },
    {
     "name": "stdout",
     "output_type": "stream",
     "text": [
      "Created results/by_layer_20250911_112921/by_layer/layer_23/V2_num_p1_V2.npz with 1050 questions\n"
     ]
    },
    {
     "name": "stderr",
     "output_type": "stream",
     "text": [
      "Layer 24: 100%|██████████| 1050/1050 [00:01<00:00, 565.01it/s]\n"
     ]
    },
    {
     "name": "stdout",
     "output_type": "stream",
     "text": [
      "Created results/by_layer_20250911_112921/by_layer/layer_24/V2_num_p1_V2.npz with 1050 questions\n"
     ]
    },
    {
     "name": "stderr",
     "output_type": "stream",
     "text": [
      "Layer 25: 100%|██████████| 1050/1050 [00:01<00:00, 545.34it/s]\n"
     ]
    },
    {
     "name": "stdout",
     "output_type": "stream",
     "text": [
      "Created results/by_layer_20250911_112921/by_layer/layer_25/V2_num_p1_V2.npz with 1050 questions\n"
     ]
    },
    {
     "name": "stderr",
     "output_type": "stream",
     "text": [
      "Layer 26: 100%|██████████| 1050/1050 [00:01<00:00, 549.45it/s]\n"
     ]
    },
    {
     "name": "stdout",
     "output_type": "stream",
     "text": [
      "Created results/by_layer_20250911_112921/by_layer/layer_26/V2_num_p1_V2.npz with 1050 questions\n"
     ]
    },
    {
     "name": "stderr",
     "output_type": "stream",
     "text": [
      "Layer 27: 100%|██████████| 1050/1050 [00:01<00:00, 545.38it/s]\n"
     ]
    },
    {
     "name": "stdout",
     "output_type": "stream",
     "text": [
      "Created results/by_layer_20250911_112921/by_layer/layer_27/V2_num_p1_V2.npz with 1050 questions\n"
     ]
    },
    {
     "name": "stderr",
     "output_type": "stream",
     "text": [
      "Layer 28: 100%|██████████| 1050/1050 [00:01<00:00, 556.97it/s]\n"
     ]
    },
    {
     "name": "stdout",
     "output_type": "stream",
     "text": [
      "Created results/by_layer_20250911_112921/by_layer/layer_28/V2_num_p1_V2.npz with 1050 questions\n"
     ]
    },
    {
     "name": "stderr",
     "output_type": "stream",
     "text": [
      "Layer 29: 100%|██████████| 1050/1050 [00:01<00:00, 562.44it/s]\n"
     ]
    },
    {
     "name": "stdout",
     "output_type": "stream",
     "text": [
      "Created results/by_layer_20250911_112921/by_layer/layer_29/V2_num_p1_V2.npz with 1050 questions\n"
     ]
    },
    {
     "name": "stderr",
     "output_type": "stream",
     "text": [
      "Layer 30: 100%|██████████| 1050/1050 [00:01<00:00, 557.02it/s]\n"
     ]
    },
    {
     "name": "stdout",
     "output_type": "stream",
     "text": [
      "Created results/by_layer_20250911_112921/by_layer/layer_30/V2_num_p1_V2.npz with 1050 questions\n"
     ]
    },
    {
     "name": "stderr",
     "output_type": "stream",
     "text": [
      "Layer 31: 100%|██████████| 1050/1050 [00:02<00:00, 490.24it/s]\n"
     ]
    },
    {
     "name": "stdout",
     "output_type": "stream",
     "text": [
      "Created results/by_layer_20250911_112921/by_layer/layer_31/V2_num_p1_V2.npz with 1050 questions\n"
     ]
    },
    {
     "name": "stderr",
     "output_type": "stream",
     "text": [
      "Layer 32: 100%|██████████| 1050/1050 [00:01<00:00, 599.07it/s]\n"
     ]
    },
    {
     "name": "stdout",
     "output_type": "stream",
     "text": [
      "Created results/by_layer_20250911_112921/by_layer/layer_32/V2_num_p1_V2.npz with 1050 questions\n"
     ]
    },
    {
     "name": "stderr",
     "output_type": "stream",
     "text": [
      "Layer 33: 100%|██████████| 1050/1050 [00:01<00:00, 600.46it/s]\n"
     ]
    },
    {
     "name": "stdout",
     "output_type": "stream",
     "text": [
      "Created results/by_layer_20250911_112921/by_layer/layer_33/V2_num_p1_V2.npz with 1050 questions\n"
     ]
    },
    {
     "name": "stderr",
     "output_type": "stream",
     "text": [
      "Layer 34: 100%|██████████| 1050/1050 [00:01<00:00, 580.66it/s]\n"
     ]
    },
    {
     "name": "stdout",
     "output_type": "stream",
     "text": [
      "Created results/by_layer_20250911_112921/by_layer/layer_34/V2_num_p1_V2.npz with 1050 questions\n",
      "\n",
      "Processing experiment 47/60: results/comprehensive_experiments/run_20250911_062422/V1_num_p5\n",
      "Processing experiment: results/comprehensive_experiments/run_20250911_062422/V1_num_p5\n",
      "File: hidden_states_V1.npz, Layers: 35, Hidden dim: 2560\n"
     ]
    },
    {
     "name": "stderr",
     "output_type": "stream",
     "text": [
      "Layer 00: 100%|██████████| 1050/1050 [00:02<00:00, 350.80it/s]\n"
     ]
    },
    {
     "name": "stdout",
     "output_type": "stream",
     "text": [
      "Created results/by_layer_20250911_112921/by_layer/layer_00/V1_num_p5_V1.npz with 1050 questions\n"
     ]
    },
    {
     "name": "stderr",
     "output_type": "stream",
     "text": [
      "Layer 01: 100%|██████████| 1050/1050 [00:01<00:00, 560.90it/s]\n"
     ]
    },
    {
     "name": "stdout",
     "output_type": "stream",
     "text": [
      "Created results/by_layer_20250911_112921/by_layer/layer_01/V1_num_p5_V1.npz with 1050 questions\n"
     ]
    },
    {
     "name": "stderr",
     "output_type": "stream",
     "text": [
      "Layer 02: 100%|██████████| 1050/1050 [00:02<00:00, 519.14it/s]\n"
     ]
    },
    {
     "name": "stdout",
     "output_type": "stream",
     "text": [
      "Created results/by_layer_20250911_112921/by_layer/layer_02/V1_num_p5_V1.npz with 1050 questions\n"
     ]
    },
    {
     "name": "stderr",
     "output_type": "stream",
     "text": [
      "Layer 03: 100%|██████████| 1050/1050 [00:02<00:00, 487.11it/s]\n"
     ]
    },
    {
     "name": "stdout",
     "output_type": "stream",
     "text": [
      "Created results/by_layer_20250911_112921/by_layer/layer_03/V1_num_p5_V1.npz with 1050 questions\n"
     ]
    },
    {
     "name": "stderr",
     "output_type": "stream",
     "text": [
      "Layer 04: 100%|██████████| 1050/1050 [00:02<00:00, 493.21it/s]\n"
     ]
    },
    {
     "name": "stdout",
     "output_type": "stream",
     "text": [
      "Created results/by_layer_20250911_112921/by_layer/layer_04/V1_num_p5_V1.npz with 1050 questions\n"
     ]
    },
    {
     "name": "stderr",
     "output_type": "stream",
     "text": [
      "Layer 05: 100%|██████████| 1050/1050 [00:01<00:00, 528.33it/s]\n"
     ]
    },
    {
     "name": "stdout",
     "output_type": "stream",
     "text": [
      "Created results/by_layer_20250911_112921/by_layer/layer_05/V1_num_p5_V1.npz with 1050 questions\n"
     ]
    },
    {
     "name": "stderr",
     "output_type": "stream",
     "text": [
      "Layer 06: 100%|██████████| 1050/1050 [00:01<00:00, 565.65it/s]\n"
     ]
    },
    {
     "name": "stdout",
     "output_type": "stream",
     "text": [
      "Created results/by_layer_20250911_112921/by_layer/layer_06/V1_num_p5_V1.npz with 1050 questions\n"
     ]
    },
    {
     "name": "stderr",
     "output_type": "stream",
     "text": [
      "Layer 07: 100%|██████████| 1050/1050 [00:01<00:00, 537.98it/s]\n"
     ]
    },
    {
     "name": "stdout",
     "output_type": "stream",
     "text": [
      "Created results/by_layer_20250911_112921/by_layer/layer_07/V1_num_p5_V1.npz with 1050 questions\n"
     ]
    },
    {
     "name": "stderr",
     "output_type": "stream",
     "text": [
      "Layer 08: 100%|██████████| 1050/1050 [00:02<00:00, 514.71it/s]\n"
     ]
    },
    {
     "name": "stdout",
     "output_type": "stream",
     "text": [
      "Created results/by_layer_20250911_112921/by_layer/layer_08/V1_num_p5_V1.npz with 1050 questions\n"
     ]
    },
    {
     "name": "stderr",
     "output_type": "stream",
     "text": [
      "Layer 09: 100%|██████████| 1050/1050 [00:02<00:00, 512.26it/s]\n"
     ]
    },
    {
     "name": "stdout",
     "output_type": "stream",
     "text": [
      "Created results/by_layer_20250911_112921/by_layer/layer_09/V1_num_p5_V1.npz with 1050 questions\n"
     ]
    },
    {
     "name": "stderr",
     "output_type": "stream",
     "text": [
      "Layer 10: 100%|██████████| 1050/1050 [00:02<00:00, 523.97it/s]\n"
     ]
    },
    {
     "name": "stdout",
     "output_type": "stream",
     "text": [
      "Created results/by_layer_20250911_112921/by_layer/layer_10/V1_num_p5_V1.npz with 1050 questions\n"
     ]
    },
    {
     "name": "stderr",
     "output_type": "stream",
     "text": [
      "Layer 11: 100%|██████████| 1050/1050 [00:02<00:00, 494.16it/s]\n"
     ]
    },
    {
     "name": "stdout",
     "output_type": "stream",
     "text": [
      "Created results/by_layer_20250911_112921/by_layer/layer_11/V1_num_p5_V1.npz with 1050 questions\n"
     ]
    },
    {
     "name": "stderr",
     "output_type": "stream",
     "text": [
      "Layer 12: 100%|██████████| 1050/1050 [00:03<00:00, 328.59it/s]\n"
     ]
    },
    {
     "name": "stdout",
     "output_type": "stream",
     "text": [
      "Created results/by_layer_20250911_112921/by_layer/layer_12/V1_num_p5_V1.npz with 1050 questions\n"
     ]
    },
    {
     "name": "stderr",
     "output_type": "stream",
     "text": [
      "Layer 13: 100%|██████████| 1050/1050 [00:02<00:00, 477.14it/s]\n"
     ]
    },
    {
     "name": "stdout",
     "output_type": "stream",
     "text": [
      "Created results/by_layer_20250911_112921/by_layer/layer_13/V1_num_p5_V1.npz with 1050 questions\n"
     ]
    },
    {
     "name": "stderr",
     "output_type": "stream",
     "text": [
      "Layer 14: 100%|██████████| 1050/1050 [00:01<00:00, 559.36it/s]\n"
     ]
    },
    {
     "name": "stdout",
     "output_type": "stream",
     "text": [
      "Created results/by_layer_20250911_112921/by_layer/layer_14/V1_num_p5_V1.npz with 1050 questions\n"
     ]
    },
    {
     "name": "stderr",
     "output_type": "stream",
     "text": [
      "Layer 15: 100%|██████████| 1050/1050 [00:01<00:00, 606.87it/s]\n"
     ]
    },
    {
     "name": "stdout",
     "output_type": "stream",
     "text": [
      "Created results/by_layer_20250911_112921/by_layer/layer_15/V1_num_p5_V1.npz with 1050 questions\n"
     ]
    },
    {
     "name": "stderr",
     "output_type": "stream",
     "text": [
      "Layer 16: 100%|██████████| 1050/1050 [00:01<00:00, 616.69it/s]\n"
     ]
    },
    {
     "name": "stdout",
     "output_type": "stream",
     "text": [
      "Created results/by_layer_20250911_112921/by_layer/layer_16/V1_num_p5_V1.npz with 1050 questions\n"
     ]
    },
    {
     "name": "stderr",
     "output_type": "stream",
     "text": [
      "Layer 17: 100%|██████████| 1050/1050 [00:01<00:00, 572.47it/s]\n"
     ]
    },
    {
     "name": "stdout",
     "output_type": "stream",
     "text": [
      "Created results/by_layer_20250911_112921/by_layer/layer_17/V1_num_p5_V1.npz with 1050 questions\n"
     ]
    },
    {
     "name": "stderr",
     "output_type": "stream",
     "text": [
      "Layer 18: 100%|██████████| 1050/1050 [00:01<00:00, 552.14it/s]\n"
     ]
    },
    {
     "name": "stdout",
     "output_type": "stream",
     "text": [
      "Created results/by_layer_20250911_112921/by_layer/layer_18/V1_num_p5_V1.npz with 1050 questions\n"
     ]
    },
    {
     "name": "stderr",
     "output_type": "stream",
     "text": [
      "Layer 19: 100%|██████████| 1050/1050 [00:01<00:00, 532.15it/s]\n"
     ]
    },
    {
     "name": "stdout",
     "output_type": "stream",
     "text": [
      "Created results/by_layer_20250911_112921/by_layer/layer_19/V1_num_p5_V1.npz with 1050 questions\n"
     ]
    },
    {
     "name": "stderr",
     "output_type": "stream",
     "text": [
      "Layer 20: 100%|██████████| 1050/1050 [00:01<00:00, 557.16it/s]\n"
     ]
    },
    {
     "name": "stdout",
     "output_type": "stream",
     "text": [
      "Created results/by_layer_20250911_112921/by_layer/layer_20/V1_num_p5_V1.npz with 1050 questions\n"
     ]
    },
    {
     "name": "stderr",
     "output_type": "stream",
     "text": [
      "Layer 21: 100%|██████████| 1050/1050 [00:01<00:00, 539.99it/s]\n"
     ]
    },
    {
     "name": "stdout",
     "output_type": "stream",
     "text": [
      "Created results/by_layer_20250911_112921/by_layer/layer_21/V1_num_p5_V1.npz with 1050 questions\n"
     ]
    },
    {
     "name": "stderr",
     "output_type": "stream",
     "text": [
      "Layer 22: 100%|██████████| 1050/1050 [00:01<00:00, 589.94it/s]\n"
     ]
    },
    {
     "name": "stdout",
     "output_type": "stream",
     "text": [
      "Created results/by_layer_20250911_112921/by_layer/layer_22/V1_num_p5_V1.npz with 1050 questions\n"
     ]
    },
    {
     "name": "stderr",
     "output_type": "stream",
     "text": [
      "Layer 23: 100%|██████████| 1050/1050 [00:01<00:00, 550.51it/s]\n"
     ]
    },
    {
     "name": "stdout",
     "output_type": "stream",
     "text": [
      "Created results/by_layer_20250911_112921/by_layer/layer_23/V1_num_p5_V1.npz with 1050 questions\n"
     ]
    },
    {
     "name": "stderr",
     "output_type": "stream",
     "text": [
      "Layer 24: 100%|██████████| 1050/1050 [00:02<00:00, 522.69it/s]\n"
     ]
    },
    {
     "name": "stdout",
     "output_type": "stream",
     "text": [
      "Created results/by_layer_20250911_112921/by_layer/layer_24/V1_num_p5_V1.npz with 1050 questions\n"
     ]
    },
    {
     "name": "stderr",
     "output_type": "stream",
     "text": [
      "Layer 25: 100%|██████████| 1050/1050 [00:01<00:00, 526.58it/s]\n"
     ]
    },
    {
     "name": "stdout",
     "output_type": "stream",
     "text": [
      "Created results/by_layer_20250911_112921/by_layer/layer_25/V1_num_p5_V1.npz with 1050 questions\n"
     ]
    },
    {
     "name": "stderr",
     "output_type": "stream",
     "text": [
      "Layer 26: 100%|██████████| 1050/1050 [00:02<00:00, 493.85it/s]\n"
     ]
    },
    {
     "name": "stdout",
     "output_type": "stream",
     "text": [
      "Created results/by_layer_20250911_112921/by_layer/layer_26/V1_num_p5_V1.npz with 1050 questions\n"
     ]
    },
    {
     "name": "stderr",
     "output_type": "stream",
     "text": [
      "Layer 27: 100%|██████████| 1050/1050 [00:01<00:00, 562.12it/s]\n"
     ]
    },
    {
     "name": "stdout",
     "output_type": "stream",
     "text": [
      "Created results/by_layer_20250911_112921/by_layer/layer_27/V1_num_p5_V1.npz with 1050 questions\n"
     ]
    },
    {
     "name": "stderr",
     "output_type": "stream",
     "text": [
      "Layer 28: 100%|██████████| 1050/1050 [00:01<00:00, 566.70it/s]\n"
     ]
    },
    {
     "name": "stdout",
     "output_type": "stream",
     "text": [
      "Created results/by_layer_20250911_112921/by_layer/layer_28/V1_num_p5_V1.npz with 1050 questions\n"
     ]
    },
    {
     "name": "stderr",
     "output_type": "stream",
     "text": [
      "Layer 29: 100%|██████████| 1050/1050 [00:01<00:00, 533.01it/s]\n"
     ]
    },
    {
     "name": "stdout",
     "output_type": "stream",
     "text": [
      "Created results/by_layer_20250911_112921/by_layer/layer_29/V1_num_p5_V1.npz with 1050 questions\n"
     ]
    },
    {
     "name": "stderr",
     "output_type": "stream",
     "text": [
      "Layer 30: 100%|██████████| 1050/1050 [00:02<00:00, 521.84it/s]\n"
     ]
    },
    {
     "name": "stdout",
     "output_type": "stream",
     "text": [
      "Created results/by_layer_20250911_112921/by_layer/layer_30/V1_num_p5_V1.npz with 1050 questions\n"
     ]
    },
    {
     "name": "stderr",
     "output_type": "stream",
     "text": [
      "Layer 31: 100%|██████████| 1050/1050 [00:01<00:00, 540.86it/s]\n"
     ]
    },
    {
     "name": "stdout",
     "output_type": "stream",
     "text": [
      "Created results/by_layer_20250911_112921/by_layer/layer_31/V1_num_p5_V1.npz with 1050 questions\n"
     ]
    },
    {
     "name": "stderr",
     "output_type": "stream",
     "text": [
      "Layer 32: 100%|██████████| 1050/1050 [00:02<00:00, 476.07it/s]\n"
     ]
    },
    {
     "name": "stdout",
     "output_type": "stream",
     "text": [
      "Created results/by_layer_20250911_112921/by_layer/layer_32/V1_num_p5_V1.npz with 1050 questions\n"
     ]
    },
    {
     "name": "stderr",
     "output_type": "stream",
     "text": [
      "Layer 33: 100%|██████████| 1050/1050 [00:01<00:00, 559.25it/s]\n"
     ]
    },
    {
     "name": "stdout",
     "output_type": "stream",
     "text": [
      "Created results/by_layer_20250911_112921/by_layer/layer_33/V1_num_p5_V1.npz with 1050 questions\n"
     ]
    },
    {
     "name": "stderr",
     "output_type": "stream",
     "text": [
      "Layer 34: 100%|██████████| 1050/1050 [00:01<00:00, 545.02it/s]\n"
     ]
    },
    {
     "name": "stdout",
     "output_type": "stream",
     "text": [
      "Created results/by_layer_20250911_112921/by_layer/layer_34/V1_num_p5_V1.npz with 1050 questions\n",
      "\n",
      "Processing experiment 48/60: results/comprehensive_experiments/run_20250911_062422/V4_num_p5\n",
      "Processing experiment: results/comprehensive_experiments/run_20250911_062422/V4_num_p5\n",
      "File: hidden_states_V4.npz, Layers: 35, Hidden dim: 2560\n"
     ]
    },
    {
     "name": "stderr",
     "output_type": "stream",
     "text": [
      "Layer 00: 100%|██████████| 1050/1050 [00:02<00:00, 366.51it/s]\n"
     ]
    },
    {
     "name": "stdout",
     "output_type": "stream",
     "text": [
      "Created results/by_layer_20250911_112921/by_layer/layer_00/V4_num_p5_V4.npz with 1050 questions\n"
     ]
    },
    {
     "name": "stderr",
     "output_type": "stream",
     "text": [
      "Layer 01: 100%|██████████| 1050/1050 [00:01<00:00, 529.83it/s]\n"
     ]
    },
    {
     "name": "stdout",
     "output_type": "stream",
     "text": [
      "Created results/by_layer_20250911_112921/by_layer/layer_01/V4_num_p5_V4.npz with 1050 questions\n"
     ]
    },
    {
     "name": "stderr",
     "output_type": "stream",
     "text": [
      "Layer 02: 100%|██████████| 1050/1050 [00:01<00:00, 560.78it/s]\n"
     ]
    },
    {
     "name": "stdout",
     "output_type": "stream",
     "text": [
      "Created results/by_layer_20250911_112921/by_layer/layer_02/V4_num_p5_V4.npz with 1050 questions\n"
     ]
    },
    {
     "name": "stderr",
     "output_type": "stream",
     "text": [
      "Layer 03: 100%|██████████| 1050/1050 [00:01<00:00, 540.21it/s]\n"
     ]
    },
    {
     "name": "stdout",
     "output_type": "stream",
     "text": [
      "Created results/by_layer_20250911_112921/by_layer/layer_03/V4_num_p5_V4.npz with 1050 questions\n"
     ]
    },
    {
     "name": "stderr",
     "output_type": "stream",
     "text": [
      "Layer 04: 100%|██████████| 1050/1050 [00:01<00:00, 575.35it/s]\n"
     ]
    },
    {
     "name": "stdout",
     "output_type": "stream",
     "text": [
      "Created results/by_layer_20250911_112921/by_layer/layer_04/V4_num_p5_V4.npz with 1050 questions\n"
     ]
    },
    {
     "name": "stderr",
     "output_type": "stream",
     "text": [
      "Layer 05: 100%|██████████| 1050/1050 [00:01<00:00, 537.31it/s]\n"
     ]
    },
    {
     "name": "stdout",
     "output_type": "stream",
     "text": [
      "Created results/by_layer_20250911_112921/by_layer/layer_05/V4_num_p5_V4.npz with 1050 questions\n"
     ]
    },
    {
     "name": "stderr",
     "output_type": "stream",
     "text": [
      "Layer 06: 100%|██████████| 1050/1050 [00:01<00:00, 528.04it/s]\n"
     ]
    },
    {
     "name": "stdout",
     "output_type": "stream",
     "text": [
      "Created results/by_layer_20250911_112921/by_layer/layer_06/V4_num_p5_V4.npz with 1050 questions\n"
     ]
    },
    {
     "name": "stderr",
     "output_type": "stream",
     "text": [
      "Layer 07: 100%|██████████| 1050/1050 [00:01<00:00, 563.05it/s]\n"
     ]
    },
    {
     "name": "stdout",
     "output_type": "stream",
     "text": [
      "Created results/by_layer_20250911_112921/by_layer/layer_07/V4_num_p5_V4.npz with 1050 questions\n"
     ]
    },
    {
     "name": "stderr",
     "output_type": "stream",
     "text": [
      "Layer 08: 100%|██████████| 1050/1050 [00:01<00:00, 609.05it/s]\n"
     ]
    },
    {
     "name": "stdout",
     "output_type": "stream",
     "text": [
      "Created results/by_layer_20250911_112921/by_layer/layer_08/V4_num_p5_V4.npz with 1050 questions\n"
     ]
    },
    {
     "name": "stderr",
     "output_type": "stream",
     "text": [
      "Layer 09: 100%|██████████| 1050/1050 [00:02<00:00, 521.71it/s]\n"
     ]
    },
    {
     "name": "stdout",
     "output_type": "stream",
     "text": [
      "Created results/by_layer_20250911_112921/by_layer/layer_09/V4_num_p5_V4.npz with 1050 questions\n"
     ]
    },
    {
     "name": "stderr",
     "output_type": "stream",
     "text": [
      "Layer 10: 100%|██████████| 1050/1050 [00:01<00:00, 559.47it/s]\n"
     ]
    },
    {
     "name": "stdout",
     "output_type": "stream",
     "text": [
      "Created results/by_layer_20250911_112921/by_layer/layer_10/V4_num_p5_V4.npz with 1050 questions\n"
     ]
    },
    {
     "name": "stderr",
     "output_type": "stream",
     "text": [
      "Layer 11: 100%|██████████| 1050/1050 [00:02<00:00, 523.73it/s]\n"
     ]
    },
    {
     "name": "stdout",
     "output_type": "stream",
     "text": [
      "Created results/by_layer_20250911_112921/by_layer/layer_11/V4_num_p5_V4.npz with 1050 questions\n"
     ]
    },
    {
     "name": "stderr",
     "output_type": "stream",
     "text": [
      "Layer 12: 100%|██████████| 1050/1050 [00:01<00:00, 526.92it/s]\n"
     ]
    },
    {
     "name": "stdout",
     "output_type": "stream",
     "text": [
      "Created results/by_layer_20250911_112921/by_layer/layer_12/V4_num_p5_V4.npz with 1050 questions\n"
     ]
    },
    {
     "name": "stderr",
     "output_type": "stream",
     "text": [
      "Layer 13: 100%|██████████| 1050/1050 [00:01<00:00, 537.93it/s]\n"
     ]
    },
    {
     "name": "stdout",
     "output_type": "stream",
     "text": [
      "Created results/by_layer_20250911_112921/by_layer/layer_13/V4_num_p5_V4.npz with 1050 questions\n"
     ]
    },
    {
     "name": "stderr",
     "output_type": "stream",
     "text": [
      "Layer 14: 100%|██████████| 1050/1050 [00:01<00:00, 553.68it/s]\n"
     ]
    },
    {
     "name": "stdout",
     "output_type": "stream",
     "text": [
      "Created results/by_layer_20250911_112921/by_layer/layer_14/V4_num_p5_V4.npz with 1050 questions\n"
     ]
    },
    {
     "name": "stderr",
     "output_type": "stream",
     "text": [
      "Layer 15: 100%|██████████| 1050/1050 [00:01<00:00, 571.52it/s]\n"
     ]
    },
    {
     "name": "stdout",
     "output_type": "stream",
     "text": [
      "Created results/by_layer_20250911_112921/by_layer/layer_15/V4_num_p5_V4.npz with 1050 questions\n"
     ]
    },
    {
     "name": "stderr",
     "output_type": "stream",
     "text": [
      "Layer 16: 100%|██████████| 1050/1050 [00:01<00:00, 540.09it/s]\n"
     ]
    },
    {
     "name": "stdout",
     "output_type": "stream",
     "text": [
      "Created results/by_layer_20250911_112921/by_layer/layer_16/V4_num_p5_V4.npz with 1050 questions\n"
     ]
    },
    {
     "name": "stderr",
     "output_type": "stream",
     "text": [
      "Layer 17: 100%|██████████| 1050/1050 [00:01<00:00, 593.66it/s]\n"
     ]
    },
    {
     "name": "stdout",
     "output_type": "stream",
     "text": [
      "Created results/by_layer_20250911_112921/by_layer/layer_17/V4_num_p5_V4.npz with 1050 questions\n"
     ]
    },
    {
     "name": "stderr",
     "output_type": "stream",
     "text": [
      "Layer 18: 100%|██████████| 1050/1050 [00:01<00:00, 564.89it/s]\n"
     ]
    },
    {
     "name": "stdout",
     "output_type": "stream",
     "text": [
      "Created results/by_layer_20250911_112921/by_layer/layer_18/V4_num_p5_V4.npz with 1050 questions\n"
     ]
    },
    {
     "name": "stderr",
     "output_type": "stream",
     "text": [
      "Layer 19: 100%|██████████| 1050/1050 [00:01<00:00, 600.60it/s]\n"
     ]
    },
    {
     "name": "stdout",
     "output_type": "stream",
     "text": [
      "Created results/by_layer_20250911_112921/by_layer/layer_19/V4_num_p5_V4.npz with 1050 questions\n"
     ]
    },
    {
     "name": "stderr",
     "output_type": "stream",
     "text": [
      "Layer 20: 100%|██████████| 1050/1050 [00:01<00:00, 590.81it/s]\n"
     ]
    },
    {
     "name": "stdout",
     "output_type": "stream",
     "text": [
      "Created results/by_layer_20250911_112921/by_layer/layer_20/V4_num_p5_V4.npz with 1050 questions\n"
     ]
    },
    {
     "name": "stderr",
     "output_type": "stream",
     "text": [
      "Layer 21: 100%|██████████| 1050/1050 [00:01<00:00, 529.41it/s]\n"
     ]
    },
    {
     "name": "stdout",
     "output_type": "stream",
     "text": [
      "Created results/by_layer_20250911_112921/by_layer/layer_21/V4_num_p5_V4.npz with 1050 questions\n"
     ]
    },
    {
     "name": "stderr",
     "output_type": "stream",
     "text": [
      "Layer 22: 100%|██████████| 1050/1050 [00:01<00:00, 548.09it/s]\n"
     ]
    },
    {
     "name": "stdout",
     "output_type": "stream",
     "text": [
      "Created results/by_layer_20250911_112921/by_layer/layer_22/V4_num_p5_V4.npz with 1050 questions\n"
     ]
    },
    {
     "name": "stderr",
     "output_type": "stream",
     "text": [
      "Layer 23: 100%|██████████| 1050/1050 [00:01<00:00, 537.83it/s]\n"
     ]
    },
    {
     "name": "stdout",
     "output_type": "stream",
     "text": [
      "Created results/by_layer_20250911_112921/by_layer/layer_23/V4_num_p5_V4.npz with 1050 questions\n"
     ]
    },
    {
     "name": "stderr",
     "output_type": "stream",
     "text": [
      "Layer 24: 100%|██████████| 1050/1050 [00:01<00:00, 568.86it/s]\n"
     ]
    },
    {
     "name": "stdout",
     "output_type": "stream",
     "text": [
      "Created results/by_layer_20250911_112921/by_layer/layer_24/V4_num_p5_V4.npz with 1050 questions\n"
     ]
    },
    {
     "name": "stderr",
     "output_type": "stream",
     "text": [
      "Layer 25: 100%|██████████| 1050/1050 [00:01<00:00, 608.85it/s]\n"
     ]
    },
    {
     "name": "stdout",
     "output_type": "stream",
     "text": [
      "Created results/by_layer_20250911_112921/by_layer/layer_25/V4_num_p5_V4.npz with 1050 questions\n"
     ]
    },
    {
     "name": "stderr",
     "output_type": "stream",
     "text": [
      "Layer 26: 100%|██████████| 1050/1050 [00:01<00:00, 552.65it/s]\n"
     ]
    },
    {
     "name": "stdout",
     "output_type": "stream",
     "text": [
      "Created results/by_layer_20250911_112921/by_layer/layer_26/V4_num_p5_V4.npz with 1050 questions\n"
     ]
    },
    {
     "name": "stderr",
     "output_type": "stream",
     "text": [
      "Layer 27: 100%|██████████| 1050/1050 [00:01<00:00, 613.80it/s]\n"
     ]
    },
    {
     "name": "stdout",
     "output_type": "stream",
     "text": [
      "Created results/by_layer_20250911_112921/by_layer/layer_27/V4_num_p5_V4.npz with 1050 questions\n"
     ]
    },
    {
     "name": "stderr",
     "output_type": "stream",
     "text": [
      "Layer 28: 100%|██████████| 1050/1050 [00:01<00:00, 567.77it/s]\n"
     ]
    },
    {
     "name": "stdout",
     "output_type": "stream",
     "text": [
      "Created results/by_layer_20250911_112921/by_layer/layer_28/V4_num_p5_V4.npz with 1050 questions\n"
     ]
    },
    {
     "name": "stderr",
     "output_type": "stream",
     "text": [
      "Layer 29: 100%|██████████| 1050/1050 [00:01<00:00, 549.88it/s]\n"
     ]
    },
    {
     "name": "stdout",
     "output_type": "stream",
     "text": [
      "Created results/by_layer_20250911_112921/by_layer/layer_29/V4_num_p5_V4.npz with 1050 questions\n"
     ]
    },
    {
     "name": "stderr",
     "output_type": "stream",
     "text": [
      "Layer 30: 100%|██████████| 1050/1050 [00:01<00:00, 566.17it/s]\n"
     ]
    },
    {
     "name": "stdout",
     "output_type": "stream",
     "text": [
      "Created results/by_layer_20250911_112921/by_layer/layer_30/V4_num_p5_V4.npz with 1050 questions\n"
     ]
    },
    {
     "name": "stderr",
     "output_type": "stream",
     "text": [
      "Layer 31: 100%|██████████| 1050/1050 [00:03<00:00, 343.87it/s]\n"
     ]
    },
    {
     "name": "stdout",
     "output_type": "stream",
     "text": [
      "Created results/by_layer_20250911_112921/by_layer/layer_31/V4_num_p5_V4.npz with 1050 questions\n"
     ]
    },
    {
     "name": "stderr",
     "output_type": "stream",
     "text": [
      "Layer 32: 100%|██████████| 1050/1050 [00:01<00:00, 549.37it/s]\n"
     ]
    },
    {
     "name": "stdout",
     "output_type": "stream",
     "text": [
      "Created results/by_layer_20250911_112921/by_layer/layer_32/V4_num_p5_V4.npz with 1050 questions\n"
     ]
    },
    {
     "name": "stderr",
     "output_type": "stream",
     "text": [
      "Layer 33: 100%|██████████| 1050/1050 [00:01<00:00, 539.02it/s]\n"
     ]
    },
    {
     "name": "stdout",
     "output_type": "stream",
     "text": [
      "Created results/by_layer_20250911_112921/by_layer/layer_33/V4_num_p5_V4.npz with 1050 questions\n"
     ]
    },
    {
     "name": "stderr",
     "output_type": "stream",
     "text": [
      "Layer 34: 100%|██████████| 1050/1050 [00:01<00:00, 586.11it/s]\n"
     ]
    },
    {
     "name": "stdout",
     "output_type": "stream",
     "text": [
      "Created results/by_layer_20250911_112921/by_layer/layer_34/V4_num_p5_V4.npz with 1050 questions\n",
      "\n",
      "Processing experiment 49/60: results/comprehensive_experiments/run_20250911_062422/V4_alpha_p5\n",
      "Processing experiment: results/comprehensive_experiments/run_20250911_062422/V4_alpha_p5\n",
      "File: hidden_states_V4.npz, Layers: 35, Hidden dim: 2560\n"
     ]
    },
    {
     "name": "stderr",
     "output_type": "stream",
     "text": [
      "Layer 00: 100%|██████████| 1050/1050 [00:02<00:00, 375.92it/s]\n"
     ]
    },
    {
     "name": "stdout",
     "output_type": "stream",
     "text": [
      "Created results/by_layer_20250911_112921/by_layer/layer_00/V4_alpha_p5_V4.npz with 1050 questions\n"
     ]
    },
    {
     "name": "stderr",
     "output_type": "stream",
     "text": [
      "Layer 01: 100%|██████████| 1050/1050 [00:01<00:00, 536.63it/s]\n"
     ]
    },
    {
     "name": "stdout",
     "output_type": "stream",
     "text": [
      "Created results/by_layer_20250911_112921/by_layer/layer_01/V4_alpha_p5_V4.npz with 1050 questions\n"
     ]
    },
    {
     "name": "stderr",
     "output_type": "stream",
     "text": [
      "Layer 02: 100%|██████████| 1050/1050 [00:01<00:00, 546.76it/s]\n"
     ]
    },
    {
     "name": "stdout",
     "output_type": "stream",
     "text": [
      "Created results/by_layer_20250911_112921/by_layer/layer_02/V4_alpha_p5_V4.npz with 1050 questions\n"
     ]
    },
    {
     "name": "stderr",
     "output_type": "stream",
     "text": [
      "Layer 03: 100%|██████████| 1050/1050 [00:01<00:00, 544.89it/s]\n"
     ]
    },
    {
     "name": "stdout",
     "output_type": "stream",
     "text": [
      "Created results/by_layer_20250911_112921/by_layer/layer_03/V4_alpha_p5_V4.npz with 1050 questions\n"
     ]
    },
    {
     "name": "stderr",
     "output_type": "stream",
     "text": [
      "Layer 04: 100%|██████████| 1050/1050 [00:02<00:00, 445.14it/s]\n"
     ]
    },
    {
     "name": "stdout",
     "output_type": "stream",
     "text": [
      "Created results/by_layer_20250911_112921/by_layer/layer_04/V4_alpha_p5_V4.npz with 1050 questions\n"
     ]
    },
    {
     "name": "stderr",
     "output_type": "stream",
     "text": [
      "Layer 05: 100%|██████████| 1050/1050 [00:01<00:00, 529.67it/s]\n"
     ]
    },
    {
     "name": "stdout",
     "output_type": "stream",
     "text": [
      "Created results/by_layer_20250911_112921/by_layer/layer_05/V4_alpha_p5_V4.npz with 1050 questions\n"
     ]
    },
    {
     "name": "stderr",
     "output_type": "stream",
     "text": [
      "Layer 06: 100%|██████████| 1050/1050 [00:01<00:00, 545.66it/s]\n"
     ]
    },
    {
     "name": "stdout",
     "output_type": "stream",
     "text": [
      "Created results/by_layer_20250911_112921/by_layer/layer_06/V4_alpha_p5_V4.npz with 1050 questions\n"
     ]
    },
    {
     "name": "stderr",
     "output_type": "stream",
     "text": [
      "Layer 07: 100%|██████████| 1050/1050 [00:01<00:00, 528.42it/s]\n"
     ]
    },
    {
     "name": "stdout",
     "output_type": "stream",
     "text": [
      "Created results/by_layer_20250911_112921/by_layer/layer_07/V4_alpha_p5_V4.npz with 1050 questions\n"
     ]
    },
    {
     "name": "stderr",
     "output_type": "stream",
     "text": [
      "Layer 08: 100%|██████████| 1050/1050 [00:01<00:00, 558.72it/s]\n"
     ]
    },
    {
     "name": "stdout",
     "output_type": "stream",
     "text": [
      "Created results/by_layer_20250911_112921/by_layer/layer_08/V4_alpha_p5_V4.npz with 1050 questions\n"
     ]
    },
    {
     "name": "stderr",
     "output_type": "stream",
     "text": [
      "Layer 09: 100%|██████████| 1050/1050 [00:02<00:00, 519.40it/s]\n"
     ]
    },
    {
     "name": "stdout",
     "output_type": "stream",
     "text": [
      "Created results/by_layer_20250911_112921/by_layer/layer_09/V4_alpha_p5_V4.npz with 1050 questions\n"
     ]
    },
    {
     "name": "stderr",
     "output_type": "stream",
     "text": [
      "Layer 10: 100%|██████████| 1050/1050 [00:02<00:00, 518.93it/s]\n"
     ]
    },
    {
     "name": "stdout",
     "output_type": "stream",
     "text": [
      "Created results/by_layer_20250911_112921/by_layer/layer_10/V4_alpha_p5_V4.npz with 1050 questions\n"
     ]
    },
    {
     "name": "stderr",
     "output_type": "stream",
     "text": [
      "Layer 11: 100%|██████████| 1050/1050 [00:01<00:00, 537.91it/s]\n"
     ]
    },
    {
     "name": "stdout",
     "output_type": "stream",
     "text": [
      "Created results/by_layer_20250911_112921/by_layer/layer_11/V4_alpha_p5_V4.npz with 1050 questions\n"
     ]
    },
    {
     "name": "stderr",
     "output_type": "stream",
     "text": [
      "Layer 12: 100%|██████████| 1050/1050 [00:01<00:00, 527.57it/s]\n"
     ]
    },
    {
     "name": "stdout",
     "output_type": "stream",
     "text": [
      "Created results/by_layer_20250911_112921/by_layer/layer_12/V4_alpha_p5_V4.npz with 1050 questions\n"
     ]
    },
    {
     "name": "stderr",
     "output_type": "stream",
     "text": [
      "Layer 13: 100%|██████████| 1050/1050 [00:02<00:00, 500.06it/s]\n"
     ]
    },
    {
     "name": "stdout",
     "output_type": "stream",
     "text": [
      "Created results/by_layer_20250911_112921/by_layer/layer_13/V4_alpha_p5_V4.npz with 1050 questions\n"
     ]
    },
    {
     "name": "stderr",
     "output_type": "stream",
     "text": [
      "Layer 14: 100%|██████████| 1050/1050 [00:02<00:00, 506.66it/s]\n"
     ]
    },
    {
     "name": "stdout",
     "output_type": "stream",
     "text": [
      "Created results/by_layer_20250911_112921/by_layer/layer_14/V4_alpha_p5_V4.npz with 1050 questions\n"
     ]
    },
    {
     "name": "stderr",
     "output_type": "stream",
     "text": [
      "Layer 15: 100%|██████████| 1050/1050 [00:01<00:00, 537.17it/s]\n"
     ]
    },
    {
     "name": "stdout",
     "output_type": "stream",
     "text": [
      "Created results/by_layer_20250911_112921/by_layer/layer_15/V4_alpha_p5_V4.npz with 1050 questions\n"
     ]
    },
    {
     "name": "stderr",
     "output_type": "stream",
     "text": [
      "Layer 16: 100%|██████████| 1050/1050 [00:01<00:00, 536.25it/s]\n"
     ]
    },
    {
     "name": "stdout",
     "output_type": "stream",
     "text": [
      "Created results/by_layer_20250911_112921/by_layer/layer_16/V4_alpha_p5_V4.npz with 1050 questions\n"
     ]
    },
    {
     "name": "stderr",
     "output_type": "stream",
     "text": [
      "Layer 17: 100%|██████████| 1050/1050 [00:02<00:00, 358.03it/s]\n"
     ]
    },
    {
     "name": "stdout",
     "output_type": "stream",
     "text": [
      "Created results/by_layer_20250911_112921/by_layer/layer_17/V4_alpha_p5_V4.npz with 1050 questions\n"
     ]
    },
    {
     "name": "stderr",
     "output_type": "stream",
     "text": [
      "Layer 18: 100%|██████████| 1050/1050 [00:01<00:00, 562.55it/s]\n"
     ]
    },
    {
     "name": "stdout",
     "output_type": "stream",
     "text": [
      "Created results/by_layer_20250911_112921/by_layer/layer_18/V4_alpha_p5_V4.npz with 1050 questions\n"
     ]
    },
    {
     "name": "stderr",
     "output_type": "stream",
     "text": [
      "Layer 19: 100%|██████████| 1050/1050 [00:01<00:00, 537.95it/s]\n"
     ]
    },
    {
     "name": "stdout",
     "output_type": "stream",
     "text": [
      "Created results/by_layer_20250911_112921/by_layer/layer_19/V4_alpha_p5_V4.npz with 1050 questions\n"
     ]
    },
    {
     "name": "stderr",
     "output_type": "stream",
     "text": [
      "Layer 20: 100%|██████████| 1050/1050 [00:02<00:00, 455.32it/s]\n"
     ]
    },
    {
     "name": "stdout",
     "output_type": "stream",
     "text": [
      "Created results/by_layer_20250911_112921/by_layer/layer_20/V4_alpha_p5_V4.npz with 1050 questions\n"
     ]
    },
    {
     "name": "stderr",
     "output_type": "stream",
     "text": [
      "Layer 21: 100%|██████████| 1050/1050 [00:02<00:00, 497.70it/s]\n"
     ]
    },
    {
     "name": "stdout",
     "output_type": "stream",
     "text": [
      "Created results/by_layer_20250911_112921/by_layer/layer_21/V4_alpha_p5_V4.npz with 1050 questions\n"
     ]
    },
    {
     "name": "stderr",
     "output_type": "stream",
     "text": [
      "Layer 22: 100%|██████████| 1050/1050 [00:02<00:00, 500.71it/s]\n"
     ]
    },
    {
     "name": "stdout",
     "output_type": "stream",
     "text": [
      "Created results/by_layer_20250911_112921/by_layer/layer_22/V4_alpha_p5_V4.npz with 1050 questions\n"
     ]
    },
    {
     "name": "stderr",
     "output_type": "stream",
     "text": [
      "Layer 23: 100%|██████████| 1050/1050 [00:01<00:00, 557.38it/s]\n"
     ]
    },
    {
     "name": "stdout",
     "output_type": "stream",
     "text": [
      "Created results/by_layer_20250911_112921/by_layer/layer_23/V4_alpha_p5_V4.npz with 1050 questions\n"
     ]
    },
    {
     "name": "stderr",
     "output_type": "stream",
     "text": [
      "Layer 24: 100%|██████████| 1050/1050 [00:01<00:00, 581.70it/s]\n"
     ]
    },
    {
     "name": "stdout",
     "output_type": "stream",
     "text": [
      "Created results/by_layer_20250911_112921/by_layer/layer_24/V4_alpha_p5_V4.npz with 1050 questions\n"
     ]
    },
    {
     "name": "stderr",
     "output_type": "stream",
     "text": [
      "Layer 25: 100%|██████████| 1050/1050 [00:01<00:00, 574.38it/s]\n"
     ]
    },
    {
     "name": "stdout",
     "output_type": "stream",
     "text": [
      "Created results/by_layer_20250911_112921/by_layer/layer_25/V4_alpha_p5_V4.npz with 1050 questions\n"
     ]
    },
    {
     "name": "stderr",
     "output_type": "stream",
     "text": [
      "Layer 26: 100%|██████████| 1050/1050 [00:01<00:00, 583.51it/s]\n"
     ]
    },
    {
     "name": "stdout",
     "output_type": "stream",
     "text": [
      "Created results/by_layer_20250911_112921/by_layer/layer_26/V4_alpha_p5_V4.npz with 1050 questions\n"
     ]
    },
    {
     "name": "stderr",
     "output_type": "stream",
     "text": [
      "Layer 27: 100%|██████████| 1050/1050 [00:01<00:00, 559.16it/s]\n"
     ]
    },
    {
     "name": "stdout",
     "output_type": "stream",
     "text": [
      "Created results/by_layer_20250911_112921/by_layer/layer_27/V4_alpha_p5_V4.npz with 1050 questions\n"
     ]
    },
    {
     "name": "stderr",
     "output_type": "stream",
     "text": [
      "Layer 28: 100%|██████████| 1050/1050 [00:01<00:00, 583.45it/s]\n"
     ]
    },
    {
     "name": "stdout",
     "output_type": "stream",
     "text": [
      "Created results/by_layer_20250911_112921/by_layer/layer_28/V4_alpha_p5_V4.npz with 1050 questions\n"
     ]
    },
    {
     "name": "stderr",
     "output_type": "stream",
     "text": [
      "Layer 29: 100%|██████████| 1050/1050 [00:02<00:00, 515.12it/s]\n"
     ]
    },
    {
     "name": "stdout",
     "output_type": "stream",
     "text": [
      "Created results/by_layer_20250911_112921/by_layer/layer_29/V4_alpha_p5_V4.npz with 1050 questions\n"
     ]
    },
    {
     "name": "stderr",
     "output_type": "stream",
     "text": [
      "Layer 30: 100%|██████████| 1050/1050 [00:01<00:00, 549.71it/s]\n"
     ]
    },
    {
     "name": "stdout",
     "output_type": "stream",
     "text": [
      "Created results/by_layer_20250911_112921/by_layer/layer_30/V4_alpha_p5_V4.npz with 1050 questions\n"
     ]
    },
    {
     "name": "stderr",
     "output_type": "stream",
     "text": [
      "Layer 31: 100%|██████████| 1050/1050 [00:01<00:00, 539.83it/s]\n"
     ]
    },
    {
     "name": "stdout",
     "output_type": "stream",
     "text": [
      "Created results/by_layer_20250911_112921/by_layer/layer_31/V4_alpha_p5_V4.npz with 1050 questions\n"
     ]
    },
    {
     "name": "stderr",
     "output_type": "stream",
     "text": [
      "Layer 32: 100%|██████████| 1050/1050 [00:02<00:00, 501.54it/s]\n"
     ]
    },
    {
     "name": "stdout",
     "output_type": "stream",
     "text": [
      "Created results/by_layer_20250911_112921/by_layer/layer_32/V4_alpha_p5_V4.npz with 1050 questions\n"
     ]
    },
    {
     "name": "stderr",
     "output_type": "stream",
     "text": [
      "Layer 33: 100%|██████████| 1050/1050 [00:01<00:00, 544.73it/s]\n"
     ]
    },
    {
     "name": "stdout",
     "output_type": "stream",
     "text": [
      "Created results/by_layer_20250911_112921/by_layer/layer_33/V4_alpha_p5_V4.npz with 1050 questions\n"
     ]
    },
    {
     "name": "stderr",
     "output_type": "stream",
     "text": [
      "Layer 34: 100%|██████████| 1050/1050 [00:02<00:00, 516.59it/s]\n"
     ]
    },
    {
     "name": "stdout",
     "output_type": "stream",
     "text": [
      "Created results/by_layer_20250911_112921/by_layer/layer_34/V4_alpha_p5_V4.npz with 1050 questions\n",
      "\n",
      "Processing experiment 50/60: results/comprehensive_experiments/run_20250911_062422/V3_alpha_p2\n",
      "Processing experiment: results/comprehensive_experiments/run_20250911_062422/V3_alpha_p2\n",
      "File: hidden_states_V3.npz, Layers: 35, Hidden dim: 2560\n"
     ]
    },
    {
     "name": "stderr",
     "output_type": "stream",
     "text": [
      "Layer 00: 100%|██████████| 1050/1050 [00:03<00:00, 304.98it/s]\n"
     ]
    },
    {
     "name": "stdout",
     "output_type": "stream",
     "text": [
      "Created results/by_layer_20250911_112921/by_layer/layer_00/V3_alpha_p2_V3.npz with 1050 questions\n"
     ]
    },
    {
     "name": "stderr",
     "output_type": "stream",
     "text": [
      "Layer 01: 100%|██████████| 1050/1050 [00:02<00:00, 411.32it/s]\n"
     ]
    },
    {
     "name": "stdout",
     "output_type": "stream",
     "text": [
      "Created results/by_layer_20250911_112921/by_layer/layer_01/V3_alpha_p2_V3.npz with 1050 questions\n"
     ]
    },
    {
     "name": "stderr",
     "output_type": "stream",
     "text": [
      "Layer 02: 100%|██████████| 1050/1050 [00:01<00:00, 538.31it/s]\n"
     ]
    },
    {
     "name": "stdout",
     "output_type": "stream",
     "text": [
      "Created results/by_layer_20250911_112921/by_layer/layer_02/V3_alpha_p2_V3.npz with 1050 questions\n"
     ]
    },
    {
     "name": "stderr",
     "output_type": "stream",
     "text": [
      "Layer 03: 100%|██████████| 1050/1050 [00:02<00:00, 490.04it/s]\n"
     ]
    },
    {
     "name": "stdout",
     "output_type": "stream",
     "text": [
      "Created results/by_layer_20250911_112921/by_layer/layer_03/V3_alpha_p2_V3.npz with 1050 questions\n"
     ]
    },
    {
     "name": "stderr",
     "output_type": "stream",
     "text": [
      "Layer 04: 100%|██████████| 1050/1050 [00:02<00:00, 484.94it/s]\n"
     ]
    },
    {
     "name": "stdout",
     "output_type": "stream",
     "text": [
      "Created results/by_layer_20250911_112921/by_layer/layer_04/V3_alpha_p2_V3.npz with 1050 questions\n"
     ]
    },
    {
     "name": "stderr",
     "output_type": "stream",
     "text": [
      "Layer 05: 100%|██████████| 1050/1050 [00:01<00:00, 534.37it/s]\n"
     ]
    },
    {
     "name": "stdout",
     "output_type": "stream",
     "text": [
      "Created results/by_layer_20250911_112921/by_layer/layer_05/V3_alpha_p2_V3.npz with 1050 questions\n"
     ]
    },
    {
     "name": "stderr",
     "output_type": "stream",
     "text": [
      "Layer 06: 100%|██████████| 1050/1050 [00:02<00:00, 485.43it/s]\n"
     ]
    },
    {
     "name": "stdout",
     "output_type": "stream",
     "text": [
      "Created results/by_layer_20250911_112921/by_layer/layer_06/V3_alpha_p2_V3.npz with 1050 questions\n"
     ]
    },
    {
     "name": "stderr",
     "output_type": "stream",
     "text": [
      "Layer 07: 100%|██████████| 1050/1050 [00:02<00:00, 501.64it/s]\n"
     ]
    },
    {
     "name": "stdout",
     "output_type": "stream",
     "text": [
      "Created results/by_layer_20250911_112921/by_layer/layer_07/V3_alpha_p2_V3.npz with 1050 questions\n"
     ]
    },
    {
     "name": "stderr",
     "output_type": "stream",
     "text": [
      "Layer 08: 100%|██████████| 1050/1050 [00:02<00:00, 521.46it/s]\n"
     ]
    },
    {
     "name": "stdout",
     "output_type": "stream",
     "text": [
      "Created results/by_layer_20250911_112921/by_layer/layer_08/V3_alpha_p2_V3.npz with 1050 questions\n"
     ]
    },
    {
     "name": "stderr",
     "output_type": "stream",
     "text": [
      "Layer 09: 100%|██████████| 1050/1050 [00:02<00:00, 511.32it/s]\n"
     ]
    },
    {
     "name": "stdout",
     "output_type": "stream",
     "text": [
      "Created results/by_layer_20250911_112921/by_layer/layer_09/V3_alpha_p2_V3.npz with 1050 questions\n"
     ]
    },
    {
     "name": "stderr",
     "output_type": "stream",
     "text": [
      "Layer 10: 100%|██████████| 1050/1050 [00:01<00:00, 531.51it/s]\n"
     ]
    },
    {
     "name": "stdout",
     "output_type": "stream",
     "text": [
      "Created results/by_layer_20250911_112921/by_layer/layer_10/V3_alpha_p2_V3.npz with 1050 questions\n"
     ]
    },
    {
     "name": "stderr",
     "output_type": "stream",
     "text": [
      "Layer 11: 100%|██████████| 1050/1050 [00:01<00:00, 537.96it/s]\n"
     ]
    },
    {
     "name": "stdout",
     "output_type": "stream",
     "text": [
      "Created results/by_layer_20250911_112921/by_layer/layer_11/V3_alpha_p2_V3.npz with 1050 questions\n"
     ]
    },
    {
     "name": "stderr",
     "output_type": "stream",
     "text": [
      "Layer 12: 100%|██████████| 1050/1050 [00:01<00:00, 560.53it/s]\n"
     ]
    },
    {
     "name": "stdout",
     "output_type": "stream",
     "text": [
      "Created results/by_layer_20250911_112921/by_layer/layer_12/V3_alpha_p2_V3.npz with 1050 questions\n"
     ]
    },
    {
     "name": "stderr",
     "output_type": "stream",
     "text": [
      "Layer 13: 100%|██████████| 1050/1050 [00:01<00:00, 546.04it/s]\n"
     ]
    },
    {
     "name": "stdout",
     "output_type": "stream",
     "text": [
      "Created results/by_layer_20250911_112921/by_layer/layer_13/V3_alpha_p2_V3.npz with 1050 questions\n"
     ]
    },
    {
     "name": "stderr",
     "output_type": "stream",
     "text": [
      "Layer 14: 100%|██████████| 1050/1050 [00:01<00:00, 544.31it/s]\n"
     ]
    },
    {
     "name": "stdout",
     "output_type": "stream",
     "text": [
      "Created results/by_layer_20250911_112921/by_layer/layer_14/V3_alpha_p2_V3.npz with 1050 questions\n"
     ]
    },
    {
     "name": "stderr",
     "output_type": "stream",
     "text": [
      "Layer 15: 100%|██████████| 1050/1050 [00:01<00:00, 529.40it/s]\n"
     ]
    },
    {
     "name": "stdout",
     "output_type": "stream",
     "text": [
      "Created results/by_layer_20250911_112921/by_layer/layer_15/V3_alpha_p2_V3.npz with 1050 questions\n"
     ]
    },
    {
     "name": "stderr",
     "output_type": "stream",
     "text": [
      "Layer 16: 100%|██████████| 1050/1050 [00:01<00:00, 540.06it/s]\n"
     ]
    },
    {
     "name": "stdout",
     "output_type": "stream",
     "text": [
      "Created results/by_layer_20250911_112921/by_layer/layer_16/V3_alpha_p2_V3.npz with 1050 questions\n"
     ]
    },
    {
     "name": "stderr",
     "output_type": "stream",
     "text": [
      "Layer 17: 100%|██████████| 1050/1050 [00:01<00:00, 547.29it/s]\n"
     ]
    },
    {
     "name": "stdout",
     "output_type": "stream",
     "text": [
      "Created results/by_layer_20250911_112921/by_layer/layer_17/V3_alpha_p2_V3.npz with 1050 questions\n"
     ]
    },
    {
     "name": "stderr",
     "output_type": "stream",
     "text": [
      "Layer 18: 100%|██████████| 1050/1050 [00:01<00:00, 527.80it/s]\n"
     ]
    },
    {
     "name": "stdout",
     "output_type": "stream",
     "text": [
      "Created results/by_layer_20250911_112921/by_layer/layer_18/V3_alpha_p2_V3.npz with 1050 questions\n"
     ]
    },
    {
     "name": "stderr",
     "output_type": "stream",
     "text": [
      "Layer 19: 100%|██████████| 1050/1050 [00:01<00:00, 606.19it/s]\n"
     ]
    },
    {
     "name": "stdout",
     "output_type": "stream",
     "text": [
      "Created results/by_layer_20250911_112921/by_layer/layer_19/V3_alpha_p2_V3.npz with 1050 questions\n"
     ]
    },
    {
     "name": "stderr",
     "output_type": "stream",
     "text": [
      "Layer 20: 100%|██████████| 1050/1050 [00:01<00:00, 573.45it/s]\n"
     ]
    },
    {
     "name": "stdout",
     "output_type": "stream",
     "text": [
      "Created results/by_layer_20250911_112921/by_layer/layer_20/V3_alpha_p2_V3.npz with 1050 questions\n"
     ]
    },
    {
     "name": "stderr",
     "output_type": "stream",
     "text": [
      "Layer 21: 100%|██████████| 1050/1050 [00:01<00:00, 551.86it/s]\n"
     ]
    },
    {
     "name": "stdout",
     "output_type": "stream",
     "text": [
      "Created results/by_layer_20250911_112921/by_layer/layer_21/V3_alpha_p2_V3.npz with 1050 questions\n"
     ]
    },
    {
     "name": "stderr",
     "output_type": "stream",
     "text": [
      "Layer 22: 100%|██████████| 1050/1050 [00:01<00:00, 545.32it/s]\n"
     ]
    },
    {
     "name": "stdout",
     "output_type": "stream",
     "text": [
      "Created results/by_layer_20250911_112921/by_layer/layer_22/V3_alpha_p2_V3.npz with 1050 questions\n"
     ]
    },
    {
     "name": "stderr",
     "output_type": "stream",
     "text": [
      "Layer 23: 100%|██████████| 1050/1050 [00:01<00:00, 546.68it/s]\n"
     ]
    },
    {
     "name": "stdout",
     "output_type": "stream",
     "text": [
      "Created results/by_layer_20250911_112921/by_layer/layer_23/V3_alpha_p2_V3.npz with 1050 questions\n"
     ]
    },
    {
     "name": "stderr",
     "output_type": "stream",
     "text": [
      "Layer 24: 100%|██████████| 1050/1050 [00:01<00:00, 525.65it/s]\n"
     ]
    },
    {
     "name": "stdout",
     "output_type": "stream",
     "text": [
      "Created results/by_layer_20250911_112921/by_layer/layer_24/V3_alpha_p2_V3.npz with 1050 questions\n"
     ]
    },
    {
     "name": "stderr",
     "output_type": "stream",
     "text": [
      "Layer 25: 100%|██████████| 1050/1050 [00:02<00:00, 368.93it/s]\n"
     ]
    },
    {
     "name": "stdout",
     "output_type": "stream",
     "text": [
      "Created results/by_layer_20250911_112921/by_layer/layer_25/V3_alpha_p2_V3.npz with 1050 questions\n"
     ]
    },
    {
     "name": "stderr",
     "output_type": "stream",
     "text": [
      "Layer 26: 100%|██████████| 1050/1050 [00:01<00:00, 545.40it/s]\n"
     ]
    },
    {
     "name": "stdout",
     "output_type": "stream",
     "text": [
      "Created results/by_layer_20250911_112921/by_layer/layer_26/V3_alpha_p2_V3.npz with 1050 questions\n"
     ]
    },
    {
     "name": "stderr",
     "output_type": "stream",
     "text": [
      "Layer 27: 100%|██████████| 1050/1050 [00:02<00:00, 445.40it/s]\n"
     ]
    },
    {
     "name": "stdout",
     "output_type": "stream",
     "text": [
      "Created results/by_layer_20250911_112921/by_layer/layer_27/V3_alpha_p2_V3.npz with 1050 questions\n"
     ]
    },
    {
     "name": "stderr",
     "output_type": "stream",
     "text": [
      "Layer 28: 100%|██████████| 1050/1050 [00:01<00:00, 582.90it/s]\n"
     ]
    },
    {
     "name": "stdout",
     "output_type": "stream",
     "text": [
      "Created results/by_layer_20250911_112921/by_layer/layer_28/V3_alpha_p2_V3.npz with 1050 questions\n"
     ]
    },
    {
     "name": "stderr",
     "output_type": "stream",
     "text": [
      "Layer 29: 100%|██████████| 1050/1050 [00:01<00:00, 644.71it/s]\n"
     ]
    },
    {
     "name": "stdout",
     "output_type": "stream",
     "text": [
      "Created results/by_layer_20250911_112921/by_layer/layer_29/V3_alpha_p2_V3.npz with 1050 questions\n"
     ]
    },
    {
     "name": "stderr",
     "output_type": "stream",
     "text": [
      "Layer 30: 100%|██████████| 1050/1050 [00:01<00:00, 581.55it/s]\n"
     ]
    },
    {
     "name": "stdout",
     "output_type": "stream",
     "text": [
      "Created results/by_layer_20250911_112921/by_layer/layer_30/V3_alpha_p2_V3.npz with 1050 questions\n"
     ]
    },
    {
     "name": "stderr",
     "output_type": "stream",
     "text": [
      "Layer 31: 100%|██████████| 1050/1050 [00:01<00:00, 537.10it/s]\n"
     ]
    },
    {
     "name": "stdout",
     "output_type": "stream",
     "text": [
      "Created results/by_layer_20250911_112921/by_layer/layer_31/V3_alpha_p2_V3.npz with 1050 questions\n"
     ]
    },
    {
     "name": "stderr",
     "output_type": "stream",
     "text": [
      "Layer 32: 100%|██████████| 1050/1050 [00:01<00:00, 569.53it/s]\n"
     ]
    },
    {
     "name": "stdout",
     "output_type": "stream",
     "text": [
      "Created results/by_layer_20250911_112921/by_layer/layer_32/V3_alpha_p2_V3.npz with 1050 questions\n"
     ]
    },
    {
     "name": "stderr",
     "output_type": "stream",
     "text": [
      "Layer 33: 100%|██████████| 1050/1050 [00:02<00:00, 493.70it/s]\n"
     ]
    },
    {
     "name": "stdout",
     "output_type": "stream",
     "text": [
      "Created results/by_layer_20250911_112921/by_layer/layer_33/V3_alpha_p2_V3.npz with 1050 questions\n"
     ]
    },
    {
     "name": "stderr",
     "output_type": "stream",
     "text": [
      "Layer 34: 100%|██████████| 1050/1050 [00:02<00:00, 384.70it/s]\n"
     ]
    },
    {
     "name": "stdout",
     "output_type": "stream",
     "text": [
      "Created results/by_layer_20250911_112921/by_layer/layer_34/V3_alpha_p2_V3.npz with 1050 questions\n",
      "\n",
      "Processing experiment 51/60: results/comprehensive_experiments/run_20250911_062422/V0_num_p3\n",
      "Processing experiment: results/comprehensive_experiments/run_20250911_062422/V0_num_p3\n",
      "File: hidden_states_V0.npz, Layers: 35, Hidden dim: 2560\n"
     ]
    },
    {
     "name": "stderr",
     "output_type": "stream",
     "text": [
      "Layer 00: 100%|██████████| 1050/1050 [00:02<00:00, 385.09it/s]\n"
     ]
    },
    {
     "name": "stdout",
     "output_type": "stream",
     "text": [
      "Created results/by_layer_20250911_112921/by_layer/layer_00/V0_num_p3_V0.npz with 1050 questions\n"
     ]
    },
    {
     "name": "stderr",
     "output_type": "stream",
     "text": [
      "Layer 01: 100%|██████████| 1050/1050 [00:01<00:00, 567.52it/s]\n"
     ]
    },
    {
     "name": "stdout",
     "output_type": "stream",
     "text": [
      "Created results/by_layer_20250911_112921/by_layer/layer_01/V0_num_p3_V0.npz with 1050 questions\n"
     ]
    },
    {
     "name": "stderr",
     "output_type": "stream",
     "text": [
      "Layer 02: 100%|██████████| 1050/1050 [00:01<00:00, 579.87it/s]\n"
     ]
    },
    {
     "name": "stdout",
     "output_type": "stream",
     "text": [
      "Created results/by_layer_20250911_112921/by_layer/layer_02/V0_num_p3_V0.npz with 1050 questions\n"
     ]
    },
    {
     "name": "stderr",
     "output_type": "stream",
     "text": [
      "Layer 03: 100%|██████████| 1050/1050 [00:01<00:00, 609.88it/s]\n"
     ]
    },
    {
     "name": "stdout",
     "output_type": "stream",
     "text": [
      "Created results/by_layer_20250911_112921/by_layer/layer_03/V0_num_p3_V0.npz with 1050 questions\n"
     ]
    },
    {
     "name": "stderr",
     "output_type": "stream",
     "text": [
      "Layer 04: 100%|██████████| 1050/1050 [00:02<00:00, 505.88it/s]\n"
     ]
    },
    {
     "name": "stdout",
     "output_type": "stream",
     "text": [
      "Created results/by_layer_20250911_112921/by_layer/layer_04/V0_num_p3_V0.npz with 1050 questions\n"
     ]
    },
    {
     "name": "stderr",
     "output_type": "stream",
     "text": [
      "Layer 05: 100%|██████████| 1050/1050 [00:01<00:00, 570.03it/s]\n"
     ]
    },
    {
     "name": "stdout",
     "output_type": "stream",
     "text": [
      "Created results/by_layer_20250911_112921/by_layer/layer_05/V0_num_p3_V0.npz with 1050 questions\n"
     ]
    },
    {
     "name": "stderr",
     "output_type": "stream",
     "text": [
      "Layer 06: 100%|██████████| 1050/1050 [00:01<00:00, 540.44it/s]\n"
     ]
    },
    {
     "name": "stdout",
     "output_type": "stream",
     "text": [
      "Created results/by_layer_20250911_112921/by_layer/layer_06/V0_num_p3_V0.npz with 1050 questions\n"
     ]
    },
    {
     "name": "stderr",
     "output_type": "stream",
     "text": [
      "Layer 07: 100%|██████████| 1050/1050 [00:01<00:00, 546.63it/s]\n"
     ]
    },
    {
     "name": "stdout",
     "output_type": "stream",
     "text": [
      "Created results/by_layer_20250911_112921/by_layer/layer_07/V0_num_p3_V0.npz with 1050 questions\n"
     ]
    },
    {
     "name": "stderr",
     "output_type": "stream",
     "text": [
      "Layer 08: 100%|██████████| 1050/1050 [00:01<00:00, 552.26it/s]\n"
     ]
    },
    {
     "name": "stdout",
     "output_type": "stream",
     "text": [
      "Created results/by_layer_20250911_112921/by_layer/layer_08/V0_num_p3_V0.npz with 1050 questions\n"
     ]
    },
    {
     "name": "stderr",
     "output_type": "stream",
     "text": [
      "Layer 09: 100%|██████████| 1050/1050 [00:02<00:00, 490.76it/s]\n"
     ]
    },
    {
     "name": "stdout",
     "output_type": "stream",
     "text": [
      "Created results/by_layer_20250911_112921/by_layer/layer_09/V0_num_p3_V0.npz with 1050 questions\n"
     ]
    },
    {
     "name": "stderr",
     "output_type": "stream",
     "text": [
      "Layer 10: 100%|██████████| 1050/1050 [00:01<00:00, 535.82it/s]\n"
     ]
    },
    {
     "name": "stdout",
     "output_type": "stream",
     "text": [
      "Created results/by_layer_20250911_112921/by_layer/layer_10/V0_num_p3_V0.npz with 1050 questions\n"
     ]
    },
    {
     "name": "stderr",
     "output_type": "stream",
     "text": [
      "Layer 11: 100%|██████████| 1050/1050 [00:01<00:00, 567.05it/s]\n"
     ]
    },
    {
     "name": "stdout",
     "output_type": "stream",
     "text": [
      "Created results/by_layer_20250911_112921/by_layer/layer_11/V0_num_p3_V0.npz with 1050 questions\n"
     ]
    },
    {
     "name": "stderr",
     "output_type": "stream",
     "text": [
      "Layer 12: 100%|██████████| 1050/1050 [00:01<00:00, 556.30it/s]\n"
     ]
    },
    {
     "name": "stdout",
     "output_type": "stream",
     "text": [
      "Created results/by_layer_20250911_112921/by_layer/layer_12/V0_num_p3_V0.npz with 1050 questions\n"
     ]
    },
    {
     "name": "stderr",
     "output_type": "stream",
     "text": [
      "Layer 13: 100%|██████████| 1050/1050 [00:01<00:00, 539.51it/s]\n"
     ]
    },
    {
     "name": "stdout",
     "output_type": "stream",
     "text": [
      "Created results/by_layer_20250911_112921/by_layer/layer_13/V0_num_p3_V0.npz with 1050 questions\n"
     ]
    },
    {
     "name": "stderr",
     "output_type": "stream",
     "text": [
      "Layer 14: 100%|██████████| 1050/1050 [00:01<00:00, 627.28it/s]\n"
     ]
    },
    {
     "name": "stdout",
     "output_type": "stream",
     "text": [
      "Created results/by_layer_20250911_112921/by_layer/layer_14/V0_num_p3_V0.npz with 1050 questions\n"
     ]
    },
    {
     "name": "stderr",
     "output_type": "stream",
     "text": [
      "Layer 15: 100%|██████████| 1050/1050 [00:01<00:00, 584.96it/s]\n"
     ]
    },
    {
     "name": "stdout",
     "output_type": "stream",
     "text": [
      "Created results/by_layer_20250911_112921/by_layer/layer_15/V0_num_p3_V0.npz with 1050 questions\n"
     ]
    },
    {
     "name": "stderr",
     "output_type": "stream",
     "text": [
      "Layer 16: 100%|██████████| 1050/1050 [00:01<00:00, 588.51it/s]\n"
     ]
    },
    {
     "name": "stdout",
     "output_type": "stream",
     "text": [
      "Created results/by_layer_20250911_112921/by_layer/layer_16/V0_num_p3_V0.npz with 1050 questions\n"
     ]
    },
    {
     "name": "stderr",
     "output_type": "stream",
     "text": [
      "Layer 17: 100%|██████████| 1050/1050 [00:01<00:00, 551.68it/s]\n"
     ]
    },
    {
     "name": "stdout",
     "output_type": "stream",
     "text": [
      "Created results/by_layer_20250911_112921/by_layer/layer_17/V0_num_p3_V0.npz with 1050 questions\n"
     ]
    },
    {
     "name": "stderr",
     "output_type": "stream",
     "text": [
      "Layer 18: 100%|██████████| 1050/1050 [00:02<00:00, 498.57it/s]\n"
     ]
    },
    {
     "name": "stdout",
     "output_type": "stream",
     "text": [
      "Created results/by_layer_20250911_112921/by_layer/layer_18/V0_num_p3_V0.npz with 1050 questions\n"
     ]
    },
    {
     "name": "stderr",
     "output_type": "stream",
     "text": [
      "Layer 19: 100%|██████████| 1050/1050 [00:01<00:00, 549.54it/s]\n"
     ]
    },
    {
     "name": "stdout",
     "output_type": "stream",
     "text": [
      "Created results/by_layer_20250911_112921/by_layer/layer_19/V0_num_p3_V0.npz with 1050 questions\n"
     ]
    },
    {
     "name": "stderr",
     "output_type": "stream",
     "text": [
      "Layer 20: 100%|██████████| 1050/1050 [00:01<00:00, 599.58it/s]\n"
     ]
    },
    {
     "name": "stdout",
     "output_type": "stream",
     "text": [
      "Created results/by_layer_20250911_112921/by_layer/layer_20/V0_num_p3_V0.npz with 1050 questions\n"
     ]
    },
    {
     "name": "stderr",
     "output_type": "stream",
     "text": [
      "Layer 21: 100%|██████████| 1050/1050 [00:01<00:00, 599.82it/s]\n"
     ]
    },
    {
     "name": "stdout",
     "output_type": "stream",
     "text": [
      "Created results/by_layer_20250911_112921/by_layer/layer_21/V0_num_p3_V0.npz with 1050 questions\n"
     ]
    },
    {
     "name": "stderr",
     "output_type": "stream",
     "text": [
      "Layer 22: 100%|██████████| 1050/1050 [00:01<00:00, 567.57it/s]\n"
     ]
    },
    {
     "name": "stdout",
     "output_type": "stream",
     "text": [
      "Created results/by_layer_20250911_112921/by_layer/layer_22/V0_num_p3_V0.npz with 1050 questions\n"
     ]
    },
    {
     "name": "stderr",
     "output_type": "stream",
     "text": [
      "Layer 23: 100%|██████████| 1050/1050 [00:01<00:00, 590.20it/s]\n"
     ]
    },
    {
     "name": "stdout",
     "output_type": "stream",
     "text": [
      "Created results/by_layer_20250911_112921/by_layer/layer_23/V0_num_p3_V0.npz with 1050 questions\n"
     ]
    },
    {
     "name": "stderr",
     "output_type": "stream",
     "text": [
      "Layer 24: 100%|██████████| 1050/1050 [00:01<00:00, 533.70it/s]\n"
     ]
    },
    {
     "name": "stdout",
     "output_type": "stream",
     "text": [
      "Created results/by_layer_20250911_112921/by_layer/layer_24/V0_num_p3_V0.npz with 1050 questions\n"
     ]
    },
    {
     "name": "stderr",
     "output_type": "stream",
     "text": [
      "Layer 25: 100%|██████████| 1050/1050 [00:01<00:00, 555.53it/s]\n"
     ]
    },
    {
     "name": "stdout",
     "output_type": "stream",
     "text": [
      "Created results/by_layer_20250911_112921/by_layer/layer_25/V0_num_p3_V0.npz with 1050 questions\n"
     ]
    },
    {
     "name": "stderr",
     "output_type": "stream",
     "text": [
      "Layer 26: 100%|██████████| 1050/1050 [00:02<00:00, 491.49it/s]\n"
     ]
    },
    {
     "name": "stdout",
     "output_type": "stream",
     "text": [
      "Created results/by_layer_20250911_112921/by_layer/layer_26/V0_num_p3_V0.npz with 1050 questions\n"
     ]
    },
    {
     "name": "stderr",
     "output_type": "stream",
     "text": [
      "Layer 27: 100%|██████████| 1050/1050 [00:01<00:00, 552.12it/s]\n"
     ]
    },
    {
     "name": "stdout",
     "output_type": "stream",
     "text": [
      "Created results/by_layer_20250911_112921/by_layer/layer_27/V0_num_p3_V0.npz with 1050 questions\n"
     ]
    },
    {
     "name": "stderr",
     "output_type": "stream",
     "text": [
      "Layer 28: 100%|██████████| 1050/1050 [00:01<00:00, 529.10it/s]\n"
     ]
    },
    {
     "name": "stdout",
     "output_type": "stream",
     "text": [
      "Created results/by_layer_20250911_112921/by_layer/layer_28/V0_num_p3_V0.npz with 1050 questions\n"
     ]
    },
    {
     "name": "stderr",
     "output_type": "stream",
     "text": [
      "Layer 29: 100%|██████████| 1050/1050 [00:01<00:00, 599.51it/s]\n"
     ]
    },
    {
     "name": "stdout",
     "output_type": "stream",
     "text": [
      "Created results/by_layer_20250911_112921/by_layer/layer_29/V0_num_p3_V0.npz with 1050 questions\n"
     ]
    },
    {
     "name": "stderr",
     "output_type": "stream",
     "text": [
      "Layer 30: 100%|██████████| 1050/1050 [00:01<00:00, 553.25it/s]\n"
     ]
    },
    {
     "name": "stdout",
     "output_type": "stream",
     "text": [
      "Created results/by_layer_20250911_112921/by_layer/layer_30/V0_num_p3_V0.npz with 1050 questions\n"
     ]
    },
    {
     "name": "stderr",
     "output_type": "stream",
     "text": [
      "Layer 31: 100%|██████████| 1050/1050 [00:01<00:00, 588.44it/s]\n"
     ]
    },
    {
     "name": "stdout",
     "output_type": "stream",
     "text": [
      "Created results/by_layer_20250911_112921/by_layer/layer_31/V0_num_p3_V0.npz with 1050 questions\n"
     ]
    },
    {
     "name": "stderr",
     "output_type": "stream",
     "text": [
      "Layer 32: 100%|██████████| 1050/1050 [00:01<00:00, 601.07it/s]\n"
     ]
    },
    {
     "name": "stdout",
     "output_type": "stream",
     "text": [
      "Created results/by_layer_20250911_112921/by_layer/layer_32/V0_num_p3_V0.npz with 1050 questions\n"
     ]
    },
    {
     "name": "stderr",
     "output_type": "stream",
     "text": [
      "Layer 33: 100%|██████████| 1050/1050 [00:01<00:00, 567.84it/s]\n"
     ]
    },
    {
     "name": "stdout",
     "output_type": "stream",
     "text": [
      "Created results/by_layer_20250911_112921/by_layer/layer_33/V0_num_p3_V0.npz with 1050 questions\n"
     ]
    },
    {
     "name": "stderr",
     "output_type": "stream",
     "text": [
      "Layer 34: 100%|██████████| 1050/1050 [00:01<00:00, 556.98it/s]\n"
     ]
    },
    {
     "name": "stdout",
     "output_type": "stream",
     "text": [
      "Created results/by_layer_20250911_112921/by_layer/layer_34/V0_num_p3_V0.npz with 1050 questions\n",
      "\n",
      "Processing experiment 52/60: results/comprehensive_experiments/run_20250911_062422/V1_alpha_p5\n",
      "Processing experiment: results/comprehensive_experiments/run_20250911_062422/V1_alpha_p5\n",
      "File: hidden_states_V1.npz, Layers: 35, Hidden dim: 2560\n"
     ]
    },
    {
     "name": "stderr",
     "output_type": "stream",
     "text": [
      "Layer 00: 100%|██████████| 1050/1050 [00:04<00:00, 258.50it/s]\n"
     ]
    },
    {
     "name": "stdout",
     "output_type": "stream",
     "text": [
      "Created results/by_layer_20250911_112921/by_layer/layer_00/V1_alpha_p5_V1.npz with 1050 questions\n"
     ]
    },
    {
     "name": "stderr",
     "output_type": "stream",
     "text": [
      "Layer 01: 100%|██████████| 1050/1050 [00:01<00:00, 571.31it/s]\n"
     ]
    },
    {
     "name": "stdout",
     "output_type": "stream",
     "text": [
      "Created results/by_layer_20250911_112921/by_layer/layer_01/V1_alpha_p5_V1.npz with 1050 questions\n"
     ]
    },
    {
     "name": "stderr",
     "output_type": "stream",
     "text": [
      "Layer 02: 100%|██████████| 1050/1050 [00:01<00:00, 577.65it/s]\n"
     ]
    },
    {
     "name": "stdout",
     "output_type": "stream",
     "text": [
      "Created results/by_layer_20250911_112921/by_layer/layer_02/V1_alpha_p5_V1.npz with 1050 questions\n"
     ]
    },
    {
     "name": "stderr",
     "output_type": "stream",
     "text": [
      "Layer 03: 100%|██████████| 1050/1050 [00:01<00:00, 617.85it/s]\n"
     ]
    },
    {
     "name": "stdout",
     "output_type": "stream",
     "text": [
      "Created results/by_layer_20250911_112921/by_layer/layer_03/V1_alpha_p5_V1.npz with 1050 questions\n"
     ]
    },
    {
     "name": "stderr",
     "output_type": "stream",
     "text": [
      "Layer 04: 100%|██████████| 1050/1050 [00:01<00:00, 626.53it/s]\n"
     ]
    },
    {
     "name": "stdout",
     "output_type": "stream",
     "text": [
      "Created results/by_layer_20250911_112921/by_layer/layer_04/V1_alpha_p5_V1.npz with 1050 questions\n"
     ]
    },
    {
     "name": "stderr",
     "output_type": "stream",
     "text": [
      "Layer 05: 100%|██████████| 1050/1050 [00:01<00:00, 601.40it/s]\n"
     ]
    },
    {
     "name": "stdout",
     "output_type": "stream",
     "text": [
      "Created results/by_layer_20250911_112921/by_layer/layer_05/V1_alpha_p5_V1.npz with 1050 questions\n"
     ]
    },
    {
     "name": "stderr",
     "output_type": "stream",
     "text": [
      "Layer 06: 100%|██████████| 1050/1050 [00:01<00:00, 535.83it/s]\n"
     ]
    },
    {
     "name": "stdout",
     "output_type": "stream",
     "text": [
      "Created results/by_layer_20250911_112921/by_layer/layer_06/V1_alpha_p5_V1.npz with 1050 questions\n"
     ]
    },
    {
     "name": "stderr",
     "output_type": "stream",
     "text": [
      "Layer 07: 100%|██████████| 1050/1050 [00:01<00:00, 560.20it/s]\n"
     ]
    },
    {
     "name": "stdout",
     "output_type": "stream",
     "text": [
      "Created results/by_layer_20250911_112921/by_layer/layer_07/V1_alpha_p5_V1.npz with 1050 questions\n"
     ]
    },
    {
     "name": "stderr",
     "output_type": "stream",
     "text": [
      "Layer 08: 100%|██████████| 1050/1050 [00:01<00:00, 536.98it/s]\n"
     ]
    },
    {
     "name": "stdout",
     "output_type": "stream",
     "text": [
      "Created results/by_layer_20250911_112921/by_layer/layer_08/V1_alpha_p5_V1.npz with 1050 questions\n"
     ]
    },
    {
     "name": "stderr",
     "output_type": "stream",
     "text": [
      "Layer 09: 100%|██████████| 1050/1050 [00:02<00:00, 517.42it/s]\n"
     ]
    },
    {
     "name": "stdout",
     "output_type": "stream",
     "text": [
      "Created results/by_layer_20250911_112921/by_layer/layer_09/V1_alpha_p5_V1.npz with 1050 questions\n"
     ]
    },
    {
     "name": "stderr",
     "output_type": "stream",
     "text": [
      "Layer 10: 100%|██████████| 1050/1050 [00:01<00:00, 525.65it/s]\n"
     ]
    },
    {
     "name": "stdout",
     "output_type": "stream",
     "text": [
      "Created results/by_layer_20250911_112921/by_layer/layer_10/V1_alpha_p5_V1.npz with 1050 questions\n"
     ]
    },
    {
     "name": "stderr",
     "output_type": "stream",
     "text": [
      "Layer 11: 100%|██████████| 1050/1050 [00:01<00:00, 580.42it/s]\n"
     ]
    },
    {
     "name": "stdout",
     "output_type": "stream",
     "text": [
      "Created results/by_layer_20250911_112921/by_layer/layer_11/V1_alpha_p5_V1.npz with 1050 questions\n"
     ]
    },
    {
     "name": "stderr",
     "output_type": "stream",
     "text": [
      "Layer 12: 100%|██████████| 1050/1050 [00:01<00:00, 625.51it/s]\n"
     ]
    },
    {
     "name": "stdout",
     "output_type": "stream",
     "text": [
      "Created results/by_layer_20250911_112921/by_layer/layer_12/V1_alpha_p5_V1.npz with 1050 questions\n"
     ]
    },
    {
     "name": "stderr",
     "output_type": "stream",
     "text": [
      "Layer 13: 100%|██████████| 1050/1050 [00:01<00:00, 605.59it/s]\n"
     ]
    },
    {
     "name": "stdout",
     "output_type": "stream",
     "text": [
      "Created results/by_layer_20250911_112921/by_layer/layer_13/V1_alpha_p5_V1.npz with 1050 questions\n"
     ]
    },
    {
     "name": "stderr",
     "output_type": "stream",
     "text": [
      "Layer 14: 100%|██████████| 1050/1050 [00:01<00:00, 596.90it/s]\n"
     ]
    },
    {
     "name": "stdout",
     "output_type": "stream",
     "text": [
      "Created results/by_layer_20250911_112921/by_layer/layer_14/V1_alpha_p5_V1.npz with 1050 questions\n"
     ]
    },
    {
     "name": "stderr",
     "output_type": "stream",
     "text": [
      "Layer 15: 100%|██████████| 1050/1050 [00:01<00:00, 594.28it/s]\n"
     ]
    },
    {
     "name": "stdout",
     "output_type": "stream",
     "text": [
      "Created results/by_layer_20250911_112921/by_layer/layer_15/V1_alpha_p5_V1.npz with 1050 questions\n"
     ]
    },
    {
     "name": "stderr",
     "output_type": "stream",
     "text": [
      "Layer 16: 100%|██████████| 1050/1050 [00:01<00:00, 576.64it/s]\n"
     ]
    },
    {
     "name": "stdout",
     "output_type": "stream",
     "text": [
      "Created results/by_layer_20250911_112921/by_layer/layer_16/V1_alpha_p5_V1.npz with 1050 questions\n"
     ]
    },
    {
     "name": "stderr",
     "output_type": "stream",
     "text": [
      "Layer 17: 100%|██████████| 1050/1050 [00:01<00:00, 606.09it/s]\n"
     ]
    },
    {
     "name": "stdout",
     "output_type": "stream",
     "text": [
      "Created results/by_layer_20250911_112921/by_layer/layer_17/V1_alpha_p5_V1.npz with 1050 questions\n"
     ]
    },
    {
     "name": "stderr",
     "output_type": "stream",
     "text": [
      "Layer 18: 100%|██████████| 1050/1050 [00:01<00:00, 562.32it/s]\n"
     ]
    },
    {
     "name": "stdout",
     "output_type": "stream",
     "text": [
      "Created results/by_layer_20250911_112921/by_layer/layer_18/V1_alpha_p5_V1.npz with 1050 questions\n"
     ]
    },
    {
     "name": "stderr",
     "output_type": "stream",
     "text": [
      "Layer 19: 100%|██████████| 1050/1050 [00:02<00:00, 383.72it/s]\n"
     ]
    },
    {
     "name": "stdout",
     "output_type": "stream",
     "text": [
      "Created results/by_layer_20250911_112921/by_layer/layer_19/V1_alpha_p5_V1.npz with 1050 questions\n"
     ]
    },
    {
     "name": "stderr",
     "output_type": "stream",
     "text": [
      "Layer 20: 100%|██████████| 1050/1050 [00:01<00:00, 604.68it/s]\n"
     ]
    },
    {
     "name": "stdout",
     "output_type": "stream",
     "text": [
      "Created results/by_layer_20250911_112921/by_layer/layer_20/V1_alpha_p5_V1.npz with 1050 questions\n"
     ]
    },
    {
     "name": "stderr",
     "output_type": "stream",
     "text": [
      "Layer 21: 100%|██████████| 1050/1050 [00:01<00:00, 647.09it/s]\n"
     ]
    },
    {
     "name": "stdout",
     "output_type": "stream",
     "text": [
      "Created results/by_layer_20250911_112921/by_layer/layer_21/V1_alpha_p5_V1.npz with 1050 questions\n"
     ]
    },
    {
     "name": "stderr",
     "output_type": "stream",
     "text": [
      "Layer 22: 100%|██████████| 1050/1050 [00:01<00:00, 553.82it/s]\n"
     ]
    },
    {
     "name": "stdout",
     "output_type": "stream",
     "text": [
      "Created results/by_layer_20250911_112921/by_layer/layer_22/V1_alpha_p5_V1.npz with 1050 questions\n"
     ]
    },
    {
     "name": "stderr",
     "output_type": "stream",
     "text": [
      "Layer 23: 100%|██████████| 1050/1050 [00:01<00:00, 544.10it/s]\n"
     ]
    },
    {
     "name": "stdout",
     "output_type": "stream",
     "text": [
      "Created results/by_layer_20250911_112921/by_layer/layer_23/V1_alpha_p5_V1.npz with 1050 questions\n"
     ]
    },
    {
     "name": "stderr",
     "output_type": "stream",
     "text": [
      "Layer 24: 100%|██████████| 1050/1050 [00:01<00:00, 604.42it/s]\n"
     ]
    },
    {
     "name": "stdout",
     "output_type": "stream",
     "text": [
      "Created results/by_layer_20250911_112921/by_layer/layer_24/V1_alpha_p5_V1.npz with 1050 questions\n"
     ]
    },
    {
     "name": "stderr",
     "output_type": "stream",
     "text": [
      "Layer 25: 100%|██████████| 1050/1050 [00:01<00:00, 552.31it/s]\n"
     ]
    },
    {
     "name": "stdout",
     "output_type": "stream",
     "text": [
      "Created results/by_layer_20250911_112921/by_layer/layer_25/V1_alpha_p5_V1.npz with 1050 questions\n"
     ]
    },
    {
     "name": "stderr",
     "output_type": "stream",
     "text": [
      "Layer 26: 100%|██████████| 1050/1050 [00:01<00:00, 583.99it/s]\n"
     ]
    },
    {
     "name": "stdout",
     "output_type": "stream",
     "text": [
      "Created results/by_layer_20250911_112921/by_layer/layer_26/V1_alpha_p5_V1.npz with 1050 questions\n"
     ]
    },
    {
     "name": "stderr",
     "output_type": "stream",
     "text": [
      "Layer 27: 100%|██████████| 1050/1050 [00:01<00:00, 535.13it/s]\n"
     ]
    },
    {
     "name": "stdout",
     "output_type": "stream",
     "text": [
      "Created results/by_layer_20250911_112921/by_layer/layer_27/V1_alpha_p5_V1.npz with 1050 questions\n"
     ]
    },
    {
     "name": "stderr",
     "output_type": "stream",
     "text": [
      "Layer 28: 100%|██████████| 1050/1050 [00:02<00:00, 361.32it/s]\n"
     ]
    },
    {
     "name": "stdout",
     "output_type": "stream",
     "text": [
      "Created results/by_layer_20250911_112921/by_layer/layer_28/V1_alpha_p5_V1.npz with 1050 questions\n"
     ]
    },
    {
     "name": "stderr",
     "output_type": "stream",
     "text": [
      "Layer 29: 100%|██████████| 1050/1050 [00:02<00:00, 499.44it/s]\n"
     ]
    },
    {
     "name": "stdout",
     "output_type": "stream",
     "text": [
      "Created results/by_layer_20250911_112921/by_layer/layer_29/V1_alpha_p5_V1.npz with 1050 questions\n"
     ]
    },
    {
     "name": "stderr",
     "output_type": "stream",
     "text": [
      "Layer 30: 100%|██████████| 1050/1050 [00:01<00:00, 558.17it/s]\n"
     ]
    },
    {
     "name": "stdout",
     "output_type": "stream",
     "text": [
      "Created results/by_layer_20250911_112921/by_layer/layer_30/V1_alpha_p5_V1.npz with 1050 questions\n"
     ]
    },
    {
     "name": "stderr",
     "output_type": "stream",
     "text": [
      "Layer 31: 100%|██████████| 1050/1050 [00:02<00:00, 506.57it/s]\n"
     ]
    },
    {
     "name": "stdout",
     "output_type": "stream",
     "text": [
      "Created results/by_layer_20250911_112921/by_layer/layer_31/V1_alpha_p5_V1.npz with 1050 questions\n"
     ]
    },
    {
     "name": "stderr",
     "output_type": "stream",
     "text": [
      "Layer 32: 100%|██████████| 1050/1050 [00:01<00:00, 579.02it/s]\n"
     ]
    },
    {
     "name": "stdout",
     "output_type": "stream",
     "text": [
      "Created results/by_layer_20250911_112921/by_layer/layer_32/V1_alpha_p5_V1.npz with 1050 questions\n"
     ]
    },
    {
     "name": "stderr",
     "output_type": "stream",
     "text": [
      "Layer 33: 100%|██████████| 1050/1050 [00:01<00:00, 558.86it/s]\n"
     ]
    },
    {
     "name": "stdout",
     "output_type": "stream",
     "text": [
      "Created results/by_layer_20250911_112921/by_layer/layer_33/V1_alpha_p5_V1.npz with 1050 questions\n"
     ]
    },
    {
     "name": "stderr",
     "output_type": "stream",
     "text": [
      "Layer 34: 100%|██████████| 1050/1050 [00:02<00:00, 471.44it/s]\n"
     ]
    },
    {
     "name": "stdout",
     "output_type": "stream",
     "text": [
      "Created results/by_layer_20250911_112921/by_layer/layer_34/V1_alpha_p5_V1.npz with 1050 questions\n",
      "\n",
      "Processing experiment 53/60: results/comprehensive_experiments/run_20250911_062422/V0_alpha_p2\n",
      "Processing experiment: results/comprehensive_experiments/run_20250911_062422/V0_alpha_p2\n",
      "File: hidden_states_V0.npz, Layers: 35, Hidden dim: 2560\n"
     ]
    },
    {
     "name": "stderr",
     "output_type": "stream",
     "text": [
      "Layer 00: 100%|██████████| 1050/1050 [00:02<00:00, 397.55it/s]\n"
     ]
    },
    {
     "name": "stdout",
     "output_type": "stream",
     "text": [
      "Created results/by_layer_20250911_112921/by_layer/layer_00/V0_alpha_p2_V0.npz with 1050 questions\n"
     ]
    },
    {
     "name": "stderr",
     "output_type": "stream",
     "text": [
      "Layer 01: 100%|██████████| 1050/1050 [00:02<00:00, 450.86it/s]\n"
     ]
    },
    {
     "name": "stdout",
     "output_type": "stream",
     "text": [
      "Created results/by_layer_20250911_112921/by_layer/layer_01/V0_alpha_p2_V0.npz with 1050 questions\n"
     ]
    },
    {
     "name": "stderr",
     "output_type": "stream",
     "text": [
      "Layer 02: 100%|██████████| 1050/1050 [00:03<00:00, 298.33it/s]\n"
     ]
    },
    {
     "name": "stdout",
     "output_type": "stream",
     "text": [
      "Created results/by_layer_20250911_112921/by_layer/layer_02/V0_alpha_p2_V0.npz with 1050 questions\n"
     ]
    },
    {
     "name": "stderr",
     "output_type": "stream",
     "text": [
      "Layer 03: 100%|██████████| 1050/1050 [00:01<00:00, 576.55it/s]\n"
     ]
    },
    {
     "name": "stdout",
     "output_type": "stream",
     "text": [
      "Created results/by_layer_20250911_112921/by_layer/layer_03/V0_alpha_p2_V0.npz with 1050 questions\n"
     ]
    },
    {
     "name": "stderr",
     "output_type": "stream",
     "text": [
      "Layer 04: 100%|██████████| 1050/1050 [00:01<00:00, 597.01it/s]\n"
     ]
    },
    {
     "name": "stdout",
     "output_type": "stream",
     "text": [
      "Created results/by_layer_20250911_112921/by_layer/layer_04/V0_alpha_p2_V0.npz with 1050 questions\n"
     ]
    },
    {
     "name": "stderr",
     "output_type": "stream",
     "text": [
      "Layer 05: 100%|██████████| 1050/1050 [00:01<00:00, 569.17it/s]\n"
     ]
    },
    {
     "name": "stdout",
     "output_type": "stream",
     "text": [
      "Created results/by_layer_20250911_112921/by_layer/layer_05/V0_alpha_p2_V0.npz with 1050 questions\n"
     ]
    },
    {
     "name": "stderr",
     "output_type": "stream",
     "text": [
      "Layer 06: 100%|██████████| 1050/1050 [00:01<00:00, 601.02it/s]\n"
     ]
    },
    {
     "name": "stdout",
     "output_type": "stream",
     "text": [
      "Created results/by_layer_20250911_112921/by_layer/layer_06/V0_alpha_p2_V0.npz with 1050 questions\n"
     ]
    },
    {
     "name": "stderr",
     "output_type": "stream",
     "text": [
      "Layer 07: 100%|██████████| 1050/1050 [00:01<00:00, 606.33it/s]\n"
     ]
    },
    {
     "name": "stdout",
     "output_type": "stream",
     "text": [
      "Created results/by_layer_20250911_112921/by_layer/layer_07/V0_alpha_p2_V0.npz with 1050 questions\n"
     ]
    },
    {
     "name": "stderr",
     "output_type": "stream",
     "text": [
      "Layer 08: 100%|██████████| 1050/1050 [00:01<00:00, 645.93it/s]\n"
     ]
    },
    {
     "name": "stdout",
     "output_type": "stream",
     "text": [
      "Created results/by_layer_20250911_112921/by_layer/layer_08/V0_alpha_p2_V0.npz with 1050 questions\n"
     ]
    },
    {
     "name": "stderr",
     "output_type": "stream",
     "text": [
      "Layer 09: 100%|██████████| 1050/1050 [00:01<00:00, 564.27it/s]\n"
     ]
    },
    {
     "name": "stdout",
     "output_type": "stream",
     "text": [
      "Created results/by_layer_20250911_112921/by_layer/layer_09/V0_alpha_p2_V0.npz with 1050 questions\n"
     ]
    },
    {
     "name": "stderr",
     "output_type": "stream",
     "text": [
      "Layer 10: 100%|██████████| 1050/1050 [00:01<00:00, 627.97it/s]\n"
     ]
    },
    {
     "name": "stdout",
     "output_type": "stream",
     "text": [
      "Created results/by_layer_20250911_112921/by_layer/layer_10/V0_alpha_p2_V0.npz with 1050 questions\n"
     ]
    },
    {
     "name": "stderr",
     "output_type": "stream",
     "text": [
      "Layer 11: 100%|██████████| 1050/1050 [00:01<00:00, 637.10it/s]\n"
     ]
    },
    {
     "name": "stdout",
     "output_type": "stream",
     "text": [
      "Created results/by_layer_20250911_112921/by_layer/layer_11/V0_alpha_p2_V0.npz with 1050 questions\n"
     ]
    },
    {
     "name": "stderr",
     "output_type": "stream",
     "text": [
      "Layer 12: 100%|██████████| 1050/1050 [00:01<00:00, 578.61it/s]\n"
     ]
    },
    {
     "name": "stdout",
     "output_type": "stream",
     "text": [
      "Created results/by_layer_20250911_112921/by_layer/layer_12/V0_alpha_p2_V0.npz with 1050 questions\n"
     ]
    },
    {
     "name": "stderr",
     "output_type": "stream",
     "text": [
      "Layer 13: 100%|██████████| 1050/1050 [00:01<00:00, 577.86it/s]\n"
     ]
    },
    {
     "name": "stdout",
     "output_type": "stream",
     "text": [
      "Created results/by_layer_20250911_112921/by_layer/layer_13/V0_alpha_p2_V0.npz with 1050 questions\n"
     ]
    },
    {
     "name": "stderr",
     "output_type": "stream",
     "text": [
      "Layer 14: 100%|██████████| 1050/1050 [00:01<00:00, 625.62it/s]\n"
     ]
    },
    {
     "name": "stdout",
     "output_type": "stream",
     "text": [
      "Created results/by_layer_20250911_112921/by_layer/layer_14/V0_alpha_p2_V0.npz with 1050 questions\n"
     ]
    },
    {
     "name": "stderr",
     "output_type": "stream",
     "text": [
      "Layer 15: 100%|██████████| 1050/1050 [00:01<00:00, 651.63it/s]\n"
     ]
    },
    {
     "name": "stdout",
     "output_type": "stream",
     "text": [
      "Created results/by_layer_20250911_112921/by_layer/layer_15/V0_alpha_p2_V0.npz with 1050 questions\n"
     ]
    },
    {
     "name": "stderr",
     "output_type": "stream",
     "text": [
      "Layer 16: 100%|██████████| 1050/1050 [00:01<00:00, 604.81it/s]\n"
     ]
    },
    {
     "name": "stdout",
     "output_type": "stream",
     "text": [
      "Created results/by_layer_20250911_112921/by_layer/layer_16/V0_alpha_p2_V0.npz with 1050 questions\n"
     ]
    },
    {
     "name": "stderr",
     "output_type": "stream",
     "text": [
      "Layer 17: 100%|██████████| 1050/1050 [00:01<00:00, 602.73it/s]\n"
     ]
    },
    {
     "name": "stdout",
     "output_type": "stream",
     "text": [
      "Created results/by_layer_20250911_112921/by_layer/layer_17/V0_alpha_p2_V0.npz with 1050 questions\n"
     ]
    },
    {
     "name": "stderr",
     "output_type": "stream",
     "text": [
      "Layer 18: 100%|██████████| 1050/1050 [00:01<00:00, 576.17it/s]\n"
     ]
    },
    {
     "name": "stdout",
     "output_type": "stream",
     "text": [
      "Created results/by_layer_20250911_112921/by_layer/layer_18/V0_alpha_p2_V0.npz with 1050 questions\n"
     ]
    },
    {
     "name": "stderr",
     "output_type": "stream",
     "text": [
      "Layer 19: 100%|██████████| 1050/1050 [00:01<00:00, 550.30it/s]\n"
     ]
    },
    {
     "name": "stdout",
     "output_type": "stream",
     "text": [
      "Created results/by_layer_20250911_112921/by_layer/layer_19/V0_alpha_p2_V0.npz with 1050 questions\n"
     ]
    },
    {
     "name": "stderr",
     "output_type": "stream",
     "text": [
      "Layer 20: 100%|██████████| 1050/1050 [00:01<00:00, 572.67it/s]\n"
     ]
    },
    {
     "name": "stdout",
     "output_type": "stream",
     "text": [
      "Created results/by_layer_20250911_112921/by_layer/layer_20/V0_alpha_p2_V0.npz with 1050 questions\n"
     ]
    },
    {
     "name": "stderr",
     "output_type": "stream",
     "text": [
      "Layer 21: 100%|██████████| 1050/1050 [00:03<00:00, 336.37it/s]\n"
     ]
    },
    {
     "name": "stdout",
     "output_type": "stream",
     "text": [
      "Created results/by_layer_20250911_112921/by_layer/layer_21/V0_alpha_p2_V0.npz with 1050 questions\n"
     ]
    },
    {
     "name": "stderr",
     "output_type": "stream",
     "text": [
      "Layer 22: 100%|██████████| 1050/1050 [00:01<00:00, 570.92it/s]\n"
     ]
    },
    {
     "name": "stdout",
     "output_type": "stream",
     "text": [
      "Created results/by_layer_20250911_112921/by_layer/layer_22/V0_alpha_p2_V0.npz with 1050 questions\n"
     ]
    },
    {
     "name": "stderr",
     "output_type": "stream",
     "text": [
      "Layer 23: 100%|██████████| 1050/1050 [00:01<00:00, 624.51it/s]\n"
     ]
    },
    {
     "name": "stdout",
     "output_type": "stream",
     "text": [
      "Created results/by_layer_20250911_112921/by_layer/layer_23/V0_alpha_p2_V0.npz with 1050 questions\n"
     ]
    },
    {
     "name": "stderr",
     "output_type": "stream",
     "text": [
      "Layer 24: 100%|██████████| 1050/1050 [00:01<00:00, 570.70it/s]\n"
     ]
    },
    {
     "name": "stdout",
     "output_type": "stream",
     "text": [
      "Created results/by_layer_20250911_112921/by_layer/layer_24/V0_alpha_p2_V0.npz with 1050 questions\n"
     ]
    },
    {
     "name": "stderr",
     "output_type": "stream",
     "text": [
      "Layer 25: 100%|██████████| 1050/1050 [00:01<00:00, 568.31it/s]\n"
     ]
    },
    {
     "name": "stdout",
     "output_type": "stream",
     "text": [
      "Created results/by_layer_20250911_112921/by_layer/layer_25/V0_alpha_p2_V0.npz with 1050 questions\n"
     ]
    },
    {
     "name": "stderr",
     "output_type": "stream",
     "text": [
      "Layer 26: 100%|██████████| 1050/1050 [00:01<00:00, 543.00it/s]\n"
     ]
    },
    {
     "name": "stdout",
     "output_type": "stream",
     "text": [
      "Created results/by_layer_20250911_112921/by_layer/layer_26/V0_alpha_p2_V0.npz with 1050 questions\n"
     ]
    },
    {
     "name": "stderr",
     "output_type": "stream",
     "text": [
      "Layer 27: 100%|██████████| 1050/1050 [00:02<00:00, 523.24it/s]\n"
     ]
    },
    {
     "name": "stdout",
     "output_type": "stream",
     "text": [
      "Created results/by_layer_20250911_112921/by_layer/layer_27/V0_alpha_p2_V0.npz with 1050 questions\n"
     ]
    },
    {
     "name": "stderr",
     "output_type": "stream",
     "text": [
      "Layer 28: 100%|██████████| 1050/1050 [00:01<00:00, 595.96it/s]\n"
     ]
    },
    {
     "name": "stdout",
     "output_type": "stream",
     "text": [
      "Created results/by_layer_20250911_112921/by_layer/layer_28/V0_alpha_p2_V0.npz with 1050 questions\n"
     ]
    },
    {
     "name": "stderr",
     "output_type": "stream",
     "text": [
      "Layer 29: 100%|██████████| 1050/1050 [00:01<00:00, 585.56it/s]\n"
     ]
    },
    {
     "name": "stdout",
     "output_type": "stream",
     "text": [
      "Created results/by_layer_20250911_112921/by_layer/layer_29/V0_alpha_p2_V0.npz with 1050 questions\n"
     ]
    },
    {
     "name": "stderr",
     "output_type": "stream",
     "text": [
      "Layer 30: 100%|██████████| 1050/1050 [00:03<00:00, 338.31it/s]\n"
     ]
    },
    {
     "name": "stdout",
     "output_type": "stream",
     "text": [
      "Created results/by_layer_20250911_112921/by_layer/layer_30/V0_alpha_p2_V0.npz with 1050 questions\n"
     ]
    },
    {
     "name": "stderr",
     "output_type": "stream",
     "text": [
      "Layer 31: 100%|██████████| 1050/1050 [00:01<00:00, 550.21it/s]\n"
     ]
    },
    {
     "name": "stdout",
     "output_type": "stream",
     "text": [
      "Created results/by_layer_20250911_112921/by_layer/layer_31/V0_alpha_p2_V0.npz with 1050 questions\n"
     ]
    },
    {
     "name": "stderr",
     "output_type": "stream",
     "text": [
      "Layer 32: 100%|██████████| 1050/1050 [00:01<00:00, 537.69it/s]\n"
     ]
    },
    {
     "name": "stdout",
     "output_type": "stream",
     "text": [
      "Created results/by_layer_20250911_112921/by_layer/layer_32/V0_alpha_p2_V0.npz with 1050 questions\n"
     ]
    },
    {
     "name": "stderr",
     "output_type": "stream",
     "text": [
      "Layer 33: 100%|██████████| 1050/1050 [00:01<00:00, 604.65it/s]\n"
     ]
    },
    {
     "name": "stdout",
     "output_type": "stream",
     "text": [
      "Created results/by_layer_20250911_112921/by_layer/layer_33/V0_alpha_p2_V0.npz with 1050 questions\n"
     ]
    },
    {
     "name": "stderr",
     "output_type": "stream",
     "text": [
      "Layer 34: 100%|██████████| 1050/1050 [00:01<00:00, 560.54it/s]\n"
     ]
    },
    {
     "name": "stdout",
     "output_type": "stream",
     "text": [
      "Created results/by_layer_20250911_112921/by_layer/layer_34/V0_alpha_p2_V0.npz with 1050 questions\n",
      "\n",
      "Processing experiment 54/60: results/comprehensive_experiments/run_20250911_062422/V5_alpha_p4\n",
      "Processing experiment: results/comprehensive_experiments/run_20250911_062422/V5_alpha_p4\n",
      "File: hidden_states_V5.npz, Layers: 35, Hidden dim: 2560\n"
     ]
    },
    {
     "name": "stderr",
     "output_type": "stream",
     "text": [
      "Layer 00: 100%|██████████| 1050/1050 [00:02<00:00, 417.39it/s]\n"
     ]
    },
    {
     "name": "stdout",
     "output_type": "stream",
     "text": [
      "Created results/by_layer_20250911_112921/by_layer/layer_00/V5_alpha_p4_V5.npz with 1050 questions\n"
     ]
    },
    {
     "name": "stderr",
     "output_type": "stream",
     "text": [
      "Layer 01: 100%|██████████| 1050/1050 [00:01<00:00, 602.02it/s]\n"
     ]
    },
    {
     "name": "stdout",
     "output_type": "stream",
     "text": [
      "Created results/by_layer_20250911_112921/by_layer/layer_01/V5_alpha_p4_V5.npz with 1050 questions\n"
     ]
    },
    {
     "name": "stderr",
     "output_type": "stream",
     "text": [
      "Layer 02: 100%|██████████| 1050/1050 [00:02<00:00, 505.01it/s]\n"
     ]
    },
    {
     "name": "stdout",
     "output_type": "stream",
     "text": [
      "Created results/by_layer_20250911_112921/by_layer/layer_02/V5_alpha_p4_V5.npz with 1050 questions\n"
     ]
    },
    {
     "name": "stderr",
     "output_type": "stream",
     "text": [
      "Layer 03: 100%|██████████| 1050/1050 [00:01<00:00, 558.12it/s]\n"
     ]
    },
    {
     "name": "stdout",
     "output_type": "stream",
     "text": [
      "Created results/by_layer_20250911_112921/by_layer/layer_03/V5_alpha_p4_V5.npz with 1050 questions\n"
     ]
    },
    {
     "name": "stderr",
     "output_type": "stream",
     "text": [
      "Layer 04: 100%|██████████| 1050/1050 [00:03<00:00, 330.51it/s]\n"
     ]
    },
    {
     "name": "stdout",
     "output_type": "stream",
     "text": [
      "Created results/by_layer_20250911_112921/by_layer/layer_04/V5_alpha_p4_V5.npz with 1050 questions\n"
     ]
    },
    {
     "name": "stderr",
     "output_type": "stream",
     "text": [
      "Layer 05: 100%|██████████| 1050/1050 [00:01<00:00, 597.05it/s]\n"
     ]
    },
    {
     "name": "stdout",
     "output_type": "stream",
     "text": [
      "Created results/by_layer_20250911_112921/by_layer/layer_05/V5_alpha_p4_V5.npz with 1050 questions\n"
     ]
    },
    {
     "name": "stderr",
     "output_type": "stream",
     "text": [
      "Layer 06: 100%|██████████| 1050/1050 [00:01<00:00, 557.27it/s]\n"
     ]
    },
    {
     "name": "stdout",
     "output_type": "stream",
     "text": [
      "Created results/by_layer_20250911_112921/by_layer/layer_06/V5_alpha_p4_V5.npz with 1050 questions\n"
     ]
    },
    {
     "name": "stderr",
     "output_type": "stream",
     "text": [
      "Layer 07: 100%|██████████| 1050/1050 [00:01<00:00, 542.88it/s]\n"
     ]
    },
    {
     "name": "stdout",
     "output_type": "stream",
     "text": [
      "Created results/by_layer_20250911_112921/by_layer/layer_07/V5_alpha_p4_V5.npz with 1050 questions\n"
     ]
    },
    {
     "name": "stderr",
     "output_type": "stream",
     "text": [
      "Layer 08: 100%|██████████| 1050/1050 [00:01<00:00, 587.28it/s]\n"
     ]
    },
    {
     "name": "stdout",
     "output_type": "stream",
     "text": [
      "Created results/by_layer_20250911_112921/by_layer/layer_08/V5_alpha_p4_V5.npz with 1050 questions\n"
     ]
    },
    {
     "name": "stderr",
     "output_type": "stream",
     "text": [
      "Layer 09: 100%|██████████| 1050/1050 [00:01<00:00, 541.43it/s]\n"
     ]
    },
    {
     "name": "stdout",
     "output_type": "stream",
     "text": [
      "Created results/by_layer_20250911_112921/by_layer/layer_09/V5_alpha_p4_V5.npz with 1050 questions\n"
     ]
    },
    {
     "name": "stderr",
     "output_type": "stream",
     "text": [
      "Layer 10: 100%|██████████| 1050/1050 [00:01<00:00, 579.68it/s]\n"
     ]
    },
    {
     "name": "stdout",
     "output_type": "stream",
     "text": [
      "Created results/by_layer_20250911_112921/by_layer/layer_10/V5_alpha_p4_V5.npz with 1050 questions\n"
     ]
    },
    {
     "name": "stderr",
     "output_type": "stream",
     "text": [
      "Layer 11: 100%|██████████| 1050/1050 [00:01<00:00, 533.31it/s]\n"
     ]
    },
    {
     "name": "stdout",
     "output_type": "stream",
     "text": [
      "Created results/by_layer_20250911_112921/by_layer/layer_11/V5_alpha_p4_V5.npz with 1050 questions\n"
     ]
    },
    {
     "name": "stderr",
     "output_type": "stream",
     "text": [
      "Layer 12: 100%|██████████| 1050/1050 [00:01<00:00, 571.50it/s]\n"
     ]
    },
    {
     "name": "stdout",
     "output_type": "stream",
     "text": [
      "Created results/by_layer_20250911_112921/by_layer/layer_12/V5_alpha_p4_V5.npz with 1050 questions\n"
     ]
    },
    {
     "name": "stderr",
     "output_type": "stream",
     "text": [
      "Layer 13: 100%|██████████| 1050/1050 [00:02<00:00, 376.66it/s]\n"
     ]
    },
    {
     "name": "stdout",
     "output_type": "stream",
     "text": [
      "Created results/by_layer_20250911_112921/by_layer/layer_13/V5_alpha_p4_V5.npz with 1050 questions\n"
     ]
    },
    {
     "name": "stderr",
     "output_type": "stream",
     "text": [
      "Layer 14: 100%|██████████| 1050/1050 [00:01<00:00, 546.85it/s]\n"
     ]
    },
    {
     "name": "stdout",
     "output_type": "stream",
     "text": [
      "Created results/by_layer_20250911_112921/by_layer/layer_14/V5_alpha_p4_V5.npz with 1050 questions\n"
     ]
    },
    {
     "name": "stderr",
     "output_type": "stream",
     "text": [
      "Layer 15: 100%|██████████| 1050/1050 [00:01<00:00, 624.90it/s]\n"
     ]
    },
    {
     "name": "stdout",
     "output_type": "stream",
     "text": [
      "Created results/by_layer_20250911_112921/by_layer/layer_15/V5_alpha_p4_V5.npz with 1050 questions\n"
     ]
    },
    {
     "name": "stderr",
     "output_type": "stream",
     "text": [
      "Layer 16: 100%|██████████| 1050/1050 [00:01<00:00, 574.08it/s]\n"
     ]
    },
    {
     "name": "stdout",
     "output_type": "stream",
     "text": [
      "Created results/by_layer_20250911_112921/by_layer/layer_16/V5_alpha_p4_V5.npz with 1050 questions\n"
     ]
    },
    {
     "name": "stderr",
     "output_type": "stream",
     "text": [
      "Layer 17: 100%|██████████| 1050/1050 [00:01<00:00, 615.28it/s]\n"
     ]
    },
    {
     "name": "stdout",
     "output_type": "stream",
     "text": [
      "Created results/by_layer_20250911_112921/by_layer/layer_17/V5_alpha_p4_V5.npz with 1050 questions\n"
     ]
    },
    {
     "name": "stderr",
     "output_type": "stream",
     "text": [
      "Layer 18: 100%|██████████| 1050/1050 [00:01<00:00, 548.22it/s]\n"
     ]
    },
    {
     "name": "stdout",
     "output_type": "stream",
     "text": [
      "Created results/by_layer_20250911_112921/by_layer/layer_18/V5_alpha_p4_V5.npz with 1050 questions\n"
     ]
    },
    {
     "name": "stderr",
     "output_type": "stream",
     "text": [
      "Layer 19: 100%|██████████| 1050/1050 [00:01<00:00, 570.51it/s]\n"
     ]
    },
    {
     "name": "stdout",
     "output_type": "stream",
     "text": [
      "Created results/by_layer_20250911_112921/by_layer/layer_19/V5_alpha_p4_V5.npz with 1050 questions\n"
     ]
    },
    {
     "name": "stderr",
     "output_type": "stream",
     "text": [
      "Layer 20: 100%|██████████| 1050/1050 [00:01<00:00, 538.26it/s]\n"
     ]
    },
    {
     "name": "stdout",
     "output_type": "stream",
     "text": [
      "Created results/by_layer_20250911_112921/by_layer/layer_20/V5_alpha_p4_V5.npz with 1050 questions\n"
     ]
    },
    {
     "name": "stderr",
     "output_type": "stream",
     "text": [
      "Layer 21: 100%|██████████| 1050/1050 [00:01<00:00, 527.87it/s]\n"
     ]
    },
    {
     "name": "stdout",
     "output_type": "stream",
     "text": [
      "Created results/by_layer_20250911_112921/by_layer/layer_21/V5_alpha_p4_V5.npz with 1050 questions\n"
     ]
    },
    {
     "name": "stderr",
     "output_type": "stream",
     "text": [
      "Layer 22: 100%|██████████| 1050/1050 [00:03<00:00, 345.34it/s]\n"
     ]
    },
    {
     "name": "stdout",
     "output_type": "stream",
     "text": [
      "Created results/by_layer_20250911_112921/by_layer/layer_22/V5_alpha_p4_V5.npz with 1050 questions\n"
     ]
    },
    {
     "name": "stderr",
     "output_type": "stream",
     "text": [
      "Layer 23: 100%|██████████| 1050/1050 [00:01<00:00, 535.85it/s]\n"
     ]
    },
    {
     "name": "stdout",
     "output_type": "stream",
     "text": [
      "Created results/by_layer_20250911_112921/by_layer/layer_23/V5_alpha_p4_V5.npz with 1050 questions\n"
     ]
    },
    {
     "name": "stderr",
     "output_type": "stream",
     "text": [
      "Layer 24: 100%|██████████| 1050/1050 [00:01<00:00, 603.07it/s]\n"
     ]
    },
    {
     "name": "stdout",
     "output_type": "stream",
     "text": [
      "Created results/by_layer_20250911_112921/by_layer/layer_24/V5_alpha_p4_V5.npz with 1050 questions\n"
     ]
    },
    {
     "name": "stderr",
     "output_type": "stream",
     "text": [
      "Layer 25: 100%|██████████| 1050/1050 [00:01<00:00, 540.42it/s]\n"
     ]
    },
    {
     "name": "stdout",
     "output_type": "stream",
     "text": [
      "Created results/by_layer_20250911_112921/by_layer/layer_25/V5_alpha_p4_V5.npz with 1050 questions\n"
     ]
    },
    {
     "name": "stderr",
     "output_type": "stream",
     "text": [
      "Layer 26: 100%|██████████| 1050/1050 [00:01<00:00, 634.14it/s]\n"
     ]
    },
    {
     "name": "stdout",
     "output_type": "stream",
     "text": [
      "Created results/by_layer_20250911_112921/by_layer/layer_26/V5_alpha_p4_V5.npz with 1050 questions\n"
     ]
    },
    {
     "name": "stderr",
     "output_type": "stream",
     "text": [
      "Layer 27: 100%|██████████| 1050/1050 [00:01<00:00, 594.82it/s]\n"
     ]
    },
    {
     "name": "stdout",
     "output_type": "stream",
     "text": [
      "Created results/by_layer_20250911_112921/by_layer/layer_27/V5_alpha_p4_V5.npz with 1050 questions\n"
     ]
    },
    {
     "name": "stderr",
     "output_type": "stream",
     "text": [
      "Layer 28: 100%|██████████| 1050/1050 [00:01<00:00, 543.68it/s]\n"
     ]
    },
    {
     "name": "stdout",
     "output_type": "stream",
     "text": [
      "Created results/by_layer_20250911_112921/by_layer/layer_28/V5_alpha_p4_V5.npz with 1050 questions\n"
     ]
    },
    {
     "name": "stderr",
     "output_type": "stream",
     "text": [
      "Layer 29: 100%|██████████| 1050/1050 [00:01<00:00, 535.46it/s]\n"
     ]
    },
    {
     "name": "stdout",
     "output_type": "stream",
     "text": [
      "Created results/by_layer_20250911_112921/by_layer/layer_29/V5_alpha_p4_V5.npz with 1050 questions\n"
     ]
    },
    {
     "name": "stderr",
     "output_type": "stream",
     "text": [
      "Layer 30: 100%|██████████| 1050/1050 [00:01<00:00, 566.99it/s]\n"
     ]
    },
    {
     "name": "stdout",
     "output_type": "stream",
     "text": [
      "Created results/by_layer_20250911_112921/by_layer/layer_30/V5_alpha_p4_V5.npz with 1050 questions\n"
     ]
    },
    {
     "name": "stderr",
     "output_type": "stream",
     "text": [
      "Layer 31: 100%|██████████| 1050/1050 [00:03<00:00, 340.74it/s]\n"
     ]
    },
    {
     "name": "stdout",
     "output_type": "stream",
     "text": [
      "Created results/by_layer_20250911_112921/by_layer/layer_31/V5_alpha_p4_V5.npz with 1050 questions\n"
     ]
    },
    {
     "name": "stderr",
     "output_type": "stream",
     "text": [
      "Layer 32: 100%|██████████| 1050/1050 [00:01<00:00, 535.29it/s]\n"
     ]
    },
    {
     "name": "stdout",
     "output_type": "stream",
     "text": [
      "Created results/by_layer_20250911_112921/by_layer/layer_32/V5_alpha_p4_V5.npz with 1050 questions\n"
     ]
    },
    {
     "name": "stderr",
     "output_type": "stream",
     "text": [
      "Layer 33: 100%|██████████| 1050/1050 [00:01<00:00, 589.81it/s]\n"
     ]
    },
    {
     "name": "stdout",
     "output_type": "stream",
     "text": [
      "Created results/by_layer_20250911_112921/by_layer/layer_33/V5_alpha_p4_V5.npz with 1050 questions\n"
     ]
    },
    {
     "name": "stderr",
     "output_type": "stream",
     "text": [
      "Layer 34: 100%|██████████| 1050/1050 [00:02<00:00, 514.73it/s]\n"
     ]
    },
    {
     "name": "stdout",
     "output_type": "stream",
     "text": [
      "Created results/by_layer_20250911_112921/by_layer/layer_34/V5_alpha_p4_V5.npz with 1050 questions\n",
      "\n",
      "Processing experiment 55/60: results/comprehensive_experiments/run_20250911_062422/V4_num_p2\n",
      "Processing experiment: results/comprehensive_experiments/run_20250911_062422/V4_num_p2\n",
      "File: hidden_states_V4.npz, Layers: 35, Hidden dim: 2560\n"
     ]
    },
    {
     "name": "stderr",
     "output_type": "stream",
     "text": [
      "Layer 00: 100%|██████████| 1050/1050 [00:03<00:00, 317.83it/s]\n"
     ]
    },
    {
     "name": "stdout",
     "output_type": "stream",
     "text": [
      "Created results/by_layer_20250911_112921/by_layer/layer_00/V4_num_p2_V4.npz with 1050 questions\n"
     ]
    },
    {
     "name": "stderr",
     "output_type": "stream",
     "text": [
      "Layer 01: 100%|██████████| 1050/1050 [00:02<00:00, 481.89it/s]\n"
     ]
    },
    {
     "name": "stdout",
     "output_type": "stream",
     "text": [
      "Created results/by_layer_20250911_112921/by_layer/layer_01/V4_num_p2_V4.npz with 1050 questions\n"
     ]
    },
    {
     "name": "stderr",
     "output_type": "stream",
     "text": [
      "Layer 02: 100%|██████████| 1050/1050 [00:01<00:00, 637.65it/s]\n"
     ]
    },
    {
     "name": "stdout",
     "output_type": "stream",
     "text": [
      "Created results/by_layer_20250911_112921/by_layer/layer_02/V4_num_p2_V4.npz with 1050 questions\n"
     ]
    },
    {
     "name": "stderr",
     "output_type": "stream",
     "text": [
      "Layer 03: 100%|██████████| 1050/1050 [00:01<00:00, 538.04it/s]\n"
     ]
    },
    {
     "name": "stdout",
     "output_type": "stream",
     "text": [
      "Created results/by_layer_20250911_112921/by_layer/layer_03/V4_num_p2_V4.npz with 1050 questions\n"
     ]
    },
    {
     "name": "stderr",
     "output_type": "stream",
     "text": [
      "Layer 04: 100%|██████████| 1050/1050 [00:01<00:00, 546.79it/s]\n"
     ]
    },
    {
     "name": "stdout",
     "output_type": "stream",
     "text": [
      "Created results/by_layer_20250911_112921/by_layer/layer_04/V4_num_p2_V4.npz with 1050 questions\n"
     ]
    },
    {
     "name": "stderr",
     "output_type": "stream",
     "text": [
      "Layer 05: 100%|██████████| 1050/1050 [00:03<00:00, 343.39it/s]\n"
     ]
    },
    {
     "name": "stdout",
     "output_type": "stream",
     "text": [
      "Created results/by_layer_20250911_112921/by_layer/layer_05/V4_num_p2_V4.npz with 1050 questions\n"
     ]
    },
    {
     "name": "stderr",
     "output_type": "stream",
     "text": [
      "Layer 06: 100%|██████████| 1050/1050 [00:01<00:00, 589.85it/s]\n"
     ]
    },
    {
     "name": "stdout",
     "output_type": "stream",
     "text": [
      "Created results/by_layer_20250911_112921/by_layer/layer_06/V4_num_p2_V4.npz with 1050 questions\n"
     ]
    },
    {
     "name": "stderr",
     "output_type": "stream",
     "text": [
      "Layer 07: 100%|██████████| 1050/1050 [00:01<00:00, 581.71it/s]\n"
     ]
    },
    {
     "name": "stdout",
     "output_type": "stream",
     "text": [
      "Created results/by_layer_20250911_112921/by_layer/layer_07/V4_num_p2_V4.npz with 1050 questions\n"
     ]
    },
    {
     "name": "stderr",
     "output_type": "stream",
     "text": [
      "Layer 08: 100%|██████████| 1050/1050 [00:01<00:00, 551.37it/s]\n"
     ]
    },
    {
     "name": "stdout",
     "output_type": "stream",
     "text": [
      "Created results/by_layer_20250911_112921/by_layer/layer_08/V4_num_p2_V4.npz with 1050 questions\n"
     ]
    },
    {
     "name": "stderr",
     "output_type": "stream",
     "text": [
      "Layer 09: 100%|██████████| 1050/1050 [00:01<00:00, 620.20it/s]\n"
     ]
    },
    {
     "name": "stdout",
     "output_type": "stream",
     "text": [
      "Created results/by_layer_20250911_112921/by_layer/layer_09/V4_num_p2_V4.npz with 1050 questions\n"
     ]
    },
    {
     "name": "stderr",
     "output_type": "stream",
     "text": [
      "Layer 10: 100%|██████████| 1050/1050 [00:01<00:00, 558.81it/s]\n"
     ]
    },
    {
     "name": "stdout",
     "output_type": "stream",
     "text": [
      "Created results/by_layer_20250911_112921/by_layer/layer_10/V4_num_p2_V4.npz with 1050 questions\n"
     ]
    },
    {
     "name": "stderr",
     "output_type": "stream",
     "text": [
      "Layer 11: 100%|██████████| 1050/1050 [00:01<00:00, 616.27it/s]\n"
     ]
    },
    {
     "name": "stdout",
     "output_type": "stream",
     "text": [
      "Created results/by_layer_20250911_112921/by_layer/layer_11/V4_num_p2_V4.npz with 1050 questions\n"
     ]
    },
    {
     "name": "stderr",
     "output_type": "stream",
     "text": [
      "Layer 12: 100%|██████████| 1050/1050 [00:01<00:00, 550.27it/s]\n"
     ]
    },
    {
     "name": "stdout",
     "output_type": "stream",
     "text": [
      "Created results/by_layer_20250911_112921/by_layer/layer_12/V4_num_p2_V4.npz with 1050 questions\n"
     ]
    },
    {
     "name": "stderr",
     "output_type": "stream",
     "text": [
      "Layer 13: 100%|██████████| 1050/1050 [00:01<00:00, 609.17it/s]\n"
     ]
    },
    {
     "name": "stdout",
     "output_type": "stream",
     "text": [
      "Created results/by_layer_20250911_112921/by_layer/layer_13/V4_num_p2_V4.npz with 1050 questions\n"
     ]
    },
    {
     "name": "stderr",
     "output_type": "stream",
     "text": [
      "Layer 14: 100%|██████████| 1050/1050 [00:01<00:00, 570.42it/s]\n"
     ]
    },
    {
     "name": "stdout",
     "output_type": "stream",
     "text": [
      "Created results/by_layer_20250911_112921/by_layer/layer_14/V4_num_p2_V4.npz with 1050 questions\n"
     ]
    },
    {
     "name": "stderr",
     "output_type": "stream",
     "text": [
      "Layer 15: 100%|██████████| 1050/1050 [00:01<00:00, 569.95it/s]\n"
     ]
    },
    {
     "name": "stdout",
     "output_type": "stream",
     "text": [
      "Created results/by_layer_20250911_112921/by_layer/layer_15/V4_num_p2_V4.npz with 1050 questions\n"
     ]
    },
    {
     "name": "stderr",
     "output_type": "stream",
     "text": [
      "Layer 16: 100%|██████████| 1050/1050 [00:01<00:00, 624.93it/s]\n"
     ]
    },
    {
     "name": "stdout",
     "output_type": "stream",
     "text": [
      "Created results/by_layer_20250911_112921/by_layer/layer_16/V4_num_p2_V4.npz with 1050 questions\n"
     ]
    },
    {
     "name": "stderr",
     "output_type": "stream",
     "text": [
      "Layer 17: 100%|██████████| 1050/1050 [00:01<00:00, 531.97it/s]\n"
     ]
    },
    {
     "name": "stdout",
     "output_type": "stream",
     "text": [
      "Created results/by_layer_20250911_112921/by_layer/layer_17/V4_num_p2_V4.npz with 1050 questions\n"
     ]
    },
    {
     "name": "stderr",
     "output_type": "stream",
     "text": [
      "Layer 18: 100%|██████████| 1050/1050 [00:02<00:00, 518.49it/s]\n"
     ]
    },
    {
     "name": "stdout",
     "output_type": "stream",
     "text": [
      "Created results/by_layer_20250911_112921/by_layer/layer_18/V4_num_p2_V4.npz with 1050 questions\n"
     ]
    },
    {
     "name": "stderr",
     "output_type": "stream",
     "text": [
      "Layer 19: 100%|██████████| 1050/1050 [00:01<00:00, 605.14it/s]\n"
     ]
    },
    {
     "name": "stdout",
     "output_type": "stream",
     "text": [
      "Created results/by_layer_20250911_112921/by_layer/layer_19/V4_num_p2_V4.npz with 1050 questions\n"
     ]
    },
    {
     "name": "stderr",
     "output_type": "stream",
     "text": [
      "Layer 20: 100%|██████████| 1050/1050 [00:01<00:00, 640.33it/s]\n"
     ]
    },
    {
     "name": "stdout",
     "output_type": "stream",
     "text": [
      "Created results/by_layer_20250911_112921/by_layer/layer_20/V4_num_p2_V4.npz with 1050 questions\n"
     ]
    },
    {
     "name": "stderr",
     "output_type": "stream",
     "text": [
      "Layer 21: 100%|██████████| 1050/1050 [00:01<00:00, 575.19it/s]\n"
     ]
    },
    {
     "name": "stdout",
     "output_type": "stream",
     "text": [
      "Created results/by_layer_20250911_112921/by_layer/layer_21/V4_num_p2_V4.npz with 1050 questions\n"
     ]
    },
    {
     "name": "stderr",
     "output_type": "stream",
     "text": [
      "Layer 22: 100%|██████████| 1050/1050 [00:01<00:00, 580.17it/s]\n"
     ]
    },
    {
     "name": "stdout",
     "output_type": "stream",
     "text": [
      "Created results/by_layer_20250911_112921/by_layer/layer_22/V4_num_p2_V4.npz with 1050 questions\n"
     ]
    },
    {
     "name": "stderr",
     "output_type": "stream",
     "text": [
      "Layer 23: 100%|██████████| 1050/1050 [00:01<00:00, 577.30it/s]\n"
     ]
    },
    {
     "name": "stdout",
     "output_type": "stream",
     "text": [
      "Created results/by_layer_20250911_112921/by_layer/layer_23/V4_num_p2_V4.npz with 1050 questions\n"
     ]
    },
    {
     "name": "stderr",
     "output_type": "stream",
     "text": [
      "Layer 24: 100%|██████████| 1050/1050 [00:01<00:00, 569.43it/s]\n"
     ]
    },
    {
     "name": "stdout",
     "output_type": "stream",
     "text": [
      "Created results/by_layer_20250911_112921/by_layer/layer_24/V4_num_p2_V4.npz with 1050 questions\n"
     ]
    },
    {
     "name": "stderr",
     "output_type": "stream",
     "text": [
      "Layer 25: 100%|██████████| 1050/1050 [00:01<00:00, 570.10it/s]\n"
     ]
    },
    {
     "name": "stdout",
     "output_type": "stream",
     "text": [
      "Created results/by_layer_20250911_112921/by_layer/layer_25/V4_num_p2_V4.npz with 1050 questions\n"
     ]
    },
    {
     "name": "stderr",
     "output_type": "stream",
     "text": [
      "Layer 26: 100%|██████████| 1050/1050 [00:01<00:00, 567.52it/s]\n"
     ]
    },
    {
     "name": "stdout",
     "output_type": "stream",
     "text": [
      "Created results/by_layer_20250911_112921/by_layer/layer_26/V4_num_p2_V4.npz with 1050 questions\n"
     ]
    },
    {
     "name": "stderr",
     "output_type": "stream",
     "text": [
      "Layer 27: 100%|██████████| 1050/1050 [00:01<00:00, 536.19it/s]\n"
     ]
    },
    {
     "name": "stdout",
     "output_type": "stream",
     "text": [
      "Created results/by_layer_20250911_112921/by_layer/layer_27/V4_num_p2_V4.npz with 1050 questions\n"
     ]
    },
    {
     "name": "stderr",
     "output_type": "stream",
     "text": [
      "Layer 28: 100%|██████████| 1050/1050 [00:01<00:00, 579.32it/s]\n"
     ]
    },
    {
     "name": "stdout",
     "output_type": "stream",
     "text": [
      "Created results/by_layer_20250911_112921/by_layer/layer_28/V4_num_p2_V4.npz with 1050 questions\n"
     ]
    },
    {
     "name": "stderr",
     "output_type": "stream",
     "text": [
      "Layer 29: 100%|██████████| 1050/1050 [00:01<00:00, 526.74it/s]\n"
     ]
    },
    {
     "name": "stdout",
     "output_type": "stream",
     "text": [
      "Created results/by_layer_20250911_112921/by_layer/layer_29/V4_num_p2_V4.npz with 1050 questions\n"
     ]
    },
    {
     "name": "stderr",
     "output_type": "stream",
     "text": [
      "Layer 30: 100%|██████████| 1050/1050 [00:01<00:00, 564.18it/s]\n"
     ]
    },
    {
     "name": "stdout",
     "output_type": "stream",
     "text": [
      "Created results/by_layer_20250911_112921/by_layer/layer_30/V4_num_p2_V4.npz with 1050 questions\n"
     ]
    },
    {
     "name": "stderr",
     "output_type": "stream",
     "text": [
      "Layer 31: 100%|██████████| 1050/1050 [00:02<00:00, 486.63it/s]\n"
     ]
    },
    {
     "name": "stdout",
     "output_type": "stream",
     "text": [
      "Created results/by_layer_20250911_112921/by_layer/layer_31/V4_num_p2_V4.npz with 1050 questions\n"
     ]
    },
    {
     "name": "stderr",
     "output_type": "stream",
     "text": [
      "Layer 32: 100%|██████████| 1050/1050 [00:01<00:00, 552.83it/s]\n"
     ]
    },
    {
     "name": "stdout",
     "output_type": "stream",
     "text": [
      "Created results/by_layer_20250911_112921/by_layer/layer_32/V4_num_p2_V4.npz with 1050 questions\n"
     ]
    },
    {
     "name": "stderr",
     "output_type": "stream",
     "text": [
      "Layer 33: 100%|██████████| 1050/1050 [00:01<00:00, 593.61it/s]\n"
     ]
    },
    {
     "name": "stdout",
     "output_type": "stream",
     "text": [
      "Created results/by_layer_20250911_112921/by_layer/layer_33/V4_num_p2_V4.npz with 1050 questions\n"
     ]
    },
    {
     "name": "stderr",
     "output_type": "stream",
     "text": [
      "Layer 34: 100%|██████████| 1050/1050 [00:01<00:00, 570.28it/s]\n"
     ]
    },
    {
     "name": "stdout",
     "output_type": "stream",
     "text": [
      "Created results/by_layer_20250911_112921/by_layer/layer_34/V4_num_p2_V4.npz with 1050 questions\n",
      "\n",
      "Processing experiment 56/60: results/comprehensive_experiments/run_20250911_062422/V1_num_p4\n",
      "Processing experiment: results/comprehensive_experiments/run_20250911_062422/V1_num_p4\n",
      "File: hidden_states_V1.npz, Layers: 35, Hidden dim: 2560\n"
     ]
    },
    {
     "name": "stderr",
     "output_type": "stream",
     "text": [
      "Layer 00: 100%|██████████| 1050/1050 [00:02<00:00, 361.03it/s]\n"
     ]
    },
    {
     "name": "stdout",
     "output_type": "stream",
     "text": [
      "Created results/by_layer_20250911_112921/by_layer/layer_00/V1_num_p4_V1.npz with 1050 questions\n"
     ]
    },
    {
     "name": "stderr",
     "output_type": "stream",
     "text": [
      "Layer 01: 100%|██████████| 1050/1050 [00:01<00:00, 545.44it/s]\n"
     ]
    },
    {
     "name": "stdout",
     "output_type": "stream",
     "text": [
      "Created results/by_layer_20250911_112921/by_layer/layer_01/V1_num_p4_V1.npz with 1050 questions\n"
     ]
    },
    {
     "name": "stderr",
     "output_type": "stream",
     "text": [
      "Layer 02: 100%|██████████| 1050/1050 [00:01<00:00, 577.86it/s]\n"
     ]
    },
    {
     "name": "stdout",
     "output_type": "stream",
     "text": [
      "Created results/by_layer_20250911_112921/by_layer/layer_02/V1_num_p4_V1.npz with 1050 questions\n"
     ]
    },
    {
     "name": "stderr",
     "output_type": "stream",
     "text": [
      "Layer 03: 100%|██████████| 1050/1050 [00:01<00:00, 589.17it/s]\n"
     ]
    },
    {
     "name": "stdout",
     "output_type": "stream",
     "text": [
      "Created results/by_layer_20250911_112921/by_layer/layer_03/V1_num_p4_V1.npz with 1050 questions\n"
     ]
    },
    {
     "name": "stderr",
     "output_type": "stream",
     "text": [
      "Layer 04: 100%|██████████| 1050/1050 [00:01<00:00, 573.97it/s]\n"
     ]
    },
    {
     "name": "stdout",
     "output_type": "stream",
     "text": [
      "Created results/by_layer_20250911_112921/by_layer/layer_04/V1_num_p4_V1.npz with 1050 questions\n"
     ]
    },
    {
     "name": "stderr",
     "output_type": "stream",
     "text": [
      "Layer 05: 100%|██████████| 1050/1050 [00:01<00:00, 567.54it/s]\n"
     ]
    },
    {
     "name": "stdout",
     "output_type": "stream",
     "text": [
      "Created results/by_layer_20250911_112921/by_layer/layer_05/V1_num_p4_V1.npz with 1050 questions\n"
     ]
    },
    {
     "name": "stderr",
     "output_type": "stream",
     "text": [
      "Layer 06: 100%|██████████| 1050/1050 [00:01<00:00, 583.21it/s]\n"
     ]
    },
    {
     "name": "stdout",
     "output_type": "stream",
     "text": [
      "Created results/by_layer_20250911_112921/by_layer/layer_06/V1_num_p4_V1.npz with 1050 questions\n"
     ]
    },
    {
     "name": "stderr",
     "output_type": "stream",
     "text": [
      "Layer 07: 100%|██████████| 1050/1050 [00:02<00:00, 350.60it/s]\n"
     ]
    },
    {
     "name": "stdout",
     "output_type": "stream",
     "text": [
      "Created results/by_layer_20250911_112921/by_layer/layer_07/V1_num_p4_V1.npz with 1050 questions\n"
     ]
    },
    {
     "name": "stderr",
     "output_type": "stream",
     "text": [
      "Layer 08: 100%|██████████| 1050/1050 [00:01<00:00, 546.45it/s]\n"
     ]
    },
    {
     "name": "stdout",
     "output_type": "stream",
     "text": [
      "Created results/by_layer_20250911_112921/by_layer/layer_08/V1_num_p4_V1.npz with 1050 questions\n"
     ]
    },
    {
     "name": "stderr",
     "output_type": "stream",
     "text": [
      "Layer 09: 100%|██████████| 1050/1050 [00:01<00:00, 602.64it/s]\n"
     ]
    },
    {
     "name": "stdout",
     "output_type": "stream",
     "text": [
      "Created results/by_layer_20250911_112921/by_layer/layer_09/V1_num_p4_V1.npz with 1050 questions\n"
     ]
    },
    {
     "name": "stderr",
     "output_type": "stream",
     "text": [
      "Layer 10: 100%|██████████| 1050/1050 [00:01<00:00, 564.27it/s]\n"
     ]
    },
    {
     "name": "stdout",
     "output_type": "stream",
     "text": [
      "Created results/by_layer_20250911_112921/by_layer/layer_10/V1_num_p4_V1.npz with 1050 questions\n"
     ]
    },
    {
     "name": "stderr",
     "output_type": "stream",
     "text": [
      "Layer 11: 100%|██████████| 1050/1050 [00:01<00:00, 532.13it/s]\n"
     ]
    },
    {
     "name": "stdout",
     "output_type": "stream",
     "text": [
      "Created results/by_layer_20250911_112921/by_layer/layer_11/V1_num_p4_V1.npz with 1050 questions\n"
     ]
    },
    {
     "name": "stderr",
     "output_type": "stream",
     "text": [
      "Layer 12: 100%|██████████| 1050/1050 [00:01<00:00, 619.51it/s]\n"
     ]
    },
    {
     "name": "stdout",
     "output_type": "stream",
     "text": [
      "Created results/by_layer_20250911_112921/by_layer/layer_12/V1_num_p4_V1.npz with 1050 questions\n"
     ]
    },
    {
     "name": "stderr",
     "output_type": "stream",
     "text": [
      "Layer 13: 100%|██████████| 1050/1050 [00:01<00:00, 614.86it/s]\n"
     ]
    },
    {
     "name": "stdout",
     "output_type": "stream",
     "text": [
      "Created results/by_layer_20250911_112921/by_layer/layer_13/V1_num_p4_V1.npz with 1050 questions\n"
     ]
    },
    {
     "name": "stderr",
     "output_type": "stream",
     "text": [
      "Layer 14: 100%|██████████| 1050/1050 [00:01<00:00, 628.95it/s]\n"
     ]
    },
    {
     "name": "stdout",
     "output_type": "stream",
     "text": [
      "Created results/by_layer_20250911_112921/by_layer/layer_14/V1_num_p4_V1.npz with 1050 questions\n"
     ]
    },
    {
     "name": "stderr",
     "output_type": "stream",
     "text": [
      "Layer 15: 100%|██████████| 1050/1050 [00:01<00:00, 603.39it/s]\n"
     ]
    },
    {
     "name": "stdout",
     "output_type": "stream",
     "text": [
      "Created results/by_layer_20250911_112921/by_layer/layer_15/V1_num_p4_V1.npz with 1050 questions\n"
     ]
    },
    {
     "name": "stderr",
     "output_type": "stream",
     "text": [
      "Layer 16: 100%|██████████| 1050/1050 [00:02<00:00, 367.19it/s]\n"
     ]
    },
    {
     "name": "stdout",
     "output_type": "stream",
     "text": [
      "Created results/by_layer_20250911_112921/by_layer/layer_16/V1_num_p4_V1.npz with 1050 questions\n"
     ]
    },
    {
     "name": "stderr",
     "output_type": "stream",
     "text": [
      "Layer 17: 100%|██████████| 1050/1050 [00:01<00:00, 621.31it/s]\n"
     ]
    },
    {
     "name": "stdout",
     "output_type": "stream",
     "text": [
      "Created results/by_layer_20250911_112921/by_layer/layer_17/V1_num_p4_V1.npz with 1050 questions\n"
     ]
    },
    {
     "name": "stderr",
     "output_type": "stream",
     "text": [
      "Layer 18: 100%|██████████| 1050/1050 [00:01<00:00, 585.84it/s]\n"
     ]
    },
    {
     "name": "stdout",
     "output_type": "stream",
     "text": [
      "Created results/by_layer_20250911_112921/by_layer/layer_18/V1_num_p4_V1.npz with 1050 questions\n"
     ]
    },
    {
     "name": "stderr",
     "output_type": "stream",
     "text": [
      "Layer 19: 100%|██████████| 1050/1050 [00:01<00:00, 544.07it/s]\n"
     ]
    },
    {
     "name": "stdout",
     "output_type": "stream",
     "text": [
      "Created results/by_layer_20250911_112921/by_layer/layer_19/V1_num_p4_V1.npz with 1050 questions\n"
     ]
    },
    {
     "name": "stderr",
     "output_type": "stream",
     "text": [
      "Layer 20: 100%|██████████| 1050/1050 [00:02<00:00, 524.57it/s]\n"
     ]
    },
    {
     "name": "stdout",
     "output_type": "stream",
     "text": [
      "Created results/by_layer_20250911_112921/by_layer/layer_20/V1_num_p4_V1.npz with 1050 questions\n"
     ]
    },
    {
     "name": "stderr",
     "output_type": "stream",
     "text": [
      "Layer 21: 100%|██████████| 1050/1050 [00:02<00:00, 499.45it/s]\n"
     ]
    },
    {
     "name": "stdout",
     "output_type": "stream",
     "text": [
      "Created results/by_layer_20250911_112921/by_layer/layer_21/V1_num_p4_V1.npz with 1050 questions\n"
     ]
    },
    {
     "name": "stderr",
     "output_type": "stream",
     "text": [
      "Layer 22: 100%|██████████| 1050/1050 [00:01<00:00, 550.13it/s]\n"
     ]
    },
    {
     "name": "stdout",
     "output_type": "stream",
     "text": [
      "Created results/by_layer_20250911_112921/by_layer/layer_22/V1_num_p4_V1.npz with 1050 questions\n"
     ]
    },
    {
     "name": "stderr",
     "output_type": "stream",
     "text": [
      "Layer 23: 100%|██████████| 1050/1050 [00:01<00:00, 554.40it/s]\n"
     ]
    },
    {
     "name": "stdout",
     "output_type": "stream",
     "text": [
      "Created results/by_layer_20250911_112921/by_layer/layer_23/V1_num_p4_V1.npz with 1050 questions\n"
     ]
    },
    {
     "name": "stderr",
     "output_type": "stream",
     "text": [
      "Layer 24: 100%|██████████| 1050/1050 [00:01<00:00, 587.68it/s]\n"
     ]
    },
    {
     "name": "stdout",
     "output_type": "stream",
     "text": [
      "Created results/by_layer_20250911_112921/by_layer/layer_24/V1_num_p4_V1.npz with 1050 questions\n"
     ]
    },
    {
     "name": "stderr",
     "output_type": "stream",
     "text": [
      "Layer 25: 100%|██████████| 1050/1050 [00:03<00:00, 347.69it/s]\n"
     ]
    },
    {
     "name": "stdout",
     "output_type": "stream",
     "text": [
      "Created results/by_layer_20250911_112921/by_layer/layer_25/V1_num_p4_V1.npz with 1050 questions\n"
     ]
    },
    {
     "name": "stderr",
     "output_type": "stream",
     "text": [
      "Layer 26: 100%|██████████| 1050/1050 [00:01<00:00, 536.04it/s]\n"
     ]
    },
    {
     "name": "stdout",
     "output_type": "stream",
     "text": [
      "Created results/by_layer_20250911_112921/by_layer/layer_26/V1_num_p4_V1.npz with 1050 questions\n"
     ]
    },
    {
     "name": "stderr",
     "output_type": "stream",
     "text": [
      "Layer 27: 100%|██████████| 1050/1050 [00:02<00:00, 483.55it/s]\n"
     ]
    },
    {
     "name": "stdout",
     "output_type": "stream",
     "text": [
      "Created results/by_layer_20250911_112921/by_layer/layer_27/V1_num_p4_V1.npz with 1050 questions\n"
     ]
    },
    {
     "name": "stderr",
     "output_type": "stream",
     "text": [
      "Layer 28: 100%|██████████| 1050/1050 [00:02<00:00, 521.65it/s]\n"
     ]
    },
    {
     "name": "stdout",
     "output_type": "stream",
     "text": [
      "Created results/by_layer_20250911_112921/by_layer/layer_28/V1_num_p4_V1.npz with 1050 questions\n"
     ]
    },
    {
     "name": "stderr",
     "output_type": "stream",
     "text": [
      "Layer 29: 100%|██████████| 1050/1050 [00:01<00:00, 555.62it/s]\n"
     ]
    },
    {
     "name": "stdout",
     "output_type": "stream",
     "text": [
      "Created results/by_layer_20250911_112921/by_layer/layer_29/V1_num_p4_V1.npz with 1050 questions\n"
     ]
    },
    {
     "name": "stderr",
     "output_type": "stream",
     "text": [
      "Layer 30: 100%|██████████| 1050/1050 [00:01<00:00, 535.19it/s]\n"
     ]
    },
    {
     "name": "stdout",
     "output_type": "stream",
     "text": [
      "Created results/by_layer_20250911_112921/by_layer/layer_30/V1_num_p4_V1.npz with 1050 questions\n"
     ]
    },
    {
     "name": "stderr",
     "output_type": "stream",
     "text": [
      "Layer 31: 100%|██████████| 1050/1050 [00:01<00:00, 525.09it/s]\n"
     ]
    },
    {
     "name": "stdout",
     "output_type": "stream",
     "text": [
      "Created results/by_layer_20250911_112921/by_layer/layer_31/V1_num_p4_V1.npz with 1050 questions\n"
     ]
    },
    {
     "name": "stderr",
     "output_type": "stream",
     "text": [
      "Layer 32: 100%|██████████| 1050/1050 [00:01<00:00, 564.37it/s]\n"
     ]
    },
    {
     "name": "stdout",
     "output_type": "stream",
     "text": [
      "Created results/by_layer_20250911_112921/by_layer/layer_32/V1_num_p4_V1.npz with 1050 questions\n"
     ]
    },
    {
     "name": "stderr",
     "output_type": "stream",
     "text": [
      "Layer 33: 100%|██████████| 1050/1050 [00:02<00:00, 487.26it/s]\n"
     ]
    },
    {
     "name": "stdout",
     "output_type": "stream",
     "text": [
      "Created results/by_layer_20250911_112921/by_layer/layer_33/V1_num_p4_V1.npz with 1050 questions\n"
     ]
    },
    {
     "name": "stderr",
     "output_type": "stream",
     "text": [
      "Layer 34: 100%|██████████| 1050/1050 [00:02<00:00, 505.20it/s]\n"
     ]
    },
    {
     "name": "stdout",
     "output_type": "stream",
     "text": [
      "Created results/by_layer_20250911_112921/by_layer/layer_34/V1_num_p4_V1.npz with 1050 questions\n",
      "\n",
      "Processing experiment 57/60: results/comprehensive_experiments/run_20250911_062422/V1_alpha_p4\n",
      "Processing experiment: results/comprehensive_experiments/run_20250911_062422/V1_alpha_p4\n",
      "File: hidden_states_V1.npz, Layers: 35, Hidden dim: 2560\n"
     ]
    },
    {
     "name": "stderr",
     "output_type": "stream",
     "text": [
      "Layer 00: 100%|██████████| 1050/1050 [00:03<00:00, 324.05it/s]\n"
     ]
    },
    {
     "name": "stdout",
     "output_type": "stream",
     "text": [
      "Created results/by_layer_20250911_112921/by_layer/layer_00/V1_alpha_p4_V1.npz with 1050 questions\n"
     ]
    },
    {
     "name": "stderr",
     "output_type": "stream",
     "text": [
      "Layer 01: 100%|██████████| 1050/1050 [00:02<00:00, 476.41it/s]\n"
     ]
    },
    {
     "name": "stdout",
     "output_type": "stream",
     "text": [
      "Created results/by_layer_20250911_112921/by_layer/layer_01/V1_alpha_p4_V1.npz with 1050 questions\n"
     ]
    },
    {
     "name": "stderr",
     "output_type": "stream",
     "text": [
      "Layer 02: 100%|██████████| 1050/1050 [00:02<00:00, 519.17it/s]\n"
     ]
    },
    {
     "name": "stdout",
     "output_type": "stream",
     "text": [
      "Created results/by_layer_20250911_112921/by_layer/layer_02/V1_alpha_p4_V1.npz with 1050 questions\n"
     ]
    },
    {
     "name": "stderr",
     "output_type": "stream",
     "text": [
      "Layer 03: 100%|██████████| 1050/1050 [00:01<00:00, 570.01it/s]\n"
     ]
    },
    {
     "name": "stdout",
     "output_type": "stream",
     "text": [
      "Created results/by_layer_20250911_112921/by_layer/layer_03/V1_alpha_p4_V1.npz with 1050 questions\n"
     ]
    },
    {
     "name": "stderr",
     "output_type": "stream",
     "text": [
      "Layer 04: 100%|██████████| 1050/1050 [00:01<00:00, 537.59it/s]\n"
     ]
    },
    {
     "name": "stdout",
     "output_type": "stream",
     "text": [
      "Created results/by_layer_20250911_112921/by_layer/layer_04/V1_alpha_p4_V1.npz with 1050 questions\n"
     ]
    },
    {
     "name": "stderr",
     "output_type": "stream",
     "text": [
      "Layer 05: 100%|██████████| 1050/1050 [00:01<00:00, 636.63it/s]\n"
     ]
    },
    {
     "name": "stdout",
     "output_type": "stream",
     "text": [
      "Created results/by_layer_20250911_112921/by_layer/layer_05/V1_alpha_p4_V1.npz with 1050 questions\n"
     ]
    },
    {
     "name": "stderr",
     "output_type": "stream",
     "text": [
      "Layer 06: 100%|██████████| 1050/1050 [00:01<00:00, 547.88it/s]\n"
     ]
    },
    {
     "name": "stdout",
     "output_type": "stream",
     "text": [
      "Created results/by_layer_20250911_112921/by_layer/layer_06/V1_alpha_p4_V1.npz with 1050 questions\n"
     ]
    },
    {
     "name": "stderr",
     "output_type": "stream",
     "text": [
      "Layer 07: 100%|██████████| 1050/1050 [00:01<00:00, 566.64it/s]\n"
     ]
    },
    {
     "name": "stdout",
     "output_type": "stream",
     "text": [
      "Created results/by_layer_20250911_112921/by_layer/layer_07/V1_alpha_p4_V1.npz with 1050 questions\n"
     ]
    },
    {
     "name": "stderr",
     "output_type": "stream",
     "text": [
      "Layer 08: 100%|██████████| 1050/1050 [00:01<00:00, 547.63it/s]\n"
     ]
    },
    {
     "name": "stdout",
     "output_type": "stream",
     "text": [
      "Created results/by_layer_20250911_112921/by_layer/layer_08/V1_alpha_p4_V1.npz with 1050 questions\n"
     ]
    },
    {
     "name": "stderr",
     "output_type": "stream",
     "text": [
      "Layer 09: 100%|██████████| 1050/1050 [00:01<00:00, 576.53it/s]\n"
     ]
    },
    {
     "name": "stdout",
     "output_type": "stream",
     "text": [
      "Created results/by_layer_20250911_112921/by_layer/layer_09/V1_alpha_p4_V1.npz with 1050 questions\n"
     ]
    },
    {
     "name": "stderr",
     "output_type": "stream",
     "text": [
      "Layer 10: 100%|██████████| 1050/1050 [00:02<00:00, 507.73it/s]\n"
     ]
    },
    {
     "name": "stdout",
     "output_type": "stream",
     "text": [
      "Created results/by_layer_20250911_112921/by_layer/layer_10/V1_alpha_p4_V1.npz with 1050 questions\n"
     ]
    },
    {
     "name": "stderr",
     "output_type": "stream",
     "text": [
      "Layer 11: 100%|██████████| 1050/1050 [00:01<00:00, 567.90it/s]\n"
     ]
    },
    {
     "name": "stdout",
     "output_type": "stream",
     "text": [
      "Created results/by_layer_20250911_112921/by_layer/layer_11/V1_alpha_p4_V1.npz with 1050 questions\n"
     ]
    },
    {
     "name": "stderr",
     "output_type": "stream",
     "text": [
      "Layer 12: 100%|██████████| 1050/1050 [00:01<00:00, 574.44it/s]\n"
     ]
    },
    {
     "name": "stdout",
     "output_type": "stream",
     "text": [
      "Created results/by_layer_20250911_112921/by_layer/layer_12/V1_alpha_p4_V1.npz with 1050 questions\n"
     ]
    },
    {
     "name": "stderr",
     "output_type": "stream",
     "text": [
      "Layer 13: 100%|██████████| 1050/1050 [00:01<00:00, 545.41it/s]\n"
     ]
    },
    {
     "name": "stdout",
     "output_type": "stream",
     "text": [
      "Created results/by_layer_20250911_112921/by_layer/layer_13/V1_alpha_p4_V1.npz with 1050 questions\n"
     ]
    },
    {
     "name": "stderr",
     "output_type": "stream",
     "text": [
      "Layer 14: 100%|██████████| 1050/1050 [00:02<00:00, 513.66it/s]\n"
     ]
    },
    {
     "name": "stdout",
     "output_type": "stream",
     "text": [
      "Created results/by_layer_20250911_112921/by_layer/layer_14/V1_alpha_p4_V1.npz with 1050 questions\n"
     ]
    },
    {
     "name": "stderr",
     "output_type": "stream",
     "text": [
      "Layer 15: 100%|██████████| 1050/1050 [00:01<00:00, 564.67it/s]\n"
     ]
    },
    {
     "name": "stdout",
     "output_type": "stream",
     "text": [
      "Created results/by_layer_20250911_112921/by_layer/layer_15/V1_alpha_p4_V1.npz with 1050 questions\n"
     ]
    },
    {
     "name": "stderr",
     "output_type": "stream",
     "text": [
      "Layer 16: 100%|██████████| 1050/1050 [00:01<00:00, 579.98it/s]\n"
     ]
    },
    {
     "name": "stdout",
     "output_type": "stream",
     "text": [
      "Created results/by_layer_20250911_112921/by_layer/layer_16/V1_alpha_p4_V1.npz with 1050 questions\n"
     ]
    },
    {
     "name": "stderr",
     "output_type": "stream",
     "text": [
      "Layer 17: 100%|██████████| 1050/1050 [00:01<00:00, 587.55it/s]\n"
     ]
    },
    {
     "name": "stdout",
     "output_type": "stream",
     "text": [
      "Created results/by_layer_20250911_112921/by_layer/layer_17/V1_alpha_p4_V1.npz with 1050 questions\n"
     ]
    },
    {
     "name": "stderr",
     "output_type": "stream",
     "text": [
      "Layer 18: 100%|██████████| 1050/1050 [00:01<00:00, 573.61it/s]\n"
     ]
    },
    {
     "name": "stdout",
     "output_type": "stream",
     "text": [
      "Created results/by_layer_20250911_112921/by_layer/layer_18/V1_alpha_p4_V1.npz with 1050 questions\n"
     ]
    },
    {
     "name": "stderr",
     "output_type": "stream",
     "text": [
      "Layer 19: 100%|██████████| 1050/1050 [00:01<00:00, 570.70it/s]\n"
     ]
    },
    {
     "name": "stdout",
     "output_type": "stream",
     "text": [
      "Created results/by_layer_20250911_112921/by_layer/layer_19/V1_alpha_p4_V1.npz with 1050 questions\n"
     ]
    },
    {
     "name": "stderr",
     "output_type": "stream",
     "text": [
      "Layer 20: 100%|██████████| 1050/1050 [00:01<00:00, 543.48it/s]\n"
     ]
    },
    {
     "name": "stdout",
     "output_type": "stream",
     "text": [
      "Created results/by_layer_20250911_112921/by_layer/layer_20/V1_alpha_p4_V1.npz with 1050 questions\n"
     ]
    },
    {
     "name": "stderr",
     "output_type": "stream",
     "text": [
      "Layer 21: 100%|██████████| 1050/1050 [00:01<00:00, 622.42it/s]\n"
     ]
    },
    {
     "name": "stdout",
     "output_type": "stream",
     "text": [
      "Created results/by_layer_20250911_112921/by_layer/layer_21/V1_alpha_p4_V1.npz with 1050 questions\n"
     ]
    },
    {
     "name": "stderr",
     "output_type": "stream",
     "text": [
      "Layer 22: 100%|██████████| 1050/1050 [00:01<00:00, 591.07it/s]\n"
     ]
    },
    {
     "name": "stdout",
     "output_type": "stream",
     "text": [
      "Created results/by_layer_20250911_112921/by_layer/layer_22/V1_alpha_p4_V1.npz with 1050 questions\n"
     ]
    },
    {
     "name": "stderr",
     "output_type": "stream",
     "text": [
      "Layer 23: 100%|██████████| 1050/1050 [00:01<00:00, 590.43it/s]\n"
     ]
    },
    {
     "name": "stdout",
     "output_type": "stream",
     "text": [
      "Created results/by_layer_20250911_112921/by_layer/layer_23/V1_alpha_p4_V1.npz with 1050 questions\n"
     ]
    },
    {
     "name": "stderr",
     "output_type": "stream",
     "text": [
      "Layer 24: 100%|██████████| 1050/1050 [00:01<00:00, 605.31it/s]\n"
     ]
    },
    {
     "name": "stdout",
     "output_type": "stream",
     "text": [
      "Created results/by_layer_20250911_112921/by_layer/layer_24/V1_alpha_p4_V1.npz with 1050 questions\n"
     ]
    },
    {
     "name": "stderr",
     "output_type": "stream",
     "text": [
      "Layer 25: 100%|██████████| 1050/1050 [00:01<00:00, 595.85it/s]\n"
     ]
    },
    {
     "name": "stdout",
     "output_type": "stream",
     "text": [
      "Created results/by_layer_20250911_112921/by_layer/layer_25/V1_alpha_p4_V1.npz with 1050 questions\n"
     ]
    },
    {
     "name": "stderr",
     "output_type": "stream",
     "text": [
      "Layer 26: 100%|██████████| 1050/1050 [00:03<00:00, 335.20it/s]\n"
     ]
    },
    {
     "name": "stdout",
     "output_type": "stream",
     "text": [
      "Created results/by_layer_20250911_112921/by_layer/layer_26/V1_alpha_p4_V1.npz with 1050 questions\n"
     ]
    },
    {
     "name": "stderr",
     "output_type": "stream",
     "text": [
      "Layer 27: 100%|██████████| 1050/1050 [00:01<00:00, 564.34it/s]\n"
     ]
    },
    {
     "name": "stdout",
     "output_type": "stream",
     "text": [
      "Created results/by_layer_20250911_112921/by_layer/layer_27/V1_alpha_p4_V1.npz with 1050 questions\n"
     ]
    },
    {
     "name": "stderr",
     "output_type": "stream",
     "text": [
      "Layer 28: 100%|██████████| 1050/1050 [00:01<00:00, 565.12it/s]\n"
     ]
    },
    {
     "name": "stdout",
     "output_type": "stream",
     "text": [
      "Created results/by_layer_20250911_112921/by_layer/layer_28/V1_alpha_p4_V1.npz with 1050 questions\n"
     ]
    },
    {
     "name": "stderr",
     "output_type": "stream",
     "text": [
      "Layer 29: 100%|██████████| 1050/1050 [00:01<00:00, 570.30it/s]\n"
     ]
    },
    {
     "name": "stdout",
     "output_type": "stream",
     "text": [
      "Created results/by_layer_20250911_112921/by_layer/layer_29/V1_alpha_p4_V1.npz with 1050 questions\n"
     ]
    },
    {
     "name": "stderr",
     "output_type": "stream",
     "text": [
      "Layer 30: 100%|██████████| 1050/1050 [00:01<00:00, 575.10it/s]\n"
     ]
    },
    {
     "name": "stdout",
     "output_type": "stream",
     "text": [
      "Created results/by_layer_20250911_112921/by_layer/layer_30/V1_alpha_p4_V1.npz with 1050 questions\n"
     ]
    },
    {
     "name": "stderr",
     "output_type": "stream",
     "text": [
      "Layer 31: 100%|██████████| 1050/1050 [00:01<00:00, 598.06it/s]\n"
     ]
    },
    {
     "name": "stdout",
     "output_type": "stream",
     "text": [
      "Created results/by_layer_20250911_112921/by_layer/layer_31/V1_alpha_p4_V1.npz with 1050 questions\n"
     ]
    },
    {
     "name": "stderr",
     "output_type": "stream",
     "text": [
      "Layer 32: 100%|██████████| 1050/1050 [00:02<00:00, 521.29it/s]\n"
     ]
    },
    {
     "name": "stdout",
     "output_type": "stream",
     "text": [
      "Created results/by_layer_20250911_112921/by_layer/layer_32/V1_alpha_p4_V1.npz with 1050 questions\n"
     ]
    },
    {
     "name": "stderr",
     "output_type": "stream",
     "text": [
      "Layer 33: 100%|██████████| 1050/1050 [00:01<00:00, 567.68it/s]\n"
     ]
    },
    {
     "name": "stdout",
     "output_type": "stream",
     "text": [
      "Created results/by_layer_20250911_112921/by_layer/layer_33/V1_alpha_p4_V1.npz with 1050 questions\n"
     ]
    },
    {
     "name": "stderr",
     "output_type": "stream",
     "text": [
      "Layer 34: 100%|██████████| 1050/1050 [00:01<00:00, 534.03it/s]\n"
     ]
    },
    {
     "name": "stdout",
     "output_type": "stream",
     "text": [
      "Created results/by_layer_20250911_112921/by_layer/layer_34/V1_alpha_p4_V1.npz with 1050 questions\n",
      "\n",
      "Processing experiment 58/60: results/comprehensive_experiments/run_20250911_062422/V3_num_p3\n",
      "Processing experiment: results/comprehensive_experiments/run_20250911_062422/V3_num_p3\n",
      "File: hidden_states_V3.npz, Layers: 35, Hidden dim: 2560\n"
     ]
    },
    {
     "name": "stderr",
     "output_type": "stream",
     "text": [
      "Layer 00: 100%|██████████| 1050/1050 [00:05<00:00, 201.89it/s]\n"
     ]
    },
    {
     "name": "stdout",
     "output_type": "stream",
     "text": [
      "Created results/by_layer_20250911_112921/by_layer/layer_00/V3_num_p3_V3.npz with 1050 questions\n"
     ]
    },
    {
     "name": "stderr",
     "output_type": "stream",
     "text": [
      "Layer 01: 100%|██████████| 1050/1050 [00:01<00:00, 602.69it/s]\n"
     ]
    },
    {
     "name": "stdout",
     "output_type": "stream",
     "text": [
      "Created results/by_layer_20250911_112921/by_layer/layer_01/V3_num_p3_V3.npz with 1050 questions\n"
     ]
    },
    {
     "name": "stderr",
     "output_type": "stream",
     "text": [
      "Layer 02: 100%|██████████| 1050/1050 [00:01<00:00, 554.09it/s]\n"
     ]
    },
    {
     "name": "stdout",
     "output_type": "stream",
     "text": [
      "Created results/by_layer_20250911_112921/by_layer/layer_02/V3_num_p3_V3.npz with 1050 questions\n"
     ]
    },
    {
     "name": "stderr",
     "output_type": "stream",
     "text": [
      "Layer 03: 100%|██████████| 1050/1050 [00:01<00:00, 562.97it/s]\n"
     ]
    },
    {
     "name": "stdout",
     "output_type": "stream",
     "text": [
      "Created results/by_layer_20250911_112921/by_layer/layer_03/V3_num_p3_V3.npz with 1050 questions\n"
     ]
    },
    {
     "name": "stderr",
     "output_type": "stream",
     "text": [
      "Layer 04: 100%|██████████| 1050/1050 [00:01<00:00, 613.62it/s]\n"
     ]
    },
    {
     "name": "stdout",
     "output_type": "stream",
     "text": [
      "Created results/by_layer_20250911_112921/by_layer/layer_04/V3_num_p3_V3.npz with 1050 questions\n"
     ]
    },
    {
     "name": "stderr",
     "output_type": "stream",
     "text": [
      "Layer 05: 100%|██████████| 1050/1050 [00:01<00:00, 594.40it/s]\n"
     ]
    },
    {
     "name": "stdout",
     "output_type": "stream",
     "text": [
      "Created results/by_layer_20250911_112921/by_layer/layer_05/V3_num_p3_V3.npz with 1050 questions\n"
     ]
    },
    {
     "name": "stderr",
     "output_type": "stream",
     "text": [
      "Layer 06: 100%|██████████| 1050/1050 [00:01<00:00, 548.05it/s]\n"
     ]
    },
    {
     "name": "stdout",
     "output_type": "stream",
     "text": [
      "Created results/by_layer_20250911_112921/by_layer/layer_06/V3_num_p3_V3.npz with 1050 questions\n"
     ]
    },
    {
     "name": "stderr",
     "output_type": "stream",
     "text": [
      "Layer 07: 100%|██████████| 1050/1050 [00:01<00:00, 542.47it/s]\n"
     ]
    },
    {
     "name": "stdout",
     "output_type": "stream",
     "text": [
      "Created results/by_layer_20250911_112921/by_layer/layer_07/V3_num_p3_V3.npz with 1050 questions\n"
     ]
    },
    {
     "name": "stderr",
     "output_type": "stream",
     "text": [
      "Layer 08: 100%|██████████| 1050/1050 [00:02<00:00, 517.47it/s]\n"
     ]
    },
    {
     "name": "stdout",
     "output_type": "stream",
     "text": [
      "Created results/by_layer_20250911_112921/by_layer/layer_08/V3_num_p3_V3.npz with 1050 questions\n"
     ]
    },
    {
     "name": "stderr",
     "output_type": "stream",
     "text": [
      "Layer 09: 100%|██████████| 1050/1050 [00:03<00:00, 327.04it/s]\n"
     ]
    },
    {
     "name": "stdout",
     "output_type": "stream",
     "text": [
      "Created results/by_layer_20250911_112921/by_layer/layer_09/V3_num_p3_V3.npz with 1050 questions\n"
     ]
    },
    {
     "name": "stderr",
     "output_type": "stream",
     "text": [
      "Layer 10: 100%|██████████| 1050/1050 [00:01<00:00, 550.11it/s]\n"
     ]
    },
    {
     "name": "stdout",
     "output_type": "stream",
     "text": [
      "Created results/by_layer_20250911_112921/by_layer/layer_10/V3_num_p3_V3.npz with 1050 questions\n"
     ]
    },
    {
     "name": "stderr",
     "output_type": "stream",
     "text": [
      "Layer 11: 100%|██████████| 1050/1050 [00:01<00:00, 560.62it/s]\n"
     ]
    },
    {
     "name": "stdout",
     "output_type": "stream",
     "text": [
      "Created results/by_layer_20250911_112921/by_layer/layer_11/V3_num_p3_V3.npz with 1050 questions\n"
     ]
    },
    {
     "name": "stderr",
     "output_type": "stream",
     "text": [
      "Layer 12: 100%|██████████| 1050/1050 [00:01<00:00, 593.94it/s]\n"
     ]
    },
    {
     "name": "stdout",
     "output_type": "stream",
     "text": [
      "Created results/by_layer_20250911_112921/by_layer/layer_12/V3_num_p3_V3.npz with 1050 questions\n"
     ]
    },
    {
     "name": "stderr",
     "output_type": "stream",
     "text": [
      "Layer 13: 100%|██████████| 1050/1050 [00:01<00:00, 592.32it/s]\n"
     ]
    },
    {
     "name": "stdout",
     "output_type": "stream",
     "text": [
      "Created results/by_layer_20250911_112921/by_layer/layer_13/V3_num_p3_V3.npz with 1050 questions\n"
     ]
    },
    {
     "name": "stderr",
     "output_type": "stream",
     "text": [
      "Layer 14: 100%|██████████| 1050/1050 [00:01<00:00, 608.42it/s]\n"
     ]
    },
    {
     "name": "stdout",
     "output_type": "stream",
     "text": [
      "Created results/by_layer_20250911_112921/by_layer/layer_14/V3_num_p3_V3.npz with 1050 questions\n"
     ]
    },
    {
     "name": "stderr",
     "output_type": "stream",
     "text": [
      "Layer 15: 100%|██████████| 1050/1050 [00:01<00:00, 603.56it/s]\n"
     ]
    },
    {
     "name": "stdout",
     "output_type": "stream",
     "text": [
      "Created results/by_layer_20250911_112921/by_layer/layer_15/V3_num_p3_V3.npz with 1050 questions\n"
     ]
    },
    {
     "name": "stderr",
     "output_type": "stream",
     "text": [
      "Layer 16: 100%|██████████| 1050/1050 [00:01<00:00, 536.46it/s]\n"
     ]
    },
    {
     "name": "stdout",
     "output_type": "stream",
     "text": [
      "Created results/by_layer_20250911_112921/by_layer/layer_16/V3_num_p3_V3.npz with 1050 questions\n"
     ]
    },
    {
     "name": "stderr",
     "output_type": "stream",
     "text": [
      "Layer 17: 100%|██████████| 1050/1050 [00:02<00:00, 504.23it/s]\n"
     ]
    },
    {
     "name": "stdout",
     "output_type": "stream",
     "text": [
      "Created results/by_layer_20250911_112921/by_layer/layer_17/V3_num_p3_V3.npz with 1050 questions\n"
     ]
    },
    {
     "name": "stderr",
     "output_type": "stream",
     "text": [
      "Layer 18: 100%|██████████| 1050/1050 [00:03<00:00, 318.59it/s]\n"
     ]
    },
    {
     "name": "stdout",
     "output_type": "stream",
     "text": [
      "Created results/by_layer_20250911_112921/by_layer/layer_18/V3_num_p3_V3.npz with 1050 questions\n"
     ]
    },
    {
     "name": "stderr",
     "output_type": "stream",
     "text": [
      "Layer 19: 100%|██████████| 1050/1050 [00:01<00:00, 548.33it/s]\n"
     ]
    },
    {
     "name": "stdout",
     "output_type": "stream",
     "text": [
      "Created results/by_layer_20250911_112921/by_layer/layer_19/V3_num_p3_V3.npz with 1050 questions\n"
     ]
    },
    {
     "name": "stderr",
     "output_type": "stream",
     "text": [
      "Layer 20: 100%|██████████| 1050/1050 [00:02<00:00, 502.88it/s]\n"
     ]
    },
    {
     "name": "stdout",
     "output_type": "stream",
     "text": [
      "Created results/by_layer_20250911_112921/by_layer/layer_20/V3_num_p3_V3.npz with 1050 questions\n"
     ]
    },
    {
     "name": "stderr",
     "output_type": "stream",
     "text": [
      "Layer 21: 100%|██████████| 1050/1050 [00:01<00:00, 537.77it/s]\n"
     ]
    },
    {
     "name": "stdout",
     "output_type": "stream",
     "text": [
      "Created results/by_layer_20250911_112921/by_layer/layer_21/V3_num_p3_V3.npz with 1050 questions\n"
     ]
    },
    {
     "name": "stderr",
     "output_type": "stream",
     "text": [
      "Layer 22: 100%|██████████| 1050/1050 [00:01<00:00, 548.83it/s]\n"
     ]
    },
    {
     "name": "stdout",
     "output_type": "stream",
     "text": [
      "Created results/by_layer_20250911_112921/by_layer/layer_22/V3_num_p3_V3.npz with 1050 questions\n"
     ]
    },
    {
     "name": "stderr",
     "output_type": "stream",
     "text": [
      "Layer 23: 100%|██████████| 1050/1050 [00:01<00:00, 606.23it/s]\n"
     ]
    },
    {
     "name": "stdout",
     "output_type": "stream",
     "text": [
      "Created results/by_layer_20250911_112921/by_layer/layer_23/V3_num_p3_V3.npz with 1050 questions\n"
     ]
    },
    {
     "name": "stderr",
     "output_type": "stream",
     "text": [
      "Layer 24: 100%|██████████| 1050/1050 [00:01<00:00, 556.67it/s]\n"
     ]
    },
    {
     "name": "stdout",
     "output_type": "stream",
     "text": [
      "Created results/by_layer_20250911_112921/by_layer/layer_24/V3_num_p3_V3.npz with 1050 questions\n"
     ]
    },
    {
     "name": "stderr",
     "output_type": "stream",
     "text": [
      "Layer 25: 100%|██████████| 1050/1050 [00:01<00:00, 570.37it/s]\n"
     ]
    },
    {
     "name": "stdout",
     "output_type": "stream",
     "text": [
      "Created results/by_layer_20250911_112921/by_layer/layer_25/V3_num_p3_V3.npz with 1050 questions\n"
     ]
    },
    {
     "name": "stderr",
     "output_type": "stream",
     "text": [
      "Layer 26: 100%|██████████| 1050/1050 [00:01<00:00, 622.40it/s]\n"
     ]
    },
    {
     "name": "stdout",
     "output_type": "stream",
     "text": [
      "Created results/by_layer_20250911_112921/by_layer/layer_26/V3_num_p3_V3.npz with 1050 questions\n"
     ]
    },
    {
     "name": "stderr",
     "output_type": "stream",
     "text": [
      "Layer 27: 100%|██████████| 1050/1050 [00:01<00:00, 616.30it/s]\n"
     ]
    },
    {
     "name": "stdout",
     "output_type": "stream",
     "text": [
      "Created results/by_layer_20250911_112921/by_layer/layer_27/V3_num_p3_V3.npz with 1050 questions\n"
     ]
    },
    {
     "name": "stderr",
     "output_type": "stream",
     "text": [
      "Layer 28: 100%|██████████| 1050/1050 [00:02<00:00, 468.61it/s]\n"
     ]
    },
    {
     "name": "stdout",
     "output_type": "stream",
     "text": [
      "Created results/by_layer_20250911_112921/by_layer/layer_28/V3_num_p3_V3.npz with 1050 questions\n"
     ]
    },
    {
     "name": "stderr",
     "output_type": "stream",
     "text": [
      "Layer 29: 100%|██████████| 1050/1050 [00:01<00:00, 586.58it/s]\n"
     ]
    },
    {
     "name": "stdout",
     "output_type": "stream",
     "text": [
      "Created results/by_layer_20250911_112921/by_layer/layer_29/V3_num_p3_V3.npz with 1050 questions\n"
     ]
    },
    {
     "name": "stderr",
     "output_type": "stream",
     "text": [
      "Layer 30: 100%|██████████| 1050/1050 [00:02<00:00, 502.94it/s]\n"
     ]
    },
    {
     "name": "stdout",
     "output_type": "stream",
     "text": [
      "Created results/by_layer_20250911_112921/by_layer/layer_30/V3_num_p3_V3.npz with 1050 questions\n"
     ]
    },
    {
     "name": "stderr",
     "output_type": "stream",
     "text": [
      "Layer 31: 100%|██████████| 1050/1050 [00:01<00:00, 556.08it/s]\n"
     ]
    },
    {
     "name": "stdout",
     "output_type": "stream",
     "text": [
      "Created results/by_layer_20250911_112921/by_layer/layer_31/V3_num_p3_V3.npz with 1050 questions\n"
     ]
    },
    {
     "name": "stderr",
     "output_type": "stream",
     "text": [
      "Layer 32: 100%|██████████| 1050/1050 [00:01<00:00, 577.00it/s]\n"
     ]
    },
    {
     "name": "stdout",
     "output_type": "stream",
     "text": [
      "Created results/by_layer_20250911_112921/by_layer/layer_32/V3_num_p3_V3.npz with 1050 questions\n"
     ]
    },
    {
     "name": "stderr",
     "output_type": "stream",
     "text": [
      "Layer 33: 100%|██████████| 1050/1050 [00:01<00:00, 547.41it/s]\n"
     ]
    },
    {
     "name": "stdout",
     "output_type": "stream",
     "text": [
      "Created results/by_layer_20250911_112921/by_layer/layer_33/V3_num_p3_V3.npz with 1050 questions\n"
     ]
    },
    {
     "name": "stderr",
     "output_type": "stream",
     "text": [
      "Layer 34: 100%|██████████| 1050/1050 [00:01<00:00, 585.35it/s]\n"
     ]
    },
    {
     "name": "stdout",
     "output_type": "stream",
     "text": [
      "Created results/by_layer_20250911_112921/by_layer/layer_34/V3_num_p3_V3.npz with 1050 questions\n",
      "\n",
      "Processing experiment 59/60: results/comprehensive_experiments/run_20250911_062422/V3_alpha_p4\n",
      "Processing experiment: results/comprehensive_experiments/run_20250911_062422/V3_alpha_p4\n",
      "File: hidden_states_V3.npz, Layers: 35, Hidden dim: 2560\n"
     ]
    },
    {
     "name": "stderr",
     "output_type": "stream",
     "text": [
      "Layer 00: 100%|██████████| 1050/1050 [00:04<00:00, 229.31it/s]\n"
     ]
    },
    {
     "name": "stdout",
     "output_type": "stream",
     "text": [
      "Created results/by_layer_20250911_112921/by_layer/layer_00/V3_alpha_p4_V3.npz with 1050 questions\n"
     ]
    },
    {
     "name": "stderr",
     "output_type": "stream",
     "text": [
      "Layer 01: 100%|██████████| 1050/1050 [00:02<00:00, 487.91it/s]\n"
     ]
    },
    {
     "name": "stdout",
     "output_type": "stream",
     "text": [
      "Created results/by_layer_20250911_112921/by_layer/layer_01/V3_alpha_p4_V3.npz with 1050 questions\n"
     ]
    },
    {
     "name": "stderr",
     "output_type": "stream",
     "text": [
      "Layer 02: 100%|██████████| 1050/1050 [00:01<00:00, 546.68it/s]\n"
     ]
    },
    {
     "name": "stdout",
     "output_type": "stream",
     "text": [
      "Created results/by_layer_20250911_112921/by_layer/layer_02/V3_alpha_p4_V3.npz with 1050 questions\n"
     ]
    },
    {
     "name": "stderr",
     "output_type": "stream",
     "text": [
      "Layer 03: 100%|██████████| 1050/1050 [00:01<00:00, 599.64it/s]\n"
     ]
    },
    {
     "name": "stdout",
     "output_type": "stream",
     "text": [
      "Created results/by_layer_20250911_112921/by_layer/layer_03/V3_alpha_p4_V3.npz with 1050 questions\n"
     ]
    },
    {
     "name": "stderr",
     "output_type": "stream",
     "text": [
      "Layer 04: 100%|██████████| 1050/1050 [00:01<00:00, 629.68it/s]\n"
     ]
    },
    {
     "name": "stdout",
     "output_type": "stream",
     "text": [
      "Created results/by_layer_20250911_112921/by_layer/layer_04/V3_alpha_p4_V3.npz with 1050 questions\n"
     ]
    },
    {
     "name": "stderr",
     "output_type": "stream",
     "text": [
      "Layer 05: 100%|██████████| 1050/1050 [00:01<00:00, 583.31it/s]\n"
     ]
    },
    {
     "name": "stdout",
     "output_type": "stream",
     "text": [
      "Created results/by_layer_20250911_112921/by_layer/layer_05/V3_alpha_p4_V3.npz with 1050 questions\n"
     ]
    },
    {
     "name": "stderr",
     "output_type": "stream",
     "text": [
      "Layer 06: 100%|██████████| 1050/1050 [00:01<00:00, 624.48it/s]\n"
     ]
    },
    {
     "name": "stdout",
     "output_type": "stream",
     "text": [
      "Created results/by_layer_20250911_112921/by_layer/layer_06/V3_alpha_p4_V3.npz with 1050 questions\n"
     ]
    },
    {
     "name": "stderr",
     "output_type": "stream",
     "text": [
      "Layer 07: 100%|██████████| 1050/1050 [00:01<00:00, 564.65it/s]\n"
     ]
    },
    {
     "name": "stdout",
     "output_type": "stream",
     "text": [
      "Created results/by_layer_20250911_112921/by_layer/layer_07/V3_alpha_p4_V3.npz with 1050 questions\n"
     ]
    },
    {
     "name": "stderr",
     "output_type": "stream",
     "text": [
      "Layer 08: 100%|██████████| 1050/1050 [00:01<00:00, 608.58it/s]\n"
     ]
    },
    {
     "name": "stdout",
     "output_type": "stream",
     "text": [
      "Created results/by_layer_20250911_112921/by_layer/layer_08/V3_alpha_p4_V3.npz with 1050 questions\n"
     ]
    },
    {
     "name": "stderr",
     "output_type": "stream",
     "text": [
      "Layer 09: 100%|██████████| 1050/1050 [00:01<00:00, 634.82it/s]\n"
     ]
    },
    {
     "name": "stdout",
     "output_type": "stream",
     "text": [
      "Created results/by_layer_20250911_112921/by_layer/layer_09/V3_alpha_p4_V3.npz with 1050 questions\n"
     ]
    },
    {
     "name": "stderr",
     "output_type": "stream",
     "text": [
      "Layer 10: 100%|██████████| 1050/1050 [00:03<00:00, 331.11it/s]\n"
     ]
    },
    {
     "name": "stdout",
     "output_type": "stream",
     "text": [
      "Created results/by_layer_20250911_112921/by_layer/layer_10/V3_alpha_p4_V3.npz with 1050 questions\n"
     ]
    },
    {
     "name": "stderr",
     "output_type": "stream",
     "text": [
      "Layer 11: 100%|██████████| 1050/1050 [00:01<00:00, 574.68it/s]\n"
     ]
    },
    {
     "name": "stdout",
     "output_type": "stream",
     "text": [
      "Created results/by_layer_20250911_112921/by_layer/layer_11/V3_alpha_p4_V3.npz with 1050 questions\n"
     ]
    },
    {
     "name": "stderr",
     "output_type": "stream",
     "text": [
      "Layer 12: 100%|██████████| 1050/1050 [00:01<00:00, 558.44it/s]\n"
     ]
    },
    {
     "name": "stdout",
     "output_type": "stream",
     "text": [
      "Created results/by_layer_20250911_112921/by_layer/layer_12/V3_alpha_p4_V3.npz with 1050 questions\n"
     ]
    },
    {
     "name": "stderr",
     "output_type": "stream",
     "text": [
      "Layer 13: 100%|██████████| 1050/1050 [00:01<00:00, 526.10it/s]\n"
     ]
    },
    {
     "name": "stdout",
     "output_type": "stream",
     "text": [
      "Created results/by_layer_20250911_112921/by_layer/layer_13/V3_alpha_p4_V3.npz with 1050 questions\n"
     ]
    },
    {
     "name": "stderr",
     "output_type": "stream",
     "text": [
      "Layer 14: 100%|██████████| 1050/1050 [00:01<00:00, 578.02it/s]\n"
     ]
    },
    {
     "name": "stdout",
     "output_type": "stream",
     "text": [
      "Created results/by_layer_20250911_112921/by_layer/layer_14/V3_alpha_p4_V3.npz with 1050 questions\n"
     ]
    },
    {
     "name": "stderr",
     "output_type": "stream",
     "text": [
      "Layer 15: 100%|██████████| 1050/1050 [00:01<00:00, 585.62it/s]\n"
     ]
    },
    {
     "name": "stdout",
     "output_type": "stream",
     "text": [
      "Created results/by_layer_20250911_112921/by_layer/layer_15/V3_alpha_p4_V3.npz with 1050 questions\n"
     ]
    },
    {
     "name": "stderr",
     "output_type": "stream",
     "text": [
      "Layer 16: 100%|██████████| 1050/1050 [00:01<00:00, 594.99it/s]\n"
     ]
    },
    {
     "name": "stdout",
     "output_type": "stream",
     "text": [
      "Created results/by_layer_20250911_112921/by_layer/layer_16/V3_alpha_p4_V3.npz with 1050 questions\n"
     ]
    },
    {
     "name": "stderr",
     "output_type": "stream",
     "text": [
      "Layer 17: 100%|██████████| 1050/1050 [00:02<00:00, 463.98it/s]\n"
     ]
    },
    {
     "name": "stdout",
     "output_type": "stream",
     "text": [
      "Created results/by_layer_20250911_112921/by_layer/layer_17/V3_alpha_p4_V3.npz with 1050 questions\n"
     ]
    },
    {
     "name": "stderr",
     "output_type": "stream",
     "text": [
      "Layer 18: 100%|██████████| 1050/1050 [00:01<00:00, 557.73it/s]\n"
     ]
    },
    {
     "name": "stdout",
     "output_type": "stream",
     "text": [
      "Created results/by_layer_20250911_112921/by_layer/layer_18/V3_alpha_p4_V3.npz with 1050 questions\n"
     ]
    },
    {
     "name": "stderr",
     "output_type": "stream",
     "text": [
      "Layer 19: 100%|██████████| 1050/1050 [00:03<00:00, 325.38it/s]\n"
     ]
    },
    {
     "name": "stdout",
     "output_type": "stream",
     "text": [
      "Created results/by_layer_20250911_112921/by_layer/layer_19/V3_alpha_p4_V3.npz with 1050 questions\n"
     ]
    },
    {
     "name": "stderr",
     "output_type": "stream",
     "text": [
      "Layer 20: 100%|██████████| 1050/1050 [00:01<00:00, 567.47it/s]\n"
     ]
    },
    {
     "name": "stdout",
     "output_type": "stream",
     "text": [
      "Created results/by_layer_20250911_112921/by_layer/layer_20/V3_alpha_p4_V3.npz with 1050 questions\n"
     ]
    },
    {
     "name": "stderr",
     "output_type": "stream",
     "text": [
      "Layer 21: 100%|██████████| 1050/1050 [00:01<00:00, 603.90it/s]\n"
     ]
    },
    {
     "name": "stdout",
     "output_type": "stream",
     "text": [
      "Created results/by_layer_20250911_112921/by_layer/layer_21/V3_alpha_p4_V3.npz with 1050 questions\n"
     ]
    },
    {
     "name": "stderr",
     "output_type": "stream",
     "text": [
      "Layer 22: 100%|██████████| 1050/1050 [00:01<00:00, 585.13it/s]\n"
     ]
    },
    {
     "name": "stdout",
     "output_type": "stream",
     "text": [
      "Created results/by_layer_20250911_112921/by_layer/layer_22/V3_alpha_p4_V3.npz with 1050 questions\n"
     ]
    },
    {
     "name": "stderr",
     "output_type": "stream",
     "text": [
      "Layer 23: 100%|██████████| 1050/1050 [00:01<00:00, 552.23it/s]\n"
     ]
    },
    {
     "name": "stdout",
     "output_type": "stream",
     "text": [
      "Created results/by_layer_20250911_112921/by_layer/layer_23/V3_alpha_p4_V3.npz with 1050 questions\n"
     ]
    },
    {
     "name": "stderr",
     "output_type": "stream",
     "text": [
      "Layer 24: 100%|██████████| 1050/1050 [00:01<00:00, 557.54it/s]\n"
     ]
    },
    {
     "name": "stdout",
     "output_type": "stream",
     "text": [
      "Created results/by_layer_20250911_112921/by_layer/layer_24/V3_alpha_p4_V3.npz with 1050 questions\n"
     ]
    },
    {
     "name": "stderr",
     "output_type": "stream",
     "text": [
      "Layer 25: 100%|██████████| 1050/1050 [00:02<00:00, 516.48it/s]\n"
     ]
    },
    {
     "name": "stdout",
     "output_type": "stream",
     "text": [
      "Created results/by_layer_20250911_112921/by_layer/layer_25/V3_alpha_p4_V3.npz with 1050 questions\n"
     ]
    },
    {
     "name": "stderr",
     "output_type": "stream",
     "text": [
      "Layer 26: 100%|██████████| 1050/1050 [00:02<00:00, 476.68it/s]\n"
     ]
    },
    {
     "name": "stdout",
     "output_type": "stream",
     "text": [
      "Created results/by_layer_20250911_112921/by_layer/layer_26/V3_alpha_p4_V3.npz with 1050 questions\n"
     ]
    },
    {
     "name": "stderr",
     "output_type": "stream",
     "text": [
      "Layer 27: 100%|██████████| 1050/1050 [00:01<00:00, 541.58it/s]\n"
     ]
    },
    {
     "name": "stdout",
     "output_type": "stream",
     "text": [
      "Created results/by_layer_20250911_112921/by_layer/layer_27/V3_alpha_p4_V3.npz with 1050 questions\n"
     ]
    },
    {
     "name": "stderr",
     "output_type": "stream",
     "text": [
      "Layer 28: 100%|██████████| 1050/1050 [00:03<00:00, 307.77it/s]\n"
     ]
    },
    {
     "name": "stdout",
     "output_type": "stream",
     "text": [
      "Created results/by_layer_20250911_112921/by_layer/layer_28/V3_alpha_p4_V3.npz with 1050 questions\n"
     ]
    },
    {
     "name": "stderr",
     "output_type": "stream",
     "text": [
      "Layer 29: 100%|██████████| 1050/1050 [00:01<00:00, 595.94it/s]\n"
     ]
    },
    {
     "name": "stdout",
     "output_type": "stream",
     "text": [
      "Created results/by_layer_20250911_112921/by_layer/layer_29/V3_alpha_p4_V3.npz with 1050 questions\n"
     ]
    },
    {
     "name": "stderr",
     "output_type": "stream",
     "text": [
      "Layer 30: 100%|██████████| 1050/1050 [00:01<00:00, 567.22it/s]\n"
     ]
    },
    {
     "name": "stdout",
     "output_type": "stream",
     "text": [
      "Created results/by_layer_20250911_112921/by_layer/layer_30/V3_alpha_p4_V3.npz with 1050 questions\n"
     ]
    },
    {
     "name": "stderr",
     "output_type": "stream",
     "text": [
      "Layer 31: 100%|██████████| 1050/1050 [00:01<00:00, 601.38it/s]\n"
     ]
    },
    {
     "name": "stdout",
     "output_type": "stream",
     "text": [
      "Created results/by_layer_20250911_112921/by_layer/layer_31/V3_alpha_p4_V3.npz with 1050 questions\n"
     ]
    },
    {
     "name": "stderr",
     "output_type": "stream",
     "text": [
      "Layer 32: 100%|██████████| 1050/1050 [00:01<00:00, 617.94it/s]\n"
     ]
    },
    {
     "name": "stdout",
     "output_type": "stream",
     "text": [
      "Created results/by_layer_20250911_112921/by_layer/layer_32/V3_alpha_p4_V3.npz with 1050 questions\n"
     ]
    },
    {
     "name": "stderr",
     "output_type": "stream",
     "text": [
      "Layer 33: 100%|██████████| 1050/1050 [00:01<00:00, 580.34it/s]\n"
     ]
    },
    {
     "name": "stdout",
     "output_type": "stream",
     "text": [
      "Created results/by_layer_20250911_112921/by_layer/layer_33/V3_alpha_p4_V3.npz with 1050 questions\n"
     ]
    },
    {
     "name": "stderr",
     "output_type": "stream",
     "text": [
      "Layer 34: 100%|██████████| 1050/1050 [00:01<00:00, 604.29it/s]\n"
     ]
    },
    {
     "name": "stdout",
     "output_type": "stream",
     "text": [
      "Created results/by_layer_20250911_112921/by_layer/layer_34/V3_alpha_p4_V3.npz with 1050 questions\n",
      "\n",
      "Processing experiment 60/60: results/comprehensive_experiments/run_20250911_062422/V4_alpha_p4\n",
      "Processing experiment: results/comprehensive_experiments/run_20250911_062422/V4_alpha_p4\n",
      "File: hidden_states_V4.npz, Layers: 35, Hidden dim: 2560\n"
     ]
    },
    {
     "name": "stderr",
     "output_type": "stream",
     "text": [
      "Layer 00: 100%|██████████| 1050/1050 [00:02<00:00, 416.43it/s]\n"
     ]
    },
    {
     "name": "stdout",
     "output_type": "stream",
     "text": [
      "Created results/by_layer_20250911_112921/by_layer/layer_00/V4_alpha_p4_V4.npz with 1050 questions\n"
     ]
    },
    {
     "name": "stderr",
     "output_type": "stream",
     "text": [
      "Layer 01: 100%|██████████| 1050/1050 [00:01<00:00, 569.94it/s]\n"
     ]
    },
    {
     "name": "stdout",
     "output_type": "stream",
     "text": [
      "Created results/by_layer_20250911_112921/by_layer/layer_01/V4_alpha_p4_V4.npz with 1050 questions\n"
     ]
    },
    {
     "name": "stderr",
     "output_type": "stream",
     "text": [
      "Layer 02: 100%|██████████| 1050/1050 [00:01<00:00, 560.47it/s]\n"
     ]
    },
    {
     "name": "stdout",
     "output_type": "stream",
     "text": [
      "Created results/by_layer_20250911_112921/by_layer/layer_02/V4_alpha_p4_V4.npz with 1050 questions\n"
     ]
    },
    {
     "name": "stderr",
     "output_type": "stream",
     "text": [
      "Layer 03: 100%|██████████| 1050/1050 [00:01<00:00, 567.05it/s]\n"
     ]
    },
    {
     "name": "stdout",
     "output_type": "stream",
     "text": [
      "Created results/by_layer_20250911_112921/by_layer/layer_03/V4_alpha_p4_V4.npz with 1050 questions\n"
     ]
    },
    {
     "name": "stderr",
     "output_type": "stream",
     "text": [
      "Layer 04: 100%|██████████| 1050/1050 [00:01<00:00, 605.24it/s]\n"
     ]
    },
    {
     "name": "stdout",
     "output_type": "stream",
     "text": [
      "Created results/by_layer_20250911_112921/by_layer/layer_04/V4_alpha_p4_V4.npz with 1050 questions\n"
     ]
    },
    {
     "name": "stderr",
     "output_type": "stream",
     "text": [
      "Layer 05: 100%|██████████| 1050/1050 [00:01<00:00, 557.37it/s]\n"
     ]
    },
    {
     "name": "stdout",
     "output_type": "stream",
     "text": [
      "Created results/by_layer_20250911_112921/by_layer/layer_05/V4_alpha_p4_V4.npz with 1050 questions\n"
     ]
    },
    {
     "name": "stderr",
     "output_type": "stream",
     "text": [
      "Layer 06: 100%|██████████| 1050/1050 [00:01<00:00, 571.01it/s]\n"
     ]
    },
    {
     "name": "stdout",
     "output_type": "stream",
     "text": [
      "Created results/by_layer_20250911_112921/by_layer/layer_06/V4_alpha_p4_V4.npz with 1050 questions\n"
     ]
    },
    {
     "name": "stderr",
     "output_type": "stream",
     "text": [
      "Layer 07: 100%|██████████| 1050/1050 [00:03<00:00, 316.22it/s]\n"
     ]
    },
    {
     "name": "stdout",
     "output_type": "stream",
     "text": [
      "Created results/by_layer_20250911_112921/by_layer/layer_07/V4_alpha_p4_V4.npz with 1050 questions\n"
     ]
    },
    {
     "name": "stderr",
     "output_type": "stream",
     "text": [
      "Layer 08: 100%|██████████| 1050/1050 [00:02<00:00, 501.61it/s]\n"
     ]
    },
    {
     "name": "stdout",
     "output_type": "stream",
     "text": [
      "Created results/by_layer_20250911_112921/by_layer/layer_08/V4_alpha_p4_V4.npz with 1050 questions\n"
     ]
    },
    {
     "name": "stderr",
     "output_type": "stream",
     "text": [
      "Layer 09: 100%|██████████| 1050/1050 [00:01<00:00, 596.10it/s]\n"
     ]
    },
    {
     "name": "stdout",
     "output_type": "stream",
     "text": [
      "Created results/by_layer_20250911_112921/by_layer/layer_09/V4_alpha_p4_V4.npz with 1050 questions\n"
     ]
    },
    {
     "name": "stderr",
     "output_type": "stream",
     "text": [
      "Layer 10: 100%|██████████| 1050/1050 [00:01<00:00, 593.15it/s]\n"
     ]
    },
    {
     "name": "stdout",
     "output_type": "stream",
     "text": [
      "Created results/by_layer_20250911_112921/by_layer/layer_10/V4_alpha_p4_V4.npz with 1050 questions\n"
     ]
    },
    {
     "name": "stderr",
     "output_type": "stream",
     "text": [
      "Layer 11: 100%|██████████| 1050/1050 [00:01<00:00, 586.41it/s]\n"
     ]
    },
    {
     "name": "stdout",
     "output_type": "stream",
     "text": [
      "Created results/by_layer_20250911_112921/by_layer/layer_11/V4_alpha_p4_V4.npz with 1050 questions\n"
     ]
    },
    {
     "name": "stderr",
     "output_type": "stream",
     "text": [
      "Layer 12: 100%|██████████| 1050/1050 [00:01<00:00, 670.97it/s]\n"
     ]
    },
    {
     "name": "stdout",
     "output_type": "stream",
     "text": [
      "Created results/by_layer_20250911_112921/by_layer/layer_12/V4_alpha_p4_V4.npz with 1050 questions\n"
     ]
    },
    {
     "name": "stderr",
     "output_type": "stream",
     "text": [
      "Layer 13: 100%|██████████| 1050/1050 [00:01<00:00, 603.08it/s]\n"
     ]
    },
    {
     "name": "stdout",
     "output_type": "stream",
     "text": [
      "Created results/by_layer_20250911_112921/by_layer/layer_13/V4_alpha_p4_V4.npz with 1050 questions\n"
     ]
    },
    {
     "name": "stderr",
     "output_type": "stream",
     "text": [
      "Layer 14: 100%|██████████| 1050/1050 [00:01<00:00, 607.65it/s]\n"
     ]
    },
    {
     "name": "stdout",
     "output_type": "stream",
     "text": [
      "Created results/by_layer_20250911_112921/by_layer/layer_14/V4_alpha_p4_V4.npz with 1050 questions\n"
     ]
    },
    {
     "name": "stderr",
     "output_type": "stream",
     "text": [
      "Layer 15: 100%|██████████| 1050/1050 [00:01<00:00, 621.83it/s]\n"
     ]
    },
    {
     "name": "stdout",
     "output_type": "stream",
     "text": [
      "Created results/by_layer_20250911_112921/by_layer/layer_15/V4_alpha_p4_V4.npz with 1050 questions\n"
     ]
    },
    {
     "name": "stderr",
     "output_type": "stream",
     "text": [
      "Layer 16: 100%|██████████| 1050/1050 [00:02<00:00, 383.19it/s]\n"
     ]
    },
    {
     "name": "stdout",
     "output_type": "stream",
     "text": [
      "Created results/by_layer_20250911_112921/by_layer/layer_16/V4_alpha_p4_V4.npz with 1050 questions\n"
     ]
    },
    {
     "name": "stderr",
     "output_type": "stream",
     "text": [
      "Layer 17: 100%|██████████| 1050/1050 [00:01<00:00, 589.34it/s]\n"
     ]
    },
    {
     "name": "stdout",
     "output_type": "stream",
     "text": [
      "Created results/by_layer_20250911_112921/by_layer/layer_17/V4_alpha_p4_V4.npz with 1050 questions\n"
     ]
    },
    {
     "name": "stderr",
     "output_type": "stream",
     "text": [
      "Layer 18: 100%|██████████| 1050/1050 [00:01<00:00, 599.56it/s]\n"
     ]
    },
    {
     "name": "stdout",
     "output_type": "stream",
     "text": [
      "Created results/by_layer_20250911_112921/by_layer/layer_18/V4_alpha_p4_V4.npz with 1050 questions\n"
     ]
    },
    {
     "name": "stderr",
     "output_type": "stream",
     "text": [
      "Layer 19: 100%|██████████| 1050/1050 [00:01<00:00, 615.00it/s]\n"
     ]
    },
    {
     "name": "stdout",
     "output_type": "stream",
     "text": [
      "Created results/by_layer_20250911_112921/by_layer/layer_19/V4_alpha_p4_V4.npz with 1050 questions\n"
     ]
    },
    {
     "name": "stderr",
     "output_type": "stream",
     "text": [
      "Layer 20: 100%|██████████| 1050/1050 [00:01<00:00, 543.62it/s]\n"
     ]
    },
    {
     "name": "stdout",
     "output_type": "stream",
     "text": [
      "Created results/by_layer_20250911_112921/by_layer/layer_20/V4_alpha_p4_V4.npz with 1050 questions\n"
     ]
    },
    {
     "name": "stderr",
     "output_type": "stream",
     "text": [
      "Layer 21: 100%|██████████| 1050/1050 [00:01<00:00, 565.26it/s]\n"
     ]
    },
    {
     "name": "stdout",
     "output_type": "stream",
     "text": [
      "Created results/by_layer_20250911_112921/by_layer/layer_21/V4_alpha_p4_V4.npz with 1050 questions\n"
     ]
    },
    {
     "name": "stderr",
     "output_type": "stream",
     "text": [
      "Layer 22: 100%|██████████| 1050/1050 [00:01<00:00, 597.38it/s]\n"
     ]
    },
    {
     "name": "stdout",
     "output_type": "stream",
     "text": [
      "Created results/by_layer_20250911_112921/by_layer/layer_22/V4_alpha_p4_V4.npz with 1050 questions\n"
     ]
    },
    {
     "name": "stderr",
     "output_type": "stream",
     "text": [
      "Layer 23: 100%|██████████| 1050/1050 [00:01<00:00, 609.76it/s]\n"
     ]
    },
    {
     "name": "stdout",
     "output_type": "stream",
     "text": [
      "Created results/by_layer_20250911_112921/by_layer/layer_23/V4_alpha_p4_V4.npz with 1050 questions\n"
     ]
    },
    {
     "name": "stderr",
     "output_type": "stream",
     "text": [
      "Layer 24: 100%|██████████| 1050/1050 [00:02<00:00, 518.17it/s]\n"
     ]
    },
    {
     "name": "stdout",
     "output_type": "stream",
     "text": [
      "Created results/by_layer_20250911_112921/by_layer/layer_24/V4_alpha_p4_V4.npz with 1050 questions\n"
     ]
    },
    {
     "name": "stderr",
     "output_type": "stream",
     "text": [
      "Layer 25: 100%|██████████| 1050/1050 [00:01<00:00, 555.43it/s]\n"
     ]
    },
    {
     "name": "stdout",
     "output_type": "stream",
     "text": [
      "Created results/by_layer_20250911_112921/by_layer/layer_25/V4_alpha_p4_V4.npz with 1050 questions\n"
     ]
    },
    {
     "name": "stderr",
     "output_type": "stream",
     "text": [
      "Layer 26: 100%|██████████| 1050/1050 [00:02<00:00, 498.38it/s]\n"
     ]
    },
    {
     "name": "stdout",
     "output_type": "stream",
     "text": [
      "Created results/by_layer_20250911_112921/by_layer/layer_26/V4_alpha_p4_V4.npz with 1050 questions\n"
     ]
    },
    {
     "name": "stderr",
     "output_type": "stream",
     "text": [
      "Layer 27: 100%|██████████| 1050/1050 [00:01<00:00, 561.88it/s]\n"
     ]
    },
    {
     "name": "stdout",
     "output_type": "stream",
     "text": [
      "Created results/by_layer_20250911_112921/by_layer/layer_27/V4_alpha_p4_V4.npz with 1050 questions\n"
     ]
    },
    {
     "name": "stderr",
     "output_type": "stream",
     "text": [
      "Layer 28: 100%|██████████| 1050/1050 [00:01<00:00, 642.49it/s]\n"
     ]
    },
    {
     "name": "stdout",
     "output_type": "stream",
     "text": [
      "Created results/by_layer_20250911_112921/by_layer/layer_28/V4_alpha_p4_V4.npz with 1050 questions\n"
     ]
    },
    {
     "name": "stderr",
     "output_type": "stream",
     "text": [
      "Layer 29: 100%|██████████| 1050/1050 [00:01<00:00, 603.97it/s]\n"
     ]
    },
    {
     "name": "stdout",
     "output_type": "stream",
     "text": [
      "Created results/by_layer_20250911_112921/by_layer/layer_29/V4_alpha_p4_V4.npz with 1050 questions\n"
     ]
    },
    {
     "name": "stderr",
     "output_type": "stream",
     "text": [
      "Layer 30: 100%|██████████| 1050/1050 [00:01<00:00, 590.02it/s]\n"
     ]
    },
    {
     "name": "stdout",
     "output_type": "stream",
     "text": [
      "Created results/by_layer_20250911_112921/by_layer/layer_30/V4_alpha_p4_V4.npz with 1050 questions\n"
     ]
    },
    {
     "name": "stderr",
     "output_type": "stream",
     "text": [
      "Layer 31: 100%|██████████| 1050/1050 [00:01<00:00, 639.05it/s]\n"
     ]
    },
    {
     "name": "stdout",
     "output_type": "stream",
     "text": [
      "Created results/by_layer_20250911_112921/by_layer/layer_31/V4_alpha_p4_V4.npz with 1050 questions\n"
     ]
    },
    {
     "name": "stderr",
     "output_type": "stream",
     "text": [
      "Layer 32: 100%|██████████| 1050/1050 [00:01<00:00, 591.62it/s]\n"
     ]
    },
    {
     "name": "stdout",
     "output_type": "stream",
     "text": [
      "Created results/by_layer_20250911_112921/by_layer/layer_32/V4_alpha_p4_V4.npz with 1050 questions\n"
     ]
    },
    {
     "name": "stderr",
     "output_type": "stream",
     "text": [
      "Layer 33: 100%|██████████| 1050/1050 [00:01<00:00, 542.36it/s]\n"
     ]
    },
    {
     "name": "stdout",
     "output_type": "stream",
     "text": [
      "Created results/by_layer_20250911_112921/by_layer/layer_33/V4_alpha_p4_V4.npz with 1050 questions\n"
     ]
    },
    {
     "name": "stderr",
     "output_type": "stream",
     "text": [
      "Layer 34: 100%|██████████| 1050/1050 [00:01<00:00, 587.82it/s]\n"
     ]
    },
    {
     "name": "stdout",
     "output_type": "stream",
     "text": [
      "Created results/by_layer_20250911_112921/by_layer/layer_34/V4_alpha_p4_V4.npz with 1050 questions\n",
      "\n",
      "Reorganization completed in 10266.15 seconds\n",
      "End time: 2025-09-11 14:20:27\n",
      "Processed: 60/60 experiments\n",
      "Errors: 0/60 experiments\n",
      "\n",
      "Verifying reorganized data...\n",
      "Found 35 layer directories\n",
      "\n",
      "Verifying layer_00:\n",
      "  Found 60 experiment files\n",
      "  Checking V0_num_p2_V0.npz:\n",
      "    Keys: ['question_ids', 'vectors']\n",
      "    Number of questions: 1050\n",
      "    Vector shape: (1050, 2560)\n",
      "    Metadata: experiment_id=V0_num_p2, form=V0, layer=0\n",
      "  Checking V5_alpha_p2_V5.npz:\n",
      "    Keys: ['question_ids', 'vectors']\n",
      "    Number of questions: 1050\n",
      "    Vector shape: (1050, 2560)\n",
      "    Metadata: experiment_id=V5_alpha_p2, form=V5, layer=0\n",
      "  Checking V1_num_p4_V1.npz:\n",
      "    Keys: ['question_ids', 'vectors']\n",
      "    Number of questions: 1050\n",
      "    Vector shape: (1050, 2560)\n",
      "    Metadata: experiment_id=V1_num_p4, form=V1, layer=0\n",
      "  Total size of NPZ files: 4.70 MB\n",
      "\n",
      "Verifying layer_01:\n",
      "  Found 60 experiment files\n",
      "  Checking V0_num_p2_V0.npz:\n",
      "    Keys: ['question_ids', 'vectors']\n",
      "    Number of questions: 1050\n",
      "    Vector shape: (1050, 2560)\n",
      "    Metadata: experiment_id=V0_num_p2, form=V0, layer=1\n",
      "  Checking V5_alpha_p2_V5.npz:\n",
      "    Keys: ['question_ids', 'vectors']\n",
      "    Number of questions: 1050\n",
      "    Vector shape: (1050, 2560)\n",
      "    Metadata: experiment_id=V5_alpha_p2, form=V5, layer=1\n",
      "  Checking V1_num_p4_V1.npz:\n",
      "    Keys: ['question_ids', 'vectors']\n",
      "    Number of questions: 1050\n",
      "    Vector shape: (1050, 2560)\n",
      "    Metadata: experiment_id=V1_num_p4, form=V1, layer=1\n",
      "  Total size of NPZ files: 280.08 MB\n",
      "\n",
      "Verifying layer_02:\n",
      "  Found 60 experiment files\n",
      "  Checking V0_num_p2_V0.npz:\n",
      "    Keys: ['question_ids', 'vectors']\n",
      "    Number of questions: 1050\n",
      "    Vector shape: (1050, 2560)\n",
      "    Metadata: experiment_id=V0_num_p2, form=V0, layer=2\n",
      "  Checking V5_alpha_p2_V5.npz:\n",
      "    Keys: ['question_ids', 'vectors']\n",
      "    Number of questions: 1050\n",
      "    Vector shape: (1050, 2560)\n",
      "    Metadata: experiment_id=V5_alpha_p2, form=V5, layer=2\n",
      "  Checking V1_num_p4_V1.npz:\n",
      "    Keys: ['question_ids', 'vectors']\n",
      "    Number of questions: 1050\n",
      "    Vector shape: (1050, 2560)\n",
      "    Metadata: experiment_id=V1_num_p4, form=V1, layer=2\n",
      "  Total size of NPZ files: 294.16 MB\n",
      "\n",
      "Verifying layer_03:\n",
      "  Found 60 experiment files\n",
      "  Checking V0_num_p2_V0.npz:\n",
      "    Keys: ['question_ids', 'vectors']\n",
      "    Number of questions: 1050\n",
      "    Vector shape: (1050, 2560)\n",
      "    Metadata: experiment_id=V0_num_p2, form=V0, layer=3\n",
      "  Checking V5_alpha_p2_V5.npz:\n",
      "    Keys: ['question_ids', 'vectors']\n",
      "    Number of questions: 1050\n",
      "    Vector shape: (1050, 2560)\n",
      "    Metadata: experiment_id=V5_alpha_p2, form=V5, layer=3\n",
      "  Checking V1_num_p4_V1.npz:\n",
      "    Keys: ['question_ids', 'vectors']\n",
      "    Number of questions: 1050\n",
      "    Vector shape: (1050, 2560)\n",
      "    Metadata: experiment_id=V1_num_p4, form=V1, layer=3\n",
      "  Total size of NPZ files: 293.29 MB\n",
      "\n",
      "Verifying layer_04:\n",
      "  Found 60 experiment files\n",
      "  Checking V0_num_p2_V0.npz:\n",
      "    Keys: ['question_ids', 'vectors']\n",
      "    Number of questions: 1050\n",
      "    Vector shape: (1050, 2560)\n",
      "    Metadata: experiment_id=V0_num_p2, form=V0, layer=4\n",
      "  Checking V5_alpha_p2_V5.npz:\n",
      "    Keys: ['question_ids', 'vectors']\n",
      "    Number of questions: 1050\n",
      "    Vector shape: (1050, 2560)\n",
      "    Metadata: experiment_id=V5_alpha_p2, form=V5, layer=4\n",
      "  Checking V1_num_p4_V1.npz:\n",
      "    Keys: ['question_ids', 'vectors']\n",
      "    Number of questions: 1050\n",
      "    Vector shape: (1050, 2560)\n",
      "    Metadata: experiment_id=V1_num_p4, form=V1, layer=4\n",
      "  Total size of NPZ files: 292.61 MB\n",
      "\n",
      "Verifying layer_05:\n",
      "  Found 60 experiment files\n",
      "  Checking V0_num_p2_V0.npz:\n",
      "    Keys: ['question_ids', 'vectors']\n",
      "    Number of questions: 1050\n",
      "    Vector shape: (1050, 2560)\n",
      "    Metadata: experiment_id=V0_num_p2, form=V0, layer=5\n",
      "  Checking V5_alpha_p2_V5.npz:\n",
      "    Keys: ['question_ids', 'vectors']\n",
      "    Number of questions: 1050\n",
      "    Vector shape: (1050, 2560)\n",
      "    Metadata: experiment_id=V5_alpha_p2, form=V5, layer=5\n",
      "  Checking V1_num_p4_V1.npz:\n",
      "    Keys: ['question_ids', 'vectors']\n",
      "    Number of questions: 1050\n",
      "    Vector shape: (1050, 2560)\n",
      "    Metadata: experiment_id=V1_num_p4, form=V1, layer=5\n",
      "  Total size of NPZ files: 293.69 MB\n",
      "\n",
      "Verifying layer_06:\n",
      "  Found 60 experiment files\n",
      "  Checking V0_num_p2_V0.npz:\n",
      "    Keys: ['question_ids', 'vectors']\n",
      "    Number of questions: 1050\n",
      "    Vector shape: (1050, 2560)\n",
      "    Metadata: experiment_id=V0_num_p2, form=V0, layer=6\n",
      "  Checking V5_alpha_p2_V5.npz:\n",
      "    Keys: ['question_ids', 'vectors']\n",
      "    Number of questions: 1050\n",
      "    Vector shape: (1050, 2560)\n",
      "    Metadata: experiment_id=V5_alpha_p2, form=V5, layer=6\n",
      "  Checking V1_num_p4_V1.npz:\n",
      "    Keys: ['question_ids', 'vectors']\n",
      "    Number of questions: 1050\n",
      "    Vector shape: (1050, 2560)\n",
      "    Metadata: experiment_id=V1_num_p4, form=V1, layer=6\n",
      "  Total size of NPZ files: 293.81 MB\n",
      "\n",
      "Verifying layer_07:\n",
      "  Found 60 experiment files\n",
      "  Checking V0_num_p2_V0.npz:\n",
      "    Keys: ['question_ids', 'vectors']\n",
      "    Number of questions: 1050\n",
      "    Vector shape: (1050, 2560)\n",
      "    Metadata: experiment_id=V0_num_p2, form=V0, layer=7\n",
      "  Checking V5_alpha_p2_V5.npz:\n",
      "    Keys: ['question_ids', 'vectors']\n",
      "    Number of questions: 1050\n",
      "    Vector shape: (1050, 2560)\n",
      "    Metadata: experiment_id=V5_alpha_p2, form=V5, layer=7\n",
      "  Checking V1_num_p4_V1.npz:\n",
      "    Keys: ['question_ids', 'vectors']\n",
      "    Number of questions: 1050\n",
      "    Vector shape: (1050, 2560)\n",
      "    Metadata: experiment_id=V1_num_p4, form=V1, layer=7\n",
      "  Total size of NPZ files: 293.80 MB\n",
      "\n",
      "Verifying layer_08:\n",
      "  Found 60 experiment files\n",
      "  Checking V0_num_p2_V0.npz:\n",
      "    Keys: ['question_ids', 'vectors']\n",
      "    Number of questions: 1050\n",
      "    Vector shape: (1050, 2560)\n",
      "    Metadata: experiment_id=V0_num_p2, form=V0, layer=8\n",
      "  Checking V5_alpha_p2_V5.npz:\n",
      "    Keys: ['question_ids', 'vectors']\n",
      "    Number of questions: 1050\n",
      "    Vector shape: (1050, 2560)\n",
      "    Metadata: experiment_id=V5_alpha_p2, form=V5, layer=8\n",
      "  Checking V1_num_p4_V1.npz:\n",
      "    Keys: ['question_ids', 'vectors']\n",
      "    Number of questions: 1050\n",
      "    Vector shape: (1050, 2560)\n",
      "    Metadata: experiment_id=V1_num_p4, form=V1, layer=8\n",
      "  Total size of NPZ files: 293.16 MB\n",
      "\n",
      "Verifying layer_09:\n",
      "  Found 60 experiment files\n",
      "  Checking V0_num_p2_V0.npz:\n",
      "    Keys: ['question_ids', 'vectors']\n",
      "    Number of questions: 1050\n",
      "    Vector shape: (1050, 2560)\n",
      "    Metadata: experiment_id=V0_num_p2, form=V0, layer=9\n",
      "  Checking V5_alpha_p2_V5.npz:\n",
      "    Keys: ['question_ids', 'vectors']\n",
      "    Number of questions: 1050\n",
      "    Vector shape: (1050, 2560)\n",
      "    Metadata: experiment_id=V5_alpha_p2, form=V5, layer=9\n",
      "  Checking V1_num_p4_V1.npz:\n",
      "    Keys: ['question_ids', 'vectors']\n",
      "    Number of questions: 1050\n",
      "    Vector shape: (1050, 2560)\n",
      "    Metadata: experiment_id=V1_num_p4, form=V1, layer=9\n",
      "  Total size of NPZ files: 291.82 MB\n",
      "\n",
      "Verifying layer_10:\n",
      "  Found 60 experiment files\n",
      "  Checking V0_num_p2_V0.npz:\n",
      "    Keys: ['question_ids', 'vectors']\n",
      "    Number of questions: 1050\n",
      "    Vector shape: (1050, 2560)\n",
      "    Metadata: experiment_id=V0_num_p2, form=V0, layer=10\n",
      "  Checking V5_alpha_p2_V5.npz:\n",
      "    Keys: ['question_ids', 'vectors']\n",
      "    Number of questions: 1050\n",
      "    Vector shape: (1050, 2560)\n",
      "    Metadata: experiment_id=V5_alpha_p2, form=V5, layer=10\n",
      "  Checking V1_num_p4_V1.npz:\n",
      "    Keys: ['question_ids', 'vectors']\n",
      "    Number of questions: 1050\n",
      "    Vector shape: (1050, 2560)\n",
      "    Metadata: experiment_id=V1_num_p4, form=V1, layer=10\n",
      "  Total size of NPZ files: 291.26 MB\n",
      "\n",
      "Verifying layer_11:\n",
      "  Found 60 experiment files\n",
      "  Checking V0_num_p2_V0.npz:\n",
      "    Keys: ['question_ids', 'vectors']\n",
      "    Number of questions: 1050\n",
      "    Vector shape: (1050, 2560)\n",
      "    Metadata: experiment_id=V0_num_p2, form=V0, layer=11\n",
      "  Checking V5_alpha_p2_V5.npz:\n",
      "    Keys: ['question_ids', 'vectors']\n",
      "    Number of questions: 1050\n",
      "    Vector shape: (1050, 2560)\n",
      "    Metadata: experiment_id=V5_alpha_p2, form=V5, layer=11\n",
      "  Checking V1_num_p4_V1.npz:\n",
      "    Keys: ['question_ids', 'vectors']\n",
      "    Number of questions: 1050\n",
      "    Vector shape: (1050, 2560)\n",
      "    Metadata: experiment_id=V1_num_p4, form=V1, layer=11\n",
      "  Total size of NPZ files: 290.15 MB\n",
      "\n",
      "Verifying layer_12:\n",
      "  Found 60 experiment files\n",
      "  Checking V0_num_p2_V0.npz:\n",
      "    Keys: ['question_ids', 'vectors']\n",
      "    Number of questions: 1050\n",
      "    Vector shape: (1050, 2560)\n",
      "    Metadata: experiment_id=V0_num_p2, form=V0, layer=12\n",
      "  Checking V5_alpha_p2_V5.npz:\n",
      "    Keys: ['question_ids', 'vectors']\n",
      "    Number of questions: 1050\n",
      "    Vector shape: (1050, 2560)\n",
      "    Metadata: experiment_id=V5_alpha_p2, form=V5, layer=12\n",
      "  Checking V1_num_p4_V1.npz:\n",
      "    Keys: ['question_ids', 'vectors']\n",
      "    Number of questions: 1050\n",
      "    Vector shape: (1050, 2560)\n",
      "    Metadata: experiment_id=V1_num_p4, form=V1, layer=12\n",
      "  Total size of NPZ files: 289.23 MB\n",
      "\n",
      "Verifying layer_13:\n",
      "  Found 60 experiment files\n",
      "  Checking V0_num_p2_V0.npz:\n",
      "    Keys: ['question_ids', 'vectors']\n",
      "    Number of questions: 1050\n",
      "    Vector shape: (1050, 2560)\n",
      "    Metadata: experiment_id=V0_num_p2, form=V0, layer=13\n",
      "  Checking V5_alpha_p2_V5.npz:\n",
      "    Keys: ['question_ids', 'vectors']\n",
      "    Number of questions: 1050\n",
      "    Vector shape: (1050, 2560)\n",
      "    Metadata: experiment_id=V5_alpha_p2, form=V5, layer=13\n",
      "  Checking V1_num_p4_V1.npz:\n",
      "    Keys: ['question_ids', 'vectors']\n",
      "    Number of questions: 1050\n",
      "    Vector shape: (1050, 2560)\n",
      "    Metadata: experiment_id=V1_num_p4, form=V1, layer=13\n",
      "  Total size of NPZ files: 288.59 MB\n",
      "\n",
      "Verifying layer_14:\n",
      "  Found 60 experiment files\n",
      "  Checking V0_num_p2_V0.npz:\n",
      "    Keys: ['question_ids', 'vectors']\n",
      "    Number of questions: 1050\n",
      "    Vector shape: (1050, 2560)\n",
      "    Metadata: experiment_id=V0_num_p2, form=V0, layer=14\n",
      "  Checking V5_alpha_p2_V5.npz:\n",
      "    Keys: ['question_ids', 'vectors']\n",
      "    Number of questions: 1050\n",
      "    Vector shape: (1050, 2560)\n",
      "    Metadata: experiment_id=V5_alpha_p2, form=V5, layer=14\n",
      "  Checking V1_num_p4_V1.npz:\n",
      "    Keys: ['question_ids', 'vectors']\n",
      "    Number of questions: 1050\n",
      "    Vector shape: (1050, 2560)\n",
      "    Metadata: experiment_id=V1_num_p4, form=V1, layer=14\n",
      "  Total size of NPZ files: 288.09 MB\n",
      "\n",
      "Verifying layer_15:\n",
      "  Found 60 experiment files\n",
      "  Checking V0_num_p2_V0.npz:\n",
      "    Keys: ['question_ids', 'vectors']\n",
      "    Number of questions: 1050\n",
      "    Vector shape: (1050, 2560)\n",
      "    Metadata: experiment_id=V0_num_p2, form=V0, layer=15\n",
      "  Checking V5_alpha_p2_V5.npz:\n",
      "    Keys: ['question_ids', 'vectors']\n",
      "    Number of questions: 1050\n",
      "    Vector shape: (1050, 2560)\n",
      "    Metadata: experiment_id=V5_alpha_p2, form=V5, layer=15\n",
      "  Checking V1_num_p4_V1.npz:\n",
      "    Keys: ['question_ids', 'vectors']\n",
      "    Number of questions: 1050\n",
      "    Vector shape: (1050, 2560)\n",
      "    Metadata: experiment_id=V1_num_p4, form=V1, layer=15\n",
      "  Total size of NPZ files: 287.96 MB\n",
      "\n",
      "Verifying layer_16:\n",
      "  Found 60 experiment files\n",
      "  Checking V0_num_p2_V0.npz:\n",
      "    Keys: ['question_ids', 'vectors']\n",
      "    Number of questions: 1050\n",
      "    Vector shape: (1050, 2560)\n",
      "    Metadata: experiment_id=V0_num_p2, form=V0, layer=16\n",
      "  Checking V5_alpha_p2_V5.npz:\n",
      "    Keys: ['question_ids', 'vectors']\n",
      "    Number of questions: 1050\n",
      "    Vector shape: (1050, 2560)\n",
      "    Metadata: experiment_id=V5_alpha_p2, form=V5, layer=16\n",
      "  Checking V1_num_p4_V1.npz:\n",
      "    Keys: ['question_ids', 'vectors']\n",
      "    Number of questions: 1050\n",
      "    Vector shape: (1050, 2560)\n",
      "    Metadata: experiment_id=V1_num_p4, form=V1, layer=16\n",
      "  Total size of NPZ files: 287.42 MB\n",
      "\n",
      "Verifying layer_17:\n",
      "  Found 60 experiment files\n",
      "  Checking V0_num_p2_V0.npz:\n",
      "    Keys: ['question_ids', 'vectors']\n",
      "    Number of questions: 1050\n",
      "    Vector shape: (1050, 2560)\n",
      "    Metadata: experiment_id=V0_num_p2, form=V0, layer=17\n",
      "  Checking V5_alpha_p2_V5.npz:\n",
      "    Keys: ['question_ids', 'vectors']\n",
      "    Number of questions: 1050\n",
      "    Vector shape: (1050, 2560)\n",
      "    Metadata: experiment_id=V5_alpha_p2, form=V5, layer=17\n",
      "  Checking V1_num_p4_V1.npz:\n",
      "    Keys: ['question_ids', 'vectors']\n",
      "    Number of questions: 1050\n",
      "    Vector shape: (1050, 2560)\n",
      "    Metadata: experiment_id=V1_num_p4, form=V1, layer=17\n",
      "  Total size of NPZ files: 287.78 MB\n",
      "\n",
      "Verifying layer_18:\n",
      "  Found 60 experiment files\n",
      "  Checking V0_num_p2_V0.npz:\n",
      "    Keys: ['question_ids', 'vectors']\n",
      "    Number of questions: 1050\n",
      "    Vector shape: (1050, 2560)\n",
      "    Metadata: experiment_id=V0_num_p2, form=V0, layer=18\n",
      "  Checking V5_alpha_p2_V5.npz:\n",
      "    Keys: ['question_ids', 'vectors']\n",
      "    Number of questions: 1050\n",
      "    Vector shape: (1050, 2560)\n",
      "    Metadata: experiment_id=V5_alpha_p2, form=V5, layer=18\n",
      "  Checking V1_num_p4_V1.npz:\n",
      "    Keys: ['question_ids', 'vectors']\n",
      "    Number of questions: 1050\n",
      "    Vector shape: (1050, 2560)\n",
      "    Metadata: experiment_id=V1_num_p4, form=V1, layer=18\n",
      "  Total size of NPZ files: 288.16 MB\n",
      "\n",
      "Verifying layer_19:\n",
      "  Found 60 experiment files\n",
      "  Checking V0_num_p2_V0.npz:\n",
      "    Keys: ['question_ids', 'vectors']\n",
      "    Number of questions: 1050\n",
      "    Vector shape: (1050, 2560)\n",
      "    Metadata: experiment_id=V0_num_p2, form=V0, layer=19\n",
      "  Checking V5_alpha_p2_V5.npz:\n",
      "    Keys: ['question_ids', 'vectors']\n",
      "    Number of questions: 1050\n",
      "    Vector shape: (1050, 2560)\n",
      "    Metadata: experiment_id=V5_alpha_p2, form=V5, layer=19\n",
      "  Checking V1_num_p4_V1.npz:\n",
      "    Keys: ['question_ids', 'vectors']\n",
      "    Number of questions: 1050\n",
      "    Vector shape: (1050, 2560)\n",
      "    Metadata: experiment_id=V1_num_p4, form=V1, layer=19\n",
      "  Total size of NPZ files: 287.82 MB\n",
      "\n",
      "Verifying layer_20:\n",
      "  Found 60 experiment files\n",
      "  Checking V0_num_p2_V0.npz:\n",
      "    Keys: ['question_ids', 'vectors']\n",
      "    Number of questions: 1050\n",
      "    Vector shape: (1050, 2560)\n",
      "    Metadata: experiment_id=V0_num_p2, form=V0, layer=20\n",
      "  Checking V5_alpha_p2_V5.npz:\n",
      "    Keys: ['question_ids', 'vectors']\n",
      "    Number of questions: 1050\n",
      "    Vector shape: (1050, 2560)\n",
      "    Metadata: experiment_id=V5_alpha_p2, form=V5, layer=20\n",
      "  Checking V1_num_p4_V1.npz:\n",
      "    Keys: ['question_ids', 'vectors']\n",
      "    Number of questions: 1050\n",
      "    Vector shape: (1050, 2560)\n",
      "    Metadata: experiment_id=V1_num_p4, form=V1, layer=20\n",
      "  Total size of NPZ files: 287.60 MB\n",
      "\n",
      "Verifying layer_21:\n",
      "  Found 60 experiment files\n",
      "  Checking V0_num_p2_V0.npz:\n",
      "    Keys: ['question_ids', 'vectors']\n",
      "    Number of questions: 1050\n",
      "    Vector shape: (1050, 2560)\n",
      "    Metadata: experiment_id=V0_num_p2, form=V0, layer=21\n",
      "  Checking V5_alpha_p2_V5.npz:\n",
      "    Keys: ['question_ids', 'vectors']\n",
      "    Number of questions: 1050\n",
      "    Vector shape: (1050, 2560)\n",
      "    Metadata: experiment_id=V5_alpha_p2, form=V5, layer=21\n",
      "  Checking V1_num_p4_V1.npz:\n",
      "    Keys: ['question_ids', 'vectors']\n",
      "    Number of questions: 1050\n",
      "    Vector shape: (1050, 2560)\n",
      "    Metadata: experiment_id=V1_num_p4, form=V1, layer=21\n",
      "  Total size of NPZ files: 287.55 MB\n",
      "\n",
      "Verifying layer_22:\n",
      "  Found 60 experiment files\n",
      "  Checking V0_num_p2_V0.npz:\n",
      "    Keys: ['question_ids', 'vectors']\n",
      "    Number of questions: 1050\n",
      "    Vector shape: (1050, 2560)\n",
      "    Metadata: experiment_id=V0_num_p2, form=V0, layer=22\n",
      "  Checking V5_alpha_p2_V5.npz:\n",
      "    Keys: ['question_ids', 'vectors']\n",
      "    Number of questions: 1050\n",
      "    Vector shape: (1050, 2560)\n",
      "    Metadata: experiment_id=V5_alpha_p2, form=V5, layer=22\n",
      "  Checking V1_num_p4_V1.npz:\n",
      "    Keys: ['question_ids', 'vectors']\n",
      "    Number of questions: 1050\n",
      "    Vector shape: (1050, 2560)\n",
      "    Metadata: experiment_id=V1_num_p4, form=V1, layer=22\n",
      "  Total size of NPZ files: 287.79 MB\n",
      "\n",
      "Verifying layer_23:\n",
      "  Found 60 experiment files\n",
      "  Checking V0_num_p2_V0.npz:\n",
      "    Keys: ['question_ids', 'vectors']\n",
      "    Number of questions: 1050\n",
      "    Vector shape: (1050, 2560)\n",
      "    Metadata: experiment_id=V0_num_p2, form=V0, layer=23\n",
      "  Checking V5_alpha_p2_V5.npz:\n",
      "    Keys: ['question_ids', 'vectors']\n",
      "    Number of questions: 1050\n",
      "    Vector shape: (1050, 2560)\n",
      "    Metadata: experiment_id=V5_alpha_p2, form=V5, layer=23\n",
      "  Checking V1_num_p4_V1.npz:\n",
      "    Keys: ['question_ids', 'vectors']\n",
      "    Number of questions: 1050\n",
      "    Vector shape: (1050, 2560)\n",
      "    Metadata: experiment_id=V1_num_p4, form=V1, layer=23\n",
      "  Total size of NPZ files: 287.65 MB\n",
      "\n",
      "Verifying layer_24:\n",
      "  Found 60 experiment files\n",
      "  Checking V0_num_p2_V0.npz:\n",
      "    Keys: ['question_ids', 'vectors']\n",
      "    Number of questions: 1050\n",
      "    Vector shape: (1050, 2560)\n",
      "    Metadata: experiment_id=V0_num_p2, form=V0, layer=24\n",
      "  Checking V5_alpha_p2_V5.npz:\n",
      "    Keys: ['question_ids', 'vectors']\n",
      "    Number of questions: 1050\n",
      "    Vector shape: (1050, 2560)\n",
      "    Metadata: experiment_id=V5_alpha_p2, form=V5, layer=24\n",
      "  Checking V1_num_p4_V1.npz:\n",
      "    Keys: ['question_ids', 'vectors']\n",
      "    Number of questions: 1050\n",
      "    Vector shape: (1050, 2560)\n",
      "    Metadata: experiment_id=V1_num_p4, form=V1, layer=24\n",
      "  Total size of NPZ files: 288.52 MB\n",
      "\n",
      "Verifying layer_25:\n",
      "  Found 60 experiment files\n",
      "  Checking V0_num_p2_V0.npz:\n",
      "    Keys: ['question_ids', 'vectors']\n",
      "    Number of questions: 1050\n",
      "    Vector shape: (1050, 2560)\n",
      "    Metadata: experiment_id=V0_num_p2, form=V0, layer=25\n",
      "  Checking V5_alpha_p2_V5.npz:\n",
      "    Keys: ['question_ids', 'vectors']\n",
      "    Number of questions: 1050\n",
      "    Vector shape: (1050, 2560)\n",
      "    Metadata: experiment_id=V5_alpha_p2, form=V5, layer=25\n",
      "  Checking V1_num_p4_V1.npz:\n",
      "    Keys: ['question_ids', 'vectors']\n",
      "    Number of questions: 1050\n",
      "    Vector shape: (1050, 2560)\n",
      "    Metadata: experiment_id=V1_num_p4, form=V1, layer=25\n",
      "  Total size of NPZ files: 289.15 MB\n",
      "\n",
      "Verifying layer_26:\n",
      "  Found 60 experiment files\n",
      "  Checking V0_num_p2_V0.npz:\n",
      "    Keys: ['question_ids', 'vectors']\n",
      "    Number of questions: 1050\n",
      "    Vector shape: (1050, 2560)\n",
      "    Metadata: experiment_id=V0_num_p2, form=V0, layer=26\n",
      "  Checking V5_alpha_p2_V5.npz:\n",
      "    Keys: ['question_ids', 'vectors']\n",
      "    Number of questions: 1050\n",
      "    Vector shape: (1050, 2560)\n",
      "    Metadata: experiment_id=V5_alpha_p2, form=V5, layer=26\n",
      "  Checking V1_num_p4_V1.npz:\n",
      "    Keys: ['question_ids', 'vectors']\n",
      "    Number of questions: 1050\n",
      "    Vector shape: (1050, 2560)\n",
      "    Metadata: experiment_id=V1_num_p4, form=V1, layer=26\n",
      "  Total size of NPZ files: 289.12 MB\n",
      "\n",
      "Verifying layer_27:\n",
      "  Found 60 experiment files\n",
      "  Checking V0_num_p2_V0.npz:\n",
      "    Keys: ['question_ids', 'vectors']\n",
      "    Number of questions: 1050\n",
      "    Vector shape: (1050, 2560)\n",
      "    Metadata: experiment_id=V0_num_p2, form=V0, layer=27\n",
      "  Checking V5_alpha_p2_V5.npz:\n",
      "    Keys: ['question_ids', 'vectors']\n",
      "    Number of questions: 1050\n",
      "    Vector shape: (1050, 2560)\n",
      "    Metadata: experiment_id=V5_alpha_p2, form=V5, layer=27\n",
      "  Checking V1_num_p4_V1.npz:\n",
      "    Keys: ['question_ids', 'vectors']\n",
      "    Number of questions: 1050\n",
      "    Vector shape: (1050, 2560)\n",
      "    Metadata: experiment_id=V1_num_p4, form=V1, layer=27\n",
      "  Total size of NPZ files: 289.81 MB\n",
      "\n",
      "Verifying layer_28:\n",
      "  Found 60 experiment files\n",
      "  Checking V0_num_p2_V0.npz:\n",
      "    Keys: ['question_ids', 'vectors']\n",
      "    Number of questions: 1050\n",
      "    Vector shape: (1050, 2560)\n",
      "    Metadata: experiment_id=V0_num_p2, form=V0, layer=28\n",
      "  Checking V5_alpha_p2_V5.npz:\n",
      "    Keys: ['question_ids', 'vectors']\n",
      "    Number of questions: 1050\n",
      "    Vector shape: (1050, 2560)\n",
      "    Metadata: experiment_id=V5_alpha_p2, form=V5, layer=28\n",
      "  Checking V1_num_p4_V1.npz:\n",
      "    Keys: ['question_ids', 'vectors']\n",
      "    Number of questions: 1050\n",
      "    Vector shape: (1050, 2560)\n",
      "    Metadata: experiment_id=V1_num_p4, form=V1, layer=28\n",
      "  Total size of NPZ files: 289.89 MB\n",
      "\n",
      "Verifying layer_29:\n",
      "  Found 60 experiment files\n",
      "  Checking V0_num_p2_V0.npz:\n",
      "    Keys: ['question_ids', 'vectors']\n",
      "    Number of questions: 1050\n",
      "    Vector shape: (1050, 2560)\n",
      "    Metadata: experiment_id=V0_num_p2, form=V0, layer=29\n",
      "  Checking V5_alpha_p2_V5.npz:\n",
      "    Keys: ['question_ids', 'vectors']\n",
      "    Number of questions: 1050\n",
      "    Vector shape: (1050, 2560)\n",
      "    Metadata: experiment_id=V5_alpha_p2, form=V5, layer=29\n",
      "  Checking V1_num_p4_V1.npz:\n",
      "    Keys: ['question_ids', 'vectors']\n",
      "    Number of questions: 1050\n",
      "    Vector shape: (1050, 2560)\n",
      "    Metadata: experiment_id=V1_num_p4, form=V1, layer=29\n",
      "  Total size of NPZ files: 290.09 MB\n",
      "\n",
      "Verifying layer_30:\n",
      "  Found 60 experiment files\n",
      "  Checking V0_num_p2_V0.npz:\n",
      "    Keys: ['question_ids', 'vectors']\n",
      "    Number of questions: 1050\n",
      "    Vector shape: (1050, 2560)\n",
      "    Metadata: experiment_id=V0_num_p2, form=V0, layer=30\n",
      "  Checking V5_alpha_p2_V5.npz:\n",
      "    Keys: ['question_ids', 'vectors']\n",
      "    Number of questions: 1050\n",
      "    Vector shape: (1050, 2560)\n",
      "    Metadata: experiment_id=V5_alpha_p2, form=V5, layer=30\n",
      "  Checking V1_num_p4_V1.npz:\n",
      "    Keys: ['question_ids', 'vectors']\n",
      "    Number of questions: 1050\n",
      "    Vector shape: (1050, 2560)\n",
      "    Metadata: experiment_id=V1_num_p4, form=V1, layer=30\n",
      "  Total size of NPZ files: 290.23 MB\n",
      "\n",
      "Verifying layer_31:\n",
      "  Found 60 experiment files\n",
      "  Checking V0_num_p2_V0.npz:\n",
      "    Keys: ['question_ids', 'vectors']\n",
      "    Number of questions: 1050\n",
      "    Vector shape: (1050, 2560)\n",
      "    Metadata: experiment_id=V0_num_p2, form=V0, layer=31\n",
      "  Checking V5_alpha_p2_V5.npz:\n",
      "    Keys: ['question_ids', 'vectors']\n",
      "    Number of questions: 1050\n",
      "    Vector shape: (1050, 2560)\n",
      "    Metadata: experiment_id=V5_alpha_p2, form=V5, layer=31\n",
      "  Checking V1_num_p4_V1.npz:\n",
      "    Keys: ['question_ids', 'vectors']\n",
      "    Number of questions: 1050\n",
      "    Vector shape: (1050, 2560)\n",
      "    Metadata: experiment_id=V1_num_p4, form=V1, layer=31\n",
      "  Total size of NPZ files: 289.90 MB\n",
      "\n",
      "Verifying layer_32:\n",
      "  Found 60 experiment files\n",
      "  Checking V0_num_p2_V0.npz:\n",
      "    Keys: ['question_ids', 'vectors']\n",
      "    Number of questions: 1050\n",
      "    Vector shape: (1050, 2560)\n",
      "    Metadata: experiment_id=V0_num_p2, form=V0, layer=32\n",
      "  Checking V5_alpha_p2_V5.npz:\n",
      "    Keys: ['question_ids', 'vectors']\n",
      "    Number of questions: 1050\n",
      "    Vector shape: (1050, 2560)\n",
      "    Metadata: experiment_id=V5_alpha_p2, form=V5, layer=32\n",
      "  Checking V1_num_p4_V1.npz:\n",
      "    Keys: ['question_ids', 'vectors']\n",
      "    Number of questions: 1050\n",
      "    Vector shape: (1050, 2560)\n",
      "    Metadata: experiment_id=V1_num_p4, form=V1, layer=32\n",
      "  Total size of NPZ files: 289.99 MB\n",
      "\n",
      "Verifying layer_33:\n",
      "  Found 60 experiment files\n",
      "  Checking V0_num_p2_V0.npz:\n",
      "    Keys: ['question_ids', 'vectors']\n",
      "    Number of questions: 1050\n",
      "    Vector shape: (1050, 2560)\n",
      "    Metadata: experiment_id=V0_num_p2, form=V0, layer=33\n",
      "  Checking V5_alpha_p2_V5.npz:\n",
      "    Keys: ['question_ids', 'vectors']\n",
      "    Number of questions: 1050\n",
      "    Vector shape: (1050, 2560)\n",
      "    Metadata: experiment_id=V5_alpha_p2, form=V5, layer=33\n",
      "  Checking V1_num_p4_V1.npz:\n",
      "    Keys: ['question_ids', 'vectors']\n",
      "    Number of questions: 1050\n",
      "    Vector shape: (1050, 2560)\n",
      "    Metadata: experiment_id=V1_num_p4, form=V1, layer=33\n",
      "  Total size of NPZ files: 289.48 MB\n",
      "\n",
      "Verifying layer_34:\n",
      "  Found 60 experiment files\n",
      "  Checking V0_num_p2_V0.npz:\n",
      "    Keys: ['question_ids', 'vectors']\n",
      "    Number of questions: 1050\n",
      "    Vector shape: (1050, 2560)\n",
      "    Metadata: experiment_id=V0_num_p2, form=V0, layer=34\n",
      "  Checking V5_alpha_p2_V5.npz:\n",
      "    Keys: ['question_ids', 'vectors']\n",
      "    Number of questions: 1050\n",
      "    Vector shape: (1050, 2560)\n",
      "    Metadata: experiment_id=V5_alpha_p2, form=V5, layer=34\n",
      "  Checking V1_num_p4_V1.npz:\n",
      "    Keys: ['question_ids', 'vectors']\n",
      "    Number of questions: 1050\n",
      "    Vector shape: (1050, 2560)\n",
      "    Metadata: experiment_id=V1_num_p4, form=V1, layer=34\n",
      "  Total size of NPZ files: 290.77 MB\n",
      "\n",
      "Checking for corrupted files...\n",
      "Scanning 35 layer directories for corrupted files...\n",
      "\n",
      "Scanning layer_00:\n",
      "  Checking 60 files...\n"
     ]
    },
    {
     "name": "stderr",
     "output_type": "stream",
     "text": [
      "  layer_00: 100%|██████████| 60/60 [00:00<00:00, 105.02it/s]\n"
     ]
    },
    {
     "name": "stdout",
     "output_type": "stream",
     "text": [
      "\n",
      "Scanning layer_01:\n",
      "  Checking 60 files...\n"
     ]
    },
    {
     "name": "stderr",
     "output_type": "stream",
     "text": [
      "  layer_01: 100%|██████████| 60/60 [00:02<00:00, 21.09it/s]\n"
     ]
    },
    {
     "name": "stdout",
     "output_type": "stream",
     "text": [
      "\n",
      "Scanning layer_02:\n",
      "  Checking 60 files...\n"
     ]
    },
    {
     "name": "stderr",
     "output_type": "stream",
     "text": [
      "  layer_02: 100%|██████████| 60/60 [00:03<00:00, 18.33it/s]\n"
     ]
    },
    {
     "name": "stdout",
     "output_type": "stream",
     "text": [
      "\n",
      "Scanning layer_03:\n",
      "  Checking 60 files...\n"
     ]
    },
    {
     "name": "stderr",
     "output_type": "stream",
     "text": [
      "  layer_03: 100%|██████████| 60/60 [00:03<00:00, 17.28it/s]\n"
     ]
    },
    {
     "name": "stdout",
     "output_type": "stream",
     "text": [
      "\n",
      "Scanning layer_04:\n",
      "  Checking 60 files...\n"
     ]
    },
    {
     "name": "stderr",
     "output_type": "stream",
     "text": [
      "  layer_04: 100%|██████████| 60/60 [00:03<00:00, 18.58it/s]\n"
     ]
    },
    {
     "name": "stdout",
     "output_type": "stream",
     "text": [
      "\n",
      "Scanning layer_05:\n",
      "  Checking 60 files...\n"
     ]
    },
    {
     "name": "stderr",
     "output_type": "stream",
     "text": [
      "  layer_05: 100%|██████████| 60/60 [00:03<00:00, 18.37it/s]\n"
     ]
    },
    {
     "name": "stdout",
     "output_type": "stream",
     "text": [
      "\n",
      "Scanning layer_06:\n",
      "  Checking 60 files...\n"
     ]
    },
    {
     "name": "stderr",
     "output_type": "stream",
     "text": [
      "  layer_06: 100%|██████████| 60/60 [00:04<00:00, 14.44it/s]\n"
     ]
    },
    {
     "name": "stdout",
     "output_type": "stream",
     "text": [
      "\n",
      "Scanning layer_07:\n",
      "  Checking 60 files...\n"
     ]
    },
    {
     "name": "stderr",
     "output_type": "stream",
     "text": [
      "  layer_07: 100%|██████████| 60/60 [00:04<00:00, 12.34it/s]\n"
     ]
    },
    {
     "name": "stdout",
     "output_type": "stream",
     "text": [
      "\n",
      "Scanning layer_08:\n",
      "  Checking 60 files...\n"
     ]
    },
    {
     "name": "stderr",
     "output_type": "stream",
     "text": [
      "  layer_08: 100%|██████████| 60/60 [00:06<00:00,  9.07it/s]\n"
     ]
    },
    {
     "name": "stdout",
     "output_type": "stream",
     "text": [
      "\n",
      "Scanning layer_09:\n",
      "  Checking 60 files...\n"
     ]
    },
    {
     "name": "stderr",
     "output_type": "stream",
     "text": [
      "  layer_09: 100%|██████████| 60/60 [00:05<00:00, 11.83it/s]\n"
     ]
    },
    {
     "name": "stdout",
     "output_type": "stream",
     "text": [
      "\n",
      "Scanning layer_10:\n",
      "  Checking 60 files...\n"
     ]
    },
    {
     "name": "stderr",
     "output_type": "stream",
     "text": [
      "  layer_10: 100%|██████████| 60/60 [00:02<00:00, 21.80it/s]\n"
     ]
    },
    {
     "name": "stdout",
     "output_type": "stream",
     "text": [
      "\n",
      "Scanning layer_11:\n",
      "  Checking 60 files...\n"
     ]
    },
    {
     "name": "stderr",
     "output_type": "stream",
     "text": [
      "  layer_11: 100%|██████████| 60/60 [00:06<00:00,  9.90it/s]\n"
     ]
    },
    {
     "name": "stdout",
     "output_type": "stream",
     "text": [
      "\n",
      "Scanning layer_12:\n",
      "  Checking 60 files...\n"
     ]
    },
    {
     "name": "stderr",
     "output_type": "stream",
     "text": [
      "  layer_12: 100%|██████████| 60/60 [00:08<00:00,  6.80it/s]\n"
     ]
    },
    {
     "name": "stdout",
     "output_type": "stream",
     "text": [
      "\n",
      "Scanning layer_13:\n",
      "  Checking 60 files...\n"
     ]
    },
    {
     "name": "stderr",
     "output_type": "stream",
     "text": [
      "  layer_13: 100%|██████████| 60/60 [00:08<00:00,  7.30it/s]\n"
     ]
    },
    {
     "name": "stdout",
     "output_type": "stream",
     "text": [
      "\n",
      "Scanning layer_14:\n",
      "  Checking 60 files...\n"
     ]
    },
    {
     "name": "stderr",
     "output_type": "stream",
     "text": [
      "  layer_14: 100%|██████████| 60/60 [00:06<00:00,  8.74it/s]\n"
     ]
    },
    {
     "name": "stdout",
     "output_type": "stream",
     "text": [
      "\n",
      "Scanning layer_15:\n",
      "  Checking 60 files...\n"
     ]
    },
    {
     "name": "stderr",
     "output_type": "stream",
     "text": [
      "  layer_15: 100%|██████████| 60/60 [00:06<00:00,  9.29it/s]\n"
     ]
    },
    {
     "name": "stdout",
     "output_type": "stream",
     "text": [
      "\n",
      "Scanning layer_16:\n",
      "  Checking 60 files...\n"
     ]
    },
    {
     "name": "stderr",
     "output_type": "stream",
     "text": [
      "  layer_16: 100%|██████████| 60/60 [00:06<00:00,  9.00it/s]\n"
     ]
    },
    {
     "name": "stdout",
     "output_type": "stream",
     "text": [
      "\n",
      "Scanning layer_17:\n",
      "  Checking 60 files...\n"
     ]
    },
    {
     "name": "stderr",
     "output_type": "stream",
     "text": [
      "  layer_17: 100%|██████████| 60/60 [00:06<00:00,  8.97it/s]\n"
     ]
    },
    {
     "name": "stdout",
     "output_type": "stream",
     "text": [
      "\n",
      "Scanning layer_18:\n",
      "  Checking 60 files...\n"
     ]
    },
    {
     "name": "stderr",
     "output_type": "stream",
     "text": [
      "  layer_18: 100%|██████████| 60/60 [00:06<00:00,  8.81it/s]\n"
     ]
    },
    {
     "name": "stdout",
     "output_type": "stream",
     "text": [
      "\n",
      "Scanning layer_19:\n",
      "  Checking 60 files...\n"
     ]
    },
    {
     "name": "stderr",
     "output_type": "stream",
     "text": [
      "  layer_19: 100%|██████████| 60/60 [00:04<00:00, 12.53it/s]\n"
     ]
    },
    {
     "name": "stdout",
     "output_type": "stream",
     "text": [
      "\n",
      "Scanning layer_20:\n",
      "  Checking 60 files...\n"
     ]
    },
    {
     "name": "stderr",
     "output_type": "stream",
     "text": [
      "  layer_20: 100%|██████████| 60/60 [00:06<00:00,  8.75it/s]\n"
     ]
    },
    {
     "name": "stdout",
     "output_type": "stream",
     "text": [
      "\n",
      "Scanning layer_21:\n",
      "  Checking 60 files...\n"
     ]
    },
    {
     "name": "stderr",
     "output_type": "stream",
     "text": [
      "  layer_21: 100%|██████████| 60/60 [00:05<00:00, 11.76it/s]\n"
     ]
    },
    {
     "name": "stdout",
     "output_type": "stream",
     "text": [
      "\n",
      "Scanning layer_22:\n",
      "  Checking 60 files...\n"
     ]
    },
    {
     "name": "stderr",
     "output_type": "stream",
     "text": [
      "  layer_22: 100%|██████████| 60/60 [00:05<00:00, 10.90it/s]\n"
     ]
    },
    {
     "name": "stdout",
     "output_type": "stream",
     "text": [
      "\n",
      "Scanning layer_23:\n",
      "  Checking 60 files...\n"
     ]
    },
    {
     "name": "stderr",
     "output_type": "stream",
     "text": [
      "  layer_23: 100%|██████████| 60/60 [00:08<00:00,  7.46it/s]\n"
     ]
    },
    {
     "name": "stdout",
     "output_type": "stream",
     "text": [
      "\n",
      "Scanning layer_24:\n",
      "  Checking 60 files...\n"
     ]
    },
    {
     "name": "stderr",
     "output_type": "stream",
     "text": [
      "  layer_24: 100%|██████████| 60/60 [00:06<00:00,  9.52it/s]\n"
     ]
    },
    {
     "name": "stdout",
     "output_type": "stream",
     "text": [
      "\n",
      "Scanning layer_25:\n",
      "  Checking 60 files...\n"
     ]
    },
    {
     "name": "stderr",
     "output_type": "stream",
     "text": [
      "  layer_25: 100%|██████████| 60/60 [00:06<00:00,  9.91it/s]\n"
     ]
    },
    {
     "name": "stdout",
     "output_type": "stream",
     "text": [
      "\n",
      "Scanning layer_26:\n",
      "  Checking 60 files...\n"
     ]
    },
    {
     "name": "stderr",
     "output_type": "stream",
     "text": [
      "  layer_26: 100%|██████████| 60/60 [00:05<00:00, 11.98it/s]\n"
     ]
    },
    {
     "name": "stdout",
     "output_type": "stream",
     "text": [
      "\n",
      "Scanning layer_27:\n",
      "  Checking 60 files...\n"
     ]
    },
    {
     "name": "stderr",
     "output_type": "stream",
     "text": [
      "  layer_27: 100%|██████████| 60/60 [00:05<00:00, 10.12it/s]\n"
     ]
    },
    {
     "name": "stdout",
     "output_type": "stream",
     "text": [
      "\n",
      "Scanning layer_28:\n",
      "  Checking 60 files...\n"
     ]
    },
    {
     "name": "stderr",
     "output_type": "stream",
     "text": [
      "  layer_28: 100%|██████████| 60/60 [00:05<00:00, 10.52it/s]\n"
     ]
    },
    {
     "name": "stdout",
     "output_type": "stream",
     "text": [
      "\n",
      "Scanning layer_29:\n",
      "  Checking 60 files...\n"
     ]
    },
    {
     "name": "stderr",
     "output_type": "stream",
     "text": [
      "  layer_29: 100%|██████████| 60/60 [00:06<00:00,  8.60it/s]\n"
     ]
    },
    {
     "name": "stdout",
     "output_type": "stream",
     "text": [
      "\n",
      "Scanning layer_30:\n",
      "  Checking 60 files...\n"
     ]
    },
    {
     "name": "stderr",
     "output_type": "stream",
     "text": [
      "  layer_30: 100%|██████████| 60/60 [00:04<00:00, 12.46it/s]\n"
     ]
    },
    {
     "name": "stdout",
     "output_type": "stream",
     "text": [
      "\n",
      "Scanning layer_31:\n",
      "  Checking 60 files...\n"
     ]
    },
    {
     "name": "stderr",
     "output_type": "stream",
     "text": [
      "  layer_31: 100%|██████████| 60/60 [00:05<00:00, 11.55it/s]\n"
     ]
    },
    {
     "name": "stdout",
     "output_type": "stream",
     "text": [
      "\n",
      "Scanning layer_32:\n",
      "  Checking 60 files...\n"
     ]
    },
    {
     "name": "stderr",
     "output_type": "stream",
     "text": [
      "  layer_32: 100%|██████████| 60/60 [00:05<00:00, 10.49it/s]\n"
     ]
    },
    {
     "name": "stdout",
     "output_type": "stream",
     "text": [
      "\n",
      "Scanning layer_33:\n",
      "  Checking 60 files...\n"
     ]
    },
    {
     "name": "stderr",
     "output_type": "stream",
     "text": [
      "  layer_33: 100%|██████████| 60/60 [00:04<00:00, 12.34it/s]\n"
     ]
    },
    {
     "name": "stdout",
     "output_type": "stream",
     "text": [
      "\n",
      "Scanning layer_34:\n",
      "  Checking 60 files...\n"
     ]
    },
    {
     "name": "stderr",
     "output_type": "stream",
     "text": [
      "  layer_34: 100%|██████████| 60/60 [00:07<00:00,  7.90it/s]"
     ]
    },
    {
     "name": "stdout",
     "output_type": "stream",
     "text": [
      "\n",
      "Found 0 corrupted files\n"
     ]
    },
    {
     "name": "stderr",
     "output_type": "stream",
     "text": [
      "\n"
     ]
    }
   ],
   "source": [
    "import time\n",
    "from datetime import datetime\n",
    "\n",
    "# Get all experiment directories\n",
    "all_experiment_dirs = get_experiment_dirs(RESULTS_DIR)\n",
    "total_experiments = len(all_experiment_dirs)\n",
    "\n",
    "print(f\"Starting full reorganization of {total_experiments} experiment directories\")\n",
    "print(f\"Start time: {datetime.now().strftime('%Y-%m-%d %H:%M:%S')}\")\n",
    "\n",
    "# Create a timestamp for this reorganization\n",
    "timestamp = datetime.now().strftime(\"%Y%m%d_%H%M%S\")\n",
    "output_dir = Path(OUTPUT_DIR) / f\"by_layer_{timestamp}\"\n",
    "output_dir.mkdir(parents=True, exist_ok=True)\n",
    "\n",
    "print(f\"Output directory: {output_dir}\")\n",
    "\n",
    "# Process all experiment directories\n",
    "start_time = time.time()\n",
    "processed_count = 0\n",
    "skipped_count = 0\n",
    "error_count = 0\n",
    "\n",
    "for i, exp_dir in enumerate(all_experiment_dirs):\n",
    "    print(f\"\\nProcessing experiment {i+1}/{total_experiments}: {exp_dir}\")\n",
    "    try:\n",
    "        process_experiment(exp_dir, output_dir, force=False)\n",
    "        processed_count += 1\n",
    "    except Exception as e:\n",
    "        print(f\"Error processing {exp_dir}: {str(e)}\")\n",
    "        error_count += 1\n",
    "\n",
    "elapsed_time = time.time() - start_time\n",
    "print(f\"\\nReorganization completed in {elapsed_time:.2f} seconds\")\n",
    "print(f\"End time: {datetime.now().strftime('%Y-%m-%d %H:%M:%S')}\")\n",
    "print(f\"Processed: {processed_count}/{total_experiments} experiments\")\n",
    "print(f\"Errors: {error_count}/{total_experiments} experiments\")\n",
    "\n",
    "# Verify the reorganized data\n",
    "print(\"\\nVerifying reorganized data...\")\n",
    "by_layer_dir = output_dir / \"by_layer\"\n",
    "if by_layer_dir.exists():\n",
    "    verify_layer_data(by_layer_dir)\n",
    "\n",
    "    # Check for corrupted files\n",
    "    print(\"\\nChecking for corrupted files...\")\n",
    "    cleanup_corrupted_files(by_layer_dir, delete=False)\n",
    "else:\n",
    "    print(f\"Directory {by_layer_dir} does not exist\")\n"
   ]
  },
  {
   "cell_type": "markdown",
   "metadata": {},
   "source": [
    "## 9. Summary and Next Steps\n",
    "\n",
    "After running the full reorganization, you'll have a complete by-layer structure of your experiment data. Here's what you can do next:\n",
    "\n",
    "1. Explore the reorganized data structure to verify it meets your requirements\n",
    "2. Delete any corrupted files if necessary (`cleanup_corrupted_files(by_layer_dir, delete=True)`)\n",
    "3. Use the reorganized data for your analysis, focusing on specific layers\n",
    "\n",
    "The reorganized structure makes it much easier to work with data from specific layers without loading entire residual streams, which is more memory-efficient for layer-specific analysis.\n"
   ]
  },
  {
   "cell_type": "code",
   "execution_count": null,
   "metadata": {},
   "outputs": [],
   "source": []
  }
 ],
 "metadata": {
  "kernelspec": {
   "display_name": "abstainer",
   "language": "python",
   "name": "python3"
  },
  "language_info": {
   "codemirror_mode": {
    "name": "ipython",
    "version": 3
   },
   "file_extension": ".py",
   "mimetype": "text/x-python",
   "name": "python",
   "nbconvert_exporter": "python",
   "pygments_lexer": "ipython3",
   "version": "3.13.7"
  }
 },
 "nbformat": 4,
 "nbformat_minor": 2
}
